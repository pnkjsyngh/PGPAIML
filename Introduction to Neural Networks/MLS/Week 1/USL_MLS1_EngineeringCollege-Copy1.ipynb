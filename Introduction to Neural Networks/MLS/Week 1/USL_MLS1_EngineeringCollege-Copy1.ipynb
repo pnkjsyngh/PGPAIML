{
 "cells": [
  {
   "cell_type": "markdown",
   "metadata": {},
   "source": [
    "\n",
    "# Engineering Colleges Case Study"
   ]
  },
  {
   "cell_type": "code",
   "execution_count": null,
   "metadata": {},
   "outputs": [],
   "source": [
    "import numpy as np\n",
    "import tensorflow as tf\n",
    "\n",
    "tf.random.set_seed(15)\n",
    "np.random.seed(15)\n",
    "\n",
    "random_state = # You do need this as well!"
   ]
  },
  {
   "cell_type": "code",
   "execution_count": null,
   "metadata": {},
   "outputs": [],
   "source": [
    "# Two types of models\n",
    "- Updatabale models (incremental learners) - online learning\n",
    "- non-updatable\n",
    "\n",
    "mlp, sgd-classifier\n",
    "\n",
    "# concept drift\n",
    "# NN (Deep Learning) -> partial_fit\n",
    "# online\n",
    "\n",
    "# Time-Complexity : \n",
    "# Space-Complexity: \n",
    "# Edge Cases:"
   ]
  },
  {
   "cell_type": "code",
   "execution_count": null,
   "metadata": {},
   "outputs": [],
   "source": [
    "Unsupervised:\n",
    "- Clustering (customer segmentation)\n",
    "- Dimentionality Reduction -> linearly or nonlinearly\n",
    "\n",
    "## Linear Algebra\n",
    "# Matrix - Eig values, Eig vectors\n",
    "# rank, degenaracy\n",
    "# covariance matrix\n",
    "# Decomposition -> SVD, ED\n",
    "# subspaces"
   ]
  },
  {
   "cell_type": "code",
   "execution_count": null,
   "metadata": {},
   "outputs": [],
   "source": [
    "# Euclidean Distance\n",
    "\n",
    "   F1  F2  F3 ...\n",
    "1  1   2.3  3.1\n",
    "2  1.5  100  0.9\n",
    "3  1.7\n",
    "4  3.3\n",
    "5  5\n",
    ".  ..\n",
    ".\n",
    ".\n",
    "n\n",
    "\n",
    "xi\n",
    "yi\n",
    "\n",
    "# Euclidean\n",
    "sum[(xi-yi)**2]\n",
    "= 0.5**2 + 97.7**2 + 2.2**2\n",
    "\n",
    "\n",
    "# Manhattan: Taxicab (rectilinear coordinate system)\n",
    "sum[abs(xi-yi)]\n",
    "0.5 + 97.7 + 2.2\n",
    "\n",
    "# Chebyshev: (chessboard)\n",
    "Max[abs(xi-yi)]\n",
    "97.7\n",
    "\n",
    "# General: Minkowski (order: p)"
   ]
  },
  {
   "cell_type": "code",
   "execution_count": null,
   "metadata": {},
   "outputs": [],
   "source": [
    "# Scaling:\n",
    "1. Supervised learning + Regularization (L1, L2)\n",
    "2. Unsupervised Clustering\n",
    "\n",
    "MinMaxScaler -> [0,1]\n",
    "StandarScaler -> mu=0, std = 1"
   ]
  },
  {
   "cell_type": "code",
   "execution_count": 4,
   "metadata": {},
   "outputs": [
    {
     "data": {
      "application/javascript": [
       "\n",
       "            setTimeout(function() {\n",
       "                var nbb_cell_id = 4;\n",
       "                var nbb_unformatted_code = \"df = pd.read_excel(\\\"./Engineering Colleges Case Study.xlsx\\\")\";\n",
       "                var nbb_formatted_code = \"df = pd.read_excel(\\\"./Engineering Colleges Case Study.xlsx\\\")\";\n",
       "                var nbb_cells = Jupyter.notebook.get_cells();\n",
       "                for (var i = 0; i < nbb_cells.length; ++i) {\n",
       "                    if (nbb_cells[i].input_prompt_number == nbb_cell_id) {\n",
       "                        if (nbb_cells[i].get_text() == nbb_unformatted_code) {\n",
       "                             nbb_cells[i].set_text(nbb_formatted_code);\n",
       "                        }\n",
       "                        break;\n",
       "                    }\n",
       "                }\n",
       "            }, 500);\n",
       "            "
      ],
      "text/plain": [
       "<IPython.core.display.Javascript object>"
      ]
     },
     "metadata": {},
     "output_type": "display_data"
    }
   ],
   "source": [
    "df = pd.read_excel(\"./Engineering Colleges Case Study.xlsx\")"
   ]
  },
  {
   "cell_type": "code",
   "execution_count": 7,
   "metadata": {},
   "outputs": [
    {
     "data": {
      "text/plain": [
       "2.8076923076923075"
      ]
     },
     "execution_count": 7,
     "metadata": {},
     "output_type": "execute_result"
    },
    {
     "data": {
      "application/javascript": [
       "\n",
       "            setTimeout(function() {\n",
       "                var nbb_cell_id = 7;\n",
       "                var nbb_unformatted_code = \"df[\\\"Teaching\\\"].mean()\";\n",
       "                var nbb_formatted_code = \"df[\\\"Teaching\\\"].mean()\";\n",
       "                var nbb_cells = Jupyter.notebook.get_cells();\n",
       "                for (var i = 0; i < nbb_cells.length; ++i) {\n",
       "                    if (nbb_cells[i].input_prompt_number == nbb_cell_id) {\n",
       "                        if (nbb_cells[i].get_text() == nbb_unformatted_code) {\n",
       "                             nbb_cells[i].set_text(nbb_formatted_code);\n",
       "                        }\n",
       "                        break;\n",
       "                    }\n",
       "                }\n",
       "            }, 500);\n",
       "            "
      ],
      "text/plain": [
       "<IPython.core.display.Javascript object>"
      ]
     },
     "metadata": {},
     "output_type": "display_data"
    }
   ],
   "source": [
    "df[\"Teaching\"].mean()"
   ]
  },
  {
   "cell_type": "code",
   "execution_count": 8,
   "metadata": {},
   "outputs": [
    {
     "data": {
      "text/plain": [
       "1.1320505560876961"
      ]
     },
     "execution_count": 8,
     "metadata": {},
     "output_type": "execute_result"
    },
    {
     "data": {
      "application/javascript": [
       "\n",
       "            setTimeout(function() {\n",
       "                var nbb_cell_id = 8;\n",
       "                var nbb_unformatted_code = \"df[\\\"Teaching\\\"].std()\";\n",
       "                var nbb_formatted_code = \"df[\\\"Teaching\\\"].std()\";\n",
       "                var nbb_cells = Jupyter.notebook.get_cells();\n",
       "                for (var i = 0; i < nbb_cells.length; ++i) {\n",
       "                    if (nbb_cells[i].input_prompt_number == nbb_cell_id) {\n",
       "                        if (nbb_cells[i].get_text() == nbb_unformatted_code) {\n",
       "                             nbb_cells[i].set_text(nbb_formatted_code);\n",
       "                        }\n",
       "                        break;\n",
       "                    }\n",
       "                }\n",
       "            }, 500);\n",
       "            "
      ],
      "text/plain": [
       "<IPython.core.display.Javascript object>"
      ]
     },
     "metadata": {},
     "output_type": "display_data"
    }
   ],
   "source": [
    "df[\"Teaching\"].std()"
   ]
  },
  {
   "cell_type": "code",
   "execution_count": 9,
   "metadata": {},
   "outputs": [
    {
     "data": {
      "text/plain": [
       "0     5\n",
       "1     4\n",
       "2     4\n",
       "3     5\n",
       "4     2\n",
       "5     3\n",
       "6     1\n",
       "7     4\n",
       "8     4\n",
       "9     3\n",
       "10    3\n",
       "11    2\n",
       "12    1\n",
       "13    3\n",
       "14    3\n",
       "15    3\n",
       "16    3\n",
       "17    3\n",
       "18    3\n",
       "19    3\n",
       "20    2\n",
       "21    2\n",
       "22    2\n",
       "23    1\n",
       "24    1\n",
       "25    3\n",
       "Name: Teaching, dtype: int64"
      ]
     },
     "execution_count": 9,
     "metadata": {},
     "output_type": "execute_result"
    },
    {
     "data": {
      "application/javascript": [
       "\n",
       "            setTimeout(function() {\n",
       "                var nbb_cell_id = 9;\n",
       "                var nbb_unformatted_code = \"df[\\\"Teaching\\\"]\";\n",
       "                var nbb_formatted_code = \"df[\\\"Teaching\\\"]\";\n",
       "                var nbb_cells = Jupyter.notebook.get_cells();\n",
       "                for (var i = 0; i < nbb_cells.length; ++i) {\n",
       "                    if (nbb_cells[i].input_prompt_number == nbb_cell_id) {\n",
       "                        if (nbb_cells[i].get_text() == nbb_unformatted_code) {\n",
       "                             nbb_cells[i].set_text(nbb_formatted_code);\n",
       "                        }\n",
       "                        break;\n",
       "                    }\n",
       "                }\n",
       "            }, 500);\n",
       "            "
      ],
      "text/plain": [
       "<IPython.core.display.Javascript object>"
      ]
     },
     "metadata": {},
     "output_type": "display_data"
    }
   ],
   "source": [
    "df[\"Teaching\"]"
   ]
  },
  {
   "cell_type": "code",
   "execution_count": 20,
   "metadata": {},
   "outputs": [
    {
     "data": {
      "application/javascript": [
       "\n",
       "            setTimeout(function() {\n",
       "                var nbb_cell_id = 20;\n",
       "                var nbb_unformatted_code = \"df = df.select_dtypes(np.number)\";\n",
       "                var nbb_formatted_code = \"df = df.select_dtypes(np.number)\";\n",
       "                var nbb_cells = Jupyter.notebook.get_cells();\n",
       "                for (var i = 0; i < nbb_cells.length; ++i) {\n",
       "                    if (nbb_cells[i].input_prompt_number == nbb_cell_id) {\n",
       "                        if (nbb_cells[i].get_text() == nbb_unformatted_code) {\n",
       "                             nbb_cells[i].set_text(nbb_formatted_code);\n",
       "                        }\n",
       "                        break;\n",
       "                    }\n",
       "                }\n",
       "            }, 500);\n",
       "            "
      ],
      "text/plain": [
       "<IPython.core.display.Javascript object>"
      ]
     },
     "metadata": {},
     "output_type": "display_data"
    }
   ],
   "source": [
    "df = df.select_dtypes(np.number)"
   ]
  },
  {
   "cell_type": "code",
   "execution_count": 22,
   "metadata": {},
   "outputs": [
    {
     "data": {
      "text/html": [
       "<div>\n",
       "<style scoped>\n",
       "    .dataframe tbody tr th:only-of-type {\n",
       "        vertical-align: middle;\n",
       "    }\n",
       "\n",
       "    .dataframe tbody tr th {\n",
       "        vertical-align: top;\n",
       "    }\n",
       "\n",
       "    .dataframe thead th {\n",
       "        text-align: right;\n",
       "    }\n",
       "</style>\n",
       "<table border=\"1\" class=\"dataframe\">\n",
       "  <thead>\n",
       "    <tr style=\"text-align: right;\">\n",
       "      <th></th>\n",
       "      <th>0</th>\n",
       "      <th>1</th>\n",
       "      <th>2</th>\n",
       "      <th>3</th>\n",
       "      <th>4</th>\n",
       "      <th>5</th>\n",
       "    </tr>\n",
       "  </thead>\n",
       "  <tbody>\n",
       "    <tr>\n",
       "      <th>0</th>\n",
       "      <td>-1.666667</td>\n",
       "      <td>1.974933</td>\n",
       "      <td>-1.20745</td>\n",
       "      <td>1.408406</td>\n",
       "      <td>1.830464</td>\n",
       "      <td>-0.302061</td>\n",
       "    </tr>\n",
       "    <tr>\n",
       "      <th>1</th>\n",
       "      <td>-1.533333</td>\n",
       "      <td>1.074086</td>\n",
       "      <td>-1.20745</td>\n",
       "      <td>1.408406</td>\n",
       "      <td>1.830464</td>\n",
       "      <td>-0.302061</td>\n",
       "    </tr>\n",
       "    <tr>\n",
       "      <th>2</th>\n",
       "      <td>-1.400000</td>\n",
       "      <td>1.074086</td>\n",
       "      <td>1.08965</td>\n",
       "      <td>1.408406</td>\n",
       "      <td>1.009911</td>\n",
       "      <td>1.268656</td>\n",
       "    </tr>\n",
       "    <tr>\n",
       "      <th>3</th>\n",
       "      <td>-1.266667</td>\n",
       "      <td>1.974933</td>\n",
       "      <td>0.32395</td>\n",
       "      <td>1.408406</td>\n",
       "      <td>1.009911</td>\n",
       "      <td>0.483298</td>\n",
       "    </tr>\n",
       "    <tr>\n",
       "      <th>4</th>\n",
       "      <td>-1.133333</td>\n",
       "      <td>-0.727607</td>\n",
       "      <td>1.08965</td>\n",
       "      <td>-0.588970</td>\n",
       "      <td>-0.631194</td>\n",
       "      <td>1.268656</td>\n",
       "    </tr>\n",
       "    <tr>\n",
       "      <th>5</th>\n",
       "      <td>-1.000000</td>\n",
       "      <td>0.173240</td>\n",
       "      <td>0.32395</td>\n",
       "      <td>0.076822</td>\n",
       "      <td>0.189358</td>\n",
       "      <td>0.483298</td>\n",
       "    </tr>\n",
       "    <tr>\n",
       "      <th>6</th>\n",
       "      <td>-0.866667</td>\n",
       "      <td>-1.628453</td>\n",
       "      <td>-0.44175</td>\n",
       "      <td>-1.254761</td>\n",
       "      <td>-1.451747</td>\n",
       "      <td>-1.087420</td>\n",
       "    </tr>\n",
       "    <tr>\n",
       "      <th>7</th>\n",
       "      <td>-0.733333</td>\n",
       "      <td>1.074086</td>\n",
       "      <td>0.32395</td>\n",
       "      <td>1.408406</td>\n",
       "      <td>1.830464</td>\n",
       "      <td>1.268656</td>\n",
       "    </tr>\n",
       "    <tr>\n",
       "      <th>8</th>\n",
       "      <td>-0.600000</td>\n",
       "      <td>1.074086</td>\n",
       "      <td>0.32395</td>\n",
       "      <td>0.742614</td>\n",
       "      <td>1.009911</td>\n",
       "      <td>0.483298</td>\n",
       "    </tr>\n",
       "    <tr>\n",
       "      <th>9</th>\n",
       "      <td>-0.466667</td>\n",
       "      <td>0.173240</td>\n",
       "      <td>0.32395</td>\n",
       "      <td>0.076822</td>\n",
       "      <td>1.009911</td>\n",
       "      <td>1.268656</td>\n",
       "    </tr>\n",
       "    <tr>\n",
       "      <th>10</th>\n",
       "      <td>-0.333333</td>\n",
       "      <td>0.173240</td>\n",
       "      <td>0.32395</td>\n",
       "      <td>0.076822</td>\n",
       "      <td>1.009911</td>\n",
       "      <td>1.268656</td>\n",
       "    </tr>\n",
       "    <tr>\n",
       "      <th>11</th>\n",
       "      <td>-0.200000</td>\n",
       "      <td>-0.727607</td>\n",
       "      <td>1.08965</td>\n",
       "      <td>0.076822</td>\n",
       "      <td>-0.631194</td>\n",
       "      <td>-0.302061</td>\n",
       "    </tr>\n",
       "    <tr>\n",
       "      <th>12</th>\n",
       "      <td>-0.066667</td>\n",
       "      <td>-1.628453</td>\n",
       "      <td>1.08965</td>\n",
       "      <td>-1.254761</td>\n",
       "      <td>-0.631194</td>\n",
       "      <td>-1.087420</td>\n",
       "    </tr>\n",
       "    <tr>\n",
       "      <th>13</th>\n",
       "      <td>0.066667</td>\n",
       "      <td>0.173240</td>\n",
       "      <td>1.08965</td>\n",
       "      <td>0.076822</td>\n",
       "      <td>0.189358</td>\n",
       "      <td>0.483298</td>\n",
       "    </tr>\n",
       "    <tr>\n",
       "      <th>14</th>\n",
       "      <td>0.200000</td>\n",
       "      <td>0.173240</td>\n",
       "      <td>-1.20745</td>\n",
       "      <td>-0.588970</td>\n",
       "      <td>-0.631194</td>\n",
       "      <td>-0.302061</td>\n",
       "    </tr>\n",
       "    <tr>\n",
       "      <th>15</th>\n",
       "      <td>0.333333</td>\n",
       "      <td>0.173240</td>\n",
       "      <td>-0.44175</td>\n",
       "      <td>-0.588970</td>\n",
       "      <td>-0.631194</td>\n",
       "      <td>-0.302061</td>\n",
       "    </tr>\n",
       "    <tr>\n",
       "      <th>16</th>\n",
       "      <td>0.466667</td>\n",
       "      <td>0.173240</td>\n",
       "      <td>-0.44175</td>\n",
       "      <td>-1.254761</td>\n",
       "      <td>-0.631194</td>\n",
       "      <td>-0.302061</td>\n",
       "    </tr>\n",
       "    <tr>\n",
       "      <th>17</th>\n",
       "      <td>0.600000</td>\n",
       "      <td>0.173240</td>\n",
       "      <td>0.32395</td>\n",
       "      <td>0.742614</td>\n",
       "      <td>0.189358</td>\n",
       "      <td>-0.302061</td>\n",
       "    </tr>\n",
       "    <tr>\n",
       "      <th>18</th>\n",
       "      <td>0.733333</td>\n",
       "      <td>0.173240</td>\n",
       "      <td>1.08965</td>\n",
       "      <td>0.742614</td>\n",
       "      <td>0.189358</td>\n",
       "      <td>-0.302061</td>\n",
       "    </tr>\n",
       "    <tr>\n",
       "      <th>19</th>\n",
       "      <td>0.866667</td>\n",
       "      <td>0.173240</td>\n",
       "      <td>1.08965</td>\n",
       "      <td>0.076822</td>\n",
       "      <td>-0.631194</td>\n",
       "      <td>-0.302061</td>\n",
       "    </tr>\n",
       "    <tr>\n",
       "      <th>20</th>\n",
       "      <td>1.000000</td>\n",
       "      <td>-0.727607</td>\n",
       "      <td>-1.20745</td>\n",
       "      <td>-0.588970</td>\n",
       "      <td>-0.631194</td>\n",
       "      <td>-1.872778</td>\n",
       "    </tr>\n",
       "    <tr>\n",
       "      <th>21</th>\n",
       "      <td>1.133333</td>\n",
       "      <td>-0.727607</td>\n",
       "      <td>-1.20745</td>\n",
       "      <td>-1.254761</td>\n",
       "      <td>-0.631194</td>\n",
       "      <td>-1.872778</td>\n",
       "    </tr>\n",
       "    <tr>\n",
       "      <th>22</th>\n",
       "      <td>1.266667</td>\n",
       "      <td>-0.727607</td>\n",
       "      <td>1.08965</td>\n",
       "      <td>-1.254761</td>\n",
       "      <td>-1.451747</td>\n",
       "      <td>-1.872778</td>\n",
       "    </tr>\n",
       "    <tr>\n",
       "      <th>23</th>\n",
       "      <td>1.400000</td>\n",
       "      <td>-1.628453</td>\n",
       "      <td>-1.97315</td>\n",
       "      <td>-1.254761</td>\n",
       "      <td>-0.631194</td>\n",
       "      <td>1.268656</td>\n",
       "    </tr>\n",
       "    <tr>\n",
       "      <th>24</th>\n",
       "      <td>1.533333</td>\n",
       "      <td>-1.628453</td>\n",
       "      <td>-1.97315</td>\n",
       "      <td>-1.254761</td>\n",
       "      <td>-1.451747</td>\n",
       "      <td>1.268656</td>\n",
       "    </tr>\n",
       "    <tr>\n",
       "      <th>25</th>\n",
       "      <td>1.666667</td>\n",
       "      <td>0.173240</td>\n",
       "      <td>0.32395</td>\n",
       "      <td>1.408406</td>\n",
       "      <td>-0.631194</td>\n",
       "      <td>-0.302061</td>\n",
       "    </tr>\n",
       "  </tbody>\n",
       "</table>\n",
       "</div>"
      ],
      "text/plain": [
       "           0         1        2         3         4         5\n",
       "0  -1.666667  1.974933 -1.20745  1.408406  1.830464 -0.302061\n",
       "1  -1.533333  1.074086 -1.20745  1.408406  1.830464 -0.302061\n",
       "2  -1.400000  1.074086  1.08965  1.408406  1.009911  1.268656\n",
       "3  -1.266667  1.974933  0.32395  1.408406  1.009911  0.483298\n",
       "4  -1.133333 -0.727607  1.08965 -0.588970 -0.631194  1.268656\n",
       "5  -1.000000  0.173240  0.32395  0.076822  0.189358  0.483298\n",
       "6  -0.866667 -1.628453 -0.44175 -1.254761 -1.451747 -1.087420\n",
       "7  -0.733333  1.074086  0.32395  1.408406  1.830464  1.268656\n",
       "8  -0.600000  1.074086  0.32395  0.742614  1.009911  0.483298\n",
       "9  -0.466667  0.173240  0.32395  0.076822  1.009911  1.268656\n",
       "10 -0.333333  0.173240  0.32395  0.076822  1.009911  1.268656\n",
       "11 -0.200000 -0.727607  1.08965  0.076822 -0.631194 -0.302061\n",
       "12 -0.066667 -1.628453  1.08965 -1.254761 -0.631194 -1.087420\n",
       "13  0.066667  0.173240  1.08965  0.076822  0.189358  0.483298\n",
       "14  0.200000  0.173240 -1.20745 -0.588970 -0.631194 -0.302061\n",
       "15  0.333333  0.173240 -0.44175 -0.588970 -0.631194 -0.302061\n",
       "16  0.466667  0.173240 -0.44175 -1.254761 -0.631194 -0.302061\n",
       "17  0.600000  0.173240  0.32395  0.742614  0.189358 -0.302061\n",
       "18  0.733333  0.173240  1.08965  0.742614  0.189358 -0.302061\n",
       "19  0.866667  0.173240  1.08965  0.076822 -0.631194 -0.302061\n",
       "20  1.000000 -0.727607 -1.20745 -0.588970 -0.631194 -1.872778\n",
       "21  1.133333 -0.727607 -1.20745 -1.254761 -0.631194 -1.872778\n",
       "22  1.266667 -0.727607  1.08965 -1.254761 -1.451747 -1.872778\n",
       "23  1.400000 -1.628453 -1.97315 -1.254761 -0.631194  1.268656\n",
       "24  1.533333 -1.628453 -1.97315 -1.254761 -1.451747  1.268656\n",
       "25  1.666667  0.173240  0.32395  1.408406 -0.631194 -0.302061"
      ]
     },
     "execution_count": 22,
     "metadata": {},
     "output_type": "execute_result"
    },
    {
     "data": {
      "application/javascript": [
       "\n",
       "            setTimeout(function() {\n",
       "                var nbb_cell_id = 22;\n",
       "                var nbb_unformatted_code = \"scaler = StandardScaler()\\npd.DataFrame(scaler.fit_transform(df))\";\n",
       "                var nbb_formatted_code = \"scaler = StandardScaler()\\npd.DataFrame(scaler.fit_transform(df))\";\n",
       "                var nbb_cells = Jupyter.notebook.get_cells();\n",
       "                for (var i = 0; i < nbb_cells.length; ++i) {\n",
       "                    if (nbb_cells[i].input_prompt_number == nbb_cell_id) {\n",
       "                        if (nbb_cells[i].get_text() == nbb_unformatted_code) {\n",
       "                             nbb_cells[i].set_text(nbb_formatted_code);\n",
       "                        }\n",
       "                        break;\n",
       "                    }\n",
       "                }\n",
       "            }, 500);\n",
       "            "
      ],
      "text/plain": [
       "<IPython.core.display.Javascript object>"
      ]
     },
     "metadata": {},
     "output_type": "display_data"
    }
   ],
   "source": [
    "scaler = StandardScaler()\n",
    "pd.DataFrame(scaler.fit_transform(df))"
   ]
  },
  {
   "cell_type": "code",
   "execution_count": 23,
   "metadata": {},
   "outputs": [
    {
     "data": {
      "application/javascript": [
       "\n",
       "            setTimeout(function() {\n",
       "                var nbb_cell_id = 23;\n",
       "                var nbb_unformatted_code = \"from scipy.stats import zscore\";\n",
       "                var nbb_formatted_code = \"from scipy.stats import zscore\";\n",
       "                var nbb_cells = Jupyter.notebook.get_cells();\n",
       "                for (var i = 0; i < nbb_cells.length; ++i) {\n",
       "                    if (nbb_cells[i].input_prompt_number == nbb_cell_id) {\n",
       "                        if (nbb_cells[i].get_text() == nbb_unformatted_code) {\n",
       "                             nbb_cells[i].set_text(nbb_formatted_code);\n",
       "                        }\n",
       "                        break;\n",
       "                    }\n",
       "                }\n",
       "            }, 500);\n",
       "            "
      ],
      "text/plain": [
       "<IPython.core.display.Javascript object>"
      ]
     },
     "metadata": {},
     "output_type": "display_data"
    }
   ],
   "source": [
    "from scipy.stats import zscore"
   ]
  },
  {
   "cell_type": "code",
   "execution_count": 26,
   "metadata": {},
   "outputs": [
    {
     "data": {
      "text/html": [
       "<div>\n",
       "<style scoped>\n",
       "    .dataframe tbody tr th:only-of-type {\n",
       "        vertical-align: middle;\n",
       "    }\n",
       "\n",
       "    .dataframe tbody tr th {\n",
       "        vertical-align: top;\n",
       "    }\n",
       "\n",
       "    .dataframe thead th {\n",
       "        text-align: right;\n",
       "    }\n",
       "</style>\n",
       "<table border=\"1\" class=\"dataframe\">\n",
       "  <thead>\n",
       "    <tr style=\"text-align: right;\">\n",
       "      <th></th>\n",
       "      <th>SR_NO</th>\n",
       "      <th>Teaching</th>\n",
       "      <th>Fees</th>\n",
       "      <th>Placements</th>\n",
       "      <th>Internship</th>\n",
       "      <th>Infrastructure</th>\n",
       "    </tr>\n",
       "  </thead>\n",
       "  <tbody>\n",
       "    <tr>\n",
       "      <th>0</th>\n",
       "      <td>-1.666667</td>\n",
       "      <td>1.974933</td>\n",
       "      <td>-1.20745</td>\n",
       "      <td>1.408406</td>\n",
       "      <td>1.830464</td>\n",
       "      <td>-0.302061</td>\n",
       "    </tr>\n",
       "    <tr>\n",
       "      <th>1</th>\n",
       "      <td>-1.533333</td>\n",
       "      <td>1.074086</td>\n",
       "      <td>-1.20745</td>\n",
       "      <td>1.408406</td>\n",
       "      <td>1.830464</td>\n",
       "      <td>-0.302061</td>\n",
       "    </tr>\n",
       "    <tr>\n",
       "      <th>2</th>\n",
       "      <td>-1.400000</td>\n",
       "      <td>1.074086</td>\n",
       "      <td>1.08965</td>\n",
       "      <td>1.408406</td>\n",
       "      <td>1.009911</td>\n",
       "      <td>1.268656</td>\n",
       "    </tr>\n",
       "    <tr>\n",
       "      <th>3</th>\n",
       "      <td>-1.266667</td>\n",
       "      <td>1.974933</td>\n",
       "      <td>0.32395</td>\n",
       "      <td>1.408406</td>\n",
       "      <td>1.009911</td>\n",
       "      <td>0.483298</td>\n",
       "    </tr>\n",
       "    <tr>\n",
       "      <th>4</th>\n",
       "      <td>-1.133333</td>\n",
       "      <td>-0.727607</td>\n",
       "      <td>1.08965</td>\n",
       "      <td>-0.588970</td>\n",
       "      <td>-0.631194</td>\n",
       "      <td>1.268656</td>\n",
       "    </tr>\n",
       "    <tr>\n",
       "      <th>5</th>\n",
       "      <td>-1.000000</td>\n",
       "      <td>0.173240</td>\n",
       "      <td>0.32395</td>\n",
       "      <td>0.076822</td>\n",
       "      <td>0.189358</td>\n",
       "      <td>0.483298</td>\n",
       "    </tr>\n",
       "    <tr>\n",
       "      <th>6</th>\n",
       "      <td>-0.866667</td>\n",
       "      <td>-1.628453</td>\n",
       "      <td>-0.44175</td>\n",
       "      <td>-1.254761</td>\n",
       "      <td>-1.451747</td>\n",
       "      <td>-1.087420</td>\n",
       "    </tr>\n",
       "    <tr>\n",
       "      <th>7</th>\n",
       "      <td>-0.733333</td>\n",
       "      <td>1.074086</td>\n",
       "      <td>0.32395</td>\n",
       "      <td>1.408406</td>\n",
       "      <td>1.830464</td>\n",
       "      <td>1.268656</td>\n",
       "    </tr>\n",
       "    <tr>\n",
       "      <th>8</th>\n",
       "      <td>-0.600000</td>\n",
       "      <td>1.074086</td>\n",
       "      <td>0.32395</td>\n",
       "      <td>0.742614</td>\n",
       "      <td>1.009911</td>\n",
       "      <td>0.483298</td>\n",
       "    </tr>\n",
       "    <tr>\n",
       "      <th>9</th>\n",
       "      <td>-0.466667</td>\n",
       "      <td>0.173240</td>\n",
       "      <td>0.32395</td>\n",
       "      <td>0.076822</td>\n",
       "      <td>1.009911</td>\n",
       "      <td>1.268656</td>\n",
       "    </tr>\n",
       "    <tr>\n",
       "      <th>10</th>\n",
       "      <td>-0.333333</td>\n",
       "      <td>0.173240</td>\n",
       "      <td>0.32395</td>\n",
       "      <td>0.076822</td>\n",
       "      <td>1.009911</td>\n",
       "      <td>1.268656</td>\n",
       "    </tr>\n",
       "    <tr>\n",
       "      <th>11</th>\n",
       "      <td>-0.200000</td>\n",
       "      <td>-0.727607</td>\n",
       "      <td>1.08965</td>\n",
       "      <td>0.076822</td>\n",
       "      <td>-0.631194</td>\n",
       "      <td>-0.302061</td>\n",
       "    </tr>\n",
       "    <tr>\n",
       "      <th>12</th>\n",
       "      <td>-0.066667</td>\n",
       "      <td>-1.628453</td>\n",
       "      <td>1.08965</td>\n",
       "      <td>-1.254761</td>\n",
       "      <td>-0.631194</td>\n",
       "      <td>-1.087420</td>\n",
       "    </tr>\n",
       "    <tr>\n",
       "      <th>13</th>\n",
       "      <td>0.066667</td>\n",
       "      <td>0.173240</td>\n",
       "      <td>1.08965</td>\n",
       "      <td>0.076822</td>\n",
       "      <td>0.189358</td>\n",
       "      <td>0.483298</td>\n",
       "    </tr>\n",
       "    <tr>\n",
       "      <th>14</th>\n",
       "      <td>0.200000</td>\n",
       "      <td>0.173240</td>\n",
       "      <td>-1.20745</td>\n",
       "      <td>-0.588970</td>\n",
       "      <td>-0.631194</td>\n",
       "      <td>-0.302061</td>\n",
       "    </tr>\n",
       "    <tr>\n",
       "      <th>15</th>\n",
       "      <td>0.333333</td>\n",
       "      <td>0.173240</td>\n",
       "      <td>-0.44175</td>\n",
       "      <td>-0.588970</td>\n",
       "      <td>-0.631194</td>\n",
       "      <td>-0.302061</td>\n",
       "    </tr>\n",
       "    <tr>\n",
       "      <th>16</th>\n",
       "      <td>0.466667</td>\n",
       "      <td>0.173240</td>\n",
       "      <td>-0.44175</td>\n",
       "      <td>-1.254761</td>\n",
       "      <td>-0.631194</td>\n",
       "      <td>-0.302061</td>\n",
       "    </tr>\n",
       "    <tr>\n",
       "      <th>17</th>\n",
       "      <td>0.600000</td>\n",
       "      <td>0.173240</td>\n",
       "      <td>0.32395</td>\n",
       "      <td>0.742614</td>\n",
       "      <td>0.189358</td>\n",
       "      <td>-0.302061</td>\n",
       "    </tr>\n",
       "    <tr>\n",
       "      <th>18</th>\n",
       "      <td>0.733333</td>\n",
       "      <td>0.173240</td>\n",
       "      <td>1.08965</td>\n",
       "      <td>0.742614</td>\n",
       "      <td>0.189358</td>\n",
       "      <td>-0.302061</td>\n",
       "    </tr>\n",
       "    <tr>\n",
       "      <th>19</th>\n",
       "      <td>0.866667</td>\n",
       "      <td>0.173240</td>\n",
       "      <td>1.08965</td>\n",
       "      <td>0.076822</td>\n",
       "      <td>-0.631194</td>\n",
       "      <td>-0.302061</td>\n",
       "    </tr>\n",
       "    <tr>\n",
       "      <th>20</th>\n",
       "      <td>1.000000</td>\n",
       "      <td>-0.727607</td>\n",
       "      <td>-1.20745</td>\n",
       "      <td>-0.588970</td>\n",
       "      <td>-0.631194</td>\n",
       "      <td>-1.872778</td>\n",
       "    </tr>\n",
       "    <tr>\n",
       "      <th>21</th>\n",
       "      <td>1.133333</td>\n",
       "      <td>-0.727607</td>\n",
       "      <td>-1.20745</td>\n",
       "      <td>-1.254761</td>\n",
       "      <td>-0.631194</td>\n",
       "      <td>-1.872778</td>\n",
       "    </tr>\n",
       "    <tr>\n",
       "      <th>22</th>\n",
       "      <td>1.266667</td>\n",
       "      <td>-0.727607</td>\n",
       "      <td>1.08965</td>\n",
       "      <td>-1.254761</td>\n",
       "      <td>-1.451747</td>\n",
       "      <td>-1.872778</td>\n",
       "    </tr>\n",
       "    <tr>\n",
       "      <th>23</th>\n",
       "      <td>1.400000</td>\n",
       "      <td>-1.628453</td>\n",
       "      <td>-1.97315</td>\n",
       "      <td>-1.254761</td>\n",
       "      <td>-0.631194</td>\n",
       "      <td>1.268656</td>\n",
       "    </tr>\n",
       "    <tr>\n",
       "      <th>24</th>\n",
       "      <td>1.533333</td>\n",
       "      <td>-1.628453</td>\n",
       "      <td>-1.97315</td>\n",
       "      <td>-1.254761</td>\n",
       "      <td>-1.451747</td>\n",
       "      <td>1.268656</td>\n",
       "    </tr>\n",
       "    <tr>\n",
       "      <th>25</th>\n",
       "      <td>1.666667</td>\n",
       "      <td>0.173240</td>\n",
       "      <td>0.32395</td>\n",
       "      <td>1.408406</td>\n",
       "      <td>-0.631194</td>\n",
       "      <td>-0.302061</td>\n",
       "    </tr>\n",
       "  </tbody>\n",
       "</table>\n",
       "</div>"
      ],
      "text/plain": [
       "       SR_NO  Teaching     Fees  Placements  Internship  Infrastructure\n",
       "0  -1.666667  1.974933 -1.20745    1.408406    1.830464       -0.302061\n",
       "1  -1.533333  1.074086 -1.20745    1.408406    1.830464       -0.302061\n",
       "2  -1.400000  1.074086  1.08965    1.408406    1.009911        1.268656\n",
       "3  -1.266667  1.974933  0.32395    1.408406    1.009911        0.483298\n",
       "4  -1.133333 -0.727607  1.08965   -0.588970   -0.631194        1.268656\n",
       "5  -1.000000  0.173240  0.32395    0.076822    0.189358        0.483298\n",
       "6  -0.866667 -1.628453 -0.44175   -1.254761   -1.451747       -1.087420\n",
       "7  -0.733333  1.074086  0.32395    1.408406    1.830464        1.268656\n",
       "8  -0.600000  1.074086  0.32395    0.742614    1.009911        0.483298\n",
       "9  -0.466667  0.173240  0.32395    0.076822    1.009911        1.268656\n",
       "10 -0.333333  0.173240  0.32395    0.076822    1.009911        1.268656\n",
       "11 -0.200000 -0.727607  1.08965    0.076822   -0.631194       -0.302061\n",
       "12 -0.066667 -1.628453  1.08965   -1.254761   -0.631194       -1.087420\n",
       "13  0.066667  0.173240  1.08965    0.076822    0.189358        0.483298\n",
       "14  0.200000  0.173240 -1.20745   -0.588970   -0.631194       -0.302061\n",
       "15  0.333333  0.173240 -0.44175   -0.588970   -0.631194       -0.302061\n",
       "16  0.466667  0.173240 -0.44175   -1.254761   -0.631194       -0.302061\n",
       "17  0.600000  0.173240  0.32395    0.742614    0.189358       -0.302061\n",
       "18  0.733333  0.173240  1.08965    0.742614    0.189358       -0.302061\n",
       "19  0.866667  0.173240  1.08965    0.076822   -0.631194       -0.302061\n",
       "20  1.000000 -0.727607 -1.20745   -0.588970   -0.631194       -1.872778\n",
       "21  1.133333 -0.727607 -1.20745   -1.254761   -0.631194       -1.872778\n",
       "22  1.266667 -0.727607  1.08965   -1.254761   -1.451747       -1.872778\n",
       "23  1.400000 -1.628453 -1.97315   -1.254761   -0.631194        1.268656\n",
       "24  1.533333 -1.628453 -1.97315   -1.254761   -1.451747        1.268656\n",
       "25  1.666667  0.173240  0.32395    1.408406   -0.631194       -0.302061"
      ]
     },
     "execution_count": 26,
     "metadata": {},
     "output_type": "execute_result"
    },
    {
     "data": {
      "application/javascript": [
       "\n",
       "            setTimeout(function() {\n",
       "                var nbb_cell_id = 26;\n",
       "                var nbb_unformatted_code = \"df.apply(zscore)\";\n",
       "                var nbb_formatted_code = \"df.apply(zscore)\";\n",
       "                var nbb_cells = Jupyter.notebook.get_cells();\n",
       "                for (var i = 0; i < nbb_cells.length; ++i) {\n",
       "                    if (nbb_cells[i].input_prompt_number == nbb_cell_id) {\n",
       "                        if (nbb_cells[i].get_text() == nbb_unformatted_code) {\n",
       "                             nbb_cells[i].set_text(nbb_formatted_code);\n",
       "                        }\n",
       "                        break;\n",
       "                    }\n",
       "                }\n",
       "            }, 500);\n",
       "            "
      ],
      "text/plain": [
       "<IPython.core.display.Javascript object>"
      ]
     },
     "metadata": {},
     "output_type": "display_data"
    }
   ],
   "source": [
    "df.apply(zscore)"
   ]
  },
  {
   "cell_type": "code",
   "execution_count": null,
   "metadata": {},
   "outputs": [],
   "source": [
    "# Centroid-Based\n",
    "# Connectivity-Based\n",
    "# Fuzzy Clustering\n",
    "# Density Based -> DBSCAN\n",
    "# Distribution-Based "
   ]
  },
  {
   "cell_type": "code",
   "execution_count": null,
   "metadata": {},
   "outputs": [],
   "source": [
    "model = KMeans()\n",
    "model.fit(df)\n",
    "model.predict(new_df)\n",
    "\n",
    "model.labels_\n",
    "\n",
    "# not all clustering techniques have '.predict'!! KMeans does have though!"
   ]
  },
  {
   "cell_type": "code",
   "execution_count": 33,
   "metadata": {},
   "outputs": [
    {
     "data": {
      "text/plain": [
       "KMeans(n_clusters=5, random_state=0)"
      ]
     },
     "execution_count": 33,
     "metadata": {},
     "output_type": "execute_result"
    },
    {
     "data": {
      "application/javascript": [
       "\n",
       "            setTimeout(function() {\n",
       "                var nbb_cell_id = 33;\n",
       "                var nbb_unformatted_code = \"model = KMeans(n_clusters=5, random_state=0)\\nmodel.fit(df)\";\n",
       "                var nbb_formatted_code = \"model = KMeans(n_clusters=5, random_state=0)\\nmodel.fit(df)\";\n",
       "                var nbb_cells = Jupyter.notebook.get_cells();\n",
       "                for (var i = 0; i < nbb_cells.length; ++i) {\n",
       "                    if (nbb_cells[i].input_prompt_number == nbb_cell_id) {\n",
       "                        if (nbb_cells[i].get_text() == nbb_unformatted_code) {\n",
       "                             nbb_cells[i].set_text(nbb_formatted_code);\n",
       "                        }\n",
       "                        break;\n",
       "                    }\n",
       "                }\n",
       "            }, 500);\n",
       "            "
      ],
      "text/plain": [
       "<IPython.core.display.Javascript object>"
      ]
     },
     "metadata": {},
     "output_type": "display_data"
    }
   ],
   "source": [
    "model = KMeans(n_clusters=5, random_state=0)\n",
    "model.fit(df)"
   ]
  },
  {
   "cell_type": "code",
   "execution_count": 34,
   "metadata": {},
   "outputs": [
    {
     "data": {
      "text/plain": [
       "array([1, 1, 1, 1, 4, 4, 4, 4, 4, 4, 4, 3, 3, 3, 3, 0, 0, 0, 0, 0, 2, 2,\n",
       "       2, 2, 2, 2])"
      ]
     },
     "execution_count": 34,
     "metadata": {},
     "output_type": "execute_result"
    },
    {
     "data": {
      "application/javascript": [
       "\n",
       "            setTimeout(function() {\n",
       "                var nbb_cell_id = 34;\n",
       "                var nbb_unformatted_code = \"model.labels_\";\n",
       "                var nbb_formatted_code = \"model.labels_\";\n",
       "                var nbb_cells = Jupyter.notebook.get_cells();\n",
       "                for (var i = 0; i < nbb_cells.length; ++i) {\n",
       "                    if (nbb_cells[i].input_prompt_number == nbb_cell_id) {\n",
       "                        if (nbb_cells[i].get_text() == nbb_unformatted_code) {\n",
       "                             nbb_cells[i].set_text(nbb_formatted_code);\n",
       "                        }\n",
       "                        break;\n",
       "                    }\n",
       "                }\n",
       "            }, 500);\n",
       "            "
      ],
      "text/plain": [
       "<IPython.core.display.Javascript object>"
      ]
     },
     "metadata": {},
     "output_type": "display_data"
    }
   ],
   "source": [
    "model.labels_"
   ]
  },
  {
   "cell_type": "code",
   "execution_count": 36,
   "metadata": {},
   "outputs": [
    {
     "data": {
      "application/javascript": [
       "\n",
       "            setTimeout(function() {\n",
       "                var nbb_cell_id = 36;\n",
       "                var nbb_unformatted_code = \"from scipy.spatial.distance import cdist, pdist\";\n",
       "                var nbb_formatted_code = \"from scipy.spatial.distance import cdist, pdist\";\n",
       "                var nbb_cells = Jupyter.notebook.get_cells();\n",
       "                for (var i = 0; i < nbb_cells.length; ++i) {\n",
       "                    if (nbb_cells[i].input_prompt_number == nbb_cell_id) {\n",
       "                        if (nbb_cells[i].get_text() == nbb_unformatted_code) {\n",
       "                             nbb_cells[i].set_text(nbb_formatted_code);\n",
       "                        }\n",
       "                        break;\n",
       "                    }\n",
       "                }\n",
       "            }, 500);\n",
       "            "
      ],
      "text/plain": [
       "<IPython.core.display.Javascript object>"
      ]
     },
     "metadata": {},
     "output_type": "display_data"
    }
   ],
   "source": [
    "from scipy.spatial.distance import cdist, pdist"
   ]
  },
  {
   "cell_type": "code",
   "execution_count": 38,
   "metadata": {},
   "outputs": [
    {
     "data": {
      "text/plain": [
       "(325,)"
      ]
     },
     "execution_count": 38,
     "metadata": {},
     "output_type": "execute_result"
    },
    {
     "data": {
      "application/javascript": [
       "\n",
       "            setTimeout(function() {\n",
       "                var nbb_cell_id = 38;\n",
       "                var nbb_unformatted_code = \"pdist(df).shape\";\n",
       "                var nbb_formatted_code = \"pdist(df).shape\";\n",
       "                var nbb_cells = Jupyter.notebook.get_cells();\n",
       "                for (var i = 0; i < nbb_cells.length; ++i) {\n",
       "                    if (nbb_cells[i].input_prompt_number == nbb_cell_id) {\n",
       "                        if (nbb_cells[i].get_text() == nbb_unformatted_code) {\n",
       "                             nbb_cells[i].set_text(nbb_formatted_code);\n",
       "                        }\n",
       "                        break;\n",
       "                    }\n",
       "                }\n",
       "            }, 500);\n",
       "            "
      ],
      "text/plain": [
       "<IPython.core.display.Javascript object>"
      ]
     },
     "metadata": {},
     "output_type": "display_data"
    }
   ],
   "source": [
    "pdist(df).shape"
   ]
  },
  {
   "cell_type": "code",
   "execution_count": 39,
   "metadata": {},
   "outputs": [
    {
     "data": {
      "text/plain": [
       "(26, 6)"
      ]
     },
     "execution_count": 39,
     "metadata": {},
     "output_type": "execute_result"
    },
    {
     "data": {
      "application/javascript": [
       "\n",
       "            setTimeout(function() {\n",
       "                var nbb_cell_id = 39;\n",
       "                var nbb_unformatted_code = \"df.shape\";\n",
       "                var nbb_formatted_code = \"df.shape\";\n",
       "                var nbb_cells = Jupyter.notebook.get_cells();\n",
       "                for (var i = 0; i < nbb_cells.length; ++i) {\n",
       "                    if (nbb_cells[i].input_prompt_number == nbb_cell_id) {\n",
       "                        if (nbb_cells[i].get_text() == nbb_unformatted_code) {\n",
       "                             nbb_cells[i].set_text(nbb_formatted_code);\n",
       "                        }\n",
       "                        break;\n",
       "                    }\n",
       "                }\n",
       "            }, 500);\n",
       "            "
      ],
      "text/plain": [
       "<IPython.core.display.Javascript object>"
      ]
     },
     "metadata": {},
     "output_type": "display_data"
    }
   ],
   "source": [
    "df.shape"
   ]
  },
  {
   "cell_type": "code",
   "execution_count": null,
   "metadata": {},
   "outputs": [],
   "source": [
    "1  1\n",
    "2  2\n",
    "3  3\n",
    "4 ...\n",
    "5\n",
    "6\n",
    "..\n",
    "26"
   ]
  },
  {
   "cell_type": "code",
   "execution_count": null,
   "metadata": {},
   "outputs": [],
   "source": [
    "n*(n-1)/2"
   ]
  },
  {
   "cell_type": "code",
   "execution_count": 40,
   "metadata": {},
   "outputs": [
    {
     "data": {
      "text/plain": [
       "325.0"
      ]
     },
     "execution_count": 40,
     "metadata": {},
     "output_type": "execute_result"
    },
    {
     "data": {
      "application/javascript": [
       "\n",
       "            setTimeout(function() {\n",
       "                var nbb_cell_id = 40;\n",
       "                var nbb_unformatted_code = \"26*25/2\";\n",
       "                var nbb_formatted_code = \"26 * 25 / 2\";\n",
       "                var nbb_cells = Jupyter.notebook.get_cells();\n",
       "                for (var i = 0; i < nbb_cells.length; ++i) {\n",
       "                    if (nbb_cells[i].input_prompt_number == nbb_cell_id) {\n",
       "                        if (nbb_cells[i].get_text() == nbb_unformatted_code) {\n",
       "                             nbb_cells[i].set_text(nbb_formatted_code);\n",
       "                        }\n",
       "                        break;\n",
       "                    }\n",
       "                }\n",
       "            }, 500);\n",
       "            "
      ],
      "text/plain": [
       "<IPython.core.display.Javascript object>"
      ]
     },
     "metadata": {},
     "output_type": "display_data"
    }
   ],
   "source": [
    "26 * 25 / 2"
   ]
  },
  {
   "cell_type": "code",
   "execution_count": 80,
   "metadata": {},
   "outputs": [
    {
     "data": {
      "text/plain": [
       "Index(['SR_NO', 'Teaching', 'Fees', 'Placements', 'Internship',\n",
       "       'Infrastructure'],\n",
       "      dtype='object')"
      ]
     },
     "execution_count": 80,
     "metadata": {},
     "output_type": "execute_result"
    },
    {
     "data": {
      "application/javascript": [
       "\n",
       "            setTimeout(function() {\n",
       "                var nbb_cell_id = 80;\n",
       "                var nbb_unformatted_code = \"cdist(df, df).shape\\ndf.columns\";\n",
       "                var nbb_formatted_code = \"cdist(df, df).shape\\ndf.columns\";\n",
       "                var nbb_cells = Jupyter.notebook.get_cells();\n",
       "                for (var i = 0; i < nbb_cells.length; ++i) {\n",
       "                    if (nbb_cells[i].input_prompt_number == nbb_cell_id) {\n",
       "                        if (nbb_cells[i].get_text() == nbb_unformatted_code) {\n",
       "                             nbb_cells[i].set_text(nbb_formatted_code);\n",
       "                        }\n",
       "                        break;\n",
       "                    }\n",
       "                }\n",
       "            }, 500);\n",
       "            "
      ],
      "text/plain": [
       "<IPython.core.display.Javascript object>"
      ]
     },
     "metadata": {},
     "output_type": "display_data"
    }
   ],
   "source": [
    "cdist(df, df).shape\n",
    "df.columns"
   ]
  },
  {
   "cell_type": "code",
   "execution_count": 84,
   "metadata": {},
   "outputs": [
    {
     "data": {
      "text/plain": [
       "array([[15.        ,  2.66666667,  4.        ,  2.55555556,  2.55555556,\n",
       "         3.22222222],\n",
       "       [ 5.5       ,  3.5       ,  3.7       ,  3.8       ,  3.7       ,\n",
       "         4.        ],\n",
       "       [23.        ,  2.        ,  2.85714286,  2.        ,  1.71428571,\n",
       "         2.71428571]])"
      ]
     },
     "execution_count": 84,
     "metadata": {},
     "output_type": "execute_result"
    },
    {
     "data": {
      "application/javascript": [
       "\n",
       "            setTimeout(function() {\n",
       "                var nbb_cell_id = 84;\n",
       "                var nbb_unformatted_code = \"model.cluster_centers_\";\n",
       "                var nbb_formatted_code = \"model.cluster_centers_\";\n",
       "                var nbb_cells = Jupyter.notebook.get_cells();\n",
       "                for (var i = 0; i < nbb_cells.length; ++i) {\n",
       "                    if (nbb_cells[i].input_prompt_number == nbb_cell_id) {\n",
       "                        if (nbb_cells[i].get_text() == nbb_unformatted_code) {\n",
       "                             nbb_cells[i].set_text(nbb_formatted_code);\n",
       "                        }\n",
       "                        break;\n",
       "                    }\n",
       "                }\n",
       "            }, 500);\n",
       "            "
      ],
      "text/plain": [
       "<IPython.core.display.Javascript object>"
      ]
     },
     "metadata": {},
     "output_type": "display_data"
    }
   ],
   "source": [
    "model.cluster_centers_"
   ]
  },
  {
   "cell_type": "code",
   "execution_count": 94,
   "metadata": {},
   "outputs": [
    {
     "data": {
      "text/plain": [
       "KMeans(n_clusters=3, n_init=100, random_state=3)"
      ]
     },
     "execution_count": 94,
     "metadata": {},
     "output_type": "execute_result"
    },
    {
     "data": {
      "application/javascript": [
       "\n",
       "            setTimeout(function() {\n",
       "                var nbb_cell_id = 94;\n",
       "                var nbb_unformatted_code = \"model = KMeans(n_clusters=3, random_state=3, n_init=100)\\nmodel.fit(df)\";\n",
       "                var nbb_formatted_code = \"model = KMeans(n_clusters=3, random_state=3, n_init=100)\\nmodel.fit(df)\";\n",
       "                var nbb_cells = Jupyter.notebook.get_cells();\n",
       "                for (var i = 0; i < nbb_cells.length; ++i) {\n",
       "                    if (nbb_cells[i].input_prompt_number == nbb_cell_id) {\n",
       "                        if (nbb_cells[i].get_text() == nbb_unformatted_code) {\n",
       "                             nbb_cells[i].set_text(nbb_formatted_code);\n",
       "                        }\n",
       "                        break;\n",
       "                    }\n",
       "                }\n",
       "            }, 500);\n",
       "            "
      ],
      "text/plain": [
       "<IPython.core.display.Javascript object>"
      ]
     },
     "metadata": {},
     "output_type": "display_data"
    }
   ],
   "source": [
    "model = KMeans(n_clusters=3, random_state=3, n_init=100)\n",
    "model.fit(df)"
   ]
  },
  {
   "cell_type": "code",
   "execution_count": 87,
   "metadata": {},
   "outputs": [
    {
     "data": {
      "text/html": [
       "<div>\n",
       "<style scoped>\n",
       "    .dataframe tbody tr th:only-of-type {\n",
       "        vertical-align: middle;\n",
       "    }\n",
       "\n",
       "    .dataframe tbody tr th {\n",
       "        vertical-align: top;\n",
       "    }\n",
       "\n",
       "    .dataframe thead th {\n",
       "        text-align: right;\n",
       "    }\n",
       "</style>\n",
       "<table border=\"1\" class=\"dataframe\">\n",
       "  <thead>\n",
       "    <tr style=\"text-align: right;\">\n",
       "      <th></th>\n",
       "      <th>0</th>\n",
       "      <th>1</th>\n",
       "      <th>2</th>\n",
       "      <th>3</th>\n",
       "      <th>4</th>\n",
       "      <th>5</th>\n",
       "    </tr>\n",
       "  </thead>\n",
       "  <tbody>\n",
       "    <tr>\n",
       "      <th>0</th>\n",
       "      <td>15.0</td>\n",
       "      <td>2.666667</td>\n",
       "      <td>4.000000</td>\n",
       "      <td>2.555556</td>\n",
       "      <td>2.555556</td>\n",
       "      <td>3.222222</td>\n",
       "    </tr>\n",
       "    <tr>\n",
       "      <th>1</th>\n",
       "      <td>5.5</td>\n",
       "      <td>3.500000</td>\n",
       "      <td>3.700000</td>\n",
       "      <td>3.800000</td>\n",
       "      <td>3.700000</td>\n",
       "      <td>4.000000</td>\n",
       "    </tr>\n",
       "    <tr>\n",
       "      <th>2</th>\n",
       "      <td>23.0</td>\n",
       "      <td>2.000000</td>\n",
       "      <td>2.857143</td>\n",
       "      <td>2.000000</td>\n",
       "      <td>1.714286</td>\n",
       "      <td>2.714286</td>\n",
       "    </tr>\n",
       "  </tbody>\n",
       "</table>\n",
       "</div>"
      ],
      "text/plain": [
       "      0         1         2         3         4         5\n",
       "0  15.0  2.666667  4.000000  2.555556  2.555556  3.222222\n",
       "1   5.5  3.500000  3.700000  3.800000  3.700000  4.000000\n",
       "2  23.0  2.000000  2.857143  2.000000  1.714286  2.714286"
      ]
     },
     "execution_count": 87,
     "metadata": {},
     "output_type": "execute_result"
    },
    {
     "data": {
      "application/javascript": [
       "\n",
       "            setTimeout(function() {\n",
       "                var nbb_cell_id = 87;\n",
       "                var nbb_unformatted_code = \"pd.DataFrame(model.cluster_centers_)\";\n",
       "                var nbb_formatted_code = \"pd.DataFrame(model.cluster_centers_)\";\n",
       "                var nbb_cells = Jupyter.notebook.get_cells();\n",
       "                for (var i = 0; i < nbb_cells.length; ++i) {\n",
       "                    if (nbb_cells[i].input_prompt_number == nbb_cell_id) {\n",
       "                        if (nbb_cells[i].get_text() == nbb_unformatted_code) {\n",
       "                             nbb_cells[i].set_text(nbb_formatted_code);\n",
       "                        }\n",
       "                        break;\n",
       "                    }\n",
       "                }\n",
       "            }, 500);\n",
       "            "
      ],
      "text/plain": [
       "<IPython.core.display.Javascript object>"
      ]
     },
     "metadata": {},
     "output_type": "display_data"
    }
   ],
   "source": [
    "pd.DataFrame(model.cluster_centers_)"
   ]
  },
  {
   "cell_type": "code",
   "execution_count": 88,
   "metadata": {},
   "outputs": [
    {
     "name": "stderr",
     "output_type": "stream",
     "text": [
      "C:\\Users\\parva\\anaconda3\\lib\\site-packages\\seaborn\\_decorators.py:36: FutureWarning: Pass the following variables as keyword args: x, y. From version 0.12, the only valid positional argument will be `data`, and passing other arguments without an explicit keyword will result in an error or misinterpretation.\n",
      "  warnings.warn(\n"
     ]
    },
    {
     "data": {
      "text/plain": [
       "<seaborn.axisgrid.JointGrid at 0x1929e29ecd0>"
      ]
     },
     "execution_count": 88,
     "metadata": {},
     "output_type": "execute_result"
    },
    {
     "data": {
      "image/png": "[encoded data removed]",
      "text/plain": [
       "<Figure size 432x432 with 3 Axes>"
      ]
     },
     "metadata": {},
     "output_type": "display_data"
    },
    {
     "data": {
      "application/javascript": [
       "\n",
       "            setTimeout(function() {\n",
       "                var nbb_cell_id = 88;\n",
       "                var nbb_unformatted_code = \"sns.jointplot(df[\\\"Teaching\\\"], df[\\\"Fees\\\"], hue=model.labels_)\";\n",
       "                var nbb_formatted_code = \"sns.jointplot(df[\\\"Teaching\\\"], df[\\\"Fees\\\"], hue=model.labels_)\";\n",
       "                var nbb_cells = Jupyter.notebook.get_cells();\n",
       "                for (var i = 0; i < nbb_cells.length; ++i) {\n",
       "                    if (nbb_cells[i].input_prompt_number == nbb_cell_id) {\n",
       "                        if (nbb_cells[i].get_text() == nbb_unformatted_code) {\n",
       "                             nbb_cells[i].set_text(nbb_formatted_code);\n",
       "                        }\n",
       "                        break;\n",
       "                    }\n",
       "                }\n",
       "            }, 500);\n",
       "            "
      ],
      "text/plain": [
       "<IPython.core.display.Javascript object>"
      ]
     },
     "metadata": {},
     "output_type": "display_data"
    }
   ],
   "source": [
    "sns.jointplot(df[\"Teaching\"], df[\"Fees\"], hue=model.labels_)"
   ]
  },
  {
   "cell_type": "code",
   "execution_count": 93,
   "metadata": {},
   "outputs": [
    {
     "name": "stderr",
     "output_type": "stream",
     "text": [
      "C:\\Users\\parva\\anaconda3\\lib\\site-packages\\seaborn\\_decorators.py:36: FutureWarning: Pass the following variables as keyword args: x, y. From version 0.12, the only valid positional argument will be `data`, and passing other arguments without an explicit keyword will result in an error or misinterpretation.\n",
      "  warnings.warn(\n"
     ]
    },
    {
     "data": {
      "text/plain": [
       "<seaborn.axisgrid.JointGrid at 0x1929e455700>"
      ]
     },
     "execution_count": 93,
     "metadata": {},
     "output_type": "execute_result"
    },
    {
     "data": {
      "image/png": "[encoded data removed]",
      "text/plain": [
       "<Figure size 432x432 with 3 Axes>"
      ]
     },
     "metadata": {},
     "output_type": "display_data"
    },
    {
     "data": {
      "application/javascript": [
       "\n",
       "            setTimeout(function() {\n",
       "                var nbb_cell_id = 93;\n",
       "                var nbb_unformatted_code = \"sns.jointplot(df[\\\"Teaching\\\"], df[\\\"Fees\\\"], hue=model.labels_)\";\n",
       "                var nbb_formatted_code = \"sns.jointplot(df[\\\"Teaching\\\"], df[\\\"Fees\\\"], hue=model.labels_)\";\n",
       "                var nbb_cells = Jupyter.notebook.get_cells();\n",
       "                for (var i = 0; i < nbb_cells.length; ++i) {\n",
       "                    if (nbb_cells[i].input_prompt_number == nbb_cell_id) {\n",
       "                        if (nbb_cells[i].get_text() == nbb_unformatted_code) {\n",
       "                             nbb_cells[i].set_text(nbb_formatted_code);\n",
       "                        }\n",
       "                        break;\n",
       "                    }\n",
       "                }\n",
       "            }, 500);\n",
       "            "
      ],
      "text/plain": [
       "<IPython.core.display.Javascript object>"
      ]
     },
     "metadata": {},
     "output_type": "display_data"
    }
   ],
   "source": [
    "sns.jointplot(df[\"Teaching\"], df[\"Fees\"], hue=model.labels_)"
   ]
  },
  {
   "cell_type": "code",
   "execution_count": 95,
   "metadata": {},
   "outputs": [
    {
     "data": {
      "text/html": [
       "<div>\n",
       "<style scoped>\n",
       "    .dataframe tbody tr th:only-of-type {\n",
       "        vertical-align: middle;\n",
       "    }\n",
       "\n",
       "    .dataframe tbody tr th {\n",
       "        vertical-align: top;\n",
       "    }\n",
       "\n",
       "    .dataframe thead th {\n",
       "        text-align: right;\n",
       "    }\n",
       "</style>\n",
       "<table border=\"1\" class=\"dataframe\">\n",
       "  <thead>\n",
       "    <tr style=\"text-align: right;\">\n",
       "      <th></th>\n",
       "      <th>0</th>\n",
       "      <th>1</th>\n",
       "      <th>2</th>\n",
       "      <th>3</th>\n",
       "      <th>4</th>\n",
       "      <th>5</th>\n",
       "    </tr>\n",
       "  </thead>\n",
       "  <tbody>\n",
       "    <tr>\n",
       "      <th>0</th>\n",
       "      <td>5.5</td>\n",
       "      <td>3.500000</td>\n",
       "      <td>3.700000</td>\n",
       "      <td>3.800000</td>\n",
       "      <td>3.700000</td>\n",
       "      <td>4.000000</td>\n",
       "    </tr>\n",
       "    <tr>\n",
       "      <th>1</th>\n",
       "      <td>15.0</td>\n",
       "      <td>2.666667</td>\n",
       "      <td>4.000000</td>\n",
       "      <td>2.555556</td>\n",
       "      <td>2.555556</td>\n",
       "      <td>3.222222</td>\n",
       "    </tr>\n",
       "    <tr>\n",
       "      <th>2</th>\n",
       "      <td>23.0</td>\n",
       "      <td>2.000000</td>\n",
       "      <td>2.857143</td>\n",
       "      <td>2.000000</td>\n",
       "      <td>1.714286</td>\n",
       "      <td>2.714286</td>\n",
       "    </tr>\n",
       "  </tbody>\n",
       "</table>\n",
       "</div>"
      ],
      "text/plain": [
       "      0         1         2         3         4         5\n",
       "0   5.5  3.500000  3.700000  3.800000  3.700000  4.000000\n",
       "1  15.0  2.666667  4.000000  2.555556  2.555556  3.222222\n",
       "2  23.0  2.000000  2.857143  2.000000  1.714286  2.714286"
      ]
     },
     "execution_count": 95,
     "metadata": {},
     "output_type": "execute_result"
    },
    {
     "data": {
      "application/javascript": [
       "\n",
       "            setTimeout(function() {\n",
       "                var nbb_cell_id = 95;\n",
       "                var nbb_unformatted_code = \"pd.DataFrame(model.cluster_centers_)\";\n",
       "                var nbb_formatted_code = \"pd.DataFrame(model.cluster_centers_)\";\n",
       "                var nbb_cells = Jupyter.notebook.get_cells();\n",
       "                for (var i = 0; i < nbb_cells.length; ++i) {\n",
       "                    if (nbb_cells[i].input_prompt_number == nbb_cell_id) {\n",
       "                        if (nbb_cells[i].get_text() == nbb_unformatted_code) {\n",
       "                             nbb_cells[i].set_text(nbb_formatted_code);\n",
       "                        }\n",
       "                        break;\n",
       "                    }\n",
       "                }\n",
       "            }, 500);\n",
       "            "
      ],
      "text/plain": [
       "<IPython.core.display.Javascript object>"
      ]
     },
     "metadata": {},
     "output_type": "display_data"
    }
   ],
   "source": [
    "pd.DataFrame(model.cluster_centers_)"
   ]
  },
  {
   "cell_type": "code",
   "execution_count": null,
   "metadata": {},
   "outputs": [],
   "source": []
  },
  {
   "cell_type": "code",
   "execution_count": 79,
   "metadata": {},
   "outputs": [
    {
     "data": {
      "text/html": [
       "<div>\n",
       "<style scoped>\n",
       "    .dataframe tbody tr th:only-of-type {\n",
       "        vertical-align: middle;\n",
       "    }\n",
       "\n",
       "    .dataframe tbody tr th {\n",
       "        vertical-align: top;\n",
       "    }\n",
       "\n",
       "    .dataframe thead th {\n",
       "        text-align: right;\n",
       "    }\n",
       "</style>\n",
       "<table border=\"1\" class=\"dataframe\">\n",
       "  <thead>\n",
       "    <tr style=\"text-align: right;\">\n",
       "      <th></th>\n",
       "      <th>0</th>\n",
       "      <th>1</th>\n",
       "      <th>2</th>\n",
       "      <th>3</th>\n",
       "      <th>4</th>\n",
       "      <th>5</th>\n",
       "    </tr>\n",
       "  </thead>\n",
       "  <tbody>\n",
       "    <tr>\n",
       "      <th>0</th>\n",
       "      <td>15.0</td>\n",
       "      <td>2.666667</td>\n",
       "      <td>4.000000</td>\n",
       "      <td>2.555556</td>\n",
       "      <td>2.555556</td>\n",
       "      <td>3.222222</td>\n",
       "    </tr>\n",
       "    <tr>\n",
       "      <th>1</th>\n",
       "      <td>5.5</td>\n",
       "      <td>3.500000</td>\n",
       "      <td>3.700000</td>\n",
       "      <td>3.800000</td>\n",
       "      <td>3.700000</td>\n",
       "      <td>4.000000</td>\n",
       "    </tr>\n",
       "    <tr>\n",
       "      <th>2</th>\n",
       "      <td>23.0</td>\n",
       "      <td>2.000000</td>\n",
       "      <td>2.857143</td>\n",
       "      <td>2.000000</td>\n",
       "      <td>1.714286</td>\n",
       "      <td>2.714286</td>\n",
       "    </tr>\n",
       "  </tbody>\n",
       "</table>\n",
       "</div>"
      ],
      "text/plain": [
       "      0         1         2         3         4         5\n",
       "0  15.0  2.666667  4.000000  2.555556  2.555556  3.222222\n",
       "1   5.5  3.500000  3.700000  3.800000  3.700000  4.000000\n",
       "2  23.0  2.000000  2.857143  2.000000  1.714286  2.714286"
      ]
     },
     "execution_count": 79,
     "metadata": {},
     "output_type": "execute_result"
    },
    {
     "data": {
      "application/javascript": [
       "\n",
       "            setTimeout(function() {\n",
       "                var nbb_cell_id = 79;\n",
       "                var nbb_unformatted_code = \"pd.DataFrame(model.cluster_centers_)\";\n",
       "                var nbb_formatted_code = \"pd.DataFrame(model.cluster_centers_)\";\n",
       "                var nbb_cells = Jupyter.notebook.get_cells();\n",
       "                for (var i = 0; i < nbb_cells.length; ++i) {\n",
       "                    if (nbb_cells[i].input_prompt_number == nbb_cell_id) {\n",
       "                        if (nbb_cells[i].get_text() == nbb_unformatted_code) {\n",
       "                             nbb_cells[i].set_text(nbb_formatted_code);\n",
       "                        }\n",
       "                        break;\n",
       "                    }\n",
       "                }\n",
       "            }, 500);\n",
       "            "
      ],
      "text/plain": [
       "<IPython.core.display.Javascript object>"
      ]
     },
     "metadata": {},
     "output_type": "display_data"
    }
   ],
   "source": [
    "pd.DataFrame(model.cluster_centers_)"
   ]
  },
  {
   "cell_type": "code",
   "execution_count": 62,
   "metadata": {},
   "outputs": [
    {
     "data": {
      "text/plain": [
       "12.78901098901099"
      ]
     },
     "execution_count": 62,
     "metadata": {},
     "output_type": "execute_result"
    },
    {
     "data": {
      "application/javascript": [
       "\n",
       "            setTimeout(function() {\n",
       "                var nbb_cell_id = 62;\n",
       "                var nbb_unformatted_code = \"sum(np.power(np.min(cdist(df, model.cluster_centers_), axis=1), 2))/df.shape[0]\";\n",
       "                var nbb_formatted_code = \"sum(np.power(np.min(cdist(df, model.cluster_centers_), axis=1), 2)) / df.shape[0]\";\n",
       "                var nbb_cells = Jupyter.notebook.get_cells();\n",
       "                for (var i = 0; i < nbb_cells.length; ++i) {\n",
       "                    if (nbb_cells[i].input_prompt_number == nbb_cell_id) {\n",
       "                        if (nbb_cells[i].get_text() == nbb_unformatted_code) {\n",
       "                             nbb_cells[i].set_text(nbb_formatted_code);\n",
       "                        }\n",
       "                        break;\n",
       "                    }\n",
       "                }\n",
       "            }, 500);\n",
       "            "
      ],
      "text/plain": [
       "<IPython.core.display.Javascript object>"
      ]
     },
     "metadata": {},
     "output_type": "display_data"
    }
   ],
   "source": [
    "elbow = sum(np.power(np.min(cdist(df, model.cluster_centers_), axis=1), 2)) / df.shape[0]"
   ]
  },
  {
   "cell_type": "code",
   "execution_count": null,
   "metadata": {},
   "outputs": [],
   "source": [
    "26 , 3"
   ]
  },
  {
   "cell_type": "code",
   "execution_count": 100,
   "metadata": {},
   "outputs": [
    {
     "name": "stderr",
     "output_type": "stream",
     "text": [
      "C:\\Users\\parva\\anaconda3\\lib\\site-packages\\sklearn\\cluster\\_kmeans.py:1036: UserWarning: KMeans is known to have a memory leak on Windows with MKL, when there are less chunks than available threads. You can avoid it by setting the environment variable OMP_NUM_THREADS=1.\n",
      "  warnings.warn(\n"
     ]
    },
    {
     "name": "stdout",
     "output_type": "stream",
     "text": [
      "Number of Clusters: 1 \tAverage Distortion: 7.199756272235324\n",
      "Number of Clusters: 2 \tAverage Distortion: 4.2633653530525475\n",
      "Number of Clusters: 3 \tAverage Distortion: 3.4291067140223106\n",
      "Number of Clusters: 4 \tAverage Distortion: 2.892985653066293\n",
      "Number of Clusters: 5 \tAverage Distortion: 2.596789653082608\n",
      "Number of Clusters: 6 \tAverage Distortion: 2.279017675001616\n",
      "Number of Clusters: 7 \tAverage Distortion: 2.0400607076900714\n",
      "Number of Clusters: 8 \tAverage Distortion: 1.7450630714759872\n"
     ]
    },
    {
     "data": {
      "text/plain": [
       "Text(0.5, 1.0, 'Selecting k with the Elbow Method')"
      ]
     },
     "execution_count": 100,
     "metadata": {},
     "output_type": "execute_result"
    },
    {
     "data": {
      "image/png": "[encoded data removed]",
      "text/plain": [
       "<Figure size 576x396 with 1 Axes>"
      ]
     },
     "metadata": {},
     "output_type": "display_data"
    },
    {
     "data": {
      "application/javascript": [
       "\n",
       "            setTimeout(function() {\n",
       "                var nbb_cell_id = 100;\n",
       "                var nbb_unformatted_code = \"clusters = range(1, 9)\\nmeanDistortions = []\\n\\nfor k in clusters:\\n    model = KMeans(n_clusters=k)\\n    model.fit(df)\\n    prediction = model.predict(df)\\n    distortion = (\\n        sum(np.min(cdist(df, model.cluster_centers_, \\\"euclidean\\\"), axis=1))\\n        / df.shape[0]\\n    )\\n\\n    meanDistortions.append(distortion)\\n\\n    print(\\\"Number of Clusters:\\\", k, \\\"\\\\tAverage Distortion:\\\", distortion)\\n\\nplt.plot(clusters, meanDistortions, \\\"bx-\\\")\\nplt.xlabel(\\\"k\\\")\\nplt.ylabel(\\\"Average Distortion\\\")\\nplt.title(\\\"Selecting k with the Elbow Method\\\", fontsize=20)\";\n",
       "                var nbb_formatted_code = \"clusters = range(1, 9)\\nmeanDistortions = []\\n\\nfor k in clusters:\\n    model = KMeans(n_clusters=k)\\n    model.fit(df)\\n    prediction = model.predict(df)\\n    distortion = (\\n        sum(np.min(cdist(df, model.cluster_centers_, \\\"euclidean\\\"), axis=1))\\n        / df.shape[0]\\n    )\\n\\n    meanDistortions.append(distortion)\\n\\n    print(\\\"Number of Clusters:\\\", k, \\\"\\\\tAverage Distortion:\\\", distortion)\\n\\nplt.plot(clusters, meanDistortions, \\\"bx-\\\")\\nplt.xlabel(\\\"k\\\")\\nplt.ylabel(\\\"Average Distortion\\\")\\nplt.title(\\\"Selecting k with the Elbow Method\\\", fontsize=20)\";\n",
       "                var nbb_cells = Jupyter.notebook.get_cells();\n",
       "                for (var i = 0; i < nbb_cells.length; ++i) {\n",
       "                    if (nbb_cells[i].input_prompt_number == nbb_cell_id) {\n",
       "                        if (nbb_cells[i].get_text() == nbb_unformatted_code) {\n",
       "                             nbb_cells[i].set_text(nbb_formatted_code);\n",
       "                        }\n",
       "                        break;\n",
       "                    }\n",
       "                }\n",
       "            }, 500);\n",
       "            "
      ],
      "text/plain": [
       "<IPython.core.display.Javascript object>"
      ]
     },
     "metadata": {},
     "output_type": "display_data"
    }
   ],
   "source": [
    "clusters = range(1, 9)\n",
    "meanDistortions = []\n",
    "\n",
    "for k in clusters:\n",
    "    model = KMeans(n_clusters=k)\n",
    "    model.fit(df)\n",
    "    prediction = model.predict(df)\n",
    "    distortion = (\n",
    "        sum(np.min(cdist(df, model.cluster_centers_, \"euclidean\"), axis=1))\n",
    "        / df.shape[0]\n",
    "    )\n",
    "\n",
    "    meanDistortions.append(distortion)\n",
    "\n",
    "    print(\"Number of Clusters:\", k, \"\\tAverage Distortion:\", distortion)\n",
    "\n",
    "plt.plot(clusters, meanDistortions, \"bx-\")\n",
    "plt.xlabel(\"k\")\n",
    "plt.ylabel(\"Average Distortion\")\n",
    "plt.title(\"Selecting k with the Elbow Method\", fontsize=20)"
   ]
  },
  {
   "cell_type": "code",
   "execution_count": 96,
   "metadata": {},
   "outputs": [
    {
     "data": {
      "text/plain": [
       "array([0, 0, 0, 0, 0, 0, 0, 0, 0, 0, 1, 1, 1, 1, 1, 1, 1, 1, 1, 2, 2, 2,\n",
       "       2, 2, 2, 2])"
      ]
     },
     "execution_count": 96,
     "metadata": {},
     "output_type": "execute_result"
    },
    {
     "data": {
      "application/javascript": [
       "\n",
       "            setTimeout(function() {\n",
       "                var nbb_cell_id = 96;\n",
       "                var nbb_unformatted_code = \"model.labels_\";\n",
       "                var nbb_formatted_code = \"model.labels_\";\n",
       "                var nbb_cells = Jupyter.notebook.get_cells();\n",
       "                for (var i = 0; i < nbb_cells.length; ++i) {\n",
       "                    if (nbb_cells[i].input_prompt_number == nbb_cell_id) {\n",
       "                        if (nbb_cells[i].get_text() == nbb_unformatted_code) {\n",
       "                             nbb_cells[i].set_text(nbb_formatted_code);\n",
       "                        }\n",
       "                        break;\n",
       "                    }\n",
       "                }\n",
       "            }, 500);\n",
       "            "
      ],
      "text/plain": [
       "<IPython.core.display.Javascript object>"
      ]
     },
     "metadata": {},
     "output_type": "display_data"
    }
   ],
   "source": [
    "model.labels_"
   ]
  },
  {
   "cell_type": "code",
   "execution_count": 97,
   "metadata": {},
   "outputs": [
    {
     "data": {
      "application/javascript": [
       "\n",
       "            setTimeout(function() {\n",
       "                var nbb_cell_id = 97;\n",
       "                var nbb_unformatted_code = \"from sklearn.metrics import silhouette_score\";\n",
       "                var nbb_formatted_code = \"from sklearn.metrics import silhouette_score\";\n",
       "                var nbb_cells = Jupyter.notebook.get_cells();\n",
       "                for (var i = 0; i < nbb_cells.length; ++i) {\n",
       "                    if (nbb_cells[i].input_prompt_number == nbb_cell_id) {\n",
       "                        if (nbb_cells[i].get_text() == nbb_unformatted_code) {\n",
       "                             nbb_cells[i].set_text(nbb_formatted_code);\n",
       "                        }\n",
       "                        break;\n",
       "                    }\n",
       "                }\n",
       "            }, 500);\n",
       "            "
      ],
      "text/plain": [
       "<IPython.core.display.Javascript object>"
      ]
     },
     "metadata": {},
     "output_type": "display_data"
    }
   ],
   "source": [
    "from sklearn.metrics import silhouette_score"
   ]
  },
  {
   "cell_type": "code",
   "execution_count": 98,
   "metadata": {},
   "outputs": [
    {
     "data": {
      "text/plain": [
       "0.4012376889849892"
      ]
     },
     "execution_count": 98,
     "metadata": {},
     "output_type": "execute_result"
    },
    {
     "data": {
      "application/javascript": [
       "\n",
       "            setTimeout(function() {\n",
       "                var nbb_cell_id = 98;\n",
       "                var nbb_unformatted_code = \"silhouette_score(df, model.predict(df))\";\n",
       "                var nbb_formatted_code = \"silhouette_score(df, model.predict(df))\";\n",
       "                var nbb_cells = Jupyter.notebook.get_cells();\n",
       "                for (var i = 0; i < nbb_cells.length; ++i) {\n",
       "                    if (nbb_cells[i].input_prompt_number == nbb_cell_id) {\n",
       "                        if (nbb_cells[i].get_text() == nbb_unformatted_code) {\n",
       "                             nbb_cells[i].set_text(nbb_formatted_code);\n",
       "                        }\n",
       "                        break;\n",
       "                    }\n",
       "                }\n",
       "            }, 500);\n",
       "            "
      ],
      "text/plain": [
       "<IPython.core.display.Javascript object>"
      ]
     },
     "metadata": {},
     "output_type": "display_data"
    }
   ],
   "source": [
    "silhouette_score(df, model.predict(df))"
   ]
  },
  {
   "cell_type": "code",
   "execution_count": 99,
   "metadata": {},
   "outputs": [
    {
     "name": "stdout",
     "output_type": "stream",
     "text": [
      "For n_clusters = 2, silhouette score is 0.5174829096297324\n",
      "For n_clusters = 3, silhouette score is 0.3945995793823431\n",
      "For n_clusters = 4, silhouette score is 0.37987560391239783\n",
      "For n_clusters = 5, silhouette score is 0.3421959133407407\n",
      "For n_clusters = 6, silhouette score is 0.3763262216438934\n",
      "For n_clusters = 7, silhouette score is 0.37337224839054567\n",
      "For n_clusters = 8, silhouette score is 0.423278818583477\n",
      "For n_clusters = 9, silhouette score is 0.4523537287121136\n"
     ]
    },
    {
     "data": {
      "text/plain": [
       "[<matplotlib.lines.Line2D at 0x1929e6a4a90>]"
      ]
     },
     "execution_count": 99,
     "metadata": {},
     "output_type": "execute_result"
    },
    {
     "data": {
      "image/png": "[encoded data removed]",
      "text/plain": [
       "<Figure size 576x396 with 1 Axes>"
      ]
     },
     "metadata": {},
     "output_type": "display_data"
    },
    {
     "data": {
      "application/javascript": [
       "\n",
       "            setTimeout(function() {\n",
       "                var nbb_cell_id = 99;\n",
       "                var nbb_unformatted_code = \"sil_score = []\\ncluster_list = list(range(2, 10))\\n\\nfor n_clusters in cluster_list:\\n    clusterer = KMeans(n_clusters=n_clusters)\\n    preds = clusterer.fit_predict((df))\\n    # centers = clusterer.cluster_centers_\\n    score = silhouette_score(df, preds)\\n    sil_score.append(score)\\n    print(\\\"For n_clusters = {}, silhouette score is {}\\\".format(n_clusters, score))\\n\\nplt.plot(cluster_list, sil_score)\";\n",
       "                var nbb_formatted_code = \"sil_score = []\\ncluster_list = list(range(2, 10))\\n\\nfor n_clusters in cluster_list:\\n    clusterer = KMeans(n_clusters=n_clusters)\\n    preds = clusterer.fit_predict((df))\\n    # centers = clusterer.cluster_centers_\\n    score = silhouette_score(df, preds)\\n    sil_score.append(score)\\n    print(\\\"For n_clusters = {}, silhouette score is {}\\\".format(n_clusters, score))\\n\\nplt.plot(cluster_list, sil_score)\";\n",
       "                var nbb_cells = Jupyter.notebook.get_cells();\n",
       "                for (var i = 0; i < nbb_cells.length; ++i) {\n",
       "                    if (nbb_cells[i].input_prompt_number == nbb_cell_id) {\n",
       "                        if (nbb_cells[i].get_text() == nbb_unformatted_code) {\n",
       "                             nbb_cells[i].set_text(nbb_formatted_code);\n",
       "                        }\n",
       "                        break;\n",
       "                    }\n",
       "                }\n",
       "            }, 500);\n",
       "            "
      ],
      "text/plain": [
       "<IPython.core.display.Javascript object>"
      ]
     },
     "metadata": {},
     "output_type": "display_data"
    }
   ],
   "source": [
    "sil_score = []\n",
    "cluster_list = list(range(2, 10))\n",
    "\n",
    "for n_clusters in cluster_list:\n",
    "    clusterer = KMeans(n_clusters=n_clusters)\n",
    "    preds = clusterer.fit_predict((df))\n",
    "    # centers = clusterer.cluster_centers_\n",
    "    score = silhouette_score(df, preds)\n",
    "    sil_score.append(score)\n",
    "    print(\"For n_clusters = {}, silhouette score is {}\".format(n_clusters, score))\n",
    "\n",
    "plt.plot(cluster_list, sil_score)"
   ]
  },
  {
   "cell_type": "code",
   "execution_count": null,
   "metadata": {},
   "outputs": [],
   "source": []
  },
  {
   "cell_type": "markdown",
   "metadata": {},
   "source": [
    "## Context\n",
    "\n",
    "Education is fast becoming a very competitive sector with hundreds of institutions to choose from. It is a life-transforming experience for any student and it has to be a thoughtful decision. There are ranking agencies that do a survey of all the colleges to provide more insights to students. Agency RankForYou wants to leverage this year's survey to roll out an editorial article in leading newspapers, on the state of engineering education in the country. Head of PR (Public Relations) comes to you, the data scientist working at RankForYou, and asks you to come up with evidence-based insights for that article."
   ]
  },
  {
   "cell_type": "code",
   "execution_count": 17,
   "metadata": {},
   "outputs": [
    {
     "data": {
      "text/plain": [
       "0.9805806756909199"
      ]
     },
     "execution_count": 17,
     "metadata": {},
     "output_type": "execute_result"
    },
    {
     "data": {
      "application/javascript": [
       "\n",
       "            setTimeout(function() {\n",
       "                var nbb_cell_id = 17;\n",
       "                var nbb_unformatted_code = \"np.std(X)\";\n",
       "                var nbb_formatted_code = \"np.std(X)\";\n",
       "                var nbb_cells = Jupyter.notebook.get_cells();\n",
       "                for (var i = 0; i < nbb_cells.length; ++i) {\n",
       "                    if (nbb_cells[i].input_prompt_number == nbb_cell_id) {\n",
       "                        if (nbb_cells[i].get_text() == nbb_unformatted_code) {\n",
       "                             nbb_cells[i].set_text(nbb_formatted_code);\n",
       "                        }\n",
       "                        break;\n",
       "                    }\n",
       "                }\n",
       "            }, 500);\n",
       "            "
      ],
      "text/plain": [
       "<IPython.core.display.Javascript object>"
      ]
     },
     "metadata": {},
     "output_type": "display_data"
    }
   ],
   "source": [
    "np.std(X)"
   ]
  },
  {
   "cell_type": "code",
   "execution_count": null,
   "metadata": {},
   "outputs": [],
   "source": []
  },
  {
   "cell_type": "markdown",
   "metadata": {},
   "source": [
    "## Objective\n",
    "\n",
    "To identify different types of engineering colleges in the country to better understand the state of affairs.\n",
    "\n",
    "\n",
    "## Key Questions\n",
    "\n",
    "- How many different types (clusters/segments) of colleges can be found from the data?\n",
    "- How do these different groups of colleges differ from each other?\n",
    "- Do you get slightly different solutions from two different techniques? How would you explain the difference?\n",
    "\n",
    "\n",
    "## Data Description\n",
    "\n",
    "The data contains survey results for 26 engineering colleges. The initial survey data has been summarized into a rating scale of 1-5 for different factors.\n",
    "\n",
    "**Factor rating index**\n",
    " - 1 - Very low\n",
    " - 2 - Low\n",
    " - 3 - Medium\n",
    " - 4 - High\n",
    " - 5 - Very high\n",
    " \n",
    "**Data Dictionary**\n",
    " - SR_NO: Serial Number\n",
    " - Engg_College: 26 Engineering colleges with pseudonyms A to Z\n",
    " - Teaching: Quality of teaching at the engineering college\n",
    " - Fees: Fees at the engineering college\n",
    " - Placements: Job placements after a student graduates from the engineering college\n",
    " - Internship: Student Internships at the engineering college\n",
    " - Infrastructure: Infrastructure of the engineering college"
   ]
  },
  {
   "cell_type": "markdown",
   "metadata": {
    "id": "iM29eMvG9MQ6"
   },
   "source": [
    "## Let's start coding!"
   ]
  },
  {
   "cell_type": "markdown",
   "metadata": {},
   "source": [
    "### Importing necessary libraries"
   ]
  },
  {
   "cell_type": "code",
   "execution_count": 1,
   "metadata": {},
   "outputs": [
    {
     "data": {
      "application/javascript": [
       "\n",
       "            setTimeout(function() {\n",
       "                var nbb_cell_id = 1;\n",
       "                var nbb_unformatted_code = \"# this will help in making the Python code more structured automatically (good coding practice)\\n%load_ext nb_black\\n\\n# Libraries to help with reading and manipulating data\\nimport numpy as np\\nimport pandas as pd\\n\\n# Libraries to help with data visualization\\nimport matplotlib.pyplot as plt\\nimport seaborn as sns\\n\\n# to scale the data using z-score\\nfrom sklearn.preprocessing import StandardScaler\\n\\n# to compute distances\\nfrom scipy.spatial.distance import cdist\\n\\n# to perform k-means clustering and compute silhouette scores\\nfrom sklearn.cluster import KMeans\\nfrom sklearn.metrics import silhouette_score\\n\\n# to visualize the elbow curve and silhouette scores\\nfrom yellowbrick.cluster import KElbowVisualizer, SilhouetteVisualizer\";\n",
       "                var nbb_formatted_code = \"# this will help in making the Python code more structured automatically (good coding practice)\\n%load_ext nb_black\\n\\n# Libraries to help with reading and manipulating data\\nimport numpy as np\\nimport pandas as pd\\n\\n# Libraries to help with data visualization\\nimport matplotlib.pyplot as plt\\nimport seaborn as sns\\n\\n# to scale the data using z-score\\nfrom sklearn.preprocessing import StandardScaler\\n\\n# to compute distances\\nfrom scipy.spatial.distance import cdist\\n\\n# to perform k-means clustering and compute silhouette scores\\nfrom sklearn.cluster import KMeans\\nfrom sklearn.metrics import silhouette_score\\n\\n# to visualize the elbow curve and silhouette scores\\nfrom yellowbrick.cluster import KElbowVisualizer, SilhouetteVisualizer\";\n",
       "                var nbb_cells = Jupyter.notebook.get_cells();\n",
       "                for (var i = 0; i < nbb_cells.length; ++i) {\n",
       "                    if (nbb_cells[i].input_prompt_number == nbb_cell_id) {\n",
       "                        if (nbb_cells[i].get_text() == nbb_unformatted_code) {\n",
       "                             nbb_cells[i].set_text(nbb_formatted_code);\n",
       "                        }\n",
       "                        break;\n",
       "                    }\n",
       "                }\n",
       "            }, 500);\n",
       "            "
      ],
      "text/plain": [
       "<IPython.core.display.Javascript object>"
      ]
     },
     "metadata": {},
     "output_type": "display_data"
    }
   ],
   "source": [
    "# this will help in making the Python code more structured automatically (good coding practice)\n",
    "%load_ext nb_black\n",
    "\n",
    "# Libraries to help with reading and manipulating data\n",
    "import numpy as np\n",
    "import pandas as pd\n",
    "\n",
    "# Libraries to help with data visualization\n",
    "import matplotlib.pyplot as plt\n",
    "import seaborn as sns\n",
    "\n",
    "# to scale the data using z-score\n",
    "from sklearn.preprocessing import StandardScaler\n",
    "\n",
    "# to compute distances\n",
    "from scipy.spatial.distance import cdist\n",
    "\n",
    "# to perform k-means clustering and compute silhouette scores\n",
    "from sklearn.cluster import KMeans\n",
    "from sklearn.metrics import silhouette_score\n",
    "\n",
    "# to visualize the elbow curve and silhouette scores\n",
    "from yellowbrick.cluster import KElbowVisualizer, SilhouetteVisualizer"
   ]
  },
  {
   "cell_type": "code",
   "execution_count": 2,
   "metadata": {},
   "outputs": [
    {
     "data": {
      "application/javascript": [
       "\n",
       "            setTimeout(function() {\n",
       "                var nbb_cell_id = 2;\n",
       "                var nbb_unformatted_code = \"# loading the dataset\\ndata = pd.read_excel(\\\"Engineering Colleges Case Study.xlsx\\\")\";\n",
       "                var nbb_formatted_code = \"# loading the dataset\\ndata = pd.read_excel(\\\"Engineering Colleges Case Study.xlsx\\\")\";\n",
       "                var nbb_cells = Jupyter.notebook.get_cells();\n",
       "                for (var i = 0; i < nbb_cells.length; ++i) {\n",
       "                    if (nbb_cells[i].input_prompt_number == nbb_cell_id) {\n",
       "                        if (nbb_cells[i].get_text() == nbb_unformatted_code) {\n",
       "                             nbb_cells[i].set_text(nbb_formatted_code);\n",
       "                        }\n",
       "                        break;\n",
       "                    }\n",
       "                }\n",
       "            }, 500);\n",
       "            "
      ],
      "text/plain": [
       "<IPython.core.display.Javascript object>"
      ]
     },
     "metadata": {},
     "output_type": "display_data"
    }
   ],
   "source": [
    "# loading the dataset\n",
    "data = pd.read_excel(\"Engineering Colleges Case Study.xlsx\")"
   ]
  },
  {
   "cell_type": "code",
   "execution_count": 3,
   "metadata": {
    "scrolled": true
   },
   "outputs": [
    {
     "data": {
      "text/plain": [
       "(26, 7)"
      ]
     },
     "execution_count": 3,
     "metadata": {},
     "output_type": "execute_result"
    },
    {
     "data": {
      "application/javascript": [
       "\n",
       "            setTimeout(function() {\n",
       "                var nbb_cell_id = 3;\n",
       "                var nbb_unformatted_code = \"data.shape\";\n",
       "                var nbb_formatted_code = \"data.shape\";\n",
       "                var nbb_cells = Jupyter.notebook.get_cells();\n",
       "                for (var i = 0; i < nbb_cells.length; ++i) {\n",
       "                    if (nbb_cells[i].input_prompt_number == nbb_cell_id) {\n",
       "                        if (nbb_cells[i].get_text() == nbb_unformatted_code) {\n",
       "                             nbb_cells[i].set_text(nbb_formatted_code);\n",
       "                        }\n",
       "                        break;\n",
       "                    }\n",
       "                }\n",
       "            }, 500);\n",
       "            "
      ],
      "text/plain": [
       "<IPython.core.display.Javascript object>"
      ]
     },
     "metadata": {},
     "output_type": "display_data"
    }
   ],
   "source": [
    "data.shape"
   ]
  },
  {
   "cell_type": "markdown",
   "metadata": {},
   "source": [
    "* The dataset has 26 rows and 7 columns "
   ]
  },
  {
   "cell_type": "code",
   "execution_count": 4,
   "metadata": {},
   "outputs": [
    {
     "data": {
      "text/html": [
       "<div>\n",
       "<style scoped>\n",
       "    .dataframe tbody tr th:only-of-type {\n",
       "        vertical-align: middle;\n",
       "    }\n",
       "\n",
       "    .dataframe tbody tr th {\n",
       "        vertical-align: top;\n",
       "    }\n",
       "\n",
       "    .dataframe thead th {\n",
       "        text-align: right;\n",
       "    }\n",
       "</style>\n",
       "<table border=\"1\" class=\"dataframe\">\n",
       "  <thead>\n",
       "    <tr style=\"text-align: right;\">\n",
       "      <th></th>\n",
       "      <th>SR_NO</th>\n",
       "      <th>Engg_College</th>\n",
       "      <th>Teaching</th>\n",
       "      <th>Fees</th>\n",
       "      <th>Placements</th>\n",
       "      <th>Internship</th>\n",
       "      <th>Infrastructure</th>\n",
       "    </tr>\n",
       "  </thead>\n",
       "  <tbody>\n",
       "    <tr>\n",
       "      <th>18</th>\n",
       "      <td>19</td>\n",
       "      <td>S</td>\n",
       "      <td>3</td>\n",
       "      <td>5</td>\n",
       "      <td>4</td>\n",
       "      <td>3</td>\n",
       "      <td>3</td>\n",
       "    </tr>\n",
       "    <tr>\n",
       "      <th>13</th>\n",
       "      <td>14</td>\n",
       "      <td>N</td>\n",
       "      <td>3</td>\n",
       "      <td>5</td>\n",
       "      <td>3</td>\n",
       "      <td>3</td>\n",
       "      <td>4</td>\n",
       "    </tr>\n",
       "    <tr>\n",
       "      <th>17</th>\n",
       "      <td>18</td>\n",
       "      <td>R</td>\n",
       "      <td>3</td>\n",
       "      <td>4</td>\n",
       "      <td>4</td>\n",
       "      <td>3</td>\n",
       "      <td>3</td>\n",
       "    </tr>\n",
       "    <tr>\n",
       "      <th>3</th>\n",
       "      <td>4</td>\n",
       "      <td>D</td>\n",
       "      <td>5</td>\n",
       "      <td>4</td>\n",
       "      <td>5</td>\n",
       "      <td>4</td>\n",
       "      <td>4</td>\n",
       "    </tr>\n",
       "    <tr>\n",
       "      <th>22</th>\n",
       "      <td>23</td>\n",
       "      <td>W</td>\n",
       "      <td>2</td>\n",
       "      <td>5</td>\n",
       "      <td>1</td>\n",
       "      <td>1</td>\n",
       "      <td>1</td>\n",
       "    </tr>\n",
       "    <tr>\n",
       "      <th>10</th>\n",
       "      <td>11</td>\n",
       "      <td>K</td>\n",
       "      <td>3</td>\n",
       "      <td>4</td>\n",
       "      <td>3</td>\n",
       "      <td>4</td>\n",
       "      <td>5</td>\n",
       "    </tr>\n",
       "    <tr>\n",
       "      <th>19</th>\n",
       "      <td>20</td>\n",
       "      <td>T</td>\n",
       "      <td>3</td>\n",
       "      <td>5</td>\n",
       "      <td>3</td>\n",
       "      <td>2</td>\n",
       "      <td>3</td>\n",
       "    </tr>\n",
       "    <tr>\n",
       "      <th>20</th>\n",
       "      <td>21</td>\n",
       "      <td>U</td>\n",
       "      <td>2</td>\n",
       "      <td>2</td>\n",
       "      <td>2</td>\n",
       "      <td>2</td>\n",
       "      <td>1</td>\n",
       "    </tr>\n",
       "    <tr>\n",
       "      <th>4</th>\n",
       "      <td>5</td>\n",
       "      <td>E</td>\n",
       "      <td>2</td>\n",
       "      <td>5</td>\n",
       "      <td>2</td>\n",
       "      <td>2</td>\n",
       "      <td>5</td>\n",
       "    </tr>\n",
       "    <tr>\n",
       "      <th>2</th>\n",
       "      <td>3</td>\n",
       "      <td>C</td>\n",
       "      <td>4</td>\n",
       "      <td>5</td>\n",
       "      <td>5</td>\n",
       "      <td>4</td>\n",
       "      <td>5</td>\n",
       "    </tr>\n",
       "  </tbody>\n",
       "</table>\n",
       "</div>"
      ],
      "text/plain": [
       "    SR_NO Engg_College  Teaching  Fees  Placements  Internship  Infrastructure\n",
       "18     19            S         3     5           4           3               3\n",
       "13     14            N         3     5           3           3               4\n",
       "17     18            R         3     4           4           3               3\n",
       "3       4            D         5     4           5           4               4\n",
       "22     23            W         2     5           1           1               1\n",
       "10     11            K         3     4           3           4               5\n",
       "19     20            T         3     5           3           2               3\n",
       "20     21            U         2     2           2           2               1\n",
       "4       5            E         2     5           2           2               5\n",
       "2       3            C         4     5           5           4               5"
      ]
     },
     "execution_count": 4,
     "metadata": {},
     "output_type": "execute_result"
    },
    {
     "data": {
      "application/javascript": [
       "\n",
       "            setTimeout(function() {\n",
       "                var nbb_cell_id = 4;\n",
       "                var nbb_unformatted_code = \"# viewing a random sample of the dataset\\ndata.sample(n=10, random_state=1)\";\n",
       "                var nbb_formatted_code = \"# viewing a random sample of the dataset\\ndata.sample(n=10, random_state=1)\";\n",
       "                var nbb_cells = Jupyter.notebook.get_cells();\n",
       "                for (var i = 0; i < nbb_cells.length; ++i) {\n",
       "                    if (nbb_cells[i].input_prompt_number == nbb_cell_id) {\n",
       "                        if (nbb_cells[i].get_text() == nbb_unformatted_code) {\n",
       "                             nbb_cells[i].set_text(nbb_formatted_code);\n",
       "                        }\n",
       "                        break;\n",
       "                    }\n",
       "                }\n",
       "            }, 500);\n",
       "            "
      ],
      "text/plain": [
       "<IPython.core.display.Javascript object>"
      ]
     },
     "metadata": {},
     "output_type": "display_data"
    }
   ],
   "source": [
    "# viewing a random sample of the dataset\n",
    "data.sample(n=10, random_state=1)"
   ]
  },
  {
   "cell_type": "code",
   "execution_count": 5,
   "metadata": {},
   "outputs": [
    {
     "data": {
      "application/javascript": [
       "\n",
       "            setTimeout(function() {\n",
       "                var nbb_cell_id = 5;\n",
       "                var nbb_unformatted_code = \"# copying the data to another variable to avoid any changes to original data\\ndf = data.copy()\";\n",
       "                var nbb_formatted_code = \"# copying the data to another variable to avoid any changes to original data\\ndf = data.copy()\";\n",
       "                var nbb_cells = Jupyter.notebook.get_cells();\n",
       "                for (var i = 0; i < nbb_cells.length; ++i) {\n",
       "                    if (nbb_cells[i].input_prompt_number == nbb_cell_id) {\n",
       "                        if (nbb_cells[i].get_text() == nbb_unformatted_code) {\n",
       "                             nbb_cells[i].set_text(nbb_formatted_code);\n",
       "                        }\n",
       "                        break;\n",
       "                    }\n",
       "                }\n",
       "            }, 500);\n",
       "            "
      ],
      "text/plain": [
       "<IPython.core.display.Javascript object>"
      ]
     },
     "metadata": {},
     "output_type": "display_data"
    }
   ],
   "source": [
    "# copying the data to another variable to avoid any changes to original data\n",
    "df = data.copy()"
   ]
  },
  {
   "cell_type": "code",
   "execution_count": 6,
   "metadata": {},
   "outputs": [
    {
     "data": {
      "application/javascript": [
       "\n",
       "            setTimeout(function() {\n",
       "                var nbb_cell_id = 6;\n",
       "                var nbb_unformatted_code = \"# dropping the serial no. column as it does not provide any information\\ndf.drop(\\\"SR_NO\\\", axis=1, inplace=True)\";\n",
       "                var nbb_formatted_code = \"# dropping the serial no. column as it does not provide any information\\ndf.drop(\\\"SR_NO\\\", axis=1, inplace=True)\";\n",
       "                var nbb_cells = Jupyter.notebook.get_cells();\n",
       "                for (var i = 0; i < nbb_cells.length; ++i) {\n",
       "                    if (nbb_cells[i].input_prompt_number == nbb_cell_id) {\n",
       "                        if (nbb_cells[i].get_text() == nbb_unformatted_code) {\n",
       "                             nbb_cells[i].set_text(nbb_formatted_code);\n",
       "                        }\n",
       "                        break;\n",
       "                    }\n",
       "                }\n",
       "            }, 500);\n",
       "            "
      ],
      "text/plain": [
       "<IPython.core.display.Javascript object>"
      ]
     },
     "metadata": {},
     "output_type": "display_data"
    }
   ],
   "source": [
    "# dropping the serial no. column as it does not provide any information\n",
    "df.drop(\"SR_NO\", axis=1, inplace=True)"
   ]
  },
  {
   "cell_type": "code",
   "execution_count": 7,
   "metadata": {},
   "outputs": [
    {
     "name": "stdout",
     "output_type": "stream",
     "text": [
      "<class 'pandas.core.frame.DataFrame'>\n",
      "RangeIndex: 26 entries, 0 to 25\n",
      "Data columns (total 6 columns):\n",
      " #   Column          Non-Null Count  Dtype \n",
      "---  ------          --------------  ----- \n",
      " 0   Engg_College    26 non-null     object\n",
      " 1   Teaching        26 non-null     int64 \n",
      " 2   Fees            26 non-null     int64 \n",
      " 3   Placements      26 non-null     int64 \n",
      " 4   Internship      26 non-null     int64 \n",
      " 5   Infrastructure  26 non-null     int64 \n",
      "dtypes: int64(5), object(1)\n",
      "memory usage: 1.3+ KB\n"
     ]
    },
    {
     "data": {
      "application/javascript": [
       "\n",
       "            setTimeout(function() {\n",
       "                var nbb_cell_id = 7;\n",
       "                var nbb_unformatted_code = \"df.info()\";\n",
       "                var nbb_formatted_code = \"df.info()\";\n",
       "                var nbb_cells = Jupyter.notebook.get_cells();\n",
       "                for (var i = 0; i < nbb_cells.length; ++i) {\n",
       "                    if (nbb_cells[i].input_prompt_number == nbb_cell_id) {\n",
       "                        if (nbb_cells[i].get_text() == nbb_unformatted_code) {\n",
       "                             nbb_cells[i].set_text(nbb_formatted_code);\n",
       "                        }\n",
       "                        break;\n",
       "                    }\n",
       "                }\n",
       "            }, 500);\n",
       "            "
      ],
      "text/plain": [
       "<IPython.core.display.Javascript object>"
      ]
     },
     "metadata": {},
     "output_type": "display_data"
    }
   ],
   "source": [
    "df.info()"
   ]
  },
  {
   "cell_type": "markdown",
   "metadata": {},
   "source": [
    "**Observations**\n",
    "\n",
    "- *Engg_College* is a categorical variable with 26 levels that indicate each college's name.\n",
    "- The 5 rating variables are of type *int* (integer)."
   ]
  },
  {
   "cell_type": "code",
   "execution_count": 8,
   "metadata": {},
   "outputs": [
    {
     "data": {
      "text/html": [
       "<div>\n",
       "<style scoped>\n",
       "    .dataframe tbody tr th:only-of-type {\n",
       "        vertical-align: middle;\n",
       "    }\n",
       "\n",
       "    .dataframe tbody tr th {\n",
       "        vertical-align: top;\n",
       "    }\n",
       "\n",
       "    .dataframe thead th {\n",
       "        text-align: right;\n",
       "    }\n",
       "</style>\n",
       "<table border=\"1\" class=\"dataframe\">\n",
       "  <thead>\n",
       "    <tr style=\"text-align: right;\">\n",
       "      <th></th>\n",
       "      <th>Teaching</th>\n",
       "      <th>Fees</th>\n",
       "      <th>Placements</th>\n",
       "      <th>Internship</th>\n",
       "      <th>Infrastructure</th>\n",
       "    </tr>\n",
       "  </thead>\n",
       "  <tbody>\n",
       "    <tr>\n",
       "      <th>count</th>\n",
       "      <td>26.000000</td>\n",
       "      <td>26.000000</td>\n",
       "      <td>26.000000</td>\n",
       "      <td>26.000000</td>\n",
       "      <td>26.000000</td>\n",
       "    </tr>\n",
       "    <tr>\n",
       "      <th>mean</th>\n",
       "      <td>2.807692</td>\n",
       "      <td>3.576923</td>\n",
       "      <td>2.884615</td>\n",
       "      <td>2.769231</td>\n",
       "      <td>3.384615</td>\n",
       "    </tr>\n",
       "    <tr>\n",
       "      <th>std</th>\n",
       "      <td>1.132051</td>\n",
       "      <td>1.331858</td>\n",
       "      <td>1.531716</td>\n",
       "      <td>1.242826</td>\n",
       "      <td>1.298520</td>\n",
       "    </tr>\n",
       "    <tr>\n",
       "      <th>min</th>\n",
       "      <td>1.000000</td>\n",
       "      <td>1.000000</td>\n",
       "      <td>1.000000</td>\n",
       "      <td>1.000000</td>\n",
       "      <td>1.000000</td>\n",
       "    </tr>\n",
       "    <tr>\n",
       "      <th>25%</th>\n",
       "      <td>2.000000</td>\n",
       "      <td>2.250000</td>\n",
       "      <td>1.250000</td>\n",
       "      <td>2.000000</td>\n",
       "      <td>3.000000</td>\n",
       "    </tr>\n",
       "    <tr>\n",
       "      <th>50%</th>\n",
       "      <td>3.000000</td>\n",
       "      <td>4.000000</td>\n",
       "      <td>3.000000</td>\n",
       "      <td>2.000000</td>\n",
       "      <td>3.000000</td>\n",
       "    </tr>\n",
       "    <tr>\n",
       "      <th>75%</th>\n",
       "      <td>3.000000</td>\n",
       "      <td>5.000000</td>\n",
       "      <td>4.000000</td>\n",
       "      <td>4.000000</td>\n",
       "      <td>4.750000</td>\n",
       "    </tr>\n",
       "    <tr>\n",
       "      <th>max</th>\n",
       "      <td>5.000000</td>\n",
       "      <td>5.000000</td>\n",
       "      <td>5.000000</td>\n",
       "      <td>5.000000</td>\n",
       "      <td>5.000000</td>\n",
       "    </tr>\n",
       "  </tbody>\n",
       "</table>\n",
       "</div>"
      ],
      "text/plain": [
       "        Teaching       Fees  Placements  Internship  Infrastructure\n",
       "count  26.000000  26.000000   26.000000   26.000000       26.000000\n",
       "mean    2.807692   3.576923    2.884615    2.769231        3.384615\n",
       "std     1.132051   1.331858    1.531716    1.242826        1.298520\n",
       "min     1.000000   1.000000    1.000000    1.000000        1.000000\n",
       "25%     2.000000   2.250000    1.250000    2.000000        3.000000\n",
       "50%     3.000000   4.000000    3.000000    2.000000        3.000000\n",
       "75%     3.000000   5.000000    4.000000    4.000000        4.750000\n",
       "max     5.000000   5.000000    5.000000    5.000000        5.000000"
      ]
     },
     "execution_count": 8,
     "metadata": {},
     "output_type": "execute_result"
    },
    {
     "data": {
      "application/javascript": [
       "\n",
       "            setTimeout(function() {\n",
       "                var nbb_cell_id = 8;\n",
       "                var nbb_unformatted_code = \"df.describe()\";\n",
       "                var nbb_formatted_code = \"df.describe()\";\n",
       "                var nbb_cells = Jupyter.notebook.get_cells();\n",
       "                for (var i = 0; i < nbb_cells.length; ++i) {\n",
       "                    if (nbb_cells[i].input_prompt_number == nbb_cell_id) {\n",
       "                        if (nbb_cells[i].get_text() == nbb_unformatted_code) {\n",
       "                             nbb_cells[i].set_text(nbb_formatted_code);\n",
       "                        }\n",
       "                        break;\n",
       "                    }\n",
       "                }\n",
       "            }, 500);\n",
       "            "
      ],
      "text/plain": [
       "<IPython.core.display.Javascript object>"
      ]
     },
     "metadata": {},
     "output_type": "display_data"
    }
   ],
   "source": [
    "df.describe()"
   ]
  },
  {
   "cell_type": "markdown",
   "metadata": {},
   "source": [
    "**Observations**\n",
    "\n",
    "- The median value of fees is 4, indicating that most of the engineering colleges have high fees.\n",
    "- The mean and median of other ratings lie between 2 and 3, except the mean infrastructure rating."
   ]
  },
  {
   "cell_type": "code",
   "execution_count": 9,
   "metadata": {},
   "outputs": [
    {
     "data": {
      "text/plain": [
       "Engg_College      0\n",
       "Teaching          0\n",
       "Fees              0\n",
       "Placements        0\n",
       "Internship        0\n",
       "Infrastructure    0\n",
       "dtype: int64"
      ]
     },
     "execution_count": 9,
     "metadata": {},
     "output_type": "execute_result"
    },
    {
     "data": {
      "application/javascript": [
       "\n",
       "            setTimeout(function() {\n",
       "                var nbb_cell_id = 9;\n",
       "                var nbb_unformatted_code = \"# checking for missing values\\ndf.isna().sum()\";\n",
       "                var nbb_formatted_code = \"# checking for missing values\\ndf.isna().sum()\";\n",
       "                var nbb_cells = Jupyter.notebook.get_cells();\n",
       "                for (var i = 0; i < nbb_cells.length; ++i) {\n",
       "                    if (nbb_cells[i].input_prompt_number == nbb_cell_id) {\n",
       "                        if (nbb_cells[i].get_text() == nbb_unformatted_code) {\n",
       "                             nbb_cells[i].set_text(nbb_formatted_code);\n",
       "                        }\n",
       "                        break;\n",
       "                    }\n",
       "                }\n",
       "            }, 500);\n",
       "            "
      ],
      "text/plain": [
       "<IPython.core.display.Javascript object>"
      ]
     },
     "metadata": {},
     "output_type": "display_data"
    }
   ],
   "source": [
    "# checking for missing values\n",
    "df.isna().sum()"
   ]
  },
  {
   "cell_type": "markdown",
   "metadata": {},
   "source": [
    "- There are no missing values in our data"
   ]
  },
  {
   "cell_type": "markdown",
   "metadata": {},
   "source": [
    "# EDA"
   ]
  },
  {
   "cell_type": "markdown",
   "metadata": {},
   "source": [
    "### Univariate Analysis"
   ]
  },
  {
   "cell_type": "code",
   "execution_count": 10,
   "metadata": {},
   "outputs": [
    {
     "data": {
      "application/javascript": [
       "\n",
       "            setTimeout(function() {\n",
       "                var nbb_cell_id = 10;\n",
       "                var nbb_unformatted_code = \"# function to plot a boxplot and a histogram along the same scale.\\n\\n\\ndef histogram_boxplot(data, feature, figsize=(12, 7), kde=False, bins=None):\\n    \\\"\\\"\\\"\\n    Boxplot and histogram combined\\n\\n    data: dataframe\\n    feature: dataframe column\\n    figsize: size of figure (default (12,7))\\n    kde: whether to the show density curve (default False)\\n    bins: number of bins for histogram (default None)\\n    \\\"\\\"\\\"\\n    f2, (ax_box2, ax_hist2) = plt.subplots(\\n        nrows=2,  # Number of rows of the subplot grid= 2\\n        sharex=True,  # x-axis will be shared among all subplots\\n        gridspec_kw={\\\"height_ratios\\\": (0.25, 0.75)},\\n        figsize=figsize,\\n    )  # creating the 2 subplots\\n    sns.boxplot(\\n        data=data, x=feature, ax=ax_box2, showmeans=True, color=\\\"violet\\\"\\n    )  # boxplot will be created and a star will indicate the mean value of the column\\n    sns.histplot(\\n        data=data, x=feature, kde=kde, ax=ax_hist2, bins=bins, palette=\\\"winter\\\"\\n    ) if bins else sns.histplot(\\n        data=data, x=feature, kde=kde, ax=ax_hist2, discrete=True\\n    )  # For histogram\\n    ax_hist2.axvline(\\n        data[feature].mean(), color=\\\"green\\\", linestyle=\\\"--\\\"\\n    )  # Add mean to the histogram\\n    ax_hist2.axvline(\\n        data[feature].median(), color=\\\"black\\\", linestyle=\\\"-\\\"\\n    )  # Add median to the histogram\";\n",
       "                var nbb_formatted_code = \"# function to plot a boxplot and a histogram along the same scale.\\n\\n\\ndef histogram_boxplot(data, feature, figsize=(12, 7), kde=False, bins=None):\\n    \\\"\\\"\\\"\\n    Boxplot and histogram combined\\n\\n    data: dataframe\\n    feature: dataframe column\\n    figsize: size of figure (default (12,7))\\n    kde: whether to the show density curve (default False)\\n    bins: number of bins for histogram (default None)\\n    \\\"\\\"\\\"\\n    f2, (ax_box2, ax_hist2) = plt.subplots(\\n        nrows=2,  # Number of rows of the subplot grid= 2\\n        sharex=True,  # x-axis will be shared among all subplots\\n        gridspec_kw={\\\"height_ratios\\\": (0.25, 0.75)},\\n        figsize=figsize,\\n    )  # creating the 2 subplots\\n    sns.boxplot(\\n        data=data, x=feature, ax=ax_box2, showmeans=True, color=\\\"violet\\\"\\n    )  # boxplot will be created and a star will indicate the mean value of the column\\n    sns.histplot(\\n        data=data, x=feature, kde=kde, ax=ax_hist2, bins=bins, palette=\\\"winter\\\"\\n    ) if bins else sns.histplot(\\n        data=data, x=feature, kde=kde, ax=ax_hist2, discrete=True\\n    )  # For histogram\\n    ax_hist2.axvline(\\n        data[feature].mean(), color=\\\"green\\\", linestyle=\\\"--\\\"\\n    )  # Add mean to the histogram\\n    ax_hist2.axvline(\\n        data[feature].median(), color=\\\"black\\\", linestyle=\\\"-\\\"\\n    )  # Add median to the histogram\";\n",
       "                var nbb_cells = Jupyter.notebook.get_cells();\n",
       "                for (var i = 0; i < nbb_cells.length; ++i) {\n",
       "                    if (nbb_cells[i].input_prompt_number == nbb_cell_id) {\n",
       "                        if (nbb_cells[i].get_text() == nbb_unformatted_code) {\n",
       "                             nbb_cells[i].set_text(nbb_formatted_code);\n",
       "                        }\n",
       "                        break;\n",
       "                    }\n",
       "                }\n",
       "            }, 500);\n",
       "            "
      ],
      "text/plain": [
       "<IPython.core.display.Javascript object>"
      ]
     },
     "metadata": {},
     "output_type": "display_data"
    }
   ],
   "source": [
    "# function to plot a boxplot and a histogram along the same scale.\n",
    "\n",
    "\n",
    "def histogram_boxplot(data, feature, figsize=(12, 7), kde=False, bins=None):\n",
    "    \"\"\"\n",
    "    Boxplot and histogram combined\n",
    "\n",
    "    data: dataframe\n",
    "    feature: dataframe column\n",
    "    figsize: size of figure (default (12,7))\n",
    "    kde: whether to the show density curve (default False)\n",
    "    bins: number of bins for histogram (default None)\n",
    "    \"\"\"\n",
    "    f2, (ax_box2, ax_hist2) = plt.subplots(\n",
    "        nrows=2,  # Number of rows of the subplot grid= 2\n",
    "        sharex=True,  # x-axis will be shared among all subplots\n",
    "        gridspec_kw={\"height_ratios\": (0.25, 0.75)},\n",
    "        figsize=figsize,\n",
    "    )  # creating the 2 subplots\n",
    "    sns.boxplot(\n",
    "        data=data, x=feature, ax=ax_box2, showmeans=True, color=\"violet\"\n",
    "    )  # boxplot will be created and a star will indicate the mean value of the column\n",
    "    sns.histplot(\n",
    "        data=data, x=feature, kde=kde, ax=ax_hist2, bins=bins, palette=\"winter\"\n",
    "    ) if bins else sns.histplot(\n",
    "        data=data, x=feature, kde=kde, ax=ax_hist2, discrete=True\n",
    "    )  # For histogram\n",
    "    ax_hist2.axvline(\n",
    "        data[feature].mean(), color=\"green\", linestyle=\"--\"\n",
    "    )  # Add mean to the histogram\n",
    "    ax_hist2.axvline(\n",
    "        data[feature].median(), color=\"black\", linestyle=\"-\"\n",
    "    )  # Add median to the histogram"
   ]
  },
  {
   "cell_type": "code",
   "execution_count": 12,
   "metadata": {},
   "outputs": [
    {
     "data": {
      "image/png": "[encoded data removed]",
      "text/plain": [
       "<Figure size 576x288 with 2 Axes>"
      ]
     },
     "metadata": {},
     "output_type": "display_data"
    },
    {
     "data": {
      "image/png": "[encoded data removed]",
      "text/plain": [
       "<Figure size 576x288 with 2 Axes>"
      ]
     },
     "metadata": {},
     "output_type": "display_data"
    },
    {
     "data": {
      "image/png": "[encoded data removed]",
      "text/plain": [
       "<Figure size 576x288 with 2 Axes>"
      ]
     },
     "metadata": {},
     "output_type": "display_data"
    },
    {
     "data": {
      "image/png": "[encoded data removed]",
      "text/plain": [
       "<Figure size 576x288 with 2 Axes>"
      ]
     },
     "metadata": {},
     "output_type": "display_data"
    },
    {
     "data": {
      "image/png": "[encoded data removed]",
      "text/plain": [
       "<Figure size 576x288 with 2 Axes>"
      ]
     },
     "metadata": {},
     "output_type": "display_data"
    },
    {
     "data": {
      "application/javascript": [
       "\n",
       "            setTimeout(function() {\n",
       "                var nbb_cell_id = 12;\n",
       "                var nbb_unformatted_code = \"# selecting numerical columns\\nnum_col = df.select_dtypes(include=np.number).columns.tolist()\\n\\nfor item in num_col:\\n    histogram_boxplot(df, item, kde=True, figsize=(8, 4))\";\n",
       "                var nbb_formatted_code = \"# selecting numerical columns\\nnum_col = df.select_dtypes(include=np.number).columns.tolist()\\n\\nfor item in num_col:\\n    histogram_boxplot(df, item, kde=True, figsize=(8, 4))\";\n",
       "                var nbb_cells = Jupyter.notebook.get_cells();\n",
       "                for (var i = 0; i < nbb_cells.length; ++i) {\n",
       "                    if (nbb_cells[i].input_prompt_number == nbb_cell_id) {\n",
       "                        if (nbb_cells[i].get_text() == nbb_unformatted_code) {\n",
       "                             nbb_cells[i].set_text(nbb_formatted_code);\n",
       "                        }\n",
       "                        break;\n",
       "                    }\n",
       "                }\n",
       "            }, 500);\n",
       "            "
      ],
      "text/plain": [
       "<IPython.core.display.Javascript object>"
      ]
     },
     "metadata": {},
     "output_type": "display_data"
    }
   ],
   "source": [
    "# selecting numerical columns\n",
    "num_col = df.select_dtypes(include=np.number).columns.tolist()\n",
    "\n",
    "for item in num_col:\n",
    "    histogram_boxplot(df, item, kde=True, figsize=(8, 4))"
   ]
  },
  {
   "cell_type": "markdown",
   "metadata": {},
   "source": [
    "**Observations**\n",
    "\n",
    "- Fees in most of the colleges are high.\n",
    "- At least 50% of the colleges have 2 as the rating for internship opportunities."
   ]
  },
  {
   "cell_type": "code",
   "execution_count": 12,
   "metadata": {},
   "outputs": [
    {
     "data": {
      "application/javascript": [
       "\n",
       "            setTimeout(function() {\n",
       "                var nbb_cell_id = 12;\n",
       "                var nbb_unformatted_code = \"# function to create labeled barplots\\n\\n\\ndef labeled_barplot(data, feature, perc=False, n=None):\\n    \\\"\\\"\\\"\\n    Barplot with percentage at the top\\n\\n    data: dataframe\\n    feature: dataframe column\\n    perc: whether to display percentages instead of count (default is False)\\n    n: displays the top n category levels (default is None, i.e., display all levels)\\n    \\\"\\\"\\\"\\n\\n    total = len(data[feature])  # length of the column\\n    count = data[feature].nunique()\\n    if n is None:\\n        plt.figure(figsize=(count + 1, 5))\\n    else:\\n        plt.figure(figsize=(n + 1, 5))\\n\\n    plt.xticks(rotation=90, fontsize=15)\\n    ax = sns.countplot(\\n        data=data,\\n        x=feature,\\n        palette=\\\"Paired\\\",\\n        order=data[feature].value_counts().index[:n].sort_values(),\\n    )\\n\\n    for p in ax.patches:\\n        if perc == True:\\n            label = \\\"{:.1f}%\\\".format(\\n                100 * p.get_height() / total\\n            )  # percentage of each class of the category\\n        else:\\n            label = p.get_height()  # count of each level of the category\\n\\n        x = p.get_x() + p.get_width() / 2  # width of the plot\\n        y = p.get_height()  # height of the plot\\n\\n        ax.annotate(\\n            label,\\n            (x, y),\\n            ha=\\\"center\\\",\\n            va=\\\"center\\\",\\n            size=12,\\n            xytext=(0, 5),\\n            textcoords=\\\"offset points\\\",\\n        )  # annotate the percentage\\n\\n    plt.show()  # show the plot\";\n",
       "                var nbb_formatted_code = \"# function to create labeled barplots\\n\\n\\ndef labeled_barplot(data, feature, perc=False, n=None):\\n    \\\"\\\"\\\"\\n    Barplot with percentage at the top\\n\\n    data: dataframe\\n    feature: dataframe column\\n    perc: whether to display percentages instead of count (default is False)\\n    n: displays the top n category levels (default is None, i.e., display all levels)\\n    \\\"\\\"\\\"\\n\\n    total = len(data[feature])  # length of the column\\n    count = data[feature].nunique()\\n    if n is None:\\n        plt.figure(figsize=(count + 1, 5))\\n    else:\\n        plt.figure(figsize=(n + 1, 5))\\n\\n    plt.xticks(rotation=90, fontsize=15)\\n    ax = sns.countplot(\\n        data=data,\\n        x=feature,\\n        palette=\\\"Paired\\\",\\n        order=data[feature].value_counts().index[:n].sort_values(),\\n    )\\n\\n    for p in ax.patches:\\n        if perc == True:\\n            label = \\\"{:.1f}%\\\".format(\\n                100 * p.get_height() / total\\n            )  # percentage of each class of the category\\n        else:\\n            label = p.get_height()  # count of each level of the category\\n\\n        x = p.get_x() + p.get_width() / 2  # width of the plot\\n        y = p.get_height()  # height of the plot\\n\\n        ax.annotate(\\n            label,\\n            (x, y),\\n            ha=\\\"center\\\",\\n            va=\\\"center\\\",\\n            size=12,\\n            xytext=(0, 5),\\n            textcoords=\\\"offset points\\\",\\n        )  # annotate the percentage\\n\\n    plt.show()  # show the plot\";\n",
       "                var nbb_cells = Jupyter.notebook.get_cells();\n",
       "                for (var i = 0; i < nbb_cells.length; ++i) {\n",
       "                    if (nbb_cells[i].input_prompt_number == nbb_cell_id) {\n",
       "                        if (nbb_cells[i].get_text() == nbb_unformatted_code) {\n",
       "                             nbb_cells[i].set_text(nbb_formatted_code);\n",
       "                        }\n",
       "                        break;\n",
       "                    }\n",
       "                }\n",
       "            }, 500);\n",
       "            "
      ],
      "text/plain": [
       "<IPython.core.display.Javascript object>"
      ]
     },
     "metadata": {},
     "output_type": "display_data"
    }
   ],
   "source": [
    "# function to create labeled barplots\n",
    "\n",
    "\n",
    "def labeled_barplot(data, feature, perc=False, n=None):\n",
    "    \"\"\"\n",
    "    Barplot with percentage at the top\n",
    "\n",
    "    data: dataframe\n",
    "    feature: dataframe column\n",
    "    perc: whether to display percentages instead of count (default is False)\n",
    "    n: displays the top n category levels (default is None, i.e., display all levels)\n",
    "    \"\"\"\n",
    "\n",
    "    total = len(data[feature])  # length of the column\n",
    "    count = data[feature].nunique()\n",
    "    if n is None:\n",
    "        plt.figure(figsize=(count + 1, 5))\n",
    "    else:\n",
    "        plt.figure(figsize=(n + 1, 5))\n",
    "\n",
    "    plt.xticks(rotation=90, fontsize=15)\n",
    "    ax = sns.countplot(\n",
    "        data=data,\n",
    "        x=feature,\n",
    "        palette=\"Paired\",\n",
    "        order=data[feature].value_counts().index[:n].sort_values(),\n",
    "    )\n",
    "\n",
    "    for p in ax.patches:\n",
    "        if perc == True:\n",
    "            label = \"{:.1f}%\".format(\n",
    "                100 * p.get_height() / total\n",
    "            )  # percentage of each class of the category\n",
    "        else:\n",
    "            label = p.get_height()  # count of each level of the category\n",
    "\n",
    "        x = p.get_x() + p.get_width() / 2  # width of the plot\n",
    "        y = p.get_height()  # height of the plot\n",
    "\n",
    "        ax.annotate(\n",
    "            label,\n",
    "            (x, y),\n",
    "            ha=\"center\",\n",
    "            va=\"center\",\n",
    "            size=12,\n",
    "            xytext=(0, 5),\n",
    "            textcoords=\"offset points\",\n",
    "        )  # annotate the percentage\n",
    "\n",
    "    plt.show()  # show the plot"
   ]
  },
  {
   "cell_type": "code",
   "execution_count": 13,
   "metadata": {},
   "outputs": [
    {
     "data": {
      "image/png": "[encoded data removed]",
      "text/plain": [
       "<Figure size 432x360 with 1 Axes>"
      ]
     },
     "metadata": {},
     "output_type": "display_data"
    },
    {
     "data": {
      "image/png": "[encoded data removed]",
      "text/plain": [
       "<Figure size 432x360 with 1 Axes>"
      ]
     },
     "metadata": {},
     "output_type": "display_data"
    },
    {
     "data": {
      "image/png": "[encoded data removed]",
      "text/plain": [
       "<Figure size 432x360 with 1 Axes>"
      ]
     },
     "metadata": {},
     "output_type": "display_data"
    },
    {
     "data": {
      "image/png": "[encoded data removed]",
      "text/plain": [
       "<Figure size 432x360 with 1 Axes>"
      ]
     },
     "metadata": {},
     "output_type": "display_data"
    },
    {
     "data": {
      "image/png": "[encoded data removed]",
      "text/plain": [
       "<Figure size 432x360 with 1 Axes>"
      ]
     },
     "metadata": {},
     "output_type": "display_data"
    },
    {
     "data": {
      "application/javascript": [
       "\n",
       "            setTimeout(function() {\n",
       "                var nbb_cell_id = 13;\n",
       "                var nbb_unformatted_code = \"for item in num_col:\\n    labeled_barplot(df, item, perc=True)\";\n",
       "                var nbb_formatted_code = \"for item in num_col:\\n    labeled_barplot(df, item, perc=True)\";\n",
       "                var nbb_cells = Jupyter.notebook.get_cells();\n",
       "                for (var i = 0; i < nbb_cells.length; ++i) {\n",
       "                    if (nbb_cells[i].input_prompt_number == nbb_cell_id) {\n",
       "                        if (nbb_cells[i].get_text() == nbb_unformatted_code) {\n",
       "                             nbb_cells[i].set_text(nbb_formatted_code);\n",
       "                        }\n",
       "                        break;\n",
       "                    }\n",
       "                }\n",
       "            }, 500);\n",
       "            "
      ],
      "text/plain": [
       "<IPython.core.display.Javascript object>"
      ]
     },
     "metadata": {},
     "output_type": "display_data"
    }
   ],
   "source": [
    "for item in num_col:\n",
    "    labeled_barplot(df, item, perc=True)"
   ]
  },
  {
   "cell_type": "markdown",
   "metadata": {},
   "source": [
    "**Observations**\n",
    "\n",
    "- More than 75% of the colleges have a rating less than 4 for placements.\n",
    "- More than 80% of the colleges have a rating of 3 or more for infrastructure."
   ]
  },
  {
   "cell_type": "markdown",
   "metadata": {},
   "source": [
    "### Bivariate Analsysis"
   ]
  },
  {
   "cell_type": "markdown",
   "metadata": {},
   "source": [
    "**Let's check for correlations.**"
   ]
  },
  {
   "cell_type": "code",
   "execution_count": 14,
   "metadata": {},
   "outputs": [
    {
     "data": {
      "image/png": "[encoded data removed]",
      "text/plain": [
       "<Figure size 1080x504 with 2 Axes>"
      ]
     },
     "metadata": {},
     "output_type": "display_data"
    },
    {
     "data": {
      "application/javascript": [
       "\n",
       "            setTimeout(function() {\n",
       "                var nbb_cell_id = 14;\n",
       "                var nbb_unformatted_code = \"plt.figure(figsize=(15, 7))\\nsns.heatmap(df[num_col].corr(), annot=True, vmin=-1, vmax=1, fmt=\\\".2f\\\", cmap=\\\"Spectral\\\")\\nplt.show()\";\n",
       "                var nbb_formatted_code = \"plt.figure(figsize=(15, 7))\\nsns.heatmap(df[num_col].corr(), annot=True, vmin=-1, vmax=1, fmt=\\\".2f\\\", cmap=\\\"Spectral\\\")\\nplt.show()\";\n",
       "                var nbb_cells = Jupyter.notebook.get_cells();\n",
       "                for (var i = 0; i < nbb_cells.length; ++i) {\n",
       "                    if (nbb_cells[i].input_prompt_number == nbb_cell_id) {\n",
       "                        if (nbb_cells[i].get_text() == nbb_unformatted_code) {\n",
       "                             nbb_cells[i].set_text(nbb_formatted_code);\n",
       "                        }\n",
       "                        break;\n",
       "                    }\n",
       "                }\n",
       "            }, 500);\n",
       "            "
      ],
      "text/plain": [
       "<IPython.core.display.Javascript object>"
      ]
     },
     "metadata": {},
     "output_type": "display_data"
    }
   ],
   "source": [
    "plt.figure(figsize=(15, 7))\n",
    "sns.heatmap(df[num_col].corr(), annot=True, vmin=-1, vmax=1, fmt=\".2f\", cmap=\"Spectral\")\n",
    "plt.show()"
   ]
  },
  {
   "cell_type": "markdown",
   "metadata": {},
   "source": [
    "**Observation**\n",
    "\n",
    "- Rating for teaching is strongly positively correlated with the rating for placements and internships.\n",
    "- This is obvious because if teaching quality is high, students are more likely to get placements and internships."
   ]
  },
  {
   "cell_type": "code",
   "execution_count": 15,
   "metadata": {},
   "outputs": [
    {
     "data": {
      "image/png": "[encoded data removed]",
      "text/plain": [
       "<Figure size 900x900 with 30 Axes>"
      ]
     },
     "metadata": {},
     "output_type": "display_data"
    },
    {
     "data": {
      "application/javascript": [
       "\n",
       "            setTimeout(function() {\n",
       "                var nbb_cell_id = 15;\n",
       "                var nbb_unformatted_code = \"sns.pairplot(data=df[num_col], diag_kind=\\\"kde\\\")\\nplt.show()\";\n",
       "                var nbb_formatted_code = \"sns.pairplot(data=df[num_col], diag_kind=\\\"kde\\\")\\nplt.show()\";\n",
       "                var nbb_cells = Jupyter.notebook.get_cells();\n",
       "                for (var i = 0; i < nbb_cells.length; ++i) {\n",
       "                    if (nbb_cells[i].input_prompt_number == nbb_cell_id) {\n",
       "                        if (nbb_cells[i].get_text() == nbb_unformatted_code) {\n",
       "                             nbb_cells[i].set_text(nbb_formatted_code);\n",
       "                        }\n",
       "                        break;\n",
       "                    }\n",
       "                }\n",
       "            }, 500);\n",
       "            "
      ],
      "text/plain": [
       "<IPython.core.display.Javascript object>"
      ]
     },
     "metadata": {},
     "output_type": "display_data"
    }
   ],
   "source": [
    "sns.pairplot(data=df[num_col], diag_kind=\"kde\")\n",
    "plt.show()"
   ]
  },
  {
   "cell_type": "markdown",
   "metadata": {},
   "source": [
    "**Observations**\n",
    "\n",
    "- Teaching is almost normally distributed.\n",
    "- Distribution of fees seems to be bimodal.\n",
    "- Distribution of Internships seems to be bimodal."
   ]
  },
  {
   "cell_type": "code",
   "execution_count": 13,
   "metadata": {},
   "outputs": [
    {
     "data": {
      "application/javascript": [
       "\n",
       "            setTimeout(function() {\n",
       "                var nbb_cell_id = 13;\n",
       "                var nbb_unformatted_code = \"# Scaling the data set before clustering\\nscaler = StandardScaler()\\nsubset = df[num_col].copy()\\nsubset_scaled = scaler.fit_transform(subset)\";\n",
       "                var nbb_formatted_code = \"# Scaling the data set before clustering\\nscaler = StandardScaler()\\nsubset = df[num_col].copy()\\nsubset_scaled = scaler.fit_transform(subset)\";\n",
       "                var nbb_cells = Jupyter.notebook.get_cells();\n",
       "                for (var i = 0; i < nbb_cells.length; ++i) {\n",
       "                    if (nbb_cells[i].input_prompt_number == nbb_cell_id) {\n",
       "                        if (nbb_cells[i].get_text() == nbb_unformatted_code) {\n",
       "                             nbb_cells[i].set_text(nbb_formatted_code);\n",
       "                        }\n",
       "                        break;\n",
       "                    }\n",
       "                }\n",
       "            }, 500);\n",
       "            "
      ],
      "text/plain": [
       "<IPython.core.display.Javascript object>"
      ]
     },
     "metadata": {},
     "output_type": "display_data"
    }
   ],
   "source": [
    "# Scaling the data set before clustering\n",
    "scaler = StandardScaler()\n",
    "subset = df[num_col].copy()\n",
    "subset_scaled = scaler.fit_transform(subset)"
   ]
  },
  {
   "cell_type": "code",
   "execution_count": 14,
   "metadata": {},
   "outputs": [
    {
     "data": {
      "application/javascript": [
       "\n",
       "            setTimeout(function() {\n",
       "                var nbb_cell_id = 14;\n",
       "                var nbb_unformatted_code = \"# Creating a dataframe from the scaled data\\nsubset_scaled_df = pd.DataFrame(subset_scaled, columns=subset.columns)\";\n",
       "                var nbb_formatted_code = \"# Creating a dataframe from the scaled data\\nsubset_scaled_df = pd.DataFrame(subset_scaled, columns=subset.columns)\";\n",
       "                var nbb_cells = Jupyter.notebook.get_cells();\n",
       "                for (var i = 0; i < nbb_cells.length; ++i) {\n",
       "                    if (nbb_cells[i].input_prompt_number == nbb_cell_id) {\n",
       "                        if (nbb_cells[i].get_text() == nbb_unformatted_code) {\n",
       "                             nbb_cells[i].set_text(nbb_formatted_code);\n",
       "                        }\n",
       "                        break;\n",
       "                    }\n",
       "                }\n",
       "            }, 500);\n",
       "            "
      ],
      "text/plain": [
       "<IPython.core.display.Javascript object>"
      ]
     },
     "metadata": {},
     "output_type": "display_data"
    }
   ],
   "source": [
    "# Creating a dataframe from the scaled data\n",
    "subset_scaled_df = pd.DataFrame(subset_scaled, columns=subset.columns)"
   ]
  },
  {
   "cell_type": "code",
   "execution_count": 15,
   "metadata": {},
   "outputs": [
    {
     "data": {
      "text/html": [
       "<div>\n",
       "<style scoped>\n",
       "    .dataframe tbody tr th:only-of-type {\n",
       "        vertical-align: middle;\n",
       "    }\n",
       "\n",
       "    .dataframe tbody tr th {\n",
       "        vertical-align: top;\n",
       "    }\n",
       "\n",
       "    .dataframe thead th {\n",
       "        text-align: right;\n",
       "    }\n",
       "</style>\n",
       "<table border=\"1\" class=\"dataframe\">\n",
       "  <thead>\n",
       "    <tr style=\"text-align: right;\">\n",
       "      <th></th>\n",
       "      <th>Teaching</th>\n",
       "      <th>Fees</th>\n",
       "      <th>Placements</th>\n",
       "      <th>Internship</th>\n",
       "      <th>Infrastructure</th>\n",
       "    </tr>\n",
       "  </thead>\n",
       "  <tbody>\n",
       "    <tr>\n",
       "      <th>0</th>\n",
       "      <td>1.974933</td>\n",
       "      <td>-1.20745</td>\n",
       "      <td>1.408406</td>\n",
       "      <td>1.830464</td>\n",
       "      <td>-0.302061</td>\n",
       "    </tr>\n",
       "    <tr>\n",
       "      <th>1</th>\n",
       "      <td>1.074086</td>\n",
       "      <td>-1.20745</td>\n",
       "      <td>1.408406</td>\n",
       "      <td>1.830464</td>\n",
       "      <td>-0.302061</td>\n",
       "    </tr>\n",
       "    <tr>\n",
       "      <th>2</th>\n",
       "      <td>1.074086</td>\n",
       "      <td>1.08965</td>\n",
       "      <td>1.408406</td>\n",
       "      <td>1.009911</td>\n",
       "      <td>1.268656</td>\n",
       "    </tr>\n",
       "    <tr>\n",
       "      <th>3</th>\n",
       "      <td>1.974933</td>\n",
       "      <td>0.32395</td>\n",
       "      <td>1.408406</td>\n",
       "      <td>1.009911</td>\n",
       "      <td>0.483298</td>\n",
       "    </tr>\n",
       "    <tr>\n",
       "      <th>4</th>\n",
       "      <td>-0.727607</td>\n",
       "      <td>1.08965</td>\n",
       "      <td>-0.588970</td>\n",
       "      <td>-0.631194</td>\n",
       "      <td>1.268656</td>\n",
       "    </tr>\n",
       "    <tr>\n",
       "      <th>5</th>\n",
       "      <td>0.173240</td>\n",
       "      <td>0.32395</td>\n",
       "      <td>0.076822</td>\n",
       "      <td>0.189358</td>\n",
       "      <td>0.483298</td>\n",
       "    </tr>\n",
       "    <tr>\n",
       "      <th>6</th>\n",
       "      <td>-1.628453</td>\n",
       "      <td>-0.44175</td>\n",
       "      <td>-1.254761</td>\n",
       "      <td>-1.451747</td>\n",
       "      <td>-1.087420</td>\n",
       "    </tr>\n",
       "    <tr>\n",
       "      <th>7</th>\n",
       "      <td>1.074086</td>\n",
       "      <td>0.32395</td>\n",
       "      <td>1.408406</td>\n",
       "      <td>1.830464</td>\n",
       "      <td>1.268656</td>\n",
       "    </tr>\n",
       "    <tr>\n",
       "      <th>8</th>\n",
       "      <td>1.074086</td>\n",
       "      <td>0.32395</td>\n",
       "      <td>0.742614</td>\n",
       "      <td>1.009911</td>\n",
       "      <td>0.483298</td>\n",
       "    </tr>\n",
       "    <tr>\n",
       "      <th>9</th>\n",
       "      <td>0.173240</td>\n",
       "      <td>0.32395</td>\n",
       "      <td>0.076822</td>\n",
       "      <td>1.009911</td>\n",
       "      <td>1.268656</td>\n",
       "    </tr>\n",
       "    <tr>\n",
       "      <th>10</th>\n",
       "      <td>0.173240</td>\n",
       "      <td>0.32395</td>\n",
       "      <td>0.076822</td>\n",
       "      <td>1.009911</td>\n",
       "      <td>1.268656</td>\n",
       "    </tr>\n",
       "    <tr>\n",
       "      <th>11</th>\n",
       "      <td>-0.727607</td>\n",
       "      <td>1.08965</td>\n",
       "      <td>0.076822</td>\n",
       "      <td>-0.631194</td>\n",
       "      <td>-0.302061</td>\n",
       "    </tr>\n",
       "    <tr>\n",
       "      <th>12</th>\n",
       "      <td>-1.628453</td>\n",
       "      <td>1.08965</td>\n",
       "      <td>-1.254761</td>\n",
       "      <td>-0.631194</td>\n",
       "      <td>-1.087420</td>\n",
       "    </tr>\n",
       "    <tr>\n",
       "      <th>13</th>\n",
       "      <td>0.173240</td>\n",
       "      <td>1.08965</td>\n",
       "      <td>0.076822</td>\n",
       "      <td>0.189358</td>\n",
       "      <td>0.483298</td>\n",
       "    </tr>\n",
       "    <tr>\n",
       "      <th>14</th>\n",
       "      <td>0.173240</td>\n",
       "      <td>-1.20745</td>\n",
       "      <td>-0.588970</td>\n",
       "      <td>-0.631194</td>\n",
       "      <td>-0.302061</td>\n",
       "    </tr>\n",
       "    <tr>\n",
       "      <th>15</th>\n",
       "      <td>0.173240</td>\n",
       "      <td>-0.44175</td>\n",
       "      <td>-0.588970</td>\n",
       "      <td>-0.631194</td>\n",
       "      <td>-0.302061</td>\n",
       "    </tr>\n",
       "    <tr>\n",
       "      <th>16</th>\n",
       "      <td>0.173240</td>\n",
       "      <td>-0.44175</td>\n",
       "      <td>-1.254761</td>\n",
       "      <td>-0.631194</td>\n",
       "      <td>-0.302061</td>\n",
       "    </tr>\n",
       "    <tr>\n",
       "      <th>17</th>\n",
       "      <td>0.173240</td>\n",
       "      <td>0.32395</td>\n",
       "      <td>0.742614</td>\n",
       "      <td>0.189358</td>\n",
       "      <td>-0.302061</td>\n",
       "    </tr>\n",
       "    <tr>\n",
       "      <th>18</th>\n",
       "      <td>0.173240</td>\n",
       "      <td>1.08965</td>\n",
       "      <td>0.742614</td>\n",
       "      <td>0.189358</td>\n",
       "      <td>-0.302061</td>\n",
       "    </tr>\n",
       "    <tr>\n",
       "      <th>19</th>\n",
       "      <td>0.173240</td>\n",
       "      <td>1.08965</td>\n",
       "      <td>0.076822</td>\n",
       "      <td>-0.631194</td>\n",
       "      <td>-0.302061</td>\n",
       "    </tr>\n",
       "    <tr>\n",
       "      <th>20</th>\n",
       "      <td>-0.727607</td>\n",
       "      <td>-1.20745</td>\n",
       "      <td>-0.588970</td>\n",
       "      <td>-0.631194</td>\n",
       "      <td>-1.872778</td>\n",
       "    </tr>\n",
       "    <tr>\n",
       "      <th>21</th>\n",
       "      <td>-0.727607</td>\n",
       "      <td>-1.20745</td>\n",
       "      <td>-1.254761</td>\n",
       "      <td>-0.631194</td>\n",
       "      <td>-1.872778</td>\n",
       "    </tr>\n",
       "    <tr>\n",
       "      <th>22</th>\n",
       "      <td>-0.727607</td>\n",
       "      <td>1.08965</td>\n",
       "      <td>-1.254761</td>\n",
       "      <td>-1.451747</td>\n",
       "      <td>-1.872778</td>\n",
       "    </tr>\n",
       "    <tr>\n",
       "      <th>23</th>\n",
       "      <td>-1.628453</td>\n",
       "      <td>-1.97315</td>\n",
       "      <td>-1.254761</td>\n",
       "      <td>-0.631194</td>\n",
       "      <td>1.268656</td>\n",
       "    </tr>\n",
       "    <tr>\n",
       "      <th>24</th>\n",
       "      <td>-1.628453</td>\n",
       "      <td>-1.97315</td>\n",
       "      <td>-1.254761</td>\n",
       "      <td>-1.451747</td>\n",
       "      <td>1.268656</td>\n",
       "    </tr>\n",
       "    <tr>\n",
       "      <th>25</th>\n",
       "      <td>0.173240</td>\n",
       "      <td>0.32395</td>\n",
       "      <td>1.408406</td>\n",
       "      <td>-0.631194</td>\n",
       "      <td>-0.302061</td>\n",
       "    </tr>\n",
       "  </tbody>\n",
       "</table>\n",
       "</div>"
      ],
      "text/plain": [
       "    Teaching     Fees  Placements  Internship  Infrastructure\n",
       "0   1.974933 -1.20745    1.408406    1.830464       -0.302061\n",
       "1   1.074086 -1.20745    1.408406    1.830464       -0.302061\n",
       "2   1.074086  1.08965    1.408406    1.009911        1.268656\n",
       "3   1.974933  0.32395    1.408406    1.009911        0.483298\n",
       "4  -0.727607  1.08965   -0.588970   -0.631194        1.268656\n",
       "5   0.173240  0.32395    0.076822    0.189358        0.483298\n",
       "6  -1.628453 -0.44175   -1.254761   -1.451747       -1.087420\n",
       "7   1.074086  0.32395    1.408406    1.830464        1.268656\n",
       "8   1.074086  0.32395    0.742614    1.009911        0.483298\n",
       "9   0.173240  0.32395    0.076822    1.009911        1.268656\n",
       "10  0.173240  0.32395    0.076822    1.009911        1.268656\n",
       "11 -0.727607  1.08965    0.076822   -0.631194       -0.302061\n",
       "12 -1.628453  1.08965   -1.254761   -0.631194       -1.087420\n",
       "13  0.173240  1.08965    0.076822    0.189358        0.483298\n",
       "14  0.173240 -1.20745   -0.588970   -0.631194       -0.302061\n",
       "15  0.173240 -0.44175   -0.588970   -0.631194       -0.302061\n",
       "16  0.173240 -0.44175   -1.254761   -0.631194       -0.302061\n",
       "17  0.173240  0.32395    0.742614    0.189358       -0.302061\n",
       "18  0.173240  1.08965    0.742614    0.189358       -0.302061\n",
       "19  0.173240  1.08965    0.076822   -0.631194       -0.302061\n",
       "20 -0.727607 -1.20745   -0.588970   -0.631194       -1.872778\n",
       "21 -0.727607 -1.20745   -1.254761   -0.631194       -1.872778\n",
       "22 -0.727607  1.08965   -1.254761   -1.451747       -1.872778\n",
       "23 -1.628453 -1.97315   -1.254761   -0.631194        1.268656\n",
       "24 -1.628453 -1.97315   -1.254761   -1.451747        1.268656\n",
       "25  0.173240  0.32395    1.408406   -0.631194       -0.302061"
      ]
     },
     "execution_count": 15,
     "metadata": {},
     "output_type": "execute_result"
    },
    {
     "data": {
      "application/javascript": [
       "\n",
       "            setTimeout(function() {\n",
       "                var nbb_cell_id = 15;\n",
       "                var nbb_unformatted_code = \"subset_scaled_df\";\n",
       "                var nbb_formatted_code = \"subset_scaled_df\";\n",
       "                var nbb_cells = Jupyter.notebook.get_cells();\n",
       "                for (var i = 0; i < nbb_cells.length; ++i) {\n",
       "                    if (nbb_cells[i].input_prompt_number == nbb_cell_id) {\n",
       "                        if (nbb_cells[i].get_text() == nbb_unformatted_code) {\n",
       "                             nbb_cells[i].set_text(nbb_formatted_code);\n",
       "                        }\n",
       "                        break;\n",
       "                    }\n",
       "                }\n",
       "            }, 500);\n",
       "            "
      ],
      "text/plain": [
       "<IPython.core.display.Javascript object>"
      ]
     },
     "metadata": {},
     "output_type": "display_data"
    }
   ],
   "source": [
    "subset_scaled_df"
   ]
  },
  {
   "cell_type": "code",
   "execution_count": 19,
   "metadata": {},
   "outputs": [
    {
     "name": "stdout",
     "output_type": "stream",
     "text": [
      "Number of Clusters: 1 \tAverage Distortion: 2.087990295998642\n",
      "Number of Clusters: 2 \tAverage Distortion: 1.6030760049686552\n",
      "Number of Clusters: 3 \tAverage Distortion: 1.3542868697697457\n",
      "Number of Clusters: 4 \tAverage Distortion: 1.1658645562214658\n",
      "Number of Clusters: 5 \tAverage Distortion: 1.0290612283501503\n",
      "Number of Clusters: 6 \tAverage Distortion: 0.9313789989995135\n",
      "Number of Clusters: 7 \tAverage Distortion: 0.8210830918162462\n",
      "Number of Clusters: 8 \tAverage Distortion: 0.7161563518185236\n"
     ]
    },
    {
     "data": {
      "text/plain": [
       "Text(0.5, 1.0, 'Selecting k with the Elbow Method')"
      ]
     },
     "execution_count": 19,
     "metadata": {},
     "output_type": "execute_result"
    },
    {
     "data": {
      "image/png": "[encoded data removed]",
      "text/plain": [
       "<Figure size 576x396 with 1 Axes>"
      ]
     },
     "metadata": {},
     "output_type": "display_data"
    },
    {
     "data": {
      "application/javascript": [
       "\n",
       "            setTimeout(function() {\n",
       "                var nbb_cell_id = 19;\n",
       "                var nbb_unformatted_code = \"clusters = range(1, 9)\\nmeanDistortions = []\\n\\nfor k in clusters:\\n    model = KMeans(n_clusters=k)\\n    model.fit(subset_scaled_df)\\n    prediction = model.predict(subset_scaled_df)\\n    distortion = (\\n        sum(\\n            np.min(cdist(subset_scaled_df, model.cluster_centers_, \\\"euclidean\\\"), axis=1)\\n        )\\n        / subset_scaled_df.shape[0]\\n    )\\n\\n    meanDistortions.append(distortion)\\n\\n    print(\\\"Number of Clusters:\\\", k, \\\"\\\\tAverage Distortion:\\\", distortion)\\n\\nplt.plot(clusters, meanDistortions, \\\"bx-\\\")\\nplt.xlabel(\\\"k\\\")\\nplt.ylabel(\\\"Average Distortion\\\")\\nplt.title(\\\"Selecting k with the Elbow Method\\\", fontsize=20)\";\n",
       "                var nbb_formatted_code = \"clusters = range(1, 9)\\nmeanDistortions = []\\n\\nfor k in clusters:\\n    model = KMeans(n_clusters=k)\\n    model.fit(subset_scaled_df)\\n    prediction = model.predict(subset_scaled_df)\\n    distortion = (\\n        sum(\\n            np.min(cdist(subset_scaled_df, model.cluster_centers_, \\\"euclidean\\\"), axis=1)\\n        )\\n        / subset_scaled_df.shape[0]\\n    )\\n\\n    meanDistortions.append(distortion)\\n\\n    print(\\\"Number of Clusters:\\\", k, \\\"\\\\tAverage Distortion:\\\", distortion)\\n\\nplt.plot(clusters, meanDistortions, \\\"bx-\\\")\\nplt.xlabel(\\\"k\\\")\\nplt.ylabel(\\\"Average Distortion\\\")\\nplt.title(\\\"Selecting k with the Elbow Method\\\", fontsize=20)\";\n",
       "                var nbb_cells = Jupyter.notebook.get_cells();\n",
       "                for (var i = 0; i < nbb_cells.length; ++i) {\n",
       "                    if (nbb_cells[i].input_prompt_number == nbb_cell_id) {\n",
       "                        if (nbb_cells[i].get_text() == nbb_unformatted_code) {\n",
       "                             nbb_cells[i].set_text(nbb_formatted_code);\n",
       "                        }\n",
       "                        break;\n",
       "                    }\n",
       "                }\n",
       "            }, 500);\n",
       "            "
      ],
      "text/plain": [
       "<IPython.core.display.Javascript object>"
      ]
     },
     "metadata": {},
     "output_type": "display_data"
    }
   ],
   "source": [
    "clusters = range(1, 9)\n",
    "meanDistortions = []\n",
    "\n",
    "for k in clusters:\n",
    "    model = KMeans(n_clusters=k)\n",
    "    model.fit(subset_scaled_df)\n",
    "    prediction = model.predict(subset_scaled_df)\n",
    "    distortion = (\n",
    "        sum(\n",
    "            np.min(cdist(subset_scaled_df, model.cluster_centers_, \"euclidean\"), axis=1)\n",
    "        )\n",
    "        / subset_scaled_df.shape[0]\n",
    "    )\n",
    "\n",
    "    meanDistortions.append(distortion)\n",
    "\n",
    "    print(\"Number of Clusters:\", k, \"\\tAverage Distortion:\", distortion)\n",
    "\n",
    "plt.plot(clusters, meanDistortions, \"bx-\")\n",
    "plt.xlabel(\"k\")\n",
    "plt.ylabel(\"Average Distortion\")\n",
    "plt.title(\"Selecting k with the Elbow Method\", fontsize=20)"
   ]
  },
  {
   "cell_type": "markdown",
   "metadata": {},
   "source": [
    "**In the above plot, the elbow is seen for K=2, but if you observe the Average distortion results, there is some drop in distortion at K= 4 and 5.(Even a small elbow at K =4 and 5 is observed). ** "
   ]
  },
  {
   "cell_type": "markdown",
   "metadata": {},
   "source": [
    "**Let's check the silhouette scores.**"
   ]
  },
  {
   "cell_type": "code",
   "execution_count": 26,
   "metadata": {},
   "outputs": [
    {
     "name": "stdout",
     "output_type": "stream",
     "text": [
      "For n_clusters = 2, silhouette score is 0.3347415593639785\n",
      "For n_clusters = 3, silhouette score is 0.28965899397924016\n",
      "For n_clusters = 4, silhouette score is 0.3490226771698325\n",
      "For n_clusters = 5, silhouette score is 0.32618685638156814\n",
      "For n_clusters = 6, silhouette score is 0.3751606440274479\n",
      "For n_clusters = 7, silhouette score is 0.40821763575055453\n",
      "For n_clusters = 8, silhouette score is 0.37038312418229513\n",
      "For n_clusters = 9, silhouette score is 0.39102713851068926\n"
     ]
    },
    {
     "data": {
      "text/plain": [
       "[<matplotlib.lines.Line2D at 0x214124dea90>]"
      ]
     },
     "execution_count": 26,
     "metadata": {},
     "output_type": "execute_result"
    },
    {
     "data": {
      "image/png": "[encoded data removed]",
      "text/plain": [
       "<Figure size 576x396 with 1 Axes>"
      ]
     },
     "metadata": {},
     "output_type": "display_data"
    },
    {
     "data": {
      "application/javascript": [
       "\n",
       "            setTimeout(function() {\n",
       "                var nbb_cell_id = 26;\n",
       "                var nbb_unformatted_code = \"sil_score = []\\ncluster_list = list(range(2, 10))\\nfor n_clusters in cluster_list:\\n    clusterer = KMeans(n_clusters=n_clusters)\\n    preds = clusterer.fit_predict((subset_scaled_df))\\n    # centers = clusterer.cluster_centers_\\n    score = silhouette_score(subset_scaled_df, preds)\\n    sil_score.append(score)\\n    print(\\\"For n_clusters = {}, silhouette score is {}\\\".format(n_clusters, score))\\n\\nplt.plot(cluster_list, sil_score)\";\n",
       "                var nbb_formatted_code = \"sil_score = []\\ncluster_list = list(range(2, 10))\\nfor n_clusters in cluster_list:\\n    clusterer = KMeans(n_clusters=n_clusters)\\n    preds = clusterer.fit_predict((subset_scaled_df))\\n    # centers = clusterer.cluster_centers_\\n    score = silhouette_score(subset_scaled_df, preds)\\n    sil_score.append(score)\\n    print(\\\"For n_clusters = {}, silhouette score is {}\\\".format(n_clusters, score))\\n\\nplt.plot(cluster_list, sil_score)\";\n",
       "                var nbb_cells = Jupyter.notebook.get_cells();\n",
       "                for (var i = 0; i < nbb_cells.length; ++i) {\n",
       "                    if (nbb_cells[i].input_prompt_number == nbb_cell_id) {\n",
       "                        if (nbb_cells[i].get_text() == nbb_unformatted_code) {\n",
       "                             nbb_cells[i].set_text(nbb_formatted_code);\n",
       "                        }\n",
       "                        break;\n",
       "                    }\n",
       "                }\n",
       "            }, 500);\n",
       "            "
      ],
      "text/plain": [
       "<IPython.core.display.Javascript object>"
      ]
     },
     "metadata": {},
     "output_type": "display_data"
    }
   ],
   "source": [
    "sil_score = []\n",
    "cluster_list = list(range(2, 10))\n",
    "for n_clusters in cluster_list:\n",
    "    clusterer = KMeans(n_clusters=n_clusters)\n",
    "    preds = clusterer.fit_predict((subset_scaled_df))\n",
    "    # centers = clusterer.cluster_centers_\n",
    "    score = silhouette_score(subset_scaled_df, preds)\n",
    "    sil_score.append(score)\n",
    "    print(\"For n_clusters = {}, silhouette score is {}\".format(n_clusters, score))\n",
    "\n",
    "plt.plot(cluster_list, sil_score)"
   ]
  },
  {
   "cell_type": "markdown",
   "metadata": {},
   "source": [
    "**From the silhouette scores, it seems that 7 is a good value of k.**"
   ]
  },
  {
   "cell_type": "code",
   "execution_count": 22,
   "metadata": {},
   "outputs": [
    {
     "data": {
      "image/png": "[encoded data removed]",
      "text/plain": [
       "<Figure size 576x396 with 1 Axes>"
      ]
     },
     "metadata": {},
     "output_type": "display_data"
    },
    {
     "data": {
      "text/plain": [
       "<AxesSubplot:title={'center':'Silhouette Plot of KMeans Clustering for 26 Samples in 7 Centers'}, xlabel='silhouette coefficient values', ylabel='cluster label'>"
      ]
     },
     "execution_count": 22,
     "metadata": {},
     "output_type": "execute_result"
    },
    {
     "data": {
      "application/javascript": [
       "\n",
       "            setTimeout(function() {\n",
       "                var nbb_cell_id = 22;\n",
       "                var nbb_unformatted_code = \"# finding optimal no. of clusters with silhouette coefficients\\nvisualizer = SilhouetteVisualizer(KMeans(7, random_state=1))\\nvisualizer.fit(subset_scaled_df)\\nvisualizer.show()\";\n",
       "                var nbb_formatted_code = \"# finding optimal no. of clusters with silhouette coefficients\\nvisualizer = SilhouetteVisualizer(KMeans(7, random_state=1))\\nvisualizer.fit(subset_scaled_df)\\nvisualizer.show()\";\n",
       "                var nbb_cells = Jupyter.notebook.get_cells();\n",
       "                for (var i = 0; i < nbb_cells.length; ++i) {\n",
       "                    if (nbb_cells[i].input_prompt_number == nbb_cell_id) {\n",
       "                        if (nbb_cells[i].get_text() == nbb_unformatted_code) {\n",
       "                             nbb_cells[i].set_text(nbb_formatted_code);\n",
       "                        }\n",
       "                        break;\n",
       "                    }\n",
       "                }\n",
       "            }, 500);\n",
       "            "
      ],
      "text/plain": [
       "<IPython.core.display.Javascript object>"
      ]
     },
     "metadata": {},
     "output_type": "display_data"
    }
   ],
   "source": [
    "# finding optimal no. of clusters with silhouette coefficients\n",
    "visualizer = SilhouetteVisualizer(KMeans(7, random_state=1))\n",
    "visualizer.fit(subset_scaled_df)\n",
    "visualizer.show()"
   ]
  },
  {
   "cell_type": "code",
   "execution_count": 23,
   "metadata": {},
   "outputs": [
    {
     "data": {
      "image/png": "[encoded data removed]",
      "text/plain": [
       "<Figure size 576x396 with 1 Axes>"
      ]
     },
     "metadata": {},
     "output_type": "display_data"
    },
    {
     "data": {
      "text/plain": [
       "<AxesSubplot:title={'center':'Silhouette Plot of KMeans Clustering for 26 Samples in 6 Centers'}, xlabel='silhouette coefficient values', ylabel='cluster label'>"
      ]
     },
     "execution_count": 23,
     "metadata": {},
     "output_type": "execute_result"
    },
    {
     "data": {
      "application/javascript": [
       "\n",
       "            setTimeout(function() {\n",
       "                var nbb_cell_id = 23;\n",
       "                var nbb_unformatted_code = \"# finding optimal no. of clusters with silhouette coefficients\\nvisualizer = SilhouetteVisualizer(KMeans(6, random_state=1))\\nvisualizer.fit(subset_scaled_df)\\nvisualizer.show()\";\n",
       "                var nbb_formatted_code = \"# finding optimal no. of clusters with silhouette coefficients\\nvisualizer = SilhouetteVisualizer(KMeans(6, random_state=1))\\nvisualizer.fit(subset_scaled_df)\\nvisualizer.show()\";\n",
       "                var nbb_cells = Jupyter.notebook.get_cells();\n",
       "                for (var i = 0; i < nbb_cells.length; ++i) {\n",
       "                    if (nbb_cells[i].input_prompt_number == nbb_cell_id) {\n",
       "                        if (nbb_cells[i].get_text() == nbb_unformatted_code) {\n",
       "                             nbb_cells[i].set_text(nbb_formatted_code);\n",
       "                        }\n",
       "                        break;\n",
       "                    }\n",
       "                }\n",
       "            }, 500);\n",
       "            "
      ],
      "text/plain": [
       "<IPython.core.display.Javascript object>"
      ]
     },
     "metadata": {},
     "output_type": "display_data"
    }
   ],
   "source": [
    "# finding optimal no. of clusters with silhouette coefficients\n",
    "visualizer = SilhouetteVisualizer(KMeans(6, random_state=1))\n",
    "visualizer.fit(subset_scaled_df)\n",
    "visualizer.show()"
   ]
  },
  {
   "cell_type": "code",
   "execution_count": 24,
   "metadata": {},
   "outputs": [
    {
     "data": {
      "image/png": "[encoded data removed]",
      "text/plain": [
       "<Figure size 576x396 with 1 Axes>"
      ]
     },
     "metadata": {},
     "output_type": "display_data"
    },
    {
     "data": {
      "text/plain": [
       "<AxesSubplot:title={'center':'Silhouette Plot of KMeans Clustering for 26 Samples in 5 Centers'}, xlabel='silhouette coefficient values', ylabel='cluster label'>"
      ]
     },
     "execution_count": 24,
     "metadata": {},
     "output_type": "execute_result"
    },
    {
     "data": {
      "application/javascript": [
       "\n",
       "            setTimeout(function() {\n",
       "                var nbb_cell_id = 24;\n",
       "                var nbb_unformatted_code = \"# finding optimal no. of clusters with silhouette coefficients\\nvisualizer = SilhouetteVisualizer(KMeans(5, random_state=1))\\nvisualizer.fit(subset_scaled_df)\\nvisualizer.show()\";\n",
       "                var nbb_formatted_code = \"# finding optimal no. of clusters with silhouette coefficients\\nvisualizer = SilhouetteVisualizer(KMeans(5, random_state=1))\\nvisualizer.fit(subset_scaled_df)\\nvisualizer.show()\";\n",
       "                var nbb_cells = Jupyter.notebook.get_cells();\n",
       "                for (var i = 0; i < nbb_cells.length; ++i) {\n",
       "                    if (nbb_cells[i].input_prompt_number == nbb_cell_id) {\n",
       "                        if (nbb_cells[i].get_text() == nbb_unformatted_code) {\n",
       "                             nbb_cells[i].set_text(nbb_formatted_code);\n",
       "                        }\n",
       "                        break;\n",
       "                    }\n",
       "                }\n",
       "            }, 500);\n",
       "            "
      ],
      "text/plain": [
       "<IPython.core.display.Javascript object>"
      ]
     },
     "metadata": {},
     "output_type": "display_data"
    }
   ],
   "source": [
    "# finding optimal no. of clusters with silhouette coefficients\n",
    "visualizer = SilhouetteVisualizer(KMeans(5, random_state=1))\n",
    "visualizer.fit(subset_scaled_df)\n",
    "visualizer.show()"
   ]
  },
  {
   "cell_type": "code",
   "execution_count": 25,
   "metadata": {},
   "outputs": [
    {
     "data": {
      "image/png": "[encoded data removed]",
      "text/plain": [
       "<Figure size 576x396 with 1 Axes>"
      ]
     },
     "metadata": {},
     "output_type": "display_data"
    },
    {
     "data": {
      "text/plain": [
       "<AxesSubplot:title={'center':'Silhouette Plot of KMeans Clustering for 26 Samples in 4 Centers'}, xlabel='silhouette coefficient values', ylabel='cluster label'>"
      ]
     },
     "execution_count": 25,
     "metadata": {},
     "output_type": "execute_result"
    },
    {
     "data": {
      "application/javascript": [
       "\n",
       "            setTimeout(function() {\n",
       "                var nbb_cell_id = 25;\n",
       "                var nbb_unformatted_code = \"# finding optimal no. of clusters with silhouette coefficients\\nvisualizer = SilhouetteVisualizer(KMeans(4, random_state=1))\\nvisualizer.fit(subset_scaled_df)\\nvisualizer.show()\";\n",
       "                var nbb_formatted_code = \"# finding optimal no. of clusters with silhouette coefficients\\nvisualizer = SilhouetteVisualizer(KMeans(4, random_state=1))\\nvisualizer.fit(subset_scaled_df)\\nvisualizer.show()\";\n",
       "                var nbb_cells = Jupyter.notebook.get_cells();\n",
       "                for (var i = 0; i < nbb_cells.length; ++i) {\n",
       "                    if (nbb_cells[i].input_prompt_number == nbb_cell_id) {\n",
       "                        if (nbb_cells[i].get_text() == nbb_unformatted_code) {\n",
       "                             nbb_cells[i].set_text(nbb_formatted_code);\n",
       "                        }\n",
       "                        break;\n",
       "                    }\n",
       "                }\n",
       "            }, 500);\n",
       "            "
      ],
      "text/plain": [
       "<IPython.core.display.Javascript object>"
      ]
     },
     "metadata": {},
     "output_type": "display_data"
    }
   ],
   "source": [
    "# finding optimal no. of clusters with silhouette coefficients\n",
    "visualizer = SilhouetteVisualizer(KMeans(4, random_state=1))\n",
    "visualizer.fit(subset_scaled_df)\n",
    "visualizer.show()"
   ]
  },
  {
   "cell_type": "markdown",
   "metadata": {},
   "source": [
    "**Let's take 5 as the appropriate no. of clusters(K) as the silhouette score is high enough for all the 5-clusters(above average silhouette score), and there is a knick at 5 in the elbow curve.**"
   ]
  },
  {
   "cell_type": "code",
   "execution_count": 27,
   "metadata": {},
   "outputs": [
    {
     "data": {
      "text/plain": [
       "KMeans(n_clusters=5, random_state=0)"
      ]
     },
     "execution_count": 27,
     "metadata": {},
     "output_type": "execute_result"
    },
    {
     "data": {
      "application/javascript": [
       "\n",
       "            setTimeout(function() {\n",
       "                var nbb_cell_id = 27;\n",
       "                var nbb_unformatted_code = \"kmeans = KMeans(n_clusters=5, random_state=0)\\nkmeans.fit(subset_scaled_df)\";\n",
       "                var nbb_formatted_code = \"kmeans = KMeans(n_clusters=5, random_state=0)\\nkmeans.fit(subset_scaled_df)\";\n",
       "                var nbb_cells = Jupyter.notebook.get_cells();\n",
       "                for (var i = 0; i < nbb_cells.length; ++i) {\n",
       "                    if (nbb_cells[i].input_prompt_number == nbb_cell_id) {\n",
       "                        if (nbb_cells[i].get_text() == nbb_unformatted_code) {\n",
       "                             nbb_cells[i].set_text(nbb_formatted_code);\n",
       "                        }\n",
       "                        break;\n",
       "                    }\n",
       "                }\n",
       "            }, 500);\n",
       "            "
      ],
      "text/plain": [
       "<IPython.core.display.Javascript object>"
      ]
     },
     "metadata": {},
     "output_type": "display_data"
    }
   ],
   "source": [
    "kmeans = KMeans(n_clusters=5, random_state=0)\n",
    "kmeans.fit(subset_scaled_df)"
   ]
  },
  {
   "cell_type": "code",
   "execution_count": 28,
   "metadata": {},
   "outputs": [
    {
     "data": {
      "application/javascript": [
       "\n",
       "            setTimeout(function() {\n",
       "                var nbb_cell_id = 28;\n",
       "                var nbb_unformatted_code = \"# adding kmeans cluster labels to the original dataframe\\ndf[\\\"K_means_segments\\\"] = kmeans.labels_\";\n",
       "                var nbb_formatted_code = \"# adding kmeans cluster labels to the original dataframe\\ndf[\\\"K_means_segments\\\"] = kmeans.labels_\";\n",
       "                var nbb_cells = Jupyter.notebook.get_cells();\n",
       "                for (var i = 0; i < nbb_cells.length; ++i) {\n",
       "                    if (nbb_cells[i].input_prompt_number == nbb_cell_id) {\n",
       "                        if (nbb_cells[i].get_text() == nbb_unformatted_code) {\n",
       "                             nbb_cells[i].set_text(nbb_formatted_code);\n",
       "                        }\n",
       "                        break;\n",
       "                    }\n",
       "                }\n",
       "            }, 500);\n",
       "            "
      ],
      "text/plain": [
       "<IPython.core.display.Javascript object>"
      ]
     },
     "metadata": {},
     "output_type": "display_data"
    }
   ],
   "source": [
    "# adding kmeans cluster labels to the original dataframe\n",
    "df[\"K_means_segments\"] = kmeans.labels_"
   ]
  },
  {
   "cell_type": "code",
   "execution_count": 29,
   "metadata": {},
   "outputs": [
    {
     "data": {
      "application/javascript": [
       "\n",
       "            setTimeout(function() {\n",
       "                var nbb_cell_id = 29;\n",
       "                var nbb_unformatted_code = \"cluster_profile = df.groupby(\\\"K_means_segments\\\").mean()\";\n",
       "                var nbb_formatted_code = \"cluster_profile = df.groupby(\\\"K_means_segments\\\").mean()\";\n",
       "                var nbb_cells = Jupyter.notebook.get_cells();\n",
       "                for (var i = 0; i < nbb_cells.length; ++i) {\n",
       "                    if (nbb_cells[i].input_prompt_number == nbb_cell_id) {\n",
       "                        if (nbb_cells[i].get_text() == nbb_unformatted_code) {\n",
       "                             nbb_cells[i].set_text(nbb_formatted_code);\n",
       "                        }\n",
       "                        break;\n",
       "                    }\n",
       "                }\n",
       "            }, 500);\n",
       "            "
      ],
      "text/plain": [
       "<IPython.core.display.Javascript object>"
      ]
     },
     "metadata": {},
     "output_type": "display_data"
    }
   ],
   "source": [
    "cluster_profile = df.groupby(\"K_means_segments\").mean()"
   ]
  },
  {
   "cell_type": "code",
   "execution_count": 30,
   "metadata": {},
   "outputs": [
    {
     "data": {
      "application/javascript": [
       "\n",
       "            setTimeout(function() {\n",
       "                var nbb_cell_id = 30;\n",
       "                var nbb_unformatted_code = \"cluster_profile[\\\"count_in_each_segment\\\"] = (\\n    df.groupby(\\\"K_means_segments\\\")[\\\"Fees\\\"].count().values\\n)\";\n",
       "                var nbb_formatted_code = \"cluster_profile[\\\"count_in_each_segment\\\"] = (\\n    df.groupby(\\\"K_means_segments\\\")[\\\"Fees\\\"].count().values\\n)\";\n",
       "                var nbb_cells = Jupyter.notebook.get_cells();\n",
       "                for (var i = 0; i < nbb_cells.length; ++i) {\n",
       "                    if (nbb_cells[i].input_prompt_number == nbb_cell_id) {\n",
       "                        if (nbb_cells[i].get_text() == nbb_unformatted_code) {\n",
       "                             nbb_cells[i].set_text(nbb_formatted_code);\n",
       "                        }\n",
       "                        break;\n",
       "                    }\n",
       "                }\n",
       "            }, 500);\n",
       "            "
      ],
      "text/plain": [
       "<IPython.core.display.Javascript object>"
      ]
     },
     "metadata": {},
     "output_type": "display_data"
    }
   ],
   "source": [
    "cluster_profile[\"count_in_each_segment\"] = (\n",
    "    df.groupby(\"K_means_segments\")[\"Fees\"].count().values\n",
    ")"
   ]
  },
  {
   "cell_type": "code",
   "execution_count": 31,
   "metadata": {},
   "outputs": [
    {
     "data": {
      "text/html": [
       "<style  type=\"text/css\" >\n",
       "    #T_1801b76e_b0cc_11ec_9e15_b4a9fcff2d78row0_col1 {\n",
       "            background-color:  lightgreen;\n",
       "        }    #T_1801b76e_b0cc_11ec_9e15_b4a9fcff2d78row0_col5 {\n",
       "            background-color:  lightgreen;\n",
       "        }    #T_1801b76e_b0cc_11ec_9e15_b4a9fcff2d78row2_col5 {\n",
       "            background-color:  lightgreen;\n",
       "        }    #T_1801b76e_b0cc_11ec_9e15_b4a9fcff2d78row3_col0 {\n",
       "            background-color:  lightgreen;\n",
       "        }    #T_1801b76e_b0cc_11ec_9e15_b4a9fcff2d78row3_col2 {\n",
       "            background-color:  lightgreen;\n",
       "        }    #T_1801b76e_b0cc_11ec_9e15_b4a9fcff2d78row3_col3 {\n",
       "            background-color:  lightgreen;\n",
       "        }    #T_1801b76e_b0cc_11ec_9e15_b4a9fcff2d78row4_col4 {\n",
       "            background-color:  lightgreen;\n",
       "        }</style><table id=\"T_1801b76e_b0cc_11ec_9e15_b4a9fcff2d78\" ><thead>    <tr>        <th class=\"blank level0\" ></th>        <th class=\"col_heading level0 col0\" >Teaching</th>        <th class=\"col_heading level0 col1\" >Fees</th>        <th class=\"col_heading level0 col2\" >Placements</th>        <th class=\"col_heading level0 col3\" >Internship</th>        <th class=\"col_heading level0 col4\" >Infrastructure</th>        <th class=\"col_heading level0 col5\" >count_in_each_segment</th>    </tr>    <tr>        <th class=\"index_name level0\" >K_means_segments</th>        <th class=\"blank\" ></th>        <th class=\"blank\" ></th>        <th class=\"blank\" ></th>        <th class=\"blank\" ></th>        <th class=\"blank\" ></th>        <th class=\"blank\" ></th>    </tr></thead><tbody>\n",
       "                <tr>\n",
       "                        <th id=\"T_1801b76e_b0cc_11ec_9e15_b4a9fcff2d78level0_row0\" class=\"row_heading level0 row0\" >0</th>\n",
       "                        <td id=\"T_1801b76e_b0cc_11ec_9e15_b4a9fcff2d78row0_col0\" class=\"data row0 col0\" >2.750000</td>\n",
       "                        <td id=\"T_1801b76e_b0cc_11ec_9e15_b4a9fcff2d78row0_col1\" class=\"data row0 col1\" >4.625000</td>\n",
       "                        <td id=\"T_1801b76e_b0cc_11ec_9e15_b4a9fcff2d78row0_col2\" class=\"data row0 col2\" >3.375000</td>\n",
       "                        <td id=\"T_1801b76e_b0cc_11ec_9e15_b4a9fcff2d78row0_col3\" class=\"data row0 col3\" >2.500000</td>\n",
       "                        <td id=\"T_1801b76e_b0cc_11ec_9e15_b4a9fcff2d78row0_col4\" class=\"data row0 col4\" >3.500000</td>\n",
       "                        <td id=\"T_1801b76e_b0cc_11ec_9e15_b4a9fcff2d78row0_col5\" class=\"data row0 col5\" >8</td>\n",
       "            </tr>\n",
       "            <tr>\n",
       "                        <th id=\"T_1801b76e_b0cc_11ec_9e15_b4a9fcff2d78level0_row1\" class=\"row_heading level0 row1\" >1</th>\n",
       "                        <td id=\"T_1801b76e_b0cc_11ec_9e15_b4a9fcff2d78row1_col0\" class=\"data row1 col0\" >3.833333</td>\n",
       "                        <td id=\"T_1801b76e_b0cc_11ec_9e15_b4a9fcff2d78row1_col1\" class=\"data row1 col1\" >4.166667</td>\n",
       "                        <td id=\"T_1801b76e_b0cc_11ec_9e15_b4a9fcff2d78row1_col2\" class=\"data row1 col2\" >4.166667</td>\n",
       "                        <td id=\"T_1801b76e_b0cc_11ec_9e15_b4a9fcff2d78row1_col3\" class=\"data row1 col3\" >4.166667</td>\n",
       "                        <td id=\"T_1801b76e_b0cc_11ec_9e15_b4a9fcff2d78row1_col4\" class=\"data row1 col4\" >4.666667</td>\n",
       "                        <td id=\"T_1801b76e_b0cc_11ec_9e15_b4a9fcff2d78row1_col5\" class=\"data row1 col5\" >6</td>\n",
       "            </tr>\n",
       "            <tr>\n",
       "                        <th id=\"T_1801b76e_b0cc_11ec_9e15_b4a9fcff2d78level0_row2\" class=\"row_heading level0 row2\" >2</th>\n",
       "                        <td id=\"T_1801b76e_b0cc_11ec_9e15_b4a9fcff2d78row2_col0\" class=\"data row2 col0\" >2.125000</td>\n",
       "                        <td id=\"T_1801b76e_b0cc_11ec_9e15_b4a9fcff2d78row2_col1\" class=\"data row2 col1\" >3.125000</td>\n",
       "                        <td id=\"T_1801b76e_b0cc_11ec_9e15_b4a9fcff2d78row2_col2\" class=\"data row2 col2\" >1.375000</td>\n",
       "                        <td id=\"T_1801b76e_b0cc_11ec_9e15_b4a9fcff2d78row2_col3\" class=\"data row2 col3\" >1.750000</td>\n",
       "                        <td id=\"T_1801b76e_b0cc_11ec_9e15_b4a9fcff2d78row2_col4\" class=\"data row2 col4\" >2.000000</td>\n",
       "                        <td id=\"T_1801b76e_b0cc_11ec_9e15_b4a9fcff2d78row2_col5\" class=\"data row2 col5\" >8</td>\n",
       "            </tr>\n",
       "            <tr>\n",
       "                        <th id=\"T_1801b76e_b0cc_11ec_9e15_b4a9fcff2d78level0_row3\" class=\"row_heading level0 row3\" >3</th>\n",
       "                        <td id=\"T_1801b76e_b0cc_11ec_9e15_b4a9fcff2d78row3_col0\" class=\"data row3 col0\" >4.500000</td>\n",
       "                        <td id=\"T_1801b76e_b0cc_11ec_9e15_b4a9fcff2d78row3_col1\" class=\"data row3 col1\" >2.000000</td>\n",
       "                        <td id=\"T_1801b76e_b0cc_11ec_9e15_b4a9fcff2d78row3_col2\" class=\"data row3 col2\" >5.000000</td>\n",
       "                        <td id=\"T_1801b76e_b0cc_11ec_9e15_b4a9fcff2d78row3_col3\" class=\"data row3 col3\" >5.000000</td>\n",
       "                        <td id=\"T_1801b76e_b0cc_11ec_9e15_b4a9fcff2d78row3_col4\" class=\"data row3 col4\" >3.000000</td>\n",
       "                        <td id=\"T_1801b76e_b0cc_11ec_9e15_b4a9fcff2d78row3_col5\" class=\"data row3 col5\" >2</td>\n",
       "            </tr>\n",
       "            <tr>\n",
       "                        <th id=\"T_1801b76e_b0cc_11ec_9e15_b4a9fcff2d78level0_row4\" class=\"row_heading level0 row4\" >4</th>\n",
       "                        <td id=\"T_1801b76e_b0cc_11ec_9e15_b4a9fcff2d78row4_col0\" class=\"data row4 col0\" >1.000000</td>\n",
       "                        <td id=\"T_1801b76e_b0cc_11ec_9e15_b4a9fcff2d78row4_col1\" class=\"data row4 col1\" >1.000000</td>\n",
       "                        <td id=\"T_1801b76e_b0cc_11ec_9e15_b4a9fcff2d78row4_col2\" class=\"data row4 col2\" >1.000000</td>\n",
       "                        <td id=\"T_1801b76e_b0cc_11ec_9e15_b4a9fcff2d78row4_col3\" class=\"data row4 col3\" >1.500000</td>\n",
       "                        <td id=\"T_1801b76e_b0cc_11ec_9e15_b4a9fcff2d78row4_col4\" class=\"data row4 col4\" >5.000000</td>\n",
       "                        <td id=\"T_1801b76e_b0cc_11ec_9e15_b4a9fcff2d78row4_col5\" class=\"data row4 col5\" >2</td>\n",
       "            </tr>\n",
       "    </tbody></table>"
      ],
      "text/plain": [
       "<pandas.io.formats.style.Styler at 0x2141256ec70>"
      ]
     },
     "execution_count": 31,
     "metadata": {},
     "output_type": "execute_result"
    },
    {
     "data": {
      "application/javascript": [
       "\n",
       "            setTimeout(function() {\n",
       "                var nbb_cell_id = 31;\n",
       "                var nbb_unformatted_code = \"# let's display cluster profiles\\ncluster_profile.style.highlight_max(color=\\\"lightgreen\\\", axis=0)\";\n",
       "                var nbb_formatted_code = \"# let's display cluster profiles\\ncluster_profile.style.highlight_max(color=\\\"lightgreen\\\", axis=0)\";\n",
       "                var nbb_cells = Jupyter.notebook.get_cells();\n",
       "                for (var i = 0; i < nbb_cells.length; ++i) {\n",
       "                    if (nbb_cells[i].input_prompt_number == nbb_cell_id) {\n",
       "                        if (nbb_cells[i].get_text() == nbb_unformatted_code) {\n",
       "                             nbb_cells[i].set_text(nbb_formatted_code);\n",
       "                        }\n",
       "                        break;\n",
       "                    }\n",
       "                }\n",
       "            }, 500);\n",
       "            "
      ],
      "text/plain": [
       "<IPython.core.display.Javascript object>"
      ]
     },
     "metadata": {},
     "output_type": "display_data"
    }
   ],
   "source": [
    "# let's display cluster profiles\n",
    "cluster_profile.style.highlight_max(color=\"lightgreen\", axis=0)"
   ]
  },
  {
   "cell_type": "code",
   "execution_count": 32,
   "metadata": {},
   "outputs": [
    {
     "data": {
      "image/png": "[encoded data removed]",
      "text/plain": [
       "<Figure size 1152x432 with 5 Axes>"
      ]
     },
     "metadata": {},
     "output_type": "display_data"
    },
    {
     "data": {
      "application/javascript": [
       "\n",
       "            setTimeout(function() {\n",
       "                var nbb_cell_id = 32;\n",
       "                var nbb_unformatted_code = \"fig, axes = plt.subplots(1, 5, figsize=(16, 6))\\nfig.suptitle(\\\"Boxplot of numerical variables for each cluster\\\")\\ncounter = 0\\nfor ii in range(5):\\n    sns.boxplot(ax=axes[ii], y=df[num_col[counter]], x=df[\\\"K_means_segments\\\"])\\n    counter = counter + 1\\n\\nfig.tight_layout(pad=2.0)\";\n",
       "                var nbb_formatted_code = \"fig, axes = plt.subplots(1, 5, figsize=(16, 6))\\nfig.suptitle(\\\"Boxplot of numerical variables for each cluster\\\")\\ncounter = 0\\nfor ii in range(5):\\n    sns.boxplot(ax=axes[ii], y=df[num_col[counter]], x=df[\\\"K_means_segments\\\"])\\n    counter = counter + 1\\n\\nfig.tight_layout(pad=2.0)\";\n",
       "                var nbb_cells = Jupyter.notebook.get_cells();\n",
       "                for (var i = 0; i < nbb_cells.length; ++i) {\n",
       "                    if (nbb_cells[i].input_prompt_number == nbb_cell_id) {\n",
       "                        if (nbb_cells[i].get_text() == nbb_unformatted_code) {\n",
       "                             nbb_cells[i].set_text(nbb_formatted_code);\n",
       "                        }\n",
       "                        break;\n",
       "                    }\n",
       "                }\n",
       "            }, 500);\n",
       "            "
      ],
      "text/plain": [
       "<IPython.core.display.Javascript object>"
      ]
     },
     "metadata": {},
     "output_type": "display_data"
    }
   ],
   "source": [
    "fig, axes = plt.subplots(1, 5, figsize=(16, 6))\n",
    "fig.suptitle(\"Boxplot of numerical variables for each cluster\")\n",
    "counter = 0\n",
    "for ii in range(5):\n",
    "    sns.boxplot(ax=axes[ii], y=df[num_col[counter]], x=df[\"K_means_segments\"])\n",
    "    counter = counter + 1\n",
    "\n",
    "fig.tight_layout(pad=2.0)"
   ]
  },
  {
   "cell_type": "code",
   "execution_count": 33,
   "metadata": {},
   "outputs": [
    {
     "data": {
      "text/plain": [
       "<AxesSubplot:xlabel='K_means_segments'>"
      ]
     },
     "execution_count": 33,
     "metadata": {},
     "output_type": "execute_result"
    },
    {
     "data": {
      "image/png": "[encoded data removed]",
      "text/plain": [
       "<Figure size 1080x432 with 1 Axes>"
      ]
     },
     "metadata": {},
     "output_type": "display_data"
    },
    {
     "data": {
      "application/javascript": [
       "\n",
       "            setTimeout(function() {\n",
       "                var nbb_cell_id = 33;\n",
       "                var nbb_unformatted_code = \"df.groupby(\\\"K_means_segments\\\").mean().plot.bar(figsize=(15, 6))\";\n",
       "                var nbb_formatted_code = \"df.groupby(\\\"K_means_segments\\\").mean().plot.bar(figsize=(15, 6))\";\n",
       "                var nbb_cells = Jupyter.notebook.get_cells();\n",
       "                for (var i = 0; i < nbb_cells.length; ++i) {\n",
       "                    if (nbb_cells[i].input_prompt_number == nbb_cell_id) {\n",
       "                        if (nbb_cells[i].get_text() == nbb_unformatted_code) {\n",
       "                             nbb_cells[i].set_text(nbb_formatted_code);\n",
       "                        }\n",
       "                        break;\n",
       "                    }\n",
       "                }\n",
       "            }, 500);\n",
       "            "
      ],
      "text/plain": [
       "<IPython.core.display.Javascript object>"
      ]
     },
     "metadata": {},
     "output_type": "display_data"
    }
   ],
   "source": [
    "df.groupby(\"K_means_segments\").mean().plot.bar(figsize=(15, 6))"
   ]
  },
  {
   "cell_type": "markdown",
   "metadata": {},
   "source": [
    "### Insights\n",
    "\n",
    "- **Cluster 0**:\n",
    "    - Teaching ratings are moderate.\n",
    "    - Fees range from high to very high for colleges in this cluster.\n",
    "    - Placements ratings are moderate to high, with a few lows and very highs.\n",
    "    - Internship ratings are low to moderate.\n",
    "    - Infrastructure ratings are moderate to high, with a few very highs.\n",
    "\n",
    "\n",
    "- **Cluster 1**:\n",
    "    - Teaching ratings are moderate to high.\n",
    "    - Fees are high for colleges in this cluster.\n",
    "    - Placements ratings are moderate to very high.\n",
    "    - Internship ratings are high.\n",
    "    - Infrastructure ratings are high to very high.\n",
    "\n",
    "\n",
    "- **Cluster 2**:\n",
    "    - Teaching ratings are low to moderate.\n",
    "    - Fees range from low to moderate for most colleges in this cluster.\n",
    "    - Placements ratings are on the lower side.\n",
    "    - Internship ratings are low.\n",
    "    - Infrastructure ratings are very low to moderate.\n",
    "\n",
    "\n",
    "- **Cluster 3**:\n",
    "    - Teaching ratings are high.\n",
    "    - Fees are low for colleges in this cluster.\n",
    "    - Placements ratings are very high.\n",
    "    - Internship ratings are very high.\n",
    "    - Infrastructure ratings are moderate.\n",
    "\n",
    "\n",
    "- **Cluster 4**:\n",
    "    - Teaching ratings are very low.\n",
    "    - Fees are very low for colleges in this cluster.\n",
    "    - Placements ratings are very low.\n",
    "    - Internship ratings are very low to low.\n",
    "    - Infrastructure ratings are very high."
   ]
  },
  {
   "cell_type": "markdown",
   "metadata": {},
   "source": [
    "### Business Recommendations\n",
    "\n",
    "- **Cluster 3**: These are the Tier 1 Colleges and have excellent teaching, placements & internships while maintaining a moderate infrastructure and low fees. **Corporates looking for the best candidates can approach this cluster for placements and internships.**\n",
    "\n",
    "\n",
    "- **Cluster 1**: These are the Tier 2 Colleges which are just behind the Tier 1 colleges in terms of teaching and placements, but provide quite better infrastructure and are accordingly more expensive. **They have scope for improvements in teaching, placements, and internships, and should consider tie-ups with corporates and ed-tech and training organizations. Companies providing training programs to faculty and students should approach them.**\n",
    "\n",
    "\n",
    "- **Cluster 0**: These are the Tier 3 colleges which have very high fees and very good infrastructure, but do not offer proper value-for-money in terms of teaching and internships. **This cluster of colleges will need to concentrate more towards onboarding better faculty and securing tie-ups with corporates to improve placement opportunities.**\n",
    "\n",
    "\n",
    "- **Cluster 2** and **Cluster 4**: These are the poor performing colleges or new colleges. **These colleges will need to concentrate more on marketing and advertisements about their offerings to create awareness and attract students.**"
   ]
  }
 ],
 "metadata": {
  "hide_input": false,
  "kernelspec": {
   "display_name": "Python 3 (ipykernel)",
   "language": "python",
   "name": "python3"
  },
  "language_info": {
   "codemirror_mode": {
    "name": "ipython",
    "version": 3
   },
   "file_extension": ".py",
   "mimetype": "text/x-python",
   "name": "python",
   "nbconvert_exporter": "python",
   "pygments_lexer": "ipython3",
   "version": "3.9.7"
  }
 },
 "nbformat": 4,
 "nbformat_minor": 2
}
