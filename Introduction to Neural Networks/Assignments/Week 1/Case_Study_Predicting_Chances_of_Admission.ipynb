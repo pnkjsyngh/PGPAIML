{
 "cells": [
  {
   "cell_type": "markdown",
   "metadata": {
    "id": "IIfOydFLJIaI"
   },
   "source": [
    "--------------------------------------------------------------------------------------------------\n",
    "# **University Admission Prediction**\n",
    "--------------------------------------------------------------------------------------------------"
   ]
  },
  {
   "cell_type": "markdown",
   "metadata": {
    "id": "9s4YOTYtdsPc"
   },
   "source": [
    "--------------------\n",
    "## **Context**\n",
    "--------------------\n",
    "\n",
    "The world is developing rapidly and continuously looking for the best knowledge and experience among people. This motivates people all around the world to stand out in their jobs and look for higher degrees that can help them in improving their skills and knowledge. As a result, the number of students applying for Master's programs has increased substantially.\n",
    "\n",
    "The current admission dataset was created for the prediction of admissions into the University of California, Los Angeles (UCLA). It was built to help students in shortlisting universities based on their profiles. The predicted output gives them a fair idea about their chances of getting accepted.\n",
    "\n",
    "----------------------\n",
    "## **Objective**\n",
    "----------------------\n",
    "\n",
    "We need to build a classification model using neural networks to predict a student's chances of admission into UCLA.\n",
    "\n",
    "------------------------------\n",
    "## **Data Dictionary**\n",
    "------------------------------\n",
    "\n",
    "The dataset contains several features which are considered important during the application for Masters Programs.\n",
    "The features included are: \n",
    "\n",
    "- **GRE Scores:** (out of 340)\n",
    "\n",
    "- **TOEFL Scores:** (out of 120)\n",
    "\n",
    "- **University Rating:**  It indicates the Bachelor University ranking (out of 5)\n",
    "\n",
    "- **Statement of Purpose Strength:** (out of 5)\n",
    "\n",
    "- **Letter of Recommendation Strength:** (out of 5)\n",
    "\n",
    "- **Undergraduate GPA:** (out of 10)\n",
    "\n",
    "- **Research Experience:** (either 0 or 1)\n",
    "\n",
    "- **Chance of Admit:** (ranging from 0 to 1)"
   ]
  },
  {
   "cell_type": "markdown",
   "metadata": {
    "id": "RUNw9Lh-mZHQ"
   },
   "source": [
    "## **Loading the libraries and the dataset**"
   ]
  },
  {
   "cell_type": "code",
   "execution_count": 12,
   "metadata": {
    "id": "CK_nbUDBmX2E"
   },
   "outputs": [],
   "source": [
    "# Libraries to help with reading and manipulating data\n",
    "import numpy as np\n",
    "import pandas as pd\n",
    "# libaries to help with data visualization\n",
    "import matplotlib.pyplot as plt\n",
    "import seaborn as sns\n",
    "# Library to split data\n",
    "from sklearn.model_selection import train_test_split\n",
    "# library to import to standardize the data\n",
    "from sklearn.preprocessing import MinMaxScaler\n",
    "# importing tensorflow\n",
    "import tensorflow as tf\n",
    "# importing different functions to build models\n",
    "from tensorflow.keras.models import Sequential\n",
    "from tensorflow.keras.layers import Dense, Dropout, Activation\n",
    "# To get classification report\n",
    "from sklearn.metrics import classification_report\n",
    "# To plot confusion matrix\n",
    "from sklearn.metrics import confusion_matrix"
   ]
  },
  {
   "cell_type": "markdown",
   "metadata": {
    "id": "F6lw4gHtxYfK"
   },
   "source": [
    "Now, let's load the data using the read_csv() function. One small change from Jupyter here is that the path of the file might be a bit different. \n",
    "To get the path of the data file, follow the below steps:\n",
    "- To go the panel on the left-hand side and click on the folder icon at the bottom.\n",
    "- Move the cursor on the file name.\n",
    "- Click on the three dots and select the option \"Copy path\"."
   ]
  },
  {
   "cell_type": "code",
   "execution_count": 2,
   "metadata": {
    "colab": {
     "base_uri": "https://localhost:8080/",
     "height": 206
    },
    "id": "cF6d_Z6B2CpB",
    "outputId": "4e63f3bc-3394-4673-d62c-e42a8c57e9fd"
   },
   "outputs": [
    {
     "data": {
      "text/html": [
       "<div>\n",
       "<style scoped>\n",
       "    .dataframe tbody tr th:only-of-type {\n",
       "        vertical-align: middle;\n",
       "    }\n",
       "\n",
       "    .dataframe tbody tr th {\n",
       "        vertical-align: top;\n",
       "    }\n",
       "\n",
       "    .dataframe thead th {\n",
       "        text-align: right;\n",
       "    }\n",
       "</style>\n",
       "<table border=\"1\" class=\"dataframe\">\n",
       "  <thead>\n",
       "    <tr style=\"text-align: right;\">\n",
       "      <th></th>\n",
       "      <th>Serial No.</th>\n",
       "      <th>GRE Score</th>\n",
       "      <th>TOEFL Score</th>\n",
       "      <th>University Rating</th>\n",
       "      <th>SOP</th>\n",
       "      <th>LOR</th>\n",
       "      <th>CGPA</th>\n",
       "      <th>Research</th>\n",
       "      <th>Chance of Admit</th>\n",
       "    </tr>\n",
       "  </thead>\n",
       "  <tbody>\n",
       "    <tr>\n",
       "      <th>0</th>\n",
       "      <td>1</td>\n",
       "      <td>337</td>\n",
       "      <td>118</td>\n",
       "      <td>4</td>\n",
       "      <td>4.5</td>\n",
       "      <td>4.5</td>\n",
       "      <td>9.65</td>\n",
       "      <td>1</td>\n",
       "      <td>0.92</td>\n",
       "    </tr>\n",
       "    <tr>\n",
       "      <th>1</th>\n",
       "      <td>2</td>\n",
       "      <td>324</td>\n",
       "      <td>107</td>\n",
       "      <td>4</td>\n",
       "      <td>4.0</td>\n",
       "      <td>4.5</td>\n",
       "      <td>8.87</td>\n",
       "      <td>1</td>\n",
       "      <td>0.76</td>\n",
       "    </tr>\n",
       "    <tr>\n",
       "      <th>2</th>\n",
       "      <td>3</td>\n",
       "      <td>316</td>\n",
       "      <td>104</td>\n",
       "      <td>3</td>\n",
       "      <td>3.0</td>\n",
       "      <td>3.5</td>\n",
       "      <td>8.00</td>\n",
       "      <td>1</td>\n",
       "      <td>0.72</td>\n",
       "    </tr>\n",
       "    <tr>\n",
       "      <th>3</th>\n",
       "      <td>4</td>\n",
       "      <td>322</td>\n",
       "      <td>110</td>\n",
       "      <td>3</td>\n",
       "      <td>3.5</td>\n",
       "      <td>2.5</td>\n",
       "      <td>8.67</td>\n",
       "      <td>1</td>\n",
       "      <td>0.80</td>\n",
       "    </tr>\n",
       "    <tr>\n",
       "      <th>4</th>\n",
       "      <td>5</td>\n",
       "      <td>314</td>\n",
       "      <td>103</td>\n",
       "      <td>2</td>\n",
       "      <td>2.0</td>\n",
       "      <td>3.0</td>\n",
       "      <td>8.21</td>\n",
       "      <td>0</td>\n",
       "      <td>0.65</td>\n",
       "    </tr>\n",
       "  </tbody>\n",
       "</table>\n",
       "</div>"
      ],
      "text/plain": [
       "   Serial No.  GRE Score  TOEFL Score  University Rating  SOP  LOR   CGPA  \\\n",
       "0           1        337          118                  4  4.5   4.5  9.65   \n",
       "1           2        324          107                  4  4.0   4.5  8.87   \n",
       "2           3        316          104                  3  3.0   3.5  8.00   \n",
       "3           4        322          110                  3  3.5   2.5  8.67   \n",
       "4           5        314          103                  2  2.0   3.0  8.21   \n",
       "\n",
       "   Research  Chance of Admit   \n",
       "0         1              0.92  \n",
       "1         1              0.76  \n",
       "2         1              0.72  \n",
       "3         1              0.80  \n",
       "4         0              0.65  "
      ]
     },
     "execution_count": 2,
     "metadata": {},
     "output_type": "execute_result"
    }
   ],
   "source": [
    "# Importing the dataset\n",
    "data = pd.read_csv('Admission_Predict.csv')\n",
    "\n",
    "# Check the top five records of the data\n",
    "data.head()"
   ]
  },
  {
   "cell_type": "markdown",
   "metadata": {
    "id": "yVsWWzVw2brU"
   },
   "source": [
    "- In the above dataset, the target variable is **Chance of Admit**.\n",
    "- To make this a classification task, let's convert the target variable into a categorical variable by using a threshold of 80%.\n",
    "- We are assuming that if **Chance of Admit** is more than 80%, then **Admit** would be 1 (i.e., yes), otherwise, it would be 0 (i.e., no)."
   ]
  },
  {
   "cell_type": "code",
   "execution_count": 3,
   "metadata": {
    "id": "HLxtOrbw2ZLS"
   },
   "outputs": [],
   "source": [
    "# Converting the target variable into a categorical variable\n",
    "data['Admit'] = data['Chance of Admit '].apply(lambda x: 1 if x > 0.8 else 0)"
   ]
  },
  {
   "cell_type": "markdown",
   "metadata": {
    "id": "CY4KERF63aAY"
   },
   "source": [
    "Now that we have created a new target variable, we can remove the column - **Chance of Admit** from the dataset. We can also remove the column - **Serial No.** as it would not add any value to our analysis."
   ]
  },
  {
   "cell_type": "code",
   "execution_count": 4,
   "metadata": {
    "colab": {
     "base_uri": "https://localhost:8080/",
     "height": 206
    },
    "id": "XGCid1us3jRJ",
    "outputId": "8d6039d2-a27a-439a-94b5-a0a01b2ac97e"
   },
   "outputs": [
    {
     "data": {
      "text/html": [
       "<div>\n",
       "<style scoped>\n",
       "    .dataframe tbody tr th:only-of-type {\n",
       "        vertical-align: middle;\n",
       "    }\n",
       "\n",
       "    .dataframe tbody tr th {\n",
       "        vertical-align: top;\n",
       "    }\n",
       "\n",
       "    .dataframe thead th {\n",
       "        text-align: right;\n",
       "    }\n",
       "</style>\n",
       "<table border=\"1\" class=\"dataframe\">\n",
       "  <thead>\n",
       "    <tr style=\"text-align: right;\">\n",
       "      <th></th>\n",
       "      <th>GRE Score</th>\n",
       "      <th>TOEFL Score</th>\n",
       "      <th>University Rating</th>\n",
       "      <th>SOP</th>\n",
       "      <th>LOR</th>\n",
       "      <th>CGPA</th>\n",
       "      <th>Research</th>\n",
       "      <th>Admit</th>\n",
       "    </tr>\n",
       "  </thead>\n",
       "  <tbody>\n",
       "    <tr>\n",
       "      <th>0</th>\n",
       "      <td>337</td>\n",
       "      <td>118</td>\n",
       "      <td>4</td>\n",
       "      <td>4.5</td>\n",
       "      <td>4.5</td>\n",
       "      <td>9.65</td>\n",
       "      <td>1</td>\n",
       "      <td>1</td>\n",
       "    </tr>\n",
       "    <tr>\n",
       "      <th>1</th>\n",
       "      <td>324</td>\n",
       "      <td>107</td>\n",
       "      <td>4</td>\n",
       "      <td>4.0</td>\n",
       "      <td>4.5</td>\n",
       "      <td>8.87</td>\n",
       "      <td>1</td>\n",
       "      <td>0</td>\n",
       "    </tr>\n",
       "    <tr>\n",
       "      <th>2</th>\n",
       "      <td>316</td>\n",
       "      <td>104</td>\n",
       "      <td>3</td>\n",
       "      <td>3.0</td>\n",
       "      <td>3.5</td>\n",
       "      <td>8.00</td>\n",
       "      <td>1</td>\n",
       "      <td>0</td>\n",
       "    </tr>\n",
       "    <tr>\n",
       "      <th>3</th>\n",
       "      <td>322</td>\n",
       "      <td>110</td>\n",
       "      <td>3</td>\n",
       "      <td>3.5</td>\n",
       "      <td>2.5</td>\n",
       "      <td>8.67</td>\n",
       "      <td>1</td>\n",
       "      <td>0</td>\n",
       "    </tr>\n",
       "    <tr>\n",
       "      <th>4</th>\n",
       "      <td>314</td>\n",
       "      <td>103</td>\n",
       "      <td>2</td>\n",
       "      <td>2.0</td>\n",
       "      <td>3.0</td>\n",
       "      <td>8.21</td>\n",
       "      <td>0</td>\n",
       "      <td>0</td>\n",
       "    </tr>\n",
       "  </tbody>\n",
       "</table>\n",
       "</div>"
      ],
      "text/plain": [
       "   GRE Score  TOEFL Score  University Rating  SOP  LOR   CGPA  Research  Admit\n",
       "0        337          118                  4  4.5   4.5  9.65         1      1\n",
       "1        324          107                  4  4.0   4.5  8.87         1      0\n",
       "2        316          104                  3  3.0   3.5  8.00         1      0\n",
       "3        322          110                  3  3.5   2.5  8.67         1      0\n",
       "4        314          103                  2  2.0   3.0  8.21         0      0"
      ]
     },
     "execution_count": 4,
     "metadata": {},
     "output_type": "execute_result"
    }
   ],
   "source": [
    "# Dropping columns\n",
    "data = data.drop(['Serial No.', 'Chance of Admit '], axis = 1)\n",
    "\n",
    "data.head()"
   ]
  },
  {
   "cell_type": "markdown",
   "metadata": {},
   "source": [
    "## **Exploratory Data Analysis**"
   ]
  },
  {
   "cell_type": "code",
   "execution_count": 5,
   "metadata": {
    "colab": {
     "base_uri": "https://localhost:8080/"
    },
    "id": "Y5wPX0lb3wRU",
    "outputId": "dc83e5e5-bdc8-48e3-a91e-23d72d333e04"
   },
   "outputs": [
    {
     "name": "stdout",
     "output_type": "stream",
     "text": [
      "<class 'pandas.core.frame.DataFrame'>\n",
      "RangeIndex: 500 entries, 0 to 499\n",
      "Data columns (total 8 columns):\n",
      " #   Column             Non-Null Count  Dtype  \n",
      "---  ------             --------------  -----  \n",
      " 0   GRE Score          500 non-null    int64  \n",
      " 1   TOEFL Score        500 non-null    int64  \n",
      " 2   University Rating  500 non-null    int64  \n",
      " 3   SOP                500 non-null    float64\n",
      " 4   LOR                500 non-null    float64\n",
      " 5   CGPA               500 non-null    float64\n",
      " 6   Research           500 non-null    int64  \n",
      " 7   Admit              500 non-null    int64  \n",
      "dtypes: float64(3), int64(5)\n",
      "memory usage: 31.4 KB\n"
     ]
    }
   ],
   "source": [
    "# Let's check the info of the data\n",
    "data.info()"
   ]
  },
  {
   "cell_type": "markdown",
   "metadata": {
    "id": "cBQS9b56DC2_"
   },
   "source": [
    "**Observations:**\n",
    "\n",
    "- There are **500 observations and 8 columns** in the data.\n",
    "- All the columns are of **numeric data** type.\n",
    "- There are **no missing values** in the data."
   ]
  },
  {
   "cell_type": "markdown",
   "metadata": {},
   "source": [
    "### **Summary Statistics**"
   ]
  },
  {
   "cell_type": "code",
   "execution_count": 6,
   "metadata": {
    "colab": {
     "base_uri": "https://localhost:8080/",
     "height": 300
    },
    "id": "WpdM4iC0DwPJ",
    "outputId": "40de6762-5bc0-47b6-f00a-fce237e323d0"
   },
   "outputs": [
    {
     "data": {
      "text/html": [
       "<div>\n",
       "<style scoped>\n",
       "    .dataframe tbody tr th:only-of-type {\n",
       "        vertical-align: middle;\n",
       "    }\n",
       "\n",
       "    .dataframe tbody tr th {\n",
       "        vertical-align: top;\n",
       "    }\n",
       "\n",
       "    .dataframe thead th {\n",
       "        text-align: right;\n",
       "    }\n",
       "</style>\n",
       "<table border=\"1\" class=\"dataframe\">\n",
       "  <thead>\n",
       "    <tr style=\"text-align: right;\">\n",
       "      <th></th>\n",
       "      <th>count</th>\n",
       "      <th>mean</th>\n",
       "      <th>std</th>\n",
       "      <th>min</th>\n",
       "      <th>25%</th>\n",
       "      <th>50%</th>\n",
       "      <th>75%</th>\n",
       "      <th>max</th>\n",
       "    </tr>\n",
       "  </thead>\n",
       "  <tbody>\n",
       "    <tr>\n",
       "      <th>GRE Score</th>\n",
       "      <td>500.0</td>\n",
       "      <td>316.47200</td>\n",
       "      <td>11.295148</td>\n",
       "      <td>290.0</td>\n",
       "      <td>308.0000</td>\n",
       "      <td>317.00</td>\n",
       "      <td>325.00</td>\n",
       "      <td>340.00</td>\n",
       "    </tr>\n",
       "    <tr>\n",
       "      <th>TOEFL Score</th>\n",
       "      <td>500.0</td>\n",
       "      <td>107.19200</td>\n",
       "      <td>6.081868</td>\n",
       "      <td>92.0</td>\n",
       "      <td>103.0000</td>\n",
       "      <td>107.00</td>\n",
       "      <td>112.00</td>\n",
       "      <td>120.00</td>\n",
       "    </tr>\n",
       "    <tr>\n",
       "      <th>University Rating</th>\n",
       "      <td>500.0</td>\n",
       "      <td>3.11400</td>\n",
       "      <td>1.143512</td>\n",
       "      <td>1.0</td>\n",
       "      <td>2.0000</td>\n",
       "      <td>3.00</td>\n",
       "      <td>4.00</td>\n",
       "      <td>5.00</td>\n",
       "    </tr>\n",
       "    <tr>\n",
       "      <th>SOP</th>\n",
       "      <td>500.0</td>\n",
       "      <td>3.37400</td>\n",
       "      <td>0.991004</td>\n",
       "      <td>1.0</td>\n",
       "      <td>2.5000</td>\n",
       "      <td>3.50</td>\n",
       "      <td>4.00</td>\n",
       "      <td>5.00</td>\n",
       "    </tr>\n",
       "    <tr>\n",
       "      <th>LOR</th>\n",
       "      <td>500.0</td>\n",
       "      <td>3.48400</td>\n",
       "      <td>0.925450</td>\n",
       "      <td>1.0</td>\n",
       "      <td>3.0000</td>\n",
       "      <td>3.50</td>\n",
       "      <td>4.00</td>\n",
       "      <td>5.00</td>\n",
       "    </tr>\n",
       "    <tr>\n",
       "      <th>CGPA</th>\n",
       "      <td>500.0</td>\n",
       "      <td>8.57644</td>\n",
       "      <td>0.604813</td>\n",
       "      <td>6.8</td>\n",
       "      <td>8.1275</td>\n",
       "      <td>8.56</td>\n",
       "      <td>9.04</td>\n",
       "      <td>9.92</td>\n",
       "    </tr>\n",
       "    <tr>\n",
       "      <th>Research</th>\n",
       "      <td>500.0</td>\n",
       "      <td>0.56000</td>\n",
       "      <td>0.496884</td>\n",
       "      <td>0.0</td>\n",
       "      <td>0.0000</td>\n",
       "      <td>1.00</td>\n",
       "      <td>1.00</td>\n",
       "      <td>1.00</td>\n",
       "    </tr>\n",
       "    <tr>\n",
       "      <th>Admit</th>\n",
       "      <td>500.0</td>\n",
       "      <td>0.28400</td>\n",
       "      <td>0.451388</td>\n",
       "      <td>0.0</td>\n",
       "      <td>0.0000</td>\n",
       "      <td>0.00</td>\n",
       "      <td>1.00</td>\n",
       "      <td>1.00</td>\n",
       "    </tr>\n",
       "  </tbody>\n",
       "</table>\n",
       "</div>"
      ],
      "text/plain": [
       "                   count       mean        std    min       25%     50%  \\\n",
       "GRE Score          500.0  316.47200  11.295148  290.0  308.0000  317.00   \n",
       "TOEFL Score        500.0  107.19200   6.081868   92.0  103.0000  107.00   \n",
       "University Rating  500.0    3.11400   1.143512    1.0    2.0000    3.00   \n",
       "SOP                500.0    3.37400   0.991004    1.0    2.5000    3.50   \n",
       "LOR                500.0    3.48400   0.925450    1.0    3.0000    3.50   \n",
       "CGPA               500.0    8.57644   0.604813    6.8    8.1275    8.56   \n",
       "Research           500.0    0.56000   0.496884    0.0    0.0000    1.00   \n",
       "Admit              500.0    0.28400   0.451388    0.0    0.0000    0.00   \n",
       "\n",
       "                      75%     max  \n",
       "GRE Score          325.00  340.00  \n",
       "TOEFL Score        112.00  120.00  \n",
       "University Rating    4.00    5.00  \n",
       "SOP                  4.00    5.00  \n",
       "LOR                  4.00    5.00  \n",
       "CGPA                 9.04    9.92  \n",
       "Research             1.00    1.00  \n",
       "Admit                1.00    1.00  "
      ]
     },
     "execution_count": 6,
     "metadata": {},
     "output_type": "execute_result"
    }
   ],
   "source": [
    "# Let's check the summary statistics of the data\n",
    "data.describe().T"
   ]
  },
  {
   "cell_type": "markdown",
   "metadata": {
    "id": "Dwro2RclD222"
   },
   "source": [
    "**Observations:**\n",
    "\n",
    "- The average GRE score of students applying for UCLA is ~ 316 out of 340. Some students scored full marks on GRE. \n",
    "- The average TOEFL score of students applying for UCLA is ~ 107 out of 120. Some students scored full marks on TOEFL.\n",
    "- There are students with all kinds of ratings for bachelor's University, SOP, and LOR - ratings ranging from 1 to 5.\n",
    "- The average CGPA of students applying for UCLA is 8.57.\n",
    "- Majority of students (~ 56%) have research experience.\n",
    "- As per our assumption, on average, 28.4% of students would get admission to UCLA."
   ]
  },
  {
   "cell_type": "markdown",
   "metadata": {
    "id": "fhotGVGD4hgT"
   },
   "source": [
    "### **Let's visualize the dataset to see some patterns**"
   ]
  },
  {
   "cell_type": "code",
   "execution_count": 7,
   "metadata": {
    "colab": {
     "base_uri": "https://localhost:8080/",
     "height": 514
    },
    "id": "vwTqs3205Zk6",
    "outputId": "90bd9ad8-be8a-4305-f8d8-5a26e955cf88"
   },
   "outputs": [
    {
     "data": {
      "text/plain": [
       "<AxesSubplot:xlabel='GRE Score', ylabel='TOEFL Score'>"
      ]
     },
     "execution_count": 7,
     "metadata": {},
     "output_type": "execute_result"
    },
    {
     "data": {
      "image/png": "[encoded data removed]",
      "text/plain": [
       "<Figure size 1080x576 with 1 Axes>"
      ]
     },
     "metadata": {
      "needs_background": "light"
     },
     "output_type": "display_data"
    }
   ],
   "source": [
    "plt.figure(figsize = (15, 8))\n",
    "\n",
    "sns.scatterplot(data = data,\n",
    "                 \n",
    "           x = 'GRE Score',\n",
    "\n",
    "           y = 'TOEFL Score',\n",
    "\n",
    "           hue = 'Admit',\n",
    "\n",
    "           size = 'SOP')"
   ]
  },
  {
   "cell_type": "markdown",
   "metadata": {
    "id": "csxwJUu4Kmj4"
   },
   "source": [
    "**Observations:** \n",
    "\n",
    "- There is a linear relationship between GRE and TOEFL scores. This implies that students scoring high in one of them would score high in the other as well.\n",
    "- With the increase in GRE and TOEFL scores, the strength of SOP increases. \n",
    "- We can see a distinction between students who were admitted (denoted by orange) vs those who were not admitted (denoted by blue). We can see that the majority of students, who were admitted, have GRE scores greater than 320, TOEFL score greater than 105, and SOP of 4 or higher."
   ]
  },
  {
   "cell_type": "code",
   "execution_count": 8,
   "metadata": {
    "colab": {
     "base_uri": "https://localhost:8080/",
     "height": 458
    },
    "id": "cEOrIzXp4m4L",
    "outputId": "fd7f6557-c30c-481e-98cf-3d6ffb5c0489"
   },
   "outputs": [
    {
     "data": {
      "image/png": "[encoded data removed]",
      "text/plain": [
       "<Figure size 720x504 with 1 Axes>"
      ]
     },
     "metadata": {
      "needs_background": "light"
     },
     "output_type": "display_data"
    }
   ],
   "source": [
    "plt.figure(figsize = (10, 7))\n",
    "\n",
    "sns.boxplot(data = data,\n",
    "            \n",
    "             x = 'University Rating', \n",
    "            \n",
    "             y = 'CGPA',\n",
    "            \n",
    "             hue = 'Admit')\n",
    "\n",
    "plt.title('Relationship between different University Rating and CGPA')\n",
    "\n",
    "plt.show()"
   ]
  },
  {
   "cell_type": "markdown",
   "metadata": {
    "id": "qphs_7DPMb05"
   },
   "source": [
    "**Observations:** \n",
    "\n",
    "- We can see that, with increasing university ratings, the CGPA is also increasing, and also the chances of getting admitted to UCLA have increased.\n",
    "- The CGPA of students getting admission to UCLA is higher as compared to students not getting admission to UCLA which makes sense."
   ]
  },
  {
   "cell_type": "markdown",
   "metadata": {
    "id": "ZZP_r2sD7B0P"
   },
   "source": [
    "## **Data Preparation**"
   ]
  },
  {
   "cell_type": "markdown",
   "metadata": {
    "id": "5N2uA8r4MwX6"
   },
   "source": [
    "This dataset contains both numerical and categorical variables. We need to treat them before we pass them onto the neural network. We will perform the below pre-processing steps: \n",
    "*   One hot encoding of categorical variables\n",
    "*   Scaling numerical variables\n",
    "\n",
    "An important point to remember: Before we scale numerical variables, we would first split the dataset into train and test datasets and perform scaling separately. Otherwise, we would be leaking information from the test data to the train data and the resulting model might give a false sense of good performance. This is known as **data leakage** which we would like to avoid."
   ]
  },
  {
   "cell_type": "markdown",
   "metadata": {
    "id": "8kYCXX6UN7rE"
   },
   "source": [
    "In this dataset, although the variable **University Rating** is encoded as a numerical variable. But it is denoting or signifying the quality of the university, so that is why this is a categorical variable and we would be creating one-hot encoding or dummy variables for this variable."
   ]
  },
  {
   "cell_type": "code",
   "execution_count": 9,
   "metadata": {
    "colab": {
     "base_uri": "https://localhost:8080/",
     "height": 206
    },
    "id": "FHbuFLR-7EeE",
    "outputId": "701693f4-6fbd-4be9-ee3e-5f6608cf56a0"
   },
   "outputs": [
    {
     "data": {
      "text/html": [
       "<div>\n",
       "<style scoped>\n",
       "    .dataframe tbody tr th:only-of-type {\n",
       "        vertical-align: middle;\n",
       "    }\n",
       "\n",
       "    .dataframe tbody tr th {\n",
       "        vertical-align: top;\n",
       "    }\n",
       "\n",
       "    .dataframe thead th {\n",
       "        text-align: right;\n",
       "    }\n",
       "</style>\n",
       "<table border=\"1\" class=\"dataframe\">\n",
       "  <thead>\n",
       "    <tr style=\"text-align: right;\">\n",
       "      <th></th>\n",
       "      <th>GRE Score</th>\n",
       "      <th>TOEFL Score</th>\n",
       "      <th>SOP</th>\n",
       "      <th>LOR</th>\n",
       "      <th>CGPA</th>\n",
       "      <th>Research</th>\n",
       "      <th>Admit</th>\n",
       "      <th>University Rating_1</th>\n",
       "      <th>University Rating_2</th>\n",
       "      <th>University Rating_3</th>\n",
       "      <th>University Rating_4</th>\n",
       "      <th>University Rating_5</th>\n",
       "    </tr>\n",
       "  </thead>\n",
       "  <tbody>\n",
       "    <tr>\n",
       "      <th>0</th>\n",
       "      <td>337</td>\n",
       "      <td>118</td>\n",
       "      <td>4.5</td>\n",
       "      <td>4.5</td>\n",
       "      <td>9.65</td>\n",
       "      <td>1</td>\n",
       "      <td>1</td>\n",
       "      <td>0</td>\n",
       "      <td>0</td>\n",
       "      <td>0</td>\n",
       "      <td>1</td>\n",
       "      <td>0</td>\n",
       "    </tr>\n",
       "    <tr>\n",
       "      <th>1</th>\n",
       "      <td>324</td>\n",
       "      <td>107</td>\n",
       "      <td>4.0</td>\n",
       "      <td>4.5</td>\n",
       "      <td>8.87</td>\n",
       "      <td>1</td>\n",
       "      <td>0</td>\n",
       "      <td>0</td>\n",
       "      <td>0</td>\n",
       "      <td>0</td>\n",
       "      <td>1</td>\n",
       "      <td>0</td>\n",
       "    </tr>\n",
       "    <tr>\n",
       "      <th>2</th>\n",
       "      <td>316</td>\n",
       "      <td>104</td>\n",
       "      <td>3.0</td>\n",
       "      <td>3.5</td>\n",
       "      <td>8.00</td>\n",
       "      <td>1</td>\n",
       "      <td>0</td>\n",
       "      <td>0</td>\n",
       "      <td>0</td>\n",
       "      <td>1</td>\n",
       "      <td>0</td>\n",
       "      <td>0</td>\n",
       "    </tr>\n",
       "    <tr>\n",
       "      <th>3</th>\n",
       "      <td>322</td>\n",
       "      <td>110</td>\n",
       "      <td>3.5</td>\n",
       "      <td>2.5</td>\n",
       "      <td>8.67</td>\n",
       "      <td>1</td>\n",
       "      <td>0</td>\n",
       "      <td>0</td>\n",
       "      <td>0</td>\n",
       "      <td>1</td>\n",
       "      <td>0</td>\n",
       "      <td>0</td>\n",
       "    </tr>\n",
       "    <tr>\n",
       "      <th>4</th>\n",
       "      <td>314</td>\n",
       "      <td>103</td>\n",
       "      <td>2.0</td>\n",
       "      <td>3.0</td>\n",
       "      <td>8.21</td>\n",
       "      <td>0</td>\n",
       "      <td>0</td>\n",
       "      <td>0</td>\n",
       "      <td>1</td>\n",
       "      <td>0</td>\n",
       "      <td>0</td>\n",
       "      <td>0</td>\n",
       "    </tr>\n",
       "  </tbody>\n",
       "</table>\n",
       "</div>"
      ],
      "text/plain": [
       "   GRE Score  TOEFL Score  SOP  LOR   CGPA  Research  Admit  \\\n",
       "0        337          118  4.5   4.5  9.65         1      1   \n",
       "1        324          107  4.0   4.5  8.87         1      0   \n",
       "2        316          104  3.0   3.5  8.00         1      0   \n",
       "3        322          110  3.5   2.5  8.67         1      0   \n",
       "4        314          103  2.0   3.0  8.21         0      0   \n",
       "\n",
       "   University Rating_1  University Rating_2  University Rating_3  \\\n",
       "0                    0                    0                    0   \n",
       "1                    0                    0                    0   \n",
       "2                    0                    0                    1   \n",
       "3                    0                    0                    1   \n",
       "4                    0                    1                    0   \n",
       "\n",
       "   University Rating_4  University Rating_5  \n",
       "0                    1                    0  \n",
       "1                    1                    0  \n",
       "2                    0                    0  \n",
       "3                    0                    0  \n",
       "4                    0                    0  "
      ]
     },
     "execution_count": 9,
     "metadata": {},
     "output_type": "execute_result"
    }
   ],
   "source": [
    "# Creating one-hot encoding for the column - \"University Rating\" and then dropping University Rating\n",
    "one_hot_data = pd.concat([data, pd.get_dummies(data['University Rating'], prefix = 'University Rating')], axis = 1)\n",
    "\n",
    "one_hot_data = one_hot_data.drop(columns = 'University Rating')\n",
    "\n",
    "one_hot_data.head()"
   ]
  },
  {
   "cell_type": "markdown",
   "metadata": {
    "id": "M3O6DOWXOWkn"
   },
   "source": [
    "Now, let's split the dataset into train and test datasets. To do that, we would be extracting all the **independent variables** and saving them into a variable **features**. And the target variable **Admit** would be saved into a variable **target**. These two variables will be used to split the parent dataset into train and test datasets."
   ]
  },
  {
   "cell_type": "code",
   "execution_count": 10,
   "metadata": {
    "id": "7MQ2juQB8IuT"
   },
   "outputs": [],
   "source": [
    "features = one_hot_data.drop(['Admit'], axis = 1)\n",
    "\n",
    "target = one_hot_data['Admit']"
   ]
  },
  {
   "cell_type": "markdown",
   "metadata": {
    "id": "NuYQ0t2WcBLG"
   },
   "source": [
    "The size of the dataset is small and the Keras implementation provides an argument for selecting some percentage of training data as validation data to check the accuracy of the model. Therefore, we will split the data into an 80:20 ratio."
   ]
  },
  {
   "cell_type": "code",
   "execution_count": 11,
   "metadata": {
    "id": "I8fE8aF_7hJY"
   },
   "outputs": [],
   "source": [
    "# Splitting the dataset into the train and the test data\n",
    "X_train, X_test, y_train, y_test =  train_test_split(features, target, test_size = 0.2, random_state = 42)"
   ]
  },
  {
   "cell_type": "markdown",
   "metadata": {
    "id": "U883DzGZOwpp"
   },
   "source": [
    "Now, we will perform scaling on the numerical variables separately for train and test sets. We will perform **fit** and **transform** on the train data and then we will only perform **transform** on the test data. "
   ]
  },
  {
   "cell_type": "code",
   "execution_count": 13,
   "metadata": {
    "id": "mVdTFnkb8dfQ"
   },
   "outputs": [],
   "source": [
    "scaler = MinMaxScaler()\n",
    "\n",
    "# Here, we are passing all the features (numerical and categorical), that's okay as min-max scaler will not change values of categorical variables\n",
    "X_train_normalized = scaler.fit_transform(X_train)"
   ]
  },
  {
   "cell_type": "code",
   "execution_count": 14,
   "metadata": {
    "id": "2VLYxAVu953T"
   },
   "outputs": [],
   "source": [
    "X_test_normalized = scaler.transform(X_test)"
   ]
  },
  {
   "cell_type": "markdown",
   "metadata": {
    "id": "X7VT_t5f9bwR"
   },
   "source": [
    "## **Model Building**"
   ]
  },
  {
   "cell_type": "markdown",
   "metadata": {
    "id": "hbltijMlPVVP"
   },
   "source": [
    "In neural networks, there are so many hyper-parameters that you can play around with and tune the network to get the best results. Some of them are: \n",
    "\n",
    "\n",
    "1.   Number of hidden layers\n",
    "2.   Number of neurons in each hidden layer\n",
    "3.   Activation functions in hidden layers\n",
    "4.   Optimizers\n",
    "5.   Random initialization of weights and biases\n",
    "6.   Batch size\n",
    "7.   Learning rate\n",
    "8.   Early stopping\n",
    "9.   L1 and L2 Regularization\n",
    "10.  Dropout\n",
    "11.  Momentum\n",
    "\n",
    "and so on... Few topics will be covered in Week-2"
   ]
  },
  {
   "cell_type": "markdown",
   "metadata": {
    "id": "9YFaopNE_lpw"
   },
   "source": [
    "First, let's set the seed for random number generators in NumPy, Python, and TensorFlow to be able to reproduce the same results every time we run the code."
   ]
  },
  {
   "cell_type": "code",
   "execution_count": 20,
   "metadata": {
    "id": "VTVs7lmH_hXx"
   },
   "outputs": [],
   "source": [
    "# Fixing the seed for random number generators\n",
    "np.random.seed(42)\n",
    "\n",
    "import random\n",
    "\n",
    "random.seed(42)\n",
    "\n",
    "tf.random.set_seed(42)"
   ]
  },
  {
   "cell_type": "markdown",
   "metadata": {
    "id": "tLsxcmgPQ_cG"
   },
   "source": [
    "Let's build a feed-forward neural network with 2 hidden layers and the output layer."
   ]
  },
  {
   "cell_type": "code",
   "execution_count": 21,
   "metadata": {
    "id": "ytCsjy93BKbK"
   },
   "outputs": [],
   "source": [
    "# We will be adding the layers sequentially\n",
    "model_1 = Sequential()\n",
    "\n",
    "# First hidden layer with 128 neurons and relu activation function, the input_shape tuple denotes number of independent variables\n",
    "model_1.add(Dense(128, activation = 'relu', input_shape = (11, )))\n",
    "\n",
    "# Second hidden layer with 64 neurons and relu activation function\n",
    "model_1.add(Dense(64, activation = 'relu'))\n",
    "\n",
    "# Output layer with only one neuron and sigmoid as activation function which will give the probability of students getting admitted into UCLA  \n",
    "model_1.add(Dense(1, activation = 'sigmoid'))"
   ]
  },
  {
   "cell_type": "markdown",
   "metadata": {
    "id": "FvBhQn8ZR_HW"
   },
   "source": [
    "Once we are done with the model architecture, we need to compile the model, where we need to provide the loss function that we want to optimize, the optimization algorithm, and the evaluation metric that we are interested in to evaluate the model."
   ]
  },
  {
   "cell_type": "markdown",
   "metadata": {
    "id": "GAP99treSW_4"
   },
   "source": [
    "Since this is a binary classification task, we will be minimizing the **binary_crossentropy** and we can choose one optimizer out of \n",
    "1.   SGD\n",
    "2.   RMSprop\n",
    "3.   Adam\n",
    "\n",
    "This is a hyper-parameter. You can play around with these optimizers to check which one performs better with a particular data.\n",
    "\n",
    "For now, let's try **SGD** optimizer with **accuracy** as the metric and see the model's summary."
   ]
  },
  {
   "cell_type": "code",
   "execution_count": 22,
   "metadata": {
    "colab": {
     "base_uri": "https://localhost:8080/"
    },
    "id": "2REFSaSx9RBi",
    "outputId": "5c34789b-8f55-4cf7-f8fa-eabb06306f77"
   },
   "outputs": [
    {
     "name": "stdout",
     "output_type": "stream",
     "text": [
      "Model: \"sequential_1\"\n",
      "_________________________________________________________________\n",
      " Layer (type)                Output Shape              Param #   \n",
      "=================================================================\n",
      " dense_3 (Dense)             (None, 128)               1536      \n",
      "                                                                 \n",
      " dense_4 (Dense)             (None, 64)                8256      \n",
      "                                                                 \n",
      " dense_5 (Dense)             (None, 1)                 65        \n",
      "                                                                 \n",
      "=================================================================\n",
      "Total params: 9,857\n",
      "Trainable params: 9,857\n",
      "Non-trainable params: 0\n",
      "_________________________________________________________________\n"
     ]
    }
   ],
   "source": [
    "# Compliling the model with binary crossentropy as loss, SGD as optimizer and accuracy as metrics\n",
    "model_1.compile(loss = 'binary_crossentropy', optimizer = 'SGD', metrics = ['accuracy'])\n",
    "# Printing the summary of the model\n",
    "model_1.summary()"
   ]
  },
  {
   "cell_type": "markdown",
   "metadata": {
    "id": "C7W9EYZnTP1P"
   },
   "source": [
    "From the above summary, we can see that this architecture will train a total of **9,857** parameters, i.e., weights and biases in the network."
   ]
  },
  {
   "cell_type": "markdown",
   "metadata": {
    "id": "4N6XAn6mA_BD"
   },
   "source": [
    "### **Training the model**"
   ]
  },
  {
   "cell_type": "markdown",
   "metadata": {
    "id": "hmZ5ZSIlUSVH"
   },
   "source": [
    "Let's now train the model using the below piece of code. We will keep 10% of the training data for validation."
   ]
  },
  {
   "cell_type": "code",
   "execution_count": 23,
   "metadata": {
    "colab": {
     "base_uri": "https://localhost:8080/"
    },
    "id": "hkeCQ_K99nob",
    "outputId": "cfa0590c-c221-4d6d-8f38-a2394e667507"
   },
   "outputs": [
    {
     "name": "stdout",
     "output_type": "stream",
     "text": [
      "Epoch 1/150\n",
      "12/12 - 0s - loss: 0.6657 - accuracy: 0.7278 - val_loss: 0.7116 - val_accuracy: 0.5750 - 305ms/epoch - 25ms/step\n",
      "Epoch 2/150\n",
      "12/12 - 0s - loss: 0.6528 - accuracy: 0.7278 - val_loss: 0.7039 - val_accuracy: 0.5750 - 33ms/epoch - 3ms/step\n",
      "Epoch 3/150\n",
      "12/12 - 0s - loss: 0.6408 - accuracy: 0.7278 - val_loss: 0.6961 - val_accuracy: 0.5750 - 32ms/epoch - 3ms/step\n",
      "Epoch 4/150\n",
      "12/12 - 0s - loss: 0.6305 - accuracy: 0.7278 - val_loss: 0.6883 - val_accuracy: 0.5750 - 38ms/epoch - 3ms/step\n",
      "Epoch 5/150\n",
      "12/12 - 0s - loss: 0.6199 - accuracy: 0.7278 - val_loss: 0.6807 - val_accuracy: 0.5750 - 29ms/epoch - 2ms/step\n",
      "Epoch 6/150\n",
      "12/12 - 0s - loss: 0.6103 - accuracy: 0.7278 - val_loss: 0.6720 - val_accuracy: 0.5750 - 32ms/epoch - 3ms/step\n",
      "Epoch 7/150\n",
      "12/12 - 0s - loss: 0.6007 - accuracy: 0.7278 - val_loss: 0.6649 - val_accuracy: 0.5750 - 34ms/epoch - 3ms/step\n",
      "Epoch 8/150\n",
      "12/12 - 0s - loss: 0.5911 - accuracy: 0.7278 - val_loss: 0.6570 - val_accuracy: 0.5750 - 37ms/epoch - 3ms/step\n",
      "Epoch 9/150\n",
      "12/12 - 0s - loss: 0.5820 - accuracy: 0.7278 - val_loss: 0.6471 - val_accuracy: 0.5750 - 31ms/epoch - 3ms/step\n",
      "Epoch 10/150\n",
      "12/12 - 0s - loss: 0.5731 - accuracy: 0.7278 - val_loss: 0.6384 - val_accuracy: 0.5750 - 40ms/epoch - 3ms/step\n",
      "Epoch 11/150\n",
      "12/12 - 0s - loss: 0.5645 - accuracy: 0.7278 - val_loss: 0.6324 - val_accuracy: 0.5750 - 34ms/epoch - 3ms/step\n",
      "Epoch 12/150\n",
      "12/12 - 0s - loss: 0.5556 - accuracy: 0.7278 - val_loss: 0.6227 - val_accuracy: 0.5750 - 31ms/epoch - 3ms/step\n",
      "Epoch 13/150\n",
      "12/12 - 0s - loss: 0.5469 - accuracy: 0.7278 - val_loss: 0.6146 - val_accuracy: 0.5750 - 24ms/epoch - 2ms/step\n",
      "Epoch 14/150\n",
      "12/12 - 0s - loss: 0.5386 - accuracy: 0.7278 - val_loss: 0.6073 - val_accuracy: 0.5750 - 32ms/epoch - 3ms/step\n",
      "Epoch 15/150\n",
      "12/12 - 0s - loss: 0.5304 - accuracy: 0.7278 - val_loss: 0.5978 - val_accuracy: 0.5750 - 30ms/epoch - 3ms/step\n",
      "Epoch 16/150\n",
      "12/12 - 0s - loss: 0.5220 - accuracy: 0.7278 - val_loss: 0.5857 - val_accuracy: 0.5750 - 42ms/epoch - 4ms/step\n",
      "Epoch 17/150\n",
      "12/12 - 0s - loss: 0.5141 - accuracy: 0.7278 - val_loss: 0.5787 - val_accuracy: 0.5750 - 30ms/epoch - 2ms/step\n",
      "Epoch 18/150\n",
      "12/12 - 0s - loss: 0.5063 - accuracy: 0.7278 - val_loss: 0.5696 - val_accuracy: 0.5750 - 38ms/epoch - 3ms/step\n",
      "Epoch 19/150\n",
      "12/12 - 0s - loss: 0.4984 - accuracy: 0.7278 - val_loss: 0.5600 - val_accuracy: 0.5750 - 39ms/epoch - 3ms/step\n",
      "Epoch 20/150\n",
      "12/12 - 0s - loss: 0.4905 - accuracy: 0.7278 - val_loss: 0.5526 - val_accuracy: 0.5750 - 39ms/epoch - 3ms/step\n",
      "Epoch 21/150\n",
      "12/12 - 0s - loss: 0.4831 - accuracy: 0.7306 - val_loss: 0.5420 - val_accuracy: 0.6250 - 25ms/epoch - 2ms/step\n",
      "Epoch 22/150\n",
      "12/12 - 0s - loss: 0.4754 - accuracy: 0.7833 - val_loss: 0.5329 - val_accuracy: 0.8250 - 31ms/epoch - 3ms/step\n",
      "Epoch 23/150\n",
      "12/12 - 0s - loss: 0.4685 - accuracy: 0.8361 - val_loss: 0.5237 - val_accuracy: 0.8250 - 31ms/epoch - 3ms/step\n",
      "Epoch 24/150\n",
      "12/12 - 0s - loss: 0.4618 - accuracy: 0.8361 - val_loss: 0.5146 - val_accuracy: 0.8250 - 32ms/epoch - 3ms/step\n",
      "Epoch 25/150\n",
      "12/12 - 0s - loss: 0.4544 - accuracy: 0.8361 - val_loss: 0.5072 - val_accuracy: 0.8250 - 24ms/epoch - 2ms/step\n",
      "Epoch 26/150\n",
      "12/12 - 0s - loss: 0.4477 - accuracy: 0.8361 - val_loss: 0.4966 - val_accuracy: 0.8250 - 37ms/epoch - 3ms/step\n",
      "Epoch 27/150\n",
      "12/12 - 0s - loss: 0.4407 - accuracy: 0.8444 - val_loss: 0.4920 - val_accuracy: 0.8250 - 32ms/epoch - 3ms/step\n",
      "Epoch 28/150\n",
      "12/12 - 0s - loss: 0.4343 - accuracy: 0.8444 - val_loss: 0.4846 - val_accuracy: 0.8250 - 41ms/epoch - 3ms/step\n",
      "Epoch 29/150\n",
      "12/12 - 0s - loss: 0.4279 - accuracy: 0.8639 - val_loss: 0.4732 - val_accuracy: 0.9250 - 33ms/epoch - 3ms/step\n",
      "Epoch 30/150\n",
      "12/12 - 0s - loss: 0.4217 - accuracy: 0.8972 - val_loss: 0.4647 - val_accuracy: 0.9250 - 25ms/epoch - 2ms/step\n",
      "Epoch 31/150\n",
      "12/12 - 0s - loss: 0.4157 - accuracy: 0.9028 - val_loss: 0.4582 - val_accuracy: 0.9250 - 32ms/epoch - 3ms/step\n",
      "Epoch 32/150\n",
      "12/12 - 0s - loss: 0.4096 - accuracy: 0.9056 - val_loss: 0.4502 - val_accuracy: 0.9250 - 32ms/epoch - 3ms/step\n",
      "Epoch 33/150\n",
      "12/12 - 0s - loss: 0.4036 - accuracy: 0.8972 - val_loss: 0.4451 - val_accuracy: 0.9250 - 25ms/epoch - 2ms/step\n",
      "Epoch 34/150\n",
      "12/12 - 0s - loss: 0.3982 - accuracy: 0.8917 - val_loss: 0.4376 - val_accuracy: 0.9250 - 29ms/epoch - 2ms/step\n",
      "Epoch 35/150\n",
      "12/12 - 0s - loss: 0.3928 - accuracy: 0.8944 - val_loss: 0.4302 - val_accuracy: 0.9000 - 30ms/epoch - 3ms/step\n",
      "Epoch 36/150\n",
      "12/12 - 0s - loss: 0.3876 - accuracy: 0.8944 - val_loss: 0.4217 - val_accuracy: 0.9000 - 35ms/epoch - 3ms/step\n",
      "Epoch 37/150\n",
      "12/12 - 0s - loss: 0.3826 - accuracy: 0.8944 - val_loss: 0.4160 - val_accuracy: 0.9000 - 25ms/epoch - 2ms/step\n",
      "Epoch 38/150\n",
      "12/12 - 0s - loss: 0.3778 - accuracy: 0.8917 - val_loss: 0.4097 - val_accuracy: 0.9000 - 32ms/epoch - 3ms/step\n",
      "Epoch 39/150\n",
      "12/12 - 0s - loss: 0.3736 - accuracy: 0.8917 - val_loss: 0.4044 - val_accuracy: 0.9000 - 32ms/epoch - 3ms/step\n",
      "Epoch 40/150\n",
      "12/12 - 0s - loss: 0.3688 - accuracy: 0.8861 - val_loss: 0.4013 - val_accuracy: 0.9000 - 32ms/epoch - 3ms/step\n",
      "Epoch 41/150\n",
      "12/12 - 0s - loss: 0.3643 - accuracy: 0.8889 - val_loss: 0.3945 - val_accuracy: 0.9000 - 41ms/epoch - 3ms/step\n",
      "Epoch 42/150\n",
      "12/12 - 0s - loss: 0.3604 - accuracy: 0.8889 - val_loss: 0.3938 - val_accuracy: 0.9000 - 32ms/epoch - 3ms/step\n",
      "Epoch 43/150\n",
      "12/12 - 0s - loss: 0.3572 - accuracy: 0.8889 - val_loss: 0.3889 - val_accuracy: 0.9000 - 24ms/epoch - 2ms/step\n",
      "Epoch 44/150\n",
      "12/12 - 0s - loss: 0.3530 - accuracy: 0.8889 - val_loss: 0.3818 - val_accuracy: 0.9000 - 32ms/epoch - 3ms/step\n",
      "Epoch 45/150\n",
      "12/12 - 0s - loss: 0.3492 - accuracy: 0.8889 - val_loss: 0.3770 - val_accuracy: 0.9000 - 32ms/epoch - 3ms/step\n",
      "Epoch 46/150\n",
      "12/12 - 0s - loss: 0.3456 - accuracy: 0.8861 - val_loss: 0.3727 - val_accuracy: 0.9000 - 34ms/epoch - 3ms/step\n",
      "Epoch 47/150\n",
      "12/12 - 0s - loss: 0.3423 - accuracy: 0.8861 - val_loss: 0.3671 - val_accuracy: 0.9000 - 26ms/epoch - 2ms/step\n",
      "Epoch 48/150\n",
      "12/12 - 0s - loss: 0.3390 - accuracy: 0.8861 - val_loss: 0.3646 - val_accuracy: 0.9000 - 34ms/epoch - 3ms/step\n",
      "Epoch 49/150\n",
      "12/12 - 0s - loss: 0.3360 - accuracy: 0.8889 - val_loss: 0.3583 - val_accuracy: 0.9000 - 36ms/epoch - 3ms/step\n",
      "Epoch 50/150\n",
      "12/12 - 0s - loss: 0.3331 - accuracy: 0.8889 - val_loss: 0.3557 - val_accuracy: 0.9000 - 34ms/epoch - 3ms/step\n",
      "Epoch 51/150\n",
      "12/12 - 0s - loss: 0.3309 - accuracy: 0.8889 - val_loss: 0.3525 - val_accuracy: 0.9000 - 41ms/epoch - 3ms/step\n",
      "Epoch 52/150\n",
      "12/12 - 0s - loss: 0.3276 - accuracy: 0.8889 - val_loss: 0.3478 - val_accuracy: 0.9000 - 37ms/epoch - 3ms/step\n",
      "Epoch 53/150\n",
      "12/12 - 0s - loss: 0.3255 - accuracy: 0.8889 - val_loss: 0.3450 - val_accuracy: 0.9000 - 33ms/epoch - 3ms/step\n",
      "Epoch 54/150\n",
      "12/12 - 0s - loss: 0.3229 - accuracy: 0.8889 - val_loss: 0.3424 - val_accuracy: 0.9000 - 35ms/epoch - 3ms/step\n",
      "Epoch 55/150\n",
      "12/12 - 0s - loss: 0.3204 - accuracy: 0.8889 - val_loss: 0.3394 - val_accuracy: 0.9000 - 42ms/epoch - 4ms/step\n",
      "Epoch 56/150\n",
      "12/12 - 0s - loss: 0.3181 - accuracy: 0.8889 - val_loss: 0.3374 - val_accuracy: 0.9000 - 35ms/epoch - 3ms/step\n",
      "Epoch 57/150\n",
      "12/12 - 0s - loss: 0.3163 - accuracy: 0.8889 - val_loss: 0.3346 - val_accuracy: 0.9000 - 35ms/epoch - 3ms/step\n",
      "Epoch 58/150\n",
      "12/12 - 0s - loss: 0.3139 - accuracy: 0.8889 - val_loss: 0.3306 - val_accuracy: 0.9000 - 24ms/epoch - 2ms/step\n",
      "Epoch 59/150\n",
      "12/12 - 0s - loss: 0.3120 - accuracy: 0.8889 - val_loss: 0.3288 - val_accuracy: 0.9000 - 36ms/epoch - 3ms/step\n",
      "Epoch 60/150\n",
      "12/12 - 0s - loss: 0.3100 - accuracy: 0.8861 - val_loss: 0.3276 - val_accuracy: 0.9000 - 42ms/epoch - 4ms/step\n",
      "Epoch 61/150\n",
      "12/12 - 0s - loss: 0.3080 - accuracy: 0.8889 - val_loss: 0.3265 - val_accuracy: 0.9000 - 36ms/epoch - 3ms/step\n",
      "Epoch 62/150\n",
      "12/12 - 0s - loss: 0.3064 - accuracy: 0.8861 - val_loss: 0.3249 - val_accuracy: 0.9000 - 29ms/epoch - 2ms/step\n",
      "Epoch 63/150\n",
      "12/12 - 0s - loss: 0.3042 - accuracy: 0.8861 - val_loss: 0.3218 - val_accuracy: 0.9000 - 37ms/epoch - 3ms/step\n",
      "Epoch 64/150\n",
      "12/12 - 0s - loss: 0.3023 - accuracy: 0.8861 - val_loss: 0.3200 - val_accuracy: 0.9000 - 32ms/epoch - 3ms/step\n",
      "Epoch 65/150\n",
      "12/12 - 0s - loss: 0.3010 - accuracy: 0.8861 - val_loss: 0.3202 - val_accuracy: 0.9000 - 32ms/epoch - 3ms/step\n",
      "Epoch 66/150\n",
      "12/12 - 0s - loss: 0.2996 - accuracy: 0.8889 - val_loss: 0.3128 - val_accuracy: 0.9000 - 32ms/epoch - 3ms/step\n",
      "Epoch 67/150\n",
      "12/12 - 0s - loss: 0.2976 - accuracy: 0.8861 - val_loss: 0.3110 - val_accuracy: 0.9000 - 36ms/epoch - 3ms/step\n"
     ]
    },
    {
     "name": "stdout",
     "output_type": "stream",
     "text": [
      "Epoch 68/150\n",
      "12/12 - 0s - loss: 0.2968 - accuracy: 0.8833 - val_loss: 0.3104 - val_accuracy: 0.9000 - 25ms/epoch - 2ms/step\n",
      "Epoch 69/150\n",
      "12/12 - 0s - loss: 0.2947 - accuracy: 0.8833 - val_loss: 0.3103 - val_accuracy: 0.9000 - 32ms/epoch - 3ms/step\n",
      "Epoch 70/150\n",
      "12/12 - 0s - loss: 0.2936 - accuracy: 0.8833 - val_loss: 0.3107 - val_accuracy: 0.9000 - 41ms/epoch - 3ms/step\n",
      "Epoch 71/150\n",
      "12/12 - 0s - loss: 0.2918 - accuracy: 0.8861 - val_loss: 0.3055 - val_accuracy: 0.9000 - 33ms/epoch - 3ms/step\n",
      "Epoch 72/150\n",
      "12/12 - 0s - loss: 0.2909 - accuracy: 0.8833 - val_loss: 0.3032 - val_accuracy: 0.9000 - 32ms/epoch - 3ms/step\n",
      "Epoch 73/150\n",
      "12/12 - 0s - loss: 0.2898 - accuracy: 0.8833 - val_loss: 0.3029 - val_accuracy: 0.9000 - 41ms/epoch - 3ms/step\n",
      "Epoch 74/150\n",
      "12/12 - 0s - loss: 0.2882 - accuracy: 0.8833 - val_loss: 0.3057 - val_accuracy: 0.9000 - 32ms/epoch - 3ms/step\n",
      "Epoch 75/150\n",
      "12/12 - 0s - loss: 0.2873 - accuracy: 0.8833 - val_loss: 0.3072 - val_accuracy: 0.9000 - 24ms/epoch - 2ms/step\n",
      "Epoch 76/150\n",
      "12/12 - 0s - loss: 0.2863 - accuracy: 0.8861 - val_loss: 0.3040 - val_accuracy: 0.9000 - 32ms/epoch - 3ms/step\n",
      "Epoch 77/150\n",
      "12/12 - 0s - loss: 0.2845 - accuracy: 0.8833 - val_loss: 0.3011 - val_accuracy: 0.9000 - 40ms/epoch - 3ms/step\n",
      "Epoch 78/150\n",
      "12/12 - 0s - loss: 0.2835 - accuracy: 0.8833 - val_loss: 0.3008 - val_accuracy: 0.9000 - 41ms/epoch - 3ms/step\n",
      "Epoch 79/150\n",
      "12/12 - 0s - loss: 0.2826 - accuracy: 0.8833 - val_loss: 0.2987 - val_accuracy: 0.9000 - 40ms/epoch - 3ms/step\n",
      "Epoch 80/150\n",
      "12/12 - 0s - loss: 0.2813 - accuracy: 0.8833 - val_loss: 0.2968 - val_accuracy: 0.9000 - 78ms/epoch - 7ms/step\n",
      "Epoch 81/150\n",
      "12/12 - 0s - loss: 0.2803 - accuracy: 0.8833 - val_loss: 0.2996 - val_accuracy: 0.9000 - 43ms/epoch - 4ms/step\n",
      "Epoch 82/150\n",
      "12/12 - 0s - loss: 0.2795 - accuracy: 0.8833 - val_loss: 0.2975 - val_accuracy: 0.9000 - 27ms/epoch - 2ms/step\n",
      "Epoch 83/150\n",
      "12/12 - 0s - loss: 0.2783 - accuracy: 0.8833 - val_loss: 0.2956 - val_accuracy: 0.9000 - 32ms/epoch - 3ms/step\n",
      "Epoch 84/150\n",
      "12/12 - 0s - loss: 0.2779 - accuracy: 0.8833 - val_loss: 0.2992 - val_accuracy: 0.9000 - 33ms/epoch - 3ms/step\n",
      "Epoch 85/150\n",
      "12/12 - 0s - loss: 0.2768 - accuracy: 0.8861 - val_loss: 0.2928 - val_accuracy: 0.9000 - 34ms/epoch - 3ms/step\n",
      "Epoch 86/150\n",
      "12/12 - 0s - loss: 0.2755 - accuracy: 0.8833 - val_loss: 0.2905 - val_accuracy: 0.9000 - 24ms/epoch - 2ms/step\n",
      "Epoch 87/150\n",
      "12/12 - 0s - loss: 0.2744 - accuracy: 0.8833 - val_loss: 0.2926 - val_accuracy: 0.9000 - 27ms/epoch - 2ms/step\n",
      "Epoch 88/150\n",
      "12/12 - 0s - loss: 0.2744 - accuracy: 0.8833 - val_loss: 0.2921 - val_accuracy: 0.9000 - 24ms/epoch - 2ms/step\n",
      "Epoch 89/150\n",
      "12/12 - 0s - loss: 0.2725 - accuracy: 0.8833 - val_loss: 0.2875 - val_accuracy: 0.9000 - 32ms/epoch - 3ms/step\n",
      "Epoch 90/150\n",
      "12/12 - 0s - loss: 0.2716 - accuracy: 0.8833 - val_loss: 0.2892 - val_accuracy: 0.9000 - 40ms/epoch - 3ms/step\n",
      "Epoch 91/150\n",
      "12/12 - 0s - loss: 0.2708 - accuracy: 0.8833 - val_loss: 0.2915 - val_accuracy: 0.9250 - 42ms/epoch - 4ms/step\n",
      "Epoch 92/150\n",
      "12/12 - 0s - loss: 0.2703 - accuracy: 0.8833 - val_loss: 0.2928 - val_accuracy: 0.9250 - 25ms/epoch - 2ms/step\n",
      "Epoch 93/150\n",
      "12/12 - 0s - loss: 0.2699 - accuracy: 0.8833 - val_loss: 0.2914 - val_accuracy: 0.9250 - 41ms/epoch - 3ms/step\n",
      "Epoch 94/150\n",
      "12/12 - 0s - loss: 0.2688 - accuracy: 0.8861 - val_loss: 0.2901 - val_accuracy: 0.9250 - 40ms/epoch - 3ms/step\n",
      "Epoch 95/150\n",
      "12/12 - 0s - loss: 0.2678 - accuracy: 0.8861 - val_loss: 0.2913 - val_accuracy: 0.9250 - 42ms/epoch - 4ms/step\n",
      "Epoch 96/150\n",
      "12/12 - 0s - loss: 0.2672 - accuracy: 0.8833 - val_loss: 0.2884 - val_accuracy: 0.9250 - 32ms/epoch - 3ms/step\n",
      "Epoch 97/150\n",
      "12/12 - 0s - loss: 0.2660 - accuracy: 0.8833 - val_loss: 0.2885 - val_accuracy: 0.9250 - 39ms/epoch - 3ms/step\n",
      "Epoch 98/150\n",
      "12/12 - 0s - loss: 0.2654 - accuracy: 0.8833 - val_loss: 0.2838 - val_accuracy: 0.9250 - 24ms/epoch - 2ms/step\n",
      "Epoch 99/150\n",
      "12/12 - 0s - loss: 0.2646 - accuracy: 0.8833 - val_loss: 0.2835 - val_accuracy: 0.9250 - 29ms/epoch - 2ms/step\n",
      "Epoch 100/150\n",
      "12/12 - 0s - loss: 0.2633 - accuracy: 0.8861 - val_loss: 0.2806 - val_accuracy: 0.9000 - 41ms/epoch - 3ms/step\n",
      "Epoch 101/150\n",
      "12/12 - 0s - loss: 0.2628 - accuracy: 0.8833 - val_loss: 0.2841 - val_accuracy: 0.9250 - 35ms/epoch - 3ms/step\n",
      "Epoch 102/150\n",
      "12/12 - 0s - loss: 0.2623 - accuracy: 0.8833 - val_loss: 0.2802 - val_accuracy: 0.9000 - 32ms/epoch - 3ms/step\n",
      "Epoch 103/150\n",
      "12/12 - 0s - loss: 0.2616 - accuracy: 0.8833 - val_loss: 0.2817 - val_accuracy: 0.9250 - 32ms/epoch - 3ms/step\n",
      "Epoch 104/150\n",
      "12/12 - 0s - loss: 0.2604 - accuracy: 0.8833 - val_loss: 0.2818 - val_accuracy: 0.9250 - 32ms/epoch - 3ms/step\n",
      "Epoch 105/150\n",
      "12/12 - 0s - loss: 0.2600 - accuracy: 0.8833 - val_loss: 0.2807 - val_accuracy: 0.9250 - 34ms/epoch - 3ms/step\n",
      "Epoch 106/150\n",
      "12/12 - 0s - loss: 0.2593 - accuracy: 0.8833 - val_loss: 0.2832 - val_accuracy: 0.9250 - 39ms/epoch - 3ms/step\n",
      "Epoch 107/150\n",
      "12/12 - 0s - loss: 0.2585 - accuracy: 0.8833 - val_loss: 0.2793 - val_accuracy: 0.9250 - 35ms/epoch - 3ms/step\n",
      "Epoch 108/150\n",
      "12/12 - 0s - loss: 0.2578 - accuracy: 0.8833 - val_loss: 0.2768 - val_accuracy: 0.9250 - 32ms/epoch - 3ms/step\n",
      "Epoch 109/150\n",
      "12/12 - 0s - loss: 0.2575 - accuracy: 0.8806 - val_loss: 0.2778 - val_accuracy: 0.9250 - 31ms/epoch - 3ms/step\n",
      "Epoch 110/150\n",
      "12/12 - 0s - loss: 0.2565 - accuracy: 0.8833 - val_loss: 0.2728 - val_accuracy: 0.9000 - 25ms/epoch - 2ms/step\n",
      "Epoch 111/150\n",
      "12/12 - 0s - loss: 0.2560 - accuracy: 0.8806 - val_loss: 0.2725 - val_accuracy: 0.9000 - 33ms/epoch - 3ms/step\n",
      "Epoch 112/150\n",
      "12/12 - 0s - loss: 0.2555 - accuracy: 0.8833 - val_loss: 0.2741 - val_accuracy: 0.9250 - 22ms/epoch - 2ms/step\n",
      "Epoch 113/150\n",
      "12/12 - 0s - loss: 0.2550 - accuracy: 0.8833 - val_loss: 0.2769 - val_accuracy: 0.9250 - 34ms/epoch - 3ms/step\n",
      "Epoch 114/150\n",
      "12/12 - 0s - loss: 0.2539 - accuracy: 0.8833 - val_loss: 0.2770 - val_accuracy: 0.9250 - 41ms/epoch - 3ms/step\n",
      "Epoch 115/150\n",
      "12/12 - 0s - loss: 0.2529 - accuracy: 0.8833 - val_loss: 0.2779 - val_accuracy: 0.9250 - 33ms/epoch - 3ms/step\n",
      "Epoch 116/150\n",
      "12/12 - 0s - loss: 0.2529 - accuracy: 0.8889 - val_loss: 0.2747 - val_accuracy: 0.9250 - 32ms/epoch - 3ms/step\n",
      "Epoch 117/150\n",
      "12/12 - 0s - loss: 0.2517 - accuracy: 0.8833 - val_loss: 0.2764 - val_accuracy: 0.9250 - 38ms/epoch - 3ms/step\n",
      "Epoch 118/150\n",
      "12/12 - 0s - loss: 0.2513 - accuracy: 0.8861 - val_loss: 0.2777 - val_accuracy: 0.9250 - 40ms/epoch - 3ms/step\n",
      "Epoch 119/150\n",
      "12/12 - 0s - loss: 0.2511 - accuracy: 0.8833 - val_loss: 0.2790 - val_accuracy: 0.9250 - 30ms/epoch - 3ms/step\n",
      "Epoch 120/150\n",
      "12/12 - 0s - loss: 0.2502 - accuracy: 0.8889 - val_loss: 0.2753 - val_accuracy: 0.9250 - 32ms/epoch - 3ms/step\n",
      "Epoch 121/150\n",
      "12/12 - 0s - loss: 0.2492 - accuracy: 0.8861 - val_loss: 0.2738 - val_accuracy: 0.9250 - 26ms/epoch - 2ms/step\n",
      "Epoch 122/150\n",
      "12/12 - 0s - loss: 0.2487 - accuracy: 0.8861 - val_loss: 0.2750 - val_accuracy: 0.9250 - 34ms/epoch - 3ms/step\n",
      "Epoch 123/150\n",
      "12/12 - 0s - loss: 0.2486 - accuracy: 0.8861 - val_loss: 0.2710 - val_accuracy: 0.9250 - 35ms/epoch - 3ms/step\n",
      "Epoch 124/150\n",
      "12/12 - 0s - loss: 0.2475 - accuracy: 0.8861 - val_loss: 0.2683 - val_accuracy: 0.9250 - 33ms/epoch - 3ms/step\n",
      "Epoch 125/150\n",
      "12/12 - 0s - loss: 0.2469 - accuracy: 0.8806 - val_loss: 0.2705 - val_accuracy: 0.9250 - 32ms/epoch - 3ms/step\n",
      "Epoch 126/150\n",
      "12/12 - 0s - loss: 0.2465 - accuracy: 0.8861 - val_loss: 0.2698 - val_accuracy: 0.9250 - 35ms/epoch - 3ms/step\n",
      "Epoch 127/150\n",
      "12/12 - 0s - loss: 0.2458 - accuracy: 0.8861 - val_loss: 0.2737 - val_accuracy: 0.9250 - 31ms/epoch - 3ms/step\n",
      "Epoch 128/150\n",
      "12/12 - 0s - loss: 0.2453 - accuracy: 0.8889 - val_loss: 0.2687 - val_accuracy: 0.9250 - 34ms/epoch - 3ms/step\n",
      "Epoch 129/150\n",
      "12/12 - 0s - loss: 0.2443 - accuracy: 0.8861 - val_loss: 0.2713 - val_accuracy: 0.9250 - 41ms/epoch - 3ms/step\n",
      "Epoch 130/150\n",
      "12/12 - 0s - loss: 0.2436 - accuracy: 0.8889 - val_loss: 0.2713 - val_accuracy: 0.9250 - 34ms/epoch - 3ms/step\n",
      "Epoch 131/150\n",
      "12/12 - 0s - loss: 0.2435 - accuracy: 0.8889 - val_loss: 0.2712 - val_accuracy: 0.9250 - 37ms/epoch - 3ms/step\n",
      "Epoch 132/150\n",
      "12/12 - 0s - loss: 0.2428 - accuracy: 0.8889 - val_loss: 0.2694 - val_accuracy: 0.9250 - 24ms/epoch - 2ms/step\n",
      "Epoch 133/150\n",
      "12/12 - 0s - loss: 0.2421 - accuracy: 0.8889 - val_loss: 0.2709 - val_accuracy: 0.9250 - 24ms/epoch - 2ms/step\n"
     ]
    },
    {
     "name": "stdout",
     "output_type": "stream",
     "text": [
      "Epoch 134/150\n",
      "12/12 - 0s - loss: 0.2412 - accuracy: 0.8889 - val_loss: 0.2673 - val_accuracy: 0.9250 - 42ms/epoch - 4ms/step\n",
      "Epoch 135/150\n",
      "12/12 - 0s - loss: 0.2412 - accuracy: 0.8861 - val_loss: 0.2719 - val_accuracy: 0.9250 - 33ms/epoch - 3ms/step\n",
      "Epoch 136/150\n",
      "12/12 - 0s - loss: 0.2401 - accuracy: 0.8889 - val_loss: 0.2738 - val_accuracy: 0.9250 - 28ms/epoch - 2ms/step\n",
      "Epoch 137/150\n",
      "12/12 - 0s - loss: 0.2398 - accuracy: 0.8889 - val_loss: 0.2770 - val_accuracy: 0.9250 - 38ms/epoch - 3ms/step\n",
      "Epoch 138/150\n",
      "12/12 - 0s - loss: 0.2399 - accuracy: 0.8917 - val_loss: 0.2681 - val_accuracy: 0.9250 - 41ms/epoch - 3ms/step\n",
      "Epoch 139/150\n",
      "12/12 - 0s - loss: 0.2385 - accuracy: 0.8889 - val_loss: 0.2694 - val_accuracy: 0.9250 - 35ms/epoch - 3ms/step\n",
      "Epoch 140/150\n",
      "12/12 - 0s - loss: 0.2377 - accuracy: 0.8889 - val_loss: 0.2685 - val_accuracy: 0.9250 - 38ms/epoch - 3ms/step\n",
      "Epoch 141/150\n",
      "12/12 - 0s - loss: 0.2380 - accuracy: 0.8889 - val_loss: 0.2693 - val_accuracy: 0.9250 - 33ms/epoch - 3ms/step\n",
      "Epoch 142/150\n",
      "12/12 - 0s - loss: 0.2370 - accuracy: 0.8889 - val_loss: 0.2789 - val_accuracy: 0.9250 - 32ms/epoch - 3ms/step\n",
      "Epoch 143/150\n",
      "12/12 - 0s - loss: 0.2372 - accuracy: 0.9000 - val_loss: 0.2722 - val_accuracy: 0.9250 - 32ms/epoch - 3ms/step\n",
      "Epoch 144/150\n",
      "12/12 - 0s - loss: 0.2359 - accuracy: 0.8917 - val_loss: 0.2680 - val_accuracy: 0.9250 - 33ms/epoch - 3ms/step\n",
      "Epoch 145/150\n",
      "12/12 - 0s - loss: 0.2355 - accuracy: 0.8889 - val_loss: 0.2670 - val_accuracy: 0.9250 - 33ms/epoch - 3ms/step\n",
      "Epoch 146/150\n",
      "12/12 - 0s - loss: 0.2347 - accuracy: 0.8889 - val_loss: 0.2657 - val_accuracy: 0.9250 - 50ms/epoch - 4ms/step\n",
      "Epoch 147/150\n",
      "12/12 - 0s - loss: 0.2339 - accuracy: 0.8889 - val_loss: 0.2692 - val_accuracy: 0.9250 - 47ms/epoch - 4ms/step\n",
      "Epoch 148/150\n",
      "12/12 - 0s - loss: 0.2333 - accuracy: 0.8889 - val_loss: 0.2679 - val_accuracy: 0.9250 - 37ms/epoch - 3ms/step\n",
      "Epoch 149/150\n",
      "12/12 - 0s - loss: 0.2332 - accuracy: 0.8944 - val_loss: 0.2659 - val_accuracy: 0.9250 - 39ms/epoch - 3ms/step\n",
      "Epoch 150/150\n",
      "12/12 - 0s - loss: 0.2323 - accuracy: 0.8917 - val_loss: 0.2624 - val_accuracy: 0.9250 - 36ms/epoch - 3ms/step\n"
     ]
    }
   ],
   "source": [
    "# Fitting the model on train data\n",
    "history_1 = model_1.fit(X_train_normalized, y_train,validation_split = 0.1,epochs = 150,verbose = 2)"
   ]
  },
  {
   "cell_type": "markdown",
   "metadata": {
    "id": "EFMmpLAuBC4n"
   },
   "source": [
    "### **Plotting Accuracy vs Epoch Curve**"
   ]
  },
  {
   "cell_type": "code",
   "execution_count": 24,
   "metadata": {
    "colab": {
     "base_uri": "https://localhost:8080/",
     "height": 295
    },
    "id": "oe8CUImT-8xf",
    "outputId": "223f2d6a-6b65-4e57-c86c-912624339c83"
   },
   "outputs": [
    {
     "data": {
      "image/png": "[encoded data removed]",
      "text/plain": [
       "<Figure size 432x288 with 1 Axes>"
      ]
     },
     "metadata": {
      "needs_background": "light"
     },
     "output_type": "display_data"
    }
   ],
   "source": [
    "plt.plot(history_1.history['loss'])\n",
    "\n",
    "plt.plot(history_1.history['val_loss'])\n",
    "\n",
    "plt.title('Loss vs Epochs')\n",
    "\n",
    "plt.ylabel('Loss')\n",
    "\n",
    "plt.xlabel('Epoch')\n",
    "\n",
    "plt.legend(['Train', 'Validation'], loc = 'lower right')\n",
    "\n",
    "plt.show()"
   ]
  },
  {
   "cell_type": "markdown",
   "metadata": {
    "id": "K8cyNSpIjURF"
   },
   "source": [
    "**Observations:**\n",
    "\n",
    "- The training loss is smooth and overall it is decreasing with the increase in the epochs.\n",
    "- The validation loss is decreasing and with the increase in the epochs.\n",
    "- The validation loss is being to the training loss. This indicates that the model is giving a generalized performance."
   ]
  },
  {
   "cell_type": "markdown",
   "metadata": {
    "id": "e3lV6QFMVqQh"
   },
   "source": [
    "Let's try to increase the model complexity by tuning some of the hyper-parameters mentioned earlier and check if we can improve the model performance. Out of all the options we have, let's try to change the number of hidden layers, the number of neurons in each hidden layer, and the optimizer from **SGD** to **adam**. Also, we have observed that validation loss became constant after some epochs, let's try less number of epochs which would also reduce the computation time. "
   ]
  },
  {
   "cell_type": "markdown",
   "metadata": {
    "id": "TcLYYkZo6PaW"
   },
   "source": [
    "First, we need to clear the previous model's history from the session. In Keras, we need special command to clear the model's history otherwise the previous model history remains in the backend.\n",
    "Also, let's fix the seed again after clearing the backend."
   ]
  },
  {
   "cell_type": "code",
   "execution_count": 25,
   "metadata": {
    "id": "_GQu0Mv56_IH"
   },
   "outputs": [],
   "source": [
    "# Clearing the backend\n",
    "from tensorflow.keras import backend\n",
    "\n",
    "backend.clear_session()"
   ]
  },
  {
   "cell_type": "code",
   "execution_count": 26,
   "metadata": {
    "id": "7PIxvVI0LqbV"
   },
   "outputs": [],
   "source": [
    "# Fixing the seed for random number generators\n",
    "np.random.seed(42)\n",
    "\n",
    "import random\n",
    "\n",
    "random.seed(42)\n",
    "\n",
    "tf.random.set_seed(42)"
   ]
  },
  {
   "cell_type": "code",
   "execution_count": 27,
   "metadata": {
    "id": "S23oRyS2XJZW"
   },
   "outputs": [],
   "source": [
    "# We will be adding the layers sequentially\n",
    "model_2 = Sequential()\n",
    "# First hidden layer with 128 neurons and relu activation function, the input_shape tuple denotes number of independent variables\n",
    "model_2.add(Dense(128, activation = 'relu', input_shape = (11, )))\n",
    "\n",
    "# Second hidden layer with 64 neurons and relu activation function\n",
    "model_2.add(Dense(64, activation = 'relu'))\n",
    "\n",
    "# Second hidden layer with 32 neurons and relu activation function\n",
    "model_2.add(Dense(32, activation = 'relu'))\n",
    "\n",
    "# Output layer with only one neuron and sigmoid as activation function which will give the probability of students getting admitted into UCLA  \n",
    "model_2.add(Dense(1, activation = 'sigmoid'))"
   ]
  },
  {
   "cell_type": "code",
   "execution_count": 28,
   "metadata": {
    "colab": {
     "base_uri": "https://localhost:8080/"
    },
    "id": "DT1QFebrV9ZC",
    "outputId": "15cd60eb-ad58-453b-f345-f08058663887",
    "scrolled": true
   },
   "outputs": [
    {
     "name": "stdout",
     "output_type": "stream",
     "text": [
      "Model: \"sequential\"\n",
      "_________________________________________________________________\n",
      " Layer (type)                Output Shape              Param #   \n",
      "=================================================================\n",
      " dense (Dense)               (None, 128)               1536      \n",
      "                                                                 \n",
      " dense_1 (Dense)             (None, 64)                8256      \n",
      "                                                                 \n",
      " dense_2 (Dense)             (None, 32)                2080      \n",
      "                                                                 \n",
      " dense_3 (Dense)             (None, 1)                 33        \n",
      "                                                                 \n",
      "=================================================================\n",
      "Total params: 11,905\n",
      "Trainable params: 11,905\n",
      "Non-trainable params: 0\n",
      "_________________________________________________________________\n"
     ]
    }
   ],
   "source": [
    "# Compliling the model with binary crossentropy as loss, Adam as optimizer and accuracy as metrics\n",
    "model_2.compile(loss = 'binary_crossentropy', optimizer = 'adam', metrics = ['accuracy'])\n",
    "# Printing the summary of the model\n",
    "model_2.summary()"
   ]
  },
  {
   "cell_type": "code",
   "execution_count": 29,
   "metadata": {
    "colab": {
     "base_uri": "https://localhost:8080/"
    },
    "id": "d0mHas6KV9f9",
    "outputId": "68b96632-f368-40af-934b-3680ab236564"
   },
   "outputs": [
    {
     "name": "stdout",
     "output_type": "stream",
     "text": [
      "Epoch 1/100\n",
      "12/12 - 0s - loss: 0.6501 - accuracy: 0.7250 - val_loss: 0.6265 - val_accuracy: 0.8250 - 379ms/epoch - 32ms/step\n",
      "Epoch 2/100\n",
      "12/12 - 0s - loss: 0.5610 - accuracy: 0.8333 - val_loss: 0.5304 - val_accuracy: 0.8250 - 38ms/epoch - 3ms/step\n",
      "Epoch 3/100\n",
      "12/12 - 0s - loss: 0.4533 - accuracy: 0.8444 - val_loss: 0.4049 - val_accuracy: 0.9000 - 42ms/epoch - 4ms/step\n",
      "Epoch 4/100\n",
      "12/12 - 0s - loss: 0.3618 - accuracy: 0.8722 - val_loss: 0.3132 - val_accuracy: 0.9000 - 36ms/epoch - 3ms/step\n",
      "Epoch 5/100\n",
      "12/12 - 0s - loss: 0.3168 - accuracy: 0.8806 - val_loss: 0.2824 - val_accuracy: 0.9000 - 34ms/epoch - 3ms/step\n",
      "Epoch 6/100\n",
      "12/12 - 0s - loss: 0.2940 - accuracy: 0.8667 - val_loss: 0.2822 - val_accuracy: 0.9000 - 32ms/epoch - 3ms/step\n",
      "Epoch 7/100\n",
      "12/12 - 0s - loss: 0.2700 - accuracy: 0.8833 - val_loss: 0.2946 - val_accuracy: 0.9250 - 35ms/epoch - 3ms/step\n",
      "Epoch 8/100\n",
      "12/12 - 0s - loss: 0.2551 - accuracy: 0.8861 - val_loss: 0.2755 - val_accuracy: 0.9250 - 40ms/epoch - 3ms/step\n",
      "Epoch 9/100\n",
      "12/12 - 0s - loss: 0.2414 - accuracy: 0.8944 - val_loss: 0.2628 - val_accuracy: 0.9250 - 35ms/epoch - 3ms/step\n",
      "Epoch 10/100\n",
      "12/12 - 0s - loss: 0.2269 - accuracy: 0.8917 - val_loss: 0.2607 - val_accuracy: 0.9250 - 39ms/epoch - 3ms/step\n",
      "Epoch 11/100\n",
      "12/12 - 0s - loss: 0.2233 - accuracy: 0.9083 - val_loss: 0.3151 - val_accuracy: 0.9250 - 32ms/epoch - 3ms/step\n",
      "Epoch 12/100\n",
      "12/12 - 0s - loss: 0.2224 - accuracy: 0.9083 - val_loss: 0.2362 - val_accuracy: 0.9500 - 32ms/epoch - 3ms/step\n",
      "Epoch 13/100\n",
      "12/12 - 0s - loss: 0.2061 - accuracy: 0.8972 - val_loss: 0.2745 - val_accuracy: 0.9250 - 32ms/epoch - 3ms/step\n",
      "Epoch 14/100\n",
      "12/12 - 0s - loss: 0.2150 - accuracy: 0.9056 - val_loss: 0.2671 - val_accuracy: 0.9250 - 36ms/epoch - 3ms/step\n",
      "Epoch 15/100\n",
      "12/12 - 0s - loss: 0.2172 - accuracy: 0.9139 - val_loss: 0.2260 - val_accuracy: 0.9250 - 45ms/epoch - 4ms/step\n",
      "Epoch 16/100\n",
      "12/12 - 0s - loss: 0.2038 - accuracy: 0.8944 - val_loss: 0.2401 - val_accuracy: 0.9250 - 37ms/epoch - 3ms/step\n",
      "Epoch 17/100\n",
      "12/12 - 0s - loss: 0.1939 - accuracy: 0.9000 - val_loss: 0.2482 - val_accuracy: 0.9500 - 34ms/epoch - 3ms/step\n",
      "Epoch 18/100\n",
      "12/12 - 0s - loss: 0.2080 - accuracy: 0.9028 - val_loss: 0.2261 - val_accuracy: 0.9250 - 34ms/epoch - 3ms/step\n",
      "Epoch 19/100\n",
      "12/12 - 0s - loss: 0.1891 - accuracy: 0.9056 - val_loss: 0.2810 - val_accuracy: 0.9250 - 41ms/epoch - 3ms/step\n",
      "Epoch 20/100\n",
      "12/12 - 0s - loss: 0.1772 - accuracy: 0.9139 - val_loss: 0.2367 - val_accuracy: 0.9250 - 32ms/epoch - 3ms/step\n",
      "Epoch 21/100\n",
      "12/12 - 0s - loss: 0.1715 - accuracy: 0.9194 - val_loss: 0.2461 - val_accuracy: 0.9250 - 40ms/epoch - 3ms/step\n",
      "Epoch 22/100\n",
      "12/12 - 0s - loss: 0.1666 - accuracy: 0.9306 - val_loss: 0.2423 - val_accuracy: 0.9250 - 33ms/epoch - 3ms/step\n",
      "Epoch 23/100\n",
      "12/12 - 0s - loss: 0.1677 - accuracy: 0.9167 - val_loss: 0.2735 - val_accuracy: 0.9000 - 37ms/epoch - 3ms/step\n",
      "Epoch 24/100\n",
      "12/12 - 0s - loss: 0.1721 - accuracy: 0.9278 - val_loss: 0.2697 - val_accuracy: 0.9000 - 40ms/epoch - 3ms/step\n",
      "Epoch 25/100\n",
      "12/12 - 0s - loss: 0.1709 - accuracy: 0.9139 - val_loss: 0.2452 - val_accuracy: 0.9250 - 32ms/epoch - 3ms/step\n",
      "Epoch 26/100\n",
      "12/12 - 0s - loss: 0.1620 - accuracy: 0.9306 - val_loss: 0.2494 - val_accuracy: 0.9250 - 32ms/epoch - 3ms/step\n",
      "Epoch 27/100\n",
      "12/12 - 0s - loss: 0.1583 - accuracy: 0.9306 - val_loss: 0.2747 - val_accuracy: 0.9250 - 32ms/epoch - 3ms/step\n",
      "Epoch 28/100\n",
      "12/12 - 0s - loss: 0.1647 - accuracy: 0.9222 - val_loss: 0.2475 - val_accuracy: 0.9250 - 28ms/epoch - 2ms/step\n",
      "Epoch 29/100\n",
      "12/12 - 0s - loss: 0.1764 - accuracy: 0.9194 - val_loss: 0.2411 - val_accuracy: 0.9250 - 36ms/epoch - 3ms/step\n",
      "Epoch 30/100\n",
      "12/12 - 0s - loss: 0.1632 - accuracy: 0.9139 - val_loss: 0.2949 - val_accuracy: 0.9000 - 32ms/epoch - 3ms/step\n",
      "Epoch 31/100\n",
      "12/12 - 0s - loss: 0.1618 - accuracy: 0.9167 - val_loss: 0.2838 - val_accuracy: 0.9000 - 41ms/epoch - 3ms/step\n",
      "Epoch 32/100\n",
      "12/12 - 0s - loss: 0.1612 - accuracy: 0.9250 - val_loss: 0.2537 - val_accuracy: 0.9250 - 33ms/epoch - 3ms/step\n",
      "Epoch 33/100\n",
      "12/12 - 0s - loss: 0.1587 - accuracy: 0.9306 - val_loss: 0.2719 - val_accuracy: 0.9500 - 48ms/epoch - 4ms/step\n",
      "Epoch 34/100\n",
      "12/12 - 0s - loss: 0.1566 - accuracy: 0.9278 - val_loss: 0.2637 - val_accuracy: 0.9250 - 40ms/epoch - 3ms/step\n",
      "Epoch 35/100\n",
      "12/12 - 0s - loss: 0.1566 - accuracy: 0.9306 - val_loss: 0.2523 - val_accuracy: 0.9250 - 40ms/epoch - 3ms/step\n",
      "Epoch 36/100\n",
      "12/12 - 0s - loss: 0.1569 - accuracy: 0.9278 - val_loss: 0.2693 - val_accuracy: 0.9500 - 41ms/epoch - 3ms/step\n",
      "Epoch 37/100\n",
      "12/12 - 0s - loss: 0.1524 - accuracy: 0.9361 - val_loss: 0.2656 - val_accuracy: 0.9250 - 32ms/epoch - 3ms/step\n",
      "Epoch 38/100\n",
      "12/12 - 0s - loss: 0.1492 - accuracy: 0.9333 - val_loss: 0.2812 - val_accuracy: 0.9250 - 32ms/epoch - 3ms/step\n",
      "Epoch 39/100\n",
      "12/12 - 0s - loss: 0.1479 - accuracy: 0.9278 - val_loss: 0.2768 - val_accuracy: 0.9500 - 32ms/epoch - 3ms/step\n",
      "Epoch 40/100\n",
      "12/12 - 0s - loss: 0.1505 - accuracy: 0.9361 - val_loss: 0.3109 - val_accuracy: 0.9250 - 38ms/epoch - 3ms/step\n",
      "Epoch 41/100\n",
      "12/12 - 0s - loss: 0.1558 - accuracy: 0.9361 - val_loss: 0.2680 - val_accuracy: 0.9250 - 37ms/epoch - 3ms/step\n",
      "Epoch 42/100\n",
      "12/12 - 0s - loss: 0.1476 - accuracy: 0.9333 - val_loss: 0.2972 - val_accuracy: 0.9250 - 31ms/epoch - 3ms/step\n",
      "Epoch 43/100\n",
      "12/12 - 0s - loss: 0.1498 - accuracy: 0.9278 - val_loss: 0.2808 - val_accuracy: 0.9250 - 38ms/epoch - 3ms/step\n",
      "Epoch 44/100\n",
      "12/12 - 0s - loss: 0.1451 - accuracy: 0.9333 - val_loss: 0.2801 - val_accuracy: 0.9250 - 40ms/epoch - 3ms/step\n",
      "Epoch 45/100\n",
      "12/12 - 0s - loss: 0.1467 - accuracy: 0.9361 - val_loss: 0.2803 - val_accuracy: 0.9250 - 35ms/epoch - 3ms/step\n",
      "Epoch 46/100\n",
      "12/12 - 0s - loss: 0.1439 - accuracy: 0.9306 - val_loss: 0.2790 - val_accuracy: 0.9250 - 41ms/epoch - 3ms/step\n",
      "Epoch 47/100\n",
      "12/12 - 0s - loss: 0.1443 - accuracy: 0.9333 - val_loss: 0.2808 - val_accuracy: 0.9250 - 40ms/epoch - 3ms/step\n",
      "Epoch 48/100\n",
      "12/12 - 0s - loss: 0.1409 - accuracy: 0.9306 - val_loss: 0.2999 - val_accuracy: 0.9250 - 34ms/epoch - 3ms/step\n",
      "Epoch 49/100\n",
      "12/12 - 0s - loss: 0.1482 - accuracy: 0.9250 - val_loss: 0.2820 - val_accuracy: 0.9250 - 75ms/epoch - 6ms/step\n",
      "Epoch 50/100\n",
      "12/12 - 0s - loss: 0.1373 - accuracy: 0.9361 - val_loss: 0.3093 - val_accuracy: 0.9000 - 41ms/epoch - 3ms/step\n",
      "Epoch 51/100\n",
      "12/12 - 0s - loss: 0.1398 - accuracy: 0.9306 - val_loss: 0.2895 - val_accuracy: 0.9500 - 27ms/epoch - 2ms/step\n",
      "Epoch 52/100\n",
      "12/12 - 0s - loss: 0.1419 - accuracy: 0.9333 - val_loss: 0.2856 - val_accuracy: 0.9250 - 39ms/epoch - 3ms/step\n",
      "Epoch 53/100\n",
      "12/12 - 0s - loss: 0.1419 - accuracy: 0.9306 - val_loss: 0.3220 - val_accuracy: 0.9250 - 40ms/epoch - 3ms/step\n",
      "Epoch 54/100\n",
      "12/12 - 0s - loss: 0.1732 - accuracy: 0.9056 - val_loss: 0.2822 - val_accuracy: 0.9500 - 35ms/epoch - 3ms/step\n",
      "Epoch 55/100\n",
      "12/12 - 0s - loss: 0.1544 - accuracy: 0.9139 - val_loss: 0.2820 - val_accuracy: 0.9500 - 33ms/epoch - 3ms/step\n",
      "Epoch 56/100\n",
      "12/12 - 0s - loss: 0.1493 - accuracy: 0.9222 - val_loss: 0.2953 - val_accuracy: 0.9500 - 38ms/epoch - 3ms/step\n",
      "Epoch 57/100\n",
      "12/12 - 0s - loss: 0.1427 - accuracy: 0.9278 - val_loss: 0.2870 - val_accuracy: 0.9250 - 34ms/epoch - 3ms/step\n",
      "Epoch 58/100\n",
      "12/12 - 0s - loss: 0.1380 - accuracy: 0.9389 - val_loss: 0.2905 - val_accuracy: 0.9250 - 31ms/epoch - 3ms/step\n",
      "Epoch 59/100\n",
      "12/12 - 0s - loss: 0.1514 - accuracy: 0.9250 - val_loss: 0.2996 - val_accuracy: 0.9000 - 31ms/epoch - 3ms/step\n",
      "Epoch 60/100\n",
      "12/12 - 0s - loss: 0.1404 - accuracy: 0.9278 - val_loss: 0.3039 - val_accuracy: 0.9250 - 32ms/epoch - 3ms/step\n",
      "Epoch 61/100\n",
      "12/12 - 0s - loss: 0.1392 - accuracy: 0.9389 - val_loss: 0.2947 - val_accuracy: 0.9250 - 32ms/epoch - 3ms/step\n",
      "Epoch 62/100\n",
      "12/12 - 0s - loss: 0.1310 - accuracy: 0.9444 - val_loss: 0.3092 - val_accuracy: 0.9250 - 32ms/epoch - 3ms/step\n",
      "Epoch 63/100\n",
      "12/12 - 0s - loss: 0.1377 - accuracy: 0.9361 - val_loss: 0.2946 - val_accuracy: 0.9500 - 35ms/epoch - 3ms/step\n",
      "Epoch 64/100\n",
      "12/12 - 0s - loss: 0.1329 - accuracy: 0.9333 - val_loss: 0.3127 - val_accuracy: 0.9500 - 41ms/epoch - 3ms/step\n",
      "Epoch 65/100\n",
      "12/12 - 0s - loss: 0.1417 - accuracy: 0.9250 - val_loss: 0.3032 - val_accuracy: 0.9250 - 32ms/epoch - 3ms/step\n",
      "Epoch 66/100\n",
      "12/12 - 0s - loss: 0.1421 - accuracy: 0.9361 - val_loss: 0.2968 - val_accuracy: 0.9500 - 32ms/epoch - 3ms/step\n",
      "Epoch 67/100\n",
      "12/12 - 0s - loss: 0.1640 - accuracy: 0.9250 - val_loss: 0.3191 - val_accuracy: 0.9250 - 40ms/epoch - 3ms/step\n"
     ]
    },
    {
     "name": "stdout",
     "output_type": "stream",
     "text": [
      "Epoch 68/100\n",
      "12/12 - 0s - loss: 0.1603 - accuracy: 0.9194 - val_loss: 0.3384 - val_accuracy: 0.9250 - 34ms/epoch - 3ms/step\n",
      "Epoch 69/100\n",
      "12/12 - 0s - loss: 0.1360 - accuracy: 0.9389 - val_loss: 0.2971 - val_accuracy: 0.9250 - 32ms/epoch - 3ms/step\n",
      "Epoch 70/100\n",
      "12/12 - 0s - loss: 0.1334 - accuracy: 0.9361 - val_loss: 0.3140 - val_accuracy: 0.9500 - 24ms/epoch - 2ms/step\n",
      "Epoch 71/100\n",
      "12/12 - 0s - loss: 0.1413 - accuracy: 0.9417 - val_loss: 0.2945 - val_accuracy: 0.9500 - 34ms/epoch - 3ms/step\n",
      "Epoch 72/100\n",
      "12/12 - 0s - loss: 0.1401 - accuracy: 0.9250 - val_loss: 0.3770 - val_accuracy: 0.9250 - 37ms/epoch - 3ms/step\n",
      "Epoch 73/100\n",
      "12/12 - 0s - loss: 0.1345 - accuracy: 0.9333 - val_loss: 0.2954 - val_accuracy: 0.9500 - 29ms/epoch - 2ms/step\n",
      "Epoch 74/100\n",
      "12/12 - 0s - loss: 0.1405 - accuracy: 0.9250 - val_loss: 0.3568 - val_accuracy: 0.9250 - 32ms/epoch - 3ms/step\n",
      "Epoch 75/100\n",
      "12/12 - 0s - loss: 0.1574 - accuracy: 0.9278 - val_loss: 0.2941 - val_accuracy: 0.9250 - 33ms/epoch - 3ms/step\n",
      "Epoch 76/100\n",
      "12/12 - 0s - loss: 0.1283 - accuracy: 0.9389 - val_loss: 0.3165 - val_accuracy: 0.9250 - 24ms/epoch - 2ms/step\n",
      "Epoch 77/100\n",
      "12/12 - 0s - loss: 0.1288 - accuracy: 0.9389 - val_loss: 0.3029 - val_accuracy: 0.9250 - 28ms/epoch - 2ms/step\n",
      "Epoch 78/100\n",
      "12/12 - 0s - loss: 0.1260 - accuracy: 0.9472 - val_loss: 0.3185 - val_accuracy: 0.9250 - 32ms/epoch - 3ms/step\n",
      "Epoch 79/100\n",
      "12/12 - 0s - loss: 0.1304 - accuracy: 0.9333 - val_loss: 0.3080 - val_accuracy: 0.9250 - 32ms/epoch - 3ms/step\n",
      "Epoch 80/100\n",
      "12/12 - 0s - loss: 0.1412 - accuracy: 0.9306 - val_loss: 0.3269 - val_accuracy: 0.9250 - 33ms/epoch - 3ms/step\n",
      "Epoch 81/100\n",
      "12/12 - 0s - loss: 0.1309 - accuracy: 0.9444 - val_loss: 0.3070 - val_accuracy: 0.9250 - 32ms/epoch - 3ms/step\n",
      "Epoch 82/100\n",
      "12/12 - 0s - loss: 0.1276 - accuracy: 0.9361 - val_loss: 0.3122 - val_accuracy: 0.9250 - 32ms/epoch - 3ms/step\n",
      "Epoch 83/100\n",
      "12/12 - 0s - loss: 0.1290 - accuracy: 0.9444 - val_loss: 0.3376 - val_accuracy: 0.9500 - 32ms/epoch - 3ms/step\n",
      "Epoch 84/100\n",
      "12/12 - 0s - loss: 0.1310 - accuracy: 0.9333 - val_loss: 0.3171 - val_accuracy: 0.9250 - 32ms/epoch - 3ms/step\n",
      "Epoch 85/100\n",
      "12/12 - 0s - loss: 0.1263 - accuracy: 0.9361 - val_loss: 0.3252 - val_accuracy: 0.9250 - 32ms/epoch - 3ms/step\n",
      "Epoch 86/100\n",
      "12/12 - 0s - loss: 0.1405 - accuracy: 0.9278 - val_loss: 0.3328 - val_accuracy: 0.9250 - 30ms/epoch - 3ms/step\n",
      "Epoch 87/100\n",
      "12/12 - 0s - loss: 0.1353 - accuracy: 0.9306 - val_loss: 0.3297 - val_accuracy: 0.9500 - 32ms/epoch - 3ms/step\n",
      "Epoch 88/100\n",
      "12/12 - 0s - loss: 0.1592 - accuracy: 0.9139 - val_loss: 0.2985 - val_accuracy: 0.9250 - 33ms/epoch - 3ms/step\n",
      "Epoch 89/100\n",
      "12/12 - 0s - loss: 0.1289 - accuracy: 0.9417 - val_loss: 0.3253 - val_accuracy: 0.9250 - 32ms/epoch - 3ms/step\n",
      "Epoch 90/100\n",
      "12/12 - 0s - loss: 0.1377 - accuracy: 0.9278 - val_loss: 0.3445 - val_accuracy: 0.9000 - 33ms/epoch - 3ms/step\n",
      "Epoch 91/100\n",
      "12/12 - 0s - loss: 0.1300 - accuracy: 0.9333 - val_loss: 0.3164 - val_accuracy: 0.9500 - 32ms/epoch - 3ms/step\n",
      "Epoch 92/100\n",
      "12/12 - 0s - loss: 0.1220 - accuracy: 0.9389 - val_loss: 0.3229 - val_accuracy: 0.9250 - 32ms/epoch - 3ms/step\n",
      "Epoch 93/100\n",
      "12/12 - 0s - loss: 0.1232 - accuracy: 0.9417 - val_loss: 0.3217 - val_accuracy: 0.9250 - 33ms/epoch - 3ms/step\n",
      "Epoch 94/100\n",
      "12/12 - 0s - loss: 0.1250 - accuracy: 0.9472 - val_loss: 0.3289 - val_accuracy: 0.9250 - 32ms/epoch - 3ms/step\n",
      "Epoch 95/100\n",
      "12/12 - 0s - loss: 0.1237 - accuracy: 0.9444 - val_loss: 0.3265 - val_accuracy: 0.9500 - 32ms/epoch - 3ms/step\n",
      "Epoch 96/100\n",
      "12/12 - 0s - loss: 0.1303 - accuracy: 0.9444 - val_loss: 0.3276 - val_accuracy: 0.9250 - 32ms/epoch - 3ms/step\n",
      "Epoch 97/100\n",
      "12/12 - 0s - loss: 0.1240 - accuracy: 0.9472 - val_loss: 0.3374 - val_accuracy: 0.9500 - 26ms/epoch - 2ms/step\n",
      "Epoch 98/100\n",
      "12/12 - 0s - loss: 0.1188 - accuracy: 0.9472 - val_loss: 0.3335 - val_accuracy: 0.9250 - 29ms/epoch - 2ms/step\n",
      "Epoch 99/100\n",
      "12/12 - 0s - loss: 0.1451 - accuracy: 0.9278 - val_loss: 0.3623 - val_accuracy: 0.9250 - 29ms/epoch - 2ms/step\n",
      "Epoch 100/100\n",
      "12/12 - 0s - loss: 0.1216 - accuracy: 0.9389 - val_loss: 0.3331 - val_accuracy: 0.9250 - 32ms/epoch - 3ms/step\n"
     ]
    }
   ],
   "source": [
    "# Fitting the model on train data\n",
    "history_2 = model_2.fit(X_train_normalized,y_train,validation_split = 0.1,epochs = 100,verbose = 2)"
   ]
  },
  {
   "cell_type": "code",
   "execution_count": 30,
   "metadata": {
    "colab": {
     "base_uri": "https://localhost:8080/",
     "height": 295
    },
    "id": "i96cw1viV9om",
    "outputId": "ae2f5543-642a-4310-cdeb-1fb9c3885d23"
   },
   "outputs": [
    {
     "data": {
      "image/png": "[encoded data removed]",
      "text/plain": [
       "<Figure size 432x288 with 1 Axes>"
      ]
     },
     "metadata": {
      "needs_background": "light"
     },
     "output_type": "display_data"
    }
   ],
   "source": [
    "plt.plot(history_2.history['loss'])\n",
    "\n",
    "plt.plot(history_2.history['val_loss'])\n",
    "\n",
    "plt.title('loss vs Epochs')\n",
    "\n",
    "plt.ylabel('loss')\n",
    "\n",
    "plt.xlabel('Epoch')\n",
    "\n",
    "plt.legend(['Train', 'Validation'], loc = 'lower right')\n",
    "\n",
    "plt.show()"
   ]
  },
  {
   "cell_type": "markdown",
   "metadata": {
    "id": "Iu0UbJjKAi8z"
   },
   "source": [
    "**Observations:** \n",
    "\n",
    "- From the above plot we can say that the model is overfitting."
   ]
  },
  {
   "cell_type": "markdown",
   "metadata": {
    "id": "TLXYwazvu0jQ"
   },
   "source": [
    "Let's try to further tune some of the hyper-parameters and check if we can overcome the overfitting issue.\n",
    "\n",
    "We will use learning_rate = 0.001 for the optimizer in the training process"
   ]
  },
  {
   "cell_type": "code",
   "execution_count": 31,
   "metadata": {
    "id": "N7aNw91z_wgD"
   },
   "outputs": [],
   "source": [
    "# Clearing the backend\n",
    "from tensorflow.keras import backend\n",
    "\n",
    "backend.clear_session()"
   ]
  },
  {
   "cell_type": "code",
   "execution_count": 32,
   "metadata": {
    "id": "1HMdf0uSO3uw"
   },
   "outputs": [],
   "source": [
    "# Fixing the seed for random number generators\n",
    "np.random.seed(42)\n",
    "\n",
    "import random\n",
    "\n",
    "random.seed(42)\n",
    "\n",
    "tf.random.set_seed(42)"
   ]
  },
  {
   "cell_type": "code",
   "execution_count": null,
   "metadata": {},
   "outputs": [],
   "source": [
    "# We will be adding the layers sequentially\n",
    "model_3 = Sequential()\n",
    "# First hidden layer with 128 neurons and relu activation function, the input_shape tuple denotes number of independent variables\n",
    "model_2.add(Dense(128, activation = 'relu', input_shape = (11, )))\n",
    "\n",
    "# Second hidden layer with 64 neurons and relu activation function\n",
    "model_3.add(Dense(64, activation = 'relu'))\n",
    "\n",
    "# Second hidden layer with 32 neurons and relu activation function\n",
    "model_3.add(Dense(32, activation = 'relu'))\n",
    "\n",
    "# Output layer with only one neuron and sigmoid as activation function which will give the probability of students getting admitted into UCLA  \n",
    "model_3.add(Dense(1, activation = 'sigmoid'))"
   ]
  },
  {
   "cell_type": "code",
   "execution_count": 34,
   "metadata": {
    "colab": {
     "base_uri": "https://localhost:8080/"
    },
    "id": "_kUFccLDy48t",
    "outputId": "9fec9e52-1e08-413f-a165-dd2b4107c163"
   },
   "outputs": [
    {
     "name": "stdout",
     "output_type": "stream",
     "text": [
      "Model: \"sequential\"\n",
      "_________________________________________________________________\n",
      " Layer (type)                Output Shape              Param #   \n",
      "=================================================================\n",
      " dense (Dense)               (None, 128)               1536      \n",
      "                                                                 \n",
      " dense_1 (Dense)             (None, 64)                8256      \n",
      "                                                                 \n",
      " dense_2 (Dense)             (None, 32)                2080      \n",
      "                                                                 \n",
      " dense_3 (Dense)             (None, 1)                 33        \n",
      "                                                                 \n",
      "=================================================================\n",
      "Total params: 11,905\n",
      "Trainable params: 11,905\n",
      "Non-trainable params: 0\n",
      "_________________________________________________________________\n"
     ]
    }
   ],
   "source": [
    "# Compliling the model with binary crossentropy as loss, Adam as optimizer with 0.001 as learning rate and accuracy as metrics\n",
    "model_3.compile(loss = 'binary_crossentropy', optimizer = tf.keras.optimizers.Adam(learning_rate = 0.001), metrics = ['accuracy'])\n",
    "# Printing the summary of the model\n",
    "model_3.summary()"
   ]
  },
  {
   "cell_type": "markdown",
   "metadata": {
    "id": "8LBADqBprJ7J"
   },
   "source": [
    "- Notice that the number of trainable parameters has increased substantially in comparison to previous models."
   ]
  },
  {
   "cell_type": "code",
   "execution_count": 35,
   "metadata": {
    "colab": {
     "base_uri": "https://localhost:8080/"
    },
    "id": "OLN7jZWmy_fb",
    "outputId": "0e78e20c-3af2-4576-be97-fa0ac08da23d"
   },
   "outputs": [
    {
     "name": "stdout",
     "output_type": "stream",
     "text": [
      "Epoch 1/200\n",
      "12/12 - 0s - loss: 0.6501 - accuracy: 0.7250 - val_loss: 0.6265 - val_accuracy: 0.8250 - 375ms/epoch - 31ms/step\n",
      "Epoch 2/200\n",
      "12/12 - 0s - loss: 0.5610 - accuracy: 0.8333 - val_loss: 0.5304 - val_accuracy: 0.8250 - 32ms/epoch - 3ms/step\n",
      "Epoch 3/200\n",
      "12/12 - 0s - loss: 0.4533 - accuracy: 0.8444 - val_loss: 0.4049 - val_accuracy: 0.9000 - 40ms/epoch - 3ms/step\n",
      "Epoch 4/200\n",
      "12/12 - 0s - loss: 0.3618 - accuracy: 0.8722 - val_loss: 0.3132 - val_accuracy: 0.9000 - 36ms/epoch - 3ms/step\n",
      "Epoch 5/200\n",
      "12/12 - 0s - loss: 0.3168 - accuracy: 0.8806 - val_loss: 0.2824 - val_accuracy: 0.9000 - 46ms/epoch - 4ms/step\n",
      "Epoch 6/200\n",
      "12/12 - 0s - loss: 0.2940 - accuracy: 0.8667 - val_loss: 0.2822 - val_accuracy: 0.9000 - 32ms/epoch - 3ms/step\n",
      "Epoch 7/200\n",
      "12/12 - 0s - loss: 0.2700 - accuracy: 0.8833 - val_loss: 0.2946 - val_accuracy: 0.9250 - 39ms/epoch - 3ms/step\n",
      "Epoch 8/200\n",
      "12/12 - 0s - loss: 0.2551 - accuracy: 0.8861 - val_loss: 0.2755 - val_accuracy: 0.9250 - 32ms/epoch - 3ms/step\n",
      "Epoch 9/200\n",
      "12/12 - 0s - loss: 0.2414 - accuracy: 0.8944 - val_loss: 0.2628 - val_accuracy: 0.9250 - 37ms/epoch - 3ms/step\n",
      "Epoch 10/200\n",
      "12/12 - 0s - loss: 0.2269 - accuracy: 0.8917 - val_loss: 0.2607 - val_accuracy: 0.9250 - 35ms/epoch - 3ms/step\n",
      "Epoch 11/200\n",
      "12/12 - 0s - loss: 0.2233 - accuracy: 0.9083 - val_loss: 0.3151 - val_accuracy: 0.9250 - 42ms/epoch - 3ms/step\n",
      "Epoch 12/200\n",
      "12/12 - 0s - loss: 0.2224 - accuracy: 0.9083 - val_loss: 0.2362 - val_accuracy: 0.9500 - 38ms/epoch - 3ms/step\n",
      "Epoch 13/200\n",
      "12/12 - 0s - loss: 0.2061 - accuracy: 0.8972 - val_loss: 0.2745 - val_accuracy: 0.9250 - 32ms/epoch - 3ms/step\n",
      "Epoch 14/200\n",
      "12/12 - 0s - loss: 0.2150 - accuracy: 0.9056 - val_loss: 0.2671 - val_accuracy: 0.9250 - 38ms/epoch - 3ms/step\n",
      "Epoch 15/200\n",
      "12/12 - 0s - loss: 0.2172 - accuracy: 0.9139 - val_loss: 0.2260 - val_accuracy: 0.9250 - 32ms/epoch - 3ms/step\n",
      "Epoch 16/200\n",
      "12/12 - 0s - loss: 0.2038 - accuracy: 0.8944 - val_loss: 0.2401 - val_accuracy: 0.9250 - 32ms/epoch - 3ms/step\n",
      "Epoch 17/200\n",
      "12/12 - 0s - loss: 0.1939 - accuracy: 0.9000 - val_loss: 0.2482 - val_accuracy: 0.9500 - 40ms/epoch - 3ms/step\n",
      "Epoch 18/200\n",
      "12/12 - 0s - loss: 0.2080 - accuracy: 0.9028 - val_loss: 0.2261 - val_accuracy: 0.9250 - 31ms/epoch - 3ms/step\n",
      "Epoch 19/200\n",
      "12/12 - 0s - loss: 0.1891 - accuracy: 0.9056 - val_loss: 0.2810 - val_accuracy: 0.9250 - 32ms/epoch - 3ms/step\n",
      "Epoch 20/200\n",
      "12/12 - 0s - loss: 0.1772 - accuracy: 0.9139 - val_loss: 0.2367 - val_accuracy: 0.9250 - 40ms/epoch - 3ms/step\n",
      "Epoch 21/200\n",
      "12/12 - 0s - loss: 0.1715 - accuracy: 0.9194 - val_loss: 0.2461 - val_accuracy: 0.9250 - 32ms/epoch - 3ms/step\n",
      "Epoch 22/200\n",
      "12/12 - 0s - loss: 0.1666 - accuracy: 0.9306 - val_loss: 0.2423 - val_accuracy: 0.9250 - 31ms/epoch - 3ms/step\n",
      "Epoch 23/200\n",
      "12/12 - 0s - loss: 0.1677 - accuracy: 0.9167 - val_loss: 0.2735 - val_accuracy: 0.9000 - 40ms/epoch - 3ms/step\n",
      "Epoch 24/200\n",
      "12/12 - 0s - loss: 0.1721 - accuracy: 0.9278 - val_loss: 0.2697 - val_accuracy: 0.9000 - 40ms/epoch - 3ms/step\n",
      "Epoch 25/200\n",
      "12/12 - 0s - loss: 0.1709 - accuracy: 0.9139 - val_loss: 0.2452 - val_accuracy: 0.9250 - 32ms/epoch - 3ms/step\n",
      "Epoch 26/200\n",
      "12/12 - 0s - loss: 0.1620 - accuracy: 0.9306 - val_loss: 0.2494 - val_accuracy: 0.9250 - 44ms/epoch - 4ms/step\n",
      "Epoch 27/200\n",
      "12/12 - 0s - loss: 0.1583 - accuracy: 0.9306 - val_loss: 0.2747 - val_accuracy: 0.9250 - 38ms/epoch - 3ms/step\n",
      "Epoch 28/200\n",
      "12/12 - 0s - loss: 0.1647 - accuracy: 0.9222 - val_loss: 0.2475 - val_accuracy: 0.9250 - 42ms/epoch - 3ms/step\n",
      "Epoch 29/200\n",
      "12/12 - 0s - loss: 0.1764 - accuracy: 0.9194 - val_loss: 0.2411 - val_accuracy: 0.9250 - 38ms/epoch - 3ms/step\n",
      "Epoch 30/200\n",
      "12/12 - 0s - loss: 0.1632 - accuracy: 0.9139 - val_loss: 0.2949 - val_accuracy: 0.9000 - 69ms/epoch - 6ms/step\n",
      "Epoch 31/200\n",
      "12/12 - 0s - loss: 0.1618 - accuracy: 0.9167 - val_loss: 0.2838 - val_accuracy: 0.9000 - 41ms/epoch - 3ms/step\n",
      "Epoch 32/200\n",
      "12/12 - 0s - loss: 0.1612 - accuracy: 0.9250 - val_loss: 0.2537 - val_accuracy: 0.9250 - 33ms/epoch - 3ms/step\n",
      "Epoch 33/200\n",
      "12/12 - 0s - loss: 0.1587 - accuracy: 0.9306 - val_loss: 0.2719 - val_accuracy: 0.9500 - 39ms/epoch - 3ms/step\n",
      "Epoch 34/200\n",
      "12/12 - 0s - loss: 0.1566 - accuracy: 0.9278 - val_loss: 0.2637 - val_accuracy: 0.9250 - 35ms/epoch - 3ms/step\n",
      "Epoch 35/200\n",
      "12/12 - 0s - loss: 0.1566 - accuracy: 0.9306 - val_loss: 0.2523 - val_accuracy: 0.9250 - 34ms/epoch - 3ms/step\n",
      "Epoch 36/200\n",
      "12/12 - 0s - loss: 0.1569 - accuracy: 0.9278 - val_loss: 0.2693 - val_accuracy: 0.9500 - 32ms/epoch - 3ms/step\n",
      "Epoch 37/200\n",
      "12/12 - 0s - loss: 0.1524 - accuracy: 0.9361 - val_loss: 0.2656 - val_accuracy: 0.9250 - 28ms/epoch - 2ms/step\n",
      "Epoch 38/200\n",
      "12/12 - 0s - loss: 0.1492 - accuracy: 0.9333 - val_loss: 0.2812 - val_accuracy: 0.9250 - 32ms/epoch - 3ms/step\n",
      "Epoch 39/200\n",
      "12/12 - 0s - loss: 0.1479 - accuracy: 0.9278 - val_loss: 0.2768 - val_accuracy: 0.9500 - 41ms/epoch - 3ms/step\n",
      "Epoch 40/200\n",
      "12/12 - 0s - loss: 0.1505 - accuracy: 0.9361 - val_loss: 0.3109 - val_accuracy: 0.9250 - 35ms/epoch - 3ms/step\n",
      "Epoch 41/200\n",
      "12/12 - 0s - loss: 0.1558 - accuracy: 0.9361 - val_loss: 0.2680 - val_accuracy: 0.9250 - 36ms/epoch - 3ms/step\n",
      "Epoch 42/200\n",
      "12/12 - 0s - loss: 0.1476 - accuracy: 0.9333 - val_loss: 0.2972 - val_accuracy: 0.9250 - 40ms/epoch - 3ms/step\n",
      "Epoch 43/200\n",
      "12/12 - 0s - loss: 0.1498 - accuracy: 0.9278 - val_loss: 0.2808 - val_accuracy: 0.9250 - 41ms/epoch - 3ms/step\n",
      "Epoch 44/200\n",
      "12/12 - 0s - loss: 0.1451 - accuracy: 0.9333 - val_loss: 0.2801 - val_accuracy: 0.9250 - 45ms/epoch - 4ms/step\n",
      "Epoch 45/200\n",
      "12/12 - 0s - loss: 0.1467 - accuracy: 0.9361 - val_loss: 0.2803 - val_accuracy: 0.9250 - 37ms/epoch - 3ms/step\n",
      "Epoch 46/200\n",
      "12/12 - 0s - loss: 0.1439 - accuracy: 0.9306 - val_loss: 0.2790 - val_accuracy: 0.9250 - 32ms/epoch - 3ms/step\n",
      "Epoch 47/200\n",
      "12/12 - 0s - loss: 0.1443 - accuracy: 0.9333 - val_loss: 0.2808 - val_accuracy: 0.9250 - 36ms/epoch - 3ms/step\n",
      "Epoch 48/200\n",
      "12/12 - 0s - loss: 0.1409 - accuracy: 0.9306 - val_loss: 0.2999 - val_accuracy: 0.9250 - 43ms/epoch - 4ms/step\n",
      "Epoch 49/200\n",
      "12/12 - 0s - loss: 0.1482 - accuracy: 0.9250 - val_loss: 0.2820 - val_accuracy: 0.9250 - 32ms/epoch - 3ms/step\n",
      "Epoch 50/200\n",
      "12/12 - 0s - loss: 0.1373 - accuracy: 0.9361 - val_loss: 0.3093 - val_accuracy: 0.9000 - 32ms/epoch - 3ms/step\n",
      "Epoch 51/200\n",
      "12/12 - 0s - loss: 0.1398 - accuracy: 0.9306 - val_loss: 0.2895 - val_accuracy: 0.9500 - 40ms/epoch - 3ms/step\n",
      "Epoch 52/200\n",
      "12/12 - 0s - loss: 0.1419 - accuracy: 0.9333 - val_loss: 0.2856 - val_accuracy: 0.9250 - 64ms/epoch - 5ms/step\n",
      "Epoch 53/200\n",
      "12/12 - 0s - loss: 0.1419 - accuracy: 0.9306 - val_loss: 0.3220 - val_accuracy: 0.9250 - 48ms/epoch - 4ms/step\n",
      "Epoch 54/200\n",
      "12/12 - 0s - loss: 0.1732 - accuracy: 0.9056 - val_loss: 0.2822 - val_accuracy: 0.9500 - 31ms/epoch - 3ms/step\n",
      "Epoch 55/200\n",
      "12/12 - 0s - loss: 0.1544 - accuracy: 0.9139 - val_loss: 0.2820 - val_accuracy: 0.9500 - 33ms/epoch - 3ms/step\n",
      "Epoch 56/200\n",
      "12/12 - 0s - loss: 0.1493 - accuracy: 0.9222 - val_loss: 0.2953 - val_accuracy: 0.9500 - 32ms/epoch - 3ms/step\n",
      "Epoch 57/200\n",
      "12/12 - 0s - loss: 0.1427 - accuracy: 0.9278 - val_loss: 0.2870 - val_accuracy: 0.9250 - 40ms/epoch - 3ms/step\n",
      "Epoch 58/200\n",
      "12/12 - 0s - loss: 0.1380 - accuracy: 0.9389 - val_loss: 0.2905 - val_accuracy: 0.9250 - 32ms/epoch - 3ms/step\n",
      "Epoch 59/200\n",
      "12/12 - 0s - loss: 0.1514 - accuracy: 0.9250 - val_loss: 0.2996 - val_accuracy: 0.9000 - 32ms/epoch - 3ms/step\n",
      "Epoch 60/200\n",
      "12/12 - 0s - loss: 0.1404 - accuracy: 0.9278 - val_loss: 0.3039 - val_accuracy: 0.9250 - 31ms/epoch - 3ms/step\n",
      "Epoch 61/200\n",
      "12/12 - 0s - loss: 0.1392 - accuracy: 0.9389 - val_loss: 0.2947 - val_accuracy: 0.9250 - 41ms/epoch - 3ms/step\n",
      "Epoch 62/200\n",
      "12/12 - 0s - loss: 0.1310 - accuracy: 0.9444 - val_loss: 0.3092 - val_accuracy: 0.9250 - 32ms/epoch - 3ms/step\n",
      "Epoch 63/200\n",
      "12/12 - 0s - loss: 0.1377 - accuracy: 0.9361 - val_loss: 0.2946 - val_accuracy: 0.9500 - 26ms/epoch - 2ms/step\n",
      "Epoch 64/200\n",
      "12/12 - 0s - loss: 0.1329 - accuracy: 0.9333 - val_loss: 0.3127 - val_accuracy: 0.9500 - 32ms/epoch - 3ms/step\n",
      "Epoch 65/200\n",
      "12/12 - 0s - loss: 0.1417 - accuracy: 0.9250 - val_loss: 0.3032 - val_accuracy: 0.9250 - 34ms/epoch - 3ms/step\n",
      "Epoch 66/200\n",
      "12/12 - 0s - loss: 0.1421 - accuracy: 0.9361 - val_loss: 0.2968 - val_accuracy: 0.9500 - 32ms/epoch - 3ms/step\n",
      "Epoch 67/200\n",
      "12/12 - 0s - loss: 0.1640 - accuracy: 0.9250 - val_loss: 0.3191 - val_accuracy: 0.9250 - 40ms/epoch - 3ms/step\n"
     ]
    },
    {
     "name": "stdout",
     "output_type": "stream",
     "text": [
      "Epoch 68/200\n",
      "12/12 - 0s - loss: 0.1603 - accuracy: 0.9194 - val_loss: 0.3384 - val_accuracy: 0.9250 - 32ms/epoch - 3ms/step\n",
      "Epoch 69/200\n",
      "12/12 - 0s - loss: 0.1360 - accuracy: 0.9389 - val_loss: 0.2971 - val_accuracy: 0.9250 - 32ms/epoch - 3ms/step\n",
      "Epoch 70/200\n",
      "12/12 - 0s - loss: 0.1334 - accuracy: 0.9361 - val_loss: 0.3140 - val_accuracy: 0.9500 - 32ms/epoch - 3ms/step\n",
      "Epoch 71/200\n",
      "12/12 - 0s - loss: 0.1413 - accuracy: 0.9417 - val_loss: 0.2945 - val_accuracy: 0.9500 - 40ms/epoch - 3ms/step\n",
      "Epoch 72/200\n",
      "12/12 - 0s - loss: 0.1401 - accuracy: 0.9250 - val_loss: 0.3770 - val_accuracy: 0.9250 - 34ms/epoch - 3ms/step\n",
      "Epoch 73/200\n",
      "12/12 - 0s - loss: 0.1345 - accuracy: 0.9333 - val_loss: 0.2954 - val_accuracy: 0.9500 - 40ms/epoch - 3ms/step\n",
      "Epoch 74/200\n",
      "12/12 - 0s - loss: 0.1405 - accuracy: 0.9250 - val_loss: 0.3568 - val_accuracy: 0.9250 - 32ms/epoch - 3ms/step\n",
      "Epoch 75/200\n",
      "12/12 - 0s - loss: 0.1574 - accuracy: 0.9278 - val_loss: 0.2941 - val_accuracy: 0.9250 - 40ms/epoch - 3ms/step\n",
      "Epoch 76/200\n",
      "12/12 - 0s - loss: 0.1283 - accuracy: 0.9389 - val_loss: 0.3165 - val_accuracy: 0.9250 - 32ms/epoch - 3ms/step\n",
      "Epoch 77/200\n",
      "12/12 - 0s - loss: 0.1288 - accuracy: 0.9389 - val_loss: 0.3029 - val_accuracy: 0.9250 - 31ms/epoch - 3ms/step\n",
      "Epoch 78/200\n",
      "12/12 - 0s - loss: 0.1260 - accuracy: 0.9472 - val_loss: 0.3185 - val_accuracy: 0.9250 - 44ms/epoch - 4ms/step\n",
      "Epoch 79/200\n",
      "12/12 - 0s - loss: 0.1304 - accuracy: 0.9333 - val_loss: 0.3080 - val_accuracy: 0.9250 - 33ms/epoch - 3ms/step\n",
      "Epoch 80/200\n",
      "12/12 - 0s - loss: 0.1412 - accuracy: 0.9306 - val_loss: 0.3269 - val_accuracy: 0.9250 - 31ms/epoch - 3ms/step\n",
      "Epoch 81/200\n",
      "12/12 - 0s - loss: 0.1309 - accuracy: 0.9444 - val_loss: 0.3070 - val_accuracy: 0.9250 - 32ms/epoch - 3ms/step\n",
      "Epoch 82/200\n",
      "12/12 - 0s - loss: 0.1276 - accuracy: 0.9361 - val_loss: 0.3122 - val_accuracy: 0.9250 - 27ms/epoch - 2ms/step\n",
      "Epoch 83/200\n",
      "12/12 - 0s - loss: 0.1290 - accuracy: 0.9444 - val_loss: 0.3376 - val_accuracy: 0.9500 - 40ms/epoch - 3ms/step\n",
      "Epoch 84/200\n",
      "12/12 - 0s - loss: 0.1310 - accuracy: 0.9333 - val_loss: 0.3171 - val_accuracy: 0.9250 - 33ms/epoch - 3ms/step\n",
      "Epoch 85/200\n",
      "12/12 - 0s - loss: 0.1263 - accuracy: 0.9361 - val_loss: 0.3252 - val_accuracy: 0.9250 - 35ms/epoch - 3ms/step\n",
      "Epoch 86/200\n",
      "12/12 - 0s - loss: 0.1405 - accuracy: 0.9278 - val_loss: 0.3328 - val_accuracy: 0.9250 - 33ms/epoch - 3ms/step\n",
      "Epoch 87/200\n",
      "12/12 - 0s - loss: 0.1353 - accuracy: 0.9306 - val_loss: 0.3297 - val_accuracy: 0.9500 - 26ms/epoch - 2ms/step\n",
      "Epoch 88/200\n",
      "12/12 - 0s - loss: 0.1592 - accuracy: 0.9139 - val_loss: 0.2985 - val_accuracy: 0.9250 - 38ms/epoch - 3ms/step\n",
      "Epoch 89/200\n",
      "12/12 - 0s - loss: 0.1289 - accuracy: 0.9417 - val_loss: 0.3253 - val_accuracy: 0.9250 - 29ms/epoch - 2ms/step\n",
      "Epoch 90/200\n",
      "12/12 - 0s - loss: 0.1377 - accuracy: 0.9278 - val_loss: 0.3445 - val_accuracy: 0.9000 - 24ms/epoch - 2ms/step\n",
      "Epoch 91/200\n",
      "12/12 - 0s - loss: 0.1300 - accuracy: 0.9333 - val_loss: 0.3164 - val_accuracy: 0.9500 - 32ms/epoch - 3ms/step\n",
      "Epoch 92/200\n",
      "12/12 - 0s - loss: 0.1220 - accuracy: 0.9389 - val_loss: 0.3229 - val_accuracy: 0.9250 - 41ms/epoch - 3ms/step\n",
      "Epoch 93/200\n",
      "12/12 - 0s - loss: 0.1232 - accuracy: 0.9417 - val_loss: 0.3217 - val_accuracy: 0.9250 - 39ms/epoch - 3ms/step\n",
      "Epoch 94/200\n",
      "12/12 - 0s - loss: 0.1250 - accuracy: 0.9472 - val_loss: 0.3289 - val_accuracy: 0.9250 - 32ms/epoch - 3ms/step\n",
      "Epoch 95/200\n",
      "12/12 - 0s - loss: 0.1237 - accuracy: 0.9444 - val_loss: 0.3265 - val_accuracy: 0.9500 - 28ms/epoch - 2ms/step\n",
      "Epoch 96/200\n",
      "12/12 - 0s - loss: 0.1303 - accuracy: 0.9444 - val_loss: 0.3276 - val_accuracy: 0.9250 - 32ms/epoch - 3ms/step\n",
      "Epoch 97/200\n",
      "12/12 - 0s - loss: 0.1240 - accuracy: 0.9472 - val_loss: 0.3374 - val_accuracy: 0.9500 - 32ms/epoch - 3ms/step\n",
      "Epoch 98/200\n",
      "12/12 - 0s - loss: 0.1188 - accuracy: 0.9472 - val_loss: 0.3335 - val_accuracy: 0.9250 - 34ms/epoch - 3ms/step\n",
      "Epoch 99/200\n",
      "12/12 - 0s - loss: 0.1451 - accuracy: 0.9278 - val_loss: 0.3623 - val_accuracy: 0.9250 - 32ms/epoch - 3ms/step\n",
      "Epoch 100/200\n",
      "12/12 - 0s - loss: 0.1216 - accuracy: 0.9389 - val_loss: 0.3331 - val_accuracy: 0.9250 - 33ms/epoch - 3ms/step\n",
      "Epoch 101/200\n",
      "12/12 - 0s - loss: 0.1252 - accuracy: 0.9444 - val_loss: 0.3344 - val_accuracy: 0.9250 - 32ms/epoch - 3ms/step\n",
      "Epoch 102/200\n",
      "12/12 - 0s - loss: 0.1190 - accuracy: 0.9444 - val_loss: 0.3353 - val_accuracy: 0.9250 - 32ms/epoch - 3ms/step\n",
      "Epoch 103/200\n",
      "12/12 - 0s - loss: 0.1261 - accuracy: 0.9444 - val_loss: 0.3704 - val_accuracy: 0.9250 - 32ms/epoch - 3ms/step\n",
      "Epoch 104/200\n",
      "12/12 - 0s - loss: 0.1362 - accuracy: 0.9417 - val_loss: 0.3389 - val_accuracy: 0.9250 - 38ms/epoch - 3ms/step\n",
      "Epoch 105/200\n",
      "12/12 - 0s - loss: 0.1191 - accuracy: 0.9444 - val_loss: 0.3365 - val_accuracy: 0.9250 - 39ms/epoch - 3ms/step\n",
      "Epoch 106/200\n",
      "12/12 - 0s - loss: 0.1179 - accuracy: 0.9500 - val_loss: 0.3454 - val_accuracy: 0.9250 - 38ms/epoch - 3ms/step\n",
      "Epoch 107/200\n",
      "12/12 - 0s - loss: 0.1308 - accuracy: 0.9389 - val_loss: 0.3230 - val_accuracy: 0.9250 - 34ms/epoch - 3ms/step\n",
      "Epoch 108/200\n",
      "12/12 - 0s - loss: 0.1281 - accuracy: 0.9333 - val_loss: 0.3713 - val_accuracy: 0.9250 - 39ms/epoch - 3ms/step\n",
      "Epoch 109/200\n",
      "12/12 - 0s - loss: 0.1396 - accuracy: 0.9278 - val_loss: 0.3236 - val_accuracy: 0.9250 - 40ms/epoch - 3ms/step\n",
      "Epoch 110/200\n",
      "12/12 - 0s - loss: 0.1272 - accuracy: 0.9389 - val_loss: 0.3251 - val_accuracy: 0.9500 - 32ms/epoch - 3ms/step\n",
      "Epoch 111/200\n",
      "12/12 - 0s - loss: 0.1511 - accuracy: 0.9139 - val_loss: 0.3817 - val_accuracy: 0.9250 - 32ms/epoch - 3ms/step\n",
      "Epoch 112/200\n",
      "12/12 - 0s - loss: 0.1331 - accuracy: 0.9333 - val_loss: 0.3327 - val_accuracy: 0.9250 - 32ms/epoch - 3ms/step\n",
      "Epoch 113/200\n",
      "12/12 - 0s - loss: 0.1179 - accuracy: 0.9556 - val_loss: 0.3599 - val_accuracy: 0.9500 - 31ms/epoch - 3ms/step\n",
      "Epoch 114/200\n",
      "12/12 - 0s - loss: 0.1227 - accuracy: 0.9361 - val_loss: 0.3318 - val_accuracy: 0.9250 - 40ms/epoch - 3ms/step\n",
      "Epoch 115/200\n",
      "12/12 - 0s - loss: 0.1238 - accuracy: 0.9417 - val_loss: 0.3543 - val_accuracy: 0.9250 - 34ms/epoch - 3ms/step\n",
      "Epoch 116/200\n",
      "12/12 - 0s - loss: 0.1177 - accuracy: 0.9556 - val_loss: 0.3362 - val_accuracy: 0.9250 - 32ms/epoch - 3ms/step\n",
      "Epoch 117/200\n",
      "12/12 - 0s - loss: 0.1237 - accuracy: 0.9528 - val_loss: 0.3708 - val_accuracy: 0.9500 - 32ms/epoch - 3ms/step\n",
      "Epoch 118/200\n",
      "12/12 - 0s - loss: 0.1207 - accuracy: 0.9444 - val_loss: 0.3516 - val_accuracy: 0.9500 - 28ms/epoch - 2ms/step\n",
      "Epoch 119/200\n",
      "12/12 - 0s - loss: 0.1200 - accuracy: 0.9417 - val_loss: 0.3516 - val_accuracy: 0.9250 - 32ms/epoch - 3ms/step\n",
      "Epoch 120/200\n",
      "12/12 - 0s - loss: 0.1135 - accuracy: 0.9500 - val_loss: 0.3566 - val_accuracy: 0.9250 - 32ms/epoch - 3ms/step\n",
      "Epoch 121/200\n",
      "12/12 - 0s - loss: 0.1117 - accuracy: 0.9528 - val_loss: 0.3625 - val_accuracy: 0.9250 - 32ms/epoch - 3ms/step\n",
      "Epoch 122/200\n",
      "12/12 - 0s - loss: 0.1147 - accuracy: 0.9417 - val_loss: 0.3519 - val_accuracy: 0.9250 - 40ms/epoch - 3ms/step\n",
      "Epoch 123/200\n",
      "12/12 - 0s - loss: 0.1126 - accuracy: 0.9500 - val_loss: 0.3785 - val_accuracy: 0.9250 - 32ms/epoch - 3ms/step\n",
      "Epoch 124/200\n",
      "12/12 - 0s - loss: 0.1172 - accuracy: 0.9472 - val_loss: 0.3569 - val_accuracy: 0.9250 - 32ms/epoch - 3ms/step\n",
      "Epoch 125/200\n",
      "12/12 - 0s - loss: 0.1129 - accuracy: 0.9528 - val_loss: 0.4005 - val_accuracy: 0.9000 - 32ms/epoch - 3ms/step\n",
      "Epoch 126/200\n",
      "12/12 - 0s - loss: 0.1157 - accuracy: 0.9472 - val_loss: 0.3707 - val_accuracy: 0.9250 - 40ms/epoch - 3ms/step\n",
      "Epoch 127/200\n",
      "12/12 - 0s - loss: 0.1148 - accuracy: 0.9528 - val_loss: 0.3829 - val_accuracy: 0.9500 - 32ms/epoch - 3ms/step\n",
      "Epoch 128/200\n",
      "12/12 - 0s - loss: 0.1238 - accuracy: 0.9472 - val_loss: 0.3691 - val_accuracy: 0.9500 - 32ms/epoch - 3ms/step\n",
      "Epoch 129/200\n",
      "12/12 - 0s - loss: 0.1178 - accuracy: 0.9528 - val_loss: 0.3904 - val_accuracy: 0.9500 - 32ms/epoch - 3ms/step\n",
      "Epoch 130/200\n",
      "12/12 - 0s - loss: 0.1097 - accuracy: 0.9528 - val_loss: 0.3716 - val_accuracy: 0.9250 - 36ms/epoch - 3ms/step\n",
      "Epoch 131/200\n",
      "12/12 - 0s - loss: 0.1122 - accuracy: 0.9472 - val_loss: 0.3782 - val_accuracy: 0.9250 - 32ms/epoch - 3ms/step\n",
      "Epoch 132/200\n",
      "12/12 - 0s - loss: 0.1120 - accuracy: 0.9472 - val_loss: 0.3726 - val_accuracy: 0.9250 - 32ms/epoch - 3ms/step\n",
      "Epoch 133/200\n",
      "12/12 - 0s - loss: 0.1104 - accuracy: 0.9528 - val_loss: 0.3902 - val_accuracy: 0.9250 - 40ms/epoch - 3ms/step\n"
     ]
    },
    {
     "name": "stdout",
     "output_type": "stream",
     "text": [
      "Epoch 134/200\n",
      "12/12 - 0s - loss: 0.1112 - accuracy: 0.9444 - val_loss: 0.3707 - val_accuracy: 0.9250 - 32ms/epoch - 3ms/step\n",
      "Epoch 135/200\n",
      "12/12 - 0s - loss: 0.1155 - accuracy: 0.9528 - val_loss: 0.4298 - val_accuracy: 0.9250 - 35ms/epoch - 3ms/step\n",
      "Epoch 136/200\n",
      "12/12 - 0s - loss: 0.1234 - accuracy: 0.9389 - val_loss: 0.3602 - val_accuracy: 0.9250 - 40ms/epoch - 3ms/step\n",
      "Epoch 137/200\n",
      "12/12 - 0s - loss: 0.1156 - accuracy: 0.9389 - val_loss: 0.4033 - val_accuracy: 0.9500 - 32ms/epoch - 3ms/step\n",
      "Epoch 138/200\n",
      "12/12 - 0s - loss: 0.1158 - accuracy: 0.9472 - val_loss: 0.4092 - val_accuracy: 0.9250 - 32ms/epoch - 3ms/step\n",
      "Epoch 139/200\n",
      "12/12 - 0s - loss: 0.1259 - accuracy: 0.9417 - val_loss: 0.4283 - val_accuracy: 0.9500 - 32ms/epoch - 3ms/step\n",
      "Epoch 140/200\n",
      "12/12 - 0s - loss: 0.1170 - accuracy: 0.9500 - val_loss: 0.3938 - val_accuracy: 0.9250 - 32ms/epoch - 3ms/step\n",
      "Epoch 141/200\n",
      "12/12 - 0s - loss: 0.1185 - accuracy: 0.9556 - val_loss: 0.4152 - val_accuracy: 0.9250 - 33ms/epoch - 3ms/step\n",
      "Epoch 142/200\n",
      "12/12 - 0s - loss: 0.1192 - accuracy: 0.9444 - val_loss: 0.4139 - val_accuracy: 0.9250 - 32ms/epoch - 3ms/step\n",
      "Epoch 143/200\n",
      "12/12 - 0s - loss: 0.1555 - accuracy: 0.9250 - val_loss: 0.3733 - val_accuracy: 0.9500 - 32ms/epoch - 3ms/step\n",
      "Epoch 144/200\n",
      "12/12 - 0s - loss: 0.1266 - accuracy: 0.9333 - val_loss: 0.4322 - val_accuracy: 0.9250 - 33ms/epoch - 3ms/step\n",
      "Epoch 145/200\n",
      "12/12 - 0s - loss: 0.1134 - accuracy: 0.9500 - val_loss: 0.3881 - val_accuracy: 0.9500 - 24ms/epoch - 2ms/step\n",
      "Epoch 146/200\n",
      "12/12 - 0s - loss: 0.1289 - accuracy: 0.9500 - val_loss: 0.3758 - val_accuracy: 0.9500 - 32ms/epoch - 3ms/step\n",
      "Epoch 147/200\n",
      "12/12 - 0s - loss: 0.1261 - accuracy: 0.9333 - val_loss: 0.4320 - val_accuracy: 0.9500 - 32ms/epoch - 3ms/step\n",
      "Epoch 148/200\n",
      "12/12 - 0s - loss: 0.1134 - accuracy: 0.9472 - val_loss: 0.3774 - val_accuracy: 0.9250 - 33ms/epoch - 3ms/step\n",
      "Epoch 149/200\n",
      "12/12 - 0s - loss: 0.1221 - accuracy: 0.9417 - val_loss: 0.3969 - val_accuracy: 0.9250 - 41ms/epoch - 3ms/step\n",
      "Epoch 150/200\n",
      "12/12 - 0s - loss: 0.1103 - accuracy: 0.9500 - val_loss: 0.3893 - val_accuracy: 0.9250 - 32ms/epoch - 3ms/step\n",
      "Epoch 151/200\n",
      "12/12 - 0s - loss: 0.1077 - accuracy: 0.9472 - val_loss: 0.3905 - val_accuracy: 0.9250 - 24ms/epoch - 2ms/step\n",
      "Epoch 152/200\n",
      "12/12 - 0s - loss: 0.1069 - accuracy: 0.9583 - val_loss: 0.3983 - val_accuracy: 0.9250 - 32ms/epoch - 3ms/step\n",
      "Epoch 153/200\n",
      "12/12 - 0s - loss: 0.1108 - accuracy: 0.9472 - val_loss: 0.4033 - val_accuracy: 0.9500 - 38ms/epoch - 3ms/step\n",
      "Epoch 154/200\n",
      "12/12 - 0s - loss: 0.1114 - accuracy: 0.9472 - val_loss: 0.3777 - val_accuracy: 0.9500 - 28ms/epoch - 2ms/step\n",
      "Epoch 155/200\n",
      "12/12 - 0s - loss: 0.1382 - accuracy: 0.9278 - val_loss: 0.4565 - val_accuracy: 0.9000 - 32ms/epoch - 3ms/step\n",
      "Epoch 156/200\n",
      "12/12 - 0s - loss: 0.1206 - accuracy: 0.9500 - val_loss: 0.3947 - val_accuracy: 0.9250 - 35ms/epoch - 3ms/step\n",
      "Epoch 157/200\n",
      "12/12 - 0s - loss: 0.1047 - accuracy: 0.9611 - val_loss: 0.4135 - val_accuracy: 0.9250 - 40ms/epoch - 3ms/step\n",
      "Epoch 158/200\n",
      "12/12 - 0s - loss: 0.1122 - accuracy: 0.9556 - val_loss: 0.4052 - val_accuracy: 0.9250 - 34ms/epoch - 3ms/step\n",
      "Epoch 159/200\n",
      "12/12 - 0s - loss: 0.1073 - accuracy: 0.9444 - val_loss: 0.4017 - val_accuracy: 0.9250 - 32ms/epoch - 3ms/step\n",
      "Epoch 160/200\n",
      "12/12 - 0s - loss: 0.1109 - accuracy: 0.9444 - val_loss: 0.4269 - val_accuracy: 0.9250 - 35ms/epoch - 3ms/step\n",
      "Epoch 161/200\n",
      "12/12 - 0s - loss: 0.1106 - accuracy: 0.9528 - val_loss: 0.4169 - val_accuracy: 0.9250 - 32ms/epoch - 3ms/step\n",
      "Epoch 162/200\n",
      "12/12 - 0s - loss: 0.1267 - accuracy: 0.9361 - val_loss: 0.3894 - val_accuracy: 0.9250 - 26ms/epoch - 2ms/step\n",
      "Epoch 163/200\n",
      "12/12 - 0s - loss: 0.1191 - accuracy: 0.9528 - val_loss: 0.4088 - val_accuracy: 0.9250 - 41ms/epoch - 3ms/step\n",
      "Epoch 164/200\n",
      "12/12 - 0s - loss: 0.1072 - accuracy: 0.9528 - val_loss: 0.4268 - val_accuracy: 0.9250 - 32ms/epoch - 3ms/step\n",
      "Epoch 165/200\n",
      "12/12 - 0s - loss: 0.1133 - accuracy: 0.9472 - val_loss: 0.3887 - val_accuracy: 0.9500 - 33ms/epoch - 3ms/step\n",
      "Epoch 166/200\n",
      "12/12 - 0s - loss: 0.1298 - accuracy: 0.9361 - val_loss: 0.4884 - val_accuracy: 0.9250 - 40ms/epoch - 3ms/step\n",
      "Epoch 167/200\n",
      "12/12 - 0s - loss: 0.1502 - accuracy: 0.9333 - val_loss: 0.3905 - val_accuracy: 0.9250 - 36ms/epoch - 3ms/step\n",
      "Epoch 168/200\n",
      "12/12 - 0s - loss: 0.1128 - accuracy: 0.9500 - val_loss: 0.4125 - val_accuracy: 0.9250 - 35ms/epoch - 3ms/step\n",
      "Epoch 169/200\n",
      "12/12 - 0s - loss: 0.1025 - accuracy: 0.9611 - val_loss: 0.4108 - val_accuracy: 0.9250 - 40ms/epoch - 3ms/step\n",
      "Epoch 170/200\n",
      "12/12 - 0s - loss: 0.1075 - accuracy: 0.9500 - val_loss: 0.4229 - val_accuracy: 0.9250 - 27ms/epoch - 2ms/step\n",
      "Epoch 171/200\n",
      "12/12 - 0s - loss: 0.1157 - accuracy: 0.9417 - val_loss: 0.4332 - val_accuracy: 0.9250 - 26ms/epoch - 2ms/step\n",
      "Epoch 172/200\n",
      "12/12 - 0s - loss: 0.1005 - accuracy: 0.9500 - val_loss: 0.4085 - val_accuracy: 0.9250 - 32ms/epoch - 3ms/step\n",
      "Epoch 173/200\n",
      "12/12 - 0s - loss: 0.1076 - accuracy: 0.9556 - val_loss: 0.4341 - val_accuracy: 0.9500 - 34ms/epoch - 3ms/step\n",
      "Epoch 174/200\n",
      "12/12 - 0s - loss: 0.1049 - accuracy: 0.9556 - val_loss: 0.4166 - val_accuracy: 0.9250 - 24ms/epoch - 2ms/step\n",
      "Epoch 175/200\n",
      "12/12 - 0s - loss: 0.1030 - accuracy: 0.9556 - val_loss: 0.4287 - val_accuracy: 0.9250 - 35ms/epoch - 3ms/step\n",
      "Epoch 176/200\n",
      "12/12 - 0s - loss: 0.1043 - accuracy: 0.9556 - val_loss: 0.4064 - val_accuracy: 0.9250 - 32ms/epoch - 3ms/step\n",
      "Epoch 177/200\n",
      "12/12 - 0s - loss: 0.1156 - accuracy: 0.9389 - val_loss: 0.4172 - val_accuracy: 0.9500 - 27ms/epoch - 2ms/step\n",
      "Epoch 178/200\n",
      "12/12 - 0s - loss: 0.1087 - accuracy: 0.9444 - val_loss: 0.4418 - val_accuracy: 0.9250 - 32ms/epoch - 3ms/step\n",
      "Epoch 179/200\n",
      "12/12 - 0s - loss: 0.1023 - accuracy: 0.9528 - val_loss: 0.4289 - val_accuracy: 0.9250 - 32ms/epoch - 3ms/step\n",
      "Epoch 180/200\n",
      "12/12 - 0s - loss: 0.0997 - accuracy: 0.9528 - val_loss: 0.4360 - val_accuracy: 0.9250 - 40ms/epoch - 3ms/step\n",
      "Epoch 181/200\n",
      "12/12 - 0s - loss: 0.1037 - accuracy: 0.9556 - val_loss: 0.4328 - val_accuracy: 0.9500 - 29ms/epoch - 2ms/step\n",
      "Epoch 182/200\n",
      "12/12 - 0s - loss: 0.1078 - accuracy: 0.9444 - val_loss: 0.4881 - val_accuracy: 0.9250 - 41ms/epoch - 3ms/step\n",
      "Epoch 183/200\n",
      "12/12 - 0s - loss: 0.1132 - accuracy: 0.9500 - val_loss: 0.4160 - val_accuracy: 0.9500 - 34ms/epoch - 3ms/step\n",
      "Epoch 184/200\n",
      "12/12 - 0s - loss: 0.1333 - accuracy: 0.9278 - val_loss: 0.5197 - val_accuracy: 0.9250 - 26ms/epoch - 2ms/step\n",
      "Epoch 185/200\n",
      "12/12 - 0s - loss: 0.1179 - accuracy: 0.9444 - val_loss: 0.4479 - val_accuracy: 0.9250 - 34ms/epoch - 3ms/step\n",
      "Epoch 186/200\n",
      "12/12 - 0s - loss: 0.1136 - accuracy: 0.9500 - val_loss: 0.4364 - val_accuracy: 0.9500 - 29ms/epoch - 2ms/step\n",
      "Epoch 187/200\n",
      "12/12 - 0s - loss: 0.1038 - accuracy: 0.9528 - val_loss: 0.4584 - val_accuracy: 0.9250 - 36ms/epoch - 3ms/step\n",
      "Epoch 188/200\n",
      "12/12 - 0s - loss: 0.1037 - accuracy: 0.9611 - val_loss: 0.4440 - val_accuracy: 0.9250 - 40ms/epoch - 3ms/step\n",
      "Epoch 189/200\n",
      "12/12 - 0s - loss: 0.1025 - accuracy: 0.9556 - val_loss: 0.4449 - val_accuracy: 0.9500 - 26ms/epoch - 2ms/step\n",
      "Epoch 190/200\n",
      "12/12 - 0s - loss: 0.1073 - accuracy: 0.9472 - val_loss: 0.4364 - val_accuracy: 0.9250 - 32ms/epoch - 3ms/step\n",
      "Epoch 191/200\n",
      "12/12 - 0s - loss: 0.1041 - accuracy: 0.9556 - val_loss: 0.4720 - val_accuracy: 0.9250 - 26ms/epoch - 2ms/step\n",
      "Epoch 192/200\n",
      "12/12 - 0s - loss: 0.1009 - accuracy: 0.9583 - val_loss: 0.4553 - val_accuracy: 0.9250 - 33ms/epoch - 3ms/step\n",
      "Epoch 193/200\n",
      "12/12 - 0s - loss: 0.1053 - accuracy: 0.9611 - val_loss: 0.4390 - val_accuracy: 0.9500 - 26ms/epoch - 2ms/step\n",
      "Epoch 194/200\n",
      "12/12 - 0s - loss: 0.1052 - accuracy: 0.9417 - val_loss: 0.5010 - val_accuracy: 0.9500 - 32ms/epoch - 3ms/step\n",
      "Epoch 195/200\n",
      "12/12 - 0s - loss: 0.1062 - accuracy: 0.9556 - val_loss: 0.4639 - val_accuracy: 0.9250 - 33ms/epoch - 3ms/step\n",
      "Epoch 196/200\n",
      "12/12 - 0s - loss: 0.1184 - accuracy: 0.9444 - val_loss: 0.4395 - val_accuracy: 0.9250 - 32ms/epoch - 3ms/step\n",
      "Epoch 197/200\n",
      "12/12 - 0s - loss: 0.1066 - accuracy: 0.9528 - val_loss: 0.5256 - val_accuracy: 0.9250 - 29ms/epoch - 2ms/step\n",
      "Epoch 198/200\n",
      "12/12 - 0s - loss: 0.1187 - accuracy: 0.9472 - val_loss: 0.4788 - val_accuracy: 0.9500 - 40ms/epoch - 3ms/step\n",
      "Epoch 199/200\n",
      "12/12 - 0s - loss: 0.1067 - accuracy: 0.9472 - val_loss: 0.4573 - val_accuracy: 0.9250 - 32ms/epoch - 3ms/step\n"
     ]
    },
    {
     "name": "stdout",
     "output_type": "stream",
     "text": [
      "Epoch 200/200\n",
      "12/12 - 0s - loss: 0.0995 - accuracy: 0.9583 - val_loss: 0.4842 - val_accuracy: 0.9250 - 32ms/epoch - 3ms/step\n"
     ]
    }
   ],
   "source": [
    "# Fitting the model on the train data\n",
    "history_3 = model_3.fit(X_train_normalized,y_train,validation_split = 0.1,epochs = 200,verbose = 2)"
   ]
  },
  {
   "cell_type": "code",
   "execution_count": 36,
   "metadata": {
    "colab": {
     "base_uri": "https://localhost:8080/",
     "height": 295
    },
    "id": "zBvMtn6VzFDJ",
    "outputId": "0338d559-c872-49a9-ddfb-be2e643237aa"
   },
   "outputs": [
    {
     "data": {
      "image/png": "[encoded data removed]",
      "text/plain": [
       "<Figure size 432x288 with 1 Axes>"
      ]
     },
     "metadata": {
      "needs_background": "light"
     },
     "output_type": "display_data"
    }
   ],
   "source": [
    "plt.plot(history_3.history['loss'])\n",
    "\n",
    "plt.plot(history_3.history['val_loss'])\n",
    "\n",
    "plt.title('loss vs Epochs')\n",
    "\n",
    "plt.ylabel('loss')\n",
    "\n",
    "plt.xlabel('Epoch')\n",
    "\n",
    "plt.legend(['Train', 'Validation'], loc  = 'lower right')\n",
    "\n",
    "plt.show()"
   ]
  },
  {
   "cell_type": "markdown",
   "metadata": {
    "id": "-xfRck7yrbX5"
   },
   "source": [
    "- We can observe that from increasing the model complexity, the model is getting worse, and overfitting problem. "
   ]
  },
  {
   "cell_type": "markdown",
   "metadata": {},
   "source": [
    "- Let's take model-1 as the final model for predicting the test data."
   ]
  },
  {
   "cell_type": "markdown",
   "metadata": {
    "id": "iSpvgJ_ZPP0f"
   },
   "source": [
    "## **Model evaluation on the test data**"
   ]
  },
  {
   "cell_type": "code",
   "execution_count": 40,
   "metadata": {
    "colab": {
     "base_uri": "https://localhost:8080/"
    },
    "id": "VNs-4a67SXNT",
    "outputId": "823df247-c01e-45fe-9f62-fb864b06d9e1"
   },
   "outputs": [
    {
     "name": "stdout",
     "output_type": "stream",
     "text": [
      "4/4 [==============================] - 0s 0s/step - loss: 0.1718 - accuracy: 0.9300\n"
     ]
    }
   ],
   "source": [
    "model_1.evaluate(X_test_normalized, y_test, verbose = 1)\n",
    "\n",
    "test_pred = np.round(model_1.predict(X_test_normalized))"
   ]
  },
  {
   "cell_type": "markdown",
   "metadata": {
    "id": "RldGhjVdxHCx"
   },
   "source": [
    "The test accuracy is also coming out to be 93% which implies that our model is able to replicate the performance from the train and validation data on the test (unseen) data."
   ]
  },
  {
   "cell_type": "code",
   "execution_count": 41,
   "metadata": {
    "colab": {
     "base_uri": "https://localhost:8080/",
     "height": 490
    },
    "id": "y5fWdjHHPTZh",
    "outputId": "7a6f937e-ed2f-488a-cdcc-7bf231d37a54"
   },
   "outputs": [
    {
     "name": "stdout",
     "output_type": "stream",
     "text": [
      "              precision    recall  f1-score   support\n",
      "\n",
      "           0       0.97      0.93      0.95        73\n",
      "           1       0.83      0.93      0.88        27\n",
      "\n",
      "    accuracy                           0.93       100\n",
      "   macro avg       0.90      0.93      0.91       100\n",
      "weighted avg       0.93      0.93      0.93       100\n",
      "\n"
     ]
    },
    {
     "data": {
      "image/png": "[encoded data removed]",
      "text/plain": [
       "<Figure size 576x360 with 2 Axes>"
      ]
     },
     "metadata": {
      "needs_background": "light"
     },
     "output_type": "display_data"
    }
   ],
   "source": [
    "print(classification_report(y_test, test_pred))\n",
    "\n",
    "cm = confusion_matrix(y_test, test_pred)\n",
    "\n",
    "plt.figure(figsize = (8, 5))\n",
    "\n",
    "sns.heatmap(cm, annot = True,  fmt = '.0f', xticklabels = ['Admitted', 'Not Admitted'], yticklabels = ['Admitted', 'Not Admitted'])\n",
    "\n",
    "plt.ylabel('Actual')\n",
    "\n",
    "plt.xlabel('Predicted')\n",
    "\n",
    "plt.show()"
   ]
  },
  {
   "cell_type": "markdown",
   "metadata": {
    "id": "uk_tuE7LxGC3"
   },
   "source": [
    "- The confusion matrix shows that the model can identify the majority of students who would get admission and who won't get admission to UCLA.\n",
    "- The classification report shows that all the metrics except f1-score of class label 1 are above 90%, which is good."
   ]
  },
  {
   "cell_type": "markdown",
   "metadata": {
    "id": "1bVzop-DYYmv"
   },
   "source": [
    "## **Conclusion**\n",
    "\n",
    "In this case study, \n",
    "- We have learned how to build a feed-forward neural network for a classification task using Keras. \n",
    "- We have seen different hyper-parameters and how they affect the network. \n",
    "- We have also learned about the Loss vs epoch curve and how it helps to understand the model is learning the weights. \n",
    "- We were able to get the test accuracy of 93% using the final model.\n",
    "- Interested learners can further analyze the misclassified points and see if there is a pattern or if they were outliers that our model could not identify.\n",
    "- We would highly recommend you to play around with the other hyper-parameter and see for yourself how it affects your model."
   ]
  },
  {
   "cell_type": "markdown",
   "metadata": {},
   "source": [
    "## <i>Happy Learning!</i>"
   ]
  }
 ],
 "metadata": {
  "accelerator": "GPU",
  "colab": {
   "collapsed_sections": [
    "fhotGVGD4hgT",
    "ZZP_r2sD7B0P",
    "X7VT_t5f9bwR",
    "4N6XAn6mA_BD",
    "EFMmpLAuBC4n",
    "iSpvgJ_ZPP0f",
    "1bVzop-DYYmv"
   ],
   "name": "Notebook - University Admission Prediction.ipynb",
   "provenance": []
  },
  "kernelspec": {
   "display_name": "Python 3",
   "language": "python",
   "name": "python3"
  },
  "language_info": {
   "codemirror_mode": {
    "name": "ipython",
    "version": 3
   },
   "file_extension": ".py",
   "mimetype": "text/x-python",
   "name": "python",
   "nbconvert_exporter": "python",
   "pygments_lexer": "ipython3",
   "version": "3.8.8"
  }
 },
 "nbformat": 4,
 "nbformat_minor": 1
}
