{
 "cells": [
  {
   "cell_type": "markdown",
   "metadata": {},
   "source": [
    "\n",
    "\n",
    "## **Project 1 - Fundamental of AI & ML**\n",
    "\n",
    "#### **Title**: *EDA on Cardio Good Fitness data*\n",
    "\n",
    "#### **Author**: *Pankaj Singh*\n",
    "\n",
    "**Domain** : Customer analytics\n",
    "\n",
    "**Data Description** : The data is about customers of the treadmill product(s) of a retail store called Cardio Good Fitness.\n",
    "\n",
    "**Attribute Information** \n",
    "\n",
    "- **`Product`** : The model no. of the treadmill <br>\n",
    "- **`Age`** : Age of the customer in no of years <br>\n",
    "- **`Gender`** : Gender of the customer <br>\n",
    "- **`Education`** : Education of the customer in no. of years <br>\n",
    "- **`Marital Status`** : Marital status of the customer <br>\n",
    "- **`Usage`** : Avg. # times the customer wants to use the treadmill every week <br>\n",
    "- **`Fitness`** : Self rated fitness score of the customer (5 - very fit, 1 - very unfit) <br>\n",
    "- **`Income`** : Income of the customer <br>\n",
    "- **`Miles`** : Miles that a customer expects to run <br>\n",
    "\n",
    "**Project Objective**\n",
    "\n",
    "- Explore the dataset to identify differences between the customers of each product. \n",
    "- Explore relationships between the different attributes of the customers. \n",
    "- Propose any other line of questioning that could be relevant for the business.\n",
    "\n",
    "**Project Deliverables**\n",
    "\n",
    "- Coming up with a customer profile (characteristics of a customer) of the different products\n",
    "- Perform univariate and multivariate analyses\n",
    "- Generate a set of insights and recommendations that will help the company in targeting new customers.\n",
    "\n",
    "**Learning Objective**\n",
    "- Exploratory Data Analysis\n",
    "- Expand the knowledge of NumPy, Pandas and Seaborn"
   ]
  },
  {
   "cell_type": "markdown",
   "metadata": {},
   "source": [
    "##### Import Libraries"
   ]
  },
  {
   "cell_type": "code",
   "execution_count": 2,
   "metadata": {},
   "outputs": [],
   "source": [
    "import pandas as pd, numpy as np, matplotlib.pyplot as plt, seaborn as sns\n",
    "import matplotlib.style as style; style.use('fivethirtyeight')"
   ]
  },
  {
   "cell_type": "markdown",
   "metadata": {},
   "source": [
    "##### Load data"
   ]
  },
  {
   "cell_type": "code",
   "execution_count": 3,
   "metadata": {},
   "outputs": [],
   "source": [
    "cardio = pd.read_csv('CardioGoodFitness.csv')"
   ]
  },
  {
   "cell_type": "markdown",
   "metadata": {},
   "source": [
    "##### Data Statistics"
   ]
  },
  {
   "cell_type": "code",
   "execution_count": 4,
   "metadata": {},
   "outputs": [
    {
     "data": {
      "text/plain": [
       "(180, 9)"
      ]
     },
     "execution_count": 4,
     "metadata": {},
     "output_type": "execute_result"
    }
   ],
   "source": [
    "## Print out the sahpe of data\n",
    "cardio.shape"
   ]
  },
  {
   "cell_type": "markdown",
   "metadata": {},
   "source": [
    "The dataset has 180 rows and 9 columns."
   ]
  }
 ],
 "metadata": {
  "interpreter": {
   "hash": "0e6add42a260e584e84d27069ccfc03881faec7396e9cefa3bb5404649aec006"
  },
  "kernelspec": {
   "display_name": "Python 3.9.7 64-bit ('base': conda)",
   "language": "python",
   "name": "python3"
  },
  "language_info": {
   "codemirror_mode": {
    "name": "ipython",
    "version": 3
   },
   "file_extension": ".py",
   "mimetype": "text/x-python",
   "name": "python",
   "nbconvert_exporter": "python",
   "pygments_lexer": "ipython3",
   "version": "3.9.7"
  },
  "orig_nbformat": 4
 },
 "nbformat": 4,
 "nbformat_minor": 2
}
