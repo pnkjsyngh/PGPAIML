{
 "cells": [
  {
   "cell_type": "markdown",
   "metadata": {},
   "source": [
    "\n",
    "\n",
    "## **Project 1 - Fundamental of AI & ML**\n",
    "\n",
    "### **Title**: *EDA on Cardio Good Fitness data*\n",
    "\n",
    "### **Author**: *Pankaj Singh*\n",
    "\n",
    "<br>\n",
    "\n",
    "**Domain** : Customer analytics\n",
    "\n",
    "**Data Description** : The data is about customers of the treadmill product(s) of a retail store called Cardio Good Fitness.\n",
    "\n",
    "**Attribute Information** \n",
    "\n",
    "- **`Product`** : The model no. of the treadmill <br>\n",
    "- **`Age`** : Age of the customer in no of years <br>\n",
    "- **`Gender`** : Gender of the customer <br>\n",
    "- **`Education`** : Education of the customer in no. of years <br>\n",
    "- **`Marital Status`** : Marital status of the customer <br>\n",
    "- **`Usage`** : Avg. # times the customer wants to use the treadmill every week <br>\n",
    "- **`Fitness`** : Self rated fitness score of the customer (5 - very fit, 1 - very unfit) <br>\n",
    "- **`Income`** : Income of the customer <br>\n",
    "- **`Miles`** : Miles that a customer expects to run <br>\n",
    "\n",
    "**Project Objective**\n",
    "\n",
    "- Explore the dataset to identify differences between the customers of each product. \n",
    "- Explore relationships between the different attributes of the customers. \n",
    "- Propose any other line of questioning that could be relevant for the business.\n",
    "\n",
    "**Project Deliverables**\n",
    "\n",
    "- Coming up with a customer profile (characteristics of a customer) of the different products\n",
    "- Perform univariate and multivariate analyses\n",
    "- Generate a set of insights and recommendations that will help the company in targeting new customers.\n",
    "\n",
    "**Learning Objective**\n",
    "- Exploratory Data Analysis\n",
    "- Expand the knowledge of NumPy, Pandas and Seaborn"
   ]
  },
  {
   "cell_type": "markdown",
   "metadata": {},
   "source": [
    "### **Import Libraries**"
   ]
  },
  {
   "cell_type": "code",
   "execution_count": null,
   "metadata": {},
   "outputs": [],
   "source": [
    "import pandas as pd, numpy as np, matplotlib.pyplot as plt, seaborn as sns, warnings\n",
    "sns.set_style('whitegrid')\n",
    "sns.set_context('poster')\n",
    "\n",
    "warnings.filterwarnings('ignore')"
   ]
  },
  {
   "cell_type": "markdown",
   "metadata": {},
   "source": [
    "### **Load data**"
   ]
  },
  {
   "cell_type": "code",
   "execution_count": null,
   "metadata": {},
   "outputs": [],
   "source": [
    "cardio = pd.read_csv('CardioGoodFitness.csv')"
   ]
  },
  {
   "cell_type": "markdown",
   "metadata": {},
   "source": [
    "### **Data Statistics**\n"
   ]
  },
  {
   "cell_type": "markdown",
   "metadata": {},
   "source": [
    "- #### Shape of the data"
   ]
  },
  {
   "cell_type": "code",
   "execution_count": null,
   "metadata": {},
   "outputs": [],
   "source": [
    "## Print out the shape of data\n",
    "cardio.shape"
   ]
  },
  {
   "cell_type": "markdown",
   "metadata": {},
   "source": [
    "> The dataset has 180 observations and 9 columns"
   ]
  },
  {
   "cell_type": "markdown",
   "metadata": {},
   "source": [
    "- #### A peek at the first 5 rows of the dataset"
   ]
  },
  {
   "cell_type": "code",
   "execution_count": null,
   "metadata": {},
   "outputs": [],
   "source": [
    "## Print out the first 5 rows of the data\n",
    "cardio.head(5)"
   ]
  },
  {
   "cell_type": "markdown",
   "metadata": {},
   "source": [
    "- #### Check the data types in each columns"
   ]
  },
  {
   "cell_type": "code",
   "execution_count": null,
   "metadata": {},
   "outputs": [],
   "source": [
    "## Print out the data tyoe of each attribute\n",
    "cardio.dtypes"
   ]
  },
  {
   "cell_type": "markdown",
   "metadata": {},
   "source": [
    "> - Numeric attributes: `Age`, `Education`, `Usage`, `Fitness`, `Income`, `Miles`\n",
    "> - Object attributes: `Product`, `Gender`, `MaritalStatus`\n",
    ">\n",
    "> NOTE: Even though `Fitness` appears in numerical attributes, but due to its discrete nature in finite range it can be considered categorical"
   ]
  },
  {
   "cell_type": "markdown",
   "metadata": {},
   "source": [
    "- **Check if there is any null data**"
   ]
  },
  {
   "cell_type": "code",
   "execution_count": null,
   "metadata": {},
   "outputs": [],
   "source": [
    "# Checking the presence of missing values\n",
    "cardio.isnull().sum()"
   ]
  },
  {
   "cell_type": "markdown",
   "metadata": {},
   "source": [
    "> The dataset has no null values."
   ]
  },
  {
   "cell_type": "markdown",
   "metadata": {},
   "source": [
    "> The 4 categorical columns (including `Fitness`) have following unique values:\n",
    "> - `Product` has 3 unique values\n",
    "> - `Gender` has 2 unique values\n",
    "> - `MaritalStatus` has 2 unique values\n",
    "> - `Fitness` has 5 unique vlaues"
   ]
  },
  {
   "cell_type": "markdown",
   "metadata": {},
   "source": [
    "### **Univariate Analysis**"
   ]
  },
  {
   "cell_type": "markdown",
   "metadata": {},
   "source": [
    "- **Describe the numerical data**"
   ]
  },
  {
   "cell_type": "code",
   "execution_count": null,
   "metadata": {},
   "outputs": [],
   "source": [
    "cardio.describe()"
   ]
  },
  {
   "cell_type": "markdown",
   "metadata": {},
   "source": [
    "- **Visualize the distributions of the numerical columns**"
   ]
  },
  {
   "cell_type": "code",
   "execution_count": null,
   "metadata": {
    "scrolled": false
   },
   "outputs": [],
   "source": [
    "def plot_bar_box_violin(x,color):\n",
    "    fig, ax = plt.subplots(nrows=1, ncols=3, figsize=(24,8))\n",
    "    \n",
    "    seriesname = x.name\n",
    "    plt.suptitle(f'Histogram, Boxplot and Violinplot for {seriesname}', fontweight='heavy')\n",
    "    \n",
    "    sns.histplot(x, ax=ax[0], kde=True, shrink=0.9,color=color)\n",
    "    ax[0].axvline(x.mean(), color = 'r', linestyle = '--', label = 'Mean')    \n",
    "    ax[0].axvline(x.median(), color = 'g', linestyle = '-.', label = 'Median')\n",
    "    ax[0].axvline(x.mode()[0], color = 'b', linestyle = 'dotted', label = 'Mode')\n",
    "    ax[0].legend(frameon=True)\n",
    "    \n",
    "    sns.boxplot(x, ax=ax[1], showmeans=True,color=color,\n",
    "                meanprops=dict(marker='o',markerfacecolor='white',markeredgecolor='k',markersize=10),\n",
    "                medianprops=dict(color='lightgray',linestyle='--', linewidth=5))\n",
    "    \n",
    "    \n",
    "    sns.violinplot(x, showmeans=True, ax=ax[2],color=color)\n",
    "    ax[2].scatter(x.median(), 0,c='k',marker='s')"
   ]
  },
  {
   "cell_type": "code",
   "execution_count": null,
   "metadata": {
    "scrolled": false
   },
   "outputs": [],
   "source": [
    "plot_bar_box_violin(cardio['Age'],'darkviolet')\n",
    "plot_bar_box_violin(cardio['Education'],'orangered')\n",
    "plot_bar_box_violin(cardio['Usage'],'springgreen')\n",
    "plot_bar_box_violin(cardio['Fitness'],'plum')\n",
    "plot_bar_box_violin(cardio['Income'],'royalblue')\n",
    "plot_bar_box_violin(cardio['Miles'],'fuchsia')"
   ]
  },
  {
   "cell_type": "markdown",
   "metadata": {},
   "source": [
    "> **Observations**\n",
    "\n",
    "> - The `Age` of users is between 18 and 50 years\n",
    ">   - The median user age is \\~26 years and is less than the mean age (\\~29 years). Hence distribution is right skewed\n",
    ">   - There are few outliers beyond age 45\n",
    "\n",
    "\n",
    "> - The user `Education` years is between 12 and 21\n",
    ">   - The median education years is \\~16 years and the mean education years is \\~15.5 years\n",
    ">   - There are few outliers who have more than 18 years of education\n",
    "\n",
    "> - The weekly treadmill `Usage` is between 2 to 7 times\n",
    ">   - The median weekly usage is 3 times and is less than the mean weekly usage (\\~3.5 times). Hence distribution is right skewed\n",
    ">   - Majority usage is 3 to 4 times a week, with few outliers who are using it 6-7 times a week\n",
    "\n",
    "> - The `Fitness` levels of users is between 1 to 5\n",
    ">   - The median fitness level is 3 and the mean fitness is \\~3.3\n",
    ">   - The average user believes that they are decently fit\n",
    "\n",
    "> - The user `Income` is between \\~30000 to \\~100,000\n",
    ">   - The median income is \\~50,000 and is less than the mean income (\\~54,000), making this distribution right skewed\n",
    ">   - There are quite a few outliers making more than 80,000 a year\n",
    "\n",
    "> - The `Miles` expected to run by folks is between 21 to 360 mi\n",
    ">   - The median expected miles is 94 mi and is less than the mean expected miles (\\~103.2 times), making the distirbution right skewed\n",
    ">   - Average user expects to run \\~100 mi \n",
    ">   - There are quite a few outliers who plan to run more than 200 mi"
   ]
  },
  {
   "cell_type": "markdown",
   "metadata": {},
   "source": [
    "- **Print out the unique values of categorical data**"
   ]
  },
  {
   "cell_type": "code",
   "execution_count": null,
   "metadata": {},
   "outputs": [],
   "source": [
    "print(cardio['Product'].value_counts(),'\\n\\n')\n",
    "print(cardio['Gender'].value_counts(),'\\n\\n')\n",
    "print(cardio['MaritalStatus'].value_counts(),'\\n\\n')\n",
    "print(cardio['Fitness'].value_counts())"
   ]
  },
  {
   "cell_type": "markdown",
   "metadata": {},
   "source": [
    "- **Count and proportions in categorical data**"
   ]
  },
  {
   "cell_type": "code",
   "execution_count": null,
   "metadata": {
    "scrolled": false
   },
   "outputs": [],
   "source": [
    "from matplotlib.patches import Rectangle\n",
    "def plot_count(x):\n",
    "    fig, ax = plt.subplots(nrows=1, ncols=1, figsize=(6,6))\n",
    "    \n",
    "    seriesname = x.name\n",
    "    plt.suptitle(f'Countplot and Percentages for {seriesname}', fontweight='heavy', fontsize=18)\n",
    "    \n",
    "    sns.countplot(x, ax=ax, palette='Set2')\n",
    "    \n",
    "    # inserting %ages above bars courtsey of StackOverflow\n",
    "    # (https://stackoverflow.com/questions/31749448/how-to-add-percentages-on-top-of-bars-in-seaborn)\n",
    "    \n",
    "    total = len(x)\n",
    "    colors = sns.color_palette('Set2')[:x.nunique()]\n",
    "    for i,p in enumerate(ax.patches):\n",
    "        percentage = '{:.0f}%'.format(100 * p.get_height()/total)\n",
    "        xcoord = p.get_x() + p.get_width()*0\n",
    "        ycoord = p.get_y() + p.get_height()\n",
    "        ax.annotate(percentage, (xcoord, ycoord), size = 20, \n",
    "                    **dict(alpha=0.9), color = colors[i], fontweight='bold')\n",
    "#         print(p)\n",
    "\n",
    "plot_count(cardio['Product'])\n",
    "plot_count(cardio['Gender'])\n",
    "plot_count(cardio['MaritalStatus'])\n",
    "plot_count(cardio['Fitness'])"
   ]
  },
  {
   "cell_type": "markdown",
   "metadata": {},
   "source": [
    "> **Observations**\n",
    "\n",
    "> - There are 3 different `Products` being sold\n",
    ">   - Those are *TM195*, *TM498* and *TM798* in the order of portion of total treadmill sales\n",
    "\n",
    "> - From `Gender` perspective, majority customer have been *male*\n",
    "\n",
    "> - The majority `MaritalStatus` of the customer is *partenered*\n",
    "\n",
    "> - The majority customers rate themselves at `Fitness` level of *3 out of 5*"
   ]
  },
  {
   "cell_type": "markdown",
   "metadata": {},
   "source": [
    "### **Multivariate Analysis**"
   ]
  },
  {
   "cell_type": "markdown",
   "metadata": {},
   "source": [
    "As part of this section I will be focussing on product centered multivariate analysis, since that is the deliverable. So further analysis I will be obtaining user characterstics for each product."
   ]
  },
  {
   "cell_type": "markdown",
   "metadata": {},
   "source": [
    "- **Bivariate analysis of Product with other categorical variables**"
   ]
  },
  {
   "cell_type": "code",
   "execution_count": null,
   "metadata": {},
   "outputs": [],
   "source": [
    "pd.crosstab(index=cardio['Product'], columns=cardio['Gender']).apply(lambda r: 100*r/r.sum(), axis=1).round(2)"
   ]
  },
  {
   "cell_type": "code",
   "execution_count": null,
   "metadata": {},
   "outputs": [],
   "source": [
    "print('Gender specific count and percentages of customers for each product\\n')\n",
    "print(pd.crosstab(index=cardio['Product'], columns=cardio['Gender']),'\\n')\n",
    "print(pd.crosstab(index=cardio['Product'], columns=cardio['Gender']).apply(lambda r: 100*r/r.sum(), axis=1).round(2),'\\n\\n')\n",
    "\n",
    "\n",
    "print('Fitness level specific count and percentages of customers for each product\\n')\n",
    "print(pd.crosstab(index=cardio['Product'], columns=cardio['Fitness']),'\\n')\n",
    "print(pd.crosstab(index=cardio['Product'], columns=cardio['Fitness']).apply(lambda r: 100*r/r.sum(), axis=1).round(1),'\\n\\n')\n",
    "\n",
    "print('Average Fitness level of customers for each product\\n')\n",
    "print(cardio.groupby('Product')['Fitness'].agg(['mean']),'\\n\\n')\n",
    "\n",
    "\n",
    "print('Marital Status specific count and percentages of customers for each product\\n')\n",
    "print(pd.crosstab(index=cardio['Product'], columns=cardio['MaritalStatus']),'\\n')\n",
    "print(pd.crosstab(index=cardio['Product'], columns=cardio['MaritalStatus']).apply(lambda r: 100*r/r.sum(), axis=1).round(2),'\\n\\n')"
   ]
  },
  {
   "cell_type": "code",
   "execution_count": null,
   "metadata": {
    "scrolled": false
   },
   "outputs": [],
   "source": [
    "def plot_countplots_model(data, var, hue, fs):\n",
    "    \n",
    "    fig, ax = plt.subplots(nrows=1, ncols=1, figsize=(8,8))\n",
    "    sns.countplot(data=data, x=var, hue=hue, ax=ax, palette='Set2')\n",
    "    plt.suptitle(f'Countplot of {var} with hue of {hue}', fontweight='heavy', fontsize=18)\n",
    "    ax.legend(loc='best')\n",
    "    \n",
    "    \n",
    "    Number_of_categories = data[var].nunique()\n",
    "    hue_categories = data[hue].nunique()    \n",
    "    colors = sns.color_palette('Set2')[:hue_categories]\n",
    "    \n",
    "    a = [p.get_height() for p in ax.patches]\n",
    "    patch = [p for p in ax.patches]\n",
    "    for i in range(Number_of_categories):\n",
    "        total = data[var].value_counts().values[i]\n",
    "        for j in range(hue_categories):\n",
    "            percentage = '{:.0f}%'.format(100 * a[(j*Number_of_categories + i)]/total)\n",
    "            x = patch[(j*Number_of_categories + i)].get_x() \n",
    "            y = patch[(j*Number_of_categories + i)].get_y() + patch[(j*Number_of_categories + i)].get_height() \n",
    "            ax.annotate(percentage, (x, y), size = fs, **dict(alpha=1),color = colors[j], fontweight='bold')\n",
    "    \n",
    "plot_countplots_model(cardio, 'Product', 'Gender',20)\n",
    "plot_countplots_model(cardio, 'Product', 'Fitness',12)\n",
    "plot_countplots_model(cardio, 'Product', 'MaritalStatus',20)"
   ]
  },
  {
   "cell_type": "markdown",
   "metadata": {},
   "source": [
    "> **Observations**\n",
    "\n",
    "> Some interesting observations can be drawn from the simple bivariate analysis of `Product` with `Gender`, `Fitness` and `MaritalStatus`\n",
    "> - `Product` #s TM195 and TM498 have almost equally gender diverse customer base. But men are the dominant customer of the `Product` TM798 \n",
    ">    - This is indicating that in customers interested in buying TM798 are predominatly male\n",
    "\n",
    "> - Again a similar pattern arises for Product #s TM195 and TM498 in terms of `Fitness` level of the customers, where they rate themselves *\\~3* on an average. Whereas, the TM798 customers rate themselves much higher \n",
    "(*\\~4.6*)\n",
    ">    - The high `Fitness` level indicates that the TM798 is a product for more advanced user.\n",
    "\n",
    "> - The `MaritalStatus` of the customer seems to stay in similar proportions across all products"
   ]
  },
  {
   "cell_type": "markdown",
   "metadata": {},
   "source": [
    "- **Bivariate analysis of Product with numerical variables and categorical values in hue**"
   ]
  },
  {
   "cell_type": "code",
   "execution_count": null,
   "metadata": {},
   "outputs": [],
   "source": [
    "def describe_product_numvar(numvar):\n",
    "    \n",
    "    catvars = ['Gender', 'MaritalStatus', 'Fitness']\n",
    "    \n",
    "    print(f'Description of Products w.r.t {numvar} and categorical variables')\n",
    "    \n",
    "    print('\\n\\n')    \n",
    "    print(cardio.groupby(['Product'])[numvar].agg(['mean','median']).round(1))\n",
    "    \n",
    "    for catvar in catvars:\n",
    "        print('\\n\\n')\n",
    "        print(cardio.groupby(['Product',catvar])[numvar].agg(['mean','median','count']).round(1))        \n",
    "    \n",
    "    \n",
    "    fig, ax = plt.subplots(nrows=1, ncols=3, figsize=(24,8))\n",
    "    fig.tight_layout(pad=3.0)\n",
    "    plt.suptitle(f'Mean barplot of {numvar} w.r.t Products', fontweight='heavy', fontsize=24)\n",
    "    \n",
    "    for i, var in enumerate(catvars):\n",
    "        \n",
    "        sns.barplot(data=cardio, x='Product', y=numvar, hue=var, palette='Set2',\n",
    "                    estimator=np.mean, ax=ax[i],**({'alpha':1}))\n",
    "        sns.barplot(data=cardio, x='Product', y=numvar, ax=ax[i], ci=None,\n",
    "                    **({'fill':False,'edgecolor':'k','linestyle':'--','label':'Product mean'}))\n",
    "        \n",
    "        sns.stripplot(data=cardio, x ='Product', y=numvar, hue=var, \n",
    "                      jitter=True, ax=ax[i], dodge=True, edgecolor='black',\n",
    "                      alpha=0.3, linewidth=1,\n",
    "                      size=8, palette='Set2')\n",
    "        \n",
    "        handles, labels = ax[i].get_legend_handles_labels()\n",
    "        ax[i].legend(handles[cardio[var].nunique():], labels[cardio[var].nunique():], \n",
    "                     fontsize=15, loc='best',framealpha=0.2)\n",
    "        ax[i].title.set_text(var)\n",
    "        \n",
    "        \n",
    "    fig, ax = plt.subplots(nrows=1, ncols=2, figsize=(16,8))\n",
    "    fig.tight_layout(pad=3.0)\n",
    "    \n",
    "    for i, var in enumerate(catvars[:2]):\n",
    "        \n",
    "        sns.violinplot(data=cardio, x=\"Product\", y=numvar, \n",
    "                       hue=var, split=True, inner=\"quart\", \n",
    "                       linewidth=2,ax=ax[i],palette='Set2')\n",
    "        \n",
    "        sns.stripplot(data=cardio, x ='Product', y=numvar, hue=var, \n",
    "                      jitter=True, ax=ax[i], dodge=True, edgecolor='black',\n",
    "                      alpha=0.3, linewidth=1,\n",
    "                      size=8, palette='Set2')\n",
    "        \n",
    "        handles, labels = ax[i].get_legend_handles_labels()\n",
    "        ax[i].legend(handles[0:cardio[var].nunique()], labels[0:cardio[var].nunique()], \n",
    "                     fontsize=15, loc='upper left',framealpha=0.2)\n",
    "        ax[i].title.set_text(var)\n",
    "        \n",
    "        \n",
    "        \n",
    "    ax = sns.displot(data=cardio, x=\"Fitness\", y=numvar, hue='Product',palette='Set2',\n",
    "                     kind='kde', height=8, levels=2, fill = False)\n",
    "    sns.scatterplot(data=cardio, x=\"Fitness\", y=numvar, hue='Product',\n",
    "                    legend=False, alpha = 0.4, edgecolor='k', palette='Set2',\n",
    "                    linewidth = 0.5, style='Product')\n",
    "    sns.move_legend(ax, loc = 'lower left', bbox_to_anchor=(.2, .7),\n",
    "                    fontsize=20, frameon=True)\n",
    "    ax.set_yticklabels(rotation=45, fontsize=20)"
   ]
  },
  {
   "cell_type": "code",
   "execution_count": null,
   "metadata": {
    "scrolled": false
   },
   "outputs": [],
   "source": [
    "describe_product_numvar('Income')"
   ]
  },
  {
   "cell_type": "markdown",
   "metadata": {},
   "source": [
    "> **Observations**\n",
    "\n",
    "> Some interesting observations can be drawn from the bivariate analysis of `Product` with `Income`\n",
    "> - `Product`s TM195 and TM498 are bought by customers in a similar `Income` group (30k - 70k). But customer of the `Product` TM798 belong in a much higher income group (50k - 100k)\n",
    "> - `Gender`wise there is a smaller representation of women in the customer group of `Product` TM798\n",
    "> - `MaritalStatus`wise partnered customers are dominant in the customer across all `Product`s and have higher `Income`s compared to single customers as well. \n",
    "> - `Fitness` level of customers in `Income` group (30k - 70k) is predominatly \\~3 and prefer `Product` TM195 and TM498. \n",
    "> - For `Product` TM798 the average `Fitness` level is high as well as they belong in a higher `Income` group (50k - 100k)\n",
    "> - Majority of TM798 users have higher `Fitness` level as well as higher `Income`"
   ]
  },
  {
   "cell_type": "code",
   "execution_count": null,
   "metadata": {
    "scrolled": false
   },
   "outputs": [],
   "source": [
    "describe_product_numvar('Age')"
   ]
  },
  {
   "cell_type": "markdown",
   "metadata": {},
   "source": [
    "> **Observations**\n",
    "\n",
    "> Some interesting observations can be drawn from the bivariate analysis of `Product` with `Age`\n",
    "> - The average `Age` of cutomers of all the `Product`s is between (28 - 29).\n",
    "> - For `Product` TM798, the females are much younger than males.\n",
    "> - Partnered customers have higher `Age` compared to single customers across all `Products`\n",
    "> - A majority number of users of TM798 who have a really high `Fitness` level (5/5) are also relatively older."
   ]
  },
  {
   "cell_type": "code",
   "execution_count": null,
   "metadata": {
    "scrolled": false
   },
   "outputs": [],
   "source": [
    "describe_product_numvar('Education')"
   ]
  },
  {
   "cell_type": "markdown",
   "metadata": {},
   "source": [
    "> **Observations**\n",
    "\n",
    "> Some interesting observations can be drawn from the bivariate analysis of `Product` with `Education`\n",
    "> - The average `Education` of cutomers of `Product` TM798 is higher than the customers of other product by \\~2 years, indicating that they have a graduate degree.\n",
    "> - Partnered users have a slightly longer `Education` than single users.\n",
    "> - There is a slight positive correlation between `Education` and `Fitness` level of the users."
   ]
  },
  {
   "cell_type": "code",
   "execution_count": null,
   "metadata": {
    "scrolled": false
   },
   "outputs": [],
   "source": [
    "describe_product_numvar('Usage')"
   ]
  },
  {
   "cell_type": "markdown",
   "metadata": {},
   "source": [
    "> **Observations**\n",
    "\n",
    "> Some interesting observations can be drawn from the bivariate analysis of `Product` with `Usage`\n",
    "> - The average `Usage` of `Product` TM798 is higher than the `Usage` of TM195 and TM498. The higher `Usage` of TM798 along with the higher `Fitness` level of its user indicate that those users are more advanced.\n",
    "> - There is a positive correlation between `Usage` and `Fitness` level of users. TM798 users are on the higher end of that correlation whereas the users of TM195 and TM498 are on the lower end."
   ]
  },
  {
   "cell_type": "code",
   "execution_count": null,
   "metadata": {
    "scrolled": false
   },
   "outputs": [],
   "source": [
    "describe_product_numvar('Miles')"
   ]
  },
  {
   "cell_type": "markdown",
   "metadata": {},
   "source": [
    "> **Observations**\n",
    "\n",
    "> Some interesting observations can be drawn from the bivariate analysis of `Product` with `Miles`\n",
    "> - The average `Miles` of `Product` TM798 is much higher than the `Miles` of TM195 and TM498. \n",
    "> - The partnered users of TM798 put on much more miles compared to single users\n",
    "> - There is a strong positive correlation between `Miles` and `Fitness` level of users. TM798 users are on the higher end of that correlation whereas the users of TM195 and TM498 are on the lower end."
   ]
  },
  {
   "cell_type": "markdown",
   "metadata": {},
   "source": [
    "- **Correlation analysis of numerical variables**"
   ]
  },
  {
   "cell_type": "code",
   "execution_count": null,
   "metadata": {},
   "outputs": [],
   "source": [
    "fig, ax = plt.subplots(nrows=1, ncols=1, figsize=(8,8))\n",
    "fig.tight_layout(pad=2.0)\n",
    "\n",
    "corr = cardio.corr()\n",
    "sns.heatmap(corr, annot=True, ax=ax, annot_kws={'fontsize':12}, \n",
    "            cmap='cool',vmin=0,  vmax = 1, square=True, cbar_kws={'fraction':0.04})#, mask=matrix)\n",
    "ax.tick_params(axis='both', rotation = 45, labelsize=15)"
   ]
  },
  {
   "cell_type": "code",
   "execution_count": null,
   "metadata": {},
   "outputs": [],
   "source": [
    "upper_corr_mat = corr.where(np.triu(np.ones(corr.shape), k=1).astype(np.bool))\n",
    "sorted_mat = upper_corr_mat.unstack().dropna().sort_values(ascending=False)\n",
    "print(sorted_mat)"
   ]
  },
  {
   "cell_type": "markdown",
   "metadata": {},
   "source": [
    "> **Observations**\n",
    "\n",
    "> Following observations can be drawn from the correlation analysis of numerical variables:\n",
    "> - A very strong positive correlation between `Miles`, `Fitness` \\& `Usage` (0.79, 0.76 \\& 0.67), which makes sense for people with higher `Fitness` level being able to run longer annual `Miles` which are logically linked to higher `Usage`.\n",
    "> - A positive correlation is observed for `Income` with `Education` (0.63), `Miles` (0.54), `Fitness` (0.54), `Usage` (0.52) \\& `Age` (0.51).\n",
    "> - The next significant positive correlation is of `Education` with `Fitness` (0.41), `Usage` (0.40), `Miles` (0.31) \\& `Age` (0.28).\n",
    "> - There is no negative correlation between numerical quantities."
   ]
  },
  {
   "cell_type": "markdown",
   "metadata": {},
   "source": [
    "- **Plotting linear regression of top 8 correlations of numerical variables**"
   ]
  },
  {
   "cell_type": "code",
   "execution_count": null,
   "metadata": {
    "scrolled": false
   },
   "outputs": [],
   "source": [
    "def plot_linfit_mod(ax,qx,qy):\n",
    "    palette='Set2'\n",
    "\n",
    "    sns.scatterplot(data=cardio, x=qx, y=qy, hue=\"Product\", ax=ax,\n",
    "                    palette=palette, alpha=0.6, style='Product',\n",
    "                    edgecolor='k', linewidth = 0.5)\n",
    "    \n",
    "    sns.regplot(data=cardio, x=qx, y=qy, scatter=False, \n",
    "                ax=ax,color='k', line_kws={'linestyle':'--','linewidth':2, \n",
    "                                           'alpha':0.6}, \n",
    "                ci=None, label='Overall');\n",
    "    ax.legend(fontsize=15)\n",
    "\n",
    "    colors = sns.color_palette(palette)[:cardio.Product.nunique()]\n",
    "    for i, product in enumerate(cardio.Product.unique()):\n",
    "        sns.regplot(data=cardio[cardio['Product'] == product], \n",
    "                    x=qx, y=qy, scatter=False, \n",
    "                    ax=ax, color=colors[i], line_kws={'linewidth':2});\n",
    "    ax.set_title(f'Linear regression of {qy} vs. {qx} \\n overall correlation = {corr[qx][qy]:.2f}', \n",
    "                 fontsize=12, fontweight='heavy')\n",
    "    ax.tick_params(axis='both', labelsize=12)\n",
    "    ax.xaxis.label.set_size(12)\n",
    "    ax.yaxis.label.set_size(12)\n",
    "    \n",
    "fig, axs = plt.subplots(nrows=4, ncols=2, figsize=(12,22))\n",
    "fig.tight_layout(pad=1.5,h_pad=2)\n",
    "axs = axs.ravel()\n",
    "variableList = np.concatenate(([['Fitness','Usage','Fitness','Education','Miles','Fitness','Usage','Age']],\n",
    "                               [['Miles','Miles','Usage','Income','Income','Income','Income','Income']]),\n",
    "                              axis=0).T\n",
    "for i,ax in enumerate(axs):\n",
    "    plot_linfit_mod(ax,variableList[i,0], variableList[i,1])"
   ]
  },
  {
   "cell_type": "markdown",
   "metadata": {},
   "source": [
    "> **Observations**\n",
    "\n",
    "> Following observations can be drawn from the linear regression of `Fitness`, `Usage` \\& `Miles` along with `Proudct` as hue:\n",
    "> - In comparison to overall linear regression between `Fitness`, `Usage` \\& `Miles` the individual regression for each `Product` follows similar linear regression as well.\n",
    "> - As shown earlier, the users of TM798 are on the higher end of the `Fitness`, `Usage`\\& `Miles`.\n",
    "\n",
    "\n",
    "> Following observations can be drawn from the linear regression of `Income` with `Education`, `Miles`, `Fitness`, `Usage` \\& `Age` along with `Proudct` as hue:\n",
    "> - An overall postive correlation is observed for `Income` with `Education` \\& `Age`. This positive correlation is also observed across all the `Product`s.\n",
    "> - An overall postive correlation is observed for `Income` with `Miles`, `Fitness` \\& `Usage`. This positive correlation is although not observed across all the `Product`s. It is only observed for TM798."
   ]
  },
  {
   "cell_type": "markdown",
   "metadata": {},
   "source": [
    "- **Multivariate Analysis with `Gender` and `MaritalStatus` as hues**"
   ]
  },
  {
   "cell_type": "code",
   "execution_count": null,
   "metadata": {
    "scrolled": false
   },
   "outputs": [],
   "source": [
    "ax = sns.catplot(data=cardio, x='MaritalStatus', kind='count', hue='Gender', \n",
    "                 col='Product', palette='Set2', height=6);\n",
    "ax.set_titles(size=20, fontweight='heavy');\n",
    "\n",
    "ax = sns.catplot(data=cardio, x='MaritalStatus', y='Income', kind='box', hue='Gender', dodge=True,\n",
    "                 col='Product', palette='Set2', height=6);\n",
    "ax.set_titles(size=20, fontweight='heavy');"
   ]
  },
  {
   "cell_type": "markdown",
   "metadata": {},
   "source": [
    "> **Observations**\n",
    "\n",
    "> Following observations can be drawn from the `Gender` \\& `MaritalStatus` based analysis of `Product`s:\n",
    "> - For TM195, females are the dominant among partenred customer segment, whereas males are dominant customers in single customer segment\n",
    "> - For TM498, males are the dominant among partenred customer segment, whereas females are dominant customers in single customer segment\n",
    "> - For TM798, males are the dominant across both `MaritalStatus` customer segments\n",
    ">   - The single female customer group of TM798 have similar `Income` distiribution as female customers of TM195 \\& TM498.\n",
    ">   - The partnered female customer are in a higher `Income` group then females of any other segment of all the `Product`s."
   ]
  },
  {
   "cell_type": "code",
   "execution_count": null,
   "metadata": {},
   "outputs": [],
   "source": [
    "ax = sns.catplot(data=cardio, x='Product', kind='count', col='Fitness', \n",
    "                 hue='Gender', palette='Set2', height=6)\n",
    "ax.set_titles(size=15, fontweight='heavy');"
   ]
  },
  {
   "cell_type": "code",
   "execution_count": null,
   "metadata": {},
   "outputs": [],
   "source": [
    "ax = sns.catplot(data=cardio, x='Product', kind='count', col='Fitness', \n",
    "                 hue='MaritalStatus', palette='Set2', height=6)\n",
    "ax.set_titles(size=15, fontweight='heavy');"
   ]
  },
  {
   "cell_type": "markdown",
   "metadata": {},
   "source": [
    "> **Observations**\n",
    "\n",
    "> Following observations can be drawn from the `Fitness` based analysis of `Product`s:\n",
    "> - Customers with `Fitness` level 3 buy TM498. This group of customers is dominated by males and are partenered.\n",
    "> - Customers with `Fitness` level 5 buy TM798. This group of customers is dominated by males and are partenered."
   ]
  },
  {
   "cell_type": "code",
   "execution_count": null,
   "metadata": {},
   "outputs": [],
   "source": []
  }
 ],
 "metadata": {
  "interpreter": {
   "hash": "0e6add42a260e584e84d27069ccfc03881faec7396e9cefa3bb5404649aec006"
  },
  "kernelspec": {
   "display_name": "Python 3 (ipykernel)",
   "language": "python",
   "name": "python3"
  },
  "language_info": {
   "codemirror_mode": {
    "name": "ipython",
    "version": 3
   },
   "file_extension": ".py",
   "mimetype": "text/x-python",
   "name": "python",
   "nbconvert_exporter": "python",
   "pygments_lexer": "ipython3",
   "version": "3.9.7"
  }
 },
 "nbformat": 4,
 "nbformat_minor": 2
}
