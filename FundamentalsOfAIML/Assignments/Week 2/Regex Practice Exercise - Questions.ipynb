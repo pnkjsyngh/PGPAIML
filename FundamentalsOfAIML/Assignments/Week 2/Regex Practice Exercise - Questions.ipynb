{
 "cells": [
  {
   "cell_type": "markdown",
   "metadata": {},
   "source": [
    "### Regular Expression Practice Exercise"
   ]
  },
  {
   "cell_type": "markdown",
   "metadata": {},
   "source": [
    "This excersie will use `''.join()` function of python\n",
    "\n",
    "What join does is, it combines the elements of a list or tuple with a common separator\n",
    "\n",
    "To be able to use finditer, we need to pass a string. We use the join function to achieve that."
   ]
  },
  {
   "cell_type": "code",
   "execution_count": 1,
   "metadata": {},
   "outputs": [
    {
     "name": "stdout",
     "output_type": "stream",
     "text": [
      "Joining element of 'a' using ' | ' as separator\n",
      "This | Is | it | Also | Mine | Whatever\n",
      "\n",
      "Joining element of 'a' using ', ' as separator\n",
      "This, Is, it, Also, Mine, Whatever\n",
      "\n",
      "Joining element of 'a' without a separator\n",
      "ThisIsitAlsoMineWhatever\n",
      "\n",
      "Joining element of 'a' using '||' as separator\n",
      "This||Is||it||Also||Mine||Whatever\n",
      "\n"
     ]
    }
   ],
   "source": [
    "# Example of join Functions\n",
    "a = ['This','Is','it','Also','Mine','Whatever']\n",
    "\n",
    "print(\"Joining element of 'a' using ' | ' as separator\")\n",
    "print(\" | \".join(a))\n",
    "print()\n",
    "print(\"Joining element of 'a' using ', ' as separator\")\n",
    "print(\", \".join(a))\n",
    "print()\n",
    "print(\"Joining element of 'a' without a separator\")\n",
    "print(\"\".join(a))\n",
    "print()\n",
    "print(\"Joining element of 'a' using '||' as separator\")\n",
    "print(\"||\".join(a))\n",
    "print()\n"
   ]
  },
  {
   "cell_type": "markdown",
   "metadata": {},
   "source": [
    "`It can be used for a column of a dataframe as well`"
   ]
  },
  {
   "cell_type": "markdown",
   "metadata": {},
   "source": [
    "#### Import the random email data file"
   ]
  },
  {
   "cell_type": "code",
   "execution_count": 4,
   "metadata": {},
   "outputs": [
    {
     "data": {
      "text/plain": [
       "(170, 2)"
      ]
     },
     "execution_count": 4,
     "metadata": {},
     "output_type": "execute_result"
    }
   ],
   "source": [
    "import pandas as pd\n",
    "data = pd.read_csv('Random Email Dataset.csv')"
   ]
  },
  {
   "cell_type": "markdown",
   "metadata": {},
   "source": [
    "#### Display the Email ids"
   ]
  },
  {
   "cell_type": "code",
   "execution_count": 6,
   "metadata": {
    "scrolled": true
   },
   "outputs": [
    {
     "data": {
      "text/plain": [
       "0               mnmwuhasdwqweqw\n",
       "1           cynvhupf@gamail.com\n",
       "2           doznfpxy@gamail.com\n",
       "3             ufpgolgelastqxaoi\n",
       "4      rdvafvkummnuj@yahooo.com\n",
       "                 ...           \n",
       "165         ptvqlffe@gamail.com\n",
       "166         lzcrsiuo@gamail.com\n",
       "167         iydthkxz@gamail.com\n",
       "168           mpmwehcnjjntjvfnl\n",
       "169      mphibnuxgtr@yahooo.com\n",
       "Name: Email Address, Length: 170, dtype: object"
      ]
     },
     "execution_count": 6,
     "metadata": {},
     "output_type": "execute_result"
    }
   ],
   "source": [
    "data.columns\n",
    "data['Email Address']"
   ]
  },
  {
   "cell_type": "markdown",
   "metadata": {},
   "source": [
    "#### FInd the number of gamail email Ids (ending with @gamail.com)"
   ]
  },
  {
   "cell_type": "code",
   "execution_count": 19,
   "metadata": {},
   "outputs": [
    {
     "name": "stdout",
     "output_type": "stream",
     "text": [
      "100\n"
     ]
    }
   ],
   "source": [
    "import re\n",
    "\n",
    "emails = data['Email Address']\n",
    "email_string = ' '.join(emails)\n",
    "pattern = re.compile(r'@gamail\\.com')\n",
    "matches = pattern.finditer(email_string)\n",
    "counter = 0\n",
    "for mat in matches:\n",
    "    counter += 1\n",
    "print(counter)"
   ]
  },
  {
   "cell_type": "code",
   "execution_count": null,
   "metadata": {},
   "outputs": [],
   "source": []
  },
  {
   "cell_type": "markdown",
   "metadata": {},
   "source": [
    "#### Find the number of yahooo email Ids (ending with @yahooo.com)"
   ]
  },
  {
   "cell_type": "code",
   "execution_count": 20,
   "metadata": {},
   "outputs": [
    {
     "name": "stdout",
     "output_type": "stream",
     "text": [
      "30\n"
     ]
    }
   ],
   "source": [
    "pattern = re.compile(r'@yahooo\\.com')\n",
    "matches = pattern.finditer(email_string)\n",
    "counter = 0\n",
    "for mat in matches:\n",
    "    counter += 1\n",
    "print(counter)"
   ]
  },
  {
   "cell_type": "markdown",
   "metadata": {},
   "source": [
    "#### Find the number of entries that are not email ids (consider the entries that do not have a @ and a .com/.in/.org in them)"
   ]
  },
  {
   "cell_type": "code",
   "execution_count": 32,
   "metadata": {},
   "outputs": [
    {
     "data": {
      "text/plain": [
       "0               mnmwuhasdwqweqw\n",
       "1           cynvhupf@gamail.com\n",
       "2           doznfpxy@gamail.com\n",
       "3             ufpgolgelastqxaoi\n",
       "4      rdvafvkummnuj@yahooo.com\n",
       "                 ...           \n",
       "165         ptvqlffe@gamail.com\n",
       "166         lzcrsiuo@gamail.com\n",
       "167         iydthkxz@gamail.com\n",
       "168           mpmwehcnjjntjvfnl\n",
       "169      mphibnuxgtr@yahooo.com\n",
       "Name: Email Address, Length: 170, dtype: object"
      ]
     },
     "execution_count": 32,
     "metadata": {},
     "output_type": "execute_result"
    }
   ],
   "source": [
    "data['Email Address']"
   ]
  },
  {
   "cell_type": "code",
   "execution_count": 58,
   "metadata": {},
   "outputs": [
    {
     "name": "stdout",
     "output_type": "stream",
     "text": [
      "130\n"
     ]
    }
   ],
   "source": [
    "# pattern = re.compile(r'(\\s|^)[a-z]*[^(@|.com|.in)]')\n",
    "pattern = re.compile(r'@[a-zA-Z0-9_]+(\\.com|\\.in|\\.org)\\b')\n",
    "matches = pattern.finditer(email_string)\n",
    "counter = 0\n",
    "for mat in matches:\n",
    "    counter += 1\n",
    "    # print(mat)\n",
    "print(counter)"
   ]
  },
  {
   "cell_type": "markdown",
   "metadata": {},
   "source": [
    "#### find the total entries that have the pattern 'asd' in them"
   ]
  },
  {
   "cell_type": "code",
   "execution_count": 21,
   "metadata": {},
   "outputs": [
    {
     "name": "stdout",
     "output_type": "stream",
     "text": [
      "20\n"
     ]
    }
   ],
   "source": [
    "pattern = re.compile(r'asd')\n",
    "matches = pattern.finditer(email_string)\n",
    "counter = 0\n",
    "for mat in matches:\n",
    "    counter += 1\n",
    "print(counter)"
   ]
  },
  {
   "cell_type": "markdown",
   "metadata": {},
   "source": [
    "#### find the number of email Ids that start with k"
   ]
  },
  {
   "cell_type": "code",
   "execution_count": 59,
   "metadata": {},
   "outputs": [
    {
     "name": "stdout",
     "output_type": "stream",
     "text": [
      "4\n"
     ]
    }
   ],
   "source": [
    "pattern = re.compile(r'\\bk[a-zA-Z0-9_]*@[a-zA-Z0-9_]+(\\.com|\\.in|\\.org)\\b')\n",
    "matches = pattern.finditer(email_string)\n",
    "counter = 0\n",
    "for mat in matches:\n",
    "    counter += 1\n",
    "    # print(mat)\n",
    "print(counter)"
   ]
  },
  {
   "cell_type": "code",
   "execution_count": null,
   "metadata": {},
   "outputs": [],
   "source": []
  }
 ],
 "metadata": {
  "kernelspec": {
   "display_name": "Python 3",
   "language": "python",
   "name": "python3"
  },
  "language_info": {
   "codemirror_mode": {
    "name": "ipython",
    "version": 3
   },
   "file_extension": ".py",
   "mimetype": "text/x-python",
   "name": "python",
   "nbconvert_exporter": "python",
   "pygments_lexer": "ipython3",
   "version": "3.9.7"
  }
 },
 "nbformat": 4,
 "nbformat_minor": 2
}
