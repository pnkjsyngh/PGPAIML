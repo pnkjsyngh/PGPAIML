{
 "cells": [
  {
   "cell_type": "markdown",
   "metadata": {},
   "source": [
    "# Regular Expressions\n",
    "\n",
    "Regular expressions is a concept used to search for patterns in string text.\n",
    "\n",
    "This is a univerisal concept for any programming language or text editing program. \n",
    "\n",
    "We're going to learn the concepts while we learn the syntax for python.\n",
    "\n",
    "The goal of regular expressions is to be able to search for a specific type of text inside of a string.  If we have a form on our webpage where we ask for email addresses, can we check whether the inputted string actually follows the form of an email?  some letters or numbers or special characters, then an @ sign then some more letters numbers or special characters then a . then a few more letters"
   ]
  },
  {
   "cell_type": "code",
   "execution_count": 3,
   "metadata": {},
   "outputs": [],
   "source": [
    "import re\n",
    "\n",
    "text_to_search = '''\n",
    "abcdefghijklmnopqurtuvwxyz\n",
    "ABCDEFGHIJKLMNOPQRSTUVWXYZ\n",
    "1234567890\n",
    "123_abc\n",
    "\n",
    "Hello HelloHello\n",
    "\n",
    "MetaCharacters (Need to be escaped):\n",
    ". ^ $ * + ? { } [ ] \\ | ( )\n",
    "\n",
    "utexas.edu\n",
    "\n",
    "321-555-4321\n",
    "123.555.1234\n",
    "\n",
    "daniel-mitchell@utexas.edu\n",
    "\n",
    "Mr. Johnson\n",
    "Mr Smith\n",
    "Ms Davis\n",
    "Mrs. Robinson\n",
    "Mr. T\n",
    "'''\n",
    "\n",
    "\n"
   ]
  },
  {
   "cell_type": "markdown",
   "metadata": {},
   "source": [
    "## Searching literals"
   ]
  },
  {
   "cell_type": "code",
   "execution_count": 4,
   "metadata": {},
   "outputs": [],
   "source": [
    "pattern = re.compile(r'abc')"
   ]
  },
  {
   "cell_type": "code",
   "execution_count": 5,
   "metadata": {},
   "outputs": [],
   "source": [
    "matches = pattern.finditer(text_to_search)"
   ]
  },
  {
   "cell_type": "code",
   "execution_count": 6,
   "metadata": {},
   "outputs": [
    {
     "name": "stdout",
     "output_type": "stream",
     "text": [
      "<re.Match object; span=(1, 4), match='abc'>\n",
      "<re.Match object; span=(70, 73), match='abc'>\n"
     ]
    }
   ],
   "source": [
    "for mat in matches:\n",
    "    print(mat)"
   ]
  },
  {
   "cell_type": "code",
   "execution_count": 7,
   "metadata": {},
   "outputs": [
    {
     "name": "stdout",
     "output_type": "stream",
     "text": [
      "_ab\n"
     ]
    }
   ],
   "source": [
    "print(text_to_search[69:72])"
   ]
  },
  {
   "cell_type": "code",
   "execution_count": 8,
   "metadata": {},
   "outputs": [],
   "source": [
    "pattern = re.compile(r'cba')\n",
    "matches = pattern.finditer(text_to_search)\n",
    "for mat in matches:\n",
    "    print(mat)"
   ]
  },
  {
   "cell_type": "markdown",
   "metadata": {},
   "source": [
    "## Searching special characters"
   ]
  },
  {
   "cell_type": "code",
   "execution_count": 9,
   "metadata": {},
   "outputs": [
    {
     "name": "stdout",
     "output_type": "stream",
     "text": [
      "<re.Match object; span=(1, 2), match='a'>\n",
      "<re.Match object; span=(2, 3), match='b'>\n",
      "<re.Match object; span=(3, 4), match='c'>\n",
      "<re.Match object; span=(4, 5), match='d'>\n",
      "<re.Match object; span=(5, 6), match='e'>\n",
      "<re.Match object; span=(6, 7), match='f'>\n",
      "<re.Match object; span=(7, 8), match='g'>\n",
      "<re.Match object; span=(8, 9), match='h'>\n",
      "<re.Match object; span=(9, 10), match='i'>\n",
      "<re.Match object; span=(10, 11), match='j'>\n",
      "<re.Match object; span=(11, 12), match='k'>\n",
      "<re.Match object; span=(12, 13), match='l'>\n",
      "<re.Match object; span=(13, 14), match='m'>\n",
      "<re.Match object; span=(14, 15), match='n'>\n",
      "<re.Match object; span=(15, 16), match='o'>\n",
      "<re.Match object; span=(16, 17), match='p'>\n",
      "<re.Match object; span=(17, 18), match='q'>\n",
      "<re.Match object; span=(18, 19), match='u'>\n",
      "<re.Match object; span=(19, 20), match='r'>\n",
      "<re.Match object; span=(20, 21), match='t'>\n",
      "<re.Match object; span=(21, 22), match='u'>\n",
      "<re.Match object; span=(22, 23), match='v'>\n",
      "<re.Match object; span=(23, 24), match='w'>\n",
      "<re.Match object; span=(24, 25), match='x'>\n",
      "<re.Match object; span=(25, 26), match='y'>\n",
      "<re.Match object; span=(26, 27), match='z'>\n",
      "<re.Match object; span=(28, 29), match='A'>\n",
      "<re.Match object; span=(29, 30), match='B'>\n",
      "<re.Match object; span=(30, 31), match='C'>\n",
      "<re.Match object; span=(31, 32), match='D'>\n",
      "<re.Match object; span=(32, 33), match='E'>\n",
      "<re.Match object; span=(33, 34), match='F'>\n",
      "<re.Match object; span=(34, 35), match='G'>\n",
      "<re.Match object; span=(35, 36), match='H'>\n",
      "<re.Match object; span=(36, 37), match='I'>\n",
      "<re.Match object; span=(37, 38), match='J'>\n",
      "<re.Match object; span=(38, 39), match='K'>\n",
      "<re.Match object; span=(39, 40), match='L'>\n",
      "<re.Match object; span=(40, 41), match='M'>\n",
      "<re.Match object; span=(41, 42), match='N'>\n",
      "<re.Match object; span=(42, 43), match='O'>\n",
      "<re.Match object; span=(43, 44), match='P'>\n",
      "<re.Match object; span=(44, 45), match='Q'>\n",
      "<re.Match object; span=(45, 46), match='R'>\n",
      "<re.Match object; span=(46, 47), match='S'>\n",
      "<re.Match object; span=(47, 48), match='T'>\n",
      "<re.Match object; span=(48, 49), match='U'>\n",
      "<re.Match object; span=(49, 50), match='V'>\n",
      "<re.Match object; span=(50, 51), match='W'>\n",
      "<re.Match object; span=(51, 52), match='X'>\n",
      "<re.Match object; span=(52, 53), match='Y'>\n",
      "<re.Match object; span=(53, 54), match='Z'>\n",
      "<re.Match object; span=(55, 56), match='1'>\n",
      "<re.Match object; span=(56, 57), match='2'>\n",
      "<re.Match object; span=(57, 58), match='3'>\n",
      "<re.Match object; span=(58, 59), match='4'>\n",
      "<re.Match object; span=(59, 60), match='5'>\n",
      "<re.Match object; span=(60, 61), match='6'>\n",
      "<re.Match object; span=(61, 62), match='7'>\n",
      "<re.Match object; span=(62, 63), match='8'>\n",
      "<re.Match object; span=(63, 64), match='9'>\n",
      "<re.Match object; span=(64, 65), match='0'>\n",
      "<re.Match object; span=(66, 67), match='1'>\n",
      "<re.Match object; span=(67, 68), match='2'>\n",
      "<re.Match object; span=(68, 69), match='3'>\n",
      "<re.Match object; span=(69, 70), match='_'>\n",
      "<re.Match object; span=(70, 71), match='a'>\n",
      "<re.Match object; span=(71, 72), match='b'>\n",
      "<re.Match object; span=(72, 73), match='c'>\n",
      "<re.Match object; span=(75, 76), match='H'>\n",
      "<re.Match object; span=(76, 77), match='e'>\n",
      "<re.Match object; span=(77, 78), match='l'>\n",
      "<re.Match object; span=(78, 79), match='l'>\n",
      "<re.Match object; span=(79, 80), match='o'>\n",
      "<re.Match object; span=(80, 81), match=' '>\n",
      "<re.Match object; span=(81, 82), match='H'>\n",
      "<re.Match object; span=(82, 83), match='e'>\n",
      "<re.Match object; span=(83, 84), match='l'>\n",
      "<re.Match object; span=(84, 85), match='l'>\n",
      "<re.Match object; span=(85, 86), match='o'>\n",
      "<re.Match object; span=(86, 87), match='H'>\n",
      "<re.Match object; span=(87, 88), match='e'>\n",
      "<re.Match object; span=(88, 89), match='l'>\n",
      "<re.Match object; span=(89, 90), match='l'>\n",
      "<re.Match object; span=(90, 91), match='o'>\n",
      "<re.Match object; span=(93, 94), match='M'>\n",
      "<re.Match object; span=(94, 95), match='e'>\n",
      "<re.Match object; span=(95, 96), match='t'>\n",
      "<re.Match object; span=(96, 97), match='a'>\n",
      "<re.Match object; span=(97, 98), match='C'>\n",
      "<re.Match object; span=(98, 99), match='h'>\n",
      "<re.Match object; span=(99, 100), match='a'>\n",
      "<re.Match object; span=(100, 101), match='r'>\n",
      "<re.Match object; span=(101, 102), match='a'>\n",
      "<re.Match object; span=(102, 103), match='c'>\n",
      "<re.Match object; span=(103, 104), match='t'>\n",
      "<re.Match object; span=(104, 105), match='e'>\n",
      "<re.Match object; span=(105, 106), match='r'>\n",
      "<re.Match object; span=(106, 107), match='s'>\n",
      "<re.Match object; span=(107, 108), match=' '>\n",
      "<re.Match object; span=(108, 109), match='('>\n",
      "<re.Match object; span=(109, 110), match='N'>\n",
      "<re.Match object; span=(110, 111), match='e'>\n",
      "<re.Match object; span=(111, 112), match='e'>\n",
      "<re.Match object; span=(112, 113), match='d'>\n",
      "<re.Match object; span=(113, 114), match=' '>\n",
      "<re.Match object; span=(114, 115), match='t'>\n",
      "<re.Match object; span=(115, 116), match='o'>\n",
      "<re.Match object; span=(116, 117), match=' '>\n",
      "<re.Match object; span=(117, 118), match='b'>\n",
      "<re.Match object; span=(118, 119), match='e'>\n",
      "<re.Match object; span=(119, 120), match=' '>\n",
      "<re.Match object; span=(120, 121), match='e'>\n",
      "<re.Match object; span=(121, 122), match='s'>\n",
      "<re.Match object; span=(122, 123), match='c'>\n",
      "<re.Match object; span=(123, 124), match='a'>\n",
      "<re.Match object; span=(124, 125), match='p'>\n",
      "<re.Match object; span=(125, 126), match='e'>\n",
      "<re.Match object; span=(126, 127), match='d'>\n",
      "<re.Match object; span=(127, 128), match=')'>\n",
      "<re.Match object; span=(128, 129), match=':'>\n",
      "<re.Match object; span=(130, 131), match='.'>\n",
      "<re.Match object; span=(131, 132), match=' '>\n",
      "<re.Match object; span=(132, 133), match='^'>\n",
      "<re.Match object; span=(133, 134), match=' '>\n",
      "<re.Match object; span=(134, 135), match='$'>\n",
      "<re.Match object; span=(135, 136), match=' '>\n",
      "<re.Match object; span=(136, 137), match='*'>\n",
      "<re.Match object; span=(137, 138), match=' '>\n",
      "<re.Match object; span=(138, 139), match='+'>\n",
      "<re.Match object; span=(139, 140), match=' '>\n",
      "<re.Match object; span=(140, 141), match='?'>\n",
      "<re.Match object; span=(141, 142), match=' '>\n",
      "<re.Match object; span=(142, 143), match='{'>\n",
      "<re.Match object; span=(143, 144), match=' '>\n",
      "<re.Match object; span=(144, 145), match='}'>\n",
      "<re.Match object; span=(145, 146), match=' '>\n",
      "<re.Match object; span=(146, 147), match='['>\n",
      "<re.Match object; span=(147, 148), match=' '>\n",
      "<re.Match object; span=(148, 149), match=']'>\n",
      "<re.Match object; span=(149, 150), match=' '>\n",
      "<re.Match object; span=(150, 151), match='\\\\'>\n",
      "<re.Match object; span=(151, 152), match=' '>\n",
      "<re.Match object; span=(152, 153), match='|'>\n",
      "<re.Match object; span=(153, 154), match=' '>\n",
      "<re.Match object; span=(154, 155), match='('>\n",
      "<re.Match object; span=(155, 156), match=' '>\n",
      "<re.Match object; span=(156, 157), match=')'>\n",
      "<re.Match object; span=(159, 160), match='u'>\n",
      "<re.Match object; span=(160, 161), match='t'>\n",
      "<re.Match object; span=(161, 162), match='e'>\n",
      "<re.Match object; span=(162, 163), match='x'>\n",
      "<re.Match object; span=(163, 164), match='a'>\n",
      "<re.Match object; span=(164, 165), match='s'>\n",
      "<re.Match object; span=(165, 166), match='.'>\n",
      "<re.Match object; span=(166, 167), match='e'>\n",
      "<re.Match object; span=(167, 168), match='d'>\n",
      "<re.Match object; span=(168, 169), match='u'>\n",
      "<re.Match object; span=(171, 172), match='3'>\n",
      "<re.Match object; span=(172, 173), match='2'>\n",
      "<re.Match object; span=(173, 174), match='1'>\n",
      "<re.Match object; span=(174, 175), match='-'>\n",
      "<re.Match object; span=(175, 176), match='5'>\n",
      "<re.Match object; span=(176, 177), match='5'>\n",
      "<re.Match object; span=(177, 178), match='5'>\n",
      "<re.Match object; span=(178, 179), match='-'>\n",
      "<re.Match object; span=(179, 180), match='4'>\n",
      "<re.Match object; span=(180, 181), match='3'>\n",
      "<re.Match object; span=(181, 182), match='2'>\n",
      "<re.Match object; span=(182, 183), match='1'>\n",
      "<re.Match object; span=(184, 185), match='1'>\n",
      "<re.Match object; span=(185, 186), match='2'>\n",
      "<re.Match object; span=(186, 187), match='3'>\n",
      "<re.Match object; span=(187, 188), match='.'>\n",
      "<re.Match object; span=(188, 189), match='5'>\n",
      "<re.Match object; span=(189, 190), match='5'>\n",
      "<re.Match object; span=(190, 191), match='5'>\n",
      "<re.Match object; span=(191, 192), match='.'>\n",
      "<re.Match object; span=(192, 193), match='1'>\n",
      "<re.Match object; span=(193, 194), match='2'>\n",
      "<re.Match object; span=(194, 195), match='3'>\n",
      "<re.Match object; span=(195, 196), match='4'>\n",
      "<re.Match object; span=(198, 199), match='d'>\n",
      "<re.Match object; span=(199, 200), match='a'>\n",
      "<re.Match object; span=(200, 201), match='n'>\n",
      "<re.Match object; span=(201, 202), match='i'>\n",
      "<re.Match object; span=(202, 203), match='e'>\n",
      "<re.Match object; span=(203, 204), match='l'>\n",
      "<re.Match object; span=(204, 205), match='-'>\n",
      "<re.Match object; span=(205, 206), match='m'>\n",
      "<re.Match object; span=(206, 207), match='i'>\n",
      "<re.Match object; span=(207, 208), match='t'>\n",
      "<re.Match object; span=(208, 209), match='c'>\n",
      "<re.Match object; span=(209, 210), match='h'>\n",
      "<re.Match object; span=(210, 211), match='e'>\n",
      "<re.Match object; span=(211, 212), match='l'>\n",
      "<re.Match object; span=(212, 213), match='l'>\n",
      "<re.Match object; span=(213, 214), match='@'>\n",
      "<re.Match object; span=(214, 215), match='u'>\n",
      "<re.Match object; span=(215, 216), match='t'>\n",
      "<re.Match object; span=(216, 217), match='e'>\n",
      "<re.Match object; span=(217, 218), match='x'>\n",
      "<re.Match object; span=(218, 219), match='a'>\n",
      "<re.Match object; span=(219, 220), match='s'>\n",
      "<re.Match object; span=(220, 221), match='.'>\n",
      "<re.Match object; span=(221, 222), match='e'>\n",
      "<re.Match object; span=(222, 223), match='d'>\n",
      "<re.Match object; span=(223, 224), match='u'>\n",
      "<re.Match object; span=(226, 227), match='M'>\n",
      "<re.Match object; span=(227, 228), match='r'>\n",
      "<re.Match object; span=(228, 229), match='.'>\n",
      "<re.Match object; span=(229, 230), match=' '>\n",
      "<re.Match object; span=(230, 231), match='J'>\n",
      "<re.Match object; span=(231, 232), match='o'>\n",
      "<re.Match object; span=(232, 233), match='h'>\n",
      "<re.Match object; span=(233, 234), match='n'>\n",
      "<re.Match object; span=(234, 235), match='s'>\n",
      "<re.Match object; span=(235, 236), match='o'>\n",
      "<re.Match object; span=(236, 237), match='n'>\n",
      "<re.Match object; span=(238, 239), match='M'>\n",
      "<re.Match object; span=(239, 240), match='r'>\n",
      "<re.Match object; span=(240, 241), match=' '>\n",
      "<re.Match object; span=(241, 242), match='S'>\n",
      "<re.Match object; span=(242, 243), match='m'>\n",
      "<re.Match object; span=(243, 244), match='i'>\n",
      "<re.Match object; span=(244, 245), match='t'>\n",
      "<re.Match object; span=(245, 246), match='h'>\n",
      "<re.Match object; span=(247, 248), match='M'>\n",
      "<re.Match object; span=(248, 249), match='s'>\n",
      "<re.Match object; span=(249, 250), match=' '>\n",
      "<re.Match object; span=(250, 251), match='D'>\n",
      "<re.Match object; span=(251, 252), match='a'>\n",
      "<re.Match object; span=(252, 253), match='v'>\n",
      "<re.Match object; span=(253, 254), match='i'>\n",
      "<re.Match object; span=(254, 255), match='s'>\n",
      "<re.Match object; span=(256, 257), match='M'>\n",
      "<re.Match object; span=(257, 258), match='r'>\n",
      "<re.Match object; span=(258, 259), match='s'>\n",
      "<re.Match object; span=(259, 260), match='.'>\n",
      "<re.Match object; span=(260, 261), match=' '>\n",
      "<re.Match object; span=(261, 262), match='R'>\n",
      "<re.Match object; span=(262, 263), match='o'>\n",
      "<re.Match object; span=(263, 264), match='b'>\n",
      "<re.Match object; span=(264, 265), match='i'>\n",
      "<re.Match object; span=(265, 266), match='n'>\n",
      "<re.Match object; span=(266, 267), match='s'>\n",
      "<re.Match object; span=(267, 268), match='o'>\n",
      "<re.Match object; span=(268, 269), match='n'>\n",
      "<re.Match object; span=(270, 271), match='M'>\n",
      "<re.Match object; span=(271, 272), match='r'>\n",
      "<re.Match object; span=(272, 273), match='.'>\n",
      "<re.Match object; span=(273, 274), match=' '>\n",
      "<re.Match object; span=(274, 275), match='T'>\n"
     ]
    }
   ],
   "source": [
    "pattern = re.compile(r'.')\n",
    "matches = pattern.finditer(text_to_search)\n",
    "for mat in matches:\n",
    "    print(mat)"
   ]
  },
  {
   "cell_type": "code",
   "execution_count": 10,
   "metadata": {},
   "outputs": [
    {
     "name": "stdout",
     "output_type": "stream",
     "text": [
      "<re.Match object; span=(130, 131), match='.'>\n",
      "<re.Match object; span=(165, 166), match='.'>\n",
      "<re.Match object; span=(187, 188), match='.'>\n",
      "<re.Match object; span=(191, 192), match='.'>\n",
      "<re.Match object; span=(220, 221), match='.'>\n",
      "<re.Match object; span=(228, 229), match='.'>\n",
      "<re.Match object; span=(259, 260), match='.'>\n",
      "<re.Match object; span=(272, 273), match='.'>\n"
     ]
    }
   ],
   "source": [
    "pattern = re.compile(r'\\.')\n",
    "matches = pattern.finditer(text_to_search)\n",
    "for mat in matches:\n",
    "    print(mat)"
   ]
  },
  {
   "cell_type": "code",
   "execution_count": 11,
   "metadata": {},
   "outputs": [
    {
     "name": "stdout",
     "output_type": "stream",
     "text": [
      "<re.Match object; span=(55, 56), match='1'>\n",
      "<re.Match object; span=(56, 57), match='2'>\n",
      "<re.Match object; span=(57, 58), match='3'>\n",
      "<re.Match object; span=(58, 59), match='4'>\n",
      "<re.Match object; span=(59, 60), match='5'>\n",
      "<re.Match object; span=(60, 61), match='6'>\n",
      "<re.Match object; span=(61, 62), match='7'>\n",
      "<re.Match object; span=(62, 63), match='8'>\n",
      "<re.Match object; span=(63, 64), match='9'>\n",
      "<re.Match object; span=(64, 65), match='0'>\n",
      "<re.Match object; span=(66, 67), match='1'>\n",
      "<re.Match object; span=(67, 68), match='2'>\n",
      "<re.Match object; span=(68, 69), match='3'>\n",
      "<re.Match object; span=(171, 172), match='3'>\n",
      "<re.Match object; span=(172, 173), match='2'>\n",
      "<re.Match object; span=(173, 174), match='1'>\n",
      "<re.Match object; span=(175, 176), match='5'>\n",
      "<re.Match object; span=(176, 177), match='5'>\n",
      "<re.Match object; span=(177, 178), match='5'>\n",
      "<re.Match object; span=(179, 180), match='4'>\n",
      "<re.Match object; span=(180, 181), match='3'>\n",
      "<re.Match object; span=(181, 182), match='2'>\n",
      "<re.Match object; span=(182, 183), match='1'>\n",
      "<re.Match object; span=(184, 185), match='1'>\n",
      "<re.Match object; span=(185, 186), match='2'>\n",
      "<re.Match object; span=(186, 187), match='3'>\n",
      "<re.Match object; span=(188, 189), match='5'>\n",
      "<re.Match object; span=(189, 190), match='5'>\n",
      "<re.Match object; span=(190, 191), match='5'>\n",
      "<re.Match object; span=(192, 193), match='1'>\n",
      "<re.Match object; span=(193, 194), match='2'>\n",
      "<re.Match object; span=(194, 195), match='3'>\n",
      "<re.Match object; span=(195, 196), match='4'>\n"
     ]
    }
   ],
   "source": [
    "pattern = re.compile(r'\\d')\n",
    "matches = pattern.finditer(text_to_search)\n",
    "for mat in matches:\n",
    "    print(mat)"
   ]
  },
  {
   "cell_type": "code",
   "execution_count": 12,
   "metadata": {},
   "outputs": [
    {
     "name": "stdout",
     "output_type": "stream",
     "text": [
      "<re.Match object; span=(0, 1), match='\\n'>\n",
      "<re.Match object; span=(1, 2), match='a'>\n",
      "<re.Match object; span=(2, 3), match='b'>\n",
      "<re.Match object; span=(3, 4), match='c'>\n",
      "<re.Match object; span=(4, 5), match='d'>\n",
      "<re.Match object; span=(5, 6), match='e'>\n",
      "<re.Match object; span=(6, 7), match='f'>\n",
      "<re.Match object; span=(7, 8), match='g'>\n",
      "<re.Match object; span=(8, 9), match='h'>\n",
      "<re.Match object; span=(9, 10), match='i'>\n",
      "<re.Match object; span=(10, 11), match='j'>\n",
      "<re.Match object; span=(11, 12), match='k'>\n",
      "<re.Match object; span=(12, 13), match='l'>\n",
      "<re.Match object; span=(13, 14), match='m'>\n",
      "<re.Match object; span=(14, 15), match='n'>\n",
      "<re.Match object; span=(15, 16), match='o'>\n",
      "<re.Match object; span=(16, 17), match='p'>\n",
      "<re.Match object; span=(17, 18), match='q'>\n",
      "<re.Match object; span=(18, 19), match='u'>\n",
      "<re.Match object; span=(19, 20), match='r'>\n",
      "<re.Match object; span=(20, 21), match='t'>\n",
      "<re.Match object; span=(21, 22), match='u'>\n",
      "<re.Match object; span=(22, 23), match='v'>\n",
      "<re.Match object; span=(23, 24), match='w'>\n",
      "<re.Match object; span=(24, 25), match='x'>\n",
      "<re.Match object; span=(25, 26), match='y'>\n",
      "<re.Match object; span=(26, 27), match='z'>\n",
      "<re.Match object; span=(27, 28), match='\\n'>\n",
      "<re.Match object; span=(28, 29), match='A'>\n",
      "<re.Match object; span=(29, 30), match='B'>\n",
      "<re.Match object; span=(30, 31), match='C'>\n",
      "<re.Match object; span=(31, 32), match='D'>\n",
      "<re.Match object; span=(32, 33), match='E'>\n",
      "<re.Match object; span=(33, 34), match='F'>\n",
      "<re.Match object; span=(34, 35), match='G'>\n",
      "<re.Match object; span=(35, 36), match='H'>\n",
      "<re.Match object; span=(36, 37), match='I'>\n",
      "<re.Match object; span=(37, 38), match='J'>\n",
      "<re.Match object; span=(38, 39), match='K'>\n",
      "<re.Match object; span=(39, 40), match='L'>\n",
      "<re.Match object; span=(40, 41), match='M'>\n",
      "<re.Match object; span=(41, 42), match='N'>\n",
      "<re.Match object; span=(42, 43), match='O'>\n",
      "<re.Match object; span=(43, 44), match='P'>\n",
      "<re.Match object; span=(44, 45), match='Q'>\n",
      "<re.Match object; span=(45, 46), match='R'>\n",
      "<re.Match object; span=(46, 47), match='S'>\n",
      "<re.Match object; span=(47, 48), match='T'>\n",
      "<re.Match object; span=(48, 49), match='U'>\n",
      "<re.Match object; span=(49, 50), match='V'>\n",
      "<re.Match object; span=(50, 51), match='W'>\n",
      "<re.Match object; span=(51, 52), match='X'>\n",
      "<re.Match object; span=(52, 53), match='Y'>\n",
      "<re.Match object; span=(53, 54), match='Z'>\n",
      "<re.Match object; span=(54, 55), match='\\n'>\n",
      "<re.Match object; span=(65, 66), match='\\n'>\n",
      "<re.Match object; span=(69, 70), match='_'>\n",
      "<re.Match object; span=(70, 71), match='a'>\n",
      "<re.Match object; span=(71, 72), match='b'>\n",
      "<re.Match object; span=(72, 73), match='c'>\n",
      "<re.Match object; span=(73, 74), match='\\n'>\n",
      "<re.Match object; span=(74, 75), match='\\n'>\n",
      "<re.Match object; span=(75, 76), match='H'>\n",
      "<re.Match object; span=(76, 77), match='e'>\n",
      "<re.Match object; span=(77, 78), match='l'>\n",
      "<re.Match object; span=(78, 79), match='l'>\n",
      "<re.Match object; span=(79, 80), match='o'>\n",
      "<re.Match object; span=(80, 81), match=' '>\n",
      "<re.Match object; span=(81, 82), match='H'>\n",
      "<re.Match object; span=(82, 83), match='e'>\n",
      "<re.Match object; span=(83, 84), match='l'>\n",
      "<re.Match object; span=(84, 85), match='l'>\n",
      "<re.Match object; span=(85, 86), match='o'>\n",
      "<re.Match object; span=(86, 87), match='H'>\n",
      "<re.Match object; span=(87, 88), match='e'>\n",
      "<re.Match object; span=(88, 89), match='l'>\n",
      "<re.Match object; span=(89, 90), match='l'>\n",
      "<re.Match object; span=(90, 91), match='o'>\n",
      "<re.Match object; span=(91, 92), match='\\n'>\n",
      "<re.Match object; span=(92, 93), match='\\n'>\n",
      "<re.Match object; span=(93, 94), match='M'>\n",
      "<re.Match object; span=(94, 95), match='e'>\n",
      "<re.Match object; span=(95, 96), match='t'>\n",
      "<re.Match object; span=(96, 97), match='a'>\n",
      "<re.Match object; span=(97, 98), match='C'>\n",
      "<re.Match object; span=(98, 99), match='h'>\n",
      "<re.Match object; span=(99, 100), match='a'>\n",
      "<re.Match object; span=(100, 101), match='r'>\n",
      "<re.Match object; span=(101, 102), match='a'>\n",
      "<re.Match object; span=(102, 103), match='c'>\n",
      "<re.Match object; span=(103, 104), match='t'>\n",
      "<re.Match object; span=(104, 105), match='e'>\n",
      "<re.Match object; span=(105, 106), match='r'>\n",
      "<re.Match object; span=(106, 107), match='s'>\n",
      "<re.Match object; span=(107, 108), match=' '>\n",
      "<re.Match object; span=(108, 109), match='('>\n",
      "<re.Match object; span=(109, 110), match='N'>\n",
      "<re.Match object; span=(110, 111), match='e'>\n",
      "<re.Match object; span=(111, 112), match='e'>\n",
      "<re.Match object; span=(112, 113), match='d'>\n",
      "<re.Match object; span=(113, 114), match=' '>\n",
      "<re.Match object; span=(114, 115), match='t'>\n",
      "<re.Match object; span=(115, 116), match='o'>\n",
      "<re.Match object; span=(116, 117), match=' '>\n",
      "<re.Match object; span=(117, 118), match='b'>\n",
      "<re.Match object; span=(118, 119), match='e'>\n",
      "<re.Match object; span=(119, 120), match=' '>\n",
      "<re.Match object; span=(120, 121), match='e'>\n",
      "<re.Match object; span=(121, 122), match='s'>\n",
      "<re.Match object; span=(122, 123), match='c'>\n",
      "<re.Match object; span=(123, 124), match='a'>\n",
      "<re.Match object; span=(124, 125), match='p'>\n",
      "<re.Match object; span=(125, 126), match='e'>\n",
      "<re.Match object; span=(126, 127), match='d'>\n",
      "<re.Match object; span=(127, 128), match=')'>\n",
      "<re.Match object; span=(128, 129), match=':'>\n",
      "<re.Match object; span=(129, 130), match='\\n'>\n",
      "<re.Match object; span=(130, 131), match='.'>\n",
      "<re.Match object; span=(131, 132), match=' '>\n",
      "<re.Match object; span=(132, 133), match='^'>\n",
      "<re.Match object; span=(133, 134), match=' '>\n",
      "<re.Match object; span=(134, 135), match='$'>\n",
      "<re.Match object; span=(135, 136), match=' '>\n",
      "<re.Match object; span=(136, 137), match='*'>\n",
      "<re.Match object; span=(137, 138), match=' '>\n",
      "<re.Match object; span=(138, 139), match='+'>\n",
      "<re.Match object; span=(139, 140), match=' '>\n",
      "<re.Match object; span=(140, 141), match='?'>\n",
      "<re.Match object; span=(141, 142), match=' '>\n",
      "<re.Match object; span=(142, 143), match='{'>\n",
      "<re.Match object; span=(143, 144), match=' '>\n",
      "<re.Match object; span=(144, 145), match='}'>\n",
      "<re.Match object; span=(145, 146), match=' '>\n",
      "<re.Match object; span=(146, 147), match='['>\n",
      "<re.Match object; span=(147, 148), match=' '>\n",
      "<re.Match object; span=(148, 149), match=']'>\n",
      "<re.Match object; span=(149, 150), match=' '>\n",
      "<re.Match object; span=(150, 151), match='\\\\'>\n",
      "<re.Match object; span=(151, 152), match=' '>\n",
      "<re.Match object; span=(152, 153), match='|'>\n",
      "<re.Match object; span=(153, 154), match=' '>\n",
      "<re.Match object; span=(154, 155), match='('>\n",
      "<re.Match object; span=(155, 156), match=' '>\n",
      "<re.Match object; span=(156, 157), match=')'>\n",
      "<re.Match object; span=(157, 158), match='\\n'>\n",
      "<re.Match object; span=(158, 159), match='\\n'>\n",
      "<re.Match object; span=(159, 160), match='u'>\n",
      "<re.Match object; span=(160, 161), match='t'>\n",
      "<re.Match object; span=(161, 162), match='e'>\n",
      "<re.Match object; span=(162, 163), match='x'>\n",
      "<re.Match object; span=(163, 164), match='a'>\n",
      "<re.Match object; span=(164, 165), match='s'>\n",
      "<re.Match object; span=(165, 166), match='.'>\n",
      "<re.Match object; span=(166, 167), match='e'>\n",
      "<re.Match object; span=(167, 168), match='d'>\n",
      "<re.Match object; span=(168, 169), match='u'>\n",
      "<re.Match object; span=(169, 170), match='\\n'>\n",
      "<re.Match object; span=(170, 171), match='\\n'>\n",
      "<re.Match object; span=(174, 175), match='-'>\n",
      "<re.Match object; span=(178, 179), match='-'>\n",
      "<re.Match object; span=(183, 184), match='\\n'>\n",
      "<re.Match object; span=(187, 188), match='.'>\n",
      "<re.Match object; span=(191, 192), match='.'>\n",
      "<re.Match object; span=(196, 197), match='\\n'>\n",
      "<re.Match object; span=(197, 198), match='\\n'>\n",
      "<re.Match object; span=(198, 199), match='d'>\n",
      "<re.Match object; span=(199, 200), match='a'>\n",
      "<re.Match object; span=(200, 201), match='n'>\n",
      "<re.Match object; span=(201, 202), match='i'>\n",
      "<re.Match object; span=(202, 203), match='e'>\n",
      "<re.Match object; span=(203, 204), match='l'>\n",
      "<re.Match object; span=(204, 205), match='-'>\n",
      "<re.Match object; span=(205, 206), match='m'>\n",
      "<re.Match object; span=(206, 207), match='i'>\n",
      "<re.Match object; span=(207, 208), match='t'>\n",
      "<re.Match object; span=(208, 209), match='c'>\n",
      "<re.Match object; span=(209, 210), match='h'>\n",
      "<re.Match object; span=(210, 211), match='e'>\n",
      "<re.Match object; span=(211, 212), match='l'>\n",
      "<re.Match object; span=(212, 213), match='l'>\n",
      "<re.Match object; span=(213, 214), match='@'>\n",
      "<re.Match object; span=(214, 215), match='u'>\n",
      "<re.Match object; span=(215, 216), match='t'>\n",
      "<re.Match object; span=(216, 217), match='e'>\n",
      "<re.Match object; span=(217, 218), match='x'>\n",
      "<re.Match object; span=(218, 219), match='a'>\n",
      "<re.Match object; span=(219, 220), match='s'>\n",
      "<re.Match object; span=(220, 221), match='.'>\n",
      "<re.Match object; span=(221, 222), match='e'>\n",
      "<re.Match object; span=(222, 223), match='d'>\n",
      "<re.Match object; span=(223, 224), match='u'>\n",
      "<re.Match object; span=(224, 225), match='\\n'>\n",
      "<re.Match object; span=(225, 226), match='\\n'>\n",
      "<re.Match object; span=(226, 227), match='M'>\n",
      "<re.Match object; span=(227, 228), match='r'>\n",
      "<re.Match object; span=(228, 229), match='.'>\n",
      "<re.Match object; span=(229, 230), match=' '>\n",
      "<re.Match object; span=(230, 231), match='J'>\n",
      "<re.Match object; span=(231, 232), match='o'>\n",
      "<re.Match object; span=(232, 233), match='h'>\n",
      "<re.Match object; span=(233, 234), match='n'>\n",
      "<re.Match object; span=(234, 235), match='s'>\n",
      "<re.Match object; span=(235, 236), match='o'>\n",
      "<re.Match object; span=(236, 237), match='n'>\n",
      "<re.Match object; span=(237, 238), match='\\n'>\n",
      "<re.Match object; span=(238, 239), match='M'>\n",
      "<re.Match object; span=(239, 240), match='r'>\n",
      "<re.Match object; span=(240, 241), match=' '>\n",
      "<re.Match object; span=(241, 242), match='S'>\n",
      "<re.Match object; span=(242, 243), match='m'>\n",
      "<re.Match object; span=(243, 244), match='i'>\n",
      "<re.Match object; span=(244, 245), match='t'>\n",
      "<re.Match object; span=(245, 246), match='h'>\n",
      "<re.Match object; span=(246, 247), match='\\n'>\n",
      "<re.Match object; span=(247, 248), match='M'>\n",
      "<re.Match object; span=(248, 249), match='s'>\n",
      "<re.Match object; span=(249, 250), match=' '>\n",
      "<re.Match object; span=(250, 251), match='D'>\n",
      "<re.Match object; span=(251, 252), match='a'>\n",
      "<re.Match object; span=(252, 253), match='v'>\n",
      "<re.Match object; span=(253, 254), match='i'>\n",
      "<re.Match object; span=(254, 255), match='s'>\n",
      "<re.Match object; span=(255, 256), match='\\n'>\n",
      "<re.Match object; span=(256, 257), match='M'>\n",
      "<re.Match object; span=(257, 258), match='r'>\n",
      "<re.Match object; span=(258, 259), match='s'>\n",
      "<re.Match object; span=(259, 260), match='.'>\n",
      "<re.Match object; span=(260, 261), match=' '>\n",
      "<re.Match object; span=(261, 262), match='R'>\n",
      "<re.Match object; span=(262, 263), match='o'>\n",
      "<re.Match object; span=(263, 264), match='b'>\n",
      "<re.Match object; span=(264, 265), match='i'>\n",
      "<re.Match object; span=(265, 266), match='n'>\n",
      "<re.Match object; span=(266, 267), match='s'>\n",
      "<re.Match object; span=(267, 268), match='o'>\n",
      "<re.Match object; span=(268, 269), match='n'>\n",
      "<re.Match object; span=(269, 270), match='\\n'>\n",
      "<re.Match object; span=(270, 271), match='M'>\n",
      "<re.Match object; span=(271, 272), match='r'>\n",
      "<re.Match object; span=(272, 273), match='.'>\n",
      "<re.Match object; span=(273, 274), match=' '>\n",
      "<re.Match object; span=(274, 275), match='T'>\n",
      "<re.Match object; span=(275, 276), match='\\n'>\n"
     ]
    }
   ],
   "source": [
    "pattern = re.compile(r'\\D')\n",
    "matches = pattern.finditer(text_to_search)\n",
    "for mat in matches:\n",
    "    print(mat)"
   ]
  },
  {
   "cell_type": "code",
   "execution_count": 13,
   "metadata": {},
   "outputs": [
    {
     "name": "stdout",
     "output_type": "stream",
     "text": [
      "<re.Match object; span=(55, 57), match='12'>\n",
      "<re.Match object; span=(57, 59), match='34'>\n",
      "<re.Match object; span=(59, 61), match='56'>\n",
      "<re.Match object; span=(61, 63), match='78'>\n",
      "<re.Match object; span=(63, 65), match='90'>\n",
      "<re.Match object; span=(66, 68), match='12'>\n",
      "<re.Match object; span=(171, 173), match='32'>\n",
      "<re.Match object; span=(175, 177), match='55'>\n",
      "<re.Match object; span=(179, 181), match='43'>\n",
      "<re.Match object; span=(181, 183), match='21'>\n",
      "<re.Match object; span=(184, 186), match='12'>\n",
      "<re.Match object; span=(188, 190), match='55'>\n",
      "<re.Match object; span=(192, 194), match='12'>\n",
      "<re.Match object; span=(194, 196), match='34'>\n"
     ]
    }
   ],
   "source": [
    "pattern = re.compile(r'\\d\\d')\n",
    "matches = pattern.finditer(text_to_search)\n",
    "for mat in matches:\n",
    "    print(mat)"
   ]
  },
  {
   "cell_type": "code",
   "execution_count": 14,
   "metadata": {},
   "outputs": [
    {
     "name": "stdout",
     "output_type": "stream",
     "text": [
      "<re.Match object; span=(64, 66), match='0\\n'>\n",
      "<re.Match object; span=(182, 184), match='1\\n'>\n",
      "<re.Match object; span=(195, 197), match='4\\n'>\n"
     ]
    }
   ],
   "source": [
    "pattern = re.compile(r'\\d\\s')\n",
    "matches = pattern.finditer(text_to_search)\n",
    "for mat in matches:\n",
    "    print(mat)"
   ]
  },
  {
   "cell_type": "markdown",
   "metadata": {},
   "source": [
    "## Word boundary"
   ]
  },
  {
   "cell_type": "code",
   "execution_count": 15,
   "metadata": {},
   "outputs": [
    {
     "name": "stdout",
     "output_type": "stream",
     "text": [
      "<re.Match object; span=(75, 80), match='Hello'>\n",
      "<re.Match object; span=(81, 86), match='Hello'>\n",
      "<re.Match object; span=(86, 91), match='Hello'>\n"
     ]
    }
   ],
   "source": [
    "# Hello HelloHello\n",
    "pattern = re.compile(r'Hello')\n",
    "matches = pattern.finditer(text_to_search)\n",
    "for mat in matches:\n",
    "    print(mat)"
   ]
  },
  {
   "cell_type": "code",
   "execution_count": 16,
   "metadata": {},
   "outputs": [
    {
     "name": "stdout",
     "output_type": "stream",
     "text": [
      "<re.Match object; span=(75, 80), match='Hello'>\n",
      "<re.Match object; span=(86, 91), match='Hello'>\n"
     ]
    }
   ],
   "source": [
    "pattern = re.compile(r'Hello\\b')\n",
    "matches = pattern.finditer(text_to_search)\n",
    "for mat in matches:\n",
    "    print(mat)"
   ]
  },
  {
   "cell_type": "code",
   "execution_count": 17,
   "metadata": {},
   "outputs": [
    {
     "name": "stdout",
     "output_type": "stream",
     "text": [
      "<re.Match object; span=(75, 80), match='Hello'>\n"
     ]
    }
   ],
   "source": [
    "pattern = re.compile(r'\\bHello\\b')\n",
    "matches = pattern.finditer(text_to_search)\n",
    "for mat in matches:\n",
    "    print(mat)"
   ]
  },
  {
   "cell_type": "code",
   "execution_count": 18,
   "metadata": {},
   "outputs": [
    {
     "name": "stdout",
     "output_type": "stream",
     "text": [
      "<re.Match object; span=(86, 91), match='Hello'>\n"
     ]
    }
   ],
   "source": [
    "pattern = re.compile(r'\\BHello\\b')\n",
    "matches = pattern.finditer(text_to_search)\n",
    "for mat in matches:\n",
    "    print(mat)"
   ]
  },
  {
   "cell_type": "code",
   "execution_count": 19,
   "metadata": {
    "scrolled": true
   },
   "outputs": [
    {
     "name": "stdout",
     "output_type": "stream",
     "text": [
      "<re.Match object; span=(55, 56), match='1'>\n",
      "<re.Match object; span=(66, 67), match='1'>\n",
      "<re.Match object; span=(171, 172), match='3'>\n",
      "<re.Match object; span=(175, 176), match='5'>\n",
      "<re.Match object; span=(179, 180), match='4'>\n",
      "<re.Match object; span=(184, 185), match='1'>\n",
      "<re.Match object; span=(188, 189), match='5'>\n",
      "<re.Match object; span=(192, 193), match='1'>\n"
     ]
    }
   ],
   "source": [
    "pattern = re.compile(r'\\b\\d')\n",
    "matches = pattern.finditer(text_to_search)\n",
    "for mat in matches:\n",
    "    print(mat)"
   ]
  },
  {
   "cell_type": "code",
   "execution_count": 20,
   "metadata": {},
   "outputs": [
    {
     "name": "stdout",
     "output_type": "stream",
     "text": [
      "<re.Match object; span=(0, 1), match='\\n'>\n"
     ]
    }
   ],
   "source": [
    "pattern = re.compile(r'^\\s')\n",
    "matches = pattern.finditer(text_to_search)\n",
    "for mat in matches:\n",
    "    print(mat)"
   ]
  },
  {
   "cell_type": "markdown",
   "metadata": {},
   "source": [
    "## Character sets"
   ]
  },
  {
   "cell_type": "code",
   "execution_count": 21,
   "metadata": {},
   "outputs": [
    {
     "name": "stdout",
     "output_type": "stream",
     "text": [
      "<re.Match object; span=(55, 57), match='12'>\n",
      "<re.Match object; span=(57, 59), match='34'>\n",
      "<re.Match object; span=(66, 68), match='12'>\n",
      "<re.Match object; span=(68, 70), match='3_'>\n",
      "<re.Match object; span=(171, 173), match='32'>\n",
      "<re.Match object; span=(180, 182), match='32'>\n",
      "<re.Match object; span=(184, 186), match='12'>\n",
      "<re.Match object; span=(192, 194), match='12'>\n",
      "<re.Match object; span=(194, 196), match='34'>\n"
     ]
    }
   ],
   "source": [
    "pattern = re.compile(r'[123]\\w')\n",
    "matches = pattern.finditer(text_to_search)\n",
    "for mat in matches:\n",
    "    print(mat)"
   ]
  },
  {
   "cell_type": "code",
   "execution_count": 22,
   "metadata": {},
   "outputs": [
    {
     "name": "stdout",
     "output_type": "stream",
     "text": [
      "<re.Match object; span=(1, 3), match='ab'>\n",
      "<re.Match object; span=(3, 5), match='cd'>\n",
      "<re.Match object; span=(5, 7), match='ef'>\n",
      "<re.Match object; span=(7, 9), match='gh'>\n",
      "<re.Match object; span=(9, 11), match='ij'>\n",
      "<re.Match object; span=(11, 13), match='kl'>\n",
      "<re.Match object; span=(13, 15), match='mn'>\n",
      "<re.Match object; span=(15, 17), match='op'>\n",
      "<re.Match object; span=(17, 19), match='qu'>\n",
      "<re.Match object; span=(19, 21), match='rt'>\n",
      "<re.Match object; span=(21, 23), match='uv'>\n",
      "<re.Match object; span=(23, 25), match='wx'>\n",
      "<re.Match object; span=(25, 27), match='yz'>\n",
      "<re.Match object; span=(70, 72), match='ab'>\n",
      "<re.Match object; span=(76, 78), match='el'>\n",
      "<re.Match object; span=(78, 80), match='lo'>\n",
      "<re.Match object; span=(82, 84), match='el'>\n",
      "<re.Match object; span=(84, 86), match='lo'>\n",
      "<re.Match object; span=(87, 89), match='el'>\n",
      "<re.Match object; span=(89, 91), match='lo'>\n",
      "<re.Match object; span=(94, 96), match='et'>\n",
      "<re.Match object; span=(98, 100), match='ha'>\n",
      "<re.Match object; span=(100, 102), match='ra'>\n",
      "<re.Match object; span=(102, 104), match='ct'>\n",
      "<re.Match object; span=(104, 106), match='er'>\n",
      "<re.Match object; span=(110, 112), match='ee'>\n",
      "<re.Match object; span=(114, 116), match='to'>\n",
      "<re.Match object; span=(117, 119), match='be'>\n",
      "<re.Match object; span=(120, 122), match='es'>\n",
      "<re.Match object; span=(122, 124), match='ca'>\n",
      "<re.Match object; span=(124, 126), match='pe'>\n",
      "<re.Match object; span=(159, 161), match='ut'>\n",
      "<re.Match object; span=(161, 163), match='ex'>\n",
      "<re.Match object; span=(163, 165), match='as'>\n",
      "<re.Match object; span=(166, 168), match='ed'>\n",
      "<re.Match object; span=(198, 200), match='da'>\n",
      "<re.Match object; span=(200, 202), match='ni'>\n",
      "<re.Match object; span=(202, 204), match='el'>\n",
      "<re.Match object; span=(205, 207), match='mi'>\n",
      "<re.Match object; span=(207, 209), match='tc'>\n",
      "<re.Match object; span=(209, 211), match='he'>\n",
      "<re.Match object; span=(211, 213), match='ll'>\n",
      "<re.Match object; span=(214, 216), match='ut'>\n",
      "<re.Match object; span=(216, 218), match='ex'>\n",
      "<re.Match object; span=(218, 220), match='as'>\n",
      "<re.Match object; span=(221, 223), match='ed'>\n",
      "<re.Match object; span=(231, 233), match='oh'>\n",
      "<re.Match object; span=(233, 235), match='ns'>\n",
      "<re.Match object; span=(235, 237), match='on'>\n",
      "<re.Match object; span=(242, 244), match='mi'>\n",
      "<re.Match object; span=(244, 246), match='th'>\n",
      "<re.Match object; span=(251, 253), match='av'>\n",
      "<re.Match object; span=(253, 255), match='is'>\n",
      "<re.Match object; span=(257, 259), match='rs'>\n",
      "<re.Match object; span=(262, 264), match='ob'>\n",
      "<re.Match object; span=(264, 266), match='in'>\n",
      "<re.Match object; span=(266, 268), match='so'>\n"
     ]
    }
   ],
   "source": [
    "pattern = re.compile(r'[a-z][a-z]')\n",
    "matches = pattern.finditer(text_to_search)\n",
    "for mat in matches:\n",
    "    print(mat)"
   ]
  },
  {
   "cell_type": "code",
   "execution_count": 23,
   "metadata": {},
   "outputs": [
    {
     "name": "stdout",
     "output_type": "stream",
     "text": [
      "<re.Match object; span=(1, 3), match='ab'>\n",
      "<re.Match object; span=(3, 5), match='cd'>\n",
      "<re.Match object; span=(5, 7), match='ef'>\n",
      "<re.Match object; span=(7, 9), match='gh'>\n",
      "<re.Match object; span=(9, 11), match='ij'>\n",
      "<re.Match object; span=(11, 13), match='kl'>\n",
      "<re.Match object; span=(13, 15), match='mn'>\n",
      "<re.Match object; span=(15, 17), match='op'>\n",
      "<re.Match object; span=(17, 19), match='qu'>\n",
      "<re.Match object; span=(19, 21), match='rt'>\n",
      "<re.Match object; span=(21, 23), match='uv'>\n",
      "<re.Match object; span=(23, 25), match='wx'>\n",
      "<re.Match object; span=(25, 27), match='yz'>\n",
      "<re.Match object; span=(28, 30), match='AB'>\n",
      "<re.Match object; span=(30, 32), match='CD'>\n",
      "<re.Match object; span=(32, 34), match='EF'>\n",
      "<re.Match object; span=(34, 36), match='GH'>\n",
      "<re.Match object; span=(36, 38), match='IJ'>\n",
      "<re.Match object; span=(38, 40), match='KL'>\n",
      "<re.Match object; span=(40, 42), match='MN'>\n",
      "<re.Match object; span=(42, 44), match='OP'>\n",
      "<re.Match object; span=(44, 46), match='QR'>\n",
      "<re.Match object; span=(46, 48), match='ST'>\n",
      "<re.Match object; span=(48, 50), match='UV'>\n",
      "<re.Match object; span=(50, 52), match='WX'>\n",
      "<re.Match object; span=(52, 54), match='YZ'>\n",
      "<re.Match object; span=(68, 70), match='3_'>\n",
      "<re.Match object; span=(70, 72), match='ab'>\n",
      "<re.Match object; span=(75, 77), match='He'>\n",
      "<re.Match object; span=(77, 79), match='ll'>\n",
      "<re.Match object; span=(81, 83), match='He'>\n",
      "<re.Match object; span=(83, 85), match='ll'>\n",
      "<re.Match object; span=(85, 87), match='oH'>\n",
      "<re.Match object; span=(87, 89), match='el'>\n",
      "<re.Match object; span=(89, 91), match='lo'>\n",
      "<re.Match object; span=(93, 95), match='Me'>\n",
      "<re.Match object; span=(95, 97), match='ta'>\n",
      "<re.Match object; span=(97, 99), match='Ch'>\n",
      "<re.Match object; span=(99, 101), match='ar'>\n",
      "<re.Match object; span=(101, 103), match='ac'>\n",
      "<re.Match object; span=(103, 105), match='te'>\n",
      "<re.Match object; span=(105, 107), match='rs'>\n",
      "<re.Match object; span=(109, 111), match='Ne'>\n",
      "<re.Match object; span=(111, 113), match='ed'>\n",
      "<re.Match object; span=(114, 116), match='to'>\n",
      "<re.Match object; span=(117, 119), match='be'>\n",
      "<re.Match object; span=(120, 122), match='es'>\n",
      "<re.Match object; span=(122, 124), match='ca'>\n",
      "<re.Match object; span=(124, 126), match='pe'>\n",
      "<re.Match object; span=(159, 161), match='ut'>\n",
      "<re.Match object; span=(161, 163), match='ex'>\n",
      "<re.Match object; span=(163, 165), match='as'>\n",
      "<re.Match object; span=(166, 168), match='ed'>\n",
      "<re.Match object; span=(173, 175), match='1-'>\n",
      "<re.Match object; span=(177, 179), match='5-'>\n",
      "<re.Match object; span=(198, 200), match='da'>\n",
      "<re.Match object; span=(200, 202), match='ni'>\n",
      "<re.Match object; span=(202, 204), match='el'>\n",
      "<re.Match object; span=(205, 207), match='mi'>\n",
      "<re.Match object; span=(207, 209), match='tc'>\n",
      "<re.Match object; span=(209, 211), match='he'>\n",
      "<re.Match object; span=(211, 213), match='ll'>\n",
      "<re.Match object; span=(214, 216), match='ut'>\n",
      "<re.Match object; span=(216, 218), match='ex'>\n",
      "<re.Match object; span=(218, 220), match='as'>\n",
      "<re.Match object; span=(221, 223), match='ed'>\n",
      "<re.Match object; span=(226, 228), match='Mr'>\n",
      "<re.Match object; span=(230, 232), match='Jo'>\n",
      "<re.Match object; span=(232, 234), match='hn'>\n",
      "<re.Match object; span=(234, 236), match='so'>\n",
      "<re.Match object; span=(238, 240), match='Mr'>\n",
      "<re.Match object; span=(241, 243), match='Sm'>\n",
      "<re.Match object; span=(243, 245), match='it'>\n",
      "<re.Match object; span=(247, 249), match='Ms'>\n",
      "<re.Match object; span=(250, 252), match='Da'>\n",
      "<re.Match object; span=(252, 254), match='vi'>\n",
      "<re.Match object; span=(256, 258), match='Mr'>\n",
      "<re.Match object; span=(261, 263), match='Ro'>\n",
      "<re.Match object; span=(263, 265), match='bi'>\n",
      "<re.Match object; span=(265, 267), match='ns'>\n",
      "<re.Match object; span=(267, 269), match='on'>\n",
      "<re.Match object; span=(270, 272), match='Mr'>\n"
     ]
    }
   ],
   "source": [
    "pattern = re.compile(r'[a-zA-Z0-9][a-zA-z-]')\n",
    "matches = pattern.finditer(text_to_search)\n",
    "for mat in matches:\n",
    "    print(mat)"
   ]
  },
  {
   "cell_type": "code",
   "execution_count": 26,
   "metadata": {},
   "outputs": [
    {
     "name": "stdout",
     "output_type": "stream",
     "text": [
      "<re.Match object; span=(26, 28), match='z\\n'>\n",
      "<re.Match object; span=(53, 55), match='Z\\n'>\n",
      "<re.Match object; span=(72, 74), match='c\\n'>\n",
      "<re.Match object; span=(79, 81), match='o '>\n",
      "<re.Match object; span=(90, 92), match='o\\n'>\n",
      "<re.Match object; span=(106, 108), match='s '>\n",
      "<re.Match object; span=(112, 114), match='d '>\n",
      "<re.Match object; span=(115, 117), match='o '>\n",
      "<re.Match object; span=(118, 120), match='e '>\n",
      "<re.Match object; span=(126, 128), match='d)'>\n",
      "<re.Match object; span=(164, 166), match='s.'>\n",
      "<re.Match object; span=(168, 170), match='u\\n'>\n",
      "<re.Match object; span=(203, 205), match='l-'>\n",
      "<re.Match object; span=(212, 214), match='l@'>\n",
      "<re.Match object; span=(219, 221), match='s.'>\n",
      "<re.Match object; span=(223, 225), match='u\\n'>\n",
      "<re.Match object; span=(227, 229), match='r.'>\n",
      "<re.Match object; span=(236, 238), match='n\\n'>\n",
      "<re.Match object; span=(239, 241), match='r '>\n",
      "<re.Match object; span=(245, 247), match='h\\n'>\n",
      "<re.Match object; span=(248, 250), match='s '>\n",
      "<re.Match object; span=(254, 256), match='s\\n'>\n",
      "<re.Match object; span=(258, 260), match='s.'>\n",
      "<re.Match object; span=(268, 270), match='n\\n'>\n",
      "<re.Match object; span=(271, 273), match='r.'>\n",
      "<re.Match object; span=(274, 276), match='T\\n'>\n"
     ]
    }
   ],
   "source": [
    "pattern = re.compile(r'[a-zA-Z][^a-zA-Z]')\n",
    "matches = pattern.finditer(text_to_search)\n",
    "for mat in matches:\n",
    "    print(mat)"
   ]
  },
  {
   "cell_type": "markdown",
   "metadata": {},
   "source": [
    "## Character groups"
   ]
  },
  {
   "cell_type": "code",
   "execution_count": 27,
   "metadata": {},
   "outputs": [
    {
     "name": "stdout",
     "output_type": "stream",
     "text": [
      "<re.Match object; span=(70, 73), match='abc'>\n",
      "<re.Match object; span=(160, 165), match='texas'>\n",
      "<re.Match object; span=(166, 169), match='edu'>\n",
      "<re.Match object; span=(215, 220), match='texas'>\n",
      "<re.Match object; span=(221, 224), match='edu'>\n"
     ]
    }
   ],
   "source": [
    "pattern = re.compile(r'(abc|edu|texas)\\b')\n",
    "matches = pattern.finditer(text_to_search)\n",
    "for mat in matches:\n",
    "    print(mat)"
   ]
  },
  {
   "cell_type": "code",
   "execution_count": 28,
   "metadata": {},
   "outputs": [
    {
     "name": "stdout",
     "output_type": "stream",
     "text": [
      "<re.Match object; span=(28, 30), match='AB'>\n",
      "<re.Match object; span=(30, 32), match='CD'>\n",
      "<re.Match object; span=(32, 34), match='EF'>\n",
      "<re.Match object; span=(34, 36), match='GH'>\n",
      "<re.Match object; span=(36, 38), match='IJ'>\n",
      "<re.Match object; span=(38, 40), match='KL'>\n",
      "<re.Match object; span=(40, 42), match='MN'>\n",
      "<re.Match object; span=(42, 44), match='OP'>\n",
      "<re.Match object; span=(44, 46), match='QR'>\n",
      "<re.Match object; span=(46, 48), match='ST'>\n",
      "<re.Match object; span=(48, 50), match='UV'>\n",
      "<re.Match object; span=(50, 52), match='WX'>\n",
      "<re.Match object; span=(52, 54), match='YZ'>\n",
      "<re.Match object; span=(75, 77), match='He'>\n",
      "<re.Match object; span=(81, 83), match='He'>\n",
      "<re.Match object; span=(83, 87), match='lloH'>\n",
      "<re.Match object; span=(93, 95), match='Me'>\n",
      "<re.Match object; span=(97, 99), match='Ch'>\n",
      "<re.Match object; span=(109, 111), match='Ne'>\n",
      "<re.Match object; span=(226, 228), match='Mr'>\n",
      "<re.Match object; span=(230, 232), match='Jo'>\n",
      "<re.Match object; span=(238, 240), match='Mr'>\n",
      "<re.Match object; span=(241, 243), match='Sm'>\n",
      "<re.Match object; span=(247, 249), match='Ms'>\n",
      "<re.Match object; span=(250, 252), match='Da'>\n",
      "<re.Match object; span=(256, 258), match='Mr'>\n",
      "<re.Match object; span=(261, 263), match='Ro'>\n",
      "<re.Match object; span=(270, 272), match='Mr'>\n"
     ]
    }
   ],
   "source": [
    "pattern = re.compile(r'([A-Z]|llo)[a-zA-z]')\n",
    "matches = pattern.finditer(text_to_search)\n",
    "for mat in matches:\n",
    "    print(mat)"
   ]
  },
  {
   "cell_type": "markdown",
   "metadata": {},
   "source": [
    "## Quantifiers"
   ]
  },
  {
   "cell_type": "code",
   "execution_count": 29,
   "metadata": {},
   "outputs": [
    {
     "name": "stdout",
     "output_type": "stream",
     "text": [
      "<re.Match object; span=(226, 231), match='Mr. J'>\n",
      "<re.Match object; span=(238, 242), match='Mr S'>\n",
      "<re.Match object; span=(270, 275), match='Mr. T'>\n"
     ]
    }
   ],
   "source": [
    "pattern = re.compile(r'Mr\\.?\\s[A-Z]')\n",
    "matches = pattern.finditer(text_to_search)\n",
    "for mat in matches:\n",
    "    print(mat)"
   ]
  },
  {
   "cell_type": "code",
   "execution_count": 30,
   "metadata": {},
   "outputs": [
    {
     "name": "stdout",
     "output_type": "stream",
     "text": [
      "<re.Match object; span=(226, 237), match='Mr. Johnson'>\n",
      "<re.Match object; span=(238, 246), match='Mr Smith'>\n",
      "<re.Match object; span=(270, 275), match='Mr. T'>\n"
     ]
    }
   ],
   "source": [
    "pattern = re.compile(r'Mr\\.?\\s[A-Z][a-z]*')\n",
    "matches = pattern.finditer(text_to_search)\n",
    "for mat in matches:\n",
    "    print(mat)"
   ]
  },
  {
   "cell_type": "code",
   "execution_count": 31,
   "metadata": {},
   "outputs": [
    {
     "name": "stdout",
     "output_type": "stream",
     "text": [
      "<re.Match object; span=(247, 255), match='Ms Davis'>\n",
      "<re.Match object; span=(256, 269), match='Mrs. Robinson'>\n"
     ]
    }
   ],
   "source": [
    "# Mr. Johnson\n",
    "# Mr Smith\n",
    "# Ms Davis\n",
    "# Mrs. Robinson\n",
    "# Mr. T\n",
    "pattern = re.compile(r'M(s|rs)\\.?\\s[A-Z][a-z]*')\n",
    "matches = pattern.finditer(text_to_search)\n",
    "for mat in matches:\n",
    "    print(mat)"
   ]
  },
  {
   "cell_type": "code",
   "execution_count": 32,
   "metadata": {},
   "outputs": [
    {
     "name": "stdout",
     "output_type": "stream",
     "text": [
      "<re.Match object; span=(171, 183), match='321-555-4321'>\n",
      "<re.Match object; span=(184, 196), match='123.555.1234'>\n"
     ]
    }
   ],
   "source": [
    "pattern = re.compile(r'\\d{3}[.-]\\d{3}[.-]\\d{4}')\n",
    "matches = pattern.finditer(text_to_search)\n",
    "for mat in matches:\n",
    "    print(mat)"
   ]
  },
  {
   "cell_type": "code",
   "execution_count": 33,
   "metadata": {},
   "outputs": [
    {
     "name": "stdout",
     "output_type": "stream",
     "text": [
      "<re.Match object; span=(159, 169), match='utexas.edu'>\n",
      "<re.Match object; span=(214, 224), match='utexas.edu'>\n"
     ]
    }
   ],
   "source": [
    "pattern = re.compile(r'[a-zA-Z0-9_]+\\.[a-z]{3}')\n",
    "matches = pattern.finditer(text_to_search)\n",
    "for mat in matches:\n",
    "    print(mat)"
   ]
  },
  {
   "cell_type": "code",
   "execution_count": 35,
   "metadata": {},
   "outputs": [
    {
     "name": "stdout",
     "output_type": "stream",
     "text": [
      "<re.Match object; span=(198, 224), match='daniel-mitchell@utexas.edu'>\n"
     ]
    }
   ],
   "source": [
    "pattern = re.compile(r'[a-zA-Z0-9_.+-]+@[a-zA-Z0-9-]+\\.[a-zA-Z0-9-.]+')\n",
    "matches = pattern.finditer(text_to_search)\n",
    "for mat in matches:\n",
    "    print(mat)"
   ]
  },
  {
   "cell_type": "markdown",
   "metadata": {},
   "source": [
    "## Accessing information in the Match object"
   ]
  },
  {
   "cell_type": "code",
   "execution_count": 38,
   "metadata": {},
   "outputs": [
    {
     "name": "stdout",
     "output_type": "stream",
     "text": [
      "(198, 224)\n",
      "daniel-mitchell@utexas.edu\n",
      "daniel-mitchell@utexas.edu\n"
     ]
    }
   ],
   "source": [
    "\n",
    "pattern = re.compile(r'[a-zA-Z0-9_.+-]+@[a-zA-Z0-9-]+\\.[a-zA-Z0-9-.]{2,4}')\n",
    "matches = pattern.finditer(text_to_search)\n",
    "for mat in matches:\n",
    "    print(mat.span(0))\n",
    "    print(mat.group(0))\n",
    "    print(text_to_search[mat.span(0)[0]:mat.span(0)[1]])\n",
    "    \n",
    "    \n"
   ]
  },
  {
   "cell_type": "code",
   "execution_count": 39,
   "metadata": {},
   "outputs": [],
   "source": [
    "urls = r'''\n",
    "https://www.google.com\n",
    "http://yahoo.com\n",
    "https://www.whitehouse.gov\n",
    "https://craigslist.org\n",
    "'''"
   ]
  },
  {
   "cell_type": "code",
   "execution_count": 40,
   "metadata": {},
   "outputs": [
    {
     "name": "stdout",
     "output_type": "stream",
     "text": [
      "<re.Match object; span=(1, 23), match='https://www.google.com'>\n",
      "<re.Match object; span=(24, 40), match='http://yahoo.com'>\n",
      "<re.Match object; span=(41, 67), match='https://www.whitehouse.gov'>\n",
      "<re.Match object; span=(68, 90), match='https://craigslist.org'>\n"
     ]
    }
   ],
   "source": [
    "pattern = re.compile(r'https?://(www\\.)?\\w+\\.\\w+')\n",
    "matches = pattern.finditer(urls)\n",
    "for mat in matches:\n",
    "    print(mat)"
   ]
  },
  {
   "cell_type": "code",
   "execution_count": 47,
   "metadata": {},
   "outputs": [
    {
     "name": "stdout",
     "output_type": "stream",
     "text": [
      "(13, 19)\n",
      "google.com\n",
      "(31, 36)\n",
      "yahoo.com\n",
      "(53, 63)\n",
      "whitehouse.gov\n",
      "(76, 86)\n",
      "craigslist.org\n"
     ]
    }
   ],
   "source": [
    "pattern = re.compile(r'https?://(www\\.)?(\\w+)(\\.\\w+)')\n",
    "matches = pattern.finditer(urls)\n",
    "for mat in matches:\n",
    "    print(mat.group(2)+mat.group(3))"
   ]
  },
  {
   "cell_type": "code",
   "execution_count": 54,
   "metadata": {},
   "outputs": [
    {
     "name": "stdout",
     "output_type": "stream",
     "text": [
      "google.com\n",
      "yahoo.com\n",
      "whitehouse.gov\n",
      "craigslist.org\n"
     ]
    }
   ],
   "source": [
    "pattern = re.compile(r'(https?://)(www\\.)?(\\w+)(\\.\\w+)')\n",
    "matches = pattern.finditer(urls)\n",
    "for mat in matches:\n",
    "    # print(mat.group(3))\n",
    "    print(urls[mat.span(3)[0]:mat.span(3)[1]]+urls[mat.span(4)[0]:mat.span(4)[1]])"
   ]
  },
  {
   "cell_type": "code",
   "execution_count": null,
   "metadata": {},
   "outputs": [],
   "source": []
  }
 ],
 "metadata": {
  "kernelspec": {
   "display_name": "Python 3",
   "language": "python",
   "name": "python3"
  },
  "language_info": {
   "codemirror_mode": {
    "name": "ipython",
    "version": 3
   },
   "file_extension": ".py",
   "mimetype": "text/x-python",
   "name": "python",
   "nbconvert_exporter": "python",
   "pygments_lexer": "ipython3",
   "version": "3.9.7"
  }
 },
 "nbformat": 4,
 "nbformat_minor": 2
}
