{
 "cells": [
  {
   "cell_type": "markdown",
   "metadata": {},
   "source": [
    "# NumPy\n",
    "\n",
    "numpy is python's package for doing math that is more advanced than +-*/\n",
    "\n",
    "This includes special functions like cosine, exponential, sqrt, ...\n",
    "\n",
    "On top of this we can use numpy to generate samples from many types of random variables\n",
    "\n",
    "numpy also has a powerful data type to define vectors, matrices, and tensors\n",
    "\n",
    "With these data types numpy also allows us to do linear algebra - matrix multiplication and matrix-vector solutions"
   ]
  },
  {
   "cell_type": "code",
   "execution_count": 2,
   "metadata": {},
   "outputs": [],
   "source": [
    "# the first step of using numpy is to tell python to use it\n",
    "import numpy as np"
   ]
  },
  {
   "cell_type": "code",
   "execution_count": 3,
   "metadata": {},
   "outputs": [
    {
     "name": "stdout",
     "output_type": "stream",
     "text": [
      "-1.0\n",
      "1.1\n",
      "5.2\n"
     ]
    }
   ],
   "source": [
    "print(np.cos(np.pi))\n",
    "print(np.sqrt(1.21))\n",
    "print(np.log(np.exp(5.2)))"
   ]
  },
  {
   "cell_type": "code",
   "execution_count": 4,
   "metadata": {},
   "outputs": [
    {
     "name": "stdout",
     "output_type": "stream",
     "text": [
      "[1 2 3]\n",
      "\n",
      "[[1 2 1]\n",
      " [4 5 9]\n",
      " [1 8 9]]\n",
      "\n",
      "[[1 4 1]\n",
      " [2 5 8]\n",
      " [1 9 9]]\n"
     ]
    }
   ],
   "source": [
    "# we can create numpy arrays by converting lists\n",
    "# this is a vector\n",
    "vec = np.array([1,2,3])\n",
    "print(vec)\n",
    "# we can create matrices by converting lists of lists\n",
    "mat = np.array([[1,2,1],[4,5,9],[1,8,9]])\n",
    "print('')\n",
    "print(mat)\n",
    "print('')\n",
    "print(mat.T)"
   ]
  },
  {
   "cell_type": "code",
   "execution_count": 5,
   "metadata": {},
   "outputs": [
    {
     "name": "stdout",
     "output_type": "stream",
     "text": [
      "[ 0  1  2  3  4  5  6  7  8  9 10 11 12 13 14]\n",
      "\n",
      "[ 3  9 15]\n"
     ]
    }
   ],
   "source": [
    "# there are lots of other ways to create numpy arrays\n",
    "vec2 = np.arange(0,15)\n",
    "print(vec2)\n",
    "print('')\n",
    "vec3 = np.arange(3,21,6)\n",
    "print(vec3)\n"
   ]
  },
  {
   "cell_type": "code",
   "execution_count": 6,
   "metadata": {},
   "outputs": [
    {
     "name": "stdout",
     "output_type": "stream",
     "text": [
      "[0.         0.55555556 1.11111111 1.66666667 2.22222222 2.77777778\n",
      " 3.33333333 3.88888889 4.44444444 5.        ]\n",
      "\n",
      "[[0.         0.55555556]\n",
      " [1.11111111 1.66666667]\n",
      " [2.22222222 2.77777778]\n",
      " [3.33333333 3.88888889]\n",
      " [4.44444444 5.        ]]\n",
      "[[0.         0.55555556]\n",
      " [1.11111111 1.66666667]\n",
      " [2.22222222 2.77777778]\n",
      " [3.33333333 3.88888889]\n",
      " [4.44444444 5.        ]]\n",
      "[0.         0.55555556 1.11111111 1.66666667 2.22222222 2.77777778\n",
      " 3.33333333 3.88888889 4.44444444 5.        ]\n"
     ]
    }
   ],
   "source": [
    "\n",
    "vec4 = np.linspace(0,5,10)\n",
    "print(vec4)\n",
    "print('')\n",
    "print(vec4.reshape(5,2))\n",
    "vec4_reshaped = vec4.reshape(5,2)\n",
    "print(vec4_reshaped)\n",
    "print(vec4)"
   ]
  },
  {
   "cell_type": "code",
   "execution_count": 7,
   "metadata": {},
   "outputs": [
    {
     "name": "stdout",
     "output_type": "stream",
     "text": [
      "[[0. 0. 0.]\n",
      " [0. 0. 0.]\n",
      " [0. 0. 0.]\n",
      " [0. 0. 0.]\n",
      " [0. 0. 0.]]\n",
      "\n",
      "[[1. 1. 1. 1. 1.]\n",
      " [1. 1. 1. 1. 1.]\n",
      " [1. 1. 1. 1. 1.]]\n",
      "\n",
      "[[1. 0. 0. 0. 0.]\n",
      " [0. 1. 0. 0. 0.]\n",
      " [0. 0. 1. 0. 0.]\n",
      " [0. 0. 0. 1. 0.]\n",
      " [0. 0. 0. 0. 1.]]\n"
     ]
    }
   ],
   "source": [
    "mat2 = np.zeros([5,3])\n",
    "print(mat2)\n",
    "mat3 = np.ones((3,5))\n",
    "print('')\n",
    "print(mat3)\n",
    "mat4 = np.eye(5)\n",
    "print('')\n",
    "print(mat4)"
   ]
  },
  {
   "cell_type": "code",
   "execution_count": 8,
   "metadata": {},
   "outputs": [
    {
     "name": "stdout",
     "output_type": "stream",
     "text": [
      "[1 2 3 4 5]\n",
      "[3 4 5 6 7]\n",
      "[ 4  6  8 10 12]\n",
      "[ 3  8 15 24 35]\n",
      "[1.         0.5        0.33333333 0.25       0.2       ]\n",
      "[1.73205081 2.         2.23606798 2.44948974 2.64575131]\n"
     ]
    }
   ],
   "source": [
    "# we can +-*/ arrays together if they're the right size\n",
    "vec5 = np.arange(1,6)\n",
    "vec6 = np.arange(3,8)\n",
    "print(vec5)\n",
    "print(vec6)\n",
    "print(vec5+vec6)\n",
    "print(vec5*vec6)\n",
    "print(1/vec5)\n",
    "print(np.sqrt(vec6))"
   ]
  },
  {
   "cell_type": "code",
   "execution_count": 9,
   "metadata": {},
   "outputs": [
    {
     "name": "stdout",
     "output_type": "stream",
     "text": [
      "[[1 2 1]\n",
      " [4 5 9]\n",
      " [1 8 9]]\n",
      "\n",
      "[1 2 3]\n",
      "\n",
      "[ 8 41 44]\n"
     ]
    }
   ],
   "source": [
    "# we can do matrix multiplication\n",
    "print(mat)\n",
    "print('')\n",
    "print(vec)\n",
    "print()\n",
    "product = np.matmul(mat,vec)\n",
    "print(product)"
   ]
  },
  {
   "cell_type": "code",
   "execution_count": 10,
   "metadata": {},
   "outputs": [
    {
     "name": "stdout",
     "output_type": "stream",
     "text": [
      "[1. 2. 3.]\n",
      "\n",
      "[[ 0.5         0.18518519 -0.24074074]\n",
      " [ 0.5        -0.14814815  0.09259259]\n",
      " [-0.5         0.11111111  0.05555556]]\n"
     ]
    }
   ],
   "source": [
    "print(np.linalg.solve(mat,product))\n",
    "print('')\n",
    "print(np.linalg.inv(mat))"
   ]
  },
  {
   "cell_type": "code",
   "execution_count": 11,
   "metadata": {},
   "outputs": [
    {
     "name": "stdout",
     "output_type": "stream",
     "text": [
      "['blue' 'red' 'orange' 'purple' 'purple' 'orange' 'Red' '6']\n",
      "['6' 'Red' 'blue' 'orange' 'purple' 'red']\n"
     ]
    }
   ],
   "source": [
    "# we can find the unique values in an array\n",
    "vec7 = np.array(['blue','red','orange','purple','purple','orange','Red',6])\n",
    "print(vec7)\n",
    "print(np.unique(vec7))"
   ]
  },
  {
   "cell_type": "code",
   "execution_count": 12,
   "metadata": {},
   "outputs": [
    {
     "name": "stdout",
     "output_type": "stream",
     "text": [
      "[[0.13395635 0.43780918 0.21583656 0.66779452 0.63893444]\n",
      " [0.76713151 0.98186134 0.52624881 0.39635048 0.15720595]\n",
      " [0.33413073 0.68001501 0.91788353 0.67605453 0.98339954]\n",
      " [0.27573719 0.94578309 0.18105865 0.2611447  0.67534503]\n",
      " [0.45032673 0.71877521 0.70479285 0.32400051 0.77337593]]\n",
      "\n",
      "[[ 0.43902515 -0.46688111  0.85298462  2.24570382 -0.28799907]\n",
      " [-1.59395062  0.43355401  0.5371613   0.27235541 -0.16997902]\n",
      " [-0.44374495 -1.05093865  0.32488959 -0.60380936  0.11528604]\n",
      " [-0.05783153 -1.86279386  2.23282424 -0.88718963  0.81747165]\n",
      " [-0.63722471  0.28165694 -0.3606894   1.83191642  1.43592992]\n",
      " [-1.67631876 -0.72360222 -0.41104216 -0.45850662 -1.1223591 ]\n",
      " [-0.66491448 -0.68318902 -0.94066356  0.47538348  0.53695773]\n",
      " [-1.18991537  0.0614109  -0.16686909 -1.25715181 -0.52331835]\n",
      " [ 0.66524492  0.21416977 -0.87954927 -1.05288396 -0.4373041 ]\n",
      " [-0.16628357  1.7012097  -0.37944256  0.55698344 -1.65890692]]\n"
     ]
    }
   ],
   "source": [
    "# we can also use numpy to generate samples of a random variable\n",
    "rand_mat = np.random.rand(5,5) # uniform random variable\n",
    "print(rand_mat)\n",
    "rand_mat2 = np.random.randn(10,5) # standard normal random variable\n",
    "print('')\n",
    "print(rand_mat2)"
   ]
  },
  {
   "cell_type": "code",
   "execution_count": 13,
   "metadata": {},
   "outputs": [
    {
     "name": "stdout",
     "output_type": "stream",
     "text": [
      "0.5529980946756531\n",
      "0.9536132638919038\n"
     ]
    }
   ],
   "source": [
    "# we can also use numpy for statistical tools on arrays\n",
    "print(np.mean(rand_mat))\n",
    "print(np.std(rand_mat2))"
   ]
  },
  {
   "cell_type": "code",
   "execution_count": 14,
   "metadata": {},
   "outputs": [
    {
     "name": "stdout",
     "output_type": "stream",
     "text": [
      "0.13395635238426573\n",
      "2.245703820666249\n"
     ]
    }
   ],
   "source": [
    "print(np.min(rand_mat))\n",
    "print(np.max(rand_mat2))"
   ]
  },
  {
   "cell_type": "code",
   "execution_count": 15,
   "metadata": {},
   "outputs": [],
   "source": [
    "# break here for next video!"
   ]
  },
  {
   "cell_type": "code",
   "execution_count": 16,
   "metadata": {},
   "outputs": [
    {
     "name": "stdout",
     "output_type": "stream",
     "text": [
      "[-1.17530797 -0.3118973   1.52595324  2.10073436  0.59386604  0.36775905\n",
      "  0.72235708  0.16873629 -1.78871885  0.33289177 -0.21882164  0.02553161\n",
      "  0.74551325 -0.27812266 -0.10442011 -1.15666198 -0.29657798 -0.2063654\n",
      " -0.39673768]\n",
      "0.7223570803312296\n"
     ]
    }
   ],
   "source": [
    "# how do we access entries in a numpy vector\n",
    "rand_vec = np.random.randn(19)\n",
    "print(rand_vec)\n",
    "print(rand_vec[6])"
   ]
  },
  {
   "cell_type": "code",
   "execution_count": 17,
   "metadata": {},
   "outputs": [
    {
     "name": "stdout",
     "output_type": "stream",
     "text": [
      "[ 0.59386604  0.36775905  0.72235708  0.16873629 -1.78871885]\n"
     ]
    }
   ],
   "source": [
    "# we can access multiple entries at once using :\n",
    "print(rand_vec[4:9])"
   ]
  },
  {
   "cell_type": "code",
   "execution_count": 18,
   "metadata": {},
   "outputs": [
    {
     "name": "stdout",
     "output_type": "stream",
     "text": [
      "[ 0  3  6  9 12]\n",
      "[-1.17530797  2.10073436  0.72235708  0.33289177  0.74551325]\n"
     ]
    }
   ],
   "source": [
    "# we can also access multiple non-consecutive entries using np.arange\n",
    "print(np.arange(0,15,3))\n",
    "print(rand_vec[np.arange(0,15,3)])"
   ]
  },
  {
   "cell_type": "code",
   "execution_count": 19,
   "metadata": {},
   "outputs": [
    {
     "name": "stdout",
     "output_type": "stream",
     "text": [
      "[[0.13395635 0.43780918 0.21583656 0.66779452 0.63893444]\n",
      " [0.76713151 0.98186134 0.52624881 0.39635048 0.15720595]\n",
      " [0.33413073 0.68001501 0.91788353 0.67605453 0.98339954]\n",
      " [0.27573719 0.94578309 0.18105865 0.2611447  0.67534503]\n",
      " [0.45032673 0.71877521 0.70479285 0.32400051 0.77337593]]\n",
      "0.5262488119165738\n",
      "0.5262488119165738\n"
     ]
    }
   ],
   "source": [
    "# what about matrices\n",
    "print(rand_mat)\n",
    "print(rand_mat[1][2])\n",
    "print(rand_mat[1,2])\n"
   ]
  },
  {
   "cell_type": "code",
   "execution_count": 20,
   "metadata": {},
   "outputs": [
    {
     "name": "stdout",
     "output_type": "stream",
     "text": [
      "[[0.43780918 0.21583656]\n",
      " [0.98186134 0.52624881]]\n"
     ]
    }
   ],
   "source": [
    "print(rand_mat[0:2,1:3])"
   ]
  },
  {
   "cell_type": "code",
   "execution_count": 21,
   "metadata": {},
   "outputs": [
    {
     "name": "stdout",
     "output_type": "stream",
     "text": [
      "[-1.17530797 -0.3118973   1.52595324  2.10073436  0.59386604  0.36775905\n",
      "  0.72235708  0.16873629 -1.78871885  0.33289177 -0.21882164  0.02553161\n",
      "  0.74551325 -0.27812266 -0.10442011 -1.15666198 -0.29657798 -0.2063654\n",
      " -0.39673768]\n",
      "\n",
      "[-1.17530797 -0.3118973   1.52595324  4.          4.          0.36775905\n",
      "  0.72235708  0.16873629 -1.78871885  0.33289177 -0.21882164  0.02553161\n",
      "  0.74551325 -0.27812266 -0.10442011 -1.15666198 -0.29657798 -0.2063654\n",
      " -0.39673768]\n",
      "\n",
      "[-1.17530797 -0.3118973   1.52595324  1.          2.          0.36775905\n",
      "  0.72235708  0.16873629 -1.78871885  0.33289177 -0.21882164  0.02553161\n",
      "  0.74551325 -0.27812266 -0.10442011 -1.15666198 -0.29657798 -0.2063654\n",
      " -0.39673768]\n"
     ]
    }
   ],
   "source": [
    "# let's change some values in an array!\n",
    "print(rand_vec)\n",
    "rand_vec[3:5] = 4\n",
    "print('')\n",
    "print(rand_vec)\n",
    "rand_vec[3:5] = [1,2]\n",
    "print('')\n",
    "print(rand_vec)"
   ]
  },
  {
   "cell_type": "code",
   "execution_count": 22,
   "metadata": {},
   "outputs": [
    {
     "name": "stdout",
     "output_type": "stream",
     "text": [
      "[[0.13395635 0.43780918 0.21583656 0.66779452 0.63893444]\n",
      " [0.76713151 0.98186134 0.52624881 0.39635048 0.15720595]\n",
      " [0.33413073 0.68001501 0.91788353 0.67605453 0.98339954]\n",
      " [0.27573719 0.94578309 0.18105865 0.2611447  0.67534503]\n",
      " [0.45032673 0.71877521 0.70479285 0.32400051 0.77337593]]\n",
      "\n",
      "[[0.13395635 0.43780918 0.21583656 0.66779452 0.63893444]\n",
      " [0.76713151 0.98186134 0.52624881 0.         0.        ]\n",
      " [0.33413073 0.68001501 0.91788353 0.         0.        ]\n",
      " [0.27573719 0.94578309 0.18105865 0.2611447  0.67534503]\n",
      " [0.45032673 0.71877521 0.70479285 0.32400051 0.77337593]]\n"
     ]
    }
   ],
   "source": [
    "print(rand_mat)\n",
    "rand_mat[1:3,3:5] = 0\n",
    "print('')\n",
    "print(rand_mat)"
   ]
  },
  {
   "cell_type": "code",
   "execution_count": 23,
   "metadata": {},
   "outputs": [
    {
     "name": "stdout",
     "output_type": "stream",
     "text": [
      "[[0.13395635 0.43780918 0.21583656]\n",
      " [0.76713151 0.98186134 0.52624881]]\n",
      "[[3. 3. 3.]\n",
      " [3. 3. 3.]]\n"
     ]
    }
   ],
   "source": [
    "sub_mat = rand_mat[0:2,0:3]\n",
    "print(sub_mat)\n",
    "sub_mat[:] = 3\n",
    "print(sub_mat)\n"
   ]
  },
  {
   "cell_type": "code",
   "execution_count": 24,
   "metadata": {},
   "outputs": [
    {
     "name": "stdout",
     "output_type": "stream",
     "text": [
      "[[3.         3.         3.         0.66779452 0.63893444]\n",
      " [3.         3.         3.         0.         0.        ]\n",
      " [0.33413073 0.68001501 0.91788353 0.         0.        ]\n",
      " [0.27573719 0.94578309 0.18105865 0.2611447  0.67534503]\n",
      " [0.45032673 0.71877521 0.70479285 0.32400051 0.77337593]]\n"
     ]
    }
   ],
   "source": [
    "print(rand_mat)"
   ]
  },
  {
   "cell_type": "code",
   "execution_count": 25,
   "metadata": {},
   "outputs": [
    {
     "name": "stdout",
     "output_type": "stream",
     "text": [
      "[[99. 99. 99.]\n",
      " [99. 99. 99.]]\n",
      "[[3.         3.         3.         0.66779452 0.63893444]\n",
      " [3.         3.         3.         0.         0.        ]\n",
      " [0.33413073 0.68001501 0.91788353 0.         0.        ]\n",
      " [0.27573719 0.94578309 0.18105865 0.2611447  0.67534503]\n",
      " [0.45032673 0.71877521 0.70479285 0.32400051 0.77337593]]\n"
     ]
    }
   ],
   "source": [
    "sub_mat2 = rand_mat[0:2,0:3].copy()\n",
    "sub_mat2[:] = 99\n",
    "print(sub_mat2)\n",
    "print(rand_mat)\n"
   ]
  },
  {
   "cell_type": "code",
   "execution_count": 26,
   "metadata": {},
   "outputs": [],
   "source": [
    "# break here for next video"
   ]
  },
  {
   "cell_type": "code",
   "execution_count": 27,
   "metadata": {},
   "outputs": [
    {
     "name": "stdout",
     "output_type": "stream",
     "text": [
      "[ 0.6965522  -0.80037279  2.23069024  2.16407025 -2.20029878 -0.04459028\n",
      " -0.23399231 -0.71597312  0.11148749  0.32661519  0.82681699 -0.55685075\n",
      "  1.06136989 -0.65450539 -0.54584459]\n",
      "[ True False  True  True False False False False  True  True  True False\n",
      "  True False False]\n",
      "[0.6965522  2.23069024 2.16407025 0.11148749 0.32661519 0.82681699\n",
      " 1.06136989]\n"
     ]
    }
   ],
   "source": [
    "# we can also access entries with logicals\n",
    "rand_vec = np.random.randn(15)\n",
    "\n",
    "print(rand_vec)\n",
    "print(rand_vec>0)\n",
    "print(rand_vec[rand_vec>0])"
   ]
  },
  {
   "cell_type": "code",
   "execution_count": 28,
   "metadata": {},
   "outputs": [
    {
     "name": "stdout",
     "output_type": "stream",
     "text": [
      "[[ 0.43902515 -0.46688111  0.85298462  2.24570382 -0.28799907]\n",
      " [-1.59395062  0.43355401  0.5371613   0.27235541 -0.16997902]\n",
      " [-0.44374495 -1.05093865  0.32488959 -0.60380936  0.11528604]\n",
      " [-0.05783153 -1.86279386  2.23282424 -0.88718963  0.81747165]\n",
      " [-0.63722471  0.28165694 -0.3606894   1.83191642  1.43592992]\n",
      " [-1.67631876 -0.72360222 -0.41104216 -0.45850662 -1.1223591 ]\n",
      " [-0.66491448 -0.68318902 -0.94066356  0.47538348  0.53695773]\n",
      " [-1.18991537  0.0614109  -0.16686909 -1.25715181 -0.52331835]\n",
      " [ 0.66524492  0.21416977 -0.87954927 -1.05288396 -0.4373041 ]\n",
      " [-0.16628357  1.7012097  -0.37944256  0.55698344 -1.65890692]]\n",
      "[0.43902515 0.85298462 2.24570382 0.43355401 0.5371613  0.27235541\n",
      " 0.32488959 0.11528604 2.23282424 0.81747165 0.28165694 1.83191642\n",
      " 1.43592992 0.47538348 0.53695773 0.0614109  0.66524492 0.21416977\n",
      " 1.7012097  0.55698344]\n"
     ]
    }
   ],
   "source": [
    "print(rand_mat2)\n",
    "print(rand_mat2[rand_mat2>0])"
   ]
  },
  {
   "cell_type": "code",
   "execution_count": 29,
   "metadata": {},
   "outputs": [
    {
     "name": "stdout",
     "output_type": "stream",
     "text": [
      "[ 0.6965522  -0.80037279  2.23069024  2.16407025 -2.20029878 -0.04459028\n",
      " -0.23399231 -0.71597312  0.11148749  0.32661519  0.82681699 -0.55685075\n",
      "  1.06136989 -0.65450539 -0.54584459]\n",
      "\n",
      "[-5.         -0.80037279 -5.         -5.         -2.20029878 -0.04459028\n",
      " -0.23399231 -0.71597312  0.11148749  0.32661519 -5.         -0.55685075\n",
      " -5.         -0.65450539 -0.54584459]\n"
     ]
    }
   ],
   "source": [
    "\n",
    "print(rand_vec)\n",
    "print('')\n",
    "rand_vec[rand_vec>0.5] = -5\n",
    "print(rand_vec)"
   ]
  },
  {
   "cell_type": "code",
   "execution_count": 30,
   "metadata": {},
   "outputs": [],
   "source": [
    "# let's save some arrays on the disk for use later!\n",
    "np.save('saved_file_name',rand_mat2)\n"
   ]
  },
  {
   "cell_type": "code",
   "execution_count": 31,
   "metadata": {},
   "outputs": [],
   "source": [
    "np.savez('zipped_file_name',rand_mat=rand_mat,rand_mat2=rand_mat2)"
   ]
  },
  {
   "cell_type": "code",
   "execution_count": 32,
   "metadata": {},
   "outputs": [
    {
     "name": "stdout",
     "output_type": "stream",
     "text": [
      "[[ 0.43902515 -0.46688111  0.85298462  2.24570382 -0.28799907]\n",
      " [-1.59395062  0.43355401  0.5371613   0.27235541 -0.16997902]\n",
      " [-0.44374495 -1.05093865  0.32488959 -0.60380936  0.11528604]\n",
      " [-0.05783153 -1.86279386  2.23282424 -0.88718963  0.81747165]\n",
      " [-0.63722471  0.28165694 -0.3606894   1.83191642  1.43592992]\n",
      " [-1.67631876 -0.72360222 -0.41104216 -0.45850662 -1.1223591 ]\n",
      " [-0.66491448 -0.68318902 -0.94066356  0.47538348  0.53695773]\n",
      " [-1.18991537  0.0614109  -0.16686909 -1.25715181 -0.52331835]\n",
      " [ 0.66524492  0.21416977 -0.87954927 -1.05288396 -0.4373041 ]\n",
      " [-0.16628357  1.7012097  -0.37944256  0.55698344 -1.65890692]]\n",
      "\n",
      "<numpy.lib.npyio.NpzFile object at 0x7f54fcbfbbb0>\n"
     ]
    }
   ],
   "source": [
    "# now let's load it\n",
    "loaded_vec = np.load('saved_file_name.npy')\n",
    "loaded_zip = np.load('zipped_file_name.npz')\n",
    "\n",
    "print(loaded_vec)\n",
    "print('')\n",
    "print(loaded_zip)"
   ]
  },
  {
   "cell_type": "code",
   "execution_count": 33,
   "metadata": {},
   "outputs": [
    {
     "name": "stdout",
     "output_type": "stream",
     "text": [
      "[[3.         3.         3.         0.66779452 0.63893444]\n",
      " [3.         3.         3.         0.         0.        ]\n",
      " [0.33413073 0.68001501 0.91788353 0.         0.        ]\n",
      " [0.27573719 0.94578309 0.18105865 0.2611447  0.67534503]\n",
      " [0.45032673 0.71877521 0.70479285 0.32400051 0.77337593]]\n",
      "\n",
      "[[ 0.43902515 -0.46688111  0.85298462  2.24570382 -0.28799907]\n",
      " [-1.59395062  0.43355401  0.5371613   0.27235541 -0.16997902]\n",
      " [-0.44374495 -1.05093865  0.32488959 -0.60380936  0.11528604]\n",
      " [-0.05783153 -1.86279386  2.23282424 -0.88718963  0.81747165]\n",
      " [-0.63722471  0.28165694 -0.3606894   1.83191642  1.43592992]\n",
      " [-1.67631876 -0.72360222 -0.41104216 -0.45850662 -1.1223591 ]\n",
      " [-0.66491448 -0.68318902 -0.94066356  0.47538348  0.53695773]\n",
      " [-1.18991537  0.0614109  -0.16686909 -1.25715181 -0.52331835]\n",
      " [ 0.66524492  0.21416977 -0.87954927 -1.05288396 -0.4373041 ]\n",
      " [-0.16628357  1.7012097  -0.37944256  0.55698344 -1.65890692]]\n",
      "[[3.         3.         3.         0.66779452 0.63893444]\n",
      " [3.         3.         3.         0.         0.        ]\n",
      " [0.33413073 0.68001501 0.91788353 0.         0.        ]\n",
      " [0.27573719 0.94578309 0.18105865 0.2611447  0.67534503]\n",
      " [0.45032673 0.71877521 0.70479285 0.32400051 0.77337593]]\n"
     ]
    }
   ],
   "source": [
    "print(loaded_zip['rand_mat'])\n",
    "print('')\n",
    "print(loaded_zip['rand_mat2'])\n",
    "\n",
    "new_array  = loaded_zip['rand_mat']\n",
    "print(new_array)"
   ]
  },
  {
   "cell_type": "code",
   "execution_count": 34,
   "metadata": {},
   "outputs": [
    {
     "name": "stdout",
     "output_type": "stream",
     "text": [
      "[[3.         3.         3.         0.66779452 0.63893444]\n",
      " [3.         3.         3.         0.         0.        ]\n",
      " [0.33413073 0.68001501 0.91788353 0.         0.        ]\n",
      " [0.27573719 0.94578309 0.18105865 0.2611447  0.67534503]\n",
      " [0.45032673 0.71877521 0.70479285 0.32400051 0.77337593]]\n",
      "\n",
      "[[3.         3.         3.         0.66779452 0.63893444]\n",
      " [3.         3.         3.         0.         0.        ]\n",
      " [0.33413073 0.68001501 0.91788353 0.         0.        ]\n",
      " [0.27573719 0.94578309 0.18105865 0.2611447  0.67534503]\n",
      " [0.45032673 0.71877521 0.70479285 0.32400051 0.77337593]]\n"
     ]
    }
   ],
   "source": [
    "# we can also save/load as text files...but only single variables\n",
    "np.savetxt('text_file_name.txt',rand_mat,delimiter=',')\n",
    "rand_mat_txt = np.loadtxt('text_file_name.txt',delimiter=',')\n",
    "print(rand_mat)\n",
    "print('')\n",
    "print(rand_mat_txt)"
   ]
  }
 ],
 "metadata": {
  "kernelspec": {
   "display_name": "Python 3",
   "language": "python",
   "name": "python3"
  },
  "language_info": {
   "codemirror_mode": {
    "name": "ipython",
    "version": 3
   },
   "file_extension": ".py",
   "mimetype": "text/x-python",
   "name": "python",
   "nbconvert_exporter": "python",
   "pygments_lexer": "ipython3",
   "version": "3.9.7"
  }
 },
 "nbformat": 4,
 "nbformat_minor": 2
}
