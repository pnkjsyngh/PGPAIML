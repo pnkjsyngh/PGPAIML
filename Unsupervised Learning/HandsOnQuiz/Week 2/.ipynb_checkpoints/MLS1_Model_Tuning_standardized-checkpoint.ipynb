{
 "cells": [
  {
   "cell_type": "markdown",
   "metadata": {},
   "source": [
    "# Job Change Prediction \n",
    "\n",
    "### Context\n",
    "\n",
    "An Ed-Tech company wants to hire data scientists among people who have successfully passed some courses and then signed up for training. The company wants to know which of the people are looking for a job change and will prefer working with them after completion of training because it helps to reduce the cost and time for categorization of candidates. \n",
    "\n",
    "Information related to demographics, education, the experience is in hands from candidates sign up and enrollment."
   ]
  },
  {
   "cell_type": "markdown",
   "metadata": {},
   "source": [
    "### Data Description\n",
    "\n",
    "* enrollee_id: Unique ID for the candidate\n",
    "\n",
    "* city: City code\n",
    "\n",
    "* city_ development _index: Development index of the city (scaled)\n",
    "\n",
    "* gender: Gender of the candidate\n",
    "\n",
    "* relevent_experience: Relevant experience of the candidate\n",
    "\n",
    "* enrolled_university: Type of University course enrolled if any\n",
    "\n",
    "* education_level: Education level of candidate\n",
    "\n",
    "* major_discipline: Education major discipline of the candidate\n",
    "\n",
    "* experience: Candidate total experience in years\n",
    "\n",
    "* company_size: No of employees in current employer's company\n",
    "\n",
    "* company_type: Type of current employer\n",
    "\n",
    "* lastnewjob: Difference in years between previous job and current job\n",
    "\n",
    "* training_hours: training hours completed\n",
    "\n",
    "* target: 0 – Not looking for a job change, 1 – Looking for a job change\n",
    "\n",
    "\n",
    "#### What is City Development Index?\n",
    "\n",
    "* The City Development Index was developed for the Second United Nations Conference on Human Settlements (Habitat II) in 1996 and measures the level of development in cities. The Urban Indicators Programme of the United Nations Human Settlements Programme (UN-Habitat) developed the indicator so that they could rank cities of the world according to their level of development and as a display of indicators depicting development. The CDI cuts across the different clusters identified in the Urban Indicator Framework as it is based on five sub-indices namely, infrastructure, waste, health, education, and city product. It is useful as it provides a snap-shot view of how cities are doing concerning the different indices"
   ]
  },
  {
   "cell_type": "markdown",
   "metadata": {},
   "source": [
    "### Importing Libraries"
   ]
  },
  {
   "cell_type": "code",
   "execution_count": 1,
   "metadata": {},
   "outputs": [
    {
     "data": {
      "application/javascript": [
       "\n",
       "            setTimeout(function() {\n",
       "                var nbb_cell_id = 1;\n",
       "                var nbb_unformatted_code = \"# Libraries to help with reading and manipulating data\\nimport numpy as np\\nimport pandas as pd\\n\\n# Libraries to help with data visualization\\nimport matplotlib.pyplot as plt\\nimport seaborn as sns\\n\\n# To tune model, get different metric scores and split data\\nfrom sklearn.model_selection import GridSearchCV\\nfrom sklearn.model_selection import train_test_split, StratifiedKFold, cross_val_score\\nfrom sklearn.metrics import (\\n    f1_score,\\n    accuracy_score,\\n    recall_score,\\n    precision_score,\\n    confusion_matrix,\\n    roc_auc_score,\\n    plot_confusion_matrix,\\n)\\n\\n# To impute missing values\\nfrom sklearn.impute import KNNImputer\\n\\n# To bin continuous data into intervals\\nfrom sklearn.preprocessing import KBinsDiscretizer\\n\\n# To build a logistic regression model\\nfrom sklearn.linear_model import LogisticRegression\\nfrom sklearn.ensemble import BaggingClassifier\\n\\n# To oversample and undersample data\\nfrom imblearn.over_sampling import SMOTE\\nfrom imblearn.under_sampling import RandomUnderSampler\\n\\n# To suppress the warnings\\nimport warnings\\n\\nwarnings.filterwarnings(\\\"ignore\\\")\\n\\n# This will help in making the Python code more structured automatically (good coding practice)\\n%load_ext nb_black\";\n",
       "                var nbb_formatted_code = \"# Libraries to help with reading and manipulating data\\nimport numpy as np\\nimport pandas as pd\\n\\n# Libraries to help with data visualization\\nimport matplotlib.pyplot as plt\\nimport seaborn as sns\\n\\n# To tune model, get different metric scores and split data\\nfrom sklearn.model_selection import GridSearchCV\\nfrom sklearn.model_selection import train_test_split, StratifiedKFold, cross_val_score\\nfrom sklearn.metrics import (\\n    f1_score,\\n    accuracy_score,\\n    recall_score,\\n    precision_score,\\n    confusion_matrix,\\n    roc_auc_score,\\n    plot_confusion_matrix,\\n)\\n\\n# To impute missing values\\nfrom sklearn.impute import KNNImputer\\n\\n# To bin continuous data into intervals\\nfrom sklearn.preprocessing import KBinsDiscretizer\\n\\n# To build a logistic regression model\\nfrom sklearn.linear_model import LogisticRegression\\nfrom sklearn.ensemble import BaggingClassifier\\n\\n# To oversample and undersample data\\nfrom imblearn.over_sampling import SMOTE\\nfrom imblearn.under_sampling import RandomUnderSampler\\n\\n# To suppress the warnings\\nimport warnings\\n\\nwarnings.filterwarnings(\\\"ignore\\\")\\n\\n# This will help in making the Python code more structured automatically (good coding practice)\\n%load_ext nb_black\";\n",
       "                var nbb_cells = Jupyter.notebook.get_cells();\n",
       "                for (var i = 0; i < nbb_cells.length; ++i) {\n",
       "                    if (nbb_cells[i].input_prompt_number == nbb_cell_id) {\n",
       "                        if (nbb_cells[i].get_text() == nbb_unformatted_code) {\n",
       "                             nbb_cells[i].set_text(nbb_formatted_code);\n",
       "                        }\n",
       "                        break;\n",
       "                    }\n",
       "                }\n",
       "            }, 500);\n",
       "            "
      ],
      "text/plain": [
       "<IPython.core.display.Javascript object>"
      ]
     },
     "metadata": {},
     "output_type": "display_data"
    }
   ],
   "source": [
    "# Libraries to help with reading and manipulating data\n",
    "import numpy as np\n",
    "import pandas as pd\n",
    "\n",
    "# Libraries to help with data visualization\n",
    "import matplotlib.pyplot as plt\n",
    "import seaborn as sns\n",
    "\n",
    "# To tune model, get different metric scores and split data\n",
    "from sklearn.model_selection import GridSearchCV\n",
    "from sklearn.model_selection import train_test_split, StratifiedKFold, cross_val_score\n",
    "from sklearn.metrics import (\n",
    "    f1_score,\n",
    "    accuracy_score,\n",
    "    recall_score,\n",
    "    precision_score,\n",
    "    confusion_matrix,\n",
    "    roc_auc_score,\n",
    "    plot_confusion_matrix,\n",
    ")\n",
    "\n",
    "# To impute missing values\n",
    "from sklearn.impute import KNNImputer\n",
    "\n",
    "# To bin continuous data into intervals\n",
    "from sklearn.preprocessing import KBinsDiscretizer\n",
    "\n",
    "# To build a logistic regression model\n",
    "from sklearn.linear_model import LogisticRegression\n",
    "from sklearn.ensemble import BaggingClassifier\n",
    "\n",
    "# To oversample and undersample data\n",
    "from imblearn.over_sampling import SMOTE\n",
    "from imblearn.under_sampling import RandomUnderSampler\n",
    "\n",
    "# To suppress the warnings\n",
    "import warnings\n",
    "\n",
    "warnings.filterwarnings(\"ignore\")\n",
    "\n",
    "# This will help in making the Python code more structured automatically (good coding practice)\n",
    "%load_ext nb_black"
   ]
  },
  {
   "cell_type": "markdown",
   "metadata": {},
   "source": [
    "### Loading Data"
   ]
  },
  {
   "cell_type": "code",
   "execution_count": 2,
   "metadata": {},
   "outputs": [
    {
     "data": {
      "application/javascript": [
       "\n",
       "            setTimeout(function() {\n",
       "                var nbb_cell_id = 2;\n",
       "                var nbb_unformatted_code = \"job = pd.read_csv(\\\"Cardiac.csv\\\")\";\n",
       "                var nbb_formatted_code = \"job = pd.read_csv(\\\"Cardiac.csv\\\")\";\n",
       "                var nbb_cells = Jupyter.notebook.get_cells();\n",
       "                for (var i = 0; i < nbb_cells.length; ++i) {\n",
       "                    if (nbb_cells[i].input_prompt_number == nbb_cell_id) {\n",
       "                        if (nbb_cells[i].get_text() == nbb_unformatted_code) {\n",
       "                             nbb_cells[i].set_text(nbb_formatted_code);\n",
       "                        }\n",
       "                        break;\n",
       "                    }\n",
       "                }\n",
       "            }, 500);\n",
       "            "
      ],
      "text/plain": [
       "<IPython.core.display.Javascript object>"
      ]
     },
     "metadata": {},
     "output_type": "display_data"
    }
   ],
   "source": [
    "job = pd.read_csv(\"Cardiac.csv\")"
   ]
  },
  {
   "cell_type": "code",
   "execution_count": 136,
   "metadata": {},
   "outputs": [
    {
     "data": {
      "text/plain": [
       "(889, 13)"
      ]
     },
     "execution_count": 136,
     "metadata": {},
     "output_type": "execute_result"
    },
    {
     "data": {
      "application/javascript": [
       "\n",
       "            setTimeout(function() {\n",
       "                var nbb_cell_id = 136;\n",
       "                var nbb_unformatted_code = \"# Checking the number of rows and columns in the data\\njob.shape\";\n",
       "                var nbb_formatted_code = \"# Checking the number of rows and columns in the data\\njob.shape\";\n",
       "                var nbb_cells = Jupyter.notebook.get_cells();\n",
       "                for (var i = 0; i < nbb_cells.length; ++i) {\n",
       "                    if (nbb_cells[i].input_prompt_number == nbb_cell_id) {\n",
       "                        if (nbb_cells[i].get_text() == nbb_unformatted_code) {\n",
       "                             nbb_cells[i].set_text(nbb_formatted_code);\n",
       "                        }\n",
       "                        break;\n",
       "                    }\n",
       "                }\n",
       "            }, 500);\n",
       "            "
      ],
      "text/plain": [
       "<IPython.core.display.Javascript object>"
      ]
     },
     "metadata": {},
     "output_type": "display_data"
    }
   ],
   "source": [
    "# Checking the number of rows and columns in the data\n",
    "job.shape"
   ]
  },
  {
   "cell_type": "markdown",
   "metadata": {},
   "source": [
    "### Data Overview"
   ]
  },
  {
   "cell_type": "code",
   "execution_count": 137,
   "metadata": {},
   "outputs": [
    {
     "data": {
      "application/javascript": [
       "\n",
       "            setTimeout(function() {\n",
       "                var nbb_cell_id = 137;\n",
       "                var nbb_unformatted_code = \"# let's create a copy of the data\\ndf = job.copy()\";\n",
       "                var nbb_formatted_code = \"# let's create a copy of the data\\ndf = job.copy()\";\n",
       "                var nbb_cells = Jupyter.notebook.get_cells();\n",
       "                for (var i = 0; i < nbb_cells.length; ++i) {\n",
       "                    if (nbb_cells[i].input_prompt_number == nbb_cell_id) {\n",
       "                        if (nbb_cells[i].get_text() == nbb_unformatted_code) {\n",
       "                             nbb_cells[i].set_text(nbb_formatted_code);\n",
       "                        }\n",
       "                        break;\n",
       "                    }\n",
       "                }\n",
       "            }, 500);\n",
       "            "
      ],
      "text/plain": [
       "<IPython.core.display.Javascript object>"
      ]
     },
     "metadata": {},
     "output_type": "display_data"
    }
   ],
   "source": [
    "# let's create a copy of the data\n",
    "df = job.copy()"
   ]
  },
  {
   "cell_type": "code",
   "execution_count": 138,
   "metadata": {},
   "outputs": [
    {
     "data": {
      "text/html": [
       "<div>\n",
       "<style scoped>\n",
       "    .dataframe tbody tr th:only-of-type {\n",
       "        vertical-align: middle;\n",
       "    }\n",
       "\n",
       "    .dataframe tbody tr th {\n",
       "        vertical-align: top;\n",
       "    }\n",
       "\n",
       "    .dataframe thead th {\n",
       "        text-align: right;\n",
       "    }\n",
       "</style>\n",
       "<table border=\"1\" class=\"dataframe\">\n",
       "  <thead>\n",
       "    <tr style=\"text-align: right;\">\n",
       "      <th></th>\n",
       "      <th>Gender</th>\n",
       "      <th>Chain_smoker</th>\n",
       "      <th>Consumes_other_tobacco_products</th>\n",
       "      <th>HighBP</th>\n",
       "      <th>Obese</th>\n",
       "      <th>Diabetes</th>\n",
       "      <th>Metabolic_syndrome</th>\n",
       "      <th>Use_of_stimulant_drugs</th>\n",
       "      <th>Family_history</th>\n",
       "      <th>History_of_preeclampsia</th>\n",
       "      <th>CABG_history</th>\n",
       "      <th>Respiratory_illness</th>\n",
       "      <th>UnderRisk</th>\n",
       "    </tr>\n",
       "  </thead>\n",
       "  <tbody>\n",
       "    <tr>\n",
       "      <th>0</th>\n",
       "      <td>Male</td>\n",
       "      <td>1</td>\n",
       "      <td>1</td>\n",
       "      <td>0</td>\n",
       "      <td>1</td>\n",
       "      <td>0</td>\n",
       "      <td>0</td>\n",
       "      <td>0</td>\n",
       "      <td>1</td>\n",
       "      <td>0</td>\n",
       "      <td>0</td>\n",
       "      <td>0</td>\n",
       "      <td>no</td>\n",
       "    </tr>\n",
       "    <tr>\n",
       "      <th>1</th>\n",
       "      <td>Male</td>\n",
       "      <td>0</td>\n",
       "      <td>1</td>\n",
       "      <td>0</td>\n",
       "      <td>1</td>\n",
       "      <td>0</td>\n",
       "      <td>0</td>\n",
       "      <td>0</td>\n",
       "      <td>1</td>\n",
       "      <td>0</td>\n",
       "      <td>0</td>\n",
       "      <td>0</td>\n",
       "      <td>no</td>\n",
       "    </tr>\n",
       "    <tr>\n",
       "      <th>2</th>\n",
       "      <td>Male</td>\n",
       "      <td>0</td>\n",
       "      <td>1</td>\n",
       "      <td>0</td>\n",
       "      <td>1</td>\n",
       "      <td>0</td>\n",
       "      <td>0</td>\n",
       "      <td>0</td>\n",
       "      <td>1</td>\n",
       "      <td>0</td>\n",
       "      <td>0</td>\n",
       "      <td>0</td>\n",
       "      <td>no</td>\n",
       "    </tr>\n",
       "    <tr>\n",
       "      <th>3</th>\n",
       "      <td>Male</td>\n",
       "      <td>0</td>\n",
       "      <td>1</td>\n",
       "      <td>0</td>\n",
       "      <td>1</td>\n",
       "      <td>0</td>\n",
       "      <td>0</td>\n",
       "      <td>0</td>\n",
       "      <td>1</td>\n",
       "      <td>0</td>\n",
       "      <td>0</td>\n",
       "      <td>0</td>\n",
       "      <td>no</td>\n",
       "    </tr>\n",
       "    <tr>\n",
       "      <th>4</th>\n",
       "      <td>Male</td>\n",
       "      <td>0</td>\n",
       "      <td>0</td>\n",
       "      <td>0</td>\n",
       "      <td>0</td>\n",
       "      <td>0</td>\n",
       "      <td>1</td>\n",
       "      <td>1</td>\n",
       "      <td>0</td>\n",
       "      <td>0</td>\n",
       "      <td>0</td>\n",
       "      <td>0</td>\n",
       "      <td>no</td>\n",
       "    </tr>\n",
       "  </tbody>\n",
       "</table>\n",
       "</div>"
      ],
      "text/plain": [
       "  Gender  Chain_smoker  Consumes_other_tobacco_products  HighBP  Obese  \\\n",
       "0   Male             1                                1       0      1   \n",
       "1   Male             0                                1       0      1   \n",
       "2   Male             0                                1       0      1   \n",
       "3   Male             0                                1       0      1   \n",
       "4   Male             0                                0       0      0   \n",
       "\n",
       "   Diabetes  Metabolic_syndrome  Use_of_stimulant_drugs  Family_history  \\\n",
       "0         0                   0                       0               1   \n",
       "1         0                   0                       0               1   \n",
       "2         0                   0                       0               1   \n",
       "3         0                   0                       0               1   \n",
       "4         0                   1                       1               0   \n",
       "\n",
       "   History_of_preeclampsia  CABG_history  Respiratory_illness UnderRisk  \n",
       "0                        0             0                    0        no  \n",
       "1                        0             0                    0        no  \n",
       "2                        0             0                    0        no  \n",
       "3                        0             0                    0        no  \n",
       "4                        0             0                    0        no  "
      ]
     },
     "execution_count": 138,
     "metadata": {},
     "output_type": "execute_result"
    },
    {
     "data": {
      "application/javascript": [
       "\n",
       "            setTimeout(function() {\n",
       "                var nbb_cell_id = 138;\n",
       "                var nbb_unformatted_code = \"# let's view the first 5 rows of the data\\ndf.head()\";\n",
       "                var nbb_formatted_code = \"# let's view the first 5 rows of the data\\ndf.head()\";\n",
       "                var nbb_cells = Jupyter.notebook.get_cells();\n",
       "                for (var i = 0; i < nbb_cells.length; ++i) {\n",
       "                    if (nbb_cells[i].input_prompt_number == nbb_cell_id) {\n",
       "                        if (nbb_cells[i].get_text() == nbb_unformatted_code) {\n",
       "                             nbb_cells[i].set_text(nbb_formatted_code);\n",
       "                        }\n",
       "                        break;\n",
       "                    }\n",
       "                }\n",
       "            }, 500);\n",
       "            "
      ],
      "text/plain": [
       "<IPython.core.display.Javascript object>"
      ]
     },
     "metadata": {},
     "output_type": "display_data"
    }
   ],
   "source": [
    "# let's view the first 5 rows of the data\n",
    "df.head()"
   ]
  },
  {
   "cell_type": "code",
   "execution_count": 139,
   "metadata": {},
   "outputs": [
    {
     "data": {
      "text/html": [
       "<div>\n",
       "<style scoped>\n",
       "    .dataframe tbody tr th:only-of-type {\n",
       "        vertical-align: middle;\n",
       "    }\n",
       "\n",
       "    .dataframe tbody tr th {\n",
       "        vertical-align: top;\n",
       "    }\n",
       "\n",
       "    .dataframe thead th {\n",
       "        text-align: right;\n",
       "    }\n",
       "</style>\n",
       "<table border=\"1\" class=\"dataframe\">\n",
       "  <thead>\n",
       "    <tr style=\"text-align: right;\">\n",
       "      <th></th>\n",
       "      <th>Gender</th>\n",
       "      <th>Chain_smoker</th>\n",
       "      <th>Consumes_other_tobacco_products</th>\n",
       "      <th>HighBP</th>\n",
       "      <th>Obese</th>\n",
       "      <th>Diabetes</th>\n",
       "      <th>Metabolic_syndrome</th>\n",
       "      <th>Use_of_stimulant_drugs</th>\n",
       "      <th>Family_history</th>\n",
       "      <th>History_of_preeclampsia</th>\n",
       "      <th>CABG_history</th>\n",
       "      <th>Respiratory_illness</th>\n",
       "      <th>UnderRisk</th>\n",
       "    </tr>\n",
       "  </thead>\n",
       "  <tbody>\n",
       "    <tr>\n",
       "      <th>884</th>\n",
       "      <td>Female</td>\n",
       "      <td>0</td>\n",
       "      <td>1</td>\n",
       "      <td>0</td>\n",
       "      <td>1</td>\n",
       "      <td>0</td>\n",
       "      <td>0</td>\n",
       "      <td>0</td>\n",
       "      <td>1</td>\n",
       "      <td>0</td>\n",
       "      <td>0</td>\n",
       "      <td>0</td>\n",
       "      <td>no</td>\n",
       "    </tr>\n",
       "    <tr>\n",
       "      <th>885</th>\n",
       "      <td>Male</td>\n",
       "      <td>0</td>\n",
       "      <td>1</td>\n",
       "      <td>0</td>\n",
       "      <td>1</td>\n",
       "      <td>0</td>\n",
       "      <td>0</td>\n",
       "      <td>0</td>\n",
       "      <td>1</td>\n",
       "      <td>0</td>\n",
       "      <td>0</td>\n",
       "      <td>0</td>\n",
       "      <td>no</td>\n",
       "    </tr>\n",
       "    <tr>\n",
       "      <th>886</th>\n",
       "      <td>Male</td>\n",
       "      <td>0</td>\n",
       "      <td>0</td>\n",
       "      <td>1</td>\n",
       "      <td>1</td>\n",
       "      <td>0</td>\n",
       "      <td>0</td>\n",
       "      <td>0</td>\n",
       "      <td>1</td>\n",
       "      <td>0</td>\n",
       "      <td>0</td>\n",
       "      <td>0</td>\n",
       "      <td>yes</td>\n",
       "    </tr>\n",
       "    <tr>\n",
       "      <th>887</th>\n",
       "      <td>Female</td>\n",
       "      <td>0</td>\n",
       "      <td>1</td>\n",
       "      <td>0</td>\n",
       "      <td>0</td>\n",
       "      <td>0</td>\n",
       "      <td>0</td>\n",
       "      <td>1</td>\n",
       "      <td>1</td>\n",
       "      <td>0</td>\n",
       "      <td>0</td>\n",
       "      <td>0</td>\n",
       "      <td>no</td>\n",
       "    </tr>\n",
       "    <tr>\n",
       "      <th>888</th>\n",
       "      <td>Male</td>\n",
       "      <td>1</td>\n",
       "      <td>1</td>\n",
       "      <td>0</td>\n",
       "      <td>1</td>\n",
       "      <td>0</td>\n",
       "      <td>0</td>\n",
       "      <td>0</td>\n",
       "      <td>1</td>\n",
       "      <td>0</td>\n",
       "      <td>0</td>\n",
       "      <td>0</td>\n",
       "      <td>yes</td>\n",
       "    </tr>\n",
       "  </tbody>\n",
       "</table>\n",
       "</div>"
      ],
      "text/plain": [
       "     Gender  Chain_smoker  Consumes_other_tobacco_products  HighBP  Obese  \\\n",
       "884  Female             0                                1       0      1   \n",
       "885    Male             0                                1       0      1   \n",
       "886    Male             0                                0       1      1   \n",
       "887  Female             0                                1       0      0   \n",
       "888    Male             1                                1       0      1   \n",
       "\n",
       "     Diabetes  Metabolic_syndrome  Use_of_stimulant_drugs  Family_history  \\\n",
       "884         0                   0                       0               1   \n",
       "885         0                   0                       0               1   \n",
       "886         0                   0                       0               1   \n",
       "887         0                   0                       1               1   \n",
       "888         0                   0                       0               1   \n",
       "\n",
       "     History_of_preeclampsia  CABG_history  Respiratory_illness UnderRisk  \n",
       "884                        0             0                    0        no  \n",
       "885                        0             0                    0        no  \n",
       "886                        0             0                    0       yes  \n",
       "887                        0             0                    0        no  \n",
       "888                        0             0                    0       yes  "
      ]
     },
     "execution_count": 139,
     "metadata": {},
     "output_type": "execute_result"
    },
    {
     "data": {
      "application/javascript": [
       "\n",
       "            setTimeout(function() {\n",
       "                var nbb_cell_id = 139;\n",
       "                var nbb_unformatted_code = \"# let's view the last 5 rows of the data\\ndf.tail()\";\n",
       "                var nbb_formatted_code = \"# let's view the last 5 rows of the data\\ndf.tail()\";\n",
       "                var nbb_cells = Jupyter.notebook.get_cells();\n",
       "                for (var i = 0; i < nbb_cells.length; ++i) {\n",
       "                    if (nbb_cells[i].input_prompt_number == nbb_cell_id) {\n",
       "                        if (nbb_cells[i].get_text() == nbb_unformatted_code) {\n",
       "                             nbb_cells[i].set_text(nbb_formatted_code);\n",
       "                        }\n",
       "                        break;\n",
       "                    }\n",
       "                }\n",
       "            }, 500);\n",
       "            "
      ],
      "text/plain": [
       "<IPython.core.display.Javascript object>"
      ]
     },
     "metadata": {},
     "output_type": "display_data"
    }
   ],
   "source": [
    "# let's view the last 5 rows of the data\n",
    "df.tail()"
   ]
  },
  {
   "cell_type": "code",
   "execution_count": 140,
   "metadata": {},
   "outputs": [
    {
     "name": "stdout",
     "output_type": "stream",
     "text": [
      "<class 'pandas.core.frame.DataFrame'>\n",
      "RangeIndex: 889 entries, 0 to 888\n",
      "Data columns (total 13 columns):\n",
      " #   Column                           Non-Null Count  Dtype \n",
      "---  ------                           --------------  ----- \n",
      " 0   Gender                           889 non-null    object\n",
      " 1   Chain_smoker                     889 non-null    int64 \n",
      " 2   Consumes_other_tobacco_products  889 non-null    int64 \n",
      " 3   HighBP                           889 non-null    int64 \n",
      " 4   Obese                            889 non-null    int64 \n",
      " 5   Diabetes                         889 non-null    int64 \n",
      " 6   Metabolic_syndrome               889 non-null    int64 \n",
      " 7   Use_of_stimulant_drugs           889 non-null    int64 \n",
      " 8   Family_history                   889 non-null    int64 \n",
      " 9   History_of_preeclampsia          889 non-null    int64 \n",
      " 10  CABG_history                     889 non-null    int64 \n",
      " 11  Respiratory_illness              889 non-null    int64 \n",
      " 12  UnderRisk                        889 non-null    object\n",
      "dtypes: int64(11), object(2)\n",
      "memory usage: 90.4+ KB\n"
     ]
    },
    {
     "data": {
      "application/javascript": [
       "\n",
       "            setTimeout(function() {\n",
       "                var nbb_cell_id = 140;\n",
       "                var nbb_unformatted_code = \"# let's check the data types of the columns in the dataset\\ndf.info()\";\n",
       "                var nbb_formatted_code = \"# let's check the data types of the columns in the dataset\\ndf.info()\";\n",
       "                var nbb_cells = Jupyter.notebook.get_cells();\n",
       "                for (var i = 0; i < nbb_cells.length; ++i) {\n",
       "                    if (nbb_cells[i].input_prompt_number == nbb_cell_id) {\n",
       "                        if (nbb_cells[i].get_text() == nbb_unformatted_code) {\n",
       "                             nbb_cells[i].set_text(nbb_formatted_code);\n",
       "                        }\n",
       "                        break;\n",
       "                    }\n",
       "                }\n",
       "            }, 500);\n",
       "            "
      ],
      "text/plain": [
       "<IPython.core.display.Javascript object>"
      ]
     },
     "metadata": {},
     "output_type": "display_data"
    }
   ],
   "source": [
    "# let's check the data types of the columns in the dataset\n",
    "df.info()"
   ]
  },
  {
   "cell_type": "code",
   "execution_count": 141,
   "metadata": {},
   "outputs": [
    {
     "data": {
      "text/plain": [
       "789"
      ]
     },
     "execution_count": 141,
     "metadata": {},
     "output_type": "execute_result"
    },
    {
     "data": {
      "application/javascript": [
       "\n",
       "            setTimeout(function() {\n",
       "                var nbb_cell_id = 141;\n",
       "                var nbb_unformatted_code = \"# let's check for duplicate values in the data\\ndf.duplicated().sum()\";\n",
       "                var nbb_formatted_code = \"# let's check for duplicate values in the data\\ndf.duplicated().sum()\";\n",
       "                var nbb_cells = Jupyter.notebook.get_cells();\n",
       "                for (var i = 0; i < nbb_cells.length; ++i) {\n",
       "                    if (nbb_cells[i].input_prompt_number == nbb_cell_id) {\n",
       "                        if (nbb_cells[i].get_text() == nbb_unformatted_code) {\n",
       "                             nbb_cells[i].set_text(nbb_formatted_code);\n",
       "                        }\n",
       "                        break;\n",
       "                    }\n",
       "                }\n",
       "            }, 500);\n",
       "            "
      ],
      "text/plain": [
       "<IPython.core.display.Javascript object>"
      ]
     },
     "metadata": {},
     "output_type": "display_data"
    }
   ],
   "source": [
    "# let's check for duplicate values in the data\n",
    "df.duplicated().sum()"
   ]
  },
  {
   "cell_type": "code",
   "execution_count": 142,
   "metadata": {},
   "outputs": [
    {
     "data": {
      "text/plain": [
       "Gender                             0.0\n",
       "Chain_smoker                       0.0\n",
       "Consumes_other_tobacco_products    0.0\n",
       "HighBP                             0.0\n",
       "Obese                              0.0\n",
       "Diabetes                           0.0\n",
       "Metabolic_syndrome                 0.0\n",
       "Use_of_stimulant_drugs             0.0\n",
       "Family_history                     0.0\n",
       "History_of_preeclampsia            0.0\n",
       "CABG_history                       0.0\n",
       "Respiratory_illness                0.0\n",
       "UnderRisk                          0.0\n",
       "dtype: float64"
      ]
     },
     "execution_count": 142,
     "metadata": {},
     "output_type": "execute_result"
    },
    {
     "data": {
      "application/javascript": [
       "\n",
       "            setTimeout(function() {\n",
       "                var nbb_cell_id = 142;\n",
       "                var nbb_unformatted_code = \"# let's check for missing values in the data\\nround(df.isnull().sum() / df.isnull().count() * 100, 2)\";\n",
       "                var nbb_formatted_code = \"# let's check for missing values in the data\\nround(df.isnull().sum() / df.isnull().count() * 100, 2)\";\n",
       "                var nbb_cells = Jupyter.notebook.get_cells();\n",
       "                for (var i = 0; i < nbb_cells.length; ++i) {\n",
       "                    if (nbb_cells[i].input_prompt_number == nbb_cell_id) {\n",
       "                        if (nbb_cells[i].get_text() == nbb_unformatted_code) {\n",
       "                             nbb_cells[i].set_text(nbb_formatted_code);\n",
       "                        }\n",
       "                        break;\n",
       "                    }\n",
       "                }\n",
       "            }, 500);\n",
       "            "
      ],
      "text/plain": [
       "<IPython.core.display.Javascript object>"
      ]
     },
     "metadata": {},
     "output_type": "display_data"
    }
   ],
   "source": [
    "# let's check for missing values in the data\n",
    "round(df.isnull().sum() / df.isnull().count() * 100, 2)"
   ]
  },
  {
   "cell_type": "code",
   "execution_count": 143,
   "metadata": {},
   "outputs": [
    {
     "data": {
      "text/html": [
       "<div>\n",
       "<style scoped>\n",
       "    .dataframe tbody tr th:only-of-type {\n",
       "        vertical-align: middle;\n",
       "    }\n",
       "\n",
       "    .dataframe tbody tr th {\n",
       "        vertical-align: top;\n",
       "    }\n",
       "\n",
       "    .dataframe thead th {\n",
       "        text-align: right;\n",
       "    }\n",
       "</style>\n",
       "<table border=\"1\" class=\"dataframe\">\n",
       "  <thead>\n",
       "    <tr style=\"text-align: right;\">\n",
       "      <th></th>\n",
       "      <th>count</th>\n",
       "      <th>mean</th>\n",
       "      <th>std</th>\n",
       "      <th>min</th>\n",
       "      <th>25%</th>\n",
       "      <th>50%</th>\n",
       "      <th>75%</th>\n",
       "      <th>max</th>\n",
       "    </tr>\n",
       "  </thead>\n",
       "  <tbody>\n",
       "    <tr>\n",
       "      <th>Chain_smoker</th>\n",
       "      <td>889.0</td>\n",
       "      <td>0.120360</td>\n",
       "      <td>0.325565</td>\n",
       "      <td>0.0</td>\n",
       "      <td>0.0</td>\n",
       "      <td>0.0</td>\n",
       "      <td>0.0</td>\n",
       "      <td>1.0</td>\n",
       "    </tr>\n",
       "    <tr>\n",
       "      <th>Consumes_other_tobacco_products</th>\n",
       "      <td>889.0</td>\n",
       "      <td>0.838020</td>\n",
       "      <td>0.368640</td>\n",
       "      <td>0.0</td>\n",
       "      <td>1.0</td>\n",
       "      <td>1.0</td>\n",
       "      <td>1.0</td>\n",
       "      <td>1.0</td>\n",
       "    </tr>\n",
       "    <tr>\n",
       "      <th>HighBP</th>\n",
       "      <td>889.0</td>\n",
       "      <td>0.086614</td>\n",
       "      <td>0.281427</td>\n",
       "      <td>0.0</td>\n",
       "      <td>0.0</td>\n",
       "      <td>0.0</td>\n",
       "      <td>0.0</td>\n",
       "      <td>1.0</td>\n",
       "    </tr>\n",
       "    <tr>\n",
       "      <th>Obese</th>\n",
       "      <td>889.0</td>\n",
       "      <td>0.919010</td>\n",
       "      <td>0.272973</td>\n",
       "      <td>0.0</td>\n",
       "      <td>1.0</td>\n",
       "      <td>1.0</td>\n",
       "      <td>1.0</td>\n",
       "      <td>1.0</td>\n",
       "    </tr>\n",
       "    <tr>\n",
       "      <th>Diabetes</th>\n",
       "      <td>889.0</td>\n",
       "      <td>0.055118</td>\n",
       "      <td>0.228339</td>\n",
       "      <td>0.0</td>\n",
       "      <td>0.0</td>\n",
       "      <td>0.0</td>\n",
       "      <td>0.0</td>\n",
       "      <td>1.0</td>\n",
       "    </tr>\n",
       "    <tr>\n",
       "      <th>Metabolic_syndrome</th>\n",
       "      <td>889.0</td>\n",
       "      <td>0.042745</td>\n",
       "      <td>0.202395</td>\n",
       "      <td>0.0</td>\n",
       "      <td>0.0</td>\n",
       "      <td>0.0</td>\n",
       "      <td>0.0</td>\n",
       "      <td>1.0</td>\n",
       "    </tr>\n",
       "    <tr>\n",
       "      <th>Use_of_stimulant_drugs</th>\n",
       "      <td>889.0</td>\n",
       "      <td>0.082115</td>\n",
       "      <td>0.274694</td>\n",
       "      <td>0.0</td>\n",
       "      <td>0.0</td>\n",
       "      <td>0.0</td>\n",
       "      <td>0.0</td>\n",
       "      <td>1.0</td>\n",
       "    </tr>\n",
       "    <tr>\n",
       "      <th>Family_history</th>\n",
       "      <td>889.0</td>\n",
       "      <td>0.925759</td>\n",
       "      <td>0.262310</td>\n",
       "      <td>0.0</td>\n",
       "      <td>1.0</td>\n",
       "      <td>1.0</td>\n",
       "      <td>1.0</td>\n",
       "      <td>1.0</td>\n",
       "    </tr>\n",
       "    <tr>\n",
       "      <th>History_of_preeclampsia</th>\n",
       "      <td>889.0</td>\n",
       "      <td>0.017998</td>\n",
       "      <td>0.133018</td>\n",
       "      <td>0.0</td>\n",
       "      <td>0.0</td>\n",
       "      <td>0.0</td>\n",
       "      <td>0.0</td>\n",
       "      <td>1.0</td>\n",
       "    </tr>\n",
       "    <tr>\n",
       "      <th>CABG_history</th>\n",
       "      <td>889.0</td>\n",
       "      <td>0.021372</td>\n",
       "      <td>0.144704</td>\n",
       "      <td>0.0</td>\n",
       "      <td>0.0</td>\n",
       "      <td>0.0</td>\n",
       "      <td>0.0</td>\n",
       "      <td>1.0</td>\n",
       "    </tr>\n",
       "    <tr>\n",
       "      <th>Respiratory_illness</th>\n",
       "      <td>889.0</td>\n",
       "      <td>0.032621</td>\n",
       "      <td>0.177742</td>\n",
       "      <td>0.0</td>\n",
       "      <td>0.0</td>\n",
       "      <td>0.0</td>\n",
       "      <td>0.0</td>\n",
       "      <td>1.0</td>\n",
       "    </tr>\n",
       "  </tbody>\n",
       "</table>\n",
       "</div>"
      ],
      "text/plain": [
       "                                 count      mean       std  min  25%  50%  \\\n",
       "Chain_smoker                     889.0  0.120360  0.325565  0.0  0.0  0.0   \n",
       "Consumes_other_tobacco_products  889.0  0.838020  0.368640  0.0  1.0  1.0   \n",
       "HighBP                           889.0  0.086614  0.281427  0.0  0.0  0.0   \n",
       "Obese                            889.0  0.919010  0.272973  0.0  1.0  1.0   \n",
       "Diabetes                         889.0  0.055118  0.228339  0.0  0.0  0.0   \n",
       "Metabolic_syndrome               889.0  0.042745  0.202395  0.0  0.0  0.0   \n",
       "Use_of_stimulant_drugs           889.0  0.082115  0.274694  0.0  0.0  0.0   \n",
       "Family_history                   889.0  0.925759  0.262310  0.0  1.0  1.0   \n",
       "History_of_preeclampsia          889.0  0.017998  0.133018  0.0  0.0  0.0   \n",
       "CABG_history                     889.0  0.021372  0.144704  0.0  0.0  0.0   \n",
       "Respiratory_illness              889.0  0.032621  0.177742  0.0  0.0  0.0   \n",
       "\n",
       "                                 75%  max  \n",
       "Chain_smoker                     0.0  1.0  \n",
       "Consumes_other_tobacco_products  1.0  1.0  \n",
       "HighBP                           0.0  1.0  \n",
       "Obese                            1.0  1.0  \n",
       "Diabetes                         0.0  1.0  \n",
       "Metabolic_syndrome               0.0  1.0  \n",
       "Use_of_stimulant_drugs           0.0  1.0  \n",
       "Family_history                   1.0  1.0  \n",
       "History_of_preeclampsia          0.0  1.0  \n",
       "CABG_history                     0.0  1.0  \n",
       "Respiratory_illness              0.0  1.0  "
      ]
     },
     "execution_count": 143,
     "metadata": {},
     "output_type": "execute_result"
    },
    {
     "data": {
      "application/javascript": [
       "\n",
       "            setTimeout(function() {\n",
       "                var nbb_cell_id = 143;\n",
       "                var nbb_unformatted_code = \"# let's view the statistical summary of the numerical columns in the data\\ndf.describe().T\";\n",
       "                var nbb_formatted_code = \"# let's view the statistical summary of the numerical columns in the data\\ndf.describe().T\";\n",
       "                var nbb_cells = Jupyter.notebook.get_cells();\n",
       "                for (var i = 0; i < nbb_cells.length; ++i) {\n",
       "                    if (nbb_cells[i].input_prompt_number == nbb_cell_id) {\n",
       "                        if (nbb_cells[i].get_text() == nbb_unformatted_code) {\n",
       "                             nbb_cells[i].set_text(nbb_formatted_code);\n",
       "                        }\n",
       "                        break;\n",
       "                    }\n",
       "                }\n",
       "            }, 500);\n",
       "            "
      ],
      "text/plain": [
       "<IPython.core.display.Javascript object>"
      ]
     },
     "metadata": {},
     "output_type": "display_data"
    }
   ],
   "source": [
    "# let's view the statistical summary of the numerical columns in the data\n",
    "df.describe().T"
   ]
  },
  {
   "cell_type": "code",
   "execution_count": 144,
   "metadata": {},
   "outputs": [
    {
     "data": {
      "text/html": [
       "<div>\n",
       "<style scoped>\n",
       "    .dataframe tbody tr th:only-of-type {\n",
       "        vertical-align: middle;\n",
       "    }\n",
       "\n",
       "    .dataframe tbody tr th {\n",
       "        vertical-align: top;\n",
       "    }\n",
       "\n",
       "    .dataframe thead th {\n",
       "        text-align: right;\n",
       "    }\n",
       "</style>\n",
       "<table border=\"1\" class=\"dataframe\">\n",
       "  <thead>\n",
       "    <tr style=\"text-align: right;\">\n",
       "      <th></th>\n",
       "      <th>count</th>\n",
       "      <th>unique</th>\n",
       "      <th>top</th>\n",
       "      <th>freq</th>\n",
       "    </tr>\n",
       "  </thead>\n",
       "  <tbody>\n",
       "    <tr>\n",
       "      <th>Gender</th>\n",
       "      <td>889</td>\n",
       "      <td>3</td>\n",
       "      <td>Male</td>\n",
       "      <td>607</td>\n",
       "    </tr>\n",
       "    <tr>\n",
       "      <th>UnderRisk</th>\n",
       "      <td>889</td>\n",
       "      <td>2</td>\n",
       "      <td>no</td>\n",
       "      <td>699</td>\n",
       "    </tr>\n",
       "  </tbody>\n",
       "</table>\n",
       "</div>"
      ],
      "text/plain": [
       "          count unique   top freq\n",
       "Gender      889      3  Male  607\n",
       "UnderRisk   889      2    no  699"
      ]
     },
     "execution_count": 144,
     "metadata": {},
     "output_type": "execute_result"
    },
    {
     "data": {
      "application/javascript": [
       "\n",
       "            setTimeout(function() {\n",
       "                var nbb_cell_id = 144;\n",
       "                var nbb_unformatted_code = \"# let's view the statistical summary of the non-numerical columns in the data\\ndf.describe(exclude=np.number).T\";\n",
       "                var nbb_formatted_code = \"# let's view the statistical summary of the non-numerical columns in the data\\ndf.describe(exclude=np.number).T\";\n",
       "                var nbb_cells = Jupyter.notebook.get_cells();\n",
       "                for (var i = 0; i < nbb_cells.length; ++i) {\n",
       "                    if (nbb_cells[i].input_prompt_number == nbb_cell_id) {\n",
       "                        if (nbb_cells[i].get_text() == nbb_unformatted_code) {\n",
       "                             nbb_cells[i].set_text(nbb_formatted_code);\n",
       "                        }\n",
       "                        break;\n",
       "                    }\n",
       "                }\n",
       "            }, 500);\n",
       "            "
      ],
      "text/plain": [
       "<IPython.core.display.Javascript object>"
      ]
     },
     "metadata": {},
     "output_type": "display_data"
    }
   ],
   "source": [
    "# let's view the statistical summary of the non-numerical columns in the data\n",
    "df.describe(exclude=np.number).T"
   ]
  },
  {
   "cell_type": "code",
   "execution_count": 145,
   "metadata": {},
   "outputs": [
    {
     "name": "stdout",
     "output_type": "stream",
     "text": [
      "Male      607\n",
      "Female    256\n",
      "Other      26\n",
      "Name: Gender, dtype: int64\n",
      "--------------------------------------------------\n",
      "0    782\n",
      "1    107\n",
      "Name: Chain_smoker, dtype: int64\n",
      "--------------------------------------------------\n",
      "1    745\n",
      "0    144\n",
      "Name: Consumes_other_tobacco_products, dtype: int64\n",
      "--------------------------------------------------\n",
      "0    812\n",
      "1     77\n",
      "Name: HighBP, dtype: int64\n",
      "--------------------------------------------------\n",
      "1    817\n",
      "0     72\n",
      "Name: Obese, dtype: int64\n",
      "--------------------------------------------------\n",
      "0    840\n",
      "1     49\n",
      "Name: Diabetes, dtype: int64\n",
      "--------------------------------------------------\n",
      "0    851\n",
      "1     38\n",
      "Name: Metabolic_syndrome, dtype: int64\n",
      "--------------------------------------------------\n",
      "0    816\n",
      "1     73\n",
      "Name: Use_of_stimulant_drugs, dtype: int64\n",
      "--------------------------------------------------\n",
      "1    823\n",
      "0     66\n",
      "Name: Family_history, dtype: int64\n",
      "--------------------------------------------------\n",
      "0    873\n",
      "1     16\n",
      "Name: History_of_preeclampsia, dtype: int64\n",
      "--------------------------------------------------\n",
      "0    870\n",
      "1     19\n",
      "Name: CABG_history, dtype: int64\n",
      "--------------------------------------------------\n",
      "0    860\n",
      "1     29\n",
      "Name: Respiratory_illness, dtype: int64\n",
      "--------------------------------------------------\n",
      "no     699\n",
      "yes    190\n",
      "Name: UnderRisk, dtype: int64\n",
      "--------------------------------------------------\n"
     ]
    },
    {
     "data": {
      "application/javascript": [
       "\n",
       "            setTimeout(function() {\n",
       "                var nbb_cell_id = 145;\n",
       "                var nbb_unformatted_code = \"# list of all categorical variables\\ncat_col = df.columns\\n\\n# printing the number of occurrences of each unique value in each categorical column\\nfor column in cat_col:\\n    print(df[column].value_counts())\\n    print(\\\"-\\\" * 50)\";\n",
       "                var nbb_formatted_code = \"# list of all categorical variables\\ncat_col = df.columns\\n\\n# printing the number of occurrences of each unique value in each categorical column\\nfor column in cat_col:\\n    print(df[column].value_counts())\\n    print(\\\"-\\\" * 50)\";\n",
       "                var nbb_cells = Jupyter.notebook.get_cells();\n",
       "                for (var i = 0; i < nbb_cells.length; ++i) {\n",
       "                    if (nbb_cells[i].input_prompt_number == nbb_cell_id) {\n",
       "                        if (nbb_cells[i].get_text() == nbb_unformatted_code) {\n",
       "                             nbb_cells[i].set_text(nbb_formatted_code);\n",
       "                        }\n",
       "                        break;\n",
       "                    }\n",
       "                }\n",
       "            }, 500);\n",
       "            "
      ],
      "text/plain": [
       "<IPython.core.display.Javascript object>"
      ]
     },
     "metadata": {},
     "output_type": "display_data"
    }
   ],
   "source": [
    "# list of all categorical variables\n",
    "cat_col = df.columns\n",
    "\n",
    "# printing the number of occurrences of each unique value in each categorical column\n",
    "for column in cat_col:\n",
    "    print(df[column].value_counts())\n",
    "    print(\"-\" * 50)"
   ]
  },
  {
   "cell_type": "markdown",
   "metadata": {
    "colab_type": "text",
    "id": "7E1orwlJhU20"
   },
   "source": [
    "## Data Pre-Processing"
   ]
  },
  {
   "cell_type": "markdown",
   "metadata": {
    "colab_type": "text",
    "id": "kUJ_B5KxhU3D"
   },
   "source": [
    "## EDA"
   ]
  },
  {
   "cell_type": "markdown",
   "metadata": {
    "colab_type": "text",
    "id": "7Rwx-1ZuhU3D"
   },
   "source": [
    "### Univariate analysis"
   ]
  },
  {
   "cell_type": "code",
   "execution_count": 146,
   "metadata": {},
   "outputs": [
    {
     "data": {
      "application/javascript": [
       "\n",
       "            setTimeout(function() {\n",
       "                var nbb_cell_id = 146;\n",
       "                var nbb_unformatted_code = \"# function to create labeled barplots\\n\\n\\ndef labeled_barplot(data, feature, perc=False, n=None):\\n    \\\"\\\"\\\"\\n    Barplot with percentage at the top\\n\\n    data: dataframe\\n    feature: dataframe column\\n    perc: whether to display percentages instead of count (default is False)\\n    n: displays the top n category levels (default is None, i.e., display all levels)\\n    \\\"\\\"\\\"\\n\\n    total = len(data[feature])  # length of the column\\n    count = data[feature].nunique()\\n    if n is None:\\n        plt.figure(figsize=(count + 1, 5))\\n    else:\\n        plt.figure(figsize=(n + 1, 5))\\n\\n    plt.xticks(rotation=90, fontsize=15)\\n    ax = sns.countplot(\\n        data=data,\\n        x=feature,\\n        palette=\\\"Paired\\\",\\n        order=data[feature].value_counts().index[:n].sort_values(),\\n    )\\n\\n    for p in ax.patches:\\n        if perc == True:\\n            label = \\\"{:.1f}%\\\".format(\\n                100 * p.get_height() / total\\n            )  # percentage of each class of the category\\n        else:\\n            label = p.get_height()  # count of each level of the category\\n\\n        x = p.get_x() + p.get_width() / 2  # width of the plot\\n        y = p.get_height()  # height of the plot\\n\\n        ax.annotate(\\n            label,\\n            (x, y),\\n            ha=\\\"center\\\",\\n            va=\\\"center\\\",\\n            size=12,\\n            xytext=(0, 5),\\n            textcoords=\\\"offset points\\\",\\n        )  # annotate the percentage\\n\\n    plt.show()  # show the plot\";\n",
       "                var nbb_formatted_code = \"# function to create labeled barplots\\n\\n\\ndef labeled_barplot(data, feature, perc=False, n=None):\\n    \\\"\\\"\\\"\\n    Barplot with percentage at the top\\n\\n    data: dataframe\\n    feature: dataframe column\\n    perc: whether to display percentages instead of count (default is False)\\n    n: displays the top n category levels (default is None, i.e., display all levels)\\n    \\\"\\\"\\\"\\n\\n    total = len(data[feature])  # length of the column\\n    count = data[feature].nunique()\\n    if n is None:\\n        plt.figure(figsize=(count + 1, 5))\\n    else:\\n        plt.figure(figsize=(n + 1, 5))\\n\\n    plt.xticks(rotation=90, fontsize=15)\\n    ax = sns.countplot(\\n        data=data,\\n        x=feature,\\n        palette=\\\"Paired\\\",\\n        order=data[feature].value_counts().index[:n].sort_values(),\\n    )\\n\\n    for p in ax.patches:\\n        if perc == True:\\n            label = \\\"{:.1f}%\\\".format(\\n                100 * p.get_height() / total\\n            )  # percentage of each class of the category\\n        else:\\n            label = p.get_height()  # count of each level of the category\\n\\n        x = p.get_x() + p.get_width() / 2  # width of the plot\\n        y = p.get_height()  # height of the plot\\n\\n        ax.annotate(\\n            label,\\n            (x, y),\\n            ha=\\\"center\\\",\\n            va=\\\"center\\\",\\n            size=12,\\n            xytext=(0, 5),\\n            textcoords=\\\"offset points\\\",\\n        )  # annotate the percentage\\n\\n    plt.show()  # show the plot\";\n",
       "                var nbb_cells = Jupyter.notebook.get_cells();\n",
       "                for (var i = 0; i < nbb_cells.length; ++i) {\n",
       "                    if (nbb_cells[i].input_prompt_number == nbb_cell_id) {\n",
       "                        if (nbb_cells[i].get_text() == nbb_unformatted_code) {\n",
       "                             nbb_cells[i].set_text(nbb_formatted_code);\n",
       "                        }\n",
       "                        break;\n",
       "                    }\n",
       "                }\n",
       "            }, 500);\n",
       "            "
      ],
      "text/plain": [
       "<IPython.core.display.Javascript object>"
      ]
     },
     "metadata": {},
     "output_type": "display_data"
    }
   ],
   "source": [
    "# function to create labeled barplots\n",
    "\n",
    "\n",
    "def labeled_barplot(data, feature, perc=False, n=None):\n",
    "    \"\"\"\n",
    "    Barplot with percentage at the top\n",
    "\n",
    "    data: dataframe\n",
    "    feature: dataframe column\n",
    "    perc: whether to display percentages instead of count (default is False)\n",
    "    n: displays the top n category levels (default is None, i.e., display all levels)\n",
    "    \"\"\"\n",
    "\n",
    "    total = len(data[feature])  # length of the column\n",
    "    count = data[feature].nunique()\n",
    "    if n is None:\n",
    "        plt.figure(figsize=(count + 1, 5))\n",
    "    else:\n",
    "        plt.figure(figsize=(n + 1, 5))\n",
    "\n",
    "    plt.xticks(rotation=90, fontsize=15)\n",
    "    ax = sns.countplot(\n",
    "        data=data,\n",
    "        x=feature,\n",
    "        palette=\"Paired\",\n",
    "        order=data[feature].value_counts().index[:n].sort_values(),\n",
    "    )\n",
    "\n",
    "    for p in ax.patches:\n",
    "        if perc == True:\n",
    "            label = \"{:.1f}%\".format(\n",
    "                100 * p.get_height() / total\n",
    "            )  # percentage of each class of the category\n",
    "        else:\n",
    "            label = p.get_height()  # count of each level of the category\n",
    "\n",
    "        x = p.get_x() + p.get_width() / 2  # width of the plot\n",
    "        y = p.get_height()  # height of the plot\n",
    "\n",
    "        ax.annotate(\n",
    "            label,\n",
    "            (x, y),\n",
    "            ha=\"center\",\n",
    "            va=\"center\",\n",
    "            size=12,\n",
    "            xytext=(0, 5),\n",
    "            textcoords=\"offset points\",\n",
    "        )  # annotate the percentage\n",
    "\n",
    "    plt.show()  # show the plot"
   ]
  },
  {
   "cell_type": "markdown",
   "metadata": {},
   "source": [
    "### Observations on gender"
   ]
  },
  {
   "cell_type": "code",
   "execution_count": 147,
   "metadata": {},
   "outputs": [
    {
     "data": {
      "image/png": "[encoded data removed]",
      "text/plain": [
       "<Figure size 288x360 with 1 Axes>"
      ]
     },
     "metadata": {
      "needs_background": "light"
     },
     "output_type": "display_data"
    },
    {
     "data": {
      "application/javascript": [
       "\n",
       "            setTimeout(function() {\n",
       "                var nbb_cell_id = 147;\n",
       "                var nbb_unformatted_code = \"labeled_barplot(df, \\\"Gender\\\", perc=True)\";\n",
       "                var nbb_formatted_code = \"labeled_barplot(df, \\\"Gender\\\", perc=True)\";\n",
       "                var nbb_cells = Jupyter.notebook.get_cells();\n",
       "                for (var i = 0; i < nbb_cells.length; ++i) {\n",
       "                    if (nbb_cells[i].input_prompt_number == nbb_cell_id) {\n",
       "                        if (nbb_cells[i].get_text() == nbb_unformatted_code) {\n",
       "                             nbb_cells[i].set_text(nbb_formatted_code);\n",
       "                        }\n",
       "                        break;\n",
       "                    }\n",
       "                }\n",
       "            }, 500);\n",
       "            "
      ],
      "text/plain": [
       "<IPython.core.display.Javascript object>"
      ]
     },
     "metadata": {},
     "output_type": "display_data"
    }
   ],
   "source": [
    "labeled_barplot(df, \"Gender\", perc=True)"
   ]
  },
  {
   "cell_type": "markdown",
   "metadata": {},
   "source": [
    "* 69% of the enrollees are males."
   ]
  },
  {
   "cell_type": "markdown",
   "metadata": {},
   "source": [
    "### Observations on Chain_smoker"
   ]
  },
  {
   "cell_type": "code",
   "execution_count": 148,
   "metadata": {},
   "outputs": [
    {
     "data": {
      "image/png": "[encoded data removed]",
      "text/plain": [
       "<Figure size 216x360 with 1 Axes>"
      ]
     },
     "metadata": {
      "needs_background": "light"
     },
     "output_type": "display_data"
    },
    {
     "data": {
      "application/javascript": [
       "\n",
       "            setTimeout(function() {\n",
       "                var nbb_cell_id = 148;\n",
       "                var nbb_unformatted_code = \"labeled_barplot(df, \\\"Chain_smoker\\\", perc=True)\";\n",
       "                var nbb_formatted_code = \"labeled_barplot(df, \\\"Chain_smoker\\\", perc=True)\";\n",
       "                var nbb_cells = Jupyter.notebook.get_cells();\n",
       "                for (var i = 0; i < nbb_cells.length; ++i) {\n",
       "                    if (nbb_cells[i].input_prompt_number == nbb_cell_id) {\n",
       "                        if (nbb_cells[i].get_text() == nbb_unformatted_code) {\n",
       "                             nbb_cells[i].set_text(nbb_formatted_code);\n",
       "                        }\n",
       "                        break;\n",
       "                    }\n",
       "                }\n",
       "            }, 500);\n",
       "            "
      ],
      "text/plain": [
       "<IPython.core.display.Javascript object>"
      ]
     },
     "metadata": {},
     "output_type": "display_data"
    }
   ],
   "source": [
    "labeled_barplot(df, \"Chain_smoker\", perc=True)"
   ]
  },
  {
   "cell_type": "markdown",
   "metadata": {},
   "source": [
    "### Observations on Consumes_other_tobacco_products"
   ]
  },
  {
   "cell_type": "code",
   "execution_count": 149,
   "metadata": {
    "scrolled": true
   },
   "outputs": [
    {
     "data": {
      "image/png": "[encoded data removed]",
      "text/plain": [
       "<Figure size 216x360 with 1 Axes>"
      ]
     },
     "metadata": {
      "needs_background": "light"
     },
     "output_type": "display_data"
    },
    {
     "data": {
      "application/javascript": [
       "\n",
       "            setTimeout(function() {\n",
       "                var nbb_cell_id = 149;\n",
       "                var nbb_unformatted_code = \"labeled_barplot(df, \\\"Consumes_other_tobacco_products\\\", perc=True)\";\n",
       "                var nbb_formatted_code = \"labeled_barplot(df, \\\"Consumes_other_tobacco_products\\\", perc=True)\";\n",
       "                var nbb_cells = Jupyter.notebook.get_cells();\n",
       "                for (var i = 0; i < nbb_cells.length; ++i) {\n",
       "                    if (nbb_cells[i].input_prompt_number == nbb_cell_id) {\n",
       "                        if (nbb_cells[i].get_text() == nbb_unformatted_code) {\n",
       "                             nbb_cells[i].set_text(nbb_formatted_code);\n",
       "                        }\n",
       "                        break;\n",
       "                    }\n",
       "                }\n",
       "            }, 500);\n",
       "            "
      ],
      "text/plain": [
       "<IPython.core.display.Javascript object>"
      ]
     },
     "metadata": {},
     "output_type": "display_data"
    }
   ],
   "source": [
    "labeled_barplot(df, \"Consumes_other_tobacco_products\", perc=True)"
   ]
  },
  {
   "cell_type": "markdown",
   "metadata": {},
   "source": [
    "### Observations on HighBP"
   ]
  },
  {
   "cell_type": "code",
   "execution_count": 150,
   "metadata": {
    "scrolled": true
   },
   "outputs": [
    {
     "data": {
      "image/png": "[encoded data removed]",
      "text/plain": [
       "<Figure size 216x360 with 1 Axes>"
      ]
     },
     "metadata": {
      "needs_background": "light"
     },
     "output_type": "display_data"
    },
    {
     "data": {
      "application/javascript": [
       "\n",
       "            setTimeout(function() {\n",
       "                var nbb_cell_id = 150;\n",
       "                var nbb_unformatted_code = \"labeled_barplot(df, \\\"HighBP\\\", perc=True)\";\n",
       "                var nbb_formatted_code = \"labeled_barplot(df, \\\"HighBP\\\", perc=True)\";\n",
       "                var nbb_cells = Jupyter.notebook.get_cells();\n",
       "                for (var i = 0; i < nbb_cells.length; ++i) {\n",
       "                    if (nbb_cells[i].input_prompt_number == nbb_cell_id) {\n",
       "                        if (nbb_cells[i].get_text() == nbb_unformatted_code) {\n",
       "                             nbb_cells[i].set_text(nbb_formatted_code);\n",
       "                        }\n",
       "                        break;\n",
       "                    }\n",
       "                }\n",
       "            }, 500);\n",
       "            "
      ],
      "text/plain": [
       "<IPython.core.display.Javascript object>"
      ]
     },
     "metadata": {},
     "output_type": "display_data"
    }
   ],
   "source": [
    "labeled_barplot(df, \"HighBP\", perc=True)"
   ]
  },
  {
   "cell_type": "markdown",
   "metadata": {},
   "source": [
    "### Observations on Obese"
   ]
  },
  {
   "cell_type": "code",
   "execution_count": 151,
   "metadata": {
    "scrolled": true
   },
   "outputs": [
    {
     "data": {
      "image/png": "[encoded data removed]",
      "text/plain": [
       "<Figure size 216x360 with 1 Axes>"
      ]
     },
     "metadata": {
      "needs_background": "light"
     },
     "output_type": "display_data"
    },
    {
     "data": {
      "application/javascript": [
       "\n",
       "            setTimeout(function() {\n",
       "                var nbb_cell_id = 151;\n",
       "                var nbb_unformatted_code = \"labeled_barplot(df, \\\"Obese\\\", perc=True)\";\n",
       "                var nbb_formatted_code = \"labeled_barplot(df, \\\"Obese\\\", perc=True)\";\n",
       "                var nbb_cells = Jupyter.notebook.get_cells();\n",
       "                for (var i = 0; i < nbb_cells.length; ++i) {\n",
       "                    if (nbb_cells[i].input_prompt_number == nbb_cell_id) {\n",
       "                        if (nbb_cells[i].get_text() == nbb_unformatted_code) {\n",
       "                             nbb_cells[i].set_text(nbb_formatted_code);\n",
       "                        }\n",
       "                        break;\n",
       "                    }\n",
       "                }\n",
       "            }, 500);\n",
       "            "
      ],
      "text/plain": [
       "<IPython.core.display.Javascript object>"
      ]
     },
     "metadata": {},
     "output_type": "display_data"
    }
   ],
   "source": [
    "labeled_barplot(df, \"Obese\", perc=True)"
   ]
  },
  {
   "cell_type": "markdown",
   "metadata": {},
   "source": [
    "### Observations on Diabetes"
   ]
  },
  {
   "cell_type": "code",
   "execution_count": 152,
   "metadata": {
    "scrolled": true
   },
   "outputs": [
    {
     "data": {
      "image/png": "[encoded data removed]",
      "text/plain": [
       "<Figure size 216x360 with 1 Axes>"
      ]
     },
     "metadata": {
      "needs_background": "light"
     },
     "output_type": "display_data"
    },
    {
     "data": {
      "application/javascript": [
       "\n",
       "            setTimeout(function() {\n",
       "                var nbb_cell_id = 152;\n",
       "                var nbb_unformatted_code = \"labeled_barplot(df, \\\"Diabetes\\\", perc=True)\";\n",
       "                var nbb_formatted_code = \"labeled_barplot(df, \\\"Diabetes\\\", perc=True)\";\n",
       "                var nbb_cells = Jupyter.notebook.get_cells();\n",
       "                for (var i = 0; i < nbb_cells.length; ++i) {\n",
       "                    if (nbb_cells[i].input_prompt_number == nbb_cell_id) {\n",
       "                        if (nbb_cells[i].get_text() == nbb_unformatted_code) {\n",
       "                             nbb_cells[i].set_text(nbb_formatted_code);\n",
       "                        }\n",
       "                        break;\n",
       "                    }\n",
       "                }\n",
       "            }, 500);\n",
       "            "
      ],
      "text/plain": [
       "<IPython.core.display.Javascript object>"
      ]
     },
     "metadata": {},
     "output_type": "display_data"
    }
   ],
   "source": [
    "labeled_barplot(df, \"Diabetes\", perc=True)"
   ]
  },
  {
   "cell_type": "markdown",
   "metadata": {},
   "source": [
    "### Observations on Metabolic_syndrome"
   ]
  },
  {
   "cell_type": "code",
   "execution_count": 153,
   "metadata": {
    "scrolled": true
   },
   "outputs": [
    {
     "data": {
      "image/png": "[encoded data removed]",
      "text/plain": [
       "<Figure size 216x360 with 1 Axes>"
      ]
     },
     "metadata": {
      "needs_background": "light"
     },
     "output_type": "display_data"
    },
    {
     "data": {
      "application/javascript": [
       "\n",
       "            setTimeout(function() {\n",
       "                var nbb_cell_id = 153;\n",
       "                var nbb_unformatted_code = \"labeled_barplot(df, \\\"Metabolic_syndrome\\\", perc=True)\";\n",
       "                var nbb_formatted_code = \"labeled_barplot(df, \\\"Metabolic_syndrome\\\", perc=True)\";\n",
       "                var nbb_cells = Jupyter.notebook.get_cells();\n",
       "                for (var i = 0; i < nbb_cells.length; ++i) {\n",
       "                    if (nbb_cells[i].input_prompt_number == nbb_cell_id) {\n",
       "                        if (nbb_cells[i].get_text() == nbb_unformatted_code) {\n",
       "                             nbb_cells[i].set_text(nbb_formatted_code);\n",
       "                        }\n",
       "                        break;\n",
       "                    }\n",
       "                }\n",
       "            }, 500);\n",
       "            "
      ],
      "text/plain": [
       "<IPython.core.display.Javascript object>"
      ]
     },
     "metadata": {},
     "output_type": "display_data"
    }
   ],
   "source": [
    "labeled_barplot(df, \"Metabolic_syndrome\", perc=True)"
   ]
  },
  {
   "cell_type": "markdown",
   "metadata": {},
   "source": [
    "### Observations on Use_of_stimulant_drugs"
   ]
  },
  {
   "cell_type": "code",
   "execution_count": 154,
   "metadata": {
    "scrolled": true
   },
   "outputs": [
    {
     "data": {
      "image/png": "[encoded data removed]",
      "text/plain": [
       "<Figure size 216x360 with 1 Axes>"
      ]
     },
     "metadata": {
      "needs_background": "light"
     },
     "output_type": "display_data"
    },
    {
     "data": {
      "application/javascript": [
       "\n",
       "            setTimeout(function() {\n",
       "                var nbb_cell_id = 154;\n",
       "                var nbb_unformatted_code = \"labeled_barplot(df, \\\"Use_of_stimulant_drugs\\\", perc=True)\";\n",
       "                var nbb_formatted_code = \"labeled_barplot(df, \\\"Use_of_stimulant_drugs\\\", perc=True)\";\n",
       "                var nbb_cells = Jupyter.notebook.get_cells();\n",
       "                for (var i = 0; i < nbb_cells.length; ++i) {\n",
       "                    if (nbb_cells[i].input_prompt_number == nbb_cell_id) {\n",
       "                        if (nbb_cells[i].get_text() == nbb_unformatted_code) {\n",
       "                             nbb_cells[i].set_text(nbb_formatted_code);\n",
       "                        }\n",
       "                        break;\n",
       "                    }\n",
       "                }\n",
       "            }, 500);\n",
       "            "
      ],
      "text/plain": [
       "<IPython.core.display.Javascript object>"
      ]
     },
     "metadata": {},
     "output_type": "display_data"
    }
   ],
   "source": [
    "labeled_barplot(df, \"Use_of_stimulant_drugs\", perc=True)"
   ]
  },
  {
   "cell_type": "markdown",
   "metadata": {},
   "source": [
    "### Observations on Family_history"
   ]
  },
  {
   "cell_type": "code",
   "execution_count": 155,
   "metadata": {
    "scrolled": false
   },
   "outputs": [
    {
     "data": {
      "image/png": "[encoded data removed]",
      "text/plain": [
       "<Figure size 216x360 with 1 Axes>"
      ]
     },
     "metadata": {
      "needs_background": "light"
     },
     "output_type": "display_data"
    },
    {
     "data": {
      "application/javascript": [
       "\n",
       "            setTimeout(function() {\n",
       "                var nbb_cell_id = 155;\n",
       "                var nbb_unformatted_code = \"labeled_barplot(df, \\\"Family_history\\\", perc=True)\";\n",
       "                var nbb_formatted_code = \"labeled_barplot(df, \\\"Family_history\\\", perc=True)\";\n",
       "                var nbb_cells = Jupyter.notebook.get_cells();\n",
       "                for (var i = 0; i < nbb_cells.length; ++i) {\n",
       "                    if (nbb_cells[i].input_prompt_number == nbb_cell_id) {\n",
       "                        if (nbb_cells[i].get_text() == nbb_unformatted_code) {\n",
       "                             nbb_cells[i].set_text(nbb_formatted_code);\n",
       "                        }\n",
       "                        break;\n",
       "                    }\n",
       "                }\n",
       "            }, 500);\n",
       "            "
      ],
      "text/plain": [
       "<IPython.core.display.Javascript object>"
      ]
     },
     "metadata": {},
     "output_type": "display_data"
    }
   ],
   "source": [
    "labeled_barplot(df, \"Family_history\", perc=True)"
   ]
  },
  {
   "cell_type": "markdown",
   "metadata": {},
   "source": [
    "### Observations on History_of_preeclampsia"
   ]
  },
  {
   "cell_type": "code",
   "execution_count": 156,
   "metadata": {
    "scrolled": false
   },
   "outputs": [
    {
     "data": {
      "image/png": "[encoded data removed]",
      "text/plain": [
       "<Figure size 216x360 with 1 Axes>"
      ]
     },
     "metadata": {
      "needs_background": "light"
     },
     "output_type": "display_data"
    },
    {
     "data": {
      "application/javascript": [
       "\n",
       "            setTimeout(function() {\n",
       "                var nbb_cell_id = 156;\n",
       "                var nbb_unformatted_code = \"labeled_barplot(df, \\\"History_of_preeclampsia\\\", perc=True)\";\n",
       "                var nbb_formatted_code = \"labeled_barplot(df, \\\"History_of_preeclampsia\\\", perc=True)\";\n",
       "                var nbb_cells = Jupyter.notebook.get_cells();\n",
       "                for (var i = 0; i < nbb_cells.length; ++i) {\n",
       "                    if (nbb_cells[i].input_prompt_number == nbb_cell_id) {\n",
       "                        if (nbb_cells[i].get_text() == nbb_unformatted_code) {\n",
       "                             nbb_cells[i].set_text(nbb_formatted_code);\n",
       "                        }\n",
       "                        break;\n",
       "                    }\n",
       "                }\n",
       "            }, 500);\n",
       "            "
      ],
      "text/plain": [
       "<IPython.core.display.Javascript object>"
      ]
     },
     "metadata": {},
     "output_type": "display_data"
    }
   ],
   "source": [
    "labeled_barplot(df, \"History_of_preeclampsia\", perc=True)"
   ]
  },
  {
   "cell_type": "markdown",
   "metadata": {},
   "source": [
    "### Observations on CABG_history"
   ]
  },
  {
   "cell_type": "code",
   "execution_count": 157,
   "metadata": {
    "scrolled": false
   },
   "outputs": [
    {
     "data": {
      "image/png": "[encoded data removed]",
      "text/plain": [
       "<Figure size 216x360 with 1 Axes>"
      ]
     },
     "metadata": {
      "needs_background": "light"
     },
     "output_type": "display_data"
    },
    {
     "data": {
      "application/javascript": [
       "\n",
       "            setTimeout(function() {\n",
       "                var nbb_cell_id = 157;\n",
       "                var nbb_unformatted_code = \"labeled_barplot(df, \\\"CABG_history\\\", perc=True)\";\n",
       "                var nbb_formatted_code = \"labeled_barplot(df, \\\"CABG_history\\\", perc=True)\";\n",
       "                var nbb_cells = Jupyter.notebook.get_cells();\n",
       "                for (var i = 0; i < nbb_cells.length; ++i) {\n",
       "                    if (nbb_cells[i].input_prompt_number == nbb_cell_id) {\n",
       "                        if (nbb_cells[i].get_text() == nbb_unformatted_code) {\n",
       "                             nbb_cells[i].set_text(nbb_formatted_code);\n",
       "                        }\n",
       "                        break;\n",
       "                    }\n",
       "                }\n",
       "            }, 500);\n",
       "            "
      ],
      "text/plain": [
       "<IPython.core.display.Javascript object>"
      ]
     },
     "metadata": {},
     "output_type": "display_data"
    }
   ],
   "source": [
    "labeled_barplot(df, \"CABG_history\", perc=True)"
   ]
  },
  {
   "cell_type": "markdown",
   "metadata": {},
   "source": [
    "### Observations on Respiratory_illness"
   ]
  },
  {
   "cell_type": "code",
   "execution_count": 158,
   "metadata": {
    "scrolled": false
   },
   "outputs": [
    {
     "data": {
      "image/png": "[encoded data removed]",
      "text/plain": [
       "<Figure size 216x360 with 1 Axes>"
      ]
     },
     "metadata": {
      "needs_background": "light"
     },
     "output_type": "display_data"
    },
    {
     "data": {
      "application/javascript": [
       "\n",
       "            setTimeout(function() {\n",
       "                var nbb_cell_id = 158;\n",
       "                var nbb_unformatted_code = \"labeled_barplot(df, \\\"Respiratory_illness\\\", perc=True)\";\n",
       "                var nbb_formatted_code = \"labeled_barplot(df, \\\"Respiratory_illness\\\", perc=True)\";\n",
       "                var nbb_cells = Jupyter.notebook.get_cells();\n",
       "                for (var i = 0; i < nbb_cells.length; ++i) {\n",
       "                    if (nbb_cells[i].input_prompt_number == nbb_cell_id) {\n",
       "                        if (nbb_cells[i].get_text() == nbb_unformatted_code) {\n",
       "                             nbb_cells[i].set_text(nbb_formatted_code);\n",
       "                        }\n",
       "                        break;\n",
       "                    }\n",
       "                }\n",
       "            }, 500);\n",
       "            "
      ],
      "text/plain": [
       "<IPython.core.display.Javascript object>"
      ]
     },
     "metadata": {},
     "output_type": "display_data"
    }
   ],
   "source": [
    "labeled_barplot(df, \"Respiratory_illness\", perc=True)"
   ]
  },
  {
   "cell_type": "markdown",
   "metadata": {},
   "source": [
    "### Observations on Family_history"
   ]
  },
  {
   "cell_type": "code",
   "execution_count": 159,
   "metadata": {
    "scrolled": true
   },
   "outputs": [
    {
     "data": {
      "image/png": "[encoded data removed]",
      "text/plain": [
       "<Figure size 216x360 with 1 Axes>"
      ]
     },
     "metadata": {
      "needs_background": "light"
     },
     "output_type": "display_data"
    },
    {
     "data": {
      "application/javascript": [
       "\n",
       "            setTimeout(function() {\n",
       "                var nbb_cell_id = 159;\n",
       "                var nbb_unformatted_code = \"labeled_barplot(df, \\\"UnderRisk\\\", perc=True)\";\n",
       "                var nbb_formatted_code = \"labeled_barplot(df, \\\"UnderRisk\\\", perc=True)\";\n",
       "                var nbb_cells = Jupyter.notebook.get_cells();\n",
       "                for (var i = 0; i < nbb_cells.length; ++i) {\n",
       "                    if (nbb_cells[i].input_prompt_number == nbb_cell_id) {\n",
       "                        if (nbb_cells[i].get_text() == nbb_unformatted_code) {\n",
       "                             nbb_cells[i].set_text(nbb_formatted_code);\n",
       "                        }\n",
       "                        break;\n",
       "                    }\n",
       "                }\n",
       "            }, 500);\n",
       "            "
      ],
      "text/plain": [
       "<IPython.core.display.Javascript object>"
      ]
     },
     "metadata": {},
     "output_type": "display_data"
    }
   ],
   "source": [
    "labeled_barplot(df, \"UnderRisk\", perc=True)"
   ]
  },
  {
   "cell_type": "markdown",
   "metadata": {
    "colab_type": "text",
    "id": "beo_tDmVhU3-"
   },
   "source": [
    "## Bivariate Analysis"
   ]
  },
  {
   "cell_type": "markdown",
   "metadata": {},
   "source": [
    "* Encoding 1 and 0 to 'yes' and 'no' respectively, for analysis."
   ]
  },
  {
   "cell_type": "code",
   "execution_count": 160,
   "metadata": {},
   "outputs": [
    {
     "data": {
      "application/javascript": [
       "\n",
       "            setTimeout(function() {\n",
       "                var nbb_cell_id = 160;\n",
       "                var nbb_unformatted_code = \"df[\\\"UnderRisk\\\"].replace(1, \\\"yes\\\", inplace=True)\\ndf[\\\"UnderRisk\\\"].replace(0, \\\"no\\\", inplace=True)\";\n",
       "                var nbb_formatted_code = \"df[\\\"UnderRisk\\\"].replace(1, \\\"yes\\\", inplace=True)\\ndf[\\\"UnderRisk\\\"].replace(0, \\\"no\\\", inplace=True)\";\n",
       "                var nbb_cells = Jupyter.notebook.get_cells();\n",
       "                for (var i = 0; i < nbb_cells.length; ++i) {\n",
       "                    if (nbb_cells[i].input_prompt_number == nbb_cell_id) {\n",
       "                        if (nbb_cells[i].get_text() == nbb_unformatted_code) {\n",
       "                             nbb_cells[i].set_text(nbb_formatted_code);\n",
       "                        }\n",
       "                        break;\n",
       "                    }\n",
       "                }\n",
       "            }, 500);\n",
       "            "
      ],
      "text/plain": [
       "<IPython.core.display.Javascript object>"
      ]
     },
     "metadata": {},
     "output_type": "display_data"
    }
   ],
   "source": [
    "df[\"UnderRisk\"].replace(1, \"yes\", inplace=True)\n",
    "df[\"UnderRisk\"].replace(0, \"no\", inplace=True)"
   ]
  },
  {
   "cell_type": "code",
   "execution_count": 161,
   "metadata": {},
   "outputs": [
    {
     "data": {
      "application/javascript": [
       "\n",
       "            setTimeout(function() {\n",
       "                var nbb_cell_id = 161;\n",
       "                var nbb_unformatted_code = \"# function to plot stacked bar chart\\n\\n\\ndef stacked_barplot(data, predictor, target):\\n    \\\"\\\"\\\"\\n    Print the category counts and plot a stacked bar chart\\n\\n    data: dataframe\\n    predictor: independent variable\\n    target: target variable\\n    \\\"\\\"\\\"\\n    count = data[predictor].nunique()\\n    sorter = data[target].value_counts().index[-1]\\n    tab1 = pd.crosstab(data[predictor], data[target], margins=True).sort_values(\\n        by=sorter, ascending=False\\n    )\\n    print(tab1)\\n    print(\\\"-\\\" * 120)\\n    tab = pd.crosstab(data[predictor], data[target], normalize=\\\"index\\\").sort_values(\\n        by=sorter, ascending=False\\n    )\\n    tab.plot(kind=\\\"bar\\\", stacked=True, figsize=(count + 1, 5))\\n    plt.legend(\\n        loc=\\\"lower left\\\", frameon=False,\\n    )\\n    plt.legend(loc=\\\"upper left\\\", bbox_to_anchor=(1, 1))\\n    plt.show()\";\n",
       "                var nbb_formatted_code = \"# function to plot stacked bar chart\\n\\n\\ndef stacked_barplot(data, predictor, target):\\n    \\\"\\\"\\\"\\n    Print the category counts and plot a stacked bar chart\\n\\n    data: dataframe\\n    predictor: independent variable\\n    target: target variable\\n    \\\"\\\"\\\"\\n    count = data[predictor].nunique()\\n    sorter = data[target].value_counts().index[-1]\\n    tab1 = pd.crosstab(data[predictor], data[target], margins=True).sort_values(\\n        by=sorter, ascending=False\\n    )\\n    print(tab1)\\n    print(\\\"-\\\" * 120)\\n    tab = pd.crosstab(data[predictor], data[target], normalize=\\\"index\\\").sort_values(\\n        by=sorter, ascending=False\\n    )\\n    tab.plot(kind=\\\"bar\\\", stacked=True, figsize=(count + 1, 5))\\n    plt.legend(\\n        loc=\\\"lower left\\\", frameon=False,\\n    )\\n    plt.legend(loc=\\\"upper left\\\", bbox_to_anchor=(1, 1))\\n    plt.show()\";\n",
       "                var nbb_cells = Jupyter.notebook.get_cells();\n",
       "                for (var i = 0; i < nbb_cells.length; ++i) {\n",
       "                    if (nbb_cells[i].input_prompt_number == nbb_cell_id) {\n",
       "                        if (nbb_cells[i].get_text() == nbb_unformatted_code) {\n",
       "                             nbb_cells[i].set_text(nbb_formatted_code);\n",
       "                        }\n",
       "                        break;\n",
       "                    }\n",
       "                }\n",
       "            }, 500);\n",
       "            "
      ],
      "text/plain": [
       "<IPython.core.display.Javascript object>"
      ]
     },
     "metadata": {},
     "output_type": "display_data"
    }
   ],
   "source": [
    "# function to plot stacked bar chart\n",
    "\n",
    "\n",
    "def stacked_barplot(data, predictor, target):\n",
    "    \"\"\"\n",
    "    Print the category counts and plot a stacked bar chart\n",
    "\n",
    "    data: dataframe\n",
    "    predictor: independent variable\n",
    "    target: target variable\n",
    "    \"\"\"\n",
    "    count = data[predictor].nunique()\n",
    "    sorter = data[target].value_counts().index[-1]\n",
    "    tab1 = pd.crosstab(data[predictor], data[target], margins=True).sort_values(\n",
    "        by=sorter, ascending=False\n",
    "    )\n",
    "    print(tab1)\n",
    "    print(\"-\" * 120)\n",
    "    tab = pd.crosstab(data[predictor], data[target], normalize=\"index\").sort_values(\n",
    "        by=sorter, ascending=False\n",
    "    )\n",
    "    tab.plot(kind=\"bar\", stacked=True, figsize=(count + 1, 5))\n",
    "    plt.legend(\n",
    "        loc=\"lower left\", frameon=False,\n",
    "    )\n",
    "    plt.legend(loc=\"upper left\", bbox_to_anchor=(1, 1))\n",
    "    plt.show()"
   ]
  },
  {
   "cell_type": "markdown",
   "metadata": {},
   "source": [
    "### target vs gender"
   ]
  },
  {
   "cell_type": "code",
   "execution_count": 162,
   "metadata": {
    "scrolled": false
   },
   "outputs": [
    {
     "name": "stdout",
     "output_type": "stream",
     "text": [
      "UnderRisk   no  yes  All\n",
      "Gender                  \n",
      "All        699  190  889\n",
      "Male       461  146  607\n",
      "Female     216   40  256\n",
      "Other       22    4   26\n",
      "------------------------------------------------------------------------------------------------------------------------\n"
     ]
    },
    {
     "data": {
      "image/png": "[encoded data removed]",
      "text/plain": [
       "<Figure size 288x360 with 1 Axes>"
      ]
     },
     "metadata": {
      "needs_background": "light"
     },
     "output_type": "display_data"
    },
    {
     "data": {
      "application/javascript": [
       "\n",
       "            setTimeout(function() {\n",
       "                var nbb_cell_id = 162;\n",
       "                var nbb_unformatted_code = \"stacked_barplot(df, \\\"Gender\\\", \\\"UnderRisk\\\")\";\n",
       "                var nbb_formatted_code = \"stacked_barplot(df, \\\"Gender\\\", \\\"UnderRisk\\\")\";\n",
       "                var nbb_cells = Jupyter.notebook.get_cells();\n",
       "                for (var i = 0; i < nbb_cells.length; ++i) {\n",
       "                    if (nbb_cells[i].input_prompt_number == nbb_cell_id) {\n",
       "                        if (nbb_cells[i].get_text() == nbb_unformatted_code) {\n",
       "                             nbb_cells[i].set_text(nbb_formatted_code);\n",
       "                        }\n",
       "                        break;\n",
       "                    }\n",
       "                }\n",
       "            }, 500);\n",
       "            "
      ],
      "text/plain": [
       "<IPython.core.display.Javascript object>"
      ]
     },
     "metadata": {},
     "output_type": "display_data"
    }
   ],
   "source": [
    "stacked_barplot(df, \"Gender\", \"UnderRisk\")"
   ]
  },
  {
   "cell_type": "markdown",
   "metadata": {},
   "source": [
    "### target vs Chain_smoker"
   ]
  },
  {
   "cell_type": "code",
   "execution_count": 163,
   "metadata": {
    "scrolled": false
   },
   "outputs": [
    {
     "name": "stdout",
     "output_type": "stream",
     "text": [
      "UnderRisk      no  yes  All\n",
      "Chain_smoker               \n",
      "All           699  190  889\n",
      "0             598  184  782\n",
      "1             101    6  107\n",
      "------------------------------------------------------------------------------------------------------------------------\n"
     ]
    },
    {
     "data": {
      "image/png": "[encoded data removed]",
      "text/plain": [
       "<Figure size 216x360 with 1 Axes>"
      ]
     },
     "metadata": {
      "needs_background": "light"
     },
     "output_type": "display_data"
    },
    {
     "data": {
      "application/javascript": [
       "\n",
       "            setTimeout(function() {\n",
       "                var nbb_cell_id = 163;\n",
       "                var nbb_unformatted_code = \"stacked_barplot(df, \\\"Chain_smoker\\\", \\\"UnderRisk\\\")\";\n",
       "                var nbb_formatted_code = \"stacked_barplot(df, \\\"Chain_smoker\\\", \\\"UnderRisk\\\")\";\n",
       "                var nbb_cells = Jupyter.notebook.get_cells();\n",
       "                for (var i = 0; i < nbb_cells.length; ++i) {\n",
       "                    if (nbb_cells[i].input_prompt_number == nbb_cell_id) {\n",
       "                        if (nbb_cells[i].get_text() == nbb_unformatted_code) {\n",
       "                             nbb_cells[i].set_text(nbb_formatted_code);\n",
       "                        }\n",
       "                        break;\n",
       "                    }\n",
       "                }\n",
       "            }, 500);\n",
       "            "
      ],
      "text/plain": [
       "<IPython.core.display.Javascript object>"
      ]
     },
     "metadata": {},
     "output_type": "display_data"
    }
   ],
   "source": [
    "stacked_barplot(df, \"Chain_smoker\", \"UnderRisk\")"
   ]
  },
  {
   "cell_type": "markdown",
   "metadata": {},
   "source": [
    "### target vs Consumes_other_tobacco_products"
   ]
  },
  {
   "cell_type": "code",
   "execution_count": 164,
   "metadata": {
    "scrolled": false
   },
   "outputs": [
    {
     "name": "stdout",
     "output_type": "stream",
     "text": [
      "UnderRisk                         no  yes  All\n",
      "Consumes_other_tobacco_products               \n",
      "All                              699  190  889\n",
      "1                                577  168  745\n",
      "0                                122   22  144\n",
      "------------------------------------------------------------------------------------------------------------------------\n"
     ]
    },
    {
     "data": {
      "image/png": "[encoded data removed]",
      "text/plain": [
       "<Figure size 216x360 with 1 Axes>"
      ]
     },
     "metadata": {
      "needs_background": "light"
     },
     "output_type": "display_data"
    },
    {
     "data": {
      "application/javascript": [
       "\n",
       "            setTimeout(function() {\n",
       "                var nbb_cell_id = 164;\n",
       "                var nbb_unformatted_code = \"stacked_barplot(df, \\\"Consumes_other_tobacco_products\\\", \\\"UnderRisk\\\")\";\n",
       "                var nbb_formatted_code = \"stacked_barplot(df, \\\"Consumes_other_tobacco_products\\\", \\\"UnderRisk\\\")\";\n",
       "                var nbb_cells = Jupyter.notebook.get_cells();\n",
       "                for (var i = 0; i < nbb_cells.length; ++i) {\n",
       "                    if (nbb_cells[i].input_prompt_number == nbb_cell_id) {\n",
       "                        if (nbb_cells[i].get_text() == nbb_unformatted_code) {\n",
       "                             nbb_cells[i].set_text(nbb_formatted_code);\n",
       "                        }\n",
       "                        break;\n",
       "                    }\n",
       "                }\n",
       "            }, 500);\n",
       "            "
      ],
      "text/plain": [
       "<IPython.core.display.Javascript object>"
      ]
     },
     "metadata": {},
     "output_type": "display_data"
    }
   ],
   "source": [
    "stacked_barplot(df, \"Consumes_other_tobacco_products\", \"UnderRisk\")"
   ]
  },
  {
   "cell_type": "markdown",
   "metadata": {},
   "source": [
    "### target vs HighBP"
   ]
  },
  {
   "cell_type": "code",
   "execution_count": 165,
   "metadata": {
    "scrolled": true
   },
   "outputs": [
    {
     "name": "stdout",
     "output_type": "stream",
     "text": [
      "UnderRisk   no  yes  All\n",
      "HighBP                  \n",
      "All        699  190  889\n",
      "0          652  160  812\n",
      "1           47   30   77\n",
      "------------------------------------------------------------------------------------------------------------------------\n"
     ]
    },
    {
     "data": {
      "image/png": "[encoded data removed]",
      "text/plain": [
       "<Figure size 216x360 with 1 Axes>"
      ]
     },
     "metadata": {
      "needs_background": "light"
     },
     "output_type": "display_data"
    },
    {
     "data": {
      "application/javascript": [
       "\n",
       "            setTimeout(function() {\n",
       "                var nbb_cell_id = 165;\n",
       "                var nbb_unformatted_code = \"stacked_barplot(df, \\\"HighBP\\\", \\\"UnderRisk\\\")\";\n",
       "                var nbb_formatted_code = \"stacked_barplot(df, \\\"HighBP\\\", \\\"UnderRisk\\\")\";\n",
       "                var nbb_cells = Jupyter.notebook.get_cells();\n",
       "                for (var i = 0; i < nbb_cells.length; ++i) {\n",
       "                    if (nbb_cells[i].input_prompt_number == nbb_cell_id) {\n",
       "                        if (nbb_cells[i].get_text() == nbb_unformatted_code) {\n",
       "                             nbb_cells[i].set_text(nbb_formatted_code);\n",
       "                        }\n",
       "                        break;\n",
       "                    }\n",
       "                }\n",
       "            }, 500);\n",
       "            "
      ],
      "text/plain": [
       "<IPython.core.display.Javascript object>"
      ]
     },
     "metadata": {},
     "output_type": "display_data"
    }
   ],
   "source": [
    "stacked_barplot(df, \"HighBP\", \"UnderRisk\")"
   ]
  },
  {
   "cell_type": "markdown",
   "metadata": {},
   "source": [
    "### target vs Obese"
   ]
  },
  {
   "cell_type": "code",
   "execution_count": 166,
   "metadata": {
    "scrolled": true
   },
   "outputs": [
    {
     "name": "stdout",
     "output_type": "stream",
     "text": [
      "UnderRisk   no  yes  All\n",
      "Obese                   \n",
      "All        699  190  889\n",
      "1          640  177  817\n",
      "0           59   13   72\n",
      "------------------------------------------------------------------------------------------------------------------------\n"
     ]
    },
    {
     "data": {
      "image/png": "[encoded data removed]",
      "text/plain": [
       "<Figure size 216x360 with 1 Axes>"
      ]
     },
     "metadata": {
      "needs_background": "light"
     },
     "output_type": "display_data"
    },
    {
     "data": {
      "application/javascript": [
       "\n",
       "            setTimeout(function() {\n",
       "                var nbb_cell_id = 166;\n",
       "                var nbb_unformatted_code = \"stacked_barplot(df, \\\"Obese\\\", \\\"UnderRisk\\\")\";\n",
       "                var nbb_formatted_code = \"stacked_barplot(df, \\\"Obese\\\", \\\"UnderRisk\\\")\";\n",
       "                var nbb_cells = Jupyter.notebook.get_cells();\n",
       "                for (var i = 0; i < nbb_cells.length; ++i) {\n",
       "                    if (nbb_cells[i].input_prompt_number == nbb_cell_id) {\n",
       "                        if (nbb_cells[i].get_text() == nbb_unformatted_code) {\n",
       "                             nbb_cells[i].set_text(nbb_formatted_code);\n",
       "                        }\n",
       "                        break;\n",
       "                    }\n",
       "                }\n",
       "            }, 500);\n",
       "            "
      ],
      "text/plain": [
       "<IPython.core.display.Javascript object>"
      ]
     },
     "metadata": {},
     "output_type": "display_data"
    }
   ],
   "source": [
    "stacked_barplot(df, \"Obese\", \"UnderRisk\")"
   ]
  },
  {
   "cell_type": "markdown",
   "metadata": {},
   "source": [
    "### target vs Diabetes"
   ]
  },
  {
   "cell_type": "code",
   "execution_count": 167,
   "metadata": {
    "scrolled": false
   },
   "outputs": [
    {
     "name": "stdout",
     "output_type": "stream",
     "text": [
      "UnderRisk   no  yes  All\n",
      "Diabetes                \n",
      "All        699  190  889\n",
      "0          659  181  840\n",
      "1           40    9   49\n",
      "------------------------------------------------------------------------------------------------------------------------\n"
     ]
    },
    {
     "data": {
      "image/png": "[encoded data removed]",
      "text/plain": [
       "<Figure size 216x360 with 1 Axes>"
      ]
     },
     "metadata": {
      "needs_background": "light"
     },
     "output_type": "display_data"
    },
    {
     "data": {
      "application/javascript": [
       "\n",
       "            setTimeout(function() {\n",
       "                var nbb_cell_id = 167;\n",
       "                var nbb_unformatted_code = \"stacked_barplot(df, \\\"Diabetes\\\", \\\"UnderRisk\\\")\";\n",
       "                var nbb_formatted_code = \"stacked_barplot(df, \\\"Diabetes\\\", \\\"UnderRisk\\\")\";\n",
       "                var nbb_cells = Jupyter.notebook.get_cells();\n",
       "                for (var i = 0; i < nbb_cells.length; ++i) {\n",
       "                    if (nbb_cells[i].input_prompt_number == nbb_cell_id) {\n",
       "                        if (nbb_cells[i].get_text() == nbb_unformatted_code) {\n",
       "                             nbb_cells[i].set_text(nbb_formatted_code);\n",
       "                        }\n",
       "                        break;\n",
       "                    }\n",
       "                }\n",
       "            }, 500);\n",
       "            "
      ],
      "text/plain": [
       "<IPython.core.display.Javascript object>"
      ]
     },
     "metadata": {},
     "output_type": "display_data"
    }
   ],
   "source": [
    "stacked_barplot(df, \"Diabetes\", \"UnderRisk\")"
   ]
  },
  {
   "cell_type": "markdown",
   "metadata": {},
   "source": [
    "### target vs Metabolic_syndrome"
   ]
  },
  {
   "cell_type": "code",
   "execution_count": 168,
   "metadata": {
    "scrolled": true
   },
   "outputs": [
    {
     "name": "stdout",
     "output_type": "stream",
     "text": [
      "UnderRisk            no  yes  All\n",
      "Metabolic_syndrome               \n",
      "All                 699  190  889\n",
      "0                   663  188  851\n",
      "1                    36    2   38\n",
      "------------------------------------------------------------------------------------------------------------------------\n"
     ]
    },
    {
     "data": {
      "image/png": "[encoded data removed]",
      "text/plain": [
       "<Figure size 216x360 with 1 Axes>"
      ]
     },
     "metadata": {
      "needs_background": "light"
     },
     "output_type": "display_data"
    },
    {
     "data": {
      "application/javascript": [
       "\n",
       "            setTimeout(function() {\n",
       "                var nbb_cell_id = 168;\n",
       "                var nbb_unformatted_code = \"stacked_barplot(df, \\\"Metabolic_syndrome\\\", \\\"UnderRisk\\\")\";\n",
       "                var nbb_formatted_code = \"stacked_barplot(df, \\\"Metabolic_syndrome\\\", \\\"UnderRisk\\\")\";\n",
       "                var nbb_cells = Jupyter.notebook.get_cells();\n",
       "                for (var i = 0; i < nbb_cells.length; ++i) {\n",
       "                    if (nbb_cells[i].input_prompt_number == nbb_cell_id) {\n",
       "                        if (nbb_cells[i].get_text() == nbb_unformatted_code) {\n",
       "                             nbb_cells[i].set_text(nbb_formatted_code);\n",
       "                        }\n",
       "                        break;\n",
       "                    }\n",
       "                }\n",
       "            }, 500);\n",
       "            "
      ],
      "text/plain": [
       "<IPython.core.display.Javascript object>"
      ]
     },
     "metadata": {},
     "output_type": "display_data"
    }
   ],
   "source": [
    "stacked_barplot(df, \"Metabolic_syndrome\", \"UnderRisk\")"
   ]
  },
  {
   "cell_type": "markdown",
   "metadata": {},
   "source": [
    "### target vs Use_of_stimulant_drugs"
   ]
  },
  {
   "cell_type": "code",
   "execution_count": 169,
   "metadata": {
    "scrolled": false
   },
   "outputs": [
    {
     "name": "stdout",
     "output_type": "stream",
     "text": [
      "UnderRisk                no  yes  All\n",
      "Use_of_stimulant_drugs               \n",
      "All                     699  190  889\n",
      "0                       639  177  816\n",
      "1                        60   13   73\n",
      "------------------------------------------------------------------------------------------------------------------------\n"
     ]
    },
    {
     "data": {
      "image/png": "[encoded data removed]",
      "text/plain": [
       "<Figure size 216x360 with 1 Axes>"
      ]
     },
     "metadata": {
      "needs_background": "light"
     },
     "output_type": "display_data"
    },
    {
     "data": {
      "application/javascript": [
       "\n",
       "            setTimeout(function() {\n",
       "                var nbb_cell_id = 169;\n",
       "                var nbb_unformatted_code = \"stacked_barplot(df, \\\"Use_of_stimulant_drugs\\\", \\\"UnderRisk\\\")\";\n",
       "                var nbb_formatted_code = \"stacked_barplot(df, \\\"Use_of_stimulant_drugs\\\", \\\"UnderRisk\\\")\";\n",
       "                var nbb_cells = Jupyter.notebook.get_cells();\n",
       "                for (var i = 0; i < nbb_cells.length; ++i) {\n",
       "                    if (nbb_cells[i].input_prompt_number == nbb_cell_id) {\n",
       "                        if (nbb_cells[i].get_text() == nbb_unformatted_code) {\n",
       "                             nbb_cells[i].set_text(nbb_formatted_code);\n",
       "                        }\n",
       "                        break;\n",
       "                    }\n",
       "                }\n",
       "            }, 500);\n",
       "            "
      ],
      "text/plain": [
       "<IPython.core.display.Javascript object>"
      ]
     },
     "metadata": {},
     "output_type": "display_data"
    }
   ],
   "source": [
    "stacked_barplot(df, \"Use_of_stimulant_drugs\", \"UnderRisk\")"
   ]
  },
  {
   "cell_type": "markdown",
   "metadata": {},
   "source": [
    "### target vs Family_history"
   ]
  },
  {
   "cell_type": "code",
   "execution_count": 170,
   "metadata": {
    "scrolled": false
   },
   "outputs": [
    {
     "name": "stdout",
     "output_type": "stream",
     "text": [
      "UnderRisk        no  yes  All\n",
      "Family_history               \n",
      "1               633  190  823\n",
      "All             699  190  889\n",
      "0                66    0   66\n",
      "------------------------------------------------------------------------------------------------------------------------\n"
     ]
    },
    {
     "data": {
      "image/png": "[encoded data removed]",
      "text/plain": [
       "<Figure size 216x360 with 1 Axes>"
      ]
     },
     "metadata": {
      "needs_background": "light"
     },
     "output_type": "display_data"
    },
    {
     "data": {
      "application/javascript": [
       "\n",
       "            setTimeout(function() {\n",
       "                var nbb_cell_id = 170;\n",
       "                var nbb_unformatted_code = \"stacked_barplot(df, \\\"Family_history\\\", \\\"UnderRisk\\\")\";\n",
       "                var nbb_formatted_code = \"stacked_barplot(df, \\\"Family_history\\\", \\\"UnderRisk\\\")\";\n",
       "                var nbb_cells = Jupyter.notebook.get_cells();\n",
       "                for (var i = 0; i < nbb_cells.length; ++i) {\n",
       "                    if (nbb_cells[i].input_prompt_number == nbb_cell_id) {\n",
       "                        if (nbb_cells[i].get_text() == nbb_unformatted_code) {\n",
       "                             nbb_cells[i].set_text(nbb_formatted_code);\n",
       "                        }\n",
       "                        break;\n",
       "                    }\n",
       "                }\n",
       "            }, 500);\n",
       "            "
      ],
      "text/plain": [
       "<IPython.core.display.Javascript object>"
      ]
     },
     "metadata": {},
     "output_type": "display_data"
    }
   ],
   "source": [
    "stacked_barplot(df, \"Family_history\", \"UnderRisk\")"
   ]
  },
  {
   "cell_type": "markdown",
   "metadata": {},
   "source": [
    "### target vs History_of_preeclampsia"
   ]
  },
  {
   "cell_type": "code",
   "execution_count": 171,
   "metadata": {
    "scrolled": false
   },
   "outputs": [
    {
     "name": "stdout",
     "output_type": "stream",
     "text": [
      "UnderRisk                 no  yes  All\n",
      "History_of_preeclampsia               \n",
      "0                        683  190  873\n",
      "All                      699  190  889\n",
      "1                         16    0   16\n",
      "------------------------------------------------------------------------------------------------------------------------\n"
     ]
    },
    {
     "data": {
      "image/png": "[encoded data removed]",
      "text/plain": [
       "<Figure size 216x360 with 1 Axes>"
      ]
     },
     "metadata": {
      "needs_background": "light"
     },
     "output_type": "display_data"
    },
    {
     "data": {
      "application/javascript": [
       "\n",
       "            setTimeout(function() {\n",
       "                var nbb_cell_id = 171;\n",
       "                var nbb_unformatted_code = \"stacked_barplot(df, \\\"History_of_preeclampsia\\\", \\\"UnderRisk\\\")\";\n",
       "                var nbb_formatted_code = \"stacked_barplot(df, \\\"History_of_preeclampsia\\\", \\\"UnderRisk\\\")\";\n",
       "                var nbb_cells = Jupyter.notebook.get_cells();\n",
       "                for (var i = 0; i < nbb_cells.length; ++i) {\n",
       "                    if (nbb_cells[i].input_prompt_number == nbb_cell_id) {\n",
       "                        if (nbb_cells[i].get_text() == nbb_unformatted_code) {\n",
       "                             nbb_cells[i].set_text(nbb_formatted_code);\n",
       "                        }\n",
       "                        break;\n",
       "                    }\n",
       "                }\n",
       "            }, 500);\n",
       "            "
      ],
      "text/plain": [
       "<IPython.core.display.Javascript object>"
      ]
     },
     "metadata": {},
     "output_type": "display_data"
    }
   ],
   "source": [
    "stacked_barplot(df, \"History_of_preeclampsia\", \"UnderRisk\")"
   ]
  },
  {
   "cell_type": "markdown",
   "metadata": {},
   "source": [
    "### target vs CABG_history"
   ]
  },
  {
   "cell_type": "code",
   "execution_count": 172,
   "metadata": {
    "scrolled": false
   },
   "outputs": [
    {
     "name": "stdout",
     "output_type": "stream",
     "text": [
      "UnderRisk      no  yes  All\n",
      "CABG_history               \n",
      "0             680  190  870\n",
      "All           699  190  889\n",
      "1              19    0   19\n",
      "------------------------------------------------------------------------------------------------------------------------\n"
     ]
    },
    {
     "data": {
      "image/png": "[encoded data removed]",
      "text/plain": [
       "<Figure size 216x360 with 1 Axes>"
      ]
     },
     "metadata": {
      "needs_background": "light"
     },
     "output_type": "display_data"
    },
    {
     "data": {
      "application/javascript": [
       "\n",
       "            setTimeout(function() {\n",
       "                var nbb_cell_id = 172;\n",
       "                var nbb_unformatted_code = \"stacked_barplot(df, \\\"CABG_history\\\", \\\"UnderRisk\\\")\";\n",
       "                var nbb_formatted_code = \"stacked_barplot(df, \\\"CABG_history\\\", \\\"UnderRisk\\\")\";\n",
       "                var nbb_cells = Jupyter.notebook.get_cells();\n",
       "                for (var i = 0; i < nbb_cells.length; ++i) {\n",
       "                    if (nbb_cells[i].input_prompt_number == nbb_cell_id) {\n",
       "                        if (nbb_cells[i].get_text() == nbb_unformatted_code) {\n",
       "                             nbb_cells[i].set_text(nbb_formatted_code);\n",
       "                        }\n",
       "                        break;\n",
       "                    }\n",
       "                }\n",
       "            }, 500);\n",
       "            "
      ],
      "text/plain": [
       "<IPython.core.display.Javascript object>"
      ]
     },
     "metadata": {},
     "output_type": "display_data"
    }
   ],
   "source": [
    "stacked_barplot(df, \"CABG_history\", \"UnderRisk\")"
   ]
  },
  {
   "cell_type": "markdown",
   "metadata": {},
   "source": [
    "### target vs Respiratory_illness"
   ]
  },
  {
   "cell_type": "code",
   "execution_count": 173,
   "metadata": {
    "scrolled": false
   },
   "outputs": [
    {
     "name": "stdout",
     "output_type": "stream",
     "text": [
      "UnderRisk             no  yes  All\n",
      "Respiratory_illness               \n",
      "All                  699  190  889\n",
      "0                    681  179  860\n",
      "1                     18   11   29\n",
      "------------------------------------------------------------------------------------------------------------------------\n"
     ]
    },
    {
     "data": {
      "image/png": "[encoded data removed]",
      "text/plain": [
       "<Figure size 216x360 with 1 Axes>"
      ]
     },
     "metadata": {
      "needs_background": "light"
     },
     "output_type": "display_data"
    },
    {
     "data": {
      "application/javascript": [
       "\n",
       "            setTimeout(function() {\n",
       "                var nbb_cell_id = 173;\n",
       "                var nbb_unformatted_code = \"stacked_barplot(df, \\\"Respiratory_illness\\\", \\\"UnderRisk\\\")\";\n",
       "                var nbb_formatted_code = \"stacked_barplot(df, \\\"Respiratory_illness\\\", \\\"UnderRisk\\\")\";\n",
       "                var nbb_cells = Jupyter.notebook.get_cells();\n",
       "                for (var i = 0; i < nbb_cells.length; ++i) {\n",
       "                    if (nbb_cells[i].input_prompt_number == nbb_cell_id) {\n",
       "                        if (nbb_cells[i].get_text() == nbb_unformatted_code) {\n",
       "                             nbb_cells[i].set_text(nbb_formatted_code);\n",
       "                        }\n",
       "                        break;\n",
       "                    }\n",
       "                }\n",
       "            }, 500);\n",
       "            "
      ],
      "text/plain": [
       "<IPython.core.display.Javascript object>"
      ]
     },
     "metadata": {},
     "output_type": "display_data"
    }
   ],
   "source": [
    "stacked_barplot(df, \"Respiratory_illness\", \"UnderRisk\")"
   ]
  },
  {
   "cell_type": "markdown",
   "metadata": {},
   "source": [
    "## Feature Engineering"
   ]
  },
  {
   "cell_type": "code",
   "execution_count": 174,
   "metadata": {},
   "outputs": [
    {
     "data": {
      "application/javascript": [
       "\n",
       "            setTimeout(function() {\n",
       "                var nbb_cell_id = 174;\n",
       "                var nbb_unformatted_code = \"data1 = df.copy()\";\n",
       "                var nbb_formatted_code = \"data1 = df.copy()\";\n",
       "                var nbb_cells = Jupyter.notebook.get_cells();\n",
       "                for (var i = 0; i < nbb_cells.length; ++i) {\n",
       "                    if (nbb_cells[i].input_prompt_number == nbb_cell_id) {\n",
       "                        if (nbb_cells[i].get_text() == nbb_unformatted_code) {\n",
       "                             nbb_cells[i].set_text(nbb_formatted_code);\n",
       "                        }\n",
       "                        break;\n",
       "                    }\n",
       "                }\n",
       "            }, 500);\n",
       "            "
      ],
      "text/plain": [
       "<IPython.core.display.Javascript object>"
      ]
     },
     "metadata": {},
     "output_type": "display_data"
    }
   ],
   "source": [
    "data1 = df.copy()"
   ]
  },
  {
   "cell_type": "code",
   "execution_count": 175,
   "metadata": {},
   "outputs": [
    {
     "data": {
      "text/html": [
       "<div>\n",
       "<style scoped>\n",
       "    .dataframe tbody tr th:only-of-type {\n",
       "        vertical-align: middle;\n",
       "    }\n",
       "\n",
       "    .dataframe tbody tr th {\n",
       "        vertical-align: top;\n",
       "    }\n",
       "\n",
       "    .dataframe thead th {\n",
       "        text-align: right;\n",
       "    }\n",
       "</style>\n",
       "<table border=\"1\" class=\"dataframe\">\n",
       "  <thead>\n",
       "    <tr style=\"text-align: right;\">\n",
       "      <th></th>\n",
       "      <th>Gender</th>\n",
       "      <th>Chain_smoker</th>\n",
       "      <th>Consumes_other_tobacco_products</th>\n",
       "      <th>HighBP</th>\n",
       "      <th>Obese</th>\n",
       "      <th>Diabetes</th>\n",
       "      <th>Metabolic_syndrome</th>\n",
       "      <th>Use_of_stimulant_drugs</th>\n",
       "      <th>Family_history</th>\n",
       "      <th>History_of_preeclampsia</th>\n",
       "      <th>CABG_history</th>\n",
       "      <th>Respiratory_illness</th>\n",
       "      <th>UnderRisk</th>\n",
       "    </tr>\n",
       "  </thead>\n",
       "  <tbody>\n",
       "    <tr>\n",
       "      <th>0</th>\n",
       "      <td>Male</td>\n",
       "      <td>1</td>\n",
       "      <td>1</td>\n",
       "      <td>0</td>\n",
       "      <td>1</td>\n",
       "      <td>0</td>\n",
       "      <td>0</td>\n",
       "      <td>0</td>\n",
       "      <td>1</td>\n",
       "      <td>0</td>\n",
       "      <td>0</td>\n",
       "      <td>0</td>\n",
       "      <td>no</td>\n",
       "    </tr>\n",
       "    <tr>\n",
       "      <th>1</th>\n",
       "      <td>Male</td>\n",
       "      <td>0</td>\n",
       "      <td>1</td>\n",
       "      <td>0</td>\n",
       "      <td>1</td>\n",
       "      <td>0</td>\n",
       "      <td>0</td>\n",
       "      <td>0</td>\n",
       "      <td>1</td>\n",
       "      <td>0</td>\n",
       "      <td>0</td>\n",
       "      <td>0</td>\n",
       "      <td>no</td>\n",
       "    </tr>\n",
       "    <tr>\n",
       "      <th>2</th>\n",
       "      <td>Male</td>\n",
       "      <td>0</td>\n",
       "      <td>1</td>\n",
       "      <td>0</td>\n",
       "      <td>1</td>\n",
       "      <td>0</td>\n",
       "      <td>0</td>\n",
       "      <td>0</td>\n",
       "      <td>1</td>\n",
       "      <td>0</td>\n",
       "      <td>0</td>\n",
       "      <td>0</td>\n",
       "      <td>no</td>\n",
       "    </tr>\n",
       "    <tr>\n",
       "      <th>3</th>\n",
       "      <td>Male</td>\n",
       "      <td>0</td>\n",
       "      <td>1</td>\n",
       "      <td>0</td>\n",
       "      <td>1</td>\n",
       "      <td>0</td>\n",
       "      <td>0</td>\n",
       "      <td>0</td>\n",
       "      <td>1</td>\n",
       "      <td>0</td>\n",
       "      <td>0</td>\n",
       "      <td>0</td>\n",
       "      <td>no</td>\n",
       "    </tr>\n",
       "    <tr>\n",
       "      <th>4</th>\n",
       "      <td>Male</td>\n",
       "      <td>0</td>\n",
       "      <td>0</td>\n",
       "      <td>0</td>\n",
       "      <td>0</td>\n",
       "      <td>0</td>\n",
       "      <td>1</td>\n",
       "      <td>1</td>\n",
       "      <td>0</td>\n",
       "      <td>0</td>\n",
       "      <td>0</td>\n",
       "      <td>0</td>\n",
       "      <td>no</td>\n",
       "    </tr>\n",
       "  </tbody>\n",
       "</table>\n",
       "</div>"
      ],
      "text/plain": [
       "  Gender  Chain_smoker  Consumes_other_tobacco_products  HighBP  Obese  \\\n",
       "0   Male             1                                1       0      1   \n",
       "1   Male             0                                1       0      1   \n",
       "2   Male             0                                1       0      1   \n",
       "3   Male             0                                1       0      1   \n",
       "4   Male             0                                0       0      0   \n",
       "\n",
       "   Diabetes  Metabolic_syndrome  Use_of_stimulant_drugs  Family_history  \\\n",
       "0         0                   0                       0               1   \n",
       "1         0                   0                       0               1   \n",
       "2         0                   0                       0               1   \n",
       "3         0                   0                       0               1   \n",
       "4         0                   1                       1               0   \n",
       "\n",
       "   History_of_preeclampsia  CABG_history  Respiratory_illness UnderRisk  \n",
       "0                        0             0                    0        no  \n",
       "1                        0             0                    0        no  \n",
       "2                        0             0                    0        no  \n",
       "3                        0             0                    0        no  \n",
       "4                        0             0                    0        no  "
      ]
     },
     "execution_count": 175,
     "metadata": {},
     "output_type": "execute_result"
    },
    {
     "data": {
      "application/javascript": [
       "\n",
       "            setTimeout(function() {\n",
       "                var nbb_cell_id = 175;\n",
       "                var nbb_unformatted_code = \"data1.head()\";\n",
       "                var nbb_formatted_code = \"data1.head()\";\n",
       "                var nbb_cells = Jupyter.notebook.get_cells();\n",
       "                for (var i = 0; i < nbb_cells.length; ++i) {\n",
       "                    if (nbb_cells[i].input_prompt_number == nbb_cell_id) {\n",
       "                        if (nbb_cells[i].get_text() == nbb_unformatted_code) {\n",
       "                             nbb_cells[i].set_text(nbb_formatted_code);\n",
       "                        }\n",
       "                        break;\n",
       "                    }\n",
       "                }\n",
       "            }, 500);\n",
       "            "
      ],
      "text/plain": [
       "<IPython.core.display.Javascript object>"
      ]
     },
     "metadata": {},
     "output_type": "display_data"
    }
   ],
   "source": [
    "data1.head()"
   ]
  },
  {
   "cell_type": "markdown",
   "metadata": {
    "id": "0L-oAMItxLP-"
   },
   "source": [
    "### Data Preparation for Modeling"
   ]
  },
  {
   "cell_type": "code",
   "execution_count": 176,
   "metadata": {},
   "outputs": [
    {
     "data": {
      "application/javascript": [
       "\n",
       "            setTimeout(function() {\n",
       "                var nbb_cell_id = 176;\n",
       "                var nbb_unformatted_code = \"X = data1.drop([\\\"UnderRisk\\\"], axis=1)\\ny = data1[\\\"UnderRisk\\\"].apply(lambda x: 1 if x == \\\"yes\\\" else 0)\";\n",
       "                var nbb_formatted_code = \"X = data1.drop([\\\"UnderRisk\\\"], axis=1)\\ny = data1[\\\"UnderRisk\\\"].apply(lambda x: 1 if x == \\\"yes\\\" else 0)\";\n",
       "                var nbb_cells = Jupyter.notebook.get_cells();\n",
       "                for (var i = 0; i < nbb_cells.length; ++i) {\n",
       "                    if (nbb_cells[i].input_prompt_number == nbb_cell_id) {\n",
       "                        if (nbb_cells[i].get_text() == nbb_unformatted_code) {\n",
       "                             nbb_cells[i].set_text(nbb_formatted_code);\n",
       "                        }\n",
       "                        break;\n",
       "                    }\n",
       "                }\n",
       "            }, 500);\n",
       "            "
      ],
      "text/plain": [
       "<IPython.core.display.Javascript object>"
      ]
     },
     "metadata": {},
     "output_type": "display_data"
    }
   ],
   "source": [
    "X = data1.drop([\"UnderRisk\"], axis=1)\n",
    "y = data1[\"UnderRisk\"].apply(lambda x: 1 if x == \"yes\" else 0)"
   ]
  },
  {
   "cell_type": "code",
   "execution_count": 177,
   "metadata": {
    "colab": {
     "base_uri": "https://localhost:8080/",
     "height": 34
    },
    "id": "JqVHLEHVRRKK",
    "outputId": "c05575bb-cda5-4b49-d6dd-3f6c8cb0678e"
   },
   "outputs": [
    {
     "name": "stdout",
     "output_type": "stream",
     "text": [
      "(533, 12) (178, 12) (178, 12)\n"
     ]
    },
    {
     "data": {
      "application/javascript": [
       "\n",
       "            setTimeout(function() {\n",
       "                var nbb_cell_id = 177;\n",
       "                var nbb_unformatted_code = \"# Splitting data into training, validation and test set:\\n# first we split data into 2 parts, say temporary and test\\n\\nX_temp, X_test, y_temp, y_test = train_test_split(\\n    X, y, test_size=0.2, random_state=1, stratify=y\\n)\\n\\n# then we split the temporary set into train and validation\\n\\nX_train, X_val, y_train, y_val = train_test_split(\\n    X_temp, y_temp, test_size=0.25, random_state=1, stratify=y_temp\\n)\\nprint(X_train.shape, X_val.shape, X_test.shape)\";\n",
       "                var nbb_formatted_code = \"# Splitting data into training, validation and test set:\\n# first we split data into 2 parts, say temporary and test\\n\\nX_temp, X_test, y_temp, y_test = train_test_split(\\n    X, y, test_size=0.2, random_state=1, stratify=y\\n)\\n\\n# then we split the temporary set into train and validation\\n\\nX_train, X_val, y_train, y_val = train_test_split(\\n    X_temp, y_temp, test_size=0.25, random_state=1, stratify=y_temp\\n)\\nprint(X_train.shape, X_val.shape, X_test.shape)\";\n",
       "                var nbb_cells = Jupyter.notebook.get_cells();\n",
       "                for (var i = 0; i < nbb_cells.length; ++i) {\n",
       "                    if (nbb_cells[i].input_prompt_number == nbb_cell_id) {\n",
       "                        if (nbb_cells[i].get_text() == nbb_unformatted_code) {\n",
       "                             nbb_cells[i].set_text(nbb_formatted_code);\n",
       "                        }\n",
       "                        break;\n",
       "                    }\n",
       "                }\n",
       "            }, 500);\n",
       "            "
      ],
      "text/plain": [
       "<IPython.core.display.Javascript object>"
      ]
     },
     "metadata": {},
     "output_type": "display_data"
    }
   ],
   "source": [
    "# Splitting data into training, validation and test set:\n",
    "# first we split data into 2 parts, say temporary and test\n",
    "\n",
    "X_temp, X_test, y_temp, y_test = train_test_split(\n",
    "    X, y, test_size=0.2, random_state=1, stratify=y\n",
    ")\n",
    "\n",
    "# then we split the temporary set into train and validation\n",
    "\n",
    "X_train, X_val, y_train, y_val = train_test_split(\n",
    "    X_temp, y_temp, test_size=0.25, random_state=1, stratify=y_temp\n",
    ")\n",
    "print(X_train.shape, X_val.shape, X_test.shape)"
   ]
  },
  {
   "cell_type": "code",
   "execution_count": 178,
   "metadata": {},
   "outputs": [
    {
     "name": "stdout",
     "output_type": "stream",
     "text": [
      "Number of rows in train data = 533\n",
      "Number of rows in validation data = 178\n",
      "Number of rows in test data = 178\n"
     ]
    },
    {
     "data": {
      "application/javascript": [
       "\n",
       "            setTimeout(function() {\n",
       "                var nbb_cell_id = 178;\n",
       "                var nbb_unformatted_code = \"print(\\\"Number of rows in train data =\\\", X_train.shape[0])\\nprint(\\\"Number of rows in validation data =\\\", X_val.shape[0])\\nprint(\\\"Number of rows in test data =\\\", X_test.shape[0])\";\n",
       "                var nbb_formatted_code = \"print(\\\"Number of rows in train data =\\\", X_train.shape[0])\\nprint(\\\"Number of rows in validation data =\\\", X_val.shape[0])\\nprint(\\\"Number of rows in test data =\\\", X_test.shape[0])\";\n",
       "                var nbb_cells = Jupyter.notebook.get_cells();\n",
       "                for (var i = 0; i < nbb_cells.length; ++i) {\n",
       "                    if (nbb_cells[i].input_prompt_number == nbb_cell_id) {\n",
       "                        if (nbb_cells[i].get_text() == nbb_unformatted_code) {\n",
       "                             nbb_cells[i].set_text(nbb_formatted_code);\n",
       "                        }\n",
       "                        break;\n",
       "                    }\n",
       "                }\n",
       "            }, 500);\n",
       "            "
      ],
      "text/plain": [
       "<IPython.core.display.Javascript object>"
      ]
     },
     "metadata": {},
     "output_type": "display_data"
    }
   ],
   "source": [
    "print(\"Number of rows in train data =\", X_train.shape[0])\n",
    "print(\"Number of rows in validation data =\", X_val.shape[0])\n",
    "print(\"Number of rows in test data =\", X_test.shape[0])"
   ]
  },
  {
   "cell_type": "code",
   "execution_count": 179,
   "metadata": {},
   "outputs": [
    {
     "name": "stdout",
     "output_type": "stream",
     "text": [
      "Gender                             0\n",
      "Chain_smoker                       0\n",
      "Consumes_other_tobacco_products    0\n",
      "HighBP                             0\n",
      "Obese                              0\n",
      "Diabetes                           0\n",
      "Metabolic_syndrome                 0\n",
      "Use_of_stimulant_drugs             0\n",
      "Family_history                     0\n",
      "History_of_preeclampsia            0\n",
      "CABG_history                       0\n",
      "Respiratory_illness                0\n",
      "dtype: int64\n",
      "------------------------------\n",
      "Gender                             0\n",
      "Chain_smoker                       0\n",
      "Consumes_other_tobacco_products    0\n",
      "HighBP                             0\n",
      "Obese                              0\n",
      "Diabetes                           0\n",
      "Metabolic_syndrome                 0\n",
      "Use_of_stimulant_drugs             0\n",
      "Family_history                     0\n",
      "History_of_preeclampsia            0\n",
      "CABG_history                       0\n",
      "Respiratory_illness                0\n",
      "dtype: int64\n",
      "------------------------------\n",
      "Gender                             0\n",
      "Chain_smoker                       0\n",
      "Consumes_other_tobacco_products    0\n",
      "HighBP                             0\n",
      "Obese                              0\n",
      "Diabetes                           0\n",
      "Metabolic_syndrome                 0\n",
      "Use_of_stimulant_drugs             0\n",
      "Family_history                     0\n",
      "History_of_preeclampsia            0\n",
      "CABG_history                       0\n",
      "Respiratory_illness                0\n",
      "dtype: int64\n"
     ]
    },
    {
     "data": {
      "application/javascript": [
       "\n",
       "            setTimeout(function() {\n",
       "                var nbb_cell_id = 179;\n",
       "                var nbb_unformatted_code = \"# Checking that no column has missing values in train, validation or test sets\\nprint(X_train.isna().sum())\\nprint(\\\"-\\\" * 30)\\nprint(X_val.isna().sum())\\nprint(\\\"-\\\" * 30)\\nprint(X_test.isna().sum())\";\n",
       "                var nbb_formatted_code = \"# Checking that no column has missing values in train, validation or test sets\\nprint(X_train.isna().sum())\\nprint(\\\"-\\\" * 30)\\nprint(X_val.isna().sum())\\nprint(\\\"-\\\" * 30)\\nprint(X_test.isna().sum())\";\n",
       "                var nbb_cells = Jupyter.notebook.get_cells();\n",
       "                for (var i = 0; i < nbb_cells.length; ++i) {\n",
       "                    if (nbb_cells[i].input_prompt_number == nbb_cell_id) {\n",
       "                        if (nbb_cells[i].get_text() == nbb_unformatted_code) {\n",
       "                             nbb_cells[i].set_text(nbb_formatted_code);\n",
       "                        }\n",
       "                        break;\n",
       "                    }\n",
       "                }\n",
       "            }, 500);\n",
       "            "
      ],
      "text/plain": [
       "<IPython.core.display.Javascript object>"
      ]
     },
     "metadata": {},
     "output_type": "display_data"
    }
   ],
   "source": [
    "# Checking that no column has missing values in train, validation or test sets\n",
    "print(X_train.isna().sum())\n",
    "print(\"-\" * 30)\n",
    "print(X_val.isna().sum())\n",
    "print(\"-\" * 30)\n",
    "print(X_test.isna().sum())"
   ]
  },
  {
   "cell_type": "code",
   "execution_count": 180,
   "metadata": {},
   "outputs": [
    {
     "name": "stdout",
     "output_type": "stream",
     "text": [
      "Male      370\n",
      "Female    148\n",
      "Other      15\n",
      "Name: Gender, dtype: int64\n",
      "******************************\n"
     ]
    },
    {
     "data": {
      "application/javascript": [
       "\n",
       "            setTimeout(function() {\n",
       "                var nbb_cell_id = 180;\n",
       "                var nbb_unformatted_code = \"cols = X_train.select_dtypes(include=[\\\"object\\\", \\\"category\\\"])\\nfor i in cols.columns:\\n    print(X_train[i].value_counts())\\n    print(\\\"*\\\" * 30)\";\n",
       "                var nbb_formatted_code = \"cols = X_train.select_dtypes(include=[\\\"object\\\", \\\"category\\\"])\\nfor i in cols.columns:\\n    print(X_train[i].value_counts())\\n    print(\\\"*\\\" * 30)\";\n",
       "                var nbb_cells = Jupyter.notebook.get_cells();\n",
       "                for (var i = 0; i < nbb_cells.length; ++i) {\n",
       "                    if (nbb_cells[i].input_prompt_number == nbb_cell_id) {\n",
       "                        if (nbb_cells[i].get_text() == nbb_unformatted_code) {\n",
       "                             nbb_cells[i].set_text(nbb_formatted_code);\n",
       "                        }\n",
       "                        break;\n",
       "                    }\n",
       "                }\n",
       "            }, 500);\n",
       "            "
      ],
      "text/plain": [
       "<IPython.core.display.Javascript object>"
      ]
     },
     "metadata": {},
     "output_type": "display_data"
    }
   ],
   "source": [
    "cols = X_train.select_dtypes(include=[\"object\", \"category\"])\n",
    "for i in cols.columns:\n",
    "    print(X_train[i].value_counts())\n",
    "    print(\"*\" * 30)"
   ]
  },
  {
   "cell_type": "code",
   "execution_count": 181,
   "metadata": {},
   "outputs": [
    {
     "name": "stdout",
     "output_type": "stream",
     "text": [
      "Male      113\n",
      "Female     63\n",
      "Other       2\n",
      "Name: Gender, dtype: int64\n",
      "******************************\n"
     ]
    },
    {
     "data": {
      "application/javascript": [
       "\n",
       "            setTimeout(function() {\n",
       "                var nbb_cell_id = 181;\n",
       "                var nbb_unformatted_code = \"cols = X_val.select_dtypes(include=[\\\"object\\\", \\\"category\\\"])\\nfor i in cols.columns:\\n    print(X_val[i].value_counts())\\n    print(\\\"*\\\" * 30)\";\n",
       "                var nbb_formatted_code = \"cols = X_val.select_dtypes(include=[\\\"object\\\", \\\"category\\\"])\\nfor i in cols.columns:\\n    print(X_val[i].value_counts())\\n    print(\\\"*\\\" * 30)\";\n",
       "                var nbb_cells = Jupyter.notebook.get_cells();\n",
       "                for (var i = 0; i < nbb_cells.length; ++i) {\n",
       "                    if (nbb_cells[i].input_prompt_number == nbb_cell_id) {\n",
       "                        if (nbb_cells[i].get_text() == nbb_unformatted_code) {\n",
       "                             nbb_cells[i].set_text(nbb_formatted_code);\n",
       "                        }\n",
       "                        break;\n",
       "                    }\n",
       "                }\n",
       "            }, 500);\n",
       "            "
      ],
      "text/plain": [
       "<IPython.core.display.Javascript object>"
      ]
     },
     "metadata": {},
     "output_type": "display_data"
    }
   ],
   "source": [
    "cols = X_val.select_dtypes(include=[\"object\", \"category\"])\n",
    "for i in cols.columns:\n",
    "    print(X_val[i].value_counts())\n",
    "    print(\"*\" * 30)"
   ]
  },
  {
   "cell_type": "code",
   "execution_count": 182,
   "metadata": {},
   "outputs": [
    {
     "name": "stdout",
     "output_type": "stream",
     "text": [
      "Male      124\n",
      "Female     45\n",
      "Other       9\n",
      "Name: Gender, dtype: int64\n",
      "******************************\n"
     ]
    },
    {
     "data": {
      "application/javascript": [
       "\n",
       "            setTimeout(function() {\n",
       "                var nbb_cell_id = 182;\n",
       "                var nbb_unformatted_code = \"cols = X_test.select_dtypes(include=[\\\"object\\\", \\\"category\\\"])\\nfor i in cols.columns:\\n    print(X_test[i].value_counts())\\n    print(\\\"*\\\" * 30)\";\n",
       "                var nbb_formatted_code = \"cols = X_test.select_dtypes(include=[\\\"object\\\", \\\"category\\\"])\\nfor i in cols.columns:\\n    print(X_test[i].value_counts())\\n    print(\\\"*\\\" * 30)\";\n",
       "                var nbb_cells = Jupyter.notebook.get_cells();\n",
       "                for (var i = 0; i < nbb_cells.length; ++i) {\n",
       "                    if (nbb_cells[i].input_prompt_number == nbb_cell_id) {\n",
       "                        if (nbb_cells[i].get_text() == nbb_unformatted_code) {\n",
       "                             nbb_cells[i].set_text(nbb_formatted_code);\n",
       "                        }\n",
       "                        break;\n",
       "                    }\n",
       "                }\n",
       "            }, 500);\n",
       "            "
      ],
      "text/plain": [
       "<IPython.core.display.Javascript object>"
      ]
     },
     "metadata": {},
     "output_type": "display_data"
    }
   ],
   "source": [
    "cols = X_test.select_dtypes(include=[\"object\", \"category\"])\n",
    "for i in cols.columns:\n",
    "    print(X_test[i].value_counts())\n",
    "    print(\"*\" * 30)"
   ]
  },
  {
   "cell_type": "markdown",
   "metadata": {},
   "source": [
    "* Inverse mapping returned original labels."
   ]
  },
  {
   "cell_type": "markdown",
   "metadata": {},
   "source": [
    "### Creating Dummy Variables"
   ]
  },
  {
   "cell_type": "code",
   "execution_count": 183,
   "metadata": {},
   "outputs": [
    {
     "name": "stdout",
     "output_type": "stream",
     "text": [
      "(533, 13) (178, 13) (178, 13)\n"
     ]
    },
    {
     "data": {
      "application/javascript": [
       "\n",
       "            setTimeout(function() {\n",
       "                var nbb_cell_id = 183;\n",
       "                var nbb_unformatted_code = \"X_train = pd.get_dummies(X_train, drop_first=True)\\nX_val = pd.get_dummies(X_val, drop_first=True)\\nX_test = pd.get_dummies(X_test, drop_first=True)\\nprint(X_train.shape, X_val.shape, X_test.shape)\";\n",
       "                var nbb_formatted_code = \"X_train = pd.get_dummies(X_train, drop_first=True)\\nX_val = pd.get_dummies(X_val, drop_first=True)\\nX_test = pd.get_dummies(X_test, drop_first=True)\\nprint(X_train.shape, X_val.shape, X_test.shape)\";\n",
       "                var nbb_cells = Jupyter.notebook.get_cells();\n",
       "                for (var i = 0; i < nbb_cells.length; ++i) {\n",
       "                    if (nbb_cells[i].input_prompt_number == nbb_cell_id) {\n",
       "                        if (nbb_cells[i].get_text() == nbb_unformatted_code) {\n",
       "                             nbb_cells[i].set_text(nbb_formatted_code);\n",
       "                        }\n",
       "                        break;\n",
       "                    }\n",
       "                }\n",
       "            }, 500);\n",
       "            "
      ],
      "text/plain": [
       "<IPython.core.display.Javascript object>"
      ]
     },
     "metadata": {},
     "output_type": "display_data"
    }
   ],
   "source": [
    "X_train = pd.get_dummies(X_train, drop_first=True)\n",
    "X_val = pd.get_dummies(X_val, drop_first=True)\n",
    "X_test = pd.get_dummies(X_test, drop_first=True)\n",
    "print(X_train.shape, X_val.shape, X_test.shape)"
   ]
  },
  {
   "cell_type": "markdown",
   "metadata": {},
   "source": [
    "## Building the model"
   ]
  },
  {
   "cell_type": "markdown",
   "metadata": {},
   "source": [
    "### Model evaluation criterion:\n",
    "\n",
    "#### Model can make wrong predictions as:\n",
    "1. Predicting an enrollee is looking for a job change but in reality, the enrollee is not looking for a change - Loss of resources\n",
    "2. Predicting an enrollee is not looking for a job change but the enrollee is looking for a job change  - Loss of opportunity\n",
    "\n",
    "#### Which case is more important? \n",
    "* Predicting an enrollee is not looking for a job change but the enrollee is looking for a job change i.e. losing on a potential candidate as the candidate will not be targeted by the HR team when he should be targeted.\n",
    "\n",
    "#### How to reduce this loss i.e need to reduce False Negatives?\n",
    "* Company would want Recall to be maximized, greater the Recall lesser the chances of false negatives."
   ]
  },
  {
   "cell_type": "code",
   "execution_count": 184,
   "metadata": {},
   "outputs": [
    {
     "data": {
      "application/javascript": [
       "\n",
       "            setTimeout(function() {\n",
       "                var nbb_cell_id = 184;\n",
       "                var nbb_unformatted_code = \"# defining a function to compute different metrics to check performance of a classification model built using sklearn\\ndef model_performance_classification_sklearn(model, predictors, target):\\n    \\\"\\\"\\\"\\n    Function to compute different metrics to check classification model performance\\n\\n    model: classifier\\n    predictors: independent variables\\n    target: dependent variable\\n    \\\"\\\"\\\"\\n\\n    # predicting using the independent variables\\n    pred = model.predict(predictors)\\n\\n    acc = accuracy_score(target, pred)  # to compute Accuracy\\n    recall = recall_score(target, pred)  # to compute Recall\\n    precision = precision_score(target, pred)  # to compute Precision\\n    f1 = f1_score(target, pred)  # to compute F1-score\\n\\n    # creating a dataframe of metrics\\n    df_perf = pd.DataFrame(\\n        {\\\"Accuracy\\\": acc, \\\"Recall\\\": recall, \\\"Precision\\\": precision, \\\"F1\\\": f1,},\\n        index=[0],\\n    )\\n\\n    return df_perf\";\n",
       "                var nbb_formatted_code = \"# defining a function to compute different metrics to check performance of a classification model built using sklearn\\ndef model_performance_classification_sklearn(model, predictors, target):\\n    \\\"\\\"\\\"\\n    Function to compute different metrics to check classification model performance\\n\\n    model: classifier\\n    predictors: independent variables\\n    target: dependent variable\\n    \\\"\\\"\\\"\\n\\n    # predicting using the independent variables\\n    pred = model.predict(predictors)\\n\\n    acc = accuracy_score(target, pred)  # to compute Accuracy\\n    recall = recall_score(target, pred)  # to compute Recall\\n    precision = precision_score(target, pred)  # to compute Precision\\n    f1 = f1_score(target, pred)  # to compute F1-score\\n\\n    # creating a dataframe of metrics\\n    df_perf = pd.DataFrame(\\n        {\\\"Accuracy\\\": acc, \\\"Recall\\\": recall, \\\"Precision\\\": precision, \\\"F1\\\": f1,},\\n        index=[0],\\n    )\\n\\n    return df_perf\";\n",
       "                var nbb_cells = Jupyter.notebook.get_cells();\n",
       "                for (var i = 0; i < nbb_cells.length; ++i) {\n",
       "                    if (nbb_cells[i].input_prompt_number == nbb_cell_id) {\n",
       "                        if (nbb_cells[i].get_text() == nbb_unformatted_code) {\n",
       "                             nbb_cells[i].set_text(nbb_formatted_code);\n",
       "                        }\n",
       "                        break;\n",
       "                    }\n",
       "                }\n",
       "            }, 500);\n",
       "            "
      ],
      "text/plain": [
       "<IPython.core.display.Javascript object>"
      ]
     },
     "metadata": {},
     "output_type": "display_data"
    }
   ],
   "source": [
    "# defining a function to compute different metrics to check performance of a classification model built using sklearn\n",
    "def model_performance_classification_sklearn(model, predictors, target):\n",
    "    \"\"\"\n",
    "    Function to compute different metrics to check classification model performance\n",
    "\n",
    "    model: classifier\n",
    "    predictors: independent variables\n",
    "    target: dependent variable\n",
    "    \"\"\"\n",
    "\n",
    "    # predicting using the independent variables\n",
    "    pred = model.predict(predictors)\n",
    "\n",
    "    acc = accuracy_score(target, pred)  # to compute Accuracy\n",
    "    recall = recall_score(target, pred)  # to compute Recall\n",
    "    precision = precision_score(target, pred)  # to compute Precision\n",
    "    f1 = f1_score(target, pred)  # to compute F1-score\n",
    "\n",
    "    # creating a dataframe of metrics\n",
    "    df_perf = pd.DataFrame(\n",
    "        {\"Accuracy\": acc, \"Recall\": recall, \"Precision\": precision, \"F1\": f1,},\n",
    "        index=[0],\n",
    "    )\n",
    "\n",
    "    return df_perf"
   ]
  },
  {
   "cell_type": "code",
   "execution_count": 185,
   "metadata": {},
   "outputs": [
    {
     "data": {
      "application/javascript": [
       "\n",
       "            setTimeout(function() {\n",
       "                var nbb_cell_id = 185;\n",
       "                var nbb_unformatted_code = \"def confusion_matrix_sklearn(model, predictors, target):\\n    \\\"\\\"\\\"\\n    To plot the confusion_matrix with percentages\\n\\n    model: classifier\\n    predictors: independent variables\\n    target: dependent variable\\n    \\\"\\\"\\\"\\n    y_pred = model.predict(predictors)\\n    cm = confusion_matrix(target, y_pred)\\n    labels = np.asarray(\\n        [\\n            [\\\"{0:0.0f}\\\".format(item) + \\\"\\\\n{0:.2%}\\\".format(item / cm.flatten().sum())]\\n            for item in cm.flatten()\\n        ]\\n    ).reshape(2, 2)\\n\\n    plt.figure(figsize=(6, 4))\\n    sns.heatmap(cm, annot=labels, fmt=\\\"\\\")\\n    plt.ylabel(\\\"True label\\\")\\n    plt.xlabel(\\\"Predicted label\\\")\";\n",
       "                var nbb_formatted_code = \"def confusion_matrix_sklearn(model, predictors, target):\\n    \\\"\\\"\\\"\\n    To plot the confusion_matrix with percentages\\n\\n    model: classifier\\n    predictors: independent variables\\n    target: dependent variable\\n    \\\"\\\"\\\"\\n    y_pred = model.predict(predictors)\\n    cm = confusion_matrix(target, y_pred)\\n    labels = np.asarray(\\n        [\\n            [\\\"{0:0.0f}\\\".format(item) + \\\"\\\\n{0:.2%}\\\".format(item / cm.flatten().sum())]\\n            for item in cm.flatten()\\n        ]\\n    ).reshape(2, 2)\\n\\n    plt.figure(figsize=(6, 4))\\n    sns.heatmap(cm, annot=labels, fmt=\\\"\\\")\\n    plt.ylabel(\\\"True label\\\")\\n    plt.xlabel(\\\"Predicted label\\\")\";\n",
       "                var nbb_cells = Jupyter.notebook.get_cells();\n",
       "                for (var i = 0; i < nbb_cells.length; ++i) {\n",
       "                    if (nbb_cells[i].input_prompt_number == nbb_cell_id) {\n",
       "                        if (nbb_cells[i].get_text() == nbb_unformatted_code) {\n",
       "                             nbb_cells[i].set_text(nbb_formatted_code);\n",
       "                        }\n",
       "                        break;\n",
       "                    }\n",
       "                }\n",
       "            }, 500);\n",
       "            "
      ],
      "text/plain": [
       "<IPython.core.display.Javascript object>"
      ]
     },
     "metadata": {},
     "output_type": "display_data"
    }
   ],
   "source": [
    "def confusion_matrix_sklearn(model, predictors, target):\n",
    "    \"\"\"\n",
    "    To plot the confusion_matrix with percentages\n",
    "\n",
    "    model: classifier\n",
    "    predictors: independent variables\n",
    "    target: dependent variable\n",
    "    \"\"\"\n",
    "    y_pred = model.predict(predictors)\n",
    "    cm = confusion_matrix(target, y_pred)\n",
    "    labels = np.asarray(\n",
    "        [\n",
    "            [\"{0:0.0f}\".format(item) + \"\\n{0:.2%}\".format(item / cm.flatten().sum())]\n",
    "            for item in cm.flatten()\n",
    "        ]\n",
    "    ).reshape(2, 2)\n",
    "\n",
    "    plt.figure(figsize=(6, 4))\n",
    "    sns.heatmap(cm, annot=labels, fmt=\"\")\n",
    "    plt.ylabel(\"True label\")\n",
    "    plt.xlabel(\"Predicted label\")"
   ]
  },
  {
   "cell_type": "markdown",
   "metadata": {},
   "source": [
    "### Logistic Regression "
   ]
  },
  {
   "cell_type": "code",
   "execution_count": 201,
   "metadata": {
    "scrolled": false
   },
   "outputs": [
    {
     "data": {
      "text/plain": [
       "LogisticRegression(random_state=1)"
      ]
     },
     "execution_count": 201,
     "metadata": {},
     "output_type": "execute_result"
    },
    {
     "data": {
      "application/javascript": [
       "\n",
       "            setTimeout(function() {\n",
       "                var nbb_cell_id = 201;\n",
       "                var nbb_unformatted_code = \"lr = LogisticRegression(random_state=1)\\nlr.fit(X_train, y_train)\";\n",
       "                var nbb_formatted_code = \"lr = LogisticRegression(random_state=1)\\nlr.fit(X_train, y_train)\";\n",
       "                var nbb_cells = Jupyter.notebook.get_cells();\n",
       "                for (var i = 0; i < nbb_cells.length; ++i) {\n",
       "                    if (nbb_cells[i].input_prompt_number == nbb_cell_id) {\n",
       "                        if (nbb_cells[i].get_text() == nbb_unformatted_code) {\n",
       "                             nbb_cells[i].set_text(nbb_formatted_code);\n",
       "                        }\n",
       "                        break;\n",
       "                    }\n",
       "                }\n",
       "            }, 500);\n",
       "            "
      ],
      "text/plain": [
       "<IPython.core.display.Javascript object>"
      ]
     },
     "metadata": {},
     "output_type": "display_data"
    }
   ],
   "source": [
    "lr = LogisticRegression(random_state=1)\n",
    "lr.fit(X_train, y_train)"
   ]
  },
  {
   "cell_type": "markdown",
   "metadata": {},
   "source": [
    "**Let's evaluate the model performance by using KFold and cross_val_score**\n",
    "\n",
    "- `K-Folds cross-validation` provides dataset indices to split data into train/validation sets. Split dataset into k consecutive stratified folds (without shuffling by default). Each fold is then used once as validation while the k - 1 remaining folds form the training set.\n",
    "\n",
    "- `Stratified K-fold` is a variation of KFold that returns stratified folds. The folds are made by preserving the percentage of samples for each class.\n",
    "\n",
    "**Note** - We will check the cross-validated performance on train set set only for this model (logistic regression with original set) to demonstrate `Stratified K-fold`. Since we have sufficient amount of data to split the data into three sets, we will not used K-fold for any other model, instead we will train the model using train set, assess the performance on validation set and use test set only for the final model. "
   ]
  },
  {
   "cell_type": "code",
   "execution_count": 103,
   "metadata": {},
   "outputs": [
    {
     "data": {
      "image/png": "[encoded data removed]",
      "text/plain": [
       "<Figure size 432x288 with 1 Axes>"
      ]
     },
     "metadata": {
      "needs_background": "light"
     },
     "output_type": "display_data"
    },
    {
     "data": {
      "application/javascript": [
       "\n",
       "            setTimeout(function() {\n",
       "                var nbb_cell_id = 103;\n",
       "                var nbb_unformatted_code = \"scoring = \\\"recall\\\"\\nkfold = StratifiedKFold(\\n    n_splits=5, shuffle=True, random_state=1\\n)  # Setting number of splits equal to 5\\ncv_result_bfr = cross_val_score(\\n    estimator=lr, X=X_train, y=y_train, scoring=scoring, cv=kfold\\n)\\n# Plotting boxplots for CV scores of model defined above\\nplt.boxplot(cv_result_bfr)\\nplt.show()\";\n",
       "                var nbb_formatted_code = \"scoring = \\\"recall\\\"\\nkfold = StratifiedKFold(\\n    n_splits=5, shuffle=True, random_state=1\\n)  # Setting number of splits equal to 5\\ncv_result_bfr = cross_val_score(\\n    estimator=lr, X=X_train, y=y_train, scoring=scoring, cv=kfold\\n)\\n# Plotting boxplots for CV scores of model defined above\\nplt.boxplot(cv_result_bfr)\\nplt.show()\";\n",
       "                var nbb_cells = Jupyter.notebook.get_cells();\n",
       "                for (var i = 0; i < nbb_cells.length; ++i) {\n",
       "                    if (nbb_cells[i].input_prompt_number == nbb_cell_id) {\n",
       "                        if (nbb_cells[i].get_text() == nbb_unformatted_code) {\n",
       "                             nbb_cells[i].set_text(nbb_formatted_code);\n",
       "                        }\n",
       "                        break;\n",
       "                    }\n",
       "                }\n",
       "            }, 500);\n",
       "            "
      ],
      "text/plain": [
       "<IPython.core.display.Javascript object>"
      ]
     },
     "metadata": {},
     "output_type": "display_data"
    }
   ],
   "source": [
    "scoring = \"recall\"\n",
    "kfold = StratifiedKFold(\n",
    "    n_splits=5, shuffle=True, random_state=1\n",
    ")  # Setting number of splits equal to 5\n",
    "cv_result_bfr = cross_val_score(\n",
    "    estimator=lr, X=X_train, y=y_train, scoring=scoring, cv=kfold\n",
    ")\n",
    "# Plotting boxplots for CV scores of model defined above\n",
    "plt.boxplot(cv_result_bfr)\n",
    "plt.show()"
   ]
  },
  {
   "cell_type": "markdown",
   "metadata": {},
   "source": [
    "* Performance on training set varies between ~0.21 to ~0.24 recall and has two outliers.\n",
    "* Let's check the performance on validation data."
   ]
  },
  {
   "cell_type": "code",
   "execution_count": 189,
   "metadata": {
    "scrolled": true
   },
   "outputs": [
    {
     "name": "stdout",
     "output_type": "stream",
     "text": [
      "Training performance:\n"
     ]
    },
    {
     "data": {
      "text/html": [
       "<div>\n",
       "<style scoped>\n",
       "    .dataframe tbody tr th:only-of-type {\n",
       "        vertical-align: middle;\n",
       "    }\n",
       "\n",
       "    .dataframe tbody tr th {\n",
       "        vertical-align: top;\n",
       "    }\n",
       "\n",
       "    .dataframe thead th {\n",
       "        text-align: right;\n",
       "    }\n",
       "</style>\n",
       "<table border=\"1\" class=\"dataframe\">\n",
       "  <thead>\n",
       "    <tr style=\"text-align: right;\">\n",
       "      <th></th>\n",
       "      <th>Accuracy</th>\n",
       "      <th>Recall</th>\n",
       "      <th>Precision</th>\n",
       "      <th>F1</th>\n",
       "    </tr>\n",
       "  </thead>\n",
       "  <tbody>\n",
       "    <tr>\n",
       "      <th>0</th>\n",
       "      <td>0.787992</td>\n",
       "      <td>0.035088</td>\n",
       "      <td>0.571429</td>\n",
       "      <td>0.066116</td>\n",
       "    </tr>\n",
       "  </tbody>\n",
       "</table>\n",
       "</div>"
      ],
      "text/plain": [
       "   Accuracy    Recall  Precision        F1\n",
       "0  0.787992  0.035088   0.571429  0.066116"
      ]
     },
     "execution_count": 189,
     "metadata": {},
     "output_type": "execute_result"
    },
    {
     "data": {
      "application/javascript": [
       "\n",
       "            setTimeout(function() {\n",
       "                var nbb_cell_id = 189;\n",
       "                var nbb_unformatted_code = \"# Calculating different metrics on train set\\nlog_reg_model_train_perf = model_performance_classification_sklearn(\\n    lr, X_train, y_train\\n)\\nprint(\\\"Training performance:\\\")\\nlog_reg_model_train_perf\";\n",
       "                var nbb_formatted_code = \"# Calculating different metrics on train set\\nlog_reg_model_train_perf = model_performance_classification_sklearn(\\n    lr, X_train, y_train\\n)\\nprint(\\\"Training performance:\\\")\\nlog_reg_model_train_perf\";\n",
       "                var nbb_cells = Jupyter.notebook.get_cells();\n",
       "                for (var i = 0; i < nbb_cells.length; ++i) {\n",
       "                    if (nbb_cells[i].input_prompt_number == nbb_cell_id) {\n",
       "                        if (nbb_cells[i].get_text() == nbb_unformatted_code) {\n",
       "                             nbb_cells[i].set_text(nbb_formatted_code);\n",
       "                        }\n",
       "                        break;\n",
       "                    }\n",
       "                }\n",
       "            }, 500);\n",
       "            "
      ],
      "text/plain": [
       "<IPython.core.display.Javascript object>"
      ]
     },
     "metadata": {},
     "output_type": "display_data"
    }
   ],
   "source": [
    "# Calculating different metrics on train set\n",
    "log_reg_model_train_perf = model_performance_classification_sklearn(\n",
    "    lr, X_train, y_train\n",
    ")\n",
    "print(\"Training performance:\")\n",
    "log_reg_model_train_perf"
   ]
  },
  {
   "cell_type": "code",
   "execution_count": 190,
   "metadata": {},
   "outputs": [
    {
     "name": "stdout",
     "output_type": "stream",
     "text": [
      "Validation performance:\n"
     ]
    },
    {
     "data": {
      "text/html": [
       "<div>\n",
       "<style scoped>\n",
       "    .dataframe tbody tr th:only-of-type {\n",
       "        vertical-align: middle;\n",
       "    }\n",
       "\n",
       "    .dataframe tbody tr th {\n",
       "        vertical-align: top;\n",
       "    }\n",
       "\n",
       "    .dataframe thead th {\n",
       "        text-align: right;\n",
       "    }\n",
       "</style>\n",
       "<table border=\"1\" class=\"dataframe\">\n",
       "  <thead>\n",
       "    <tr style=\"text-align: right;\">\n",
       "      <th></th>\n",
       "      <th>Accuracy</th>\n",
       "      <th>Recall</th>\n",
       "      <th>Precision</th>\n",
       "      <th>F1</th>\n",
       "    </tr>\n",
       "  </thead>\n",
       "  <tbody>\n",
       "    <tr>\n",
       "      <th>0</th>\n",
       "      <td>0.769663</td>\n",
       "      <td>0.026316</td>\n",
       "      <td>0.2</td>\n",
       "      <td>0.046512</td>\n",
       "    </tr>\n",
       "  </tbody>\n",
       "</table>\n",
       "</div>"
      ],
      "text/plain": [
       "   Accuracy    Recall  Precision        F1\n",
       "0  0.769663  0.026316        0.2  0.046512"
      ]
     },
     "execution_count": 190,
     "metadata": {},
     "output_type": "execute_result"
    },
    {
     "data": {
      "application/javascript": [
       "\n",
       "            setTimeout(function() {\n",
       "                var nbb_cell_id = 190;\n",
       "                var nbb_unformatted_code = \"# Calculating different metrics on validation set\\nlog_reg_model_val_perf = model_performance_classification_sklearn(lr, X_val, y_val)\\nprint(\\\"Validation performance:\\\")\\nlog_reg_model_val_perf\";\n",
       "                var nbb_formatted_code = \"# Calculating different metrics on validation set\\nlog_reg_model_val_perf = model_performance_classification_sklearn(lr, X_val, y_val)\\nprint(\\\"Validation performance:\\\")\\nlog_reg_model_val_perf\";\n",
       "                var nbb_cells = Jupyter.notebook.get_cells();\n",
       "                for (var i = 0; i < nbb_cells.length; ++i) {\n",
       "                    if (nbb_cells[i].input_prompt_number == nbb_cell_id) {\n",
       "                        if (nbb_cells[i].get_text() == nbb_unformatted_code) {\n",
       "                             nbb_cells[i].set_text(nbb_formatted_code);\n",
       "                        }\n",
       "                        break;\n",
       "                    }\n",
       "                }\n",
       "            }, 500);\n",
       "            "
      ],
      "text/plain": [
       "<IPython.core.display.Javascript object>"
      ]
     },
     "metadata": {},
     "output_type": "display_data"
    }
   ],
   "source": [
    "# Calculating different metrics on validation set\n",
    "log_reg_model_val_perf = model_performance_classification_sklearn(lr, X_val, y_val)\n",
    "print(\"Validation performance:\")\n",
    "log_reg_model_val_perf"
   ]
  },
  {
   "cell_type": "code",
   "execution_count": 191,
   "metadata": {
    "scrolled": true
   },
   "outputs": [
    {
     "data": {
      "image/png": "[encoded data removed]",
      "text/plain": [
       "<Figure size 432x288 with 2 Axes>"
      ]
     },
     "metadata": {
      "needs_background": "light"
     },
     "output_type": "display_data"
    },
    {
     "data": {
      "application/javascript": [
       "\n",
       "            setTimeout(function() {\n",
       "                var nbb_cell_id = 191;\n",
       "                var nbb_unformatted_code = \"# creating confusion matrix\\nconfusion_matrix_sklearn(lr, X_val, y_val)\";\n",
       "                var nbb_formatted_code = \"# creating confusion matrix\\nconfusion_matrix_sklearn(lr, X_val, y_val)\";\n",
       "                var nbb_cells = Jupyter.notebook.get_cells();\n",
       "                for (var i = 0; i < nbb_cells.length; ++i) {\n",
       "                    if (nbb_cells[i].input_prompt_number == nbb_cell_id) {\n",
       "                        if (nbb_cells[i].get_text() == nbb_unformatted_code) {\n",
       "                             nbb_cells[i].set_text(nbb_formatted_code);\n",
       "                        }\n",
       "                        break;\n",
       "                    }\n",
       "                }\n",
       "            }, 500);\n",
       "            "
      ],
      "text/plain": [
       "<IPython.core.display.Javascript object>"
      ]
     },
     "metadata": {},
     "output_type": "display_data"
    }
   ],
   "source": [
    "# creating confusion matrix\n",
    "confusion_matrix_sklearn(lr, X_val, y_val)"
   ]
  },
  {
   "cell_type": "markdown",
   "metadata": {},
   "source": [
    "* Logistic Regression has given a similar performance on training and validation set.\n",
    "* Recall is very low, we can try oversampling (increase training data) to see if the model performance can be improved."
   ]
  },
  {
   "cell_type": "markdown",
   "metadata": {},
   "source": [
    "### Oversampling train data using SMOTE"
   ]
  },
  {
   "cell_type": "code",
   "execution_count": 192,
   "metadata": {},
   "outputs": [
    {
     "name": "stdout",
     "output_type": "stream",
     "text": [
      "Before Oversampling, counts of label 'Yes': 114\n",
      "Before Oversampling, counts of label 'No': 419 \n",
      "\n",
      "After Oversampling, counts of label 'Yes': 419\n",
      "After Oversampling, counts of label 'No': 419 \n",
      "\n",
      "After Oversampling, the shape of train_X: (838, 13)\n",
      "After Oversampling, the shape of train_y: (838,) \n",
      "\n"
     ]
    },
    {
     "data": {
      "application/javascript": [
       "\n",
       "            setTimeout(function() {\n",
       "                var nbb_cell_id = 192;\n",
       "                var nbb_unformatted_code = \"print(\\\"Before Oversampling, counts of label 'Yes': {}\\\".format(sum(y_train == 1)))\\nprint(\\\"Before Oversampling, counts of label 'No': {} \\\\n\\\".format(sum(y_train == 0)))\\n\\nsm = SMOTE(\\n    sampling_strategy=1, k_neighbors=5, random_state=1\\n)  # Synthetic Minority Over Sampling Technique\\nX_train_over, y_train_over = sm.fit_resample(X_train, y_train)\\n\\n\\nprint(\\\"After Oversampling, counts of label 'Yes': {}\\\".format(sum(y_train_over == 1)))\\nprint(\\\"After Oversampling, counts of label 'No': {} \\\\n\\\".format(sum(y_train_over == 0)))\\n\\n\\nprint(\\\"After Oversampling, the shape of train_X: {}\\\".format(X_train_over.shape))\\nprint(\\\"After Oversampling, the shape of train_y: {} \\\\n\\\".format(y_train_over.shape))\";\n",
       "                var nbb_formatted_code = \"print(\\\"Before Oversampling, counts of label 'Yes': {}\\\".format(sum(y_train == 1)))\\nprint(\\\"Before Oversampling, counts of label 'No': {} \\\\n\\\".format(sum(y_train == 0)))\\n\\nsm = SMOTE(\\n    sampling_strategy=1, k_neighbors=5, random_state=1\\n)  # Synthetic Minority Over Sampling Technique\\nX_train_over, y_train_over = sm.fit_resample(X_train, y_train)\\n\\n\\nprint(\\\"After Oversampling, counts of label 'Yes': {}\\\".format(sum(y_train_over == 1)))\\nprint(\\\"After Oversampling, counts of label 'No': {} \\\\n\\\".format(sum(y_train_over == 0)))\\n\\n\\nprint(\\\"After Oversampling, the shape of train_X: {}\\\".format(X_train_over.shape))\\nprint(\\\"After Oversampling, the shape of train_y: {} \\\\n\\\".format(y_train_over.shape))\";\n",
       "                var nbb_cells = Jupyter.notebook.get_cells();\n",
       "                for (var i = 0; i < nbb_cells.length; ++i) {\n",
       "                    if (nbb_cells[i].input_prompt_number == nbb_cell_id) {\n",
       "                        if (nbb_cells[i].get_text() == nbb_unformatted_code) {\n",
       "                             nbb_cells[i].set_text(nbb_formatted_code);\n",
       "                        }\n",
       "                        break;\n",
       "                    }\n",
       "                }\n",
       "            }, 500);\n",
       "            "
      ],
      "text/plain": [
       "<IPython.core.display.Javascript object>"
      ]
     },
     "metadata": {},
     "output_type": "display_data"
    }
   ],
   "source": [
    "print(\"Before Oversampling, counts of label 'Yes': {}\".format(sum(y_train == 1)))\n",
    "print(\"Before Oversampling, counts of label 'No': {} \\n\".format(sum(y_train == 0)))\n",
    "\n",
    "sm = SMOTE(\n",
    "    sampling_strategy=1, k_neighbors=5, random_state=1\n",
    ")  # Synthetic Minority Over Sampling Technique\n",
    "X_train_over, y_train_over = sm.fit_resample(X_train, y_train)\n",
    "\n",
    "\n",
    "print(\"After Oversampling, counts of label 'Yes': {}\".format(sum(y_train_over == 1)))\n",
    "print(\"After Oversampling, counts of label 'No': {} \\n\".format(sum(y_train_over == 0)))\n",
    "\n",
    "\n",
    "print(\"After Oversampling, the shape of train_X: {}\".format(X_train_over.shape))\n",
    "print(\"After Oversampling, the shape of train_y: {} \\n\".format(y_train_over.shape))"
   ]
  },
  {
   "cell_type": "markdown",
   "metadata": {},
   "source": [
    "### Logistic Regression on oversampled data"
   ]
  },
  {
   "cell_type": "code",
   "execution_count": 193,
   "metadata": {},
   "outputs": [
    {
     "data": {
      "text/plain": [
       "LogisticRegression(random_state=1)"
      ]
     },
     "execution_count": 193,
     "metadata": {},
     "output_type": "execute_result"
    },
    {
     "data": {
      "application/javascript": [
       "\n",
       "            setTimeout(function() {\n",
       "                var nbb_cell_id = 193;\n",
       "                var nbb_unformatted_code = \"log_reg_over = LogisticRegression(random_state=1)\\n\\n# Training the basic logistic regression model with training set\\nlog_reg_over.fit(X_train_over, y_train_over)\";\n",
       "                var nbb_formatted_code = \"log_reg_over = LogisticRegression(random_state=1)\\n\\n# Training the basic logistic regression model with training set\\nlog_reg_over.fit(X_train_over, y_train_over)\";\n",
       "                var nbb_cells = Jupyter.notebook.get_cells();\n",
       "                for (var i = 0; i < nbb_cells.length; ++i) {\n",
       "                    if (nbb_cells[i].input_prompt_number == nbb_cell_id) {\n",
       "                        if (nbb_cells[i].get_text() == nbb_unformatted_code) {\n",
       "                             nbb_cells[i].set_text(nbb_formatted_code);\n",
       "                        }\n",
       "                        break;\n",
       "                    }\n",
       "                }\n",
       "            }, 500);\n",
       "            "
      ],
      "text/plain": [
       "<IPython.core.display.Javascript object>"
      ]
     },
     "metadata": {},
     "output_type": "display_data"
    }
   ],
   "source": [
    "log_reg_over = LogisticRegression(random_state=1)\n",
    "\n",
    "# Training the basic logistic regression model with training set\n",
    "log_reg_over.fit(X_train_over, y_train_over)"
   ]
  },
  {
   "cell_type": "code",
   "execution_count": 202,
   "metadata": {},
   "outputs": [
    {
     "data": {
      "image/png": "[encoded data removed]",
      "text/plain": [
       "<Figure size 432x288 with 1 Axes>"
      ]
     },
     "metadata": {
      "needs_background": "light"
     },
     "output_type": "display_data"
    },
    {
     "data": {
      "application/javascript": [
       "\n",
       "            setTimeout(function() {\n",
       "                var nbb_cell_id = 202;\n",
       "                var nbb_unformatted_code = \"scoring = \\\"recall\\\"\\nkfold = StratifiedKFold(\\n    n_splits=5, shuffle=True, random_state=1\\n)  # Setting number of splits equal to 5\\ncv_result_bfr = cross_val_score(\\n    estimator=log_reg_over, X=X_train_over, y=y_train_over, scoring=scoring, cv=kfold\\n)\\n# Plotting boxplots for CV scores of model defined above\\nplt.boxplot(cv_result_bfr)\\nplt.show()\";\n",
       "                var nbb_formatted_code = \"scoring = \\\"recall\\\"\\nkfold = StratifiedKFold(\\n    n_splits=5, shuffle=True, random_state=1\\n)  # Setting number of splits equal to 5\\ncv_result_bfr = cross_val_score(\\n    estimator=log_reg_over, X=X_train_over, y=y_train_over, scoring=scoring, cv=kfold\\n)\\n# Plotting boxplots for CV scores of model defined above\\nplt.boxplot(cv_result_bfr)\\nplt.show()\";\n",
       "                var nbb_cells = Jupyter.notebook.get_cells();\n",
       "                for (var i = 0; i < nbb_cells.length; ++i) {\n",
       "                    if (nbb_cells[i].input_prompt_number == nbb_cell_id) {\n",
       "                        if (nbb_cells[i].get_text() == nbb_unformatted_code) {\n",
       "                             nbb_cells[i].set_text(nbb_formatted_code);\n",
       "                        }\n",
       "                        break;\n",
       "                    }\n",
       "                }\n",
       "            }, 500);\n",
       "            "
      ],
      "text/plain": [
       "<IPython.core.display.Javascript object>"
      ]
     },
     "metadata": {},
     "output_type": "display_data"
    }
   ],
   "source": [
    "scoring = \"recall\"\n",
    "kfold = StratifiedKFold(\n",
    "    n_splits=5, shuffle=True, random_state=1\n",
    ")  # Setting number of splits equal to 5\n",
    "cv_result_bfr = cross_val_score(\n",
    "    estimator=log_reg_over, X=X_train_over, y=y_train_over, scoring=scoring, cv=kfold\n",
    ")\n",
    "# Plotting boxplots for CV scores of model defined above\n",
    "plt.boxplot(cv_result_bfr)\n",
    "plt.show()"
   ]
  },
  {
   "cell_type": "markdown",
   "metadata": {},
   "source": [
    "#### Let's check the model performance on train and validation set"
   ]
  },
  {
   "cell_type": "code",
   "execution_count": 194,
   "metadata": {
    "scrolled": true
   },
   "outputs": [
    {
     "name": "stdout",
     "output_type": "stream",
     "text": [
      "Training performance:\n"
     ]
    },
    {
     "data": {
      "text/html": [
       "<div>\n",
       "<style scoped>\n",
       "    .dataframe tbody tr th:only-of-type {\n",
       "        vertical-align: middle;\n",
       "    }\n",
       "\n",
       "    .dataframe tbody tr th {\n",
       "        vertical-align: top;\n",
       "    }\n",
       "\n",
       "    .dataframe thead th {\n",
       "        text-align: right;\n",
       "    }\n",
       "</style>\n",
       "<table border=\"1\" class=\"dataframe\">\n",
       "  <thead>\n",
       "    <tr style=\"text-align: right;\">\n",
       "      <th></th>\n",
       "      <th>Accuracy</th>\n",
       "      <th>Recall</th>\n",
       "      <th>Precision</th>\n",
       "      <th>F1</th>\n",
       "    </tr>\n",
       "  </thead>\n",
       "  <tbody>\n",
       "    <tr>\n",
       "      <th>0</th>\n",
       "      <td>0.674224</td>\n",
       "      <td>0.775656</td>\n",
       "      <td>0.644841</td>\n",
       "      <td>0.704225</td>\n",
       "    </tr>\n",
       "  </tbody>\n",
       "</table>\n",
       "</div>"
      ],
      "text/plain": [
       "   Accuracy    Recall  Precision        F1\n",
       "0  0.674224  0.775656   0.644841  0.704225"
      ]
     },
     "execution_count": 194,
     "metadata": {},
     "output_type": "execute_result"
    },
    {
     "data": {
      "application/javascript": [
       "\n",
       "            setTimeout(function() {\n",
       "                var nbb_cell_id = 194;\n",
       "                var nbb_unformatted_code = \"# Calculating different metrics on train set\\nlog_reg_over_train_perf = model_performance_classification_sklearn(\\n    log_reg_over, X_train_over, y_train_over\\n)\\nprint(\\\"Training performance:\\\")\\nlog_reg_over_train_perf\";\n",
       "                var nbb_formatted_code = \"# Calculating different metrics on train set\\nlog_reg_over_train_perf = model_performance_classification_sklearn(\\n    log_reg_over, X_train_over, y_train_over\\n)\\nprint(\\\"Training performance:\\\")\\nlog_reg_over_train_perf\";\n",
       "                var nbb_cells = Jupyter.notebook.get_cells();\n",
       "                for (var i = 0; i < nbb_cells.length; ++i) {\n",
       "                    if (nbb_cells[i].input_prompt_number == nbb_cell_id) {\n",
       "                        if (nbb_cells[i].get_text() == nbb_unformatted_code) {\n",
       "                             nbb_cells[i].set_text(nbb_formatted_code);\n",
       "                        }\n",
       "                        break;\n",
       "                    }\n",
       "                }\n",
       "            }, 500);\n",
       "            "
      ],
      "text/plain": [
       "<IPython.core.display.Javascript object>"
      ]
     },
     "metadata": {},
     "output_type": "display_data"
    }
   ],
   "source": [
    "# Calculating different metrics on train set\n",
    "log_reg_over_train_perf = model_performance_classification_sklearn(\n",
    "    log_reg_over, X_train_over, y_train_over\n",
    ")\n",
    "print(\"Training performance:\")\n",
    "log_reg_over_train_perf"
   ]
  },
  {
   "cell_type": "code",
   "execution_count": 195,
   "metadata": {
    "scrolled": true
   },
   "outputs": [
    {
     "name": "stdout",
     "output_type": "stream",
     "text": [
      "validation performance:\n"
     ]
    },
    {
     "data": {
      "text/html": [
       "<div>\n",
       "<style scoped>\n",
       "    .dataframe tbody tr th:only-of-type {\n",
       "        vertical-align: middle;\n",
       "    }\n",
       "\n",
       "    .dataframe tbody tr th {\n",
       "        vertical-align: top;\n",
       "    }\n",
       "\n",
       "    .dataframe thead th {\n",
       "        text-align: right;\n",
       "    }\n",
       "</style>\n",
       "<table border=\"1\" class=\"dataframe\">\n",
       "  <thead>\n",
       "    <tr style=\"text-align: right;\">\n",
       "      <th></th>\n",
       "      <th>Accuracy</th>\n",
       "      <th>Recall</th>\n",
       "      <th>Precision</th>\n",
       "      <th>F1</th>\n",
       "    </tr>\n",
       "  </thead>\n",
       "  <tbody>\n",
       "    <tr>\n",
       "      <th>0</th>\n",
       "      <td>0.601124</td>\n",
       "      <td>0.631579</td>\n",
       "      <td>0.296296</td>\n",
       "      <td>0.403361</td>\n",
       "    </tr>\n",
       "  </tbody>\n",
       "</table>\n",
       "</div>"
      ],
      "text/plain": [
       "   Accuracy    Recall  Precision        F1\n",
       "0  0.601124  0.631579   0.296296  0.403361"
      ]
     },
     "execution_count": 195,
     "metadata": {},
     "output_type": "execute_result"
    },
    {
     "data": {
      "application/javascript": [
       "\n",
       "            setTimeout(function() {\n",
       "                var nbb_cell_id = 195;\n",
       "                var nbb_unformatted_code = \"# Calculating different metrics on validation set\\nlog_reg_over_val_perf = model_performance_classification_sklearn(\\n    log_reg_over, X_val, y_val\\n)\\nprint(\\\"validation performance:\\\")\\nlog_reg_over_val_perf\";\n",
       "                var nbb_formatted_code = \"# Calculating different metrics on validation set\\nlog_reg_over_val_perf = model_performance_classification_sklearn(\\n    log_reg_over, X_val, y_val\\n)\\nprint(\\\"validation performance:\\\")\\nlog_reg_over_val_perf\";\n",
       "                var nbb_cells = Jupyter.notebook.get_cells();\n",
       "                for (var i = 0; i < nbb_cells.length; ++i) {\n",
       "                    if (nbb_cells[i].input_prompt_number == nbb_cell_id) {\n",
       "                        if (nbb_cells[i].get_text() == nbb_unformatted_code) {\n",
       "                             nbb_cells[i].set_text(nbb_formatted_code);\n",
       "                        }\n",
       "                        break;\n",
       "                    }\n",
       "                }\n",
       "            }, 500);\n",
       "            "
      ],
      "text/plain": [
       "<IPython.core.display.Javascript object>"
      ]
     },
     "metadata": {},
     "output_type": "display_data"
    }
   ],
   "source": [
    "# Calculating different metrics on validation set\n",
    "log_reg_over_val_perf = model_performance_classification_sklearn(\n",
    "    log_reg_over, X_val, y_val\n",
    ")\n",
    "print(\"validation performance:\")\n",
    "log_reg_over_val_perf"
   ]
  },
  {
   "cell_type": "code",
   "execution_count": 111,
   "metadata": {
    "scrolled": true
   },
   "outputs": [
    {
     "data": {
      "image/png": "[encoded data removed]",
      "text/plain": [
       "<Figure size 432x288 with 2 Axes>"
      ]
     },
     "metadata": {
      "needs_background": "light"
     },
     "output_type": "display_data"
    },
    {
     "data": {
      "application/javascript": [
       "\n",
       "            setTimeout(function() {\n",
       "                var nbb_cell_id = 111;\n",
       "                var nbb_unformatted_code = \"# creating confusion matrix\\nconfusion_matrix_sklearn(log_reg_over, X_val, y_val)\";\n",
       "                var nbb_formatted_code = \"# creating confusion matrix\\nconfusion_matrix_sklearn(log_reg_over, X_val, y_val)\";\n",
       "                var nbb_cells = Jupyter.notebook.get_cells();\n",
       "                for (var i = 0; i < nbb_cells.length; ++i) {\n",
       "                    if (nbb_cells[i].input_prompt_number == nbb_cell_id) {\n",
       "                        if (nbb_cells[i].get_text() == nbb_unformatted_code) {\n",
       "                             nbb_cells[i].set_text(nbb_formatted_code);\n",
       "                        }\n",
       "                        break;\n",
       "                    }\n",
       "                }\n",
       "            }, 500);\n",
       "            "
      ],
      "text/plain": [
       "<IPython.core.display.Javascript object>"
      ]
     },
     "metadata": {},
     "output_type": "display_data"
    }
   ],
   "source": [
    "# creating confusion matrix\n",
    "confusion_matrix_sklearn(log_reg_over, X_val, y_val)"
   ]
  },
  {
   "cell_type": "markdown",
   "metadata": {},
   "source": [
    "* Performance on the training set improved but the model is not able to replicate the same for the validation set.\n",
    "* Model is overfitting.\n",
    "* Lets try:\n",
    "\n",
    "  a) Regularization to see if overfitting can be reduced\n",
    "\n",
    "  b) Undersampling the train to handle the imbalance between classes and check the model performance."
   ]
  },
  {
   "cell_type": "code",
   "execution_count": 200,
   "metadata": {},
   "outputs": [
    {
     "name": "stdout",
     "output_type": "stream",
     "text": [
      "validation performance:\n"
     ]
    },
    {
     "data": {
      "text/html": [
       "<div>\n",
       "<style scoped>\n",
       "    .dataframe tbody tr th:only-of-type {\n",
       "        vertical-align: middle;\n",
       "    }\n",
       "\n",
       "    .dataframe tbody tr th {\n",
       "        vertical-align: top;\n",
       "    }\n",
       "\n",
       "    .dataframe thead th {\n",
       "        text-align: right;\n",
       "    }\n",
       "</style>\n",
       "<table border=\"1\" class=\"dataframe\">\n",
       "  <thead>\n",
       "    <tr style=\"text-align: right;\">\n",
       "      <th></th>\n",
       "      <th>Accuracy</th>\n",
       "      <th>Recall</th>\n",
       "      <th>Precision</th>\n",
       "      <th>F1</th>\n",
       "    </tr>\n",
       "  </thead>\n",
       "  <tbody>\n",
       "    <tr>\n",
       "      <th>0</th>\n",
       "      <td>0.573034</td>\n",
       "      <td>0.605263</td>\n",
       "      <td>0.27381</td>\n",
       "      <td>0.377049</td>\n",
       "    </tr>\n",
       "  </tbody>\n",
       "</table>\n",
       "</div>"
      ],
      "text/plain": [
       "   Accuracy    Recall  Precision        F1\n",
       "0  0.573034  0.605263    0.27381  0.377049"
      ]
     },
     "execution_count": 200,
     "metadata": {},
     "output_type": "execute_result"
    },
    {
     "data": {
      "application/javascript": [
       "\n",
       "            setTimeout(function() {\n",
       "                var nbb_cell_id = 200;\n",
       "                var nbb_unformatted_code = \"bc_over = BaggingClassifier(random_state=1)\\nbc_over.fit(X_train_over, y_train_over)\\nbc_over_val_perf = model_performance_classification_sklearn(\\n    bc_over, X_val, y_val\\n)\\nprint(\\\"validation performance:\\\")\\nbc_over_val_perf\";\n",
       "                var nbb_formatted_code = \"bc_over = BaggingClassifier(random_state=1)\\nbc_over.fit(X_train_over, y_train_over)\\nbc_over_val_perf = model_performance_classification_sklearn(bc_over, X_val, y_val)\\nprint(\\\"validation performance:\\\")\\nbc_over_val_perf\";\n",
       "                var nbb_cells = Jupyter.notebook.get_cells();\n",
       "                for (var i = 0; i < nbb_cells.length; ++i) {\n",
       "                    if (nbb_cells[i].input_prompt_number == nbb_cell_id) {\n",
       "                        if (nbb_cells[i].get_text() == nbb_unformatted_code) {\n",
       "                             nbb_cells[i].set_text(nbb_formatted_code);\n",
       "                        }\n",
       "                        break;\n",
       "                    }\n",
       "                }\n",
       "            }, 500);\n",
       "            "
      ],
      "text/plain": [
       "<IPython.core.display.Javascript object>"
      ]
     },
     "metadata": {},
     "output_type": "display_data"
    }
   ],
   "source": [
    "bc_over = BaggingClassifier(random_state=1)\n",
    "bc_over.fit(X_train_over, y_train_over)\n",
    "bc_over_val_perf = model_performance_classification_sklearn(bc_over, X_val, y_val)\n",
    "print(\"validation performance:\")\n",
    "bc_over_val_perf"
   ]
  },
  {
   "cell_type": "code",
   "execution_count": 206,
   "metadata": {},
   "outputs": [
    {
     "name": "stdout",
     "output_type": "stream",
     "text": [
      "Training performance:\n"
     ]
    },
    {
     "data": {
      "text/html": [
       "<div>\n",
       "<style scoped>\n",
       "    .dataframe tbody tr th:only-of-type {\n",
       "        vertical-align: middle;\n",
       "    }\n",
       "\n",
       "    .dataframe tbody tr th {\n",
       "        vertical-align: top;\n",
       "    }\n",
       "\n",
       "    .dataframe thead th {\n",
       "        text-align: right;\n",
       "    }\n",
       "</style>\n",
       "<table border=\"1\" class=\"dataframe\">\n",
       "  <thead>\n",
       "    <tr style=\"text-align: right;\">\n",
       "      <th></th>\n",
       "      <th>Accuracy</th>\n",
       "      <th>Recall</th>\n",
       "      <th>Precision</th>\n",
       "      <th>F1</th>\n",
       "    </tr>\n",
       "  </thead>\n",
       "  <tbody>\n",
       "    <tr>\n",
       "      <th>0</th>\n",
       "      <td>0.671838</td>\n",
       "      <td>0.775656</td>\n",
       "      <td>0.642292</td>\n",
       "      <td>0.702703</td>\n",
       "    </tr>\n",
       "  </tbody>\n",
       "</table>\n",
       "</div>"
      ],
      "text/plain": [
       "   Accuracy    Recall  Precision        F1\n",
       "0  0.671838  0.775656   0.642292  0.702703"
      ]
     },
     "execution_count": 206,
     "metadata": {},
     "output_type": "execute_result"
    },
    {
     "data": {
      "application/javascript": [
       "\n",
       "            setTimeout(function() {\n",
       "                var nbb_cell_id = 206;\n",
       "                var nbb_unformatted_code = \"# Choose the type of classifier.\\nlr_estimator = LogisticRegression(random_state=1, solver=\\\"saga\\\", penalty=\\\"l1\\\")\\n# Fit the best algorithm to the data.\\nlr_estimator.fit(X_train_over, y_train_over)\\n\\n# Calculating different metrics on train set\\nlog_reg_reg_train_perf = model_performance_classification_sklearn(\\n    lr_estimator, X_train_over, y_train_over\\n)\\nprint(\\\"Training performance:\\\")\\nlog_reg_reg_train_perf\";\n",
       "                var nbb_formatted_code = \"# Choose the type of classifier.\\nlr_estimator = LogisticRegression(random_state=1, solver=\\\"saga\\\", penalty=\\\"l1\\\")\\n# Fit the best algorithm to the data.\\nlr_estimator.fit(X_train_over, y_train_over)\\n\\n# Calculating different metrics on train set\\nlog_reg_reg_train_perf = model_performance_classification_sklearn(\\n    lr_estimator, X_train_over, y_train_over\\n)\\nprint(\\\"Training performance:\\\")\\nlog_reg_reg_train_perf\";\n",
       "                var nbb_cells = Jupyter.notebook.get_cells();\n",
       "                for (var i = 0; i < nbb_cells.length; ++i) {\n",
       "                    if (nbb_cells[i].input_prompt_number == nbb_cell_id) {\n",
       "                        if (nbb_cells[i].get_text() == nbb_unformatted_code) {\n",
       "                             nbb_cells[i].set_text(nbb_formatted_code);\n",
       "                        }\n",
       "                        break;\n",
       "                    }\n",
       "                }\n",
       "            }, 500);\n",
       "            "
      ],
      "text/plain": [
       "<IPython.core.display.Javascript object>"
      ]
     },
     "metadata": {},
     "output_type": "display_data"
    }
   ],
   "source": [
    "# Choose the type of classifier.\n",
    "lr_estimator = LogisticRegression(random_state=1, solver=\"saga\", penalty=\"l1\")\n",
    "# Fit the best algorithm to the data.\n",
    "lr_estimator.fit(X_train_over, y_train_over)\n",
    "\n",
    "# Calculating different metrics on train set\n",
    "log_reg_reg_train_perf = model_performance_classification_sklearn(\n",
    "    lr_estimator, X_train_over, y_train_over\n",
    ")\n",
    "print(\"Training performance:\")\n",
    "log_reg_reg_train_perf"
   ]
  },
  {
   "cell_type": "markdown",
   "metadata": {},
   "source": [
    "### Regularization"
   ]
  },
  {
   "cell_type": "code",
   "execution_count": 112,
   "metadata": {},
   "outputs": [
    {
     "data": {
      "text/plain": [
       "LogisticRegression(C=0.9, random_state=1, solver='saga')"
      ]
     },
     "execution_count": 112,
     "metadata": {},
     "output_type": "execute_result"
    },
    {
     "data": {
      "application/javascript": [
       "\n",
       "            setTimeout(function() {\n",
       "                var nbb_cell_id = 112;\n",
       "                var nbb_unformatted_code = \"# Choose the type of classifier.\\nlr_estimator = LogisticRegression(random_state=1, solver=\\\"saga\\\")\\n\\n# Grid of parameters to choose from\\nparameters = {\\\"C\\\": np.arange(0.1, 1.1, 0.1)}\\n\\n# Run the grid search\\ngrid_obj = GridSearchCV(lr_estimator, parameters, scoring=\\\"recall\\\")\\ngrid_obj = grid_obj.fit(X_train_over, y_train_over)\\n\\n# Set the clf to the best combination of parameters\\nlr_estimator = grid_obj.best_estimator_\\n\\n# Fit the best algorithm to the data.\\nlr_estimator.fit(X_train_over, y_train_over)\";\n",
       "                var nbb_formatted_code = \"# Choose the type of classifier.\\nlr_estimator = LogisticRegression(random_state=1, solver=\\\"saga\\\")\\n\\n# Grid of parameters to choose from\\nparameters = {\\\"C\\\": np.arange(0.1, 1.1, 0.1)}\\n\\n# Run the grid search\\ngrid_obj = GridSearchCV(lr_estimator, parameters, scoring=\\\"recall\\\")\\ngrid_obj = grid_obj.fit(X_train_over, y_train_over)\\n\\n# Set the clf to the best combination of parameters\\nlr_estimator = grid_obj.best_estimator_\\n\\n# Fit the best algorithm to the data.\\nlr_estimator.fit(X_train_over, y_train_over)\";\n",
       "                var nbb_cells = Jupyter.notebook.get_cells();\n",
       "                for (var i = 0; i < nbb_cells.length; ++i) {\n",
       "                    if (nbb_cells[i].input_prompt_number == nbb_cell_id) {\n",
       "                        if (nbb_cells[i].get_text() == nbb_unformatted_code) {\n",
       "                             nbb_cells[i].set_text(nbb_formatted_code);\n",
       "                        }\n",
       "                        break;\n",
       "                    }\n",
       "                }\n",
       "            }, 500);\n",
       "            "
      ],
      "text/plain": [
       "<IPython.core.display.Javascript object>"
      ]
     },
     "metadata": {},
     "output_type": "display_data"
    }
   ],
   "source": [
    "# Choose the type of classifier.\n",
    "lr_estimator = LogisticRegression(random_state=1, solver=\"saga\")\n",
    "\n",
    "# Grid of parameters to choose from\n",
    "parameters = {\"C\": np.arange(0.1, 1.1, 0.1)}\n",
    "\n",
    "# Run the grid search\n",
    "grid_obj = GridSearchCV(lr_estimator, parameters, scoring=\"recall\")\n",
    "grid_obj = grid_obj.fit(X_train_over, y_train_over)\n",
    "\n",
    "# Set the clf to the best combination of parameters\n",
    "lr_estimator = grid_obj.best_estimator_\n",
    "\n",
    "# Fit the best algorithm to the data.\n",
    "lr_estimator.fit(X_train_over, y_train_over)"
   ]
  },
  {
   "cell_type": "code",
   "execution_count": 113,
   "metadata": {
    "scrolled": true
   },
   "outputs": [
    {
     "name": "stdout",
     "output_type": "stream",
     "text": [
      "Training performance:\n"
     ]
    },
    {
     "data": {
      "text/html": [
       "<div>\n",
       "<style scoped>\n",
       "    .dataframe tbody tr th:only-of-type {\n",
       "        vertical-align: middle;\n",
       "    }\n",
       "\n",
       "    .dataframe tbody tr th {\n",
       "        vertical-align: top;\n",
       "    }\n",
       "\n",
       "    .dataframe thead th {\n",
       "        text-align: right;\n",
       "    }\n",
       "</style>\n",
       "<table border=\"1\" class=\"dataframe\">\n",
       "  <thead>\n",
       "    <tr style=\"text-align: right;\">\n",
       "      <th></th>\n",
       "      <th>Accuracy</th>\n",
       "      <th>Recall</th>\n",
       "      <th>Precision</th>\n",
       "      <th>F1</th>\n",
       "    </tr>\n",
       "  </thead>\n",
       "  <tbody>\n",
       "    <tr>\n",
       "      <th>0</th>\n",
       "      <td>0.674224</td>\n",
       "      <td>0.775656</td>\n",
       "      <td>0.644841</td>\n",
       "      <td>0.704225</td>\n",
       "    </tr>\n",
       "  </tbody>\n",
       "</table>\n",
       "</div>"
      ],
      "text/plain": [
       "   Accuracy    Recall  Precision        F1\n",
       "0  0.674224  0.775656   0.644841  0.704225"
      ]
     },
     "execution_count": 113,
     "metadata": {},
     "output_type": "execute_result"
    },
    {
     "data": {
      "application/javascript": [
       "\n",
       "            setTimeout(function() {\n",
       "                var nbb_cell_id = 113;\n",
       "                var nbb_unformatted_code = \"# Calculating different metrics on train set\\nlog_reg_reg_train_perf = model_performance_classification_sklearn(\\n    lr_estimator, X_train_over, y_train_over\\n)\\nprint(\\\"Training performance:\\\")\\nlog_reg_reg_train_perf\";\n",
       "                var nbb_formatted_code = \"# Calculating different metrics on train set\\nlog_reg_reg_train_perf = model_performance_classification_sklearn(\\n    lr_estimator, X_train_over, y_train_over\\n)\\nprint(\\\"Training performance:\\\")\\nlog_reg_reg_train_perf\";\n",
       "                var nbb_cells = Jupyter.notebook.get_cells();\n",
       "                for (var i = 0; i < nbb_cells.length; ++i) {\n",
       "                    if (nbb_cells[i].input_prompt_number == nbb_cell_id) {\n",
       "                        if (nbb_cells[i].get_text() == nbb_unformatted_code) {\n",
       "                             nbb_cells[i].set_text(nbb_formatted_code);\n",
       "                        }\n",
       "                        break;\n",
       "                    }\n",
       "                }\n",
       "            }, 500);\n",
       "            "
      ],
      "text/plain": [
       "<IPython.core.display.Javascript object>"
      ]
     },
     "metadata": {},
     "output_type": "display_data"
    }
   ],
   "source": [
    "# Calculating different metrics on train set\n",
    "log_reg_reg_train_perf = model_performance_classification_sklearn(\n",
    "    lr_estimator, X_train_over, y_train_over\n",
    ")\n",
    "print(\"Training performance:\")\n",
    "log_reg_reg_train_perf"
   ]
  },
  {
   "cell_type": "code",
   "execution_count": 114,
   "metadata": {
    "scrolled": true
   },
   "outputs": [
    {
     "name": "stdout",
     "output_type": "stream",
     "text": [
      "Validation performance:\n"
     ]
    },
    {
     "data": {
      "text/html": [
       "<div>\n",
       "<style scoped>\n",
       "    .dataframe tbody tr th:only-of-type {\n",
       "        vertical-align: middle;\n",
       "    }\n",
       "\n",
       "    .dataframe tbody tr th {\n",
       "        vertical-align: top;\n",
       "    }\n",
       "\n",
       "    .dataframe thead th {\n",
       "        text-align: right;\n",
       "    }\n",
       "</style>\n",
       "<table border=\"1\" class=\"dataframe\">\n",
       "  <thead>\n",
       "    <tr style=\"text-align: right;\">\n",
       "      <th></th>\n",
       "      <th>Accuracy</th>\n",
       "      <th>Recall</th>\n",
       "      <th>Precision</th>\n",
       "      <th>F1</th>\n",
       "    </tr>\n",
       "  </thead>\n",
       "  <tbody>\n",
       "    <tr>\n",
       "      <th>0</th>\n",
       "      <td>0.601124</td>\n",
       "      <td>0.631579</td>\n",
       "      <td>0.296296</td>\n",
       "      <td>0.403361</td>\n",
       "    </tr>\n",
       "  </tbody>\n",
       "</table>\n",
       "</div>"
      ],
      "text/plain": [
       "   Accuracy    Recall  Precision        F1\n",
       "0  0.601124  0.631579   0.296296  0.403361"
      ]
     },
     "execution_count": 114,
     "metadata": {},
     "output_type": "execute_result"
    },
    {
     "data": {
      "application/javascript": [
       "\n",
       "            setTimeout(function() {\n",
       "                var nbb_cell_id = 114;\n",
       "                var nbb_unformatted_code = \"# Calculating different metrics on validation set\\nlog_reg_reg_val_perf = model_performance_classification_sklearn(\\n    lr_estimator, X_val, y_val\\n)\\nprint(\\\"Validation performance:\\\")\\nlog_reg_reg_val_perf\";\n",
       "                var nbb_formatted_code = \"# Calculating different metrics on validation set\\nlog_reg_reg_val_perf = model_performance_classification_sklearn(\\n    lr_estimator, X_val, y_val\\n)\\nprint(\\\"Validation performance:\\\")\\nlog_reg_reg_val_perf\";\n",
       "                var nbb_cells = Jupyter.notebook.get_cells();\n",
       "                for (var i = 0; i < nbb_cells.length; ++i) {\n",
       "                    if (nbb_cells[i].input_prompt_number == nbb_cell_id) {\n",
       "                        if (nbb_cells[i].get_text() == nbb_unformatted_code) {\n",
       "                             nbb_cells[i].set_text(nbb_formatted_code);\n",
       "                        }\n",
       "                        break;\n",
       "                    }\n",
       "                }\n",
       "            }, 500);\n",
       "            "
      ],
      "text/plain": [
       "<IPython.core.display.Javascript object>"
      ]
     },
     "metadata": {},
     "output_type": "display_data"
    }
   ],
   "source": [
    "# Calculating different metrics on validation set\n",
    "log_reg_reg_val_perf = model_performance_classification_sklearn(\n",
    "    lr_estimator, X_val, y_val\n",
    ")\n",
    "print(\"Validation performance:\")\n",
    "log_reg_reg_val_perf"
   ]
  },
  {
   "cell_type": "code",
   "execution_count": 115,
   "metadata": {
    "scrolled": true
   },
   "outputs": [
    {
     "data": {
      "image/png": "[encoded data removed]",
      "text/plain": [
       "<Figure size 432x288 with 2 Axes>"
      ]
     },
     "metadata": {
      "needs_background": "light"
     },
     "output_type": "display_data"
    },
    {
     "data": {
      "application/javascript": [
       "\n",
       "            setTimeout(function() {\n",
       "                var nbb_cell_id = 115;\n",
       "                var nbb_unformatted_code = \"# creating confusion matrix\\nconfusion_matrix_sklearn(lr_estimator, X_val, y_val)\";\n",
       "                var nbb_formatted_code = \"# creating confusion matrix\\nconfusion_matrix_sklearn(lr_estimator, X_val, y_val)\";\n",
       "                var nbb_cells = Jupyter.notebook.get_cells();\n",
       "                for (var i = 0; i < nbb_cells.length; ++i) {\n",
       "                    if (nbb_cells[i].input_prompt_number == nbb_cell_id) {\n",
       "                        if (nbb_cells[i].get_text() == nbb_unformatted_code) {\n",
       "                             nbb_cells[i].set_text(nbb_formatted_code);\n",
       "                        }\n",
       "                        break;\n",
       "                    }\n",
       "                }\n",
       "            }, 500);\n",
       "            "
      ],
      "text/plain": [
       "<IPython.core.display.Javascript object>"
      ]
     },
     "metadata": {},
     "output_type": "display_data"
    }
   ],
   "source": [
    "# creating confusion matrix\n",
    "confusion_matrix_sklearn(lr_estimator, X_val, y_val)"
   ]
  },
  {
   "cell_type": "markdown",
   "metadata": {},
   "source": [
    "* After regularization, overfitting has reduced to some extent.\n",
    "* Let's try undersampling now."
   ]
  },
  {
   "cell_type": "markdown",
   "metadata": {},
   "source": [
    "### Undersampling train data using Random Under Sampler"
   ]
  },
  {
   "cell_type": "code",
   "execution_count": 116,
   "metadata": {},
   "outputs": [
    {
     "data": {
      "application/javascript": [
       "\n",
       "            setTimeout(function() {\n",
       "                var nbb_cell_id = 116;\n",
       "                var nbb_unformatted_code = \"rus = RandomUnderSampler(random_state=1)\\nX_train_un, y_train_un = rus.fit_resample(X_train, y_train)\";\n",
       "                var nbb_formatted_code = \"rus = RandomUnderSampler(random_state=1)\\nX_train_un, y_train_un = rus.fit_resample(X_train, y_train)\";\n",
       "                var nbb_cells = Jupyter.notebook.get_cells();\n",
       "                for (var i = 0; i < nbb_cells.length; ++i) {\n",
       "                    if (nbb_cells[i].input_prompt_number == nbb_cell_id) {\n",
       "                        if (nbb_cells[i].get_text() == nbb_unformatted_code) {\n",
       "                             nbb_cells[i].set_text(nbb_formatted_code);\n",
       "                        }\n",
       "                        break;\n",
       "                    }\n",
       "                }\n",
       "            }, 500);\n",
       "            "
      ],
      "text/plain": [
       "<IPython.core.display.Javascript object>"
      ]
     },
     "metadata": {},
     "output_type": "display_data"
    }
   ],
   "source": [
    "rus = RandomUnderSampler(random_state=1)\n",
    "X_train_un, y_train_un = rus.fit_resample(X_train, y_train)"
   ]
  },
  {
   "cell_type": "code",
   "execution_count": 117,
   "metadata": {},
   "outputs": [
    {
     "name": "stdout",
     "output_type": "stream",
     "text": [
      "Before Undersampling, counts of label 'Yes': 114\n",
      "Before Undersampling, counts of label 'No': 419 \n",
      "\n",
      "After Undersampling, counts of label 'Yes': 114\n",
      "After Undersampling, counts of label 'No': 114 \n",
      "\n",
      "After Undersampling, the shape of train_X: (228, 13)\n",
      "After Undersampling, the shape of train_y: (228,) \n",
      "\n"
     ]
    },
    {
     "data": {
      "application/javascript": [
       "\n",
       "            setTimeout(function() {\n",
       "                var nbb_cell_id = 117;\n",
       "                var nbb_unformatted_code = \"print(\\\"Before Undersampling, counts of label 'Yes': {}\\\".format(sum(y_train == 1)))\\nprint(\\\"Before Undersampling, counts of label 'No': {} \\\\n\\\".format(sum(y_train == 0)))\\n\\nprint(\\\"After Undersampling, counts of label 'Yes': {}\\\".format(sum(y_train_un == 1)))\\nprint(\\\"After Undersampling, counts of label 'No': {} \\\\n\\\".format(sum(y_train_un == 0)))\\n\\nprint(\\\"After Undersampling, the shape of train_X: {}\\\".format(X_train_un.shape))\\nprint(\\\"After Undersampling, the shape of train_y: {} \\\\n\\\".format(y_train_un.shape))\";\n",
       "                var nbb_formatted_code = \"print(\\\"Before Undersampling, counts of label 'Yes': {}\\\".format(sum(y_train == 1)))\\nprint(\\\"Before Undersampling, counts of label 'No': {} \\\\n\\\".format(sum(y_train == 0)))\\n\\nprint(\\\"After Undersampling, counts of label 'Yes': {}\\\".format(sum(y_train_un == 1)))\\nprint(\\\"After Undersampling, counts of label 'No': {} \\\\n\\\".format(sum(y_train_un == 0)))\\n\\nprint(\\\"After Undersampling, the shape of train_X: {}\\\".format(X_train_un.shape))\\nprint(\\\"After Undersampling, the shape of train_y: {} \\\\n\\\".format(y_train_un.shape))\";\n",
       "                var nbb_cells = Jupyter.notebook.get_cells();\n",
       "                for (var i = 0; i < nbb_cells.length; ++i) {\n",
       "                    if (nbb_cells[i].input_prompt_number == nbb_cell_id) {\n",
       "                        if (nbb_cells[i].get_text() == nbb_unformatted_code) {\n",
       "                             nbb_cells[i].set_text(nbb_formatted_code);\n",
       "                        }\n",
       "                        break;\n",
       "                    }\n",
       "                }\n",
       "            }, 500);\n",
       "            "
      ],
      "text/plain": [
       "<IPython.core.display.Javascript object>"
      ]
     },
     "metadata": {},
     "output_type": "display_data"
    }
   ],
   "source": [
    "print(\"Before Undersampling, counts of label 'Yes': {}\".format(sum(y_train == 1)))\n",
    "print(\"Before Undersampling, counts of label 'No': {} \\n\".format(sum(y_train == 0)))\n",
    "\n",
    "print(\"After Undersampling, counts of label 'Yes': {}\".format(sum(y_train_un == 1)))\n",
    "print(\"After Undersampling, counts of label 'No': {} \\n\".format(sum(y_train_un == 0)))\n",
    "\n",
    "print(\"After Undersampling, the shape of train_X: {}\".format(X_train_un.shape))\n",
    "print(\"After Undersampling, the shape of train_y: {} \\n\".format(y_train_un.shape))"
   ]
  },
  {
   "cell_type": "markdown",
   "metadata": {},
   "source": [
    "### Logistic Regression on undersampled data"
   ]
  },
  {
   "cell_type": "code",
   "execution_count": 118,
   "metadata": {},
   "outputs": [
    {
     "data": {
      "text/plain": [
       "LogisticRegression(random_state=1)"
      ]
     },
     "execution_count": 118,
     "metadata": {},
     "output_type": "execute_result"
    },
    {
     "data": {
      "application/javascript": [
       "\n",
       "            setTimeout(function() {\n",
       "                var nbb_cell_id = 118;\n",
       "                var nbb_unformatted_code = \"log_reg_under = LogisticRegression(random_state=1)\\nlog_reg_under.fit(X_train_un, y_train_un)\";\n",
       "                var nbb_formatted_code = \"log_reg_under = LogisticRegression(random_state=1)\\nlog_reg_under.fit(X_train_un, y_train_un)\";\n",
       "                var nbb_cells = Jupyter.notebook.get_cells();\n",
       "                for (var i = 0; i < nbb_cells.length; ++i) {\n",
       "                    if (nbb_cells[i].input_prompt_number == nbb_cell_id) {\n",
       "                        if (nbb_cells[i].get_text() == nbb_unformatted_code) {\n",
       "                             nbb_cells[i].set_text(nbb_formatted_code);\n",
       "                        }\n",
       "                        break;\n",
       "                    }\n",
       "                }\n",
       "            }, 500);\n",
       "            "
      ],
      "text/plain": [
       "<IPython.core.display.Javascript object>"
      ]
     },
     "metadata": {},
     "output_type": "display_data"
    }
   ],
   "source": [
    "log_reg_under = LogisticRegression(random_state=1)\n",
    "log_reg_under.fit(X_train_un, y_train_un)"
   ]
  },
  {
   "cell_type": "markdown",
   "metadata": {},
   "source": [
    "#### Let's check the model performance on train and validation set"
   ]
  },
  {
   "cell_type": "code",
   "execution_count": 119,
   "metadata": {
    "scrolled": true
   },
   "outputs": [
    {
     "name": "stdout",
     "output_type": "stream",
     "text": [
      "Training performance:\n"
     ]
    },
    {
     "data": {
      "text/html": [
       "<div>\n",
       "<style scoped>\n",
       "    .dataframe tbody tr th:only-of-type {\n",
       "        vertical-align: middle;\n",
       "    }\n",
       "\n",
       "    .dataframe tbody tr th {\n",
       "        vertical-align: top;\n",
       "    }\n",
       "\n",
       "    .dataframe thead th {\n",
       "        text-align: right;\n",
       "    }\n",
       "</style>\n",
       "<table border=\"1\" class=\"dataframe\">\n",
       "  <thead>\n",
       "    <tr style=\"text-align: right;\">\n",
       "      <th></th>\n",
       "      <th>Accuracy</th>\n",
       "      <th>Recall</th>\n",
       "      <th>Precision</th>\n",
       "      <th>F1</th>\n",
       "    </tr>\n",
       "  </thead>\n",
       "  <tbody>\n",
       "    <tr>\n",
       "      <th>0</th>\n",
       "      <td>0.70614</td>\n",
       "      <td>0.842105</td>\n",
       "      <td>0.662069</td>\n",
       "      <td>0.741313</td>\n",
       "    </tr>\n",
       "  </tbody>\n",
       "</table>\n",
       "</div>"
      ],
      "text/plain": [
       "   Accuracy    Recall  Precision        F1\n",
       "0   0.70614  0.842105   0.662069  0.741313"
      ]
     },
     "execution_count": 119,
     "metadata": {},
     "output_type": "execute_result"
    },
    {
     "data": {
      "application/javascript": [
       "\n",
       "            setTimeout(function() {\n",
       "                var nbb_cell_id = 119;\n",
       "                var nbb_unformatted_code = \"# Calculating different metrics on train set\\nlog_reg_under_train_perf = model_performance_classification_sklearn(\\n    log_reg_under, X_train_un, y_train_un\\n)\\nprint(\\\"Training performance:\\\")\\nlog_reg_under_train_perf\";\n",
       "                var nbb_formatted_code = \"# Calculating different metrics on train set\\nlog_reg_under_train_perf = model_performance_classification_sklearn(\\n    log_reg_under, X_train_un, y_train_un\\n)\\nprint(\\\"Training performance:\\\")\\nlog_reg_under_train_perf\";\n",
       "                var nbb_cells = Jupyter.notebook.get_cells();\n",
       "                for (var i = 0; i < nbb_cells.length; ++i) {\n",
       "                    if (nbb_cells[i].input_prompt_number == nbb_cell_id) {\n",
       "                        if (nbb_cells[i].get_text() == nbb_unformatted_code) {\n",
       "                             nbb_cells[i].set_text(nbb_formatted_code);\n",
       "                        }\n",
       "                        break;\n",
       "                    }\n",
       "                }\n",
       "            }, 500);\n",
       "            "
      ],
      "text/plain": [
       "<IPython.core.display.Javascript object>"
      ]
     },
     "metadata": {},
     "output_type": "display_data"
    }
   ],
   "source": [
    "# Calculating different metrics on train set\n",
    "log_reg_under_train_perf = model_performance_classification_sklearn(\n",
    "    log_reg_under, X_train_un, y_train_un\n",
    ")\n",
    "print(\"Training performance:\")\n",
    "log_reg_under_train_perf"
   ]
  },
  {
   "cell_type": "code",
   "execution_count": 120,
   "metadata": {
    "scrolled": true
   },
   "outputs": [
    {
     "name": "stdout",
     "output_type": "stream",
     "text": [
      "Validation performance:\n"
     ]
    },
    {
     "data": {
      "text/html": [
       "<div>\n",
       "<style scoped>\n",
       "    .dataframe tbody tr th:only-of-type {\n",
       "        vertical-align: middle;\n",
       "    }\n",
       "\n",
       "    .dataframe tbody tr th {\n",
       "        vertical-align: top;\n",
       "    }\n",
       "\n",
       "    .dataframe thead th {\n",
       "        text-align: right;\n",
       "    }\n",
       "</style>\n",
       "<table border=\"1\" class=\"dataframe\">\n",
       "  <thead>\n",
       "    <tr style=\"text-align: right;\">\n",
       "      <th></th>\n",
       "      <th>Accuracy</th>\n",
       "      <th>Recall</th>\n",
       "      <th>Precision</th>\n",
       "      <th>F1</th>\n",
       "    </tr>\n",
       "  </thead>\n",
       "  <tbody>\n",
       "    <tr>\n",
       "      <th>0</th>\n",
       "      <td>0.573034</td>\n",
       "      <td>0.684211</td>\n",
       "      <td>0.288889</td>\n",
       "      <td>0.40625</td>\n",
       "    </tr>\n",
       "  </tbody>\n",
       "</table>\n",
       "</div>"
      ],
      "text/plain": [
       "   Accuracy    Recall  Precision       F1\n",
       "0  0.573034  0.684211   0.288889  0.40625"
      ]
     },
     "execution_count": 120,
     "metadata": {},
     "output_type": "execute_result"
    },
    {
     "data": {
      "application/javascript": [
       "\n",
       "            setTimeout(function() {\n",
       "                var nbb_cell_id = 120;\n",
       "                var nbb_unformatted_code = \"# Calculating different metrics on validation set\\nlog_reg_under_val_perf = model_performance_classification_sklearn(\\n    log_reg_under, X_val, y_val\\n)\\nprint(\\\"Validation performance:\\\")\\nlog_reg_under_val_perf\";\n",
       "                var nbb_formatted_code = \"# Calculating different metrics on validation set\\nlog_reg_under_val_perf = model_performance_classification_sklearn(\\n    log_reg_under, X_val, y_val\\n)\\nprint(\\\"Validation performance:\\\")\\nlog_reg_under_val_perf\";\n",
       "                var nbb_cells = Jupyter.notebook.get_cells();\n",
       "                for (var i = 0; i < nbb_cells.length; ++i) {\n",
       "                    if (nbb_cells[i].input_prompt_number == nbb_cell_id) {\n",
       "                        if (nbb_cells[i].get_text() == nbb_unformatted_code) {\n",
       "                             nbb_cells[i].set_text(nbb_formatted_code);\n",
       "                        }\n",
       "                        break;\n",
       "                    }\n",
       "                }\n",
       "            }, 500);\n",
       "            "
      ],
      "text/plain": [
       "<IPython.core.display.Javascript object>"
      ]
     },
     "metadata": {},
     "output_type": "display_data"
    }
   ],
   "source": [
    "# Calculating different metrics on validation set\n",
    "log_reg_under_val_perf = model_performance_classification_sklearn(\n",
    "    log_reg_under, X_val, y_val\n",
    ")\n",
    "print(\"Validation performance:\")\n",
    "log_reg_under_val_perf"
   ]
  },
  {
   "cell_type": "code",
   "execution_count": 121,
   "metadata": {},
   "outputs": [
    {
     "data": {
      "image/png": "[encoded data removed]",
      "text/plain": [
       "<Figure size 432x288 with 2 Axes>"
      ]
     },
     "metadata": {
      "needs_background": "light"
     },
     "output_type": "display_data"
    },
    {
     "data": {
      "application/javascript": [
       "\n",
       "            setTimeout(function() {\n",
       "                var nbb_cell_id = 121;\n",
       "                var nbb_unformatted_code = \"# creating confusion matrix\\nconfusion_matrix_sklearn(log_reg_under, X_val, y_val)\";\n",
       "                var nbb_formatted_code = \"# creating confusion matrix\\nconfusion_matrix_sklearn(log_reg_under, X_val, y_val)\";\n",
       "                var nbb_cells = Jupyter.notebook.get_cells();\n",
       "                for (var i = 0; i < nbb_cells.length; ++i) {\n",
       "                    if (nbb_cells[i].input_prompt_number == nbb_cell_id) {\n",
       "                        if (nbb_cells[i].get_text() == nbb_unformatted_code) {\n",
       "                             nbb_cells[i].set_text(nbb_formatted_code);\n",
       "                        }\n",
       "                        break;\n",
       "                    }\n",
       "                }\n",
       "            }, 500);\n",
       "            "
      ],
      "text/plain": [
       "<IPython.core.display.Javascript object>"
      ]
     },
     "metadata": {},
     "output_type": "display_data"
    }
   ],
   "source": [
    "# creating confusion matrix\n",
    "confusion_matrix_sklearn(log_reg_under, X_val, y_val)"
   ]
  },
  {
   "cell_type": "markdown",
   "metadata": {},
   "source": [
    "* Model has given similar recall on training and validation set.\n",
    "* Model performance has improved using undersampling. "
   ]
  },
  {
   "cell_type": "code",
   "execution_count": 122,
   "metadata": {},
   "outputs": [
    {
     "name": "stdout",
     "output_type": "stream",
     "text": [
      "Training performance comparison:\n"
     ]
    },
    {
     "data": {
      "text/html": [
       "<div>\n",
       "<style scoped>\n",
       "    .dataframe tbody tr th:only-of-type {\n",
       "        vertical-align: middle;\n",
       "    }\n",
       "\n",
       "    .dataframe tbody tr th {\n",
       "        vertical-align: top;\n",
       "    }\n",
       "\n",
       "    .dataframe thead th {\n",
       "        text-align: right;\n",
       "    }\n",
       "</style>\n",
       "<table border=\"1\" class=\"dataframe\">\n",
       "  <thead>\n",
       "    <tr style=\"text-align: right;\">\n",
       "      <th></th>\n",
       "      <th>Logistic Regression</th>\n",
       "      <th>Logistic Regression with oversampled data</th>\n",
       "      <th>Regularised Logistic Regression</th>\n",
       "      <th>Logistic Regression with undersampled data</th>\n",
       "    </tr>\n",
       "  </thead>\n",
       "  <tbody>\n",
       "    <tr>\n",
       "      <th>Accuracy</th>\n",
       "      <td>0.787992</td>\n",
       "      <td>0.674224</td>\n",
       "      <td>0.674224</td>\n",
       "      <td>0.706140</td>\n",
       "    </tr>\n",
       "    <tr>\n",
       "      <th>Recall</th>\n",
       "      <td>0.035088</td>\n",
       "      <td>0.775656</td>\n",
       "      <td>0.775656</td>\n",
       "      <td>0.842105</td>\n",
       "    </tr>\n",
       "    <tr>\n",
       "      <th>Precision</th>\n",
       "      <td>0.571429</td>\n",
       "      <td>0.644841</td>\n",
       "      <td>0.644841</td>\n",
       "      <td>0.662069</td>\n",
       "    </tr>\n",
       "    <tr>\n",
       "      <th>F1</th>\n",
       "      <td>0.066116</td>\n",
       "      <td>0.704225</td>\n",
       "      <td>0.704225</td>\n",
       "      <td>0.741313</td>\n",
       "    </tr>\n",
       "  </tbody>\n",
       "</table>\n",
       "</div>"
      ],
      "text/plain": [
       "           Logistic Regression  Logistic Regression with oversampled data  \\\n",
       "Accuracy              0.787992                                   0.674224   \n",
       "Recall                0.035088                                   0.775656   \n",
       "Precision             0.571429                                   0.644841   \n",
       "F1                    0.066116                                   0.704225   \n",
       "\n",
       "           Regularised Logistic Regression  \\\n",
       "Accuracy                          0.674224   \n",
       "Recall                            0.775656   \n",
       "Precision                         0.644841   \n",
       "F1                                0.704225   \n",
       "\n",
       "           Logistic Regression with undersampled data  \n",
       "Accuracy                                     0.706140  \n",
       "Recall                                       0.842105  \n",
       "Precision                                    0.662069  \n",
       "F1                                           0.741313  "
      ]
     },
     "execution_count": 122,
     "metadata": {},
     "output_type": "execute_result"
    },
    {
     "data": {
      "application/javascript": [
       "\n",
       "            setTimeout(function() {\n",
       "                var nbb_cell_id = 122;\n",
       "                var nbb_unformatted_code = \"# training performance comparison\\n\\nmodels_train_comp_df = pd.concat(\\n    [\\n        log_reg_model_train_perf.T,\\n        log_reg_over_train_perf.T,\\n        log_reg_reg_train_perf.T,\\n        log_reg_under_train_perf.T,\\n    ],\\n    axis=1,\\n)\\nmodels_train_comp_df.columns = [\\n    \\\"Logistic Regression\\\",\\n    \\\"Logistic Regression with oversampled data\\\",\\n    \\\"Regularised Logistic Regression\\\",\\n    \\\"Logistic Regression with undersampled data\\\",\\n]\\nprint(\\\"Training performance comparison:\\\")\\nmodels_train_comp_df\";\n",
       "                var nbb_formatted_code = \"# training performance comparison\\n\\nmodels_train_comp_df = pd.concat(\\n    [\\n        log_reg_model_train_perf.T,\\n        log_reg_over_train_perf.T,\\n        log_reg_reg_train_perf.T,\\n        log_reg_under_train_perf.T,\\n    ],\\n    axis=1,\\n)\\nmodels_train_comp_df.columns = [\\n    \\\"Logistic Regression\\\",\\n    \\\"Logistic Regression with oversampled data\\\",\\n    \\\"Regularised Logistic Regression\\\",\\n    \\\"Logistic Regression with undersampled data\\\",\\n]\\nprint(\\\"Training performance comparison:\\\")\\nmodels_train_comp_df\";\n",
       "                var nbb_cells = Jupyter.notebook.get_cells();\n",
       "                for (var i = 0; i < nbb_cells.length; ++i) {\n",
       "                    if (nbb_cells[i].input_prompt_number == nbb_cell_id) {\n",
       "                        if (nbb_cells[i].get_text() == nbb_unformatted_code) {\n",
       "                             nbb_cells[i].set_text(nbb_formatted_code);\n",
       "                        }\n",
       "                        break;\n",
       "                    }\n",
       "                }\n",
       "            }, 500);\n",
       "            "
      ],
      "text/plain": [
       "<IPython.core.display.Javascript object>"
      ]
     },
     "metadata": {},
     "output_type": "display_data"
    }
   ],
   "source": [
    "# training performance comparison\n",
    "\n",
    "models_train_comp_df = pd.concat(\n",
    "    [\n",
    "        log_reg_model_train_perf.T,\n",
    "        log_reg_over_train_perf.T,\n",
    "        log_reg_reg_train_perf.T,\n",
    "        log_reg_under_train_perf.T,\n",
    "    ],\n",
    "    axis=1,\n",
    ")\n",
    "models_train_comp_df.columns = [\n",
    "    \"Logistic Regression\",\n",
    "    \"Logistic Regression with oversampled data\",\n",
    "    \"Regularised Logistic Regression\",\n",
    "    \"Logistic Regression with undersampled data\",\n",
    "]\n",
    "print(\"Training performance comparison:\")\n",
    "models_train_comp_df"
   ]
  },
  {
   "cell_type": "code",
   "execution_count": 123,
   "metadata": {},
   "outputs": [
    {
     "name": "stdout",
     "output_type": "stream",
     "text": [
      "Validation performance comparison:\n"
     ]
    },
    {
     "data": {
      "text/html": [
       "<div>\n",
       "<style scoped>\n",
       "    .dataframe tbody tr th:only-of-type {\n",
       "        vertical-align: middle;\n",
       "    }\n",
       "\n",
       "    .dataframe tbody tr th {\n",
       "        vertical-align: top;\n",
       "    }\n",
       "\n",
       "    .dataframe thead th {\n",
       "        text-align: right;\n",
       "    }\n",
       "</style>\n",
       "<table border=\"1\" class=\"dataframe\">\n",
       "  <thead>\n",
       "    <tr style=\"text-align: right;\">\n",
       "      <th></th>\n",
       "      <th>Logistic Regression</th>\n",
       "      <th>Logistic Regression with oversampled data</th>\n",
       "      <th>Regularised Logistic Regression</th>\n",
       "      <th>Logistic Regression with undersampled data</th>\n",
       "    </tr>\n",
       "  </thead>\n",
       "  <tbody>\n",
       "    <tr>\n",
       "      <th>Accuracy</th>\n",
       "      <td>0.769663</td>\n",
       "      <td>0.601124</td>\n",
       "      <td>0.601124</td>\n",
       "      <td>0.573034</td>\n",
       "    </tr>\n",
       "    <tr>\n",
       "      <th>Recall</th>\n",
       "      <td>0.026316</td>\n",
       "      <td>0.631579</td>\n",
       "      <td>0.631579</td>\n",
       "      <td>0.684211</td>\n",
       "    </tr>\n",
       "    <tr>\n",
       "      <th>Precision</th>\n",
       "      <td>0.200000</td>\n",
       "      <td>0.296296</td>\n",
       "      <td>0.296296</td>\n",
       "      <td>0.288889</td>\n",
       "    </tr>\n",
       "    <tr>\n",
       "      <th>F1</th>\n",
       "      <td>0.046512</td>\n",
       "      <td>0.403361</td>\n",
       "      <td>0.403361</td>\n",
       "      <td>0.406250</td>\n",
       "    </tr>\n",
       "  </tbody>\n",
       "</table>\n",
       "</div>"
      ],
      "text/plain": [
       "           Logistic Regression  Logistic Regression with oversampled data  \\\n",
       "Accuracy              0.769663                                   0.601124   \n",
       "Recall                0.026316                                   0.631579   \n",
       "Precision             0.200000                                   0.296296   \n",
       "F1                    0.046512                                   0.403361   \n",
       "\n",
       "           Regularised Logistic Regression  \\\n",
       "Accuracy                          0.601124   \n",
       "Recall                            0.631579   \n",
       "Precision                         0.296296   \n",
       "F1                                0.403361   \n",
       "\n",
       "           Logistic Regression with undersampled data  \n",
       "Accuracy                                     0.573034  \n",
       "Recall                                       0.684211  \n",
       "Precision                                    0.288889  \n",
       "F1                                           0.406250  "
      ]
     },
     "execution_count": 123,
     "metadata": {},
     "output_type": "execute_result"
    },
    {
     "data": {
      "application/javascript": [
       "\n",
       "            setTimeout(function() {\n",
       "                var nbb_cell_id = 123;\n",
       "                var nbb_unformatted_code = \"# Validation performance comparison\\n\\nmodels_train_comp_df = pd.concat(\\n    [\\n        log_reg_model_val_perf.T,\\n        log_reg_over_val_perf.T,\\n        log_reg_reg_val_perf.T,\\n        log_reg_under_val_perf.T,\\n    ],\\n    axis=1,\\n)\\nmodels_train_comp_df.columns = [\\n    \\\"Logistic Regression\\\",\\n    \\\"Logistic Regression with oversampled data\\\",\\n    \\\"Regularised Logistic Regression\\\",\\n    \\\"Logistic Regression with undersampled data\\\",\\n]\\nprint(\\\"Validation performance comparison:\\\")\\nmodels_train_comp_df\";\n",
       "                var nbb_formatted_code = \"# Validation performance comparison\\n\\nmodels_train_comp_df = pd.concat(\\n    [\\n        log_reg_model_val_perf.T,\\n        log_reg_over_val_perf.T,\\n        log_reg_reg_val_perf.T,\\n        log_reg_under_val_perf.T,\\n    ],\\n    axis=1,\\n)\\nmodels_train_comp_df.columns = [\\n    \\\"Logistic Regression\\\",\\n    \\\"Logistic Regression with oversampled data\\\",\\n    \\\"Regularised Logistic Regression\\\",\\n    \\\"Logistic Regression with undersampled data\\\",\\n]\\nprint(\\\"Validation performance comparison:\\\")\\nmodels_train_comp_df\";\n",
       "                var nbb_cells = Jupyter.notebook.get_cells();\n",
       "                for (var i = 0; i < nbb_cells.length; ++i) {\n",
       "                    if (nbb_cells[i].input_prompt_number == nbb_cell_id) {\n",
       "                        if (nbb_cells[i].get_text() == nbb_unformatted_code) {\n",
       "                             nbb_cells[i].set_text(nbb_formatted_code);\n",
       "                        }\n",
       "                        break;\n",
       "                    }\n",
       "                }\n",
       "            }, 500);\n",
       "            "
      ],
      "text/plain": [
       "<IPython.core.display.Javascript object>"
      ]
     },
     "metadata": {},
     "output_type": "display_data"
    }
   ],
   "source": [
    "# Validation performance comparison\n",
    "\n",
    "models_train_comp_df = pd.concat(\n",
    "    [\n",
    "        log_reg_model_val_perf.T,\n",
    "        log_reg_over_val_perf.T,\n",
    "        log_reg_reg_val_perf.T,\n",
    "        log_reg_under_val_perf.T,\n",
    "    ],\n",
    "    axis=1,\n",
    ")\n",
    "models_train_comp_df.columns = [\n",
    "    \"Logistic Regression\",\n",
    "    \"Logistic Regression with oversampled data\",\n",
    "    \"Regularised Logistic Regression\",\n",
    "    \"Logistic Regression with undersampled data\",\n",
    "]\n",
    "print(\"Validation performance comparison:\")\n",
    "models_train_comp_df"
   ]
  },
  {
   "cell_type": "markdown",
   "metadata": {},
   "source": [
    "* Logistic regression model on undersampled data has given a better performance with the highest recall on validation data."
   ]
  },
  {
   "cell_type": "markdown",
   "metadata": {},
   "source": [
    "### We can see that model tuned using undersampled data is best, let's check the performance of test data"
   ]
  },
  {
   "cell_type": "code",
   "execution_count": 124,
   "metadata": {
    "scrolled": true
   },
   "outputs": [
    {
     "name": "stdout",
     "output_type": "stream",
     "text": [
      "Test performance:\n"
     ]
    },
    {
     "data": {
      "text/html": [
       "<div>\n",
       "<style scoped>\n",
       "    .dataframe tbody tr th:only-of-type {\n",
       "        vertical-align: middle;\n",
       "    }\n",
       "\n",
       "    .dataframe tbody tr th {\n",
       "        vertical-align: top;\n",
       "    }\n",
       "\n",
       "    .dataframe thead th {\n",
       "        text-align: right;\n",
       "    }\n",
       "</style>\n",
       "<table border=\"1\" class=\"dataframe\">\n",
       "  <thead>\n",
       "    <tr style=\"text-align: right;\">\n",
       "      <th></th>\n",
       "      <th>Accuracy</th>\n",
       "      <th>Recall</th>\n",
       "      <th>Precision</th>\n",
       "      <th>F1</th>\n",
       "    </tr>\n",
       "  </thead>\n",
       "  <tbody>\n",
       "    <tr>\n",
       "      <th>0</th>\n",
       "      <td>0.511236</td>\n",
       "      <td>0.710526</td>\n",
       "      <td>0.262136</td>\n",
       "      <td>0.382979</td>\n",
       "    </tr>\n",
       "  </tbody>\n",
       "</table>\n",
       "</div>"
      ],
      "text/plain": [
       "   Accuracy    Recall  Precision        F1\n",
       "0  0.511236  0.710526   0.262136  0.382979"
      ]
     },
     "execution_count": 124,
     "metadata": {},
     "output_type": "execute_result"
    },
    {
     "data": {
      "application/javascript": [
       "\n",
       "            setTimeout(function() {\n",
       "                var nbb_cell_id = 124;\n",
       "                var nbb_unformatted_code = \"# Calculating different metrics on validation set\\nlog_reg_under_test_perf = model_performance_classification_sklearn(\\n    log_reg_under, X_test, y_test\\n)\\nprint(\\\"Test performance:\\\")\\nlog_reg_under_test_perf\";\n",
       "                var nbb_formatted_code = \"# Calculating different metrics on validation set\\nlog_reg_under_test_perf = model_performance_classification_sklearn(\\n    log_reg_under, X_test, y_test\\n)\\nprint(\\\"Test performance:\\\")\\nlog_reg_under_test_perf\";\n",
       "                var nbb_cells = Jupyter.notebook.get_cells();\n",
       "                for (var i = 0; i < nbb_cells.length; ++i) {\n",
       "                    if (nbb_cells[i].input_prompt_number == nbb_cell_id) {\n",
       "                        if (nbb_cells[i].get_text() == nbb_unformatted_code) {\n",
       "                             nbb_cells[i].set_text(nbb_formatted_code);\n",
       "                        }\n",
       "                        break;\n",
       "                    }\n",
       "                }\n",
       "            }, 500);\n",
       "            "
      ],
      "text/plain": [
       "<IPython.core.display.Javascript object>"
      ]
     },
     "metadata": {},
     "output_type": "display_data"
    }
   ],
   "source": [
    "# Calculating different metrics on validation set\n",
    "log_reg_under_test_perf = model_performance_classification_sklearn(\n",
    "    log_reg_under, X_test, y_test\n",
    ")\n",
    "print(\"Test performance:\")\n",
    "log_reg_under_test_perf"
   ]
  },
  {
   "cell_type": "code",
   "execution_count": 125,
   "metadata": {
    "scrolled": false
   },
   "outputs": [
    {
     "data": {
      "image/png": "[encoded data removed]",
      "text/plain": [
       "<Figure size 432x288 with 2 Axes>"
      ]
     },
     "metadata": {
      "needs_background": "light"
     },
     "output_type": "display_data"
    },
    {
     "data": {
      "application/javascript": [
       "\n",
       "            setTimeout(function() {\n",
       "                var nbb_cell_id = 125;\n",
       "                var nbb_unformatted_code = \"# creating confusion matrix\\nconfusion_matrix_sklearn(log_reg_under, X_test, y_test)\";\n",
       "                var nbb_formatted_code = \"# creating confusion matrix\\nconfusion_matrix_sklearn(log_reg_under, X_test, y_test)\";\n",
       "                var nbb_cells = Jupyter.notebook.get_cells();\n",
       "                for (var i = 0; i < nbb_cells.length; ++i) {\n",
       "                    if (nbb_cells[i].input_prompt_number == nbb_cell_id) {\n",
       "                        if (nbb_cells[i].get_text() == nbb_unformatted_code) {\n",
       "                             nbb_cells[i].set_text(nbb_formatted_code);\n",
       "                        }\n",
       "                        break;\n",
       "                    }\n",
       "                }\n",
       "            }, 500);\n",
       "            "
      ],
      "text/plain": [
       "<IPython.core.display.Javascript object>"
      ]
     },
     "metadata": {},
     "output_type": "display_data"
    }
   ],
   "source": [
    "# creating confusion matrix\n",
    "confusion_matrix_sklearn(log_reg_under, X_test, y_test)"
   ]
  },
  {
   "cell_type": "markdown",
   "metadata": {},
   "source": [
    "- Model trained with undersampled data has given ~68% recall on the test set.\n"
   ]
  },
  {
   "cell_type": "markdown",
   "metadata": {},
   "source": [
    "### Finding the coefficients"
   ]
  },
  {
   "cell_type": "code",
   "execution_count": 126,
   "metadata": {
    "scrolled": true
   },
   "outputs": [
    {
     "data": {
      "text/html": [
       "<div>\n",
       "<style scoped>\n",
       "    .dataframe tbody tr th:only-of-type {\n",
       "        vertical-align: middle;\n",
       "    }\n",
       "\n",
       "    .dataframe tbody tr th {\n",
       "        vertical-align: top;\n",
       "    }\n",
       "\n",
       "    .dataframe thead th {\n",
       "        text-align: right;\n",
       "    }\n",
       "</style>\n",
       "<table border=\"1\" class=\"dataframe\">\n",
       "  <thead>\n",
       "    <tr style=\"text-align: right;\">\n",
       "      <th></th>\n",
       "      <th>Chain_smoker</th>\n",
       "      <th>Consumes_other_tobacco_products</th>\n",
       "      <th>HighBP</th>\n",
       "      <th>Obese</th>\n",
       "      <th>Diabetes</th>\n",
       "      <th>Metabolic_syndrome</th>\n",
       "      <th>Use_of_stimulant_drugs</th>\n",
       "      <th>Family_history</th>\n",
       "      <th>History_of_preeclampsia</th>\n",
       "      <th>CABG_history</th>\n",
       "      <th>Respiratory_illness</th>\n",
       "      <th>Gender_Male</th>\n",
       "      <th>Gender_Other</th>\n",
       "      <th>Intercept</th>\n",
       "    </tr>\n",
       "  </thead>\n",
       "  <tbody>\n",
       "    <tr>\n",
       "      <th>Coefficients</th>\n",
       "      <td>-1.763111</td>\n",
       "      <td>0.294</td>\n",
       "      <td>0.958165</td>\n",
       "      <td>-0.143096</td>\n",
       "      <td>-0.053194</td>\n",
       "      <td>-0.256596</td>\n",
       "      <td>0.143096</td>\n",
       "      <td>1.401548</td>\n",
       "      <td>-0.178072</td>\n",
       "      <td>-1.103245</td>\n",
       "      <td>0.231086</td>\n",
       "      <td>0.947281</td>\n",
       "      <td>1.004486</td>\n",
       "      <td>-2.088532</td>\n",
       "    </tr>\n",
       "  </tbody>\n",
       "</table>\n",
       "</div>"
      ],
      "text/plain": [
       "              Chain_smoker  Consumes_other_tobacco_products    HighBP  \\\n",
       "Coefficients     -1.763111                            0.294  0.958165   \n",
       "\n",
       "                 Obese  Diabetes  Metabolic_syndrome  Use_of_stimulant_drugs  \\\n",
       "Coefficients -0.143096 -0.053194           -0.256596                0.143096   \n",
       "\n",
       "              Family_history  History_of_preeclampsia  CABG_history  \\\n",
       "Coefficients        1.401548                -0.178072     -1.103245   \n",
       "\n",
       "              Respiratory_illness  Gender_Male  Gender_Other  Intercept  \n",
       "Coefficients             0.231086     0.947281      1.004486  -2.088532  "
      ]
     },
     "execution_count": 126,
     "metadata": {},
     "output_type": "execute_result"
    },
    {
     "data": {
      "application/javascript": [
       "\n",
       "            setTimeout(function() {\n",
       "                var nbb_cell_id = 126;\n",
       "                var nbb_unformatted_code = \"# let us check the coefficients and intercept of the model (lin. and log. reg. sklearn)\\n\\ncoef_df = pd.DataFrame(\\n    np.append(log_reg_under.coef_, log_reg_under.intercept_),\\n    index=X_train.columns.tolist() + [\\\"Intercept\\\"],\\n    columns=[\\\"Coefficients\\\"],\\n)\\ncoef_df.T\";\n",
       "                var nbb_formatted_code = \"# let us check the coefficients and intercept of the model (lin. and log. reg. sklearn)\\n\\ncoef_df = pd.DataFrame(\\n    np.append(log_reg_under.coef_, log_reg_under.intercept_),\\n    index=X_train.columns.tolist() + [\\\"Intercept\\\"],\\n    columns=[\\\"Coefficients\\\"],\\n)\\ncoef_df.T\";\n",
       "                var nbb_cells = Jupyter.notebook.get_cells();\n",
       "                for (var i = 0; i < nbb_cells.length; ++i) {\n",
       "                    if (nbb_cells[i].input_prompt_number == nbb_cell_id) {\n",
       "                        if (nbb_cells[i].get_text() == nbb_unformatted_code) {\n",
       "                             nbb_cells[i].set_text(nbb_formatted_code);\n",
       "                        }\n",
       "                        break;\n",
       "                    }\n",
       "                }\n",
       "            }, 500);\n",
       "            "
      ],
      "text/plain": [
       "<IPython.core.display.Javascript object>"
      ]
     },
     "metadata": {},
     "output_type": "display_data"
    }
   ],
   "source": [
    "# let us check the coefficients and intercept of the model (lin. and log. reg. sklearn)\n",
    "\n",
    "coef_df = pd.DataFrame(\n",
    "    np.append(log_reg_under.coef_, log_reg_under.intercept_),\n",
    "    index=X_train.columns.tolist() + [\"Intercept\"],\n",
    "    columns=[\"Coefficients\"],\n",
    ")\n",
    "coef_df.T"
   ]
  },
  {
   "cell_type": "markdown",
   "metadata": {},
   "source": [
    "### Coefficient interpretations\n",
    "\n",
    "* Coefficient of gender_Other, relevent_experience_No relevant experience, company_type_Other, last_new_job_2, etc are positive, increase in these will lead to an increase in chances of a person looking for a job change\n",
    "* Coefficient of city_development_index, training_hours, city_Developing, city_Developing, etc are negative increase in these will lead to a decrease in chances of a person not looking for a job change"
   ]
  },
  {
   "cell_type": "markdown",
   "metadata": {},
   "source": [
    "###  Converting coefficients to odds\n",
    "\n",
    "* The coefficients of the logistic regression model are in terms of log(odd), to find the odds we have to take the exponential of the coefficients. \n",
    "* Therefore, **odds =  exp(b)**\n",
    "* The percentage change in odds is given as **odds = (exp(b) - 1) * 100**"
   ]
  },
  {
   "cell_type": "markdown",
   "metadata": {},
   "source": [
    "* Odds from coefficients"
   ]
  },
  {
   "cell_type": "code",
   "execution_count": 127,
   "metadata": {
    "scrolled": false
   },
   "outputs": [
    {
     "data": {
      "text/html": [
       "<div>\n",
       "<style scoped>\n",
       "    .dataframe tbody tr th:only-of-type {\n",
       "        vertical-align: middle;\n",
       "    }\n",
       "\n",
       "    .dataframe tbody tr th {\n",
       "        vertical-align: top;\n",
       "    }\n",
       "\n",
       "    .dataframe thead th {\n",
       "        text-align: right;\n",
       "    }\n",
       "</style>\n",
       "<table border=\"1\" class=\"dataframe\">\n",
       "  <thead>\n",
       "    <tr style=\"text-align: right;\">\n",
       "      <th></th>\n",
       "      <th>Chain_smoker</th>\n",
       "      <th>Consumes_other_tobacco_products</th>\n",
       "      <th>HighBP</th>\n",
       "      <th>Obese</th>\n",
       "      <th>Diabetes</th>\n",
       "      <th>Metabolic_syndrome</th>\n",
       "      <th>Use_of_stimulant_drugs</th>\n",
       "      <th>Family_history</th>\n",
       "      <th>History_of_preeclampsia</th>\n",
       "      <th>CABG_history</th>\n",
       "      <th>Respiratory_illness</th>\n",
       "      <th>Gender_Male</th>\n",
       "      <th>Gender_Other</th>\n",
       "    </tr>\n",
       "  </thead>\n",
       "  <tbody>\n",
       "    <tr>\n",
       "      <th>odds</th>\n",
       "      <td>0.171511</td>\n",
       "      <td>1.341784</td>\n",
       "      <td>2.606909</td>\n",
       "      <td>0.866671</td>\n",
       "      <td>0.948196</td>\n",
       "      <td>0.773681</td>\n",
       "      <td>1.153841</td>\n",
       "      <td>4.061481</td>\n",
       "      <td>0.836882</td>\n",
       "      <td>0.331793</td>\n",
       "      <td>1.259967</td>\n",
       "      <td>2.578688</td>\n",
       "      <td>2.730505</td>\n",
       "    </tr>\n",
       "  </tbody>\n",
       "</table>\n",
       "</div>"
      ],
      "text/plain": [
       "      Chain_smoker  Consumes_other_tobacco_products    HighBP     Obese  \\\n",
       "odds      0.171511                         1.341784  2.606909  0.866671   \n",
       "\n",
       "      Diabetes  Metabolic_syndrome  Use_of_stimulant_drugs  Family_history  \\\n",
       "odds  0.948196            0.773681                1.153841        4.061481   \n",
       "\n",
       "      History_of_preeclampsia  CABG_history  Respiratory_illness  Gender_Male  \\\n",
       "odds                 0.836882      0.331793             1.259967     2.578688   \n",
       "\n",
       "      Gender_Other  \n",
       "odds      2.730505  "
      ]
     },
     "execution_count": 127,
     "metadata": {},
     "output_type": "execute_result"
    },
    {
     "data": {
      "application/javascript": [
       "\n",
       "            setTimeout(function() {\n",
       "                var nbb_cell_id = 127;\n",
       "                var nbb_unformatted_code = \"odds = np.exp(log_reg_under.coef_[0])  # converting coefficients to odds\\npd.set_option(\\n    \\\"display.max_columns\\\", None\\n)  # removing limit from number of columns to display\\npd.DataFrame(\\n    odds, X_train.columns, columns=[\\\"odds\\\"]\\n).T  # adding the odds to a dataframe\";\n",
       "                var nbb_formatted_code = \"odds = np.exp(log_reg_under.coef_[0])  # converting coefficients to odds\\npd.set_option(\\n    \\\"display.max_columns\\\", None\\n)  # removing limit from number of columns to display\\npd.DataFrame(\\n    odds, X_train.columns, columns=[\\\"odds\\\"]\\n).T  # adding the odds to a dataframe\";\n",
       "                var nbb_cells = Jupyter.notebook.get_cells();\n",
       "                for (var i = 0; i < nbb_cells.length; ++i) {\n",
       "                    if (nbb_cells[i].input_prompt_number == nbb_cell_id) {\n",
       "                        if (nbb_cells[i].get_text() == nbb_unformatted_code) {\n",
       "                             nbb_cells[i].set_text(nbb_formatted_code);\n",
       "                        }\n",
       "                        break;\n",
       "                    }\n",
       "                }\n",
       "            }, 500);\n",
       "            "
      ],
      "text/plain": [
       "<IPython.core.display.Javascript object>"
      ]
     },
     "metadata": {},
     "output_type": "display_data"
    }
   ],
   "source": [
    "odds = np.exp(log_reg_under.coef_[0])  # converting coefficients to odds\n",
    "pd.set_option(\n",
    "    \"display.max_columns\", None\n",
    ")  # removing limit from number of columns to display\n",
    "pd.DataFrame(\n",
    "    odds, X_train.columns, columns=[\"odds\"]\n",
    ").T  # adding the odds to a dataframe"
   ]
  },
  {
   "cell_type": "markdown",
   "metadata": {},
   "source": [
    "* Percentage change in odds"
   ]
  },
  {
   "cell_type": "code",
   "execution_count": 128,
   "metadata": {},
   "outputs": [
    {
     "data": {
      "text/html": [
       "<div>\n",
       "<style scoped>\n",
       "    .dataframe tbody tr th:only-of-type {\n",
       "        vertical-align: middle;\n",
       "    }\n",
       "\n",
       "    .dataframe tbody tr th {\n",
       "        vertical-align: top;\n",
       "    }\n",
       "\n",
       "    .dataframe thead th {\n",
       "        text-align: right;\n",
       "    }\n",
       "</style>\n",
       "<table border=\"1\" class=\"dataframe\">\n",
       "  <thead>\n",
       "    <tr style=\"text-align: right;\">\n",
       "      <th></th>\n",
       "      <th>Chain_smoker</th>\n",
       "      <th>Consumes_other_tobacco_products</th>\n",
       "      <th>HighBP</th>\n",
       "      <th>Obese</th>\n",
       "      <th>Diabetes</th>\n",
       "      <th>Metabolic_syndrome</th>\n",
       "      <th>Use_of_stimulant_drugs</th>\n",
       "      <th>Family_history</th>\n",
       "      <th>History_of_preeclampsia</th>\n",
       "      <th>CABG_history</th>\n",
       "      <th>Respiratory_illness</th>\n",
       "      <th>Gender_Male</th>\n",
       "      <th>Gender_Other</th>\n",
       "    </tr>\n",
       "  </thead>\n",
       "  <tbody>\n",
       "    <tr>\n",
       "      <th>change_odds%</th>\n",
       "      <td>-82.848947</td>\n",
       "      <td>34.178405</td>\n",
       "      <td>160.690884</td>\n",
       "      <td>-13.332887</td>\n",
       "      <td>-5.180388</td>\n",
       "      <td>-22.631902</td>\n",
       "      <td>15.384076</td>\n",
       "      <td>306.148077</td>\n",
       "      <td>-16.311777</td>\n",
       "      <td>-66.820745</td>\n",
       "      <td>25.996741</td>\n",
       "      <td>157.868782</td>\n",
       "      <td>173.050465</td>\n",
       "    </tr>\n",
       "  </tbody>\n",
       "</table>\n",
       "</div>"
      ],
      "text/plain": [
       "              Chain_smoker  Consumes_other_tobacco_products      HighBP  \\\n",
       "change_odds%    -82.848947                        34.178405  160.690884   \n",
       "\n",
       "                  Obese  Diabetes  Metabolic_syndrome  Use_of_stimulant_drugs  \\\n",
       "change_odds% -13.332887 -5.180388          -22.631902               15.384076   \n",
       "\n",
       "              Family_history  History_of_preeclampsia  CABG_history  \\\n",
       "change_odds%      306.148077               -16.311777    -66.820745   \n",
       "\n",
       "              Respiratory_illness  Gender_Male  Gender_Other  \n",
       "change_odds%            25.996741   157.868782    173.050465  "
      ]
     },
     "execution_count": 128,
     "metadata": {},
     "output_type": "execute_result"
    },
    {
     "data": {
      "application/javascript": [
       "\n",
       "            setTimeout(function() {\n",
       "                var nbb_cell_id = 128;\n",
       "                var nbb_unformatted_code = \"perc_change_odds = (\\n    np.exp(log_reg_under.coef_[0]) - 1\\n) * 100  # finding the percentage change\\npd.set_option(\\n    \\\"display.max_columns\\\", None\\n)  # removing limit from number of columns to display\\npd.DataFrame(\\n    perc_change_odds, X_train.columns, columns=[\\\"change_odds%\\\"]\\n).T  # adding the change_odds% to a dataframe\";\n",
       "                var nbb_formatted_code = \"perc_change_odds = (\\n    np.exp(log_reg_under.coef_[0]) - 1\\n) * 100  # finding the percentage change\\npd.set_option(\\n    \\\"display.max_columns\\\", None\\n)  # removing limit from number of columns to display\\npd.DataFrame(\\n    perc_change_odds, X_train.columns, columns=[\\\"change_odds%\\\"]\\n).T  # adding the change_odds% to a dataframe\";\n",
       "                var nbb_cells = Jupyter.notebook.get_cells();\n",
       "                for (var i = 0; i < nbb_cells.length; ++i) {\n",
       "                    if (nbb_cells[i].input_prompt_number == nbb_cell_id) {\n",
       "                        if (nbb_cells[i].get_text() == nbb_unformatted_code) {\n",
       "                             nbb_cells[i].set_text(nbb_formatted_code);\n",
       "                        }\n",
       "                        break;\n",
       "                    }\n",
       "                }\n",
       "            }, 500);\n",
       "            "
      ],
      "text/plain": [
       "<IPython.core.display.Javascript object>"
      ]
     },
     "metadata": {},
     "output_type": "display_data"
    }
   ],
   "source": [
    "perc_change_odds = (\n",
    "    np.exp(log_reg_under.coef_[0]) - 1\n",
    ") * 100  # finding the percentage change\n",
    "pd.set_option(\n",
    "    \"display.max_columns\", None\n",
    ")  # removing limit from number of columns to display\n",
    "pd.DataFrame(\n",
    "    perc_change_odds, X_train.columns, columns=[\"change_odds%\"]\n",
    ").T  # adding the change_odds% to a dataframe"
   ]
  },
  {
   "cell_type": "markdown",
   "metadata": {},
   "source": [
    "### Conclusion"
   ]
  },
  {
   "cell_type": "markdown",
   "metadata": {},
   "source": [
    "* city_developement_index: Holding all other features constant a 1 unit change in city_development_index will decrease the odds of a person looking for a job by 0.26 times or a 73% decrease in odds of looking for a job change\n",
    "\n",
    "* training_hours: Holding all other features constant a 1 unit change in training_hours will decrease the odds of a person looking for a job by 0.99 times or a 0.07% decrease in odds of a person looking for a job change\n",
    "\n",
    "* city - developing/developed: \n",
    "    * The odds of a person who is from a developing city looking for a job change is 0.67 times less than a person who is from an under-developed city or a 32% fewer odds than a person who is from an under-developed city\n",
    "\n",
    "\n",
    "`Interpretation for other attributes can be made similarly.`"
   ]
  },
  {
   "cell_type": "markdown",
   "metadata": {},
   "source": [
    "### Business Insights and Recommendations"
   ]
  },
  {
   "cell_type": "markdown",
   "metadata": {},
   "source": [
    "* As we saw in our analysis and also the logistic regression model shows that several training hours have a very less impact on a person looking to change a job, so the company should not give high importance to this attribute while looking to hire a person.\n",
    "* A person from an under-developed city would highly be looking for a switch and if an enrollee fulfills the criterion of job role they should be given higher preference than enrollees from other cities (developed and underdeveloped).\n",
    "* To have a diverse culture in the company enrollees from other genders can be hired as they are more likely to look for a new job role.\n",
    "* Enrollees with no relevant experience or no experience - generally freshers are more likely to look for a job and such enrollees on fulfilling the criterion of job should be the ones the company should focus on.\n",
    "* Enrollees from early-stage startups, public sectors, or NGOs are more likely to switch to a new role as compared to the ones from the Private sector or Funded startups.\n",
    "* Company size is an important aspect, those enrollees who have been in a company with a higher number of employees (1000-5000 or 10000+) are the ones who are actively looking for a switch - Such enrollees might now be looking for higher roles in team management, or it is much easier for such enrollees to fit into a workplace with so higher exposure to the working environment."
   ]
  },
  {
   "cell_type": "markdown",
   "metadata": {},
   "source": [
    "**Note-**\n",
    "* The aim of this case study is to cover the concepts of week 1 in model tuning, More predictive models and hyperparameter tuning can be tried to improve the model results."
   ]
  }
 ],
 "metadata": {
  "hide_input": false,
  "kernelspec": {
   "display_name": "Python 3 (ipykernel)",
   "language": "python",
   "name": "python3"
  },
  "language_info": {
   "codemirror_mode": {
    "name": "ipython",
    "version": 3
   },
   "file_extension": ".py",
   "mimetype": "text/x-python",
   "name": "python",
   "nbconvert_exporter": "python",
   "pygments_lexer": "ipython3",
   "version": "3.9.7"
  },
  "widgets": {
   "application/vnd.jupyter.widget-state+json": {
    "state": {},
    "version_major": 2,
    "version_minor": 0
   }
  }
 },
 "nbformat": 4,
 "nbformat_minor": 4
}
