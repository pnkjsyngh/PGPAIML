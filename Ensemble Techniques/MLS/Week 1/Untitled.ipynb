{
 "cells": [
  {
   "cell_type": "code",
   "execution_count": null,
   "metadata": {},
   "outputs": [],
   "source": [
    "Original\n",
    "    F1    F2    F3   F4   Y\n",
    "1\n",
    "2\n",
    "3\n",
    "4\n",
    "5\n",
    "6\n",
    "7\n",
    "8\n",
    "9\n",
    "10"
   ]
  },
  {
   "cell_type": "code",
   "execution_count": null,
   "metadata": {},
   "outputs": [],
   "source": [
    "# Statistics:\n",
    "\n",
    "n: # Datapoints -> inf\n",
    "\n",
    "(1-1/n)*(1-1/n)*(1-1/n)*...*(1-1/n) = (1-1/n)**n = 1/exp(1)"
   ]
  },
  {
   "cell_type": "code",
   "execution_count": 45,
   "metadata": {},
   "outputs": [
    {
     "data": {
      "text/plain": [
       "0.3678794513918435"
      ]
     },
     "execution_count": 45,
     "metadata": {},
     "output_type": "execute_result"
    }
   ],
   "source": [
    "n=1000000000\n",
    "\n",
    "(1-1/n)**n"
   ]
  },
  {
   "cell_type": "code",
   "execution_count": 44,
   "metadata": {},
   "outputs": [
    {
     "data": {
      "text/plain": [
       "0.36787944117144233"
      ]
     },
     "execution_count": 44,
     "metadata": {},
     "output_type": "execute_result"
    }
   ],
   "source": [
    "# 36.8% of the datapoints in the original dataset will not end up being in the bootstrap dataset.1\n",
    "unique datapoints -> 63.2%"
   ]
  },
  {
   "cell_type": "code",
   "execution_count": 37,
   "metadata": {},
   "outputs": [
    {
     "data": {
      "text/plain": [
       "7.888609052210162e-131"
      ]
     },
     "execution_count": 37,
     "metadata": {},
     "output_type": "execute_result"
    }
   ],
   "source": []
  },
  {
   "cell_type": "code",
   "execution_count": null,
   "metadata": {},
   "outputs": [],
   "source": [
    "Bagging n_estimators = 5\n",
    "\n",
    "Bootstrap-Dataset.1\n",
    "   F1    F2    F4   Y\n",
    "6\n",
    "1\n",
    "9\n",
    "6\n",
    "7\n",
    "3\n",
    "5\n",
    "3\n",
    "6\n",
    "2\n",
    "\n",
    "Model.1"
   ]
  },
  {
   "cell_type": "code",
   "execution_count": null,
   "metadata": {},
   "outputs": [],
   "source": [
    "Bootstrap.2\n",
    "Bootstrap-Dataset.1\n",
    "     F2    F3   F4   Y\n",
    "4\n",
    "10\n",
    "8\n"
   ]
  },
  {
   "cell_type": "code",
   "execution_count": null,
   "metadata": {},
   "outputs": [],
   "source": [
    "#Bootstrap dataset size = Original Dataset size (e.g., #n)\n",
    "max_samples = 1.0\n",
    "max_features = 1.0"
   ]
  },
  {
   "cell_type": "code",
   "execution_count": null,
   "metadata": {},
   "outputs": [],
   "source": [
    "# Assumption size of Bootstrap == Size of the original dataset"
   ]
  },
  {
   "cell_type": "code",
   "execution_count": null,
   "metadata": {},
   "outputs": [],
   "source": [
    "# Bagging Model:\n",
    "- base_estimator -> SVM, DT, LR, ...\n",
    "- 'max_feature' = 1.0\n",
    "\n",
    "\n",
    "# Random Forest -> forest of trees\n",
    "- base_estimator = DT\n",
    "- 'max_feature' < 1.0\n",
    "- Better Performance!\n",
    "\n",
    "\n"
   ]
  },
  {
   "cell_type": "code",
   "execution_count": null,
   "metadata": {},
   "outputs": [],
   "source": [
    "Dataset-A: F1, F2, F3, F4, F5\n",
    "1\n",
    "2\n",
    "3\n",
    "4\n",
    "5\n",
    "6\n",
    "\n",
    "- DT\n",
    "    - F2\n",
    "        - F3\n",
    "            -F1\n",
    "                - F2\n",
    "                    - F1\n",
    "\n",
    "- Bagging (base_estimator = DT)\n",
    "    - Model1\n",
    "        - F3\n",
    "            - F1\n",
    "                -F1\n",
    "    - Model2\n",
    "        - F4\n",
    "            - F1\n",
    "                -F2\n",
    "                    -F4\n",
    "    "
   ]
  },
  {
   "cell_type": "code",
   "execution_count": null,
   "metadata": {},
   "outputs": [],
   "source": [
    "Shapely, Lime, Counterfactual Explanation"
   ]
  },
  {
   "cell_type": "code",
   "execution_count": null,
   "metadata": {},
   "outputs": [],
   "source": [
    "# Random Forrest\n",
    "\n",
    "'max_feature' = 0.7\n",
    "\n",
    "\n",
    "RF -> base_Estimator = DT\n",
    "\n",
    "RF:\n",
    "    - F2\n",
    "        - "
   ]
  },
  {
   "cell_type": "code",
   "execution_count": null,
   "metadata": {},
   "outputs": [],
   "source": [
    "Original\n",
    "    F1    F2    F3   F4   Y\n",
    "1\n",
    "2\n",
    "3\n",
    "4\n",
    "5\n",
    "6\n",
    "7\n",
    "8\n",
    "9\n",
    "10"
   ]
  },
  {
   "cell_type": "code",
   "execution_count": null,
   "metadata": {},
   "outputs": [],
   "source": [
    "# Bagging\n",
    "10 models (base_EstimatorDT)\n",
    "Bootstrp Dataset1\n",
    "  F1   F2  F3  F4  F5\n",
    "1 \n",
    "3 \n",
    "7 \n",
    "5 \n",
    "3 \n",
    "1 \n",
    "\n"
   ]
  },
  {
   "cell_type": "code",
   "execution_count": null,
   "metadata": {},
   "outputs": [],
   "source": [
    "RF\n",
    "Bootstrp Dataset1\n",
    "  F1   F2  F3  F4  F5\n",
    "1 \n",
    "3 \n",
    "7 \n",
    "5 \n",
    "3 \n",
    "1 \n",
    "\n",
    "\n",
    "\n",
    "   F5\n",
    "  /   \\\n",
    " F3    F4\n"
   ]
  }
 ],
 "metadata": {
  "hide_input": false,
  "kernelspec": {
   "display_name": "Python 3 (ipykernel)",
   "language": "python",
   "name": "python3"
  },
  "language_info": {
   "codemirror_mode": {
    "name": "ipython",
    "version": 3
   },
   "file_extension": ".py",
   "mimetype": "text/x-python",
   "name": "python",
   "nbconvert_exporter": "python",
   "pygments_lexer": "ipython3",
   "version": "3.9.7"
  }
 },
 "nbformat": 4,
 "nbformat_minor": 4
}
