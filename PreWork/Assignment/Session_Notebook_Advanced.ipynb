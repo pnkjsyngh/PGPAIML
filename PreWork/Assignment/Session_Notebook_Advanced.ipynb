{
 "cells": [
  {
   "cell_type": "markdown",
   "metadata": {
    "id": "6OLzY3s37HLf"
   },
   "source": [
    "-----\n",
    "# **Context**\n",
    "-----\n",
    "\n",
    "**WOW Superstore** sells different products like office supplies, furniture and appliances. For each order that is placed, the superstore keeps a record of various attributes related to the product, like state, city, category, subcategory and quantity.\n",
    "\n",
    "**Each row of the data corresponds to a unique order placed.** The detailed description of the attributes recorded are given below:\n",
    "\n",
    "-----\n",
    "## **Data Description**\n",
    "-----\n",
    "\n",
    "1. **Order ID:** Unique ID for an order\n",
    "2. **Ship Mode:** Mode of shipping used for shipment delivery\n",
    "3. **Segment:** Customer segment product was shipped to\n",
    "4. **City:** City in which shipment was delivered\n",
    "5. **State:** State in which the shipment was delivered\n",
    "6. **Region:** State region\n",
    "7. **Category:** The category product belongs to\n",
    "8. **Sub-Category:** Sub-category of the product\n",
    "9. **Sales:** Sale made in USD\n",
    "10. **Quantity:** Product quantity\n",
    "11. **Discount:** Discount given on the product\n",
    "12. **Profit:** Profit/loss made on the sale"
   ]
  },
  {
   "cell_type": "markdown",
   "metadata": {
    "id": "vUIAUfKs7HLi"
   },
   "source": [
    "### **We will first import the Python libraries needed for our analysis**"
   ]
  },
  {
   "cell_type": "code",
   "execution_count": 2,
   "metadata": {
    "id": "ARUZUQIC7HLi"
   },
   "outputs": [],
   "source": [
    "# Load the Pandas library with alias 'pd' - to import and analyze tabular data\n",
    "import pandas as pd\n",
    "\n",
    "# Load the Seaborn library with alias 'sns' -to create visualizations\n",
    "import seaborn as sns"
   ]
  },
  {
   "cell_type": "markdown",
   "metadata": {
    "id": "bPIjx8fD7HLk"
   },
   "source": [
    "### **Let's load the data into a pandas dataframe for analysis**"
   ]
  },
  {
   "cell_type": "markdown",
   "metadata": {
    "id": "-O-qbQ5X83Vd"
   },
   "source": [
    "When you specify a filename to *pandas.read_csv()*, Python will look in your current working directory. Your working directory is typically the directory that you started your Python process or Jupyter notebook from."
   ]
  },
  {
   "cell_type": "code",
   "execution_count": 3,
   "metadata": {
    "id": "V1zaExil7HLk"
   },
   "outputs": [],
   "source": [
    "# Read data from file 'WOW Superstore.csv' \n",
    "# (in the same directory that your python process is based)\n",
    "\n",
    "data = pd.read_csv(\"WOWSuperstore.csv\")"
   ]
  },
  {
   "cell_type": "markdown",
   "metadata": {
    "id": "CGsPsU837HLk"
   },
   "source": [
    "### **Before we begin our analysis, let's take a quick look at our data to get a feel for it**"
   ]
  },
  {
   "cell_type": "markdown",
   "metadata": {
    "id": "bD4Knvbo7HLl"
   },
   "source": [
    "* We can check the first 5 rows of the data using the *head()* function."
   ]
  },
  {
   "cell_type": "code",
   "execution_count": 4,
   "metadata": {
    "id": "GZgpQl7j7HLl",
    "outputId": "44ba00a9-8ef0-4b8e-aff6-38c45be95913"
   },
   "outputs": [
    {
     "data": {
      "text/html": [
       "<div>\n",
       "<style scoped>\n",
       "    .dataframe tbody tr th:only-of-type {\n",
       "        vertical-align: middle;\n",
       "    }\n",
       "\n",
       "    .dataframe tbody tr th {\n",
       "        vertical-align: top;\n",
       "    }\n",
       "\n",
       "    .dataframe thead th {\n",
       "        text-align: right;\n",
       "    }\n",
       "</style>\n",
       "<table border=\"1\" class=\"dataframe\">\n",
       "  <thead>\n",
       "    <tr style=\"text-align: right;\">\n",
       "      <th></th>\n",
       "      <th>Order ID</th>\n",
       "      <th>Ship Mode</th>\n",
       "      <th>Segment</th>\n",
       "      <th>City</th>\n",
       "      <th>State</th>\n",
       "      <th>Region</th>\n",
       "      <th>Category</th>\n",
       "      <th>Sub-Category</th>\n",
       "      <th>Sales</th>\n",
       "      <th>Quantity</th>\n",
       "      <th>Discount</th>\n",
       "      <th>Profit</th>\n",
       "    </tr>\n",
       "  </thead>\n",
       "  <tbody>\n",
       "    <tr>\n",
       "      <th>0</th>\n",
       "      <td>WOWID0001</td>\n",
       "      <td>Standard Class</td>\n",
       "      <td>Consumer</td>\n",
       "      <td>Seattle</td>\n",
       "      <td>Washington</td>\n",
       "      <td>West</td>\n",
       "      <td>Office Supplies</td>\n",
       "      <td>Binders</td>\n",
       "      <td>407.976</td>\n",
       "      <td>3</td>\n",
       "      <td>0.2</td>\n",
       "      <td>132.5922</td>\n",
       "    </tr>\n",
       "    <tr>\n",
       "      <th>1</th>\n",
       "      <td>WOWID0002</td>\n",
       "      <td>Standard Class</td>\n",
       "      <td>Home Office</td>\n",
       "      <td>Fort Worth</td>\n",
       "      <td>Texas</td>\n",
       "      <td>Central</td>\n",
       "      <td>Office Supplies</td>\n",
       "      <td>Appliances</td>\n",
       "      <td>68.810</td>\n",
       "      <td>5</td>\n",
       "      <td>0.8</td>\n",
       "      <td>-123.8580</td>\n",
       "    </tr>\n",
       "    <tr>\n",
       "      <th>2</th>\n",
       "      <td>WOWID0003</td>\n",
       "      <td>Standard Class</td>\n",
       "      <td>Home Office</td>\n",
       "      <td>Fort Worth</td>\n",
       "      <td>Texas</td>\n",
       "      <td>Central</td>\n",
       "      <td>Office Supplies</td>\n",
       "      <td>Binders</td>\n",
       "      <td>2.544</td>\n",
       "      <td>3</td>\n",
       "      <td>0.8</td>\n",
       "      <td>-3.8160</td>\n",
       "    </tr>\n",
       "    <tr>\n",
       "      <th>3</th>\n",
       "      <td>WOWID0004</td>\n",
       "      <td>Standard Class</td>\n",
       "      <td>Consumer</td>\n",
       "      <td>Philadelphia</td>\n",
       "      <td>Pennsylvania</td>\n",
       "      <td>East</td>\n",
       "      <td>Furniture</td>\n",
       "      <td>Bookcases</td>\n",
       "      <td>3083.430</td>\n",
       "      <td>7</td>\n",
       "      <td>0.5</td>\n",
       "      <td>-1665.0522</td>\n",
       "    </tr>\n",
       "    <tr>\n",
       "      <th>4</th>\n",
       "      <td>WOWID0005</td>\n",
       "      <td>Standard Class</td>\n",
       "      <td>Consumer</td>\n",
       "      <td>Philadelphia</td>\n",
       "      <td>Pennsylvania</td>\n",
       "      <td>East</td>\n",
       "      <td>Office Supplies</td>\n",
       "      <td>Binders</td>\n",
       "      <td>9.618</td>\n",
       "      <td>2</td>\n",
       "      <td>0.7</td>\n",
       "      <td>-7.0532</td>\n",
       "    </tr>\n",
       "  </tbody>\n",
       "</table>\n",
       "</div>"
      ],
      "text/plain": [
       "    Order ID       Ship Mode      Segment          City         State  \\\n",
       "0  WOWID0001  Standard Class     Consumer       Seattle    Washington   \n",
       "1  WOWID0002  Standard Class  Home Office    Fort Worth         Texas   \n",
       "2  WOWID0003  Standard Class  Home Office    Fort Worth         Texas   \n",
       "3  WOWID0004  Standard Class     Consumer  Philadelphia  Pennsylvania   \n",
       "4  WOWID0005  Standard Class     Consumer  Philadelphia  Pennsylvania   \n",
       "\n",
       "    Region         Category Sub-Category     Sales  Quantity  Discount  \\\n",
       "0     West  Office Supplies      Binders   407.976         3       0.2   \n",
       "1  Central  Office Supplies   Appliances    68.810         5       0.8   \n",
       "2  Central  Office Supplies      Binders     2.544         3       0.8   \n",
       "3     East        Furniture    Bookcases  3083.430         7       0.5   \n",
       "4     East  Office Supplies      Binders     9.618         2       0.7   \n",
       "\n",
       "      Profit  \n",
       "0   132.5922  \n",
       "1  -123.8580  \n",
       "2    -3.8160  \n",
       "3 -1665.0522  \n",
       "4    -7.0532  "
      ]
     },
     "execution_count": 4,
     "metadata": {},
     "output_type": "execute_result"
    }
   ],
   "source": [
    "data.head()"
   ]
  },
  {
   "cell_type": "markdown",
   "metadata": {
    "id": "VWjlaGAm7HLm"
   },
   "source": [
    "* We can check the last 5 rows of the data using the *tail()* function."
   ]
  },
  {
   "cell_type": "code",
   "execution_count": 5,
   "metadata": {
    "id": "OWqwiImP7HLm",
    "outputId": "07535895-a312-4282-d7ce-8c11ade89b8c"
   },
   "outputs": [
    {
     "data": {
      "text/html": [
       "<div>\n",
       "<style scoped>\n",
       "    .dataframe tbody tr th:only-of-type {\n",
       "        vertical-align: middle;\n",
       "    }\n",
       "\n",
       "    .dataframe tbody tr th {\n",
       "        vertical-align: top;\n",
       "    }\n",
       "\n",
       "    .dataframe thead th {\n",
       "        text-align: right;\n",
       "    }\n",
       "</style>\n",
       "<table border=\"1\" class=\"dataframe\">\n",
       "  <thead>\n",
       "    <tr style=\"text-align: right;\">\n",
       "      <th></th>\n",
       "      <th>Order ID</th>\n",
       "      <th>Ship Mode</th>\n",
       "      <th>Segment</th>\n",
       "      <th>City</th>\n",
       "      <th>State</th>\n",
       "      <th>Region</th>\n",
       "      <th>Category</th>\n",
       "      <th>Sub-Category</th>\n",
       "      <th>Sales</th>\n",
       "      <th>Quantity</th>\n",
       "      <th>Discount</th>\n",
       "      <th>Profit</th>\n",
       "    </tr>\n",
       "  </thead>\n",
       "  <tbody>\n",
       "    <tr>\n",
       "      <th>1945</th>\n",
       "      <td>WOWID1946</td>\n",
       "      <td>Standard Class</td>\n",
       "      <td>Corporate</td>\n",
       "      <td>Philadelphia</td>\n",
       "      <td>Pennsylvania</td>\n",
       "      <td>East</td>\n",
       "      <td>Office Supplies</td>\n",
       "      <td>Paper</td>\n",
       "      <td>3.4240</td>\n",
       "      <td>1</td>\n",
       "      <td>0.20</td>\n",
       "      <td>1.0700</td>\n",
       "    </tr>\n",
       "    <tr>\n",
       "      <th>1946</th>\n",
       "      <td>WOWID1947</td>\n",
       "      <td>Standard Class</td>\n",
       "      <td>Corporate</td>\n",
       "      <td>Philadelphia</td>\n",
       "      <td>Pennsylvania</td>\n",
       "      <td>East</td>\n",
       "      <td>Technology</td>\n",
       "      <td>Accessories</td>\n",
       "      <td>151.2000</td>\n",
       "      <td>3</td>\n",
       "      <td>0.20</td>\n",
       "      <td>32.1300</td>\n",
       "    </tr>\n",
       "    <tr>\n",
       "      <th>1947</th>\n",
       "      <td>WOWID1948</td>\n",
       "      <td>First Class</td>\n",
       "      <td>Home Office</td>\n",
       "      <td>Houston</td>\n",
       "      <td>Texas</td>\n",
       "      <td>Central</td>\n",
       "      <td>Office Supplies</td>\n",
       "      <td>Paper</td>\n",
       "      <td>65.5840</td>\n",
       "      <td>2</td>\n",
       "      <td>0.20</td>\n",
       "      <td>23.7742</td>\n",
       "    </tr>\n",
       "    <tr>\n",
       "      <th>1948</th>\n",
       "      <td>WOWID1949</td>\n",
       "      <td>First Class</td>\n",
       "      <td>Home Office</td>\n",
       "      <td>Houston</td>\n",
       "      <td>Texas</td>\n",
       "      <td>Central</td>\n",
       "      <td>Furniture</td>\n",
       "      <td>Bookcases</td>\n",
       "      <td>383.4656</td>\n",
       "      <td>4</td>\n",
       "      <td>0.32</td>\n",
       "      <td>-67.6704</td>\n",
       "    </tr>\n",
       "    <tr>\n",
       "      <th>1949</th>\n",
       "      <td>WOWID1950</td>\n",
       "      <td>Standard Class</td>\n",
       "      <td>Consumer</td>\n",
       "      <td>Houston</td>\n",
       "      <td>Texas</td>\n",
       "      <td>Central</td>\n",
       "      <td>Office Supplies</td>\n",
       "      <td>Envelopes</td>\n",
       "      <td>99.5680</td>\n",
       "      <td>2</td>\n",
       "      <td>0.20</td>\n",
       "      <td>33.6042</td>\n",
       "    </tr>\n",
       "  </tbody>\n",
       "</table>\n",
       "</div>"
      ],
      "text/plain": [
       "       Order ID       Ship Mode      Segment          City         State  \\\n",
       "1945  WOWID1946  Standard Class    Corporate  Philadelphia  Pennsylvania   \n",
       "1946  WOWID1947  Standard Class    Corporate  Philadelphia  Pennsylvania   \n",
       "1947  WOWID1948     First Class  Home Office       Houston         Texas   \n",
       "1948  WOWID1949     First Class  Home Office       Houston         Texas   \n",
       "1949  WOWID1950  Standard Class     Consumer       Houston         Texas   \n",
       "\n",
       "       Region         Category Sub-Category     Sales  Quantity  Discount  \\\n",
       "1945     East  Office Supplies        Paper    3.4240         1      0.20   \n",
       "1946     East       Technology  Accessories  151.2000         3      0.20   \n",
       "1947  Central  Office Supplies        Paper   65.5840         2      0.20   \n",
       "1948  Central        Furniture    Bookcases  383.4656         4      0.32   \n",
       "1949  Central  Office Supplies    Envelopes   99.5680         2      0.20   \n",
       "\n",
       "       Profit  \n",
       "1945   1.0700  \n",
       "1946  32.1300  \n",
       "1947  23.7742  \n",
       "1948 -67.6704  \n",
       "1949  33.6042  "
      ]
     },
     "execution_count": 5,
     "metadata": {},
     "output_type": "execute_result"
    }
   ],
   "source": [
    "data.tail()"
   ]
  },
  {
   "cell_type": "markdown",
   "metadata": {
    "id": "4_s8i5fr7HLn"
   },
   "source": [
    "* We can check a **random sample** of rows of the data using the *sample()* function.\n",
    "* We will set the *n* parameter to 5 to display 5 random rows.\n",
    "* Note that **the sample rows displayed will change each time we execute the code,** since a random selection is executed."
   ]
  },
  {
   "cell_type": "code",
   "execution_count": 6,
   "metadata": {
    "id": "DDB7-SR-7HLn",
    "outputId": "8e427f56-4672-417c-c862-ecf1484f1ed4"
   },
   "outputs": [
    {
     "data": {
      "text/html": [
       "<div>\n",
       "<style scoped>\n",
       "    .dataframe tbody tr th:only-of-type {\n",
       "        vertical-align: middle;\n",
       "    }\n",
       "\n",
       "    .dataframe tbody tr th {\n",
       "        vertical-align: top;\n",
       "    }\n",
       "\n",
       "    .dataframe thead th {\n",
       "        text-align: right;\n",
       "    }\n",
       "</style>\n",
       "<table border=\"1\" class=\"dataframe\">\n",
       "  <thead>\n",
       "    <tr style=\"text-align: right;\">\n",
       "      <th></th>\n",
       "      <th>Order ID</th>\n",
       "      <th>Ship Mode</th>\n",
       "      <th>Segment</th>\n",
       "      <th>City</th>\n",
       "      <th>State</th>\n",
       "      <th>Region</th>\n",
       "      <th>Category</th>\n",
       "      <th>Sub-Category</th>\n",
       "      <th>Sales</th>\n",
       "      <th>Quantity</th>\n",
       "      <th>Discount</th>\n",
       "      <th>Profit</th>\n",
       "    </tr>\n",
       "  </thead>\n",
       "  <tbody>\n",
       "    <tr>\n",
       "      <th>208</th>\n",
       "      <td>WOWID0209</td>\n",
       "      <td>Standard Class</td>\n",
       "      <td>Consumer</td>\n",
       "      <td>Houston</td>\n",
       "      <td>Texas</td>\n",
       "      <td>Central</td>\n",
       "      <td>Office Supplies</td>\n",
       "      <td>Storage</td>\n",
       "      <td>100.704</td>\n",
       "      <td>6</td>\n",
       "      <td>0.2</td>\n",
       "      <td>-16.3644</td>\n",
       "    </tr>\n",
       "    <tr>\n",
       "      <th>1660</th>\n",
       "      <td>WOWID1661</td>\n",
       "      <td>Standard Class</td>\n",
       "      <td>Consumer</td>\n",
       "      <td>Amarillo</td>\n",
       "      <td>Texas</td>\n",
       "      <td>Central</td>\n",
       "      <td>Furniture</td>\n",
       "      <td>Chairs</td>\n",
       "      <td>366.744</td>\n",
       "      <td>4</td>\n",
       "      <td>0.3</td>\n",
       "      <td>-110.0232</td>\n",
       "    </tr>\n",
       "    <tr>\n",
       "      <th>943</th>\n",
       "      <td>WOWID0944</td>\n",
       "      <td>Standard Class</td>\n",
       "      <td>Consumer</td>\n",
       "      <td>Seattle</td>\n",
       "      <td>Washington</td>\n",
       "      <td>West</td>\n",
       "      <td>Office Supplies</td>\n",
       "      <td>Labels</td>\n",
       "      <td>9.960</td>\n",
       "      <td>2</td>\n",
       "      <td>0.0</td>\n",
       "      <td>4.5816</td>\n",
       "    </tr>\n",
       "    <tr>\n",
       "      <th>393</th>\n",
       "      <td>WOWID0394</td>\n",
       "      <td>Standard Class</td>\n",
       "      <td>Consumer</td>\n",
       "      <td>Philadelphia</td>\n",
       "      <td>Pennsylvania</td>\n",
       "      <td>East</td>\n",
       "      <td>Office Supplies</td>\n",
       "      <td>Binders</td>\n",
       "      <td>4.956</td>\n",
       "      <td>4</td>\n",
       "      <td>0.7</td>\n",
       "      <td>-3.7996</td>\n",
       "    </tr>\n",
       "    <tr>\n",
       "      <th>766</th>\n",
       "      <td>WOWID0767</td>\n",
       "      <td>Standard Class</td>\n",
       "      <td>Corporate</td>\n",
       "      <td>Philadelphia</td>\n",
       "      <td>Pennsylvania</td>\n",
       "      <td>East</td>\n",
       "      <td>Office Supplies</td>\n",
       "      <td>Art</td>\n",
       "      <td>5.472</td>\n",
       "      <td>3</td>\n",
       "      <td>0.2</td>\n",
       "      <td>1.6416</td>\n",
       "    </tr>\n",
       "  </tbody>\n",
       "</table>\n",
       "</div>"
      ],
      "text/plain": [
       "       Order ID       Ship Mode    Segment          City         State  \\\n",
       "208   WOWID0209  Standard Class   Consumer       Houston         Texas   \n",
       "1660  WOWID1661  Standard Class   Consumer      Amarillo         Texas   \n",
       "943   WOWID0944  Standard Class   Consumer       Seattle    Washington   \n",
       "393   WOWID0394  Standard Class   Consumer  Philadelphia  Pennsylvania   \n",
       "766   WOWID0767  Standard Class  Corporate  Philadelphia  Pennsylvania   \n",
       "\n",
       "       Region         Category Sub-Category    Sales  Quantity  Discount  \\\n",
       "208   Central  Office Supplies      Storage  100.704         6       0.2   \n",
       "1660  Central        Furniture       Chairs  366.744         4       0.3   \n",
       "943      West  Office Supplies       Labels    9.960         2       0.0   \n",
       "393      East  Office Supplies      Binders    4.956         4       0.7   \n",
       "766      East  Office Supplies          Art    5.472         3       0.2   \n",
       "\n",
       "        Profit  \n",
       "208   -16.3644  \n",
       "1660 -110.0232  \n",
       "943     4.5816  \n",
       "393    -3.7996  \n",
       "766     1.6416  "
      ]
     },
     "execution_count": 6,
     "metadata": {},
     "output_type": "execute_result"
    }
   ],
   "source": [
    "data.sample(n=5)"
   ]
  },
  {
   "cell_type": "markdown",
   "metadata": {
    "id": "3XEy7TTw7HLn"
   },
   "source": [
    "**What does this quick look at our data tell us?**\n",
    "\n",
    "* Two modes of shipping are visible - *Standard Class* and *First Class*.\n",
    "* Three customer segments are visible - *Consumer*, *Corporate*, and *Home Office*.\n",
    "* The customers are spread across different cities and states of the US.\n",
    "* The products ordered belong to various categories like *Office Supplies*, *Furniture*, *Technology* etc.\n",
    "* The discounts provided range from 20% to 80%.\n",
    "* The *Profit* column has negative values too, indicating losses incurred.\n",
    "\n",
    "This, of course, is true **only for this snapshot of 15 rows** that we have just seen. We have some very handy fuctions in Pandas to do a thorough summary analysis of the entire data without having to view all the rows. "
   ]
  },
  {
   "cell_type": "markdown",
   "metadata": {
    "id": "jwJlLbDv7HLo"
   },
   "source": [
    "### **Now that we have taken a quick look at our data, let's check the number of rows and columns in the data, and what type of values we are going to deal with**\n",
    "\n",
    "* The *shape* attribute and the *info()* function will help us with this."
   ]
  },
  {
   "cell_type": "code",
   "execution_count": 7,
   "metadata": {
    "id": "okP8faGd7HLo",
    "outputId": "c4fae219-a464-40af-b3e0-3de81ea12589"
   },
   "outputs": [
    {
     "data": {
      "text/plain": [
       "(1950, 12)"
      ]
     },
     "execution_count": 7,
     "metadata": {},
     "output_type": "execute_result"
    }
   ],
   "source": [
    "# checking the shape of the data\n",
    "data.shape"
   ]
  },
  {
   "cell_type": "markdown",
   "metadata": {
    "id": "YUTO0Do_7HLo"
   },
   "source": [
    "* We see that there are 1950 rows and 12 columns in the data."
   ]
  },
  {
   "cell_type": "code",
   "execution_count": null,
   "metadata": {
    "id": "KD4I8UWm7HLo",
    "outputId": "282a02c2-7e71-4e40-d412-8dab8dfa088f"
   },
   "outputs": [],
   "source": [
    "data.info()"
   ]
  },
  {
   "cell_type": "markdown",
   "metadata": {
    "id": "-SxUSNIZ7HLo"
   },
   "source": [
    "- There are columns of different types in the data.\n",
    "- *Sales*, *Discount*, and *Profit* are *float* type columns.\n",
    "- *Quantity* is an *int* type column.\n",
    "- The rest of the columns are of the *object* data type."
   ]
  },
  {
   "cell_type": "markdown",
   "metadata": {
    "id": "aTFuGl-r7HLp"
   },
   "source": [
    "### **We now know how many and what type of values we are going to deal with. It's time to proceed with our analysis.**\n",
    "\n",
    "#### Summary statistics are a good place to start an analysis. Pandas provides a neat statistical summary of the data through the *describe()* function. Let's take a look at it."
   ]
  },
  {
   "cell_type": "code",
   "execution_count": null,
   "metadata": {
    "id": "ySBn0ebv7HLp",
    "outputId": "5dc7e7d9-b397-4a9b-866a-3a5214df55de"
   },
   "outputs": [],
   "source": [
    "data.describe()"
   ]
  },
  {
   "cell_type": "markdown",
   "metadata": {
    "id": "tQTczVvm7HLp"
   },
   "source": [
    "- The sale amount of products varies from 0.44 to ~14000 dollars.\n",
    "- The order quantity varies from 1 to 14 units.\n",
    "- The discount on products varies from 0 to 80%.\n",
    "- The *Profit* column has negative values, indicating losses incurred."
   ]
  },
  {
   "cell_type": "markdown",
   "metadata": {
    "id": "axHv_NYg7HLq"
   },
   "source": [
    "# <font color='blue'>Question:</font>\n",
    "\n",
    "### What is the average discount offered across all orders?\n",
    "\n",
    "1. Approx. 31%\n",
    "2. Approx. 24.5%\n",
    "3. Approx. 20%\n",
    "4. Approx. 80%"
   ]
  },
  {
   "cell_type": "markdown",
   "metadata": {
    "id": "bqxnUAmN7HLp"
   },
   "source": [
    "* The above summary shows only the numerical columns.\n",
    "* Can we include the non-numerical columns too? - YES! Let's set the *include* parameter of the *describe()* function to *'all'*.\n",
    "* We will also transpose the data using the *T* attribute to make it easier to view the whole summary at once."
   ]
  },
  {
   "cell_type": "code",
   "execution_count": null,
   "metadata": {
    "id": "_dv1-4zL7HLp",
    "outputId": "db1c2ba0-d093-4995-add7-98864b6ab30d"
   },
   "outputs": [],
   "source": [
    "data.describe(include=\"all\").T"
   ]
  },
  {
   "cell_type": "markdown",
   "metadata": {
    "id": "PzcBF9I67HLq"
   },
   "source": [
    "- There are two shipment modes, '*Standard Class*' being the more frequent one.\n",
    "- Orders were shipped across 3 regions, 4 states, and 105 cities. '*Philadelphia*' was the most frequent city for shipping.\n",
    "- The products are spread across 3 categories and 17 sub-categories."
   ]
  },
  {
   "cell_type": "markdown",
   "metadata": {
    "id": "axHv_NYg7HLq"
   },
   "source": [
    "# <font color='blue'>Question:</font>\n",
    "\n",
    "### How many distinct segments of customers are present in the data?\n",
    "\n",
    "1. 2\n",
    "2. 3\n",
    "3. 4\n",
    "4. 5"
   ]
  },
  {
   "cell_type": "markdown",
   "metadata": {
    "id": "9YYoYGu47HLq"
   },
   "source": [
    "### **The statistical summary was really helpful. The next step would be to analyze some of the columns individually to see if we can gain more insights.**\n",
    "\n",
    "### **We will begin with the categorical variables in the data.**"
   ]
  },
  {
   "cell_type": "markdown",
   "metadata": {
    "id": "2YCb_ekq7HLq"
   },
   "source": [
    "* Let's check the unique value in the *Category* column.\n",
    "* The Pandas *unique()* function will help us here."
   ]
  },
  {
   "cell_type": "code",
   "execution_count": null,
   "metadata": {
    "id": "J3iw78W37HLq",
    "outputId": "88446b45-4705-46af-a133-57019e592046"
   },
   "outputs": [],
   "source": [
    "data[\"Category\"].unique()"
   ]
  },
  {
   "cell_type": "markdown",
   "metadata": {
    "id": "mRSWmi0E7HLr"
   },
   "source": [
    "* Let's check the number of orders corresponding to each unique value in the *Category* column.\n",
    "* The *value_counts()* function in Pandas allows us to do this."
   ]
  },
  {
   "cell_type": "code",
   "execution_count": null,
   "metadata": {
    "id": "XVTkPcDs7HLr",
    "outputId": "87397439-791d-4c36-b359-605a65c757bf"
   },
   "outputs": [],
   "source": [
    "data[\"Category\"].value_counts()"
   ]
  },
  {
   "cell_type": "markdown",
   "metadata": {
    "id": "x73nZnqI7HLr"
   },
   "source": [
    "**Observations**\n",
    "\n",
    "- There are 3 categories of products.\n",
    "- Most of the orders are for products under the category *Office Supplies*."
   ]
  },
  {
   "cell_type": "markdown",
   "metadata": {},
   "source": [
    "# <font color='Blue'> Your turn to code! </font>"
   ]
  },
  {
   "cell_type": "code",
   "execution_count": null,
   "metadata": {},
   "outputs": [],
   "source": [
    "### Check the number of unique values in the State column.\n"
   ]
  },
  {
   "cell_type": "code",
   "execution_count": null,
   "metadata": {},
   "outputs": [],
   "source": [
    "### Check the number of orders corresponding to each unique value of the State column.\n"
   ]
  },
  {
   "cell_type": "markdown",
   "metadata": {
    "id": "axHv_NYg7HLq"
   },
   "source": [
    "# <font color='blue'>Question:</font>\n",
    "\n",
    "### Which state were most of the orders placed from?\n",
    "\n",
    "1. Texas\n",
    "2. Pennsylvania\n",
    "3. Illinois\n",
    "4. Washington"
   ]
  },
  {
   "cell_type": "markdown",
   "metadata": {
    "id": "PMPGPFN_7HLs"
   },
   "source": [
    "### **Now let's analyze some of the numerical variables in the data.**"
   ]
  },
  {
   "cell_type": "markdown",
   "metadata": {
    "id": "PBIaLGny7HLs"
   },
   "source": [
    "* Let's check the average profit across all the orders.\n",
    "* The *mean()* function can be used for this."
   ]
  },
  {
   "cell_type": "code",
   "execution_count": null,
   "metadata": {
    "id": "ipw7oK3u7HLs",
    "outputId": "e31dca18-bddf-445e-91e4-974caa2b1a82"
   },
   "outputs": [],
   "source": [
    "data[\"Profit\"].mean()"
   ]
  },
  {
   "cell_type": "markdown",
   "metadata": {
    "id": "N1KW6RXu7HLs"
   },
   "source": [
    "* Let's check the maximum profit across all the orders.\n",
    "* The *max()* function can be used for this."
   ]
  },
  {
   "cell_type": "code",
   "execution_count": null,
   "metadata": {
    "id": "j9aPUnoM7HLt",
    "outputId": "d89b4ffb-e7e6-4d67-980f-8294cd2c7720"
   },
   "outputs": [],
   "source": [
    "data[\"Profit\"].max()"
   ]
  },
  {
   "cell_type": "markdown",
   "metadata": {
    "id": "Q3x6TZ0t7HLt"
   },
   "source": [
    "* Let's check the minimum profit across all the orders.\n",
    "* The *min()* function can be used for this."
   ]
  },
  {
   "cell_type": "code",
   "execution_count": null,
   "metadata": {
    "id": "FXCjaf8R7HLt",
    "outputId": "e08110e2-30cd-43e1-d934-ca5f51127f77"
   },
   "outputs": [],
   "source": [
    "data[\"Profit\"].min()"
   ]
  },
  {
   "cell_type": "markdown",
   "metadata": {
    "id": "edMzSkso7HLt"
   },
   "source": [
    "**Observations**\n",
    "\n",
    "* On an average, the orders have resulted in a loss of 8.7 dollars to the superstore.\n",
    "* The maximum profit made was ~6720 dollars, while the maximum loss incurred was ~3700 dollars."
   ]
  },
  {
   "cell_type": "markdown",
   "metadata": {
    "id": "liJiQcKz7HLt"
   },
   "source": [
    "### **That gives us an overall idea of how the superstore is performing in financial terms. Let's dig a little deeper now.**"
   ]
  },
  {
   "cell_type": "markdown",
   "metadata": {
    "id": "WW3JFiDJ7HLt"
   },
   "source": [
    "* Let's check the average profit across the different product categories and different states.\n",
    "* To do so, we will have to first group the data with respect to a particular variable and then check the average profit.\n",
    "* The *groupby()* function in Pandas will help us group the data with respect to a particular variable."
   ]
  },
  {
   "cell_type": "code",
   "execution_count": null,
   "metadata": {
    "id": "LMbtZBPP7HLt",
    "outputId": "04a928f9-6ecc-4e1d-d451-f5ce4c6d7459"
   },
   "outputs": [],
   "source": [
    "# checking the average profit across the different product categories\n",
    "data.groupby(\"Category\")[\"Profit\"].mean()"
   ]
  },
  {
   "cell_type": "markdown",
   "metadata": {
    "id": "tQ-uiGPu7HLt"
   },
   "source": [
    "* Products under the *Furniture* category result in more losses on average, while products under the *Technology* category result in more profits on average."
   ]
  },
  {
   "cell_type": "code",
   "execution_count": null,
   "metadata": {
    "id": "QAYeQs_37HLu",
    "outputId": "59b0657d-20d3-4784-c89d-94f8561ff561"
   },
   "outputs": [],
   "source": [
    "# checking the average profit across the different states\n",
    "data.groupby(\"State\")[\"Profit\"].mean().sort_values(ascending=False)"
   ]
  },
  {
   "cell_type": "markdown",
   "metadata": {
    "id": "LpEdxl6c7HLu"
   },
   "source": [
    "* Here we also sorted the data in descending order of values using the *sort_values()* function.\n",
    "* Orders placed from the state of Washington result in more profits on average, while those placed from the state of Illinois result in more losses on average."
   ]
  },
  {
   "cell_type": "markdown",
   "metadata": {
    "id": "Nouny2ef7HLv"
   },
   "source": [
    "### **We can communicate our insights in a clearer and more visually appealing manner with visualizations instead of numbers.**"
   ]
  },
  {
   "cell_type": "markdown",
   "metadata": {
    "id": "j-M3rTMv7HLv"
   },
   "source": [
    "* Pair plots are a very informative type of visualization for numerical variables.\n",
    "* Let's see what insights we can get from it."
   ]
  },
  {
   "cell_type": "code",
   "execution_count": null,
   "metadata": {
    "id": "JXaos86c7HLv",
    "outputId": "109ec9dd-daf6-4cf2-efd1-6ae416d8d789"
   },
   "outputs": [],
   "source": [
    "# list of numerical columns in the data\n",
    "numerical_columns = [\"Sales\", \"Quantity\", \"Discount\", \"Profit\"]\n",
    "\n",
    "sns.pairplot(data=data, vars=numerical_columns, diag_kind=\"kde\", hue=\"Ship Mode\")"
   ]
  },
  {
   "cell_type": "markdown",
   "metadata": {
    "id": "F8_Tr-K67HLv"
   },
   "source": [
    "* We can see that a lot of orders are clustered between a profit or loss of 1000 dollars.\n",
    "* We can see that the distribution of the variables is similar for both shipment modes, but the number of orders are more for *Standard Class* shipping.\n",
    "* We had seen that the maximum profit made was ~6720 dollars, and the above plot shows that the order was shipped under *First Class*."
   ]
  },
  {
   "cell_type": "markdown",
   "metadata": {
    "id": "1fZGUSMZ7HLv"
   },
   "source": [
    "# <font color='blue'>Question:</font>\n",
    "\n",
    "### We had seen that the maximum loss incurred was ~3700 dollars. Which shipping mode does that order correspond to?\n",
    "\n",
    "1. Standard Class\n",
    "2. First Class"
   ]
  },
  {
   "cell_type": "markdown",
   "metadata": {
    "id": "tV9Du7yF1iOa"
   },
   "source": [
    "## Summary\n",
    "**Data description**\n",
    "* The dataset has **1950 observations and 12 columns.**\n",
    "* Sales, Discount, Profit, and Quantity are numerical columns while the rest are of the object datatype.\n",
    "\n",
    "**Insights from data exploration**\n",
    "* The sale amount of products varies from 0.44 to ~14000 dollars.\n",
    "* The minimum discount offered by the Superstore is 0% while the maximum is 80%.\n",
    "* The Profit column has negative values, indicating losses incurred.\n",
    "* 'Standard Class' is the most frequent mode of shipment and 'Philadelphia' is the most frequent city for shipping.\n",
    "* The products are spread across 3 categories and 17 sub-categories.\n",
    "* The orders are spread over 4 states and most of the orders are placed from the state of Texas.\n",
    "* Products under the Furniture category result in more losses on average, while Technology products tend to result in more profits.\n",
    "* Orders placed from the state of Washington result in more profits on average, while those placed from Illinois result in more losses."
   ]
  }
 ],
 "metadata": {
  "colab": {
   "collapsed_sections": [],
   "name": "Session Notebook - Advanced.ipynb",
   "provenance": []
  },
  "kernelspec": {
   "display_name": "Python 3",
   "language": "python",
   "name": "python3"
  },
  "language_info": {
   "codemirror_mode": {
    "name": "ipython",
    "version": 3
   },
   "file_extension": ".py",
   "mimetype": "text/x-python",
   "name": "python",
   "nbconvert_exporter": "python",
   "pygments_lexer": "ipython3",
   "version": "3.9.7"
  }
 },
 "nbformat": 4,
 "nbformat_minor": 1
}
