{
 "cells": [
  {
   "cell_type": "markdown",
   "metadata": {},
   "source": [
    "\n",
    "# Engineering Colleges Case Study"
   ]
  },
  {
   "cell_type": "code",
   "execution_count": 1,
   "metadata": {},
   "outputs": [
    {
     "ename": "SyntaxError",
     "evalue": "invalid syntax (1847705785.py, line 7)",
     "output_type": "error",
     "traceback": [
      "\u001b[0;36m  File \u001b[0;32m\"/tmp/ipykernel_37399/1847705785.py\"\u001b[0;36m, line \u001b[0;32m7\u001b[0m\n\u001b[0;31m    random_state = # You do need this as well!\u001b[0m\n\u001b[0m                   ^\u001b[0m\n\u001b[0;31mSyntaxError\u001b[0m\u001b[0;31m:\u001b[0m invalid syntax\n"
     ]
    }
   ],
   "source": [
    "import numpy as np\n",
    "import tensorflow as tf\n",
    "\n",
    "tf.random.set_seed(15)\n",
    "np.random.seed(15)\n",
    "\n",
    "# random_state = # You do need this as well!"
   ]
  },
  {
   "cell_type": "code",
   "execution_count": null,
   "metadata": {},
   "outputs": [],
   "source": [
    "# Two types of models\n",
    "- Updatabale models (incremental learners) - online learning\n",
    "- non-updatable\n",
    "\n",
    "mlp, sgd-classifier\n",
    "\n",
    "# concept drift\n",
    "# NN (Deep Learning) -> partial_fit\n",
    "# online\n",
    "\n",
    "# Time-Complexity : \n",
    "# Space-Complexity: \n",
    "# Edge Cases:"
   ]
  },
  {
   "cell_type": "code",
   "execution_count": null,
   "metadata": {},
   "outputs": [],
   "source": [
    "Unsupervised:\n",
    "- Clustering (customer segmentation)\n",
    "- Dimentionality Reduction -> linearly or nonlinearly\n",
    "\n",
    "## Linear Algebra\n",
    "# Matrix - Eig values, Eig vectors\n",
    "# rank, degenaracy\n",
    "# covariance matrix\n",
    "# Decomposition -> SVD, ED\n",
    "# subspaces"
   ]
  },
  {
   "cell_type": "code",
   "execution_count": null,
   "metadata": {},
   "outputs": [],
   "source": [
    "# Euclidean Distance\n",
    "\n",
    "   F1  F2  F3 ...\n",
    "1  1   2.3  3.1\n",
    "2  1.5  100  0.9\n",
    "3  1.7\n",
    "4  3.3\n",
    "5  5\n",
    ".  ..\n",
    ".\n",
    ".\n",
    "n\n",
    "\n",
    "xi\n",
    "yi\n",
    "\n",
    "# Euclidean\n",
    "sum[(xi-yi)**2]\n",
    "= 0.5**2 + 97.7**2 + 2.2**2\n",
    "\n",
    "\n",
    "# Manhattan: Taxicab (rectilinear coordinate system)\n",
    "sum[abs(xi-yi)]\n",
    "0.5 + 97.7 + 2.2\n",
    "\n",
    "# Chebyshev: (chessboard)\n",
    "Max[abs(xi-yi)]\n",
    "97.7\n",
    "\n",
    "# General: Minkowski (order: p)"
   ]
  },
  {
   "cell_type": "code",
   "execution_count": null,
   "metadata": {},
   "outputs": [],
   "source": [
    "# Scaling:\n",
    "1. Supervised learning + Regularization (L1, L2)\n",
    "2. Unsupervised Clustering\n",
    "\n",
    "MinMaxScaler -> [0,1]\n",
    "StandarScaler -> mu=0, std = 1"
   ]
  },
  {
   "cell_type": "code",
   "execution_count": 4,
   "metadata": {},
   "outputs": [
    {
     "data": {
      "application/javascript": [
       "\n",
       "            setTimeout(function() {\n",
       "                var nbb_cell_id = 4;\n",
       "                var nbb_unformatted_code = \"df = pd.read_excel(\\\"./Engineering Colleges Case Study.xlsx\\\")\";\n",
       "                var nbb_formatted_code = \"df = pd.read_excel(\\\"./Engineering Colleges Case Study.xlsx\\\")\";\n",
       "                var nbb_cells = Jupyter.notebook.get_cells();\n",
       "                for (var i = 0; i < nbb_cells.length; ++i) {\n",
       "                    if (nbb_cells[i].input_prompt_number == nbb_cell_id) {\n",
       "                        if (nbb_cells[i].get_text() == nbb_unformatted_code) {\n",
       "                             nbb_cells[i].set_text(nbb_formatted_code);\n",
       "                        }\n",
       "                        break;\n",
       "                    }\n",
       "                }\n",
       "            }, 500);\n",
       "            "
      ],
      "text/plain": [
       "<IPython.core.display.Javascript object>"
      ]
     },
     "metadata": {},
     "output_type": "display_data"
    }
   ],
   "source": [
    "df = pd.read_excel(\"./Engineering Colleges Case Study.xlsx\")"
   ]
  },
  {
   "cell_type": "code",
   "execution_count": 7,
   "metadata": {},
   "outputs": [
    {
     "data": {
      "text/plain": [
       "2.8076923076923075"
      ]
     },
     "execution_count": 7,
     "metadata": {},
     "output_type": "execute_result"
    },
    {
     "data": {
      "application/javascript": [
       "\n",
       "            setTimeout(function() {\n",
       "                var nbb_cell_id = 7;\n",
       "                var nbb_unformatted_code = \"df[\\\"Teaching\\\"].mean()\";\n",
       "                var nbb_formatted_code = \"df[\\\"Teaching\\\"].mean()\";\n",
       "                var nbb_cells = Jupyter.notebook.get_cells();\n",
       "                for (var i = 0; i < nbb_cells.length; ++i) {\n",
       "                    if (nbb_cells[i].input_prompt_number == nbb_cell_id) {\n",
       "                        if (nbb_cells[i].get_text() == nbb_unformatted_code) {\n",
       "                             nbb_cells[i].set_text(nbb_formatted_code);\n",
       "                        }\n",
       "                        break;\n",
       "                    }\n",
       "                }\n",
       "            }, 500);\n",
       "            "
      ],
      "text/plain": [
       "<IPython.core.display.Javascript object>"
      ]
     },
     "metadata": {},
     "output_type": "display_data"
    }
   ],
   "source": [
    "df[\"Teaching\"].mean()"
   ]
  },
  {
   "cell_type": "code",
   "execution_count": 8,
   "metadata": {},
   "outputs": [
    {
     "data": {
      "text/plain": [
       "1.1320505560876961"
      ]
     },
     "execution_count": 8,
     "metadata": {},
     "output_type": "execute_result"
    },
    {
     "data": {
      "application/javascript": [
       "\n",
       "            setTimeout(function() {\n",
       "                var nbb_cell_id = 8;\n",
       "                var nbb_unformatted_code = \"df[\\\"Teaching\\\"].std()\";\n",
       "                var nbb_formatted_code = \"df[\\\"Teaching\\\"].std()\";\n",
       "                var nbb_cells = Jupyter.notebook.get_cells();\n",
       "                for (var i = 0; i < nbb_cells.length; ++i) {\n",
       "                    if (nbb_cells[i].input_prompt_number == nbb_cell_id) {\n",
       "                        if (nbb_cells[i].get_text() == nbb_unformatted_code) {\n",
       "                             nbb_cells[i].set_text(nbb_formatted_code);\n",
       "                        }\n",
       "                        break;\n",
       "                    }\n",
       "                }\n",
       "            }, 500);\n",
       "            "
      ],
      "text/plain": [
       "<IPython.core.display.Javascript object>"
      ]
     },
     "metadata": {},
     "output_type": "display_data"
    }
   ],
   "source": [
    "df[\"Teaching\"].std()"
   ]
  },
  {
   "cell_type": "code",
   "execution_count": 9,
   "metadata": {},
   "outputs": [
    {
     "data": {
      "text/plain": [
       "0     5\n",
       "1     4\n",
       "2     4\n",
       "3     5\n",
       "4     2\n",
       "5     3\n",
       "6     1\n",
       "7     4\n",
       "8     4\n",
       "9     3\n",
       "10    3\n",
       "11    2\n",
       "12    1\n",
       "13    3\n",
       "14    3\n",
       "15    3\n",
       "16    3\n",
       "17    3\n",
       "18    3\n",
       "19    3\n",
       "20    2\n",
       "21    2\n",
       "22    2\n",
       "23    1\n",
       "24    1\n",
       "25    3\n",
       "Name: Teaching, dtype: int64"
      ]
     },
     "execution_count": 9,
     "metadata": {},
     "output_type": "execute_result"
    },
    {
     "data": {
      "application/javascript": [
       "\n",
       "            setTimeout(function() {\n",
       "                var nbb_cell_id = 9;\n",
       "                var nbb_unformatted_code = \"df[\\\"Teaching\\\"]\";\n",
       "                var nbb_formatted_code = \"df[\\\"Teaching\\\"]\";\n",
       "                var nbb_cells = Jupyter.notebook.get_cells();\n",
       "                for (var i = 0; i < nbb_cells.length; ++i) {\n",
       "                    if (nbb_cells[i].input_prompt_number == nbb_cell_id) {\n",
       "                        if (nbb_cells[i].get_text() == nbb_unformatted_code) {\n",
       "                             nbb_cells[i].set_text(nbb_formatted_code);\n",
       "                        }\n",
       "                        break;\n",
       "                    }\n",
       "                }\n",
       "            }, 500);\n",
       "            "
      ],
      "text/plain": [
       "<IPython.core.display.Javascript object>"
      ]
     },
     "metadata": {},
     "output_type": "display_data"
    }
   ],
   "source": [
    "df[\"Teaching\"]"
   ]
  },
  {
   "cell_type": "code",
   "execution_count": 20,
   "metadata": {},
   "outputs": [
    {
     "data": {
      "application/javascript": [
       "\n",
       "            setTimeout(function() {\n",
       "                var nbb_cell_id = 20;\n",
       "                var nbb_unformatted_code = \"df = df.select_dtypes(np.number)\";\n",
       "                var nbb_formatted_code = \"df = df.select_dtypes(np.number)\";\n",
       "                var nbb_cells = Jupyter.notebook.get_cells();\n",
       "                for (var i = 0; i < nbb_cells.length; ++i) {\n",
       "                    if (nbb_cells[i].input_prompt_number == nbb_cell_id) {\n",
       "                        if (nbb_cells[i].get_text() == nbb_unformatted_code) {\n",
       "                             nbb_cells[i].set_text(nbb_formatted_code);\n",
       "                        }\n",
       "                        break;\n",
       "                    }\n",
       "                }\n",
       "            }, 500);\n",
       "            "
      ],
      "text/plain": [
       "<IPython.core.display.Javascript object>"
      ]
     },
     "metadata": {},
     "output_type": "display_data"
    }
   ],
   "source": [
    "df = df.select_dtypes(np.number)"
   ]
  },
  {
   "cell_type": "code",
   "execution_count": 22,
   "metadata": {},
   "outputs": [
    {
     "data": {
      "text/html": [
       "<div>\n",
       "<style scoped>\n",
       "    .dataframe tbody tr th:only-of-type {\n",
       "        vertical-align: middle;\n",
       "    }\n",
       "\n",
       "    .dataframe tbody tr th {\n",
       "        vertical-align: top;\n",
       "    }\n",
       "\n",
       "    .dataframe thead th {\n",
       "        text-align: right;\n",
       "    }\n",
       "</style>\n",
       "<table border=\"1\" class=\"dataframe\">\n",
       "  <thead>\n",
       "    <tr style=\"text-align: right;\">\n",
       "      <th></th>\n",
       "      <th>0</th>\n",
       "      <th>1</th>\n",
       "      <th>2</th>\n",
       "      <th>3</th>\n",
       "      <th>4</th>\n",
       "      <th>5</th>\n",
       "    </tr>\n",
       "  </thead>\n",
       "  <tbody>\n",
       "    <tr>\n",
       "      <th>0</th>\n",
       "      <td>-1.666667</td>\n",
       "      <td>1.974933</td>\n",
       "      <td>-1.20745</td>\n",
       "      <td>1.408406</td>\n",
       "      <td>1.830464</td>\n",
       "      <td>-0.302061</td>\n",
       "    </tr>\n",
       "    <tr>\n",
       "      <th>1</th>\n",
       "      <td>-1.533333</td>\n",
       "      <td>1.074086</td>\n",
       "      <td>-1.20745</td>\n",
       "      <td>1.408406</td>\n",
       "      <td>1.830464</td>\n",
       "      <td>-0.302061</td>\n",
       "    </tr>\n",
       "    <tr>\n",
       "      <th>2</th>\n",
       "      <td>-1.400000</td>\n",
       "      <td>1.074086</td>\n",
       "      <td>1.08965</td>\n",
       "      <td>1.408406</td>\n",
       "      <td>1.009911</td>\n",
       "      <td>1.268656</td>\n",
       "    </tr>\n",
       "    <tr>\n",
       "      <th>3</th>\n",
       "      <td>-1.266667</td>\n",
       "      <td>1.974933</td>\n",
       "      <td>0.32395</td>\n",
       "      <td>1.408406</td>\n",
       "      <td>1.009911</td>\n",
       "      <td>0.483298</td>\n",
       "    </tr>\n",
       "    <tr>\n",
       "      <th>4</th>\n",
       "      <td>-1.133333</td>\n",
       "      <td>-0.727607</td>\n",
       "      <td>1.08965</td>\n",
       "      <td>-0.588970</td>\n",
       "      <td>-0.631194</td>\n",
       "      <td>1.268656</td>\n",
       "    </tr>\n",
       "    <tr>\n",
       "      <th>5</th>\n",
       "      <td>-1.000000</td>\n",
       "      <td>0.173240</td>\n",
       "      <td>0.32395</td>\n",
       "      <td>0.076822</td>\n",
       "      <td>0.189358</td>\n",
       "      <td>0.483298</td>\n",
       "    </tr>\n",
       "    <tr>\n",
       "      <th>6</th>\n",
       "      <td>-0.866667</td>\n",
       "      <td>-1.628453</td>\n",
       "      <td>-0.44175</td>\n",
       "      <td>-1.254761</td>\n",
       "      <td>-1.451747</td>\n",
       "      <td>-1.087420</td>\n",
       "    </tr>\n",
       "    <tr>\n",
       "      <th>7</th>\n",
       "      <td>-0.733333</td>\n",
       "      <td>1.074086</td>\n",
       "      <td>0.32395</td>\n",
       "      <td>1.408406</td>\n",
       "      <td>1.830464</td>\n",
       "      <td>1.268656</td>\n",
       "    </tr>\n",
       "    <tr>\n",
       "      <th>8</th>\n",
       "      <td>-0.600000</td>\n",
       "      <td>1.074086</td>\n",
       "      <td>0.32395</td>\n",
       "      <td>0.742614</td>\n",
       "      <td>1.009911</td>\n",
       "      <td>0.483298</td>\n",
       "    </tr>\n",
       "    <tr>\n",
       "      <th>9</th>\n",
       "      <td>-0.466667</td>\n",
       "      <td>0.173240</td>\n",
       "      <td>0.32395</td>\n",
       "      <td>0.076822</td>\n",
       "      <td>1.009911</td>\n",
       "      <td>1.268656</td>\n",
       "    </tr>\n",
       "    <tr>\n",
       "      <th>10</th>\n",
       "      <td>-0.333333</td>\n",
       "      <td>0.173240</td>\n",
       "      <td>0.32395</td>\n",
       "      <td>0.076822</td>\n",
       "      <td>1.009911</td>\n",
       "      <td>1.268656</td>\n",
       "    </tr>\n",
       "    <tr>\n",
       "      <th>11</th>\n",
       "      <td>-0.200000</td>\n",
       "      <td>-0.727607</td>\n",
       "      <td>1.08965</td>\n",
       "      <td>0.076822</td>\n",
       "      <td>-0.631194</td>\n",
       "      <td>-0.302061</td>\n",
       "    </tr>\n",
       "    <tr>\n",
       "      <th>12</th>\n",
       "      <td>-0.066667</td>\n",
       "      <td>-1.628453</td>\n",
       "      <td>1.08965</td>\n",
       "      <td>-1.254761</td>\n",
       "      <td>-0.631194</td>\n",
       "      <td>-1.087420</td>\n",
       "    </tr>\n",
       "    <tr>\n",
       "      <th>13</th>\n",
       "      <td>0.066667</td>\n",
       "      <td>0.173240</td>\n",
       "      <td>1.08965</td>\n",
       "      <td>0.076822</td>\n",
       "      <td>0.189358</td>\n",
       "      <td>0.483298</td>\n",
       "    </tr>\n",
       "    <tr>\n",
       "      <th>14</th>\n",
       "      <td>0.200000</td>\n",
       "      <td>0.173240</td>\n",
       "      <td>-1.20745</td>\n",
       "      <td>-0.588970</td>\n",
       "      <td>-0.631194</td>\n",
       "      <td>-0.302061</td>\n",
       "    </tr>\n",
       "    <tr>\n",
       "      <th>15</th>\n",
       "      <td>0.333333</td>\n",
       "      <td>0.173240</td>\n",
       "      <td>-0.44175</td>\n",
       "      <td>-0.588970</td>\n",
       "      <td>-0.631194</td>\n",
       "      <td>-0.302061</td>\n",
       "    </tr>\n",
       "    <tr>\n",
       "      <th>16</th>\n",
       "      <td>0.466667</td>\n",
       "      <td>0.173240</td>\n",
       "      <td>-0.44175</td>\n",
       "      <td>-1.254761</td>\n",
       "      <td>-0.631194</td>\n",
       "      <td>-0.302061</td>\n",
       "    </tr>\n",
       "    <tr>\n",
       "      <th>17</th>\n",
       "      <td>0.600000</td>\n",
       "      <td>0.173240</td>\n",
       "      <td>0.32395</td>\n",
       "      <td>0.742614</td>\n",
       "      <td>0.189358</td>\n",
       "      <td>-0.302061</td>\n",
       "    </tr>\n",
       "    <tr>\n",
       "      <th>18</th>\n",
       "      <td>0.733333</td>\n",
       "      <td>0.173240</td>\n",
       "      <td>1.08965</td>\n",
       "      <td>0.742614</td>\n",
       "      <td>0.189358</td>\n",
       "      <td>-0.302061</td>\n",
       "    </tr>\n",
       "    <tr>\n",
       "      <th>19</th>\n",
       "      <td>0.866667</td>\n",
       "      <td>0.173240</td>\n",
       "      <td>1.08965</td>\n",
       "      <td>0.076822</td>\n",
       "      <td>-0.631194</td>\n",
       "      <td>-0.302061</td>\n",
       "    </tr>\n",
       "    <tr>\n",
       "      <th>20</th>\n",
       "      <td>1.000000</td>\n",
       "      <td>-0.727607</td>\n",
       "      <td>-1.20745</td>\n",
       "      <td>-0.588970</td>\n",
       "      <td>-0.631194</td>\n",
       "      <td>-1.872778</td>\n",
       "    </tr>\n",
       "    <tr>\n",
       "      <th>21</th>\n",
       "      <td>1.133333</td>\n",
       "      <td>-0.727607</td>\n",
       "      <td>-1.20745</td>\n",
       "      <td>-1.254761</td>\n",
       "      <td>-0.631194</td>\n",
       "      <td>-1.872778</td>\n",
       "    </tr>\n",
       "    <tr>\n",
       "      <th>22</th>\n",
       "      <td>1.266667</td>\n",
       "      <td>-0.727607</td>\n",
       "      <td>1.08965</td>\n",
       "      <td>-1.254761</td>\n",
       "      <td>-1.451747</td>\n",
       "      <td>-1.872778</td>\n",
       "    </tr>\n",
       "    <tr>\n",
       "      <th>23</th>\n",
       "      <td>1.400000</td>\n",
       "      <td>-1.628453</td>\n",
       "      <td>-1.97315</td>\n",
       "      <td>-1.254761</td>\n",
       "      <td>-0.631194</td>\n",
       "      <td>1.268656</td>\n",
       "    </tr>\n",
       "    <tr>\n",
       "      <th>24</th>\n",
       "      <td>1.533333</td>\n",
       "      <td>-1.628453</td>\n",
       "      <td>-1.97315</td>\n",
       "      <td>-1.254761</td>\n",
       "      <td>-1.451747</td>\n",
       "      <td>1.268656</td>\n",
       "    </tr>\n",
       "    <tr>\n",
       "      <th>25</th>\n",
       "      <td>1.666667</td>\n",
       "      <td>0.173240</td>\n",
       "      <td>0.32395</td>\n",
       "      <td>1.408406</td>\n",
       "      <td>-0.631194</td>\n",
       "      <td>-0.302061</td>\n",
       "    </tr>\n",
       "  </tbody>\n",
       "</table>\n",
       "</div>"
      ],
      "text/plain": [
       "           0         1        2         3         4         5\n",
       "0  -1.666667  1.974933 -1.20745  1.408406  1.830464 -0.302061\n",
       "1  -1.533333  1.074086 -1.20745  1.408406  1.830464 -0.302061\n",
       "2  -1.400000  1.074086  1.08965  1.408406  1.009911  1.268656\n",
       "3  -1.266667  1.974933  0.32395  1.408406  1.009911  0.483298\n",
       "4  -1.133333 -0.727607  1.08965 -0.588970 -0.631194  1.268656\n",
       "5  -1.000000  0.173240  0.32395  0.076822  0.189358  0.483298\n",
       "6  -0.866667 -1.628453 -0.44175 -1.254761 -1.451747 -1.087420\n",
       "7  -0.733333  1.074086  0.32395  1.408406  1.830464  1.268656\n",
       "8  -0.600000  1.074086  0.32395  0.742614  1.009911  0.483298\n",
       "9  -0.466667  0.173240  0.32395  0.076822  1.009911  1.268656\n",
       "10 -0.333333  0.173240  0.32395  0.076822  1.009911  1.268656\n",
       "11 -0.200000 -0.727607  1.08965  0.076822 -0.631194 -0.302061\n",
       "12 -0.066667 -1.628453  1.08965 -1.254761 -0.631194 -1.087420\n",
       "13  0.066667  0.173240  1.08965  0.076822  0.189358  0.483298\n",
       "14  0.200000  0.173240 -1.20745 -0.588970 -0.631194 -0.302061\n",
       "15  0.333333  0.173240 -0.44175 -0.588970 -0.631194 -0.302061\n",
       "16  0.466667  0.173240 -0.44175 -1.254761 -0.631194 -0.302061\n",
       "17  0.600000  0.173240  0.32395  0.742614  0.189358 -0.302061\n",
       "18  0.733333  0.173240  1.08965  0.742614  0.189358 -0.302061\n",
       "19  0.866667  0.173240  1.08965  0.076822 -0.631194 -0.302061\n",
       "20  1.000000 -0.727607 -1.20745 -0.588970 -0.631194 -1.872778\n",
       "21  1.133333 -0.727607 -1.20745 -1.254761 -0.631194 -1.872778\n",
       "22  1.266667 -0.727607  1.08965 -1.254761 -1.451747 -1.872778\n",
       "23  1.400000 -1.628453 -1.97315 -1.254761 -0.631194  1.268656\n",
       "24  1.533333 -1.628453 -1.97315 -1.254761 -1.451747  1.268656\n",
       "25  1.666667  0.173240  0.32395  1.408406 -0.631194 -0.302061"
      ]
     },
     "execution_count": 22,
     "metadata": {},
     "output_type": "execute_result"
    },
    {
     "data": {
      "application/javascript": [
       "\n",
       "            setTimeout(function() {\n",
       "                var nbb_cell_id = 22;\n",
       "                var nbb_unformatted_code = \"scaler = StandardScaler()\\npd.DataFrame(scaler.fit_transform(df))\";\n",
       "                var nbb_formatted_code = \"scaler = StandardScaler()\\npd.DataFrame(scaler.fit_transform(df))\";\n",
       "                var nbb_cells = Jupyter.notebook.get_cells();\n",
       "                for (var i = 0; i < nbb_cells.length; ++i) {\n",
       "                    if (nbb_cells[i].input_prompt_number == nbb_cell_id) {\n",
       "                        if (nbb_cells[i].get_text() == nbb_unformatted_code) {\n",
       "                             nbb_cells[i].set_text(nbb_formatted_code);\n",
       "                        }\n",
       "                        break;\n",
       "                    }\n",
       "                }\n",
       "            }, 500);\n",
       "            "
      ],
      "text/plain": [
       "<IPython.core.display.Javascript object>"
      ]
     },
     "metadata": {},
     "output_type": "display_data"
    }
   ],
   "source": [
    "scaler = StandardScaler()\n",
    "pd.DataFrame(scaler.fit_transform(df))"
   ]
  },
  {
   "cell_type": "code",
   "execution_count": 23,
   "metadata": {},
   "outputs": [
    {
     "data": {
      "application/javascript": [
       "\n",
       "            setTimeout(function() {\n",
       "                var nbb_cell_id = 23;\n",
       "                var nbb_unformatted_code = \"from scipy.stats import zscore\";\n",
       "                var nbb_formatted_code = \"from scipy.stats import zscore\";\n",
       "                var nbb_cells = Jupyter.notebook.get_cells();\n",
       "                for (var i = 0; i < nbb_cells.length; ++i) {\n",
       "                    if (nbb_cells[i].input_prompt_number == nbb_cell_id) {\n",
       "                        if (nbb_cells[i].get_text() == nbb_unformatted_code) {\n",
       "                             nbb_cells[i].set_text(nbb_formatted_code);\n",
       "                        }\n",
       "                        break;\n",
       "                    }\n",
       "                }\n",
       "            }, 500);\n",
       "            "
      ],
      "text/plain": [
       "<IPython.core.display.Javascript object>"
      ]
     },
     "metadata": {},
     "output_type": "display_data"
    }
   ],
   "source": [
    "from scipy.stats import zscore"
   ]
  },
  {
   "cell_type": "code",
   "execution_count": 26,
   "metadata": {},
   "outputs": [
    {
     "data": {
      "text/html": [
       "<div>\n",
       "<style scoped>\n",
       "    .dataframe tbody tr th:only-of-type {\n",
       "        vertical-align: middle;\n",
       "    }\n",
       "\n",
       "    .dataframe tbody tr th {\n",
       "        vertical-align: top;\n",
       "    }\n",
       "\n",
       "    .dataframe thead th {\n",
       "        text-align: right;\n",
       "    }\n",
       "</style>\n",
       "<table border=\"1\" class=\"dataframe\">\n",
       "  <thead>\n",
       "    <tr style=\"text-align: right;\">\n",
       "      <th></th>\n",
       "      <th>SR_NO</th>\n",
       "      <th>Teaching</th>\n",
       "      <th>Fees</th>\n",
       "      <th>Placements</th>\n",
       "      <th>Internship</th>\n",
       "      <th>Infrastructure</th>\n",
       "    </tr>\n",
       "  </thead>\n",
       "  <tbody>\n",
       "    <tr>\n",
       "      <th>0</th>\n",
       "      <td>-1.666667</td>\n",
       "      <td>1.974933</td>\n",
       "      <td>-1.20745</td>\n",
       "      <td>1.408406</td>\n",
       "      <td>1.830464</td>\n",
       "      <td>-0.302061</td>\n",
       "    </tr>\n",
       "    <tr>\n",
       "      <th>1</th>\n",
       "      <td>-1.533333</td>\n",
       "      <td>1.074086</td>\n",
       "      <td>-1.20745</td>\n",
       "      <td>1.408406</td>\n",
       "      <td>1.830464</td>\n",
       "      <td>-0.302061</td>\n",
       "    </tr>\n",
       "    <tr>\n",
       "      <th>2</th>\n",
       "      <td>-1.400000</td>\n",
       "      <td>1.074086</td>\n",
       "      <td>1.08965</td>\n",
       "      <td>1.408406</td>\n",
       "      <td>1.009911</td>\n",
       "      <td>1.268656</td>\n",
       "    </tr>\n",
       "    <tr>\n",
       "      <th>3</th>\n",
       "      <td>-1.266667</td>\n",
       "      <td>1.974933</td>\n",
       "      <td>0.32395</td>\n",
       "      <td>1.408406</td>\n",
       "      <td>1.009911</td>\n",
       "      <td>0.483298</td>\n",
       "    </tr>\n",
       "    <tr>\n",
       "      <th>4</th>\n",
       "      <td>-1.133333</td>\n",
       "      <td>-0.727607</td>\n",
       "      <td>1.08965</td>\n",
       "      <td>-0.588970</td>\n",
       "      <td>-0.631194</td>\n",
       "      <td>1.268656</td>\n",
       "    </tr>\n",
       "    <tr>\n",
       "      <th>5</th>\n",
       "      <td>-1.000000</td>\n",
       "      <td>0.173240</td>\n",
       "      <td>0.32395</td>\n",
       "      <td>0.076822</td>\n",
       "      <td>0.189358</td>\n",
       "      <td>0.483298</td>\n",
       "    </tr>\n",
       "    <tr>\n",
       "      <th>6</th>\n",
       "      <td>-0.866667</td>\n",
       "      <td>-1.628453</td>\n",
       "      <td>-0.44175</td>\n",
       "      <td>-1.254761</td>\n",
       "      <td>-1.451747</td>\n",
       "      <td>-1.087420</td>\n",
       "    </tr>\n",
       "    <tr>\n",
       "      <th>7</th>\n",
       "      <td>-0.733333</td>\n",
       "      <td>1.074086</td>\n",
       "      <td>0.32395</td>\n",
       "      <td>1.408406</td>\n",
       "      <td>1.830464</td>\n",
       "      <td>1.268656</td>\n",
       "    </tr>\n",
       "    <tr>\n",
       "      <th>8</th>\n",
       "      <td>-0.600000</td>\n",
       "      <td>1.074086</td>\n",
       "      <td>0.32395</td>\n",
       "      <td>0.742614</td>\n",
       "      <td>1.009911</td>\n",
       "      <td>0.483298</td>\n",
       "    </tr>\n",
       "    <tr>\n",
       "      <th>9</th>\n",
       "      <td>-0.466667</td>\n",
       "      <td>0.173240</td>\n",
       "      <td>0.32395</td>\n",
       "      <td>0.076822</td>\n",
       "      <td>1.009911</td>\n",
       "      <td>1.268656</td>\n",
       "    </tr>\n",
       "    <tr>\n",
       "      <th>10</th>\n",
       "      <td>-0.333333</td>\n",
       "      <td>0.173240</td>\n",
       "      <td>0.32395</td>\n",
       "      <td>0.076822</td>\n",
       "      <td>1.009911</td>\n",
       "      <td>1.268656</td>\n",
       "    </tr>\n",
       "    <tr>\n",
       "      <th>11</th>\n",
       "      <td>-0.200000</td>\n",
       "      <td>-0.727607</td>\n",
       "      <td>1.08965</td>\n",
       "      <td>0.076822</td>\n",
       "      <td>-0.631194</td>\n",
       "      <td>-0.302061</td>\n",
       "    </tr>\n",
       "    <tr>\n",
       "      <th>12</th>\n",
       "      <td>-0.066667</td>\n",
       "      <td>-1.628453</td>\n",
       "      <td>1.08965</td>\n",
       "      <td>-1.254761</td>\n",
       "      <td>-0.631194</td>\n",
       "      <td>-1.087420</td>\n",
       "    </tr>\n",
       "    <tr>\n",
       "      <th>13</th>\n",
       "      <td>0.066667</td>\n",
       "      <td>0.173240</td>\n",
       "      <td>1.08965</td>\n",
       "      <td>0.076822</td>\n",
       "      <td>0.189358</td>\n",
       "      <td>0.483298</td>\n",
       "    </tr>\n",
       "    <tr>\n",
       "      <th>14</th>\n",
       "      <td>0.200000</td>\n",
       "      <td>0.173240</td>\n",
       "      <td>-1.20745</td>\n",
       "      <td>-0.588970</td>\n",
       "      <td>-0.631194</td>\n",
       "      <td>-0.302061</td>\n",
       "    </tr>\n",
       "    <tr>\n",
       "      <th>15</th>\n",
       "      <td>0.333333</td>\n",
       "      <td>0.173240</td>\n",
       "      <td>-0.44175</td>\n",
       "      <td>-0.588970</td>\n",
       "      <td>-0.631194</td>\n",
       "      <td>-0.302061</td>\n",
       "    </tr>\n",
       "    <tr>\n",
       "      <th>16</th>\n",
       "      <td>0.466667</td>\n",
       "      <td>0.173240</td>\n",
       "      <td>-0.44175</td>\n",
       "      <td>-1.254761</td>\n",
       "      <td>-0.631194</td>\n",
       "      <td>-0.302061</td>\n",
       "    </tr>\n",
       "    <tr>\n",
       "      <th>17</th>\n",
       "      <td>0.600000</td>\n",
       "      <td>0.173240</td>\n",
       "      <td>0.32395</td>\n",
       "      <td>0.742614</td>\n",
       "      <td>0.189358</td>\n",
       "      <td>-0.302061</td>\n",
       "    </tr>\n",
       "    <tr>\n",
       "      <th>18</th>\n",
       "      <td>0.733333</td>\n",
       "      <td>0.173240</td>\n",
       "      <td>1.08965</td>\n",
       "      <td>0.742614</td>\n",
       "      <td>0.189358</td>\n",
       "      <td>-0.302061</td>\n",
       "    </tr>\n",
       "    <tr>\n",
       "      <th>19</th>\n",
       "      <td>0.866667</td>\n",
       "      <td>0.173240</td>\n",
       "      <td>1.08965</td>\n",
       "      <td>0.076822</td>\n",
       "      <td>-0.631194</td>\n",
       "      <td>-0.302061</td>\n",
       "    </tr>\n",
       "    <tr>\n",
       "      <th>20</th>\n",
       "      <td>1.000000</td>\n",
       "      <td>-0.727607</td>\n",
       "      <td>-1.20745</td>\n",
       "      <td>-0.588970</td>\n",
       "      <td>-0.631194</td>\n",
       "      <td>-1.872778</td>\n",
       "    </tr>\n",
       "    <tr>\n",
       "      <th>21</th>\n",
       "      <td>1.133333</td>\n",
       "      <td>-0.727607</td>\n",
       "      <td>-1.20745</td>\n",
       "      <td>-1.254761</td>\n",
       "      <td>-0.631194</td>\n",
       "      <td>-1.872778</td>\n",
       "    </tr>\n",
       "    <tr>\n",
       "      <th>22</th>\n",
       "      <td>1.266667</td>\n",
       "      <td>-0.727607</td>\n",
       "      <td>1.08965</td>\n",
       "      <td>-1.254761</td>\n",
       "      <td>-1.451747</td>\n",
       "      <td>-1.872778</td>\n",
       "    </tr>\n",
       "    <tr>\n",
       "      <th>23</th>\n",
       "      <td>1.400000</td>\n",
       "      <td>-1.628453</td>\n",
       "      <td>-1.97315</td>\n",
       "      <td>-1.254761</td>\n",
       "      <td>-0.631194</td>\n",
       "      <td>1.268656</td>\n",
       "    </tr>\n",
       "    <tr>\n",
       "      <th>24</th>\n",
       "      <td>1.533333</td>\n",
       "      <td>-1.628453</td>\n",
       "      <td>-1.97315</td>\n",
       "      <td>-1.254761</td>\n",
       "      <td>-1.451747</td>\n",
       "      <td>1.268656</td>\n",
       "    </tr>\n",
       "    <tr>\n",
       "      <th>25</th>\n",
       "      <td>1.666667</td>\n",
       "      <td>0.173240</td>\n",
       "      <td>0.32395</td>\n",
       "      <td>1.408406</td>\n",
       "      <td>-0.631194</td>\n",
       "      <td>-0.302061</td>\n",
       "    </tr>\n",
       "  </tbody>\n",
       "</table>\n",
       "</div>"
      ],
      "text/plain": [
       "       SR_NO  Teaching     Fees  Placements  Internship  Infrastructure\n",
       "0  -1.666667  1.974933 -1.20745    1.408406    1.830464       -0.302061\n",
       "1  -1.533333  1.074086 -1.20745    1.408406    1.830464       -0.302061\n",
       "2  -1.400000  1.074086  1.08965    1.408406    1.009911        1.268656\n",
       "3  -1.266667  1.974933  0.32395    1.408406    1.009911        0.483298\n",
       "4  -1.133333 -0.727607  1.08965   -0.588970   -0.631194        1.268656\n",
       "5  -1.000000  0.173240  0.32395    0.076822    0.189358        0.483298\n",
       "6  -0.866667 -1.628453 -0.44175   -1.254761   -1.451747       -1.087420\n",
       "7  -0.733333  1.074086  0.32395    1.408406    1.830464        1.268656\n",
       "8  -0.600000  1.074086  0.32395    0.742614    1.009911        0.483298\n",
       "9  -0.466667  0.173240  0.32395    0.076822    1.009911        1.268656\n",
       "10 -0.333333  0.173240  0.32395    0.076822    1.009911        1.268656\n",
       "11 -0.200000 -0.727607  1.08965    0.076822   -0.631194       -0.302061\n",
       "12 -0.066667 -1.628453  1.08965   -1.254761   -0.631194       -1.087420\n",
       "13  0.066667  0.173240  1.08965    0.076822    0.189358        0.483298\n",
       "14  0.200000  0.173240 -1.20745   -0.588970   -0.631194       -0.302061\n",
       "15  0.333333  0.173240 -0.44175   -0.588970   -0.631194       -0.302061\n",
       "16  0.466667  0.173240 -0.44175   -1.254761   -0.631194       -0.302061\n",
       "17  0.600000  0.173240  0.32395    0.742614    0.189358       -0.302061\n",
       "18  0.733333  0.173240  1.08965    0.742614    0.189358       -0.302061\n",
       "19  0.866667  0.173240  1.08965    0.076822   -0.631194       -0.302061\n",
       "20  1.000000 -0.727607 -1.20745   -0.588970   -0.631194       -1.872778\n",
       "21  1.133333 -0.727607 -1.20745   -1.254761   -0.631194       -1.872778\n",
       "22  1.266667 -0.727607  1.08965   -1.254761   -1.451747       -1.872778\n",
       "23  1.400000 -1.628453 -1.97315   -1.254761   -0.631194        1.268656\n",
       "24  1.533333 -1.628453 -1.97315   -1.254761   -1.451747        1.268656\n",
       "25  1.666667  0.173240  0.32395    1.408406   -0.631194       -0.302061"
      ]
     },
     "execution_count": 26,
     "metadata": {},
     "output_type": "execute_result"
    },
    {
     "data": {
      "application/javascript": [
       "\n",
       "            setTimeout(function() {\n",
       "                var nbb_cell_id = 26;\n",
       "                var nbb_unformatted_code = \"df.apply(zscore)\";\n",
       "                var nbb_formatted_code = \"df.apply(zscore)\";\n",
       "                var nbb_cells = Jupyter.notebook.get_cells();\n",
       "                for (var i = 0; i < nbb_cells.length; ++i) {\n",
       "                    if (nbb_cells[i].input_prompt_number == nbb_cell_id) {\n",
       "                        if (nbb_cells[i].get_text() == nbb_unformatted_code) {\n",
       "                             nbb_cells[i].set_text(nbb_formatted_code);\n",
       "                        }\n",
       "                        break;\n",
       "                    }\n",
       "                }\n",
       "            }, 500);\n",
       "            "
      ],
      "text/plain": [
       "<IPython.core.display.Javascript object>"
      ]
     },
     "metadata": {},
     "output_type": "display_data"
    }
   ],
   "source": [
    "df.apply(zscore)"
   ]
  },
  {
   "cell_type": "code",
   "execution_count": null,
   "metadata": {},
   "outputs": [],
   "source": [
    "# Centroid-Based\n",
    "# Connectivity-Based\n",
    "# Fuzzy Clustering\n",
    "# Density Based -> DBSCAN\n",
    "# Distribution-Based "
   ]
  },
  {
   "cell_type": "code",
   "execution_count": null,
   "metadata": {},
   "outputs": [],
   "source": [
    "model = KMeans()\n",
    "model.fit(df)\n",
    "model.predict(new_df)\n",
    "\n",
    "model.labels_\n",
    "\n",
    "# not all clustering techniques have '.predict'!! KMeans does have though!"
   ]
  },
  {
   "cell_type": "code",
   "execution_count": 33,
   "metadata": {},
   "outputs": [
    {
     "data": {
      "text/plain": [
       "KMeans(n_clusters=5, random_state=0)"
      ]
     },
     "execution_count": 33,
     "metadata": {},
     "output_type": "execute_result"
    },
    {
     "data": {
      "application/javascript": [
       "\n",
       "            setTimeout(function() {\n",
       "                var nbb_cell_id = 33;\n",
       "                var nbb_unformatted_code = \"model = KMeans(n_clusters=5, random_state=0)\\nmodel.fit(df)\";\n",
       "                var nbb_formatted_code = \"model = KMeans(n_clusters=5, random_state=0)\\nmodel.fit(df)\";\n",
       "                var nbb_cells = Jupyter.notebook.get_cells();\n",
       "                for (var i = 0; i < nbb_cells.length; ++i) {\n",
       "                    if (nbb_cells[i].input_prompt_number == nbb_cell_id) {\n",
       "                        if (nbb_cells[i].get_text() == nbb_unformatted_code) {\n",
       "                             nbb_cells[i].set_text(nbb_formatted_code);\n",
       "                        }\n",
       "                        break;\n",
       "                    }\n",
       "                }\n",
       "            }, 500);\n",
       "            "
      ],
      "text/plain": [
       "<IPython.core.display.Javascript object>"
      ]
     },
     "metadata": {},
     "output_type": "display_data"
    }
   ],
   "source": [
    "model = KMeans(n_clusters=5, random_state=0)\n",
    "model.fit(df)"
   ]
  },
  {
   "cell_type": "code",
   "execution_count": 34,
   "metadata": {},
   "outputs": [
    {
     "data": {
      "text/plain": [
       "array([1, 1, 1, 1, 4, 4, 4, 4, 4, 4, 4, 3, 3, 3, 3, 0, 0, 0, 0, 0, 2, 2,\n",
       "       2, 2, 2, 2])"
      ]
     },
     "execution_count": 34,
     "metadata": {},
     "output_type": "execute_result"
    },
    {
     "data": {
      "application/javascript": [
       "\n",
       "            setTimeout(function() {\n",
       "                var nbb_cell_id = 34;\n",
       "                var nbb_unformatted_code = \"model.labels_\";\n",
       "                var nbb_formatted_code = \"model.labels_\";\n",
       "                var nbb_cells = Jupyter.notebook.get_cells();\n",
       "                for (var i = 0; i < nbb_cells.length; ++i) {\n",
       "                    if (nbb_cells[i].input_prompt_number == nbb_cell_id) {\n",
       "                        if (nbb_cells[i].get_text() == nbb_unformatted_code) {\n",
       "                             nbb_cells[i].set_text(nbb_formatted_code);\n",
       "                        }\n",
       "                        break;\n",
       "                    }\n",
       "                }\n",
       "            }, 500);\n",
       "            "
      ],
      "text/plain": [
       "<IPython.core.display.Javascript object>"
      ]
     },
     "metadata": {},
     "output_type": "display_data"
    }
   ],
   "source": [
    "model.labels_"
   ]
  },
  {
   "cell_type": "code",
   "execution_count": 36,
   "metadata": {},
   "outputs": [
    {
     "data": {
      "application/javascript": [
       "\n",
       "            setTimeout(function() {\n",
       "                var nbb_cell_id = 36;\n",
       "                var nbb_unformatted_code = \"from scipy.spatial.distance import cdist, pdist\";\n",
       "                var nbb_formatted_code = \"from scipy.spatial.distance import cdist, pdist\";\n",
       "                var nbb_cells = Jupyter.notebook.get_cells();\n",
       "                for (var i = 0; i < nbb_cells.length; ++i) {\n",
       "                    if (nbb_cells[i].input_prompt_number == nbb_cell_id) {\n",
       "                        if (nbb_cells[i].get_text() == nbb_unformatted_code) {\n",
       "                             nbb_cells[i].set_text(nbb_formatted_code);\n",
       "                        }\n",
       "                        break;\n",
       "                    }\n",
       "                }\n",
       "            }, 500);\n",
       "            "
      ],
      "text/plain": [
       "<IPython.core.display.Javascript object>"
      ]
     },
     "metadata": {},
     "output_type": "display_data"
    }
   ],
   "source": [
    "from scipy.spatial.distance import cdist, pdist"
   ]
  },
  {
   "cell_type": "code",
   "execution_count": 38,
   "metadata": {},
   "outputs": [
    {
     "data": {
      "text/plain": [
       "(325,)"
      ]
     },
     "execution_count": 38,
     "metadata": {},
     "output_type": "execute_result"
    },
    {
     "data": {
      "application/javascript": [
       "\n",
       "            setTimeout(function() {\n",
       "                var nbb_cell_id = 38;\n",
       "                var nbb_unformatted_code = \"pdist(df).shape\";\n",
       "                var nbb_formatted_code = \"pdist(df).shape\";\n",
       "                var nbb_cells = Jupyter.notebook.get_cells();\n",
       "                for (var i = 0; i < nbb_cells.length; ++i) {\n",
       "                    if (nbb_cells[i].input_prompt_number == nbb_cell_id) {\n",
       "                        if (nbb_cells[i].get_text() == nbb_unformatted_code) {\n",
       "                             nbb_cells[i].set_text(nbb_formatted_code);\n",
       "                        }\n",
       "                        break;\n",
       "                    }\n",
       "                }\n",
       "            }, 500);\n",
       "            "
      ],
      "text/plain": [
       "<IPython.core.display.Javascript object>"
      ]
     },
     "metadata": {},
     "output_type": "display_data"
    }
   ],
   "source": [
    "pdist(df).shape"
   ]
  },
  {
   "cell_type": "code",
   "execution_count": 39,
   "metadata": {},
   "outputs": [
    {
     "data": {
      "text/plain": [
       "(26, 6)"
      ]
     },
     "execution_count": 39,
     "metadata": {},
     "output_type": "execute_result"
    },
    {
     "data": {
      "application/javascript": [
       "\n",
       "            setTimeout(function() {\n",
       "                var nbb_cell_id = 39;\n",
       "                var nbb_unformatted_code = \"df.shape\";\n",
       "                var nbb_formatted_code = \"df.shape\";\n",
       "                var nbb_cells = Jupyter.notebook.get_cells();\n",
       "                for (var i = 0; i < nbb_cells.length; ++i) {\n",
       "                    if (nbb_cells[i].input_prompt_number == nbb_cell_id) {\n",
       "                        if (nbb_cells[i].get_text() == nbb_unformatted_code) {\n",
       "                             nbb_cells[i].set_text(nbb_formatted_code);\n",
       "                        }\n",
       "                        break;\n",
       "                    }\n",
       "                }\n",
       "            }, 500);\n",
       "            "
      ],
      "text/plain": [
       "<IPython.core.display.Javascript object>"
      ]
     },
     "metadata": {},
     "output_type": "display_data"
    }
   ],
   "source": [
    "df.shape"
   ]
  },
  {
   "cell_type": "code",
   "execution_count": null,
   "metadata": {},
   "outputs": [],
   "source": [
    "1  1\n",
    "2  2\n",
    "3  3\n",
    "4 ...\n",
    "5\n",
    "6\n",
    "..\n",
    "26"
   ]
  },
  {
   "cell_type": "code",
   "execution_count": null,
   "metadata": {},
   "outputs": [],
   "source": [
    "n*(n-1)/2"
   ]
  },
  {
   "cell_type": "code",
   "execution_count": 40,
   "metadata": {},
   "outputs": [
    {
     "data": {
      "text/plain": [
       "325.0"
      ]
     },
     "execution_count": 40,
     "metadata": {},
     "output_type": "execute_result"
    },
    {
     "data": {
      "application/javascript": [
       "\n",
       "            setTimeout(function() {\n",
       "                var nbb_cell_id = 40;\n",
       "                var nbb_unformatted_code = \"26*25/2\";\n",
       "                var nbb_formatted_code = \"26 * 25 / 2\";\n",
       "                var nbb_cells = Jupyter.notebook.get_cells();\n",
       "                for (var i = 0; i < nbb_cells.length; ++i) {\n",
       "                    if (nbb_cells[i].input_prompt_number == nbb_cell_id) {\n",
       "                        if (nbb_cells[i].get_text() == nbb_unformatted_code) {\n",
       "                             nbb_cells[i].set_text(nbb_formatted_code);\n",
       "                        }\n",
       "                        break;\n",
       "                    }\n",
       "                }\n",
       "            }, 500);\n",
       "            "
      ],
      "text/plain": [
       "<IPython.core.display.Javascript object>"
      ]
     },
     "metadata": {},
     "output_type": "display_data"
    }
   ],
   "source": [
    "26 * 25 / 2"
   ]
  },
  {
   "cell_type": "code",
   "execution_count": 80,
   "metadata": {},
   "outputs": [
    {
     "data": {
      "text/plain": [
       "Index(['SR_NO', 'Teaching', 'Fees', 'Placements', 'Internship',\n",
       "       'Infrastructure'],\n",
       "      dtype='object')"
      ]
     },
     "execution_count": 80,
     "metadata": {},
     "output_type": "execute_result"
    },
    {
     "data": {
      "application/javascript": [
       "\n",
       "            setTimeout(function() {\n",
       "                var nbb_cell_id = 80;\n",
       "                var nbb_unformatted_code = \"cdist(df, df).shape\\ndf.columns\";\n",
       "                var nbb_formatted_code = \"cdist(df, df).shape\\ndf.columns\";\n",
       "                var nbb_cells = Jupyter.notebook.get_cells();\n",
       "                for (var i = 0; i < nbb_cells.length; ++i) {\n",
       "                    if (nbb_cells[i].input_prompt_number == nbb_cell_id) {\n",
       "                        if (nbb_cells[i].get_text() == nbb_unformatted_code) {\n",
       "                             nbb_cells[i].set_text(nbb_formatted_code);\n",
       "                        }\n",
       "                        break;\n",
       "                    }\n",
       "                }\n",
       "            }, 500);\n",
       "            "
      ],
      "text/plain": [
       "<IPython.core.display.Javascript object>"
      ]
     },
     "metadata": {},
     "output_type": "display_data"
    }
   ],
   "source": [
    "cdist(df, df).shape\n",
    "df.columns"
   ]
  },
  {
   "cell_type": "code",
   "execution_count": 84,
   "metadata": {},
   "outputs": [
    {
     "data": {
      "text/plain": [
       "array([[15.        ,  2.66666667,  4.        ,  2.55555556,  2.55555556,\n",
       "         3.22222222],\n",
       "       [ 5.5       ,  3.5       ,  3.7       ,  3.8       ,  3.7       ,\n",
       "         4.        ],\n",
       "       [23.        ,  2.        ,  2.85714286,  2.        ,  1.71428571,\n",
       "         2.71428571]])"
      ]
     },
     "execution_count": 84,
     "metadata": {},
     "output_type": "execute_result"
    },
    {
     "data": {
      "application/javascript": [
       "\n",
       "            setTimeout(function() {\n",
       "                var nbb_cell_id = 84;\n",
       "                var nbb_unformatted_code = \"model.cluster_centers_\";\n",
       "                var nbb_formatted_code = \"model.cluster_centers_\";\n",
       "                var nbb_cells = Jupyter.notebook.get_cells();\n",
       "                for (var i = 0; i < nbb_cells.length; ++i) {\n",
       "                    if (nbb_cells[i].input_prompt_number == nbb_cell_id) {\n",
       "                        if (nbb_cells[i].get_text() == nbb_unformatted_code) {\n",
       "                             nbb_cells[i].set_text(nbb_formatted_code);\n",
       "                        }\n",
       "                        break;\n",
       "                    }\n",
       "                }\n",
       "            }, 500);\n",
       "            "
      ],
      "text/plain": [
       "<IPython.core.display.Javascript object>"
      ]
     },
     "metadata": {},
     "output_type": "display_data"
    }
   ],
   "source": [
    "model.cluster_centers_"
   ]
  },
  {
   "cell_type": "code",
   "execution_count": 94,
   "metadata": {},
   "outputs": [
    {
     "data": {
      "text/plain": [
       "KMeans(n_clusters=3, n_init=100, random_state=3)"
      ]
     },
     "execution_count": 94,
     "metadata": {},
     "output_type": "execute_result"
    },
    {
     "data": {
      "application/javascript": [
       "\n",
       "            setTimeout(function() {\n",
       "                var nbb_cell_id = 94;\n",
       "                var nbb_unformatted_code = \"model = KMeans(n_clusters=3, random_state=3, n_init=100)\\nmodel.fit(df)\";\n",
       "                var nbb_formatted_code = \"model = KMeans(n_clusters=3, random_state=3, n_init=100)\\nmodel.fit(df)\";\n",
       "                var nbb_cells = Jupyter.notebook.get_cells();\n",
       "                for (var i = 0; i < nbb_cells.length; ++i) {\n",
       "                    if (nbb_cells[i].input_prompt_number == nbb_cell_id) {\n",
       "                        if (nbb_cells[i].get_text() == nbb_unformatted_code) {\n",
       "                             nbb_cells[i].set_text(nbb_formatted_code);\n",
       "                        }\n",
       "                        break;\n",
       "                    }\n",
       "                }\n",
       "            }, 500);\n",
       "            "
      ],
      "text/plain": [
       "<IPython.core.display.Javascript object>"
      ]
     },
     "metadata": {},
     "output_type": "display_data"
    }
   ],
   "source": [
    "model = KMeans(n_clusters=3, random_state=3, n_init=100)\n",
    "model.fit(df)"
   ]
  },
  {
   "cell_type": "code",
   "execution_count": 87,
   "metadata": {},
   "outputs": [
    {
     "data": {
      "text/html": [
       "<div>\n",
       "<style scoped>\n",
       "    .dataframe tbody tr th:only-of-type {\n",
       "        vertical-align: middle;\n",
       "    }\n",
       "\n",
       "    .dataframe tbody tr th {\n",
       "        vertical-align: top;\n",
       "    }\n",
       "\n",
       "    .dataframe thead th {\n",
       "        text-align: right;\n",
       "    }\n",
       "</style>\n",
       "<table border=\"1\" class=\"dataframe\">\n",
       "  <thead>\n",
       "    <tr style=\"text-align: right;\">\n",
       "      <th></th>\n",
       "      <th>0</th>\n",
       "      <th>1</th>\n",
       "      <th>2</th>\n",
       "      <th>3</th>\n",
       "      <th>4</th>\n",
       "      <th>5</th>\n",
       "    </tr>\n",
       "  </thead>\n",
       "  <tbody>\n",
       "    <tr>\n",
       "      <th>0</th>\n",
       "      <td>15.0</td>\n",
       "      <td>2.666667</td>\n",
       "      <td>4.000000</td>\n",
       "      <td>2.555556</td>\n",
       "      <td>2.555556</td>\n",
       "      <td>3.222222</td>\n",
       "    </tr>\n",
       "    <tr>\n",
       "      <th>1</th>\n",
       "      <td>5.5</td>\n",
       "      <td>3.500000</td>\n",
       "      <td>3.700000</td>\n",
       "      <td>3.800000</td>\n",
       "      <td>3.700000</td>\n",
       "      <td>4.000000</td>\n",
       "    </tr>\n",
       "    <tr>\n",
       "      <th>2</th>\n",
       "      <td>23.0</td>\n",
       "      <td>2.000000</td>\n",
       "      <td>2.857143</td>\n",
       "      <td>2.000000</td>\n",
       "      <td>1.714286</td>\n",
       "      <td>2.714286</td>\n",
       "    </tr>\n",
       "  </tbody>\n",
       "</table>\n",
       "</div>"
      ],
      "text/plain": [
       "      0         1         2         3         4         5\n",
       "0  15.0  2.666667  4.000000  2.555556  2.555556  3.222222\n",
       "1   5.5  3.500000  3.700000  3.800000  3.700000  4.000000\n",
       "2  23.0  2.000000  2.857143  2.000000  1.714286  2.714286"
      ]
     },
     "execution_count": 87,
     "metadata": {},
     "output_type": "execute_result"
    },
    {
     "data": {
      "application/javascript": [
       "\n",
       "            setTimeout(function() {\n",
       "                var nbb_cell_id = 87;\n",
       "                var nbb_unformatted_code = \"pd.DataFrame(model.cluster_centers_)\";\n",
       "                var nbb_formatted_code = \"pd.DataFrame(model.cluster_centers_)\";\n",
       "                var nbb_cells = Jupyter.notebook.get_cells();\n",
       "                for (var i = 0; i < nbb_cells.length; ++i) {\n",
       "                    if (nbb_cells[i].input_prompt_number == nbb_cell_id) {\n",
       "                        if (nbb_cells[i].get_text() == nbb_unformatted_code) {\n",
       "                             nbb_cells[i].set_text(nbb_formatted_code);\n",
       "                        }\n",
       "                        break;\n",
       "                    }\n",
       "                }\n",
       "            }, 500);\n",
       "            "
      ],
      "text/plain": [
       "<IPython.core.display.Javascript object>"
      ]
     },
     "metadata": {},
     "output_type": "display_data"
    }
   ],
   "source": [
    "pd.DataFrame(model.cluster_centers_)"
   ]
  },
  {
   "cell_type": "code",
   "execution_count": 88,
   "metadata": {},
   "outputs": [
    {
     "name": "stderr",
     "output_type": "stream",
     "text": [
      "C:\\Users\\parva\\anaconda3\\lib\\site-packages\\seaborn\\_decorators.py:36: FutureWarning: Pass the following variables as keyword args: x, y. From version 0.12, the only valid positional argument will be `data`, and passing other arguments without an explicit keyword will result in an error or misinterpretation.\n",
      "  warnings.warn(\n"
     ]
    },
    {
     "data": {
      "text/plain": [
       "<seaborn.axisgrid.JointGrid at 0x1929e29ecd0>"
      ]
     },
     "execution_count": 88,
     "metadata": {},
     "output_type": "execute_result"
    },
    {
     "data": {
      "image/png": "[encoded data removed]",
      "text/plain": [
       "<Figure size 432x432 with 3 Axes>"
      ]
     },
     "metadata": {},
     "output_type": "display_data"
    },
    {
     "data": {
      "application/javascript": [
       "\n",
       "            setTimeout(function() {\n",
       "                var nbb_cell_id = 88;\n",
       "                var nbb_unformatted_code = \"sns.jointplot(df[\\\"Teaching\\\"], df[\\\"Fees\\\"], hue=model.labels_)\";\n",
       "                var nbb_formatted_code = \"sns.jointplot(df[\\\"Teaching\\\"], df[\\\"Fees\\\"], hue=model.labels_)\";\n",
       "                var nbb_cells = Jupyter.notebook.get_cells();\n",
       "                for (var i = 0; i < nbb_cells.length; ++i) {\n",
       "                    if (nbb_cells[i].input_prompt_number == nbb_cell_id) {\n",
       "                        if (nbb_cells[i].get_text() == nbb_unformatted_code) {\n",
       "                             nbb_cells[i].set_text(nbb_formatted_code);\n",
       "                        }\n",
       "                        break;\n",
       "                    }\n",
       "                }\n",
       "            }, 500);\n",
       "            "
      ],
      "text/plain": [
       "<IPython.core.display.Javascript object>"
      ]
     },
     "metadata": {},
     "output_type": "display_data"
    }
   ],
   "source": [
    "sns.jointplot(df[\"Teaching\"], df[\"Fees\"], hue=model.labels_)"
   ]
  },
  {
   "cell_type": "code",
   "execution_count": 93,
   "metadata": {},
   "outputs": [
    {
     "name": "stderr",
     "output_type": "stream",
     "text": [
      "C:\\Users\\parva\\anaconda3\\lib\\site-packages\\seaborn\\_decorators.py:36: FutureWarning: Pass the following variables as keyword args: x, y. From version 0.12, the only valid positional argument will be `data`, and passing other arguments without an explicit keyword will result in an error or misinterpretation.\n",
      "  warnings.warn(\n"
     ]
    },
    {
     "data": {
      "text/plain": [
       "<seaborn.axisgrid.JointGrid at 0x1929e455700>"
      ]
     },
     "execution_count": 93,
     "metadata": {},
     "output_type": "execute_result"
    },
    {
     "data": {
      "image/png": "[encoded data removed]",
      "text/plain": [
       "<Figure size 432x432 with 3 Axes>"
      ]
     },
     "metadata": {},
     "output_type": "display_data"
    },
    {
     "data": {
      "application/javascript": [
       "\n",
       "            setTimeout(function() {\n",
       "                var nbb_cell_id = 93;\n",
       "                var nbb_unformatted_code = \"sns.jointplot(df[\\\"Teaching\\\"], df[\\\"Fees\\\"], hue=model.labels_)\";\n",
       "                var nbb_formatted_code = \"sns.jointplot(df[\\\"Teaching\\\"], df[\\\"Fees\\\"], hue=model.labels_)\";\n",
       "                var nbb_cells = Jupyter.notebook.get_cells();\n",
       "                for (var i = 0; i < nbb_cells.length; ++i) {\n",
       "                    if (nbb_cells[i].input_prompt_number == nbb_cell_id) {\n",
       "                        if (nbb_cells[i].get_text() == nbb_unformatted_code) {\n",
       "                             nbb_cells[i].set_text(nbb_formatted_code);\n",
       "                        }\n",
       "                        break;\n",
       "                    }\n",
       "                }\n",
       "            }, 500);\n",
       "            "
      ],
      "text/plain": [
       "<IPython.core.display.Javascript object>"
      ]
     },
     "metadata": {},
     "output_type": "display_data"
    }
   ],
   "source": [
    "sns.jointplot(df[\"Teaching\"], df[\"Fees\"], hue=model.labels_)"
   ]
  },
  {
   "cell_type": "code",
   "execution_count": 95,
   "metadata": {},
   "outputs": [
    {
     "data": {
      "text/html": [
       "<div>\n",
       "<style scoped>\n",
       "    .dataframe tbody tr th:only-of-type {\n",
       "        vertical-align: middle;\n",
       "    }\n",
       "\n",
       "    .dataframe tbody tr th {\n",
       "        vertical-align: top;\n",
       "    }\n",
       "\n",
       "    .dataframe thead th {\n",
       "        text-align: right;\n",
       "    }\n",
       "</style>\n",
       "<table border=\"1\" class=\"dataframe\">\n",
       "  <thead>\n",
       "    <tr style=\"text-align: right;\">\n",
       "      <th></th>\n",
       "      <th>0</th>\n",
       "      <th>1</th>\n",
       "      <th>2</th>\n",
       "      <th>3</th>\n",
       "      <th>4</th>\n",
       "      <th>5</th>\n",
       "    </tr>\n",
       "  </thead>\n",
       "  <tbody>\n",
       "    <tr>\n",
       "      <th>0</th>\n",
       "      <td>5.5</td>\n",
       "      <td>3.500000</td>\n",
       "      <td>3.700000</td>\n",
       "      <td>3.800000</td>\n",
       "      <td>3.700000</td>\n",
       "      <td>4.000000</td>\n",
       "    </tr>\n",
       "    <tr>\n",
       "      <th>1</th>\n",
       "      <td>15.0</td>\n",
       "      <td>2.666667</td>\n",
       "      <td>4.000000</td>\n",
       "      <td>2.555556</td>\n",
       "      <td>2.555556</td>\n",
       "      <td>3.222222</td>\n",
       "    </tr>\n",
       "    <tr>\n",
       "      <th>2</th>\n",
       "      <td>23.0</td>\n",
       "      <td>2.000000</td>\n",
       "      <td>2.857143</td>\n",
       "      <td>2.000000</td>\n",
       "      <td>1.714286</td>\n",
       "      <td>2.714286</td>\n",
       "    </tr>\n",
       "  </tbody>\n",
       "</table>\n",
       "</div>"
      ],
      "text/plain": [
       "      0         1         2         3         4         5\n",
       "0   5.5  3.500000  3.700000  3.800000  3.700000  4.000000\n",
       "1  15.0  2.666667  4.000000  2.555556  2.555556  3.222222\n",
       "2  23.0  2.000000  2.857143  2.000000  1.714286  2.714286"
      ]
     },
     "execution_count": 95,
     "metadata": {},
     "output_type": "execute_result"
    },
    {
     "data": {
      "application/javascript": [
       "\n",
       "            setTimeout(function() {\n",
       "                var nbb_cell_id = 95;\n",
       "                var nbb_unformatted_code = \"pd.DataFrame(model.cluster_centers_)\";\n",
       "                var nbb_formatted_code = \"pd.DataFrame(model.cluster_centers_)\";\n",
       "                var nbb_cells = Jupyter.notebook.get_cells();\n",
       "                for (var i = 0; i < nbb_cells.length; ++i) {\n",
       "                    if (nbb_cells[i].input_prompt_number == nbb_cell_id) {\n",
       "                        if (nbb_cells[i].get_text() == nbb_unformatted_code) {\n",
       "                             nbb_cells[i].set_text(nbb_formatted_code);\n",
       "                        }\n",
       "                        break;\n",
       "                    }\n",
       "                }\n",
       "            }, 500);\n",
       "            "
      ],
      "text/plain": [
       "<IPython.core.display.Javascript object>"
      ]
     },
     "metadata": {},
     "output_type": "display_data"
    }
   ],
   "source": [
    "pd.DataFrame(model.cluster_centers_)"
   ]
  },
  {
   "cell_type": "code",
   "execution_count": null,
   "metadata": {},
   "outputs": [],
   "source": []
  },
  {
   "cell_type": "code",
   "execution_count": 79,
   "metadata": {},
   "outputs": [
    {
     "data": {
      "text/html": [
       "<div>\n",
       "<style scoped>\n",
       "    .dataframe tbody tr th:only-of-type {\n",
       "        vertical-align: middle;\n",
       "    }\n",
       "\n",
       "    .dataframe tbody tr th {\n",
       "        vertical-align: top;\n",
       "    }\n",
       "\n",
       "    .dataframe thead th {\n",
       "        text-align: right;\n",
       "    }\n",
       "</style>\n",
       "<table border=\"1\" class=\"dataframe\">\n",
       "  <thead>\n",
       "    <tr style=\"text-align: right;\">\n",
       "      <th></th>\n",
       "      <th>0</th>\n",
       "      <th>1</th>\n",
       "      <th>2</th>\n",
       "      <th>3</th>\n",
       "      <th>4</th>\n",
       "      <th>5</th>\n",
       "    </tr>\n",
       "  </thead>\n",
       "  <tbody>\n",
       "    <tr>\n",
       "      <th>0</th>\n",
       "      <td>15.0</td>\n",
       "      <td>2.666667</td>\n",
       "      <td>4.000000</td>\n",
       "      <td>2.555556</td>\n",
       "      <td>2.555556</td>\n",
       "      <td>3.222222</td>\n",
       "    </tr>\n",
       "    <tr>\n",
       "      <th>1</th>\n",
       "      <td>5.5</td>\n",
       "      <td>3.500000</td>\n",
       "      <td>3.700000</td>\n",
       "      <td>3.800000</td>\n",
       "      <td>3.700000</td>\n",
       "      <td>4.000000</td>\n",
       "    </tr>\n",
       "    <tr>\n",
       "      <th>2</th>\n",
       "      <td>23.0</td>\n",
       "      <td>2.000000</td>\n",
       "      <td>2.857143</td>\n",
       "      <td>2.000000</td>\n",
       "      <td>1.714286</td>\n",
       "      <td>2.714286</td>\n",
       "    </tr>\n",
       "  </tbody>\n",
       "</table>\n",
       "</div>"
      ],
      "text/plain": [
       "      0         1         2         3         4         5\n",
       "0  15.0  2.666667  4.000000  2.555556  2.555556  3.222222\n",
       "1   5.5  3.500000  3.700000  3.800000  3.700000  4.000000\n",
       "2  23.0  2.000000  2.857143  2.000000  1.714286  2.714286"
      ]
     },
     "execution_count": 79,
     "metadata": {},
     "output_type": "execute_result"
    },
    {
     "data": {
      "application/javascript": [
       "\n",
       "            setTimeout(function() {\n",
       "                var nbb_cell_id = 79;\n",
       "                var nbb_unformatted_code = \"pd.DataFrame(model.cluster_centers_)\";\n",
       "                var nbb_formatted_code = \"pd.DataFrame(model.cluster_centers_)\";\n",
       "                var nbb_cells = Jupyter.notebook.get_cells();\n",
       "                for (var i = 0; i < nbb_cells.length; ++i) {\n",
       "                    if (nbb_cells[i].input_prompt_number == nbb_cell_id) {\n",
       "                        if (nbb_cells[i].get_text() == nbb_unformatted_code) {\n",
       "                             nbb_cells[i].set_text(nbb_formatted_code);\n",
       "                        }\n",
       "                        break;\n",
       "                    }\n",
       "                }\n",
       "            }, 500);\n",
       "            "
      ],
      "text/plain": [
       "<IPython.core.display.Javascript object>"
      ]
     },
     "metadata": {},
     "output_type": "display_data"
    }
   ],
   "source": [
    "pd.DataFrame(model.cluster_centers_)"
   ]
  },
  {
   "cell_type": "code",
   "execution_count": 62,
   "metadata": {},
   "outputs": [
    {
     "data": {
      "text/plain": [
       "12.78901098901099"
      ]
     },
     "execution_count": 62,
     "metadata": {},
     "output_type": "execute_result"
    },
    {
     "data": {
      "application/javascript": [
       "\n",
       "            setTimeout(function() {\n",
       "                var nbb_cell_id = 62;\n",
       "                var nbb_unformatted_code = \"sum(np.power(np.min(cdist(df, model.cluster_centers_), axis=1), 2))/df.shape[0]\";\n",
       "                var nbb_formatted_code = \"sum(np.power(np.min(cdist(df, model.cluster_centers_), axis=1), 2)) / df.shape[0]\";\n",
       "                var nbb_cells = Jupyter.notebook.get_cells();\n",
       "                for (var i = 0; i < nbb_cells.length; ++i) {\n",
       "                    if (nbb_cells[i].input_prompt_number == nbb_cell_id) {\n",
       "                        if (nbb_cells[i].get_text() == nbb_unformatted_code) {\n",
       "                             nbb_cells[i].set_text(nbb_formatted_code);\n",
       "                        }\n",
       "                        break;\n",
       "                    }\n",
       "                }\n",
       "            }, 500);\n",
       "            "
      ],
      "text/plain": [
       "<IPython.core.display.Javascript object>"
      ]
     },
     "metadata": {},
     "output_type": "display_data"
    }
   ],
   "source": [
    "elbow = sum(np.power(np.min(cdist(df, model.cluster_centers_), axis=1), 2)) / df.shape[0]"
   ]
  },
  {
   "cell_type": "code",
   "execution_count": null,
   "metadata": {},
   "outputs": [],
   "source": [
    "26 , 3"
   ]
  },
  {
   "cell_type": "code",
   "execution_count": 100,
   "metadata": {},
   "outputs": [
    {
     "name": "stderr",
     "output_type": "stream",
     "text": [
      "C:\\Users\\parva\\anaconda3\\lib\\site-packages\\sklearn\\cluster\\_kmeans.py:1036: UserWarning: KMeans is known to have a memory leak on Windows with MKL, when there are less chunks than available threads. You can avoid it by setting the environment variable OMP_NUM_THREADS=1.\n",
      "  warnings.warn(\n"
     ]
    },
    {
     "name": "stdout",
     "output_type": "stream",
     "text": [
      "Number of Clusters: 1 \tAverage Distortion: 7.199756272235324\n",
      "Number of Clusters: 2 \tAverage Distortion: 4.2633653530525475\n",
      "Number of Clusters: 3 \tAverage Distortion: 3.4291067140223106\n",
      "Number of Clusters: 4 \tAverage Distortion: 2.892985653066293\n",
      "Number of Clusters: 5 \tAverage Distortion: 2.596789653082608\n",
      "Number of Clusters: 6 \tAverage Distortion: 2.279017675001616\n",
      "Number of Clusters: 7 \tAverage Distortion: 2.0400607076900714\n",
      "Number of Clusters: 8 \tAverage Distortion: 1.7450630714759872\n"
     ]
    },
    {
     "data": {
      "text/plain": [
       "Text(0.5, 1.0, 'Selecting k with the Elbow Method')"
      ]
     },
     "execution_count": 100,
     "metadata": {},
     "output_type": "execute_result"
    },
    {
     "data": {
      "image/png": "[encoded data removed]",
      "text/plain": [
       "<Figure size 576x396 with 1 Axes>"
      ]
     },
     "metadata": {},
     "output_type": "display_data"
    },
    {
     "data": {
      "application/javascript": [
       "\n",
       "            setTimeout(function() {\n",
       "                var nbb_cell_id = 100;\n",
       "                var nbb_unformatted_code = \"clusters = range(1, 9)\\nmeanDistortions = []\\n\\nfor k in clusters:\\n    model = KMeans(n_clusters=k)\\n    model.fit(df)\\n    prediction = model.predict(df)\\n    distortion = (\\n        sum(np.min(cdist(df, model.cluster_centers_, \\\"euclidean\\\"), axis=1))\\n        / df.shape[0]\\n    )\\n\\n    meanDistortions.append(distortion)\\n\\n    print(\\\"Number of Clusters:\\\", k, \\\"\\\\tAverage Distortion:\\\", distortion)\\n\\nplt.plot(clusters, meanDistortions, \\\"bx-\\\")\\nplt.xlabel(\\\"k\\\")\\nplt.ylabel(\\\"Average Distortion\\\")\\nplt.title(\\\"Selecting k with the Elbow Method\\\", fontsize=20)\";\n",
       "                var nbb_formatted_code = \"clusters = range(1, 9)\\nmeanDistortions = []\\n\\nfor k in clusters:\\n    model = KMeans(n_clusters=k)\\n    model.fit(df)\\n    prediction = model.predict(df)\\n    distortion = (\\n        sum(np.min(cdist(df, model.cluster_centers_, \\\"euclidean\\\"), axis=1))\\n        / df.shape[0]\\n    )\\n\\n    meanDistortions.append(distortion)\\n\\n    print(\\\"Number of Clusters:\\\", k, \\\"\\\\tAverage Distortion:\\\", distortion)\\n\\nplt.plot(clusters, meanDistortions, \\\"bx-\\\")\\nplt.xlabel(\\\"k\\\")\\nplt.ylabel(\\\"Average Distortion\\\")\\nplt.title(\\\"Selecting k with the Elbow Method\\\", fontsize=20)\";\n",
       "                var nbb_cells = Jupyter.notebook.get_cells();\n",
       "                for (var i = 0; i < nbb_cells.length; ++i) {\n",
       "                    if (nbb_cells[i].input_prompt_number == nbb_cell_id) {\n",
       "                        if (nbb_cells[i].get_text() == nbb_unformatted_code) {\n",
       "                             nbb_cells[i].set_text(nbb_formatted_code);\n",
       "                        }\n",
       "                        break;\n",
       "                    }\n",
       "                }\n",
       "            }, 500);\n",
       "            "
      ],
      "text/plain": [
       "<IPython.core.display.Javascript object>"
      ]
     },
     "metadata": {},
     "output_type": "display_data"
    }
   ],
   "source": [
    "clusters = range(1, 9)\n",
    "meanDistortions = []\n",
    "\n",
    "for k in clusters:\n",
    "    model = KMeans(n_clusters=k)\n",
    "    model.fit(df)\n",
    "    prediction = model.predict(df)\n",
    "    distortion = (\n",
    "        sum(np.min(cdist(df, model.cluster_centers_, \"euclidean\"), axis=1))\n",
    "        / df.shape[0]\n",
    "    )\n",
    "\n",
    "    meanDistortions.append(distortion)\n",
    "\n",
    "    print(\"Number of Clusters:\", k, \"\\tAverage Distortion:\", distortion)\n",
    "\n",
    "plt.plot(clusters, meanDistortions, \"bx-\")\n",
    "plt.xlabel(\"k\")\n",
    "plt.ylabel(\"Average Distortion\")\n",
    "plt.title(\"Selecting k with the Elbow Method\", fontsize=20)"
   ]
  },
  {
   "cell_type": "code",
   "execution_count": 96,
   "metadata": {},
   "outputs": [
    {
     "data": {
      "text/plain": [
       "array([0, 0, 0, 0, 0, 0, 0, 0, 0, 0, 1, 1, 1, 1, 1, 1, 1, 1, 1, 2, 2, 2,\n",
       "       2, 2, 2, 2])"
      ]
     },
     "execution_count": 96,
     "metadata": {},
     "output_type": "execute_result"
    },
    {
     "data": {
      "application/javascript": [
       "\n",
       "            setTimeout(function() {\n",
       "                var nbb_cell_id = 96;\n",
       "                var nbb_unformatted_code = \"model.labels_\";\n",
       "                var nbb_formatted_code = \"model.labels_\";\n",
       "                var nbb_cells = Jupyter.notebook.get_cells();\n",
       "                for (var i = 0; i < nbb_cells.length; ++i) {\n",
       "                    if (nbb_cells[i].input_prompt_number == nbb_cell_id) {\n",
       "                        if (nbb_cells[i].get_text() == nbb_unformatted_code) {\n",
       "                             nbb_cells[i].set_text(nbb_formatted_code);\n",
       "                        }\n",
       "                        break;\n",
       "                    }\n",
       "                }\n",
       "            }, 500);\n",
       "            "
      ],
      "text/plain": [
       "<IPython.core.display.Javascript object>"
      ]
     },
     "metadata": {},
     "output_type": "display_data"
    }
   ],
   "source": [
    "model.labels_"
   ]
  },
  {
   "cell_type": "code",
   "execution_count": 97,
   "metadata": {},
   "outputs": [
    {
     "data": {
      "application/javascript": [
       "\n",
       "            setTimeout(function() {\n",
       "                var nbb_cell_id = 97;\n",
       "                var nbb_unformatted_code = \"from sklearn.metrics import silhouette_score\";\n",
       "                var nbb_formatted_code = \"from sklearn.metrics import silhouette_score\";\n",
       "                var nbb_cells = Jupyter.notebook.get_cells();\n",
       "                for (var i = 0; i < nbb_cells.length; ++i) {\n",
       "                    if (nbb_cells[i].input_prompt_number == nbb_cell_id) {\n",
       "                        if (nbb_cells[i].get_text() == nbb_unformatted_code) {\n",
       "                             nbb_cells[i].set_text(nbb_formatted_code);\n",
       "                        }\n",
       "                        break;\n",
       "                    }\n",
       "                }\n",
       "            }, 500);\n",
       "            "
      ],
      "text/plain": [
       "<IPython.core.display.Javascript object>"
      ]
     },
     "metadata": {},
     "output_type": "display_data"
    }
   ],
   "source": [
    "from sklearn.metrics import silhouette_score"
   ]
  },
  {
   "cell_type": "code",
   "execution_count": 98,
   "metadata": {},
   "outputs": [
    {
     "data": {
      "text/plain": [
       "0.4012376889849892"
      ]
     },
     "execution_count": 98,
     "metadata": {},
     "output_type": "execute_result"
    },
    {
     "data": {
      "application/javascript": [
       "\n",
       "            setTimeout(function() {\n",
       "                var nbb_cell_id = 98;\n",
       "                var nbb_unformatted_code = \"silhouette_score(df, model.predict(df))\";\n",
       "                var nbb_formatted_code = \"silhouette_score(df, model.predict(df))\";\n",
       "                var nbb_cells = Jupyter.notebook.get_cells();\n",
       "                for (var i = 0; i < nbb_cells.length; ++i) {\n",
       "                    if (nbb_cells[i].input_prompt_number == nbb_cell_id) {\n",
       "                        if (nbb_cells[i].get_text() == nbb_unformatted_code) {\n",
       "                             nbb_cells[i].set_text(nbb_formatted_code);\n",
       "                        }\n",
       "                        break;\n",
       "                    }\n",
       "                }\n",
       "            }, 500);\n",
       "            "
      ],
      "text/plain": [
       "<IPython.core.display.Javascript object>"
      ]
     },
     "metadata": {},
     "output_type": "display_data"
    }
   ],
   "source": [
    "silhouette_score(df, model.predict(df))"
   ]
  },
  {
   "cell_type": "code",
   "execution_count": 99,
   "metadata": {},
   "outputs": [
    {
     "name": "stdout",
     "output_type": "stream",
     "text": [
      "For n_clusters = 2, silhouette score is 0.5174829096297324\n",
      "For n_clusters = 3, silhouette score is 0.3945995793823431\n",
      "For n_clusters = 4, silhouette score is 0.37987560391239783\n",
      "For n_clusters = 5, silhouette score is 0.3421959133407407\n",
      "For n_clusters = 6, silhouette score is 0.3763262216438934\n",
      "For n_clusters = 7, silhouette score is 0.37337224839054567\n",
      "For n_clusters = 8, silhouette score is 0.423278818583477\n",
      "For n_clusters = 9, silhouette score is 0.4523537287121136\n"
     ]
    },
    {
     "data": {
      "text/plain": [
       "[<matplotlib.lines.Line2D at 0x1929e6a4a90>]"
      ]
     },
     "execution_count": 99,
     "metadata": {},
     "output_type": "execute_result"
    },
    {
     "data": {
      "image/png": "[encoded data removed]",
      "text/plain": [
       "<Figure size 576x396 with 1 Axes>"
      ]
     },
     "metadata": {},
     "output_type": "display_data"
    },
    {
     "data": {
      "application/javascript": [
       "\n",
       "            setTimeout(function() {\n",
       "                var nbb_cell_id = 99;\n",
       "                var nbb_unformatted_code = \"sil_score = []\\ncluster_list = list(range(2, 10))\\n\\nfor n_clusters in cluster_list:\\n    clusterer = KMeans(n_clusters=n_clusters)\\n    preds = clusterer.fit_predict((df))\\n    # centers = clusterer.cluster_centers_\\n    score = silhouette_score(df, preds)\\n    sil_score.append(score)\\n    print(\\\"For n_clusters = {}, silhouette score is {}\\\".format(n_clusters, score))\\n\\nplt.plot(cluster_list, sil_score)\";\n",
       "                var nbb_formatted_code = \"sil_score = []\\ncluster_list = list(range(2, 10))\\n\\nfor n_clusters in cluster_list:\\n    clusterer = KMeans(n_clusters=n_clusters)\\n    preds = clusterer.fit_predict((df))\\n    # centers = clusterer.cluster_centers_\\n    score = silhouette_score(df, preds)\\n    sil_score.append(score)\\n    print(\\\"For n_clusters = {}, silhouette score is {}\\\".format(n_clusters, score))\\n\\nplt.plot(cluster_list, sil_score)\";\n",
       "                var nbb_cells = Jupyter.notebook.get_cells();\n",
       "                for (var i = 0; i < nbb_cells.length; ++i) {\n",
       "                    if (nbb_cells[i].input_prompt_number == nbb_cell_id) {\n",
       "                        if (nbb_cells[i].get_text() == nbb_unformatted_code) {\n",
       "                             nbb_cells[i].set_text(nbb_formatted_code);\n",
       "                        }\n",
       "                        break;\n",
       "                    }\n",
       "                }\n",
       "            }, 500);\n",
       "            "
      ],
      "text/plain": [
       "<IPython.core.display.Javascript object>"
      ]
     },
     "metadata": {},
     "output_type": "display_data"
    }
   ],
   "source": [
    "sil_score = []\n",
    "cluster_list = list(range(2, 10))\n",
    "\n",
    "for n_clusters in cluster_list:\n",
    "    clusterer = KMeans(n_clusters=n_clusters)\n",
    "    preds = clusterer.fit_predict((df))\n",
    "    # centers = clusterer.cluster_centers_\n",
    "    score = silhouette_score(df, preds)\n",
    "    sil_score.append(score)\n",
    "    print(\"For n_clusters = {}, silhouette score is {}\".format(n_clusters, score))\n",
    "\n",
    "plt.plot(cluster_list, sil_score)"
   ]
  },
  {
   "cell_type": "code",
   "execution_count": null,
   "metadata": {},
   "outputs": [],
   "source": []
  },
  {
   "cell_type": "markdown",
   "metadata": {},
   "source": [
    "## Context\n",
    "\n",
    "Education is fast becoming a very competitive sector with hundreds of institutions to choose from. It is a life-transforming experience for any student and it has to be a thoughtful decision. There are ranking agencies that do a survey of all the colleges to provide more insights to students. Agency RankForYou wants to leverage this year's survey to roll out an editorial article in leading newspapers, on the state of engineering education in the country. Head of PR (Public Relations) comes to you, the data scientist working at RankForYou, and asks you to come up with evidence-based insights for that article."
   ]
  },
  {
   "cell_type": "code",
   "execution_count": 17,
   "metadata": {},
   "outputs": [
    {
     "data": {
      "text/plain": [
       "0.9805806756909199"
      ]
     },
     "execution_count": 17,
     "metadata": {},
     "output_type": "execute_result"
    },
    {
     "data": {
      "application/javascript": [
       "\n",
       "            setTimeout(function() {\n",
       "                var nbb_cell_id = 17;\n",
       "                var nbb_unformatted_code = \"np.std(X)\";\n",
       "                var nbb_formatted_code = \"np.std(X)\";\n",
       "                var nbb_cells = Jupyter.notebook.get_cells();\n",
       "                for (var i = 0; i < nbb_cells.length; ++i) {\n",
       "                    if (nbb_cells[i].input_prompt_number == nbb_cell_id) {\n",
       "                        if (nbb_cells[i].get_text() == nbb_unformatted_code) {\n",
       "                             nbb_cells[i].set_text(nbb_formatted_code);\n",
       "                        }\n",
       "                        break;\n",
       "                    }\n",
       "                }\n",
       "            }, 500);\n",
       "            "
      ],
      "text/plain": [
       "<IPython.core.display.Javascript object>"
      ]
     },
     "metadata": {},
     "output_type": "display_data"
    }
   ],
   "source": [
    "np.std(X)"
   ]
  },
  {
   "cell_type": "code",
   "execution_count": null,
   "metadata": {},
   "outputs": [],
   "source": []
  },
  {
   "cell_type": "markdown",
   "metadata": {},
   "source": [
    "## Objective\n",
    "\n",
    "To identify different types of engineering colleges in the country to better understand the state of affairs.\n",
    "\n",
    "\n",
    "## Key Questions\n",
    "\n",
    "- How many different types (clusters/segments) of colleges can be found from the data?\n",
    "- How do these different groups of colleges differ from each other?\n",
    "- Do you get slightly different solutions from two different techniques? How would you explain the difference?\n",
    "\n",
    "\n",
    "## Data Description\n",
    "\n",
    "The data contains survey results for 26 engineering colleges. The initial survey data has been summarized into a rating scale of 1-5 for different factors.\n",
    "\n",
    "**Factor rating index**\n",
    " - 1 - Very low\n",
    " - 2 - Low\n",
    " - 3 - Medium\n",
    " - 4 - High\n",
    " - 5 - Very high\n",
    " \n",
    "**Data Dictionary**\n",
    " - SR_NO: Serial Number\n",
    " - Engg_College: 26 Engineering colleges with pseudonyms A to Z\n",
    " - Teaching: Quality of teaching at the engineering college\n",
    " - Fees: Fees at the engineering college\n",
    " - Placements: Job placements after a student graduates from the engineering college\n",
    " - Internship: Student Internships at the engineering college\n",
    " - Infrastructure: Infrastructure of the engineering college"
   ]
  },
  {
   "cell_type": "markdown",
   "metadata": {
    "id": "iM29eMvG9MQ6"
   },
   "source": [
    "## Let's start coding!"
   ]
  },
  {
   "cell_type": "markdown",
   "metadata": {},
   "source": [
    "### Importing necessary libraries"
   ]
  },
  {
   "cell_type": "code",
   "execution_count": 25,
   "metadata": {},
   "outputs": [
    {
     "name": "stdout",
     "output_type": "stream",
     "text": [
      "The nb_black extension is already loaded. To reload it, use:\n",
      "  %reload_ext nb_black\n"
     ]
    },
    {
     "data": {
      "application/javascript": [
       "\n",
       "            setTimeout(function() {\n",
       "                var nbb_cell_id = 25;\n",
       "                var nbb_unformatted_code = \"# this will help in making the Python code more structured automatically (good coding practice)\\n%load_ext nb_black\\n\\n# Libraries to help with reading and manipulating data\\nimport numpy as np\\nimport pandas as pd\\n\\n# Libraries to help with data visualization\\nimport matplotlib.pyplot as plt\\nimport seaborn as sns\\n\\n# to scale the data using z-score\\nfrom sklearn.preprocessing import StandardScaler\\n\\n# to compute distances\\nfrom scipy.spatial.distance import cdist\\n\\n# to perform k-means clustering and compute silhouette scores\\nfrom sklearn.cluster import KMeans\\nfrom sklearn.metrics import silhouette_score\\n\\n# to visualize the elbow curve and silhouette scores\\nfrom yellowbrick.cluster import KElbowVisualizer, SilhouetteVisualizer\";\n",
       "                var nbb_formatted_code = \"# this will help in making the Python code more structured automatically (good coding practice)\\n%load_ext nb_black\\n\\n# Libraries to help with reading and manipulating data\\nimport numpy as np\\nimport pandas as pd\\n\\n# Libraries to help with data visualization\\nimport matplotlib.pyplot as plt\\nimport seaborn as sns\\n\\n# to scale the data using z-score\\nfrom sklearn.preprocessing import StandardScaler\\n\\n# to compute distances\\nfrom scipy.spatial.distance import cdist\\n\\n# to perform k-means clustering and compute silhouette scores\\nfrom sklearn.cluster import KMeans\\nfrom sklearn.metrics import silhouette_score\\n\\n# to visualize the elbow curve and silhouette scores\\nfrom yellowbrick.cluster import KElbowVisualizer, SilhouetteVisualizer\";\n",
       "                var nbb_cells = Jupyter.notebook.get_cells();\n",
       "                for (var i = 0; i < nbb_cells.length; ++i) {\n",
       "                    if (nbb_cells[i].input_prompt_number == nbb_cell_id) {\n",
       "                        if (nbb_cells[i].get_text() == nbb_unformatted_code) {\n",
       "                             nbb_cells[i].set_text(nbb_formatted_code);\n",
       "                        }\n",
       "                        break;\n",
       "                    }\n",
       "                }\n",
       "            }, 500);\n",
       "            "
      ],
      "text/plain": [
       "<IPython.core.display.Javascript object>"
      ]
     },
     "metadata": {},
     "output_type": "display_data"
    }
   ],
   "source": [
    "# this will help in making the Python code more structured automatically (good coding practice)\n",
    "%load_ext nb_black\n",
    "\n",
    "# Libraries to help with reading and manipulating data\n",
    "import numpy as np\n",
    "import pandas as pd\n",
    "\n",
    "# Libraries to help with data visualization\n",
    "import matplotlib.pyplot as plt\n",
    "import seaborn as sns\n",
    "\n",
    "# to scale the data using z-score\n",
    "from sklearn.preprocessing import StandardScaler\n",
    "\n",
    "# to compute distances\n",
    "from scipy.spatial.distance import cdist\n",
    "\n",
    "# to perform k-means clustering and compute silhouette scores\n",
    "from sklearn.cluster import KMeans\n",
    "from sklearn.metrics import silhouette_score\n",
    "\n",
    "# to visualize the elbow curve and silhouette scores\n",
    "from yellowbrick.cluster import KElbowVisualizer, SilhouetteVisualizer"
   ]
  },
  {
   "cell_type": "code",
   "execution_count": 26,
   "metadata": {},
   "outputs": [
    {
     "data": {
      "application/javascript": [
       "\n",
       "            setTimeout(function() {\n",
       "                var nbb_cell_id = 26;\n",
       "                var nbb_unformatted_code = \"# loading the dataset\\ndata = pd.read_csv(\\\"Nutrient+Composition+Dataset.csv\\\")\";\n",
       "                var nbb_formatted_code = \"# loading the dataset\\ndata = pd.read_csv(\\\"Nutrient+Composition+Dataset.csv\\\")\";\n",
       "                var nbb_cells = Jupyter.notebook.get_cells();\n",
       "                for (var i = 0; i < nbb_cells.length; ++i) {\n",
       "                    if (nbb_cells[i].input_prompt_number == nbb_cell_id) {\n",
       "                        if (nbb_cells[i].get_text() == nbb_unformatted_code) {\n",
       "                             nbb_cells[i].set_text(nbb_formatted_code);\n",
       "                        }\n",
       "                        break;\n",
       "                    }\n",
       "                }\n",
       "            }, 500);\n",
       "            "
      ],
      "text/plain": [
       "<IPython.core.display.Javascript object>"
      ]
     },
     "metadata": {},
     "output_type": "display_data"
    }
   ],
   "source": [
    "# loading the dataset\n",
    "data = pd.read_csv(\"Nutrient+Composition+Dataset.csv\")"
   ]
  },
  {
   "cell_type": "code",
   "execution_count": 27,
   "metadata": {
    "scrolled": true
   },
   "outputs": [
    {
     "data": {
      "text/plain": [
       "(1746, 6)"
      ]
     },
     "execution_count": 27,
     "metadata": {},
     "output_type": "execute_result"
    },
    {
     "data": {
      "application/javascript": [
       "\n",
       "            setTimeout(function() {\n",
       "                var nbb_cell_id = 27;\n",
       "                var nbb_unformatted_code = \"data.shape\";\n",
       "                var nbb_formatted_code = \"data.shape\";\n",
       "                var nbb_cells = Jupyter.notebook.get_cells();\n",
       "                for (var i = 0; i < nbb_cells.length; ++i) {\n",
       "                    if (nbb_cells[i].input_prompt_number == nbb_cell_id) {\n",
       "                        if (nbb_cells[i].get_text() == nbb_unformatted_code) {\n",
       "                             nbb_cells[i].set_text(nbb_formatted_code);\n",
       "                        }\n",
       "                        break;\n",
       "                    }\n",
       "                }\n",
       "            }, 500);\n",
       "            "
      ],
      "text/plain": [
       "<IPython.core.display.Javascript object>"
      ]
     },
     "metadata": {},
     "output_type": "display_data"
    }
   ],
   "source": [
    "data.shape"
   ]
  },
  {
   "cell_type": "markdown",
   "metadata": {},
   "source": [
    "* The dataset has 26 rows and 7 columns "
   ]
  },
  {
   "cell_type": "code",
   "execution_count": 28,
   "metadata": {},
   "outputs": [
    {
     "data": {
      "text/html": [
       "<div>\n",
       "<style scoped>\n",
       "    .dataframe tbody tr th:only-of-type {\n",
       "        vertical-align: middle;\n",
       "    }\n",
       "\n",
       "    .dataframe tbody tr th {\n",
       "        vertical-align: top;\n",
       "    }\n",
       "\n",
       "    .dataframe thead th {\n",
       "        text-align: right;\n",
       "    }\n",
       "</style>\n",
       "<table border=\"1\" class=\"dataframe\">\n",
       "  <thead>\n",
       "    <tr style=\"text-align: right;\">\n",
       "      <th></th>\n",
       "      <th>S.No</th>\n",
       "      <th>Protein</th>\n",
       "      <th>Fat</th>\n",
       "      <th>vitaminC</th>\n",
       "      <th>Fiber</th>\n",
       "      <th>Product</th>\n",
       "    </tr>\n",
       "  </thead>\n",
       "  <tbody>\n",
       "    <tr>\n",
       "      <th>1010</th>\n",
       "      <td>1011</td>\n",
       "      <td>-0.490958</td>\n",
       "      <td>-0.614748</td>\n",
       "      <td>-1.100076</td>\n",
       "      <td>-0.601097</td>\n",
       "      <td>Alcoholic beverage, wine, beer</td>\n",
       "    </tr>\n",
       "    <tr>\n",
       "      <th>1582</th>\n",
       "      <td>1583</td>\n",
       "      <td>-1.160201</td>\n",
       "      <td>0.340049</td>\n",
       "      <td>-0.892182</td>\n",
       "      <td>1.898395</td>\n",
       "      <td>Bean, sporouted seeds</td>\n",
       "    </tr>\n",
       "    <tr>\n",
       "      <th>47</th>\n",
       "      <td>48</td>\n",
       "      <td>1.668056</td>\n",
       "      <td>1.767883</td>\n",
       "      <td>1.666838</td>\n",
       "      <td>-0.675627</td>\n",
       "      <td>Beef, flank, steak, separable lean and fat, tr...</td>\n",
       "    </tr>\n",
       "    <tr>\n",
       "      <th>304</th>\n",
       "      <td>305</td>\n",
       "      <td>-0.361130</td>\n",
       "      <td>0.188898</td>\n",
       "      <td>-1.412071</td>\n",
       "      <td>0.792773</td>\n",
       "      <td>Fish, grouper, mixed species, cooked, dry heat</td>\n",
       "    </tr>\n",
       "    <tr>\n",
       "      <th>534</th>\n",
       "      <td>535</td>\n",
       "      <td>-0.629738</td>\n",
       "      <td>0.305815</td>\n",
       "      <td>-0.438456</td>\n",
       "      <td>0.019764</td>\n",
       "      <td>Soup, chicken, canned, chunky, ready-to-serve</td>\n",
       "    </tr>\n",
       "    <tr>\n",
       "      <th>1123</th>\n",
       "      <td>1124</td>\n",
       "      <td>-0.969034</td>\n",
       "      <td>1.090557</td>\n",
       "      <td>2.286335</td>\n",
       "      <td>-0.496590</td>\n",
       "      <td>Sorghum flour, whole-grain</td>\n",
       "    </tr>\n",
       "    <tr>\n",
       "      <th>48</th>\n",
       "      <td>49</td>\n",
       "      <td>0.504296</td>\n",
       "      <td>-0.946973</td>\n",
       "      <td>-0.023497</td>\n",
       "      <td>-1.129559</td>\n",
       "      <td>Bagels, plain, enriched, with calcium propiona...</td>\n",
       "    </tr>\n",
       "    <tr>\n",
       "      <th>1584</th>\n",
       "      <td>1585</td>\n",
       "      <td>-0.546106</td>\n",
       "      <td>-0.238144</td>\n",
       "      <td>1.517469</td>\n",
       "      <td>0.472610</td>\n",
       "      <td>Bean, sporouted seeds</td>\n",
       "    </tr>\n",
       "    <tr>\n",
       "      <th>302</th>\n",
       "      <td>303</td>\n",
       "      <td>-1.058150</td>\n",
       "      <td>0.278420</td>\n",
       "      <td>1.124066</td>\n",
       "      <td>0.219585</td>\n",
       "      <td>Cereals, CREAM OF WHEAT, instant, prepared wit...</td>\n",
       "    </tr>\n",
       "    <tr>\n",
       "      <th>1032</th>\n",
       "      <td>1033</td>\n",
       "      <td>-0.935125</td>\n",
       "      <td>0.592144</td>\n",
       "      <td>-0.360597</td>\n",
       "      <td>-0.578787</td>\n",
       "      <td>Alcoholic beverage, wine, beer</td>\n",
       "    </tr>\n",
       "  </tbody>\n",
       "</table>\n",
       "</div>"
      ],
      "text/plain": [
       "      S.No   Protein       Fat  vitaminC     Fiber  \\\n",
       "1010  1011 -0.490958 -0.614748 -1.100076 -0.601097   \n",
       "1582  1583 -1.160201  0.340049 -0.892182  1.898395   \n",
       "47      48  1.668056  1.767883  1.666838 -0.675627   \n",
       "304    305 -0.361130  0.188898 -1.412071  0.792773   \n",
       "534    535 -0.629738  0.305815 -0.438456  0.019764   \n",
       "1123  1124 -0.969034  1.090557  2.286335 -0.496590   \n",
       "48      49  0.504296 -0.946973 -0.023497 -1.129559   \n",
       "1584  1585 -0.546106 -0.238144  1.517469  0.472610   \n",
       "302    303 -1.058150  0.278420  1.124066  0.219585   \n",
       "1032  1033 -0.935125  0.592144 -0.360597 -0.578787   \n",
       "\n",
       "                                                Product  \n",
       "1010                     Alcoholic beverage, wine, beer  \n",
       "1582                              Bean, sporouted seeds  \n",
       "47    Beef, flank, steak, separable lean and fat, tr...  \n",
       "304      Fish, grouper, mixed species, cooked, dry heat  \n",
       "534       Soup, chicken, canned, chunky, ready-to-serve  \n",
       "1123                         Sorghum flour, whole-grain  \n",
       "48    Bagels, plain, enriched, with calcium propiona...  \n",
       "1584                              Bean, sporouted seeds  \n",
       "302   Cereals, CREAM OF WHEAT, instant, prepared wit...  \n",
       "1032                     Alcoholic beverage, wine, beer  "
      ]
     },
     "execution_count": 28,
     "metadata": {},
     "output_type": "execute_result"
    },
    {
     "data": {
      "application/javascript": [
       "\n",
       "            setTimeout(function() {\n",
       "                var nbb_cell_id = 28;\n",
       "                var nbb_unformatted_code = \"# viewing a random sample of the dataset\\ndata.sample(n=10, random_state=1)\";\n",
       "                var nbb_formatted_code = \"# viewing a random sample of the dataset\\ndata.sample(n=10, random_state=1)\";\n",
       "                var nbb_cells = Jupyter.notebook.get_cells();\n",
       "                for (var i = 0; i < nbb_cells.length; ++i) {\n",
       "                    if (nbb_cells[i].input_prompt_number == nbb_cell_id) {\n",
       "                        if (nbb_cells[i].get_text() == nbb_unformatted_code) {\n",
       "                             nbb_cells[i].set_text(nbb_formatted_code);\n",
       "                        }\n",
       "                        break;\n",
       "                    }\n",
       "                }\n",
       "            }, 500);\n",
       "            "
      ],
      "text/plain": [
       "<IPython.core.display.Javascript object>"
      ]
     },
     "metadata": {},
     "output_type": "display_data"
    }
   ],
   "source": [
    "# viewing a random sample of the dataset\n",
    "data.sample(n=10, random_state=1)"
   ]
  },
  {
   "cell_type": "code",
   "execution_count": 29,
   "metadata": {},
   "outputs": [
    {
     "data": {
      "application/javascript": [
       "\n",
       "            setTimeout(function() {\n",
       "                var nbb_cell_id = 29;\n",
       "                var nbb_unformatted_code = \"# copying the data to another variable to avoid any changes to original data\\ndf = data.copy()\";\n",
       "                var nbb_formatted_code = \"# copying the data to another variable to avoid any changes to original data\\ndf = data.copy()\";\n",
       "                var nbb_cells = Jupyter.notebook.get_cells();\n",
       "                for (var i = 0; i < nbb_cells.length; ++i) {\n",
       "                    if (nbb_cells[i].input_prompt_number == nbb_cell_id) {\n",
       "                        if (nbb_cells[i].get_text() == nbb_unformatted_code) {\n",
       "                             nbb_cells[i].set_text(nbb_formatted_code);\n",
       "                        }\n",
       "                        break;\n",
       "                    }\n",
       "                }\n",
       "            }, 500);\n",
       "            "
      ],
      "text/plain": [
       "<IPython.core.display.Javascript object>"
      ]
     },
     "metadata": {},
     "output_type": "display_data"
    }
   ],
   "source": [
    "# copying the data to another variable to avoid any changes to original data\n",
    "df = data.copy()"
   ]
  },
  {
   "cell_type": "code",
   "execution_count": 30,
   "metadata": {},
   "outputs": [
    {
     "data": {
      "application/javascript": [
       "\n",
       "            setTimeout(function() {\n",
       "                var nbb_cell_id = 30;\n",
       "                var nbb_unformatted_code = \"# dropping the serial no. column as it does not provide any information\\ndf.drop(\\\"S.No\\\", axis=1, inplace=True)\";\n",
       "                var nbb_formatted_code = \"# dropping the serial no. column as it does not provide any information\\ndf.drop(\\\"S.No\\\", axis=1, inplace=True)\";\n",
       "                var nbb_cells = Jupyter.notebook.get_cells();\n",
       "                for (var i = 0; i < nbb_cells.length; ++i) {\n",
       "                    if (nbb_cells[i].input_prompt_number == nbb_cell_id) {\n",
       "                        if (nbb_cells[i].get_text() == nbb_unformatted_code) {\n",
       "                             nbb_cells[i].set_text(nbb_formatted_code);\n",
       "                        }\n",
       "                        break;\n",
       "                    }\n",
       "                }\n",
       "            }, 500);\n",
       "            "
      ],
      "text/plain": [
       "<IPython.core.display.Javascript object>"
      ]
     },
     "metadata": {},
     "output_type": "display_data"
    }
   ],
   "source": [
    "# dropping the serial no. column as it does not provide any information\n",
    "df.drop(\"S.No\", axis=1, inplace=True)"
   ]
  },
  {
   "cell_type": "code",
   "execution_count": 31,
   "metadata": {},
   "outputs": [
    {
     "name": "stdout",
     "output_type": "stream",
     "text": [
      "<class 'pandas.core.frame.DataFrame'>\n",
      "RangeIndex: 1746 entries, 0 to 1745\n",
      "Data columns (total 5 columns):\n",
      " #   Column    Non-Null Count  Dtype  \n",
      "---  ------    --------------  -----  \n",
      " 0   Protein   1746 non-null   float64\n",
      " 1   Fat       1746 non-null   float64\n",
      " 2   vitaminC  1746 non-null   float64\n",
      " 3   Fiber     1746 non-null   float64\n",
      " 4   Product   1746 non-null   object \n",
      "dtypes: float64(4), object(1)\n",
      "memory usage: 68.3+ KB\n"
     ]
    },
    {
     "data": {
      "application/javascript": [
       "\n",
       "            setTimeout(function() {\n",
       "                var nbb_cell_id = 31;\n",
       "                var nbb_unformatted_code = \"df.info()\";\n",
       "                var nbb_formatted_code = \"df.info()\";\n",
       "                var nbb_cells = Jupyter.notebook.get_cells();\n",
       "                for (var i = 0; i < nbb_cells.length; ++i) {\n",
       "                    if (nbb_cells[i].input_prompt_number == nbb_cell_id) {\n",
       "                        if (nbb_cells[i].get_text() == nbb_unformatted_code) {\n",
       "                             nbb_cells[i].set_text(nbb_formatted_code);\n",
       "                        }\n",
       "                        break;\n",
       "                    }\n",
       "                }\n",
       "            }, 500);\n",
       "            "
      ],
      "text/plain": [
       "<IPython.core.display.Javascript object>"
      ]
     },
     "metadata": {},
     "output_type": "display_data"
    }
   ],
   "source": [
    "df.info()"
   ]
  },
  {
   "cell_type": "code",
   "execution_count": 32,
   "metadata": {},
   "outputs": [
    {
     "data": {
      "text/html": [
       "<div>\n",
       "<style scoped>\n",
       "    .dataframe tbody tr th:only-of-type {\n",
       "        vertical-align: middle;\n",
       "    }\n",
       "\n",
       "    .dataframe tbody tr th {\n",
       "        vertical-align: top;\n",
       "    }\n",
       "\n",
       "    .dataframe thead th {\n",
       "        text-align: right;\n",
       "    }\n",
       "</style>\n",
       "<table border=\"1\" class=\"dataframe\">\n",
       "  <thead>\n",
       "    <tr style=\"text-align: right;\">\n",
       "      <th></th>\n",
       "      <th>Protein</th>\n",
       "      <th>Fat</th>\n",
       "      <th>vitaminC</th>\n",
       "      <th>Fiber</th>\n",
       "    </tr>\n",
       "  </thead>\n",
       "  <tbody>\n",
       "    <tr>\n",
       "      <th>count</th>\n",
       "      <td>1.746000e+03</td>\n",
       "      <td>1.746000e+03</td>\n",
       "      <td>1.746000e+03</td>\n",
       "      <td>1.746000e+03</td>\n",
       "    </tr>\n",
       "    <tr>\n",
       "      <th>mean</th>\n",
       "      <td>-6.872831e-12</td>\n",
       "      <td>-8.591086e-12</td>\n",
       "      <td>-5.727307e-13</td>\n",
       "      <td>7.445586e-12</td>\n",
       "    </tr>\n",
       "    <tr>\n",
       "      <th>std</th>\n",
       "      <td>1.000286e+00</td>\n",
       "      <td>1.000286e+00</td>\n",
       "      <td>1.000286e+00</td>\n",
       "      <td>1.000286e+00</td>\n",
       "    </tr>\n",
       "    <tr>\n",
       "      <th>min</th>\n",
       "      <td>-1.471161e+00</td>\n",
       "      <td>-1.418308e+00</td>\n",
       "      <td>-1.443263e+00</td>\n",
       "      <td>-1.433311e+00</td>\n",
       "    </tr>\n",
       "    <tr>\n",
       "      <th>25%</th>\n",
       "      <td>-7.761675e-01</td>\n",
       "      <td>-7.964675e-01</td>\n",
       "      <td>-7.713125e-01</td>\n",
       "      <td>-8.165133e-01</td>\n",
       "    </tr>\n",
       "    <tr>\n",
       "      <th>50%</th>\n",
       "      <td>-1.745679e-01</td>\n",
       "      <td>-1.503757e-01</td>\n",
       "      <td>-1.665248e-01</td>\n",
       "      <td>-1.277286e-01</td>\n",
       "    </tr>\n",
       "    <tr>\n",
       "      <th>75%</th>\n",
       "      <td>5.943651e-01</td>\n",
       "      <td>6.287443e-01</td>\n",
       "      <td>6.104591e-01</td>\n",
       "      <td>6.301339e-01</td>\n",
       "    </tr>\n",
       "    <tr>\n",
       "      <th>max</th>\n",
       "      <td>4.935689e+00</td>\n",
       "      <td>4.853568e+00</td>\n",
       "      <td>4.991719e+00</td>\n",
       "      <td>4.259645e+00</td>\n",
       "    </tr>\n",
       "  </tbody>\n",
       "</table>\n",
       "</div>"
      ],
      "text/plain": [
       "            Protein           Fat      vitaminC         Fiber\n",
       "count  1.746000e+03  1.746000e+03  1.746000e+03  1.746000e+03\n",
       "mean  -6.872831e-12 -8.591086e-12 -5.727307e-13  7.445586e-12\n",
       "std    1.000286e+00  1.000286e+00  1.000286e+00  1.000286e+00\n",
       "min   -1.471161e+00 -1.418308e+00 -1.443263e+00 -1.433311e+00\n",
       "25%   -7.761675e-01 -7.964675e-01 -7.713125e-01 -8.165133e-01\n",
       "50%   -1.745679e-01 -1.503757e-01 -1.665248e-01 -1.277286e-01\n",
       "75%    5.943651e-01  6.287443e-01  6.104591e-01  6.301339e-01\n",
       "max    4.935689e+00  4.853568e+00  4.991719e+00  4.259645e+00"
      ]
     },
     "execution_count": 32,
     "metadata": {},
     "output_type": "execute_result"
    },
    {
     "data": {
      "application/javascript": [
       "\n",
       "            setTimeout(function() {\n",
       "                var nbb_cell_id = 32;\n",
       "                var nbb_unformatted_code = \"df.describe()\";\n",
       "                var nbb_formatted_code = \"df.describe()\";\n",
       "                var nbb_cells = Jupyter.notebook.get_cells();\n",
       "                for (var i = 0; i < nbb_cells.length; ++i) {\n",
       "                    if (nbb_cells[i].input_prompt_number == nbb_cell_id) {\n",
       "                        if (nbb_cells[i].get_text() == nbb_unformatted_code) {\n",
       "                             nbb_cells[i].set_text(nbb_formatted_code);\n",
       "                        }\n",
       "                        break;\n",
       "                    }\n",
       "                }\n",
       "            }, 500);\n",
       "            "
      ],
      "text/plain": [
       "<IPython.core.display.Javascript object>"
      ]
     },
     "metadata": {},
     "output_type": "display_data"
    }
   ],
   "source": [
    "df.describe()"
   ]
  },
  {
   "cell_type": "code",
   "execution_count": 33,
   "metadata": {},
   "outputs": [
    {
     "data": {
      "text/plain": [
       "Protein     0\n",
       "Fat         0\n",
       "vitaminC    0\n",
       "Fiber       0\n",
       "Product     0\n",
       "dtype: int64"
      ]
     },
     "execution_count": 33,
     "metadata": {},
     "output_type": "execute_result"
    },
    {
     "data": {
      "application/javascript": [
       "\n",
       "            setTimeout(function() {\n",
       "                var nbb_cell_id = 33;\n",
       "                var nbb_unformatted_code = \"# checking for missing values\\ndf.isna().sum()\";\n",
       "                var nbb_formatted_code = \"# checking for missing values\\ndf.isna().sum()\";\n",
       "                var nbb_cells = Jupyter.notebook.get_cells();\n",
       "                for (var i = 0; i < nbb_cells.length; ++i) {\n",
       "                    if (nbb_cells[i].input_prompt_number == nbb_cell_id) {\n",
       "                        if (nbb_cells[i].get_text() == nbb_unformatted_code) {\n",
       "                             nbb_cells[i].set_text(nbb_formatted_code);\n",
       "                        }\n",
       "                        break;\n",
       "                    }\n",
       "                }\n",
       "            }, 500);\n",
       "            "
      ],
      "text/plain": [
       "<IPython.core.display.Javascript object>"
      ]
     },
     "metadata": {},
     "output_type": "display_data"
    }
   ],
   "source": [
    "# checking for missing values\n",
    "df.isna().sum()"
   ]
  },
  {
   "cell_type": "code",
   "execution_count": 34,
   "metadata": {},
   "outputs": [
    {
     "data": {
      "text/plain": [
       "Alcoholic beverage, wine, beer                                                 542\n",
       "Chicken, broilers or fryers, raw                                               284\n",
       "Bean, sporouted seeds                                                           87\n",
       "Drumstick pods, raw                                                              1\n",
       "Pork, cured, ham, shank, bone-in, separable lean and fat, unheated               1\n",
       "                                                                              ... \n",
       "Croutons, seasoned                                                               1\n",
       "Crustaceans, crab, queen, cooked, moist heat                                     1\n",
       "Crustaceans, spiny lobster, mixed species, cooked, moist heat                    1\n",
       "Game meat, bison, top round, separable lean only, 1\" steak, cooked, broiled      1\n",
       "Muffin, blueberry, commercially prepared, low-fat                                1\n",
       "Name: Product, Length: 836, dtype: int64"
      ]
     },
     "execution_count": 34,
     "metadata": {},
     "output_type": "execute_result"
    },
    {
     "data": {
      "application/javascript": [
       "\n",
       "            setTimeout(function() {\n",
       "                var nbb_cell_id = 34;\n",
       "                var nbb_unformatted_code = \"df.Product.value_counts()\";\n",
       "                var nbb_formatted_code = \"df.Product.value_counts()\";\n",
       "                var nbb_cells = Jupyter.notebook.get_cells();\n",
       "                for (var i = 0; i < nbb_cells.length; ++i) {\n",
       "                    if (nbb_cells[i].input_prompt_number == nbb_cell_id) {\n",
       "                        if (nbb_cells[i].get_text() == nbb_unformatted_code) {\n",
       "                             nbb_cells[i].set_text(nbb_formatted_code);\n",
       "                        }\n",
       "                        break;\n",
       "                    }\n",
       "                }\n",
       "            }, 500);\n",
       "            "
      ],
      "text/plain": [
       "<IPython.core.display.Javascript object>"
      ]
     },
     "metadata": {},
     "output_type": "display_data"
    }
   ],
   "source": [
    "df.Product.value_counts()"
   ]
  },
  {
   "cell_type": "markdown",
   "metadata": {},
   "source": [
    "- There are no missing values in our data"
   ]
  },
  {
   "cell_type": "markdown",
   "metadata": {},
   "source": [
    "# EDA"
   ]
  },
  {
   "cell_type": "markdown",
   "metadata": {},
   "source": [
    "### Univariate Analysis"
   ]
  },
  {
   "cell_type": "code",
   "execution_count": 35,
   "metadata": {},
   "outputs": [
    {
     "data": {
      "application/javascript": [
       "\n",
       "            setTimeout(function() {\n",
       "                var nbb_cell_id = 35;\n",
       "                var nbb_unformatted_code = \"# function to plot a boxplot and a histogram along the same scale.\\n\\n\\ndef histogram_boxplot(data, feature, figsize=(12, 7), kde=False, bins=None):\\n    \\\"\\\"\\\"\\n    Boxplot and histogram combined\\n\\n    data: dataframe\\n    feature: dataframe column\\n    figsize: size of figure (default (12,7))\\n    kde: whether to the show density curve (default False)\\n    bins: number of bins for histogram (default None)\\n    \\\"\\\"\\\"\\n    f2, (ax_box2, ax_hist2) = plt.subplots(\\n        nrows=2,  # Number of rows of the subplot grid= 2\\n        sharex=True,  # x-axis will be shared among all subplots\\n        gridspec_kw={\\\"height_ratios\\\": (0.25, 0.75)},\\n        figsize=figsize,\\n    )  # creating the 2 subplots\\n    sns.boxplot(\\n        data=data, x=feature, ax=ax_box2, showmeans=True, color=\\\"violet\\\"\\n    )  # boxplot will be created and a star will indicate the mean value of the column\\n    sns.histplot(\\n        data=data, x=feature, kde=kde, ax=ax_hist2, bins=bins, palette=\\\"winter\\\"\\n    ) if bins else sns.histplot(\\n        data=data, x=feature, kde=kde, ax=ax_hist2, discrete=True\\n    )  # For histogram\\n    ax_hist2.axvline(\\n        data[feature].mean(), color=\\\"green\\\", linestyle=\\\"--\\\"\\n    )  # Add mean to the histogram\\n    ax_hist2.axvline(\\n        data[feature].median(), color=\\\"black\\\", linestyle=\\\"-\\\"\\n    )  # Add median to the histogram\";\n",
       "                var nbb_formatted_code = \"# function to plot a boxplot and a histogram along the same scale.\\n\\n\\ndef histogram_boxplot(data, feature, figsize=(12, 7), kde=False, bins=None):\\n    \\\"\\\"\\\"\\n    Boxplot and histogram combined\\n\\n    data: dataframe\\n    feature: dataframe column\\n    figsize: size of figure (default (12,7))\\n    kde: whether to the show density curve (default False)\\n    bins: number of bins for histogram (default None)\\n    \\\"\\\"\\\"\\n    f2, (ax_box2, ax_hist2) = plt.subplots(\\n        nrows=2,  # Number of rows of the subplot grid= 2\\n        sharex=True,  # x-axis will be shared among all subplots\\n        gridspec_kw={\\\"height_ratios\\\": (0.25, 0.75)},\\n        figsize=figsize,\\n    )  # creating the 2 subplots\\n    sns.boxplot(\\n        data=data, x=feature, ax=ax_box2, showmeans=True, color=\\\"violet\\\"\\n    )  # boxplot will be created and a star will indicate the mean value of the column\\n    sns.histplot(\\n        data=data, x=feature, kde=kde, ax=ax_hist2, bins=bins, palette=\\\"winter\\\"\\n    ) if bins else sns.histplot(\\n        data=data, x=feature, kde=kde, ax=ax_hist2, discrete=True\\n    )  # For histogram\\n    ax_hist2.axvline(\\n        data[feature].mean(), color=\\\"green\\\", linestyle=\\\"--\\\"\\n    )  # Add mean to the histogram\\n    ax_hist2.axvline(\\n        data[feature].median(), color=\\\"black\\\", linestyle=\\\"-\\\"\\n    )  # Add median to the histogram\";\n",
       "                var nbb_cells = Jupyter.notebook.get_cells();\n",
       "                for (var i = 0; i < nbb_cells.length; ++i) {\n",
       "                    if (nbb_cells[i].input_prompt_number == nbb_cell_id) {\n",
       "                        if (nbb_cells[i].get_text() == nbb_unformatted_code) {\n",
       "                             nbb_cells[i].set_text(nbb_formatted_code);\n",
       "                        }\n",
       "                        break;\n",
       "                    }\n",
       "                }\n",
       "            }, 500);\n",
       "            "
      ],
      "text/plain": [
       "<IPython.core.display.Javascript object>"
      ]
     },
     "metadata": {},
     "output_type": "display_data"
    }
   ],
   "source": [
    "# function to plot a boxplot and a histogram along the same scale.\n",
    "\n",
    "\n",
    "def histogram_boxplot(data, feature, figsize=(12, 7), kde=False, bins=None):\n",
    "    \"\"\"\n",
    "    Boxplot and histogram combined\n",
    "\n",
    "    data: dataframe\n",
    "    feature: dataframe column\n",
    "    figsize: size of figure (default (12,7))\n",
    "    kde: whether to the show density curve (default False)\n",
    "    bins: number of bins for histogram (default None)\n",
    "    \"\"\"\n",
    "    f2, (ax_box2, ax_hist2) = plt.subplots(\n",
    "        nrows=2,  # Number of rows of the subplot grid= 2\n",
    "        sharex=True,  # x-axis will be shared among all subplots\n",
    "        gridspec_kw={\"height_ratios\": (0.25, 0.75)},\n",
    "        figsize=figsize,\n",
    "    )  # creating the 2 subplots\n",
    "    sns.boxplot(\n",
    "        data=data, x=feature, ax=ax_box2, showmeans=True, color=\"violet\"\n",
    "    )  # boxplot will be created and a star will indicate the mean value of the column\n",
    "    sns.histplot(\n",
    "        data=data, x=feature, kde=kde, ax=ax_hist2, bins=bins, palette=\"winter\"\n",
    "    ) if bins else sns.histplot(\n",
    "        data=data, x=feature, kde=kde, ax=ax_hist2, discrete=True\n",
    "    )  # For histogram\n",
    "    ax_hist2.axvline(\n",
    "        data[feature].mean(), color=\"green\", linestyle=\"--\"\n",
    "    )  # Add mean to the histogram\n",
    "    ax_hist2.axvline(\n",
    "        data[feature].median(), color=\"black\", linestyle=\"-\"\n",
    "    )  # Add median to the histogram"
   ]
  },
  {
   "cell_type": "code",
   "execution_count": 36,
   "metadata": {},
   "outputs": [
    {
     "data": {
      "image/png": "[encoded data removed]",
      "text/plain": [
       "<Figure size 576x288 with 2 Axes>"
      ]
     },
     "metadata": {},
     "output_type": "display_data"
    },
    {
     "data": {
      "image/png": "[encoded data removed]",
      "text/plain": [
       "<Figure size 576x288 with 2 Axes>"
      ]
     },
     "metadata": {},
     "output_type": "display_data"
    },
    {
     "data": {
      "image/png": "[encoded data removed]",
      "text/plain": [
       "<Figure size 576x288 with 2 Axes>"
      ]
     },
     "metadata": {},
     "output_type": "display_data"
    },
    {
     "data": {
      "image/png": "[encoded data removed]",
      "text/plain": [
       "<Figure size 576x288 with 2 Axes>"
      ]
     },
     "metadata": {},
     "output_type": "display_data"
    },
    {
     "data": {
      "application/javascript": [
       "\n",
       "            setTimeout(function() {\n",
       "                var nbb_cell_id = 36;\n",
       "                var nbb_unformatted_code = \"# selecting numerical columns\\nnum_col = df.select_dtypes(include=np.number).columns.tolist()\\n\\nfor item in num_col:\\n    histogram_boxplot(df, item, kde=True, figsize=(8, 4))\";\n",
       "                var nbb_formatted_code = \"# selecting numerical columns\\nnum_col = df.select_dtypes(include=np.number).columns.tolist()\\n\\nfor item in num_col:\\n    histogram_boxplot(df, item, kde=True, figsize=(8, 4))\";\n",
       "                var nbb_cells = Jupyter.notebook.get_cells();\n",
       "                for (var i = 0; i < nbb_cells.length; ++i) {\n",
       "                    if (nbb_cells[i].input_prompt_number == nbb_cell_id) {\n",
       "                        if (nbb_cells[i].get_text() == nbb_unformatted_code) {\n",
       "                             nbb_cells[i].set_text(nbb_formatted_code);\n",
       "                        }\n",
       "                        break;\n",
       "                    }\n",
       "                }\n",
       "            }, 500);\n",
       "            "
      ],
      "text/plain": [
       "<IPython.core.display.Javascript object>"
      ]
     },
     "metadata": {},
     "output_type": "display_data"
    }
   ],
   "source": [
    "# selecting numerical columns\n",
    "num_col = df.select_dtypes(include=np.number).columns.tolist()\n",
    "\n",
    "for item in num_col:\n",
    "    histogram_boxplot(df, item, kde=True, figsize=(8, 4))"
   ]
  },
  {
   "cell_type": "markdown",
   "metadata": {},
   "source": [
    "**Observations**\n",
    "\n",
    "- Fees in most of the colleges are high.\n",
    "- At least 50% of the colleges have 2 as the rating for internship opportunities."
   ]
  },
  {
   "cell_type": "code",
   "execution_count": 15,
   "metadata": {},
   "outputs": [
    {
     "data": {
      "application/javascript": [
       "\n",
       "            setTimeout(function() {\n",
       "                var nbb_cell_id = 15;\n",
       "                var nbb_unformatted_code = \"# function to create labeled barplots\\n\\n\\ndef labeled_barplot(data, feature, perc=False, n=None):\\n    \\\"\\\"\\\"\\n    Barplot with percentage at the top\\n\\n    data: dataframe\\n    feature: dataframe column\\n    perc: whether to display percentages instead of count (default is False)\\n    n: displays the top n category levels (default is None, i.e., display all levels)\\n    \\\"\\\"\\\"\\n\\n    total = len(data[feature])  # length of the column\\n    count = data[feature].nunique()\\n    if n is None:\\n        plt.figure(figsize=(count + 1, 5))\\n    else:\\n        plt.figure(figsize=(n + 1, 5))\\n\\n    plt.xticks(rotation=90, fontsize=15)\\n    ax = sns.countplot(\\n        data=data,\\n        x=feature,\\n        palette=\\\"Paired\\\",\\n        order=data[feature].value_counts().index[:n].sort_values(),\\n    )\\n\\n    for p in ax.patches:\\n        if perc == True:\\n            label = \\\"{:.1f}%\\\".format(\\n                100 * p.get_height() / total\\n            )  # percentage of each class of the category\\n        else:\\n            label = p.get_height()  # count of each level of the category\\n\\n        x = p.get_x() + p.get_width() / 2  # width of the plot\\n        y = p.get_height()  # height of the plot\\n\\n        ax.annotate(\\n            label,\\n            (x, y),\\n            ha=\\\"center\\\",\\n            va=\\\"center\\\",\\n            size=12,\\n            xytext=(0, 5),\\n            textcoords=\\\"offset points\\\",\\n        )  # annotate the percentage\\n\\n    plt.show()  # show the plot\";\n",
       "                var nbb_formatted_code = \"# function to create labeled barplots\\n\\n\\ndef labeled_barplot(data, feature, perc=False, n=None):\\n    \\\"\\\"\\\"\\n    Barplot with percentage at the top\\n\\n    data: dataframe\\n    feature: dataframe column\\n    perc: whether to display percentages instead of count (default is False)\\n    n: displays the top n category levels (default is None, i.e., display all levels)\\n    \\\"\\\"\\\"\\n\\n    total = len(data[feature])  # length of the column\\n    count = data[feature].nunique()\\n    if n is None:\\n        plt.figure(figsize=(count + 1, 5))\\n    else:\\n        plt.figure(figsize=(n + 1, 5))\\n\\n    plt.xticks(rotation=90, fontsize=15)\\n    ax = sns.countplot(\\n        data=data,\\n        x=feature,\\n        palette=\\\"Paired\\\",\\n        order=data[feature].value_counts().index[:n].sort_values(),\\n    )\\n\\n    for p in ax.patches:\\n        if perc == True:\\n            label = \\\"{:.1f}%\\\".format(\\n                100 * p.get_height() / total\\n            )  # percentage of each class of the category\\n        else:\\n            label = p.get_height()  # count of each level of the category\\n\\n        x = p.get_x() + p.get_width() / 2  # width of the plot\\n        y = p.get_height()  # height of the plot\\n\\n        ax.annotate(\\n            label,\\n            (x, y),\\n            ha=\\\"center\\\",\\n            va=\\\"center\\\",\\n            size=12,\\n            xytext=(0, 5),\\n            textcoords=\\\"offset points\\\",\\n        )  # annotate the percentage\\n\\n    plt.show()  # show the plot\";\n",
       "                var nbb_cells = Jupyter.notebook.get_cells();\n",
       "                for (var i = 0; i < nbb_cells.length; ++i) {\n",
       "                    if (nbb_cells[i].input_prompt_number == nbb_cell_id) {\n",
       "                        if (nbb_cells[i].get_text() == nbb_unformatted_code) {\n",
       "                             nbb_cells[i].set_text(nbb_formatted_code);\n",
       "                        }\n",
       "                        break;\n",
       "                    }\n",
       "                }\n",
       "            }, 500);\n",
       "            "
      ],
      "text/plain": [
       "<IPython.core.display.Javascript object>"
      ]
     },
     "metadata": {},
     "output_type": "display_data"
    }
   ],
   "source": [
    "# function to create labeled barplots\n",
    "\n",
    "\n",
    "def labeled_barplot(data, feature, perc=False, n=None):\n",
    "    \"\"\"\n",
    "    Barplot with percentage at the top\n",
    "\n",
    "    data: dataframe\n",
    "    feature: dataframe column\n",
    "    perc: whether to display percentages instead of count (default is False)\n",
    "    n: displays the top n category levels (default is None, i.e., display all levels)\n",
    "    \"\"\"\n",
    "\n",
    "    total = len(data[feature])  # length of the column\n",
    "    count = data[feature].nunique()\n",
    "    if n is None:\n",
    "        plt.figure(figsize=(count + 1, 5))\n",
    "    else:\n",
    "        plt.figure(figsize=(n + 1, 5))\n",
    "\n",
    "    plt.xticks(rotation=90, fontsize=15)\n",
    "    ax = sns.countplot(\n",
    "        data=data,\n",
    "        x=feature,\n",
    "        palette=\"Paired\",\n",
    "        order=data[feature].value_counts().index[:n].sort_values(),\n",
    "    )\n",
    "\n",
    "    for p in ax.patches:\n",
    "        if perc == True:\n",
    "            label = \"{:.1f}%\".format(\n",
    "                100 * p.get_height() / total\n",
    "            )  # percentage of each class of the category\n",
    "        else:\n",
    "            label = p.get_height()  # count of each level of the category\n",
    "\n",
    "        x = p.get_x() + p.get_width() / 2  # width of the plot\n",
    "        y = p.get_height()  # height of the plot\n",
    "\n",
    "        ax.annotate(\n",
    "            label,\n",
    "            (x, y),\n",
    "            ha=\"center\",\n",
    "            va=\"center\",\n",
    "            size=12,\n",
    "            xytext=(0, 5),\n",
    "            textcoords=\"offset points\",\n",
    "        )  # annotate the percentage\n",
    "\n",
    "    plt.show()  # show the plot"
   ]
  },
  {
   "cell_type": "code",
   "execution_count": null,
   "metadata": {},
   "outputs": [],
   "source": [
    "labeled_barplot(df, 'Product', perc=True)"
   ]
  },
  {
   "cell_type": "markdown",
   "metadata": {},
   "source": [
    "### Bivariate Analsysis"
   ]
  },
  {
   "cell_type": "markdown",
   "metadata": {},
   "source": [
    "**Let's check for correlations.**"
   ]
  },
  {
   "cell_type": "code",
   "execution_count": 37,
   "metadata": {},
   "outputs": [
    {
     "data": {
      "image/png": "[encoded data removed]",
      "text/plain": [
       "<Figure size 1080x504 with 2 Axes>"
      ]
     },
     "metadata": {},
     "output_type": "display_data"
    },
    {
     "data": {
      "application/javascript": [
       "\n",
       "            setTimeout(function() {\n",
       "                var nbb_cell_id = 37;\n",
       "                var nbb_unformatted_code = \"plt.figure(figsize=(15, 7))\\nsns.heatmap(df[num_col].corr(), annot=True, vmin=-1, vmax=1, fmt=\\\".2f\\\", cmap=\\\"Spectral\\\")\\nplt.show()\";\n",
       "                var nbb_formatted_code = \"plt.figure(figsize=(15, 7))\\nsns.heatmap(df[num_col].corr(), annot=True, vmin=-1, vmax=1, fmt=\\\".2f\\\", cmap=\\\"Spectral\\\")\\nplt.show()\";\n",
       "                var nbb_cells = Jupyter.notebook.get_cells();\n",
       "                for (var i = 0; i < nbb_cells.length; ++i) {\n",
       "                    if (nbb_cells[i].input_prompt_number == nbb_cell_id) {\n",
       "                        if (nbb_cells[i].get_text() == nbb_unformatted_code) {\n",
       "                             nbb_cells[i].set_text(nbb_formatted_code);\n",
       "                        }\n",
       "                        break;\n",
       "                    }\n",
       "                }\n",
       "            }, 500);\n",
       "            "
      ],
      "text/plain": [
       "<IPython.core.display.Javascript object>"
      ]
     },
     "metadata": {},
     "output_type": "display_data"
    }
   ],
   "source": [
    "plt.figure(figsize=(15, 7))\n",
    "sns.heatmap(df[num_col].corr(), annot=True, vmin=-1, vmax=1, fmt=\".2f\", cmap=\"Spectral\")\n",
    "plt.show()"
   ]
  },
  {
   "cell_type": "markdown",
   "metadata": {},
   "source": [
    "**Observation**\n",
    "\n",
    "- Rating for teaching is strongly positively correlated with the rating for placements and internships.\n",
    "- This is obvious because if teaching quality is high, students are more likely to get placements and internships."
   ]
  },
  {
   "cell_type": "code",
   "execution_count": 38,
   "metadata": {},
   "outputs": [
    {
     "data": {
      "image/png": "[encoded data removed]",
      "text/plain": [
       "<Figure size 720x720 with 20 Axes>"
      ]
     },
     "metadata": {},
     "output_type": "display_data"
    },
    {
     "data": {
      "application/javascript": [
       "\n",
       "            setTimeout(function() {\n",
       "                var nbb_cell_id = 38;\n",
       "                var nbb_unformatted_code = \"sns.pairplot(data=df[num_col], diag_kind=\\\"kde\\\")\\nplt.show()\";\n",
       "                var nbb_formatted_code = \"sns.pairplot(data=df[num_col], diag_kind=\\\"kde\\\")\\nplt.show()\";\n",
       "                var nbb_cells = Jupyter.notebook.get_cells();\n",
       "                for (var i = 0; i < nbb_cells.length; ++i) {\n",
       "                    if (nbb_cells[i].input_prompt_number == nbb_cell_id) {\n",
       "                        if (nbb_cells[i].get_text() == nbb_unformatted_code) {\n",
       "                             nbb_cells[i].set_text(nbb_formatted_code);\n",
       "                        }\n",
       "                        break;\n",
       "                    }\n",
       "                }\n",
       "            }, 500);\n",
       "            "
      ],
      "text/plain": [
       "<IPython.core.display.Javascript object>"
      ]
     },
     "metadata": {},
     "output_type": "display_data"
    }
   ],
   "source": [
    "sns.pairplot(data=df[num_col], diag_kind=\"kde\")\n",
    "plt.show()"
   ]
  },
  {
   "cell_type": "code",
   "execution_count": 40,
   "metadata": {},
   "outputs": [
    {
     "data": {
      "application/javascript": [
       "\n",
       "            setTimeout(function() {\n",
       "                var nbb_cell_id = 40;\n",
       "                var nbb_unformatted_code = \"# Scaling the data set before clustering\\n# scaler = StandardScaler()\\nsubset_scaled_df = df[num_col].copy()\\n# subset_scaled = scaler.fit_transform(subset)\";\n",
       "                var nbb_formatted_code = \"# Scaling the data set before clustering\\n# scaler = StandardScaler()\\nsubset_scaled_df = df[num_col].copy()\\n# subset_scaled = scaler.fit_transform(subset)\";\n",
       "                var nbb_cells = Jupyter.notebook.get_cells();\n",
       "                for (var i = 0; i < nbb_cells.length; ++i) {\n",
       "                    if (nbb_cells[i].input_prompt_number == nbb_cell_id) {\n",
       "                        if (nbb_cells[i].get_text() == nbb_unformatted_code) {\n",
       "                             nbb_cells[i].set_text(nbb_formatted_code);\n",
       "                        }\n",
       "                        break;\n",
       "                    }\n",
       "                }\n",
       "            }, 500);\n",
       "            "
      ],
      "text/plain": [
       "<IPython.core.display.Javascript object>"
      ]
     },
     "metadata": {},
     "output_type": "display_data"
    }
   ],
   "source": [
    "# Scaling the data set before clustering\n",
    "# scaler = StandardScaler()\n",
    "subset_scaled_df = df[num_col].copy()\n",
    "# subset_scaled = scaler.fit_transform(subset)"
   ]
  },
  {
   "cell_type": "code",
   "execution_count": 21,
   "metadata": {},
   "outputs": [
    {
     "data": {
      "application/javascript": [
       "\n",
       "            setTimeout(function() {\n",
       "                var nbb_cell_id = 21;\n",
       "                var nbb_unformatted_code = \"# Creating a dataframe from the scaled data\\nsubset_scaled_df = pd.DataFrame(subset_scaled, columns=subset.columns)\";\n",
       "                var nbb_formatted_code = \"# Creating a dataframe from the scaled data\\nsubset_scaled_df = pd.DataFrame(subset_scaled, columns=subset.columns)\";\n",
       "                var nbb_cells = Jupyter.notebook.get_cells();\n",
       "                for (var i = 0; i < nbb_cells.length; ++i) {\n",
       "                    if (nbb_cells[i].input_prompt_number == nbb_cell_id) {\n",
       "                        if (nbb_cells[i].get_text() == nbb_unformatted_code) {\n",
       "                             nbb_cells[i].set_text(nbb_formatted_code);\n",
       "                        }\n",
       "                        break;\n",
       "                    }\n",
       "                }\n",
       "            }, 500);\n",
       "            "
      ],
      "text/plain": [
       "<IPython.core.display.Javascript object>"
      ]
     },
     "metadata": {},
     "output_type": "display_data"
    }
   ],
   "source": [
    "# Creating a dataframe from the scaled data\n",
    "# subset_scaled_df = pd.DataFrame(subset_scaled, columns=subset.columns)"
   ]
  },
  {
   "cell_type": "code",
   "execution_count": 41,
   "metadata": {},
   "outputs": [
    {
     "data": {
      "text/html": [
       "<div>\n",
       "<style scoped>\n",
       "    .dataframe tbody tr th:only-of-type {\n",
       "        vertical-align: middle;\n",
       "    }\n",
       "\n",
       "    .dataframe tbody tr th {\n",
       "        vertical-align: top;\n",
       "    }\n",
       "\n",
       "    .dataframe thead th {\n",
       "        text-align: right;\n",
       "    }\n",
       "</style>\n",
       "<table border=\"1\" class=\"dataframe\">\n",
       "  <thead>\n",
       "    <tr style=\"text-align: right;\">\n",
       "      <th></th>\n",
       "      <th>Protein</th>\n",
       "      <th>Fat</th>\n",
       "      <th>vitaminC</th>\n",
       "      <th>Fiber</th>\n",
       "    </tr>\n",
       "  </thead>\n",
       "  <tbody>\n",
       "    <tr>\n",
       "      <th>count</th>\n",
       "      <td>1.746000e+03</td>\n",
       "      <td>1.746000e+03</td>\n",
       "      <td>1.746000e+03</td>\n",
       "      <td>1.746000e+03</td>\n",
       "    </tr>\n",
       "    <tr>\n",
       "      <th>mean</th>\n",
       "      <td>-6.872831e-12</td>\n",
       "      <td>-8.591086e-12</td>\n",
       "      <td>-5.727307e-13</td>\n",
       "      <td>7.445586e-12</td>\n",
       "    </tr>\n",
       "    <tr>\n",
       "      <th>std</th>\n",
       "      <td>1.000286e+00</td>\n",
       "      <td>1.000286e+00</td>\n",
       "      <td>1.000286e+00</td>\n",
       "      <td>1.000286e+00</td>\n",
       "    </tr>\n",
       "    <tr>\n",
       "      <th>min</th>\n",
       "      <td>-1.471161e+00</td>\n",
       "      <td>-1.418308e+00</td>\n",
       "      <td>-1.443263e+00</td>\n",
       "      <td>-1.433311e+00</td>\n",
       "    </tr>\n",
       "    <tr>\n",
       "      <th>25%</th>\n",
       "      <td>-7.761675e-01</td>\n",
       "      <td>-7.964675e-01</td>\n",
       "      <td>-7.713125e-01</td>\n",
       "      <td>-8.165133e-01</td>\n",
       "    </tr>\n",
       "    <tr>\n",
       "      <th>50%</th>\n",
       "      <td>-1.745679e-01</td>\n",
       "      <td>-1.503757e-01</td>\n",
       "      <td>-1.665248e-01</td>\n",
       "      <td>-1.277286e-01</td>\n",
       "    </tr>\n",
       "    <tr>\n",
       "      <th>75%</th>\n",
       "      <td>5.943651e-01</td>\n",
       "      <td>6.287443e-01</td>\n",
       "      <td>6.104591e-01</td>\n",
       "      <td>6.301339e-01</td>\n",
       "    </tr>\n",
       "    <tr>\n",
       "      <th>max</th>\n",
       "      <td>4.935689e+00</td>\n",
       "      <td>4.853568e+00</td>\n",
       "      <td>4.991719e+00</td>\n",
       "      <td>4.259645e+00</td>\n",
       "    </tr>\n",
       "  </tbody>\n",
       "</table>\n",
       "</div>"
      ],
      "text/plain": [
       "            Protein           Fat      vitaminC         Fiber\n",
       "count  1.746000e+03  1.746000e+03  1.746000e+03  1.746000e+03\n",
       "mean  -6.872831e-12 -8.591086e-12 -5.727307e-13  7.445586e-12\n",
       "std    1.000286e+00  1.000286e+00  1.000286e+00  1.000286e+00\n",
       "min   -1.471161e+00 -1.418308e+00 -1.443263e+00 -1.433311e+00\n",
       "25%   -7.761675e-01 -7.964675e-01 -7.713125e-01 -8.165133e-01\n",
       "50%   -1.745679e-01 -1.503757e-01 -1.665248e-01 -1.277286e-01\n",
       "75%    5.943651e-01  6.287443e-01  6.104591e-01  6.301339e-01\n",
       "max    4.935689e+00  4.853568e+00  4.991719e+00  4.259645e+00"
      ]
     },
     "execution_count": 41,
     "metadata": {},
     "output_type": "execute_result"
    },
    {
     "data": {
      "application/javascript": [
       "\n",
       "            setTimeout(function() {\n",
       "                var nbb_cell_id = 41;\n",
       "                var nbb_unformatted_code = \"subset_scaled_df.describe()\";\n",
       "                var nbb_formatted_code = \"subset_scaled_df.describe()\";\n",
       "                var nbb_cells = Jupyter.notebook.get_cells();\n",
       "                for (var i = 0; i < nbb_cells.length; ++i) {\n",
       "                    if (nbb_cells[i].input_prompt_number == nbb_cell_id) {\n",
       "                        if (nbb_cells[i].get_text() == nbb_unformatted_code) {\n",
       "                             nbb_cells[i].set_text(nbb_formatted_code);\n",
       "                        }\n",
       "                        break;\n",
       "                    }\n",
       "                }\n",
       "            }, 500);\n",
       "            "
      ],
      "text/plain": [
       "<IPython.core.display.Javascript object>"
      ]
     },
     "metadata": {},
     "output_type": "display_data"
    }
   ],
   "source": [
    "subset_scaled_df.describe()"
   ]
  },
  {
   "cell_type": "code",
   "execution_count": 61,
   "metadata": {},
   "outputs": [
    {
     "name": "stdout",
     "output_type": "stream",
     "text": [
      "Number of Clusters: 1 \tAverage Distortion: 1.858372044931876\n",
      "Number of Clusters: 2 \tAverage Distortion: 1.6124606178391183\n",
      "Number of Clusters: 3 \tAverage Distortion: 1.4342071603482363\n",
      "Number of Clusters: 4 \tAverage Distortion: 1.3600718086909138\n",
      "Number of Clusters: 5 \tAverage Distortion: 1.2917884110685482\n",
      "Number of Clusters: 6 \tAverage Distortion: 1.2312305596501556\n",
      "Number of Clusters: 7 \tAverage Distortion: 1.1817865200457904\n",
      "Number of Clusters: 8 \tAverage Distortion: 1.1462975605483787\n",
      "Number of Clusters: 9 \tAverage Distortion: 1.1156896736366935\n",
      "Number of Clusters: 10 \tAverage Distortion: 1.0889552325933092\n",
      "Number of Clusters: 11 \tAverage Distortion: 1.0604428198704328\n",
      "Number of Clusters: 12 \tAverage Distortion: 1.0411801445213675\n",
      "Number of Clusters: 13 \tAverage Distortion: 1.0215091739498903\n",
      "Number of Clusters: 14 \tAverage Distortion: 0.9999641066035626\n"
     ]
    },
    {
     "data": {
      "text/plain": [
       "Text(0.5, 1.0, 'Selecting k with the Elbow Method')"
      ]
     },
     "execution_count": 61,
     "metadata": {},
     "output_type": "execute_result"
    },
    {
     "data": {
      "image/png": "[encoded data removed]",
      "text/plain": [
       "<Figure size 576x396 with 1 Axes>"
      ]
     },
     "metadata": {},
     "output_type": "display_data"
    },
    {
     "data": {
      "application/javascript": [
       "\n",
       "            setTimeout(function() {\n",
       "                var nbb_cell_id = 61;\n",
       "                var nbb_unformatted_code = \"clusters = range(1, 15)\\nmeanDistortions = []\\n\\nfor k in clusters:\\n    model = KMeans(n_clusters=k, random_state=1)\\n    model.fit(subset_scaled_df)\\n    prediction = model.predict(subset_scaled_df)\\n    distortion = (\\n        sum(\\n            np.min(cdist(subset_scaled_df, model.cluster_centers_, \\\"euclidean\\\"), axis=1)\\n        )\\n        / subset_scaled_df.shape[0]\\n    )\\n\\n    meanDistortions.append(distortion)\\n\\n    print(\\\"Number of Clusters:\\\", k, \\\"\\\\tAverage Distortion:\\\", distortion)\\n\\nplt.plot(clusters, meanDistortions, \\\"bx-\\\")\\nplt.xlabel(\\\"k\\\")\\nplt.ylabel(\\\"Average Distortion\\\")\\nplt.title(\\\"Selecting k with the Elbow Method\\\", fontsize=20)\";\n",
       "                var nbb_formatted_code = \"clusters = range(1, 15)\\nmeanDistortions = []\\n\\nfor k in clusters:\\n    model = KMeans(n_clusters=k, random_state=1)\\n    model.fit(subset_scaled_df)\\n    prediction = model.predict(subset_scaled_df)\\n    distortion = (\\n        sum(\\n            np.min(cdist(subset_scaled_df, model.cluster_centers_, \\\"euclidean\\\"), axis=1)\\n        )\\n        / subset_scaled_df.shape[0]\\n    )\\n\\n    meanDistortions.append(distortion)\\n\\n    print(\\\"Number of Clusters:\\\", k, \\\"\\\\tAverage Distortion:\\\", distortion)\\n\\nplt.plot(clusters, meanDistortions, \\\"bx-\\\")\\nplt.xlabel(\\\"k\\\")\\nplt.ylabel(\\\"Average Distortion\\\")\\nplt.title(\\\"Selecting k with the Elbow Method\\\", fontsize=20)\";\n",
       "                var nbb_cells = Jupyter.notebook.get_cells();\n",
       "                for (var i = 0; i < nbb_cells.length; ++i) {\n",
       "                    if (nbb_cells[i].input_prompt_number == nbb_cell_id) {\n",
       "                        if (nbb_cells[i].get_text() == nbb_unformatted_code) {\n",
       "                             nbb_cells[i].set_text(nbb_formatted_code);\n",
       "                        }\n",
       "                        break;\n",
       "                    }\n",
       "                }\n",
       "            }, 500);\n",
       "            "
      ],
      "text/plain": [
       "<IPython.core.display.Javascript object>"
      ]
     },
     "metadata": {},
     "output_type": "display_data"
    }
   ],
   "source": [
    "clusters = range(1, 15)\n",
    "meanDistortions = []\n",
    "\n",
    "for k in clusters:\n",
    "    model = KMeans(n_clusters=k, random_state=1)\n",
    "    model.fit(subset_scaled_df)\n",
    "    prediction = model.predict(subset_scaled_df)\n",
    "    distortion = (\n",
    "        sum(\n",
    "            np.min(cdist(subset_scaled_df, model.cluster_centers_, \"euclidean\"), axis=1)\n",
    "        )\n",
    "        / subset_scaled_df.shape[0]\n",
    "    )\n",
    "\n",
    "    meanDistortions.append(distortion)\n",
    "\n",
    "    print(\"Number of Clusters:\", k, \"\\tAverage Distortion:\", distortion)\n",
    "\n",
    "plt.plot(clusters, meanDistortions, \"bx-\")\n",
    "plt.xlabel(\"k\")\n",
    "plt.ylabel(\"Average Distortion\")\n",
    "plt.title(\"Selecting k with the Elbow Method\", fontsize=20)"
   ]
  },
  {
   "cell_type": "markdown",
   "metadata": {},
   "source": [
    "**In the above plot, the elbow is seen for K=2, but if you observe the Average distortion results, there is some drop in distortion at K= 4 and 5.(Even a small elbow at K =4 and 5 is observed). ** "
   ]
  },
  {
   "cell_type": "markdown",
   "metadata": {},
   "source": [
    "**Let's check the silhouette scores.**"
   ]
  },
  {
   "cell_type": "code",
   "execution_count": 71,
   "metadata": {},
   "outputs": [
    {
     "name": "stdout",
     "output_type": "stream",
     "text": [
      "For n_clusters = 3, silhouette score is 0.25318615552215973\n",
      "For n_clusters = 4, silhouette score is 0.20491939596006312\n",
      "For n_clusters = 5, silhouette score is 0.197450413336426\n",
      "For n_clusters = 6, silhouette score is 0.20725937798773242\n",
      "For n_clusters = 7, silhouette score is 0.20880440017467275\n"
     ]
    },
    {
     "data": {
      "text/plain": [
       "[<matplotlib.lines.Line2D at 0x7f1faac18730>]"
      ]
     },
     "execution_count": 71,
     "metadata": {},
     "output_type": "execute_result"
    },
    {
     "data": {
      "image/png": "[encoded data removed]",
      "text/plain": [
       "<Figure size 576x396 with 1 Axes>"
      ]
     },
     "metadata": {},
     "output_type": "display_data"
    },
    {
     "data": {
      "application/javascript": [
       "\n",
       "            setTimeout(function() {\n",
       "                var nbb_cell_id = 71;\n",
       "                var nbb_unformatted_code = \"sil_score = []\\ncluster_list = list(range(3, 8))\\nfor n_clusters in cluster_list:\\n    clusterer = KMeans(n_clusters=n_clusters, random_state=1)\\n    preds = clusterer.fit_predict((subset_scaled_df))\\n    # centers = clusterer.cluster_centers_\\n    score = silhouette_score(subset_scaled_df, preds)\\n    sil_score.append(score)\\n    print(\\\"For n_clusters = {}, silhouette score is {}\\\".format(n_clusters, score))\\n\\nplt.plot(cluster_list, sil_score)\";\n",
       "                var nbb_formatted_code = \"sil_score = []\\ncluster_list = list(range(3, 8))\\nfor n_clusters in cluster_list:\\n    clusterer = KMeans(n_clusters=n_clusters, random_state=1)\\n    preds = clusterer.fit_predict((subset_scaled_df))\\n    # centers = clusterer.cluster_centers_\\n    score = silhouette_score(subset_scaled_df, preds)\\n    sil_score.append(score)\\n    print(\\\"For n_clusters = {}, silhouette score is {}\\\".format(n_clusters, score))\\n\\nplt.plot(cluster_list, sil_score)\";\n",
       "                var nbb_cells = Jupyter.notebook.get_cells();\n",
       "                for (var i = 0; i < nbb_cells.length; ++i) {\n",
       "                    if (nbb_cells[i].input_prompt_number == nbb_cell_id) {\n",
       "                        if (nbb_cells[i].get_text() == nbb_unformatted_code) {\n",
       "                             nbb_cells[i].set_text(nbb_formatted_code);\n",
       "                        }\n",
       "                        break;\n",
       "                    }\n",
       "                }\n",
       "            }, 500);\n",
       "            "
      ],
      "text/plain": [
       "<IPython.core.display.Javascript object>"
      ]
     },
     "metadata": {},
     "output_type": "display_data"
    }
   ],
   "source": [
    "sil_score = []\n",
    "cluster_list = list(range(3, 8))\n",
    "for n_clusters in cluster_list:\n",
    "    clusterer = KMeans(n_clusters=n_clusters, random_state=1)\n",
    "    preds = clusterer.fit_predict((subset_scaled_df))\n",
    "    # centers = clusterer.cluster_centers_\n",
    "    score = silhouette_score(subset_scaled_df, preds)\n",
    "    sil_score.append(score)\n",
    "    print(\"For n_clusters = {}, silhouette score is {}\".format(n_clusters, score))\n",
    "\n",
    "plt.plot(cluster_list, sil_score)"
   ]
  },
  {
   "cell_type": "markdown",
   "metadata": {},
   "source": [
    "**From the silhouette scores, it seems that 7 is a good value of k.**"
   ]
  },
  {
   "cell_type": "code",
   "execution_count": 45,
   "metadata": {},
   "outputs": [
    {
     "data": {
      "image/png": "[encoded data removed]",
      "text/plain": [
       "<Figure size 576x396 with 1 Axes>"
      ]
     },
     "metadata": {},
     "output_type": "display_data"
    },
    {
     "data": {
      "text/plain": [
       "<AxesSubplot:title={'center':'Silhouette Plot of KMeans Clustering for 1746 Samples in 3 Centers'}, xlabel='silhouette coefficient values', ylabel='cluster label'>"
      ]
     },
     "execution_count": 45,
     "metadata": {},
     "output_type": "execute_result"
    },
    {
     "data": {
      "application/javascript": [
       "\n",
       "            setTimeout(function() {\n",
       "                var nbb_cell_id = 45;\n",
       "                var nbb_unformatted_code = \"# finding optimal no. of clusters with silhouette coefficients\\nvisualizer = SilhouetteVisualizer(KMeans(3, random_state=1))\\nvisualizer.fit(subset_scaled_df)\\nvisualizer.show()\";\n",
       "                var nbb_formatted_code = \"# finding optimal no. of clusters with silhouette coefficients\\nvisualizer = SilhouetteVisualizer(KMeans(3, random_state=1))\\nvisualizer.fit(subset_scaled_df)\\nvisualizer.show()\";\n",
       "                var nbb_cells = Jupyter.notebook.get_cells();\n",
       "                for (var i = 0; i < nbb_cells.length; ++i) {\n",
       "                    if (nbb_cells[i].input_prompt_number == nbb_cell_id) {\n",
       "                        if (nbb_cells[i].get_text() == nbb_unformatted_code) {\n",
       "                             nbb_cells[i].set_text(nbb_formatted_code);\n",
       "                        }\n",
       "                        break;\n",
       "                    }\n",
       "                }\n",
       "            }, 500);\n",
       "            "
      ],
      "text/plain": [
       "<IPython.core.display.Javascript object>"
      ]
     },
     "metadata": {},
     "output_type": "display_data"
    }
   ],
   "source": [
    "# finding optimal no. of clusters with silhouette coefficients\n",
    "visualizer = SilhouetteVisualizer(KMeans(3, random_state=1))\n",
    "visualizer.fit(subset_scaled_df)\n",
    "visualizer.show()"
   ]
  },
  {
   "cell_type": "code",
   "execution_count": 46,
   "metadata": {},
   "outputs": [
    {
     "data": {
      "image/png": "[encoded data removed]",
      "text/plain": [
       "<Figure size 576x396 with 1 Axes>"
      ]
     },
     "metadata": {},
     "output_type": "display_data"
    },
    {
     "data": {
      "text/plain": [
       "<AxesSubplot:title={'center':'Silhouette Plot of KMeans Clustering for 1746 Samples in 4 Centers'}, xlabel='silhouette coefficient values', ylabel='cluster label'>"
      ]
     },
     "execution_count": 46,
     "metadata": {},
     "output_type": "execute_result"
    },
    {
     "data": {
      "application/javascript": [
       "\n",
       "            setTimeout(function() {\n",
       "                var nbb_cell_id = 46;\n",
       "                var nbb_unformatted_code = \"# finding optimal no. of clusters with silhouette coefficients\\nvisualizer = SilhouetteVisualizer(KMeans(4, random_state=1))\\nvisualizer.fit(subset_scaled_df)\\nvisualizer.show()\";\n",
       "                var nbb_formatted_code = \"# finding optimal no. of clusters with silhouette coefficients\\nvisualizer = SilhouetteVisualizer(KMeans(4, random_state=1))\\nvisualizer.fit(subset_scaled_df)\\nvisualizer.show()\";\n",
       "                var nbb_cells = Jupyter.notebook.get_cells();\n",
       "                for (var i = 0; i < nbb_cells.length; ++i) {\n",
       "                    if (nbb_cells[i].input_prompt_number == nbb_cell_id) {\n",
       "                        if (nbb_cells[i].get_text() == nbb_unformatted_code) {\n",
       "                             nbb_cells[i].set_text(nbb_formatted_code);\n",
       "                        }\n",
       "                        break;\n",
       "                    }\n",
       "                }\n",
       "            }, 500);\n",
       "            "
      ],
      "text/plain": [
       "<IPython.core.display.Javascript object>"
      ]
     },
     "metadata": {},
     "output_type": "display_data"
    }
   ],
   "source": [
    "# finding optimal no. of clusters with silhouette coefficients\n",
    "visualizer = SilhouetteVisualizer(KMeans(4, random_state=1))\n",
    "visualizer.fit(subset_scaled_df)\n",
    "visualizer.show()"
   ]
  },
  {
   "cell_type": "code",
   "execution_count": 47,
   "metadata": {},
   "outputs": [
    {
     "data": {
      "image/png": "[encoded data removed]",
      "text/plain": [
       "<Figure size 576x396 with 1 Axes>"
      ]
     },
     "metadata": {},
     "output_type": "display_data"
    },
    {
     "data": {
      "text/plain": [
       "<AxesSubplot:title={'center':'Silhouette Plot of KMeans Clustering for 1746 Samples in 5 Centers'}, xlabel='silhouette coefficient values', ylabel='cluster label'>"
      ]
     },
     "execution_count": 47,
     "metadata": {},
     "output_type": "execute_result"
    },
    {
     "data": {
      "application/javascript": [
       "\n",
       "            setTimeout(function() {\n",
       "                var nbb_cell_id = 47;\n",
       "                var nbb_unformatted_code = \"# finding optimal no. of clusters with silhouette coefficients\\nvisualizer = SilhouetteVisualizer(KMeans(5, random_state=1))\\nvisualizer.fit(subset_scaled_df)\\nvisualizer.show()\";\n",
       "                var nbb_formatted_code = \"# finding optimal no. of clusters with silhouette coefficients\\nvisualizer = SilhouetteVisualizer(KMeans(5, random_state=1))\\nvisualizer.fit(subset_scaled_df)\\nvisualizer.show()\";\n",
       "                var nbb_cells = Jupyter.notebook.get_cells();\n",
       "                for (var i = 0; i < nbb_cells.length; ++i) {\n",
       "                    if (nbb_cells[i].input_prompt_number == nbb_cell_id) {\n",
       "                        if (nbb_cells[i].get_text() == nbb_unformatted_code) {\n",
       "                             nbb_cells[i].set_text(nbb_formatted_code);\n",
       "                        }\n",
       "                        break;\n",
       "                    }\n",
       "                }\n",
       "            }, 500);\n",
       "            "
      ],
      "text/plain": [
       "<IPython.core.display.Javascript object>"
      ]
     },
     "metadata": {},
     "output_type": "display_data"
    }
   ],
   "source": [
    "# finding optimal no. of clusters with silhouette coefficients\n",
    "visualizer = SilhouetteVisualizer(KMeans(5, random_state=1))\n",
    "visualizer.fit(subset_scaled_df)\n",
    "visualizer.show()"
   ]
  },
  {
   "cell_type": "code",
   "execution_count": 48,
   "metadata": {},
   "outputs": [
    {
     "data": {
      "image/png": "[encoded data removed]",
      "text/plain": [
       "<Figure size 576x396 with 1 Axes>"
      ]
     },
     "metadata": {},
     "output_type": "display_data"
    },
    {
     "data": {
      "text/plain": [
       "<AxesSubplot:title={'center':'Silhouette Plot of KMeans Clustering for 1746 Samples in 6 Centers'}, xlabel='silhouette coefficient values', ylabel='cluster label'>"
      ]
     },
     "execution_count": 48,
     "metadata": {},
     "output_type": "execute_result"
    },
    {
     "data": {
      "application/javascript": [
       "\n",
       "            setTimeout(function() {\n",
       "                var nbb_cell_id = 48;\n",
       "                var nbb_unformatted_code = \"# finding optimal no. of clusters with silhouette coefficients\\nvisualizer = SilhouetteVisualizer(KMeans(6, random_state=1))\\nvisualizer.fit(subset_scaled_df)\\nvisualizer.show()\";\n",
       "                var nbb_formatted_code = \"# finding optimal no. of clusters with silhouette coefficients\\nvisualizer = SilhouetteVisualizer(KMeans(6, random_state=1))\\nvisualizer.fit(subset_scaled_df)\\nvisualizer.show()\";\n",
       "                var nbb_cells = Jupyter.notebook.get_cells();\n",
       "                for (var i = 0; i < nbb_cells.length; ++i) {\n",
       "                    if (nbb_cells[i].input_prompt_number == nbb_cell_id) {\n",
       "                        if (nbb_cells[i].get_text() == nbb_unformatted_code) {\n",
       "                             nbb_cells[i].set_text(nbb_formatted_code);\n",
       "                        }\n",
       "                        break;\n",
       "                    }\n",
       "                }\n",
       "            }, 500);\n",
       "            "
      ],
      "text/plain": [
       "<IPython.core.display.Javascript object>"
      ]
     },
     "metadata": {},
     "output_type": "display_data"
    }
   ],
   "source": [
    "# finding optimal no. of clusters with silhouette coefficients\n",
    "visualizer = SilhouetteVisualizer(KMeans(6, random_state=1))\n",
    "visualizer.fit(subset_scaled_df)\n",
    "visualizer.show()"
   ]
  },
  {
   "cell_type": "markdown",
   "metadata": {},
   "source": [
    "**Let's take 5 as the appropriate no. of clusters(K) as the silhouette score is high enough for all the 5-clusters(above average silhouette score), and there is a knick at 5 in the elbow curve.**"
   ]
  },
  {
   "cell_type": "code",
   "execution_count": 79,
   "metadata": {},
   "outputs": [
    {
     "data": {
      "text/plain": [
       "KMeans(n_clusters=3, random_state=1)"
      ]
     },
     "execution_count": 79,
     "metadata": {},
     "output_type": "execute_result"
    },
    {
     "data": {
      "application/javascript": [
       "\n",
       "            setTimeout(function() {\n",
       "                var nbb_cell_id = 79;\n",
       "                var nbb_unformatted_code = \"kmeans = KMeans(n_clusters=3, random_state=1)\\nkmeans.fit(subset_scaled_df)\";\n",
       "                var nbb_formatted_code = \"kmeans = KMeans(n_clusters=3, random_state=1)\\nkmeans.fit(subset_scaled_df)\";\n",
       "                var nbb_cells = Jupyter.notebook.get_cells();\n",
       "                for (var i = 0; i < nbb_cells.length; ++i) {\n",
       "                    if (nbb_cells[i].input_prompt_number == nbb_cell_id) {\n",
       "                        if (nbb_cells[i].get_text() == nbb_unformatted_code) {\n",
       "                             nbb_cells[i].set_text(nbb_formatted_code);\n",
       "                        }\n",
       "                        break;\n",
       "                    }\n",
       "                }\n",
       "            }, 500);\n",
       "            "
      ],
      "text/plain": [
       "<IPython.core.display.Javascript object>"
      ]
     },
     "metadata": {},
     "output_type": "display_data"
    }
   ],
   "source": [
    "kmeans = KMeans(n_clusters=3, random_state=1)\n",
    "kmeans.fit(subset_scaled_df)"
   ]
  },
  {
   "cell_type": "code",
   "execution_count": 80,
   "metadata": {},
   "outputs": [
    {
     "data": {
      "application/javascript": [
       "\n",
       "            setTimeout(function() {\n",
       "                var nbb_cell_id = 80;\n",
       "                var nbb_unformatted_code = \"# adding kmeans cluster labels to the original dataframe\\ndf[\\\"K_means_segments\\\"] = kmeans.labels_\";\n",
       "                var nbb_formatted_code = \"# adding kmeans cluster labels to the original dataframe\\ndf[\\\"K_means_segments\\\"] = kmeans.labels_\";\n",
       "                var nbb_cells = Jupyter.notebook.get_cells();\n",
       "                for (var i = 0; i < nbb_cells.length; ++i) {\n",
       "                    if (nbb_cells[i].input_prompt_number == nbb_cell_id) {\n",
       "                        if (nbb_cells[i].get_text() == nbb_unformatted_code) {\n",
       "                             nbb_cells[i].set_text(nbb_formatted_code);\n",
       "                        }\n",
       "                        break;\n",
       "                    }\n",
       "                }\n",
       "            }, 500);\n",
       "            "
      ],
      "text/plain": [
       "<IPython.core.display.Javascript object>"
      ]
     },
     "metadata": {},
     "output_type": "display_data"
    }
   ],
   "source": [
    "# adding kmeans cluster labels to the original dataframe\n",
    "df[\"K_means_segments\"] = kmeans.labels_"
   ]
  },
  {
   "cell_type": "code",
   "execution_count": 82,
   "metadata": {},
   "outputs": [
    {
     "data": {
      "text/html": [
       "<div>\n",
       "<style scoped>\n",
       "    .dataframe tbody tr th:only-of-type {\n",
       "        vertical-align: middle;\n",
       "    }\n",
       "\n",
       "    .dataframe tbody tr th {\n",
       "        vertical-align: top;\n",
       "    }\n",
       "\n",
       "    .dataframe thead th {\n",
       "        text-align: right;\n",
       "    }\n",
       "</style>\n",
       "<table border=\"1\" class=\"dataframe\">\n",
       "  <thead>\n",
       "    <tr style=\"text-align: right;\">\n",
       "      <th></th>\n",
       "      <th>Protein</th>\n",
       "      <th>Fat</th>\n",
       "      <th>vitaminC</th>\n",
       "      <th>Fiber</th>\n",
       "      <th>Product</th>\n",
       "    </tr>\n",
       "    <tr>\n",
       "      <th>K_means_segments</th>\n",
       "      <th></th>\n",
       "      <th></th>\n",
       "      <th></th>\n",
       "      <th></th>\n",
       "      <th></th>\n",
       "    </tr>\n",
       "  </thead>\n",
       "  <tbody>\n",
       "    <tr>\n",
       "      <th>0</th>\n",
       "      <td>440</td>\n",
       "      <td>440</td>\n",
       "      <td>440</td>\n",
       "      <td>440</td>\n",
       "      <td>440</td>\n",
       "    </tr>\n",
       "    <tr>\n",
       "      <th>1</th>\n",
       "      <td>487</td>\n",
       "      <td>487</td>\n",
       "      <td>487</td>\n",
       "      <td>487</td>\n",
       "      <td>487</td>\n",
       "    </tr>\n",
       "    <tr>\n",
       "      <th>2</th>\n",
       "      <td>819</td>\n",
       "      <td>819</td>\n",
       "      <td>819</td>\n",
       "      <td>819</td>\n",
       "      <td>819</td>\n",
       "    </tr>\n",
       "  </tbody>\n",
       "</table>\n",
       "</div>"
      ],
      "text/plain": [
       "                  Protein  Fat  vitaminC  Fiber  Product\n",
       "K_means_segments                                        \n",
       "0                     440  440       440    440      440\n",
       "1                     487  487       487    487      487\n",
       "2                     819  819       819    819      819"
      ]
     },
     "execution_count": 82,
     "metadata": {},
     "output_type": "execute_result"
    },
    {
     "data": {
      "application/javascript": [
       "\n",
       "            setTimeout(function() {\n",
       "                var nbb_cell_id = 82;\n",
       "                var nbb_unformatted_code = \"cluster_profile = df.groupby(\\\"K_means_segments\\\").count()\\ncluster_profile\";\n",
       "                var nbb_formatted_code = \"cluster_profile = df.groupby(\\\"K_means_segments\\\").count()\\ncluster_profile\";\n",
       "                var nbb_cells = Jupyter.notebook.get_cells();\n",
       "                for (var i = 0; i < nbb_cells.length; ++i) {\n",
       "                    if (nbb_cells[i].input_prompt_number == nbb_cell_id) {\n",
       "                        if (nbb_cells[i].get_text() == nbb_unformatted_code) {\n",
       "                             nbb_cells[i].set_text(nbb_formatted_code);\n",
       "                        }\n",
       "                        break;\n",
       "                    }\n",
       "                }\n",
       "            }, 500);\n",
       "            "
      ],
      "text/plain": [
       "<IPython.core.display.Javascript object>"
      ]
     },
     "metadata": {},
     "output_type": "display_data"
    }
   ],
   "source": [
    "cluster_profile = df.groupby(\"K_means_segments\").count()\n",
    "cluster_profile"
   ]
  },
  {
   "cell_type": "code",
   "execution_count": 53,
   "metadata": {},
   "outputs": [
    {
     "data": {
      "application/javascript": [
       "\n",
       "            setTimeout(function() {\n",
       "                var nbb_cell_id = 53;\n",
       "                var nbb_unformatted_code = \"cluster_profile[\\\"count_in_each_segment\\\"] = (\\n    df.groupby(\\\"K_means_segments\\\")[\\\"Protein\\\"].count().values\\n)\";\n",
       "                var nbb_formatted_code = \"cluster_profile[\\\"count_in_each_segment\\\"] = (\\n    df.groupby(\\\"K_means_segments\\\")[\\\"Protein\\\"].count().values\\n)\";\n",
       "                var nbb_cells = Jupyter.notebook.get_cells();\n",
       "                for (var i = 0; i < nbb_cells.length; ++i) {\n",
       "                    if (nbb_cells[i].input_prompt_number == nbb_cell_id) {\n",
       "                        if (nbb_cells[i].get_text() == nbb_unformatted_code) {\n",
       "                             nbb_cells[i].set_text(nbb_formatted_code);\n",
       "                        }\n",
       "                        break;\n",
       "                    }\n",
       "                }\n",
       "            }, 500);\n",
       "            "
      ],
      "text/plain": [
       "<IPython.core.display.Javascript object>"
      ]
     },
     "metadata": {},
     "output_type": "display_data"
    }
   ],
   "source": [
    "cluster_profile[\"count_in_each_segment\"] = (\n",
    "    df.groupby(\"K_means_segments\")[\"Protein\"].count().values\n",
    ")"
   ]
  },
  {
   "cell_type": "code",
   "execution_count": 54,
   "metadata": {},
   "outputs": [
    {
     "data": {
      "text/html": [
       "<style type=\"text/css\">\n",
       "#T_74788_row1_col0, #T_74788_row1_col1, #T_74788_row3_col4, #T_74788_row4_col2, #T_74788_row4_col3 {\n",
       "  background-color: lightgreen;\n",
       "}\n",
       "</style>\n",
       "<table id=\"T_74788\">\n",
       "  <thead>\n",
       "    <tr>\n",
       "      <th class=\"blank level0\" >&nbsp;</th>\n",
       "      <th id=\"T_74788_level0_col0\" class=\"col_heading level0 col0\" >Protein</th>\n",
       "      <th id=\"T_74788_level0_col1\" class=\"col_heading level0 col1\" >Fat</th>\n",
       "      <th id=\"T_74788_level0_col2\" class=\"col_heading level0 col2\" >vitaminC</th>\n",
       "      <th id=\"T_74788_level0_col3\" class=\"col_heading level0 col3\" >Fiber</th>\n",
       "      <th id=\"T_74788_level0_col4\" class=\"col_heading level0 col4\" >count_in_each_segment</th>\n",
       "    </tr>\n",
       "    <tr>\n",
       "      <th class=\"index_name level0\" >K_means_segments</th>\n",
       "      <th class=\"blank col0\" >&nbsp;</th>\n",
       "      <th class=\"blank col1\" >&nbsp;</th>\n",
       "      <th class=\"blank col2\" >&nbsp;</th>\n",
       "      <th class=\"blank col3\" >&nbsp;</th>\n",
       "      <th class=\"blank col4\" >&nbsp;</th>\n",
       "    </tr>\n",
       "  </thead>\n",
       "  <tbody>\n",
       "    <tr>\n",
       "      <th id=\"T_74788_level0_row0\" class=\"row_heading level0 row0\" >0</th>\n",
       "      <td id=\"T_74788_row0_col0\" class=\"data row0 col0\" >-0.414964</td>\n",
       "      <td id=\"T_74788_row0_col1\" class=\"data row0 col1\" >-0.182303</td>\n",
       "      <td id=\"T_74788_row0_col2\" class=\"data row0 col2\" >-0.470780</td>\n",
       "      <td id=\"T_74788_row0_col3\" class=\"data row0 col3\" >0.866399</td>\n",
       "      <td id=\"T_74788_row0_col4\" class=\"data row0 col4\" >314</td>\n",
       "    </tr>\n",
       "    <tr>\n",
       "      <th id=\"T_74788_level0_row1\" class=\"row_heading level0 row1\" >1</th>\n",
       "      <td id=\"T_74788_row1_col0\" class=\"data row1 col0\" >1.170674</td>\n",
       "      <td id=\"T_74788_row1_col1\" class=\"data row1 col1\" >1.622272</td>\n",
       "      <td id=\"T_74788_row1_col2\" class=\"data row1 col2\" >0.163715</td>\n",
       "      <td id=\"T_74788_row1_col3\" class=\"data row1 col3\" >0.324415</td>\n",
       "      <td id=\"T_74788_row1_col4\" class=\"data row1 col4\" >242</td>\n",
       "    </tr>\n",
       "    <tr>\n",
       "      <th id=\"T_74788_level0_row2\" class=\"row_heading level0 row2\" >2</th>\n",
       "      <td id=\"T_74788_row2_col0\" class=\"data row2 col0\" >0.778644</td>\n",
       "      <td id=\"T_74788_row2_col1\" class=\"data row2 col1\" >0.156083</td>\n",
       "      <td id=\"T_74788_row2_col2\" class=\"data row2 col2\" >-0.404896</td>\n",
       "      <td id=\"T_74788_row2_col3\" class=\"data row2 col3\" >-0.623158</td>\n",
       "      <td id=\"T_74788_row2_col4\" class=\"data row2 col4\" >355</td>\n",
       "    </tr>\n",
       "    <tr>\n",
       "      <th id=\"T_74788_level0_row3\" class=\"row_heading level0 row3\" >3</th>\n",
       "      <td id=\"T_74788_row3_col0\" class=\"data row3 col0\" >-0.688157</td>\n",
       "      <td id=\"T_74788_row3_col1\" class=\"data row3 col1\" >-0.610013</td>\n",
       "      <td id=\"T_74788_row3_col2\" class=\"data row3 col2\" >-0.393391</td>\n",
       "      <td id=\"T_74788_row3_col3\" class=\"data row3 col3\" >-0.735299</td>\n",
       "      <td id=\"T_74788_row3_col4\" class=\"data row3 col4\" >534</td>\n",
       "    </tr>\n",
       "    <tr>\n",
       "      <th id=\"T_74788_level0_row4\" class=\"row_heading level0 row4\" >4</th>\n",
       "      <td id=\"T_74788_row4_col0\" class=\"data row4 col0\" >-0.205805</td>\n",
       "      <td id=\"T_74788_row4_col1\" class=\"data row4 col1\" >-0.215977</td>\n",
       "      <td id=\"T_74788_row4_col2\" class=\"data row4 col2\" >1.534934</td>\n",
       "      <td id=\"T_74788_row4_col3\" class=\"data row4 col3\" >0.874794</td>\n",
       "      <td id=\"T_74788_row4_col4\" class=\"data row4 col4\" >301</td>\n",
       "    </tr>\n",
       "  </tbody>\n",
       "</table>\n"
      ],
      "text/plain": [
       "<pandas.io.formats.style.Styler at 0x7f1fa72cb190>"
      ]
     },
     "execution_count": 54,
     "metadata": {},
     "output_type": "execute_result"
    },
    {
     "data": {
      "application/javascript": [
       "\n",
       "            setTimeout(function() {\n",
       "                var nbb_cell_id = 54;\n",
       "                var nbb_unformatted_code = \"# let's display cluster profiles\\ncluster_profile.style.highlight_max(color=\\\"lightgreen\\\", axis=0)\";\n",
       "                var nbb_formatted_code = \"# let's display cluster profiles\\ncluster_profile.style.highlight_max(color=\\\"lightgreen\\\", axis=0)\";\n",
       "                var nbb_cells = Jupyter.notebook.get_cells();\n",
       "                for (var i = 0; i < nbb_cells.length; ++i) {\n",
       "                    if (nbb_cells[i].input_prompt_number == nbb_cell_id) {\n",
       "                        if (nbb_cells[i].get_text() == nbb_unformatted_code) {\n",
       "                             nbb_cells[i].set_text(nbb_formatted_code);\n",
       "                        }\n",
       "                        break;\n",
       "                    }\n",
       "                }\n",
       "            }, 500);\n",
       "            "
      ],
      "text/plain": [
       "<IPython.core.display.Javascript object>"
      ]
     },
     "metadata": {},
     "output_type": "display_data"
    }
   ],
   "source": [
    "# let's display cluster profiles\n",
    "cluster_profile.style.highlight_max(color=\"lightgreen\", axis=0)"
   ]
  },
  {
   "cell_type": "code",
   "execution_count": 56,
   "metadata": {},
   "outputs": [
    {
     "data": {
      "image/png": "[encoded data removed]",
      "text/plain": [
       "<Figure size 1152x432 with 5 Axes>"
      ]
     },
     "metadata": {},
     "output_type": "display_data"
    },
    {
     "data": {
      "application/javascript": [
       "\n",
       "            setTimeout(function() {\n",
       "                var nbb_cell_id = 56;\n",
       "                var nbb_unformatted_code = \"fig, axes = plt.subplots(1, 5, figsize=(16, 6))\\nfig.suptitle(\\\"Boxplot of numerical variables for each cluster\\\")\\ncounter = 0\\nfor ii in range(len(num_col)):\\n    sns.boxplot(ax=axes[ii], y=df[num_col[counter]], x=df[\\\"K_means_segments\\\"])\\n    counter = counter + 1\\n\\nfig.tight_layout(pad=2.0)\";\n",
       "                var nbb_formatted_code = \"fig, axes = plt.subplots(1, 5, figsize=(16, 6))\\nfig.suptitle(\\\"Boxplot of numerical variables for each cluster\\\")\\ncounter = 0\\nfor ii in range(len(num_col)):\\n    sns.boxplot(ax=axes[ii], y=df[num_col[counter]], x=df[\\\"K_means_segments\\\"])\\n    counter = counter + 1\\n\\nfig.tight_layout(pad=2.0)\";\n",
       "                var nbb_cells = Jupyter.notebook.get_cells();\n",
       "                for (var i = 0; i < nbb_cells.length; ++i) {\n",
       "                    if (nbb_cells[i].input_prompt_number == nbb_cell_id) {\n",
       "                        if (nbb_cells[i].get_text() == nbb_unformatted_code) {\n",
       "                             nbb_cells[i].set_text(nbb_formatted_code);\n",
       "                        }\n",
       "                        break;\n",
       "                    }\n",
       "                }\n",
       "            }, 500);\n",
       "            "
      ],
      "text/plain": [
       "<IPython.core.display.Javascript object>"
      ]
     },
     "metadata": {},
     "output_type": "display_data"
    }
   ],
   "source": [
    "fig, axes = plt.subplots(1, 5, figsize=(16, 6))\n",
    "fig.suptitle(\"Boxplot of numerical variables for each cluster\")\n",
    "counter = 0\n",
    "for ii in range(len(num_col)):\n",
    "    sns.boxplot(ax=axes[ii], y=df[num_col[counter]], x=df[\"K_means_segments\"])\n",
    "    counter = counter + 1\n",
    "\n",
    "fig.tight_layout(pad=2.0)"
   ]
  },
  {
   "cell_type": "code",
   "execution_count": 57,
   "metadata": {},
   "outputs": [
    {
     "data": {
      "text/plain": [
       "<AxesSubplot:xlabel='K_means_segments'>"
      ]
     },
     "execution_count": 57,
     "metadata": {},
     "output_type": "execute_result"
    },
    {
     "data": {
      "image/png": "[encoded data removed]",
      "text/plain": [
       "<Figure size 1080x432 with 1 Axes>"
      ]
     },
     "metadata": {},
     "output_type": "display_data"
    },
    {
     "data": {
      "application/javascript": [
       "\n",
       "            setTimeout(function() {\n",
       "                var nbb_cell_id = 57;\n",
       "                var nbb_unformatted_code = \"df.groupby(\\\"K_means_segments\\\").mean().plot.bar(figsize=(15, 6))\";\n",
       "                var nbb_formatted_code = \"df.groupby(\\\"K_means_segments\\\").mean().plot.bar(figsize=(15, 6))\";\n",
       "                var nbb_cells = Jupyter.notebook.get_cells();\n",
       "                for (var i = 0; i < nbb_cells.length; ++i) {\n",
       "                    if (nbb_cells[i].input_prompt_number == nbb_cell_id) {\n",
       "                        if (nbb_cells[i].get_text() == nbb_unformatted_code) {\n",
       "                             nbb_cells[i].set_text(nbb_formatted_code);\n",
       "                        }\n",
       "                        break;\n",
       "                    }\n",
       "                }\n",
       "            }, 500);\n",
       "            "
      ],
      "text/plain": [
       "<IPython.core.display.Javascript object>"
      ]
     },
     "metadata": {},
     "output_type": "display_data"
    }
   ],
   "source": [
    "df.groupby(\"K_means_segments\").mean().plot.bar(figsize=(15, 6))"
   ]
  },
  {
   "cell_type": "markdown",
   "metadata": {},
   "source": [
    "### Insights\n",
    "\n",
    "- **Cluster 0**:\n",
    "    - Teaching ratings are moderate.\n",
    "    - Fees range from high to very high for colleges in this cluster.\n",
    "    - Placements ratings are moderate to high, with a few lows and very highs.\n",
    "    - Internship ratings are low to moderate.\n",
    "    - Infrastructure ratings are moderate to high, with a few very highs.\n",
    "\n",
    "\n",
    "- **Cluster 1**:\n",
    "    - Teaching ratings are moderate to high.\n",
    "    - Fees are high for colleges in this cluster.\n",
    "    - Placements ratings are moderate to very high.\n",
    "    - Internship ratings are high.\n",
    "    - Infrastructure ratings are high to very high.\n",
    "\n",
    "\n",
    "- **Cluster 2**:\n",
    "    - Teaching ratings are low to moderate.\n",
    "    - Fees range from low to moderate for most colleges in this cluster.\n",
    "    - Placements ratings are on the lower side.\n",
    "    - Internship ratings are low.\n",
    "    - Infrastructure ratings are very low to moderate.\n",
    "\n",
    "\n",
    "- **Cluster 3**:\n",
    "    - Teaching ratings are high.\n",
    "    - Fees are low for colleges in this cluster.\n",
    "    - Placements ratings are very high.\n",
    "    - Internship ratings are very high.\n",
    "    - Infrastructure ratings are moderate.\n",
    "\n",
    "\n",
    "- **Cluster 4**:\n",
    "    - Teaching ratings are very low.\n",
    "    - Fees are very low for colleges in this cluster.\n",
    "    - Placements ratings are very low.\n",
    "    - Internship ratings are very low to low.\n",
    "    - Infrastructure ratings are very high."
   ]
  },
  {
   "cell_type": "markdown",
   "metadata": {},
   "source": [
    "### Business Recommendations\n",
    "\n",
    "- **Cluster 3**: These are the Tier 1 Colleges and have excellent teaching, placements & internships while maintaining a moderate infrastructure and low fees. **Corporates looking for the best candidates can approach this cluster for placements and internships.**\n",
    "\n",
    "\n",
    "- **Cluster 1**: These are the Tier 2 Colleges which are just behind the Tier 1 colleges in terms of teaching and placements, but provide quite better infrastructure and are accordingly more expensive. **They have scope for improvements in teaching, placements, and internships, and should consider tie-ups with corporates and ed-tech and training organizations. Companies providing training programs to faculty and students should approach them.**\n",
    "\n",
    "\n",
    "- **Cluster 0**: These are the Tier 3 colleges which have very high fees and very good infrastructure, but do not offer proper value-for-money in terms of teaching and internships. **This cluster of colleges will need to concentrate more towards onboarding better faculty and securing tie-ups with corporates to improve placement opportunities.**\n",
    "\n",
    "\n",
    "- **Cluster 2** and **Cluster 4**: These are the poor performing colleges or new colleges. **These colleges will need to concentrate more on marketing and advertisements about their offerings to create awareness and attract students.**"
   ]
  }
 ],
 "metadata": {
  "hide_input": false,
  "kernelspec": {
   "display_name": "Python 3 (ipykernel)",
   "language": "python",
   "name": "python3"
  },
  "language_info": {
   "codemirror_mode": {
    "name": "ipython",
    "version": 3
   },
   "file_extension": ".py",
   "mimetype": "text/x-python",
   "name": "python",
   "nbconvert_exporter": "python",
   "pygments_lexer": "ipython3",
   "version": "3.9.7"
  }
 },
 "nbformat": 4,
 "nbformat_minor": 2
}
